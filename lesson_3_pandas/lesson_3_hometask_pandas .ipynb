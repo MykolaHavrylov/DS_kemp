{
 "cells": [
  {
   "cell_type": "code",
   "execution_count": null,
   "source": [],
   "outputs": [],
   "metadata": {}
  },
  {
   "cell_type": "markdown",
   "source": [
    "# Home task: pandas \r\n",
    "\r\n",
    "## Question 1\r\n",
    "\r\n",
    "- Load the energy data from the file [Energy Indicators.xls](http://unstats.un.org/unsd/environment/excel_file_tables/2013/Energy%20Indicators.xls).\r\n",
    "It is a list of indicators of energy supply and renewable electricity production from the United Nations for the year 2013.\r\n",
    "\r\n",
    "\r\n",
    "- It should be put into a DataFrame with the variable name of \"energy\"\r\n",
    "\r\n",
    "\r\n",
    "- Make sure to exclude the footer and header information from the datafile.\r\n",
    "\r\n",
    "\r\n",
    "- The first two columns are unneccessary, so you should get rid of them, and you should change the column labels so that the columns are:<br>\r\n",
    "`['Country', 'Energy Supply', 'Energy Supply per Capita', '% Renewable']`\r\n",
    "\r\n",
    "\r\n",
    "- Convert `Energy Supply` to gigajoules (there are 1,000,000 gigajoules in a petajoule).\r\n",
    "\r\n",
    "\r\n",
    "- For all countries which have missing data (e.g. data with `...`) make sure this is reflected as `np.NaN` values.\r\n",
    "\r\n",
    "\r\n",
    "- Rename the following list of countries (for use in later questions):\r\n",
    "    - `Republic of Korea`: `South Korea`,\r\n",
    "    - `United States of America`: `United States`,\r\n",
    "    - `United Kingdom of Great Britain and Northern Ireland`: `United Kingdom`,\r\n",
    "    - `China, Hong Kong Special Administrative Region`: `Hong Kong`\r\n",
    "\r\n",
    "\r\n",
    "- There are also several countries with numbers and/or parenthesis in their name. Be sure to remove these, e.g.:\r\n",
    "    - `Bolivia (Plurinational State of)` should be `Bolivia`,\r\n",
    "    - `Switzerland17` should be `Switzerland`.\r\n",
    "\r\n",
    "\r\n",
    "- Next, load the GDP data from the file [\"world_bank.csv\"](http://data.worldbank.org/indicator/NY.GDP.MKTP.CD). \r\n",
    "It is a csv containing countries' GDP from 1960 to 2015 from World Bank. Call this DataFrame \"GDP\"\r\n",
    "\r\n",
    "\r\n",
    "- Make sure to skip the header, and rename the following list of countries:\r\n",
    "    - `Korea, Rep.`: `South Korea`,\r\n",
    "    - `Iran, Islamic Rep.`: `Iran`,\r\n",
    "    - `Hong Kong SAR, China`: `Hong Kong`\r\n",
    "\r\n",
    "\r\n",
    "- Finally, load the \"Sciamgo Journal and Country Rank data for [Energy Engineering and Power Technology\"](http://www.scimagojr.com/countryrank.php?category=2102). It ranks countries based on their journal contributions in the aforementioned area. Call this DataFrame \"ScimEn\"\r\n",
    "\r\n",
    "\r\n",
    "- Join the three datasets: Energy, GDP, and ScimEn into a new dataset (using the intersection of country names). Use only the 10 years (2006-2015) of GDP data and only the top 15 countries by Scimagojr 'Rank' (Rank 1 through 15).\r\n",
    "\r\n",
    "\r\n",
    "- The index of this DataFrame should be the name of the country, and the columns should be<br>\r\n",
    "`['Rank', 'Documents', 'Citable documents', 'Citations', 'Self-citations', 'Citations per document', 'H index', 'Energy Supply', 'Energy Supply per Capita', '% Renewable', '2006', '2007', '2008', '2009', '2010', '2011', 2012', '2013', '2014', '2015']`\r\n",
    "\r\n",
    "Function \"answer_one\" should return the resulted DataFrame (20 columns and 15 entries)"
   ],
   "metadata": {},
   "attachments": {}
  },
  {
   "cell_type": "markdown",
   "source": [
    "## Import all necessary packages"
   ],
   "metadata": {}
  },
  {
   "cell_type": "code",
   "execution_count": 34,
   "source": [
    "%load_ext blackcellmagic\r\n",
    "import pandas as pd\r\n",
    "import numpy as np"
   ],
   "outputs": [
    {
     "output_type": "stream",
     "name": "stdout",
     "text": [
      "The blackcellmagic extension is already loaded. To reload it, use:\n",
      "  %reload_ext blackcellmagic\n"
     ]
    },
    {
     "output_type": "display_data",
     "data": {
      "text/plain": [
       "<IPython.core.display.Javascript object>"
      ],
      "application/javascript": "\n            setTimeout(function() {\n                var nbb_cell_id = 34;\n                var nbb_unformatted_code = \"%load_ext blackcellmagic\\r\\nimport pandas as pd\\r\\nimport numpy as np\";\n                var nbb_formatted_code = \"%load_ext blackcellmagic\\nimport pandas as pd\\nimport numpy as np\";\n                var nbb_cells = Jupyter.notebook.get_cells();\n                for (var i = 0; i < nbb_cells.length; ++i) {\n                    if (nbb_cells[i].input_prompt_number == nbb_cell_id) {\n                        if (nbb_cells[i].get_text() == nbb_unformatted_code) {\n                             nbb_cells[i].set_text(nbb_formatted_code);\n                        }\n                        break;\n                    }\n                }\n            }, 500);\n            "
     },
     "metadata": {}
    }
   ],
   "metadata": {}
  },
  {
   "cell_type": "markdown",
   "source": [
    "## Modifying data"
   ],
   "metadata": {}
  },
  {
   "cell_type": "markdown",
   "source": [
    "### Drop useless stuff, rename column names"
   ],
   "metadata": {}
  },
  {
   "cell_type": "code",
   "execution_count": 35,
   "source": [
    "# read Excel with all data and drop some useless data\r\n",
    "energy_df = (\r\n",
    "    pd.read_excel(\"Energy Indicators.xls\", skiprows=16, skipfooter=38)\r\n",
    "    .drop([\"Unnamed: 0\", \"Unnamed: 1\"], axis=1).drop(0)\r\n",
    ")\r\n",
    "\r\n",
    "# rename [Unnamed: 2] -> [Country], [Renewable Electricity Production] -> [% Renewable]\r\n",
    "energy_df = energy_df.rename(\r\n",
    "    columns={\"Unnamed: 2\": \"Country\", \"Renewable Electricity Production\": \"% Renewable\"}\r\n",
    ")\r\n",
    "\r\n",
    "energy_df.head(5)"
   ],
   "outputs": [
    {
     "output_type": "execute_result",
     "data": {
      "text/plain": [
       "          Country Energy Supply Energy Supply per capita % Renewable\n",
       "1     Afghanistan           321                       10    78.66928\n",
       "2         Albania           102                       35         100\n",
       "3         Algeria          1959                       51     0.55101\n",
       "4  American Samoa           ...                      ...    0.641026\n",
       "5         Andorra             9                      121    88.69565"
      ],
      "text/html": [
       "<div>\n",
       "<style scoped>\n",
       "    .dataframe tbody tr th:only-of-type {\n",
       "        vertical-align: middle;\n",
       "    }\n",
       "\n",
       "    .dataframe tbody tr th {\n",
       "        vertical-align: top;\n",
       "    }\n",
       "\n",
       "    .dataframe thead th {\n",
       "        text-align: right;\n",
       "    }\n",
       "</style>\n",
       "<table border=\"1\" class=\"dataframe\">\n",
       "  <thead>\n",
       "    <tr style=\"text-align: right;\">\n",
       "      <th></th>\n",
       "      <th>Country</th>\n",
       "      <th>Energy Supply</th>\n",
       "      <th>Energy Supply per capita</th>\n",
       "      <th>% Renewable</th>\n",
       "    </tr>\n",
       "  </thead>\n",
       "  <tbody>\n",
       "    <tr>\n",
       "      <th>1</th>\n",
       "      <td>Afghanistan</td>\n",
       "      <td>321</td>\n",
       "      <td>10</td>\n",
       "      <td>78.66928</td>\n",
       "    </tr>\n",
       "    <tr>\n",
       "      <th>2</th>\n",
       "      <td>Albania</td>\n",
       "      <td>102</td>\n",
       "      <td>35</td>\n",
       "      <td>100</td>\n",
       "    </tr>\n",
       "    <tr>\n",
       "      <th>3</th>\n",
       "      <td>Algeria</td>\n",
       "      <td>1959</td>\n",
       "      <td>51</td>\n",
       "      <td>0.55101</td>\n",
       "    </tr>\n",
       "    <tr>\n",
       "      <th>4</th>\n",
       "      <td>American Samoa</td>\n",
       "      <td>...</td>\n",
       "      <td>...</td>\n",
       "      <td>0.641026</td>\n",
       "    </tr>\n",
       "    <tr>\n",
       "      <th>5</th>\n",
       "      <td>Andorra</td>\n",
       "      <td>9</td>\n",
       "      <td>121</td>\n",
       "      <td>88.69565</td>\n",
       "    </tr>\n",
       "  </tbody>\n",
       "</table>\n",
       "</div>"
      ]
     },
     "metadata": {},
     "execution_count": 35
    },
    {
     "output_type": "display_data",
     "data": {
      "text/plain": [
       "<IPython.core.display.Javascript object>"
      ],
      "application/javascript": "\n            setTimeout(function() {\n                var nbb_cell_id = 35;\n                var nbb_unformatted_code = \"# read Excel with all data and drop some useless data\\r\\nenergy_df = (\\r\\n    pd.read_excel(\\\"Energy Indicators.xls\\\", skiprows=16, skipfooter=38)\\r\\n    .drop([\\\"Unnamed: 0\\\", \\\"Unnamed: 1\\\"], axis=1).drop(0)\\r\\n)\\r\\n\\r\\n# rename [Unnamed: 2] -> [Country], [Renewable Electricity Production] -> [% Renewable]\\r\\nenergy_df = energy_df.rename(\\r\\n    columns={\\\"Unnamed: 2\\\": \\\"Country\\\", \\\"Renewable Electricity Production\\\": \\\"% Renewable\\\"}\\r\\n)\\r\\n\\r\\nenergy_df.head(5)\";\n                var nbb_formatted_code = \"# read Excel with all data and drop some useless data\\nenergy_df = (\\n    pd.read_excel(\\\"Energy Indicators.xls\\\", skiprows=16, skipfooter=38)\\n    .drop([\\\"Unnamed: 0\\\", \\\"Unnamed: 1\\\"], axis=1)\\n    .drop(0)\\n)\\n\\n# rename [Unnamed: 2] -> [Country], [Renewable Electricity Production] -> [% Renewable]\\nenergy_df = energy_df.rename(\\n    columns={\\\"Unnamed: 2\\\": \\\"Country\\\", \\\"Renewable Electricity Production\\\": \\\"% Renewable\\\"}\\n)\\n\\nenergy_df.head(5)\";\n                var nbb_cells = Jupyter.notebook.get_cells();\n                for (var i = 0; i < nbb_cells.length; ++i) {\n                    if (nbb_cells[i].input_prompt_number == nbb_cell_id) {\n                        if (nbb_cells[i].get_text() == nbb_unformatted_code) {\n                             nbb_cells[i].set_text(nbb_formatted_code);\n                        }\n                        break;\n                    }\n                }\n            }, 500);\n            "
     },
     "metadata": {}
    }
   ],
   "metadata": {}
  },
  {
   "cell_type": "markdown",
   "source": [
    "### Replace missing data (e.g. data with `...`) with `np.NaN` values."
   ],
   "metadata": {}
  },
  {
   "cell_type": "code",
   "execution_count": 36,
   "source": [
    "cols = list(energy_df.columns)[1:]\r\n",
    "\r\n",
    "# First method\r\n",
    "# energy_df[cols] = energy_df[cols].apply(lambda x: [item if isinstance(item, (int, float)) else np.NaN for item in x.values])\r\n",
    "\r\n",
    "# Second method\r\n",
    "# mask = df[cols].applymap(lambda x: isinstance(x, (int, float)))\r\n",
    "# df[cols] = df[cols].where(mask)\r\n",
    "\r\n",
    "# Third method\r\n",
    "energy_df[cols] = energy_df[cols].applymap(\r\n",
    "    lambda x: x if isinstance(x, (int, float)) else np.NaN\r\n",
    ")\r\n",
    "\r\n",
    "print(energy_df.head(5))\r\n",
    "\r\n",
    "energy_df.dtypes"
   ],
   "outputs": [
    {
     "output_type": "stream",
     "name": "stdout",
     "text": [
      "          Country  Energy Supply  Energy Supply per capita  % Renewable\n",
      "1     Afghanistan          321.0                      10.0    78.669280\n",
      "2         Albania          102.0                      35.0   100.000000\n",
      "3         Algeria         1959.0                      51.0     0.551010\n",
      "4  American Samoa            NaN                       NaN     0.641026\n",
      "5         Andorra            9.0                     121.0    88.695650\n"
     ]
    },
    {
     "output_type": "execute_result",
     "data": {
      "text/plain": [
       "Country                      object\n",
       "Energy Supply               float64\n",
       "Energy Supply per capita    float64\n",
       "% Renewable                 float64\n",
       "dtype: object"
      ]
     },
     "metadata": {},
     "execution_count": 36
    },
    {
     "output_type": "display_data",
     "data": {
      "text/plain": [
       "<IPython.core.display.Javascript object>"
      ],
      "application/javascript": "\n            setTimeout(function() {\n                var nbb_cell_id = 36;\n                var nbb_unformatted_code = \"cols = list(energy_df.columns)[1:]\\r\\n\\r\\n# First method\\r\\n# energy_df[cols] = energy_df[cols].apply(lambda x: [item if isinstance(item, (int, float)) else np.NaN for item in x.values])\\r\\n\\r\\n# Second method\\r\\n# mask = df[cols].applymap(lambda x: isinstance(x, (int, float)))\\r\\n# df[cols] = df[cols].where(mask)\\r\\n\\r\\n# Third method\\r\\nenergy_df[cols] = energy_df[cols].applymap(\\r\\n    lambda x: x if isinstance(x, (int, float)) else np.NaN\\r\\n)\\r\\n\\r\\nprint(energy_df.head(5))\\r\\n\\r\\nenergy_df.dtypes\";\n                var nbb_formatted_code = \"cols = list(energy_df.columns)[1:]\\n\\n# First method\\n# energy_df[cols] = energy_df[cols].apply(lambda x: [item if isinstance(item, (int, float)) else np.NaN for item in x.values])\\n\\n# Second method\\n# mask = df[cols].applymap(lambda x: isinstance(x, (int, float)))\\n# df[cols] = df[cols].where(mask)\\n\\n# Third method\\nenergy_df[cols] = energy_df[cols].applymap(\\n    lambda x: x if isinstance(x, (int, float)) else np.NaN\\n)\\n\\nprint(energy_df.head(5))\\n\\nenergy_df.dtypes\";\n                var nbb_cells = Jupyter.notebook.get_cells();\n                for (var i = 0; i < nbb_cells.length; ++i) {\n                    if (nbb_cells[i].input_prompt_number == nbb_cell_id) {\n                        if (nbb_cells[i].get_text() == nbb_unformatted_code) {\n                             nbb_cells[i].set_text(nbb_formatted_code);\n                        }\n                        break;\n                    }\n                }\n            }, 500);\n            "
     },
     "metadata": {}
    }
   ],
   "metadata": {}
  },
  {
   "cell_type": "markdown",
   "source": [
    "### Convert `Energy Supply` to gigajoules (there are 1,000,000 gigajoules in a petajoule)."
   ],
   "metadata": {}
  },
  {
   "cell_type": "code",
   "execution_count": 51,
   "source": [
    "# Converting\r\n",
    "energy_df[\"Energy Supply\"] = energy_df[\"Energy Supply\"] * 1_000_000\r\n",
    "\r\n",
    "energy_df.head(5)"
   ],
   "outputs": [
    {
     "output_type": "display_data",
     "data": {
      "text/plain": [
       "<IPython.core.display.Javascript object>"
      ],
      "application/javascript": "\n            setTimeout(function() {\n                var nbb_cell_id = 51;\n                var nbb_unformatted_code = \"%%black\\r\\n# Converting\\r\\nenergy_df['Energy Supply'] = energy_df['Energy Supply']*1_000_000\\r\\n\\r\\nenergy_df.head(5)\";\n                var nbb_formatted_code = \"%%black\\r\\n# Converting\\r\\nenergy_df['Energy Supply'] = energy_df['Energy Supply']*1_000_000\\r\\n\\r\\nenergy_df.head(5)\";\n                var nbb_cells = Jupyter.notebook.get_cells();\n                for (var i = 0; i < nbb_cells.length; ++i) {\n                    if (nbb_cells[i].input_prompt_number == nbb_cell_id) {\n                        if (nbb_cells[i].get_text() == nbb_unformatted_code) {\n                             nbb_cells[i].set_text(nbb_formatted_code);\n                        }\n                        break;\n                    }\n                }\n            }, 500);\n            "
     },
     "metadata": {}
    }
   ],
   "metadata": {}
  },
  {
   "cell_type": "markdown",
   "source": [
    "### Rename the following list of countries (for use in later questions):\r\n",
    "    - `Republic of Korea`: `South Korea`,\r\n",
    "    - `United States of America`: `United States`,\r\n",
    "    - `United Kingdom of Great Britain and Northern Ireland`: `United Kingdom`,\r\n",
    "    - `China, Hong Kong Special Administrative Region`: `Hong Kong`"
   ],
   "metadata": {}
  },
  {
   "cell_type": "code",
   "execution_count": 52,
   "source": [
    "rep_dict = {\r\n",
    "    \"Country\": {\r\n",
    "        \"Republic of Korea\": \"South Korea\",\r\n",
    "        \"United States of America\\d+\": \"United States\",\r\n",
    "        \"United Kingdom of Great Britain and Northern Ireland\\d+\": \"United Kingdom\",\r\n",
    "        \"China, Hong Kong Special Administrative Region\\d+\": \"Hong Kong\",\r\n",
    "    }\r\n",
    "}\r\n",
    "\r\n",
    "energy_df = energy_df.replace(rep_dict, regex=True)\r\n",
    "\r\n",
    "# check if replace was successful\r\n",
    "[\r\n",
    "    energy_df.loc[energy_df[\"Country\"] == country]\r\n",
    "    for country in [\"Hong Kong\", \"South Korea\", \"United States\", \"United Kingdom\"]\r\n",
    "]"
   ],
   "outputs": [
    {
     "output_type": "display_data",
     "data": {
      "text/plain": [
       "<IPython.core.display.Javascript object>"
      ],
      "application/javascript": "\n            setTimeout(function() {\n                var nbb_cell_id = 52;\n                var nbb_unformatted_code = \"%%black\\r\\nrep_dict = { 'Country': {'Republic of Korea': 'South Korea',\\r\\n                         'United States of America\\\\d+': 'United States',\\r\\n                         'United Kingdom of Great Britain and Northern Ireland\\\\d+': 'United Kingdom',\\r\\n                         'China, Hong Kong Special Administrative Region\\\\d+': 'Hong Kong'}}\\r\\n\\r\\nenergy_df = energy_df.replace(rep_dict, regex=True)\\r\\n\\r\\n# check if replace was successful\\r\\n[energy_df.loc[energy_df['Country'] == country] for country in ['Hong Kong', 'South Korea', 'United States', 'United Kingdom']]\\r\\n\\r\\n\\r\\n    \";\n                var nbb_formatted_code = \"%%black\\r\\nrep_dict = { 'Country': {'Republic of Korea': 'South Korea',\\r\\n                         'United States of America\\\\d+': 'United States',\\r\\n                         'United Kingdom of Great Britain and Northern Ireland\\\\d+': 'United Kingdom',\\r\\n                         'China, Hong Kong Special Administrative Region\\\\d+': 'Hong Kong'}}\\r\\n\\r\\nenergy_df = energy_df.replace(rep_dict, regex=True)\\r\\n\\r\\n# check if replace was successful\\r\\n[energy_df.loc[energy_df['Country'] == country] for country in ['Hong Kong', 'South Korea', 'United States', 'United Kingdom']]\";\n                var nbb_cells = Jupyter.notebook.get_cells();\n                for (var i = 0; i < nbb_cells.length; ++i) {\n                    if (nbb_cells[i].input_prompt_number == nbb_cell_id) {\n                        if (nbb_cells[i].get_text() == nbb_unformatted_code) {\n                             nbb_cells[i].set_text(nbb_formatted_code);\n                        }\n                        break;\n                    }\n                }\n            }, 500);\n            "
     },
     "metadata": {}
    }
   ],
   "metadata": {}
  },
  {
   "cell_type": "markdown",
   "source": [
    "### There are also several countries with numbers and/or parenthesis in their name. Be sure to remove these, e.g.:\r\n",
    "    - `Bolivia (Plurinational State of)` should be `Bolivia`,\r\n",
    "    - `Switzerland17` should be `Switzerland`."
   ],
   "metadata": {}
  },
  {
   "cell_type": "code",
   "execution_count": 53,
   "source": [
    "# replace:\r\n",
    "# Switzerland17 -> Switzerland\r\n",
    "# Bolivia (Plurinational State of) -> Bolivia\r\n",
    "energy_df = energy_df.replace(\r\n",
    "    {\"Country\": {r\"([A-z]+)\\d+\": r\"\\1\", r\"(\\w+) \\(.*\\)\": r\"\\1\"}}, regex=True\r\n",
    ")\r\n",
    "\r\n",
    "[\r\n",
    "    energy_df.loc[energy_df[\"Country\"] == country]\r\n",
    "    for country in [\"Switzerland\", \"Bolivia\"]\r\n",
    "]"
   ],
   "outputs": [
    {
     "output_type": "display_data",
     "data": {
      "text/plain": [
       "<IPython.core.display.Javascript object>"
      ],
      "application/javascript": "\n            setTimeout(function() {\n                var nbb_cell_id = 53;\n                var nbb_unformatted_code = \"%%black\\r\\n# replace:\\r\\n# Switzerland17 -> Switzerland\\r\\n# Bolivia (Plurinational State of) -> Bolivia\\r\\nenergy_df = energy_df.replace({ 'Country': { r'([A-z]+)\\\\d+': r'\\\\1', r'(\\\\w+) \\\\(.*\\\\)': r'\\\\1' } }, regex=True)\\r\\n\\r\\n[energy_df.loc[energy_df['Country'] == country] for country in ['Switzerland', 'Bolivia']]\";\n                var nbb_formatted_code = \"%%black\\r\\n# replace:\\r\\n# Switzerland17 -> Switzerland\\r\\n# Bolivia (Plurinational State of) -> Bolivia\\r\\nenergy_df = energy_df.replace({ 'Country': { r'([A-z]+)\\\\d+': r'\\\\1', r'(\\\\w+) \\\\(.*\\\\)': r'\\\\1' } }, regex=True)\\r\\n\\r\\n[energy_df.loc[energy_df['Country'] == country] for country in ['Switzerland', 'Bolivia']]\";\n                var nbb_cells = Jupyter.notebook.get_cells();\n                for (var i = 0; i < nbb_cells.length; ++i) {\n                    if (nbb_cells[i].input_prompt_number == nbb_cell_id) {\n                        if (nbb_cells[i].get_text() == nbb_unformatted_code) {\n                             nbb_cells[i].set_text(nbb_formatted_code);\n                        }\n                        break;\n                    }\n                }\n            }, 500);\n            "
     },
     "metadata": {}
    }
   ],
   "metadata": {}
  },
  {
   "cell_type": "markdown",
   "source": [
    "### Next, load the GDP data from the file [\"world_bank.csv\"](http://data.worldbank.org/indicator/NY.GDP.MKTP.CD).\r\n",
    "\r\n",
    "It is a csv containing countries' GDP from 1960 to 2015 from World Bank. Call this DataFrame \"GDP\"\r\n",
    "\r\n",
    "Make sure to skip the header, and rename the following list of countries:\r\n",
    "- `Korea, Rep.`: `South Korea`,\r\n",
    "- `Iran, Islamic Rep.`: `Iran`,\r\n",
    "- `Hong Kong SAR, China`: `Hong Kong`"
   ],
   "metadata": {}
  },
  {
   "cell_type": "code",
   "execution_count": 54,
   "source": [
    "GDP_df = pd.read_excel(\"world_bank.xls\", skiprows=3)\r\n",
    "\r\n",
    "GDP_df.head(2)"
   ],
   "outputs": [
    {
     "output_type": "display_data",
     "data": {
      "text/plain": [
       "<IPython.core.display.Javascript object>"
      ],
      "application/javascript": "\n            setTimeout(function() {\n                var nbb_cell_id = 54;\n                var nbb_unformatted_code = \"%%black\\r\\nGDP_df = pd.read_excel('world_bank.xls', skiprows=3)\\r\\n\\r\\nGDP_df.head(2)\";\n                var nbb_formatted_code = \"%%black\\r\\nGDP_df = pd.read_excel('world_bank.xls', skiprows=3)\\r\\n\\r\\nGDP_df.head(2)\";\n                var nbb_cells = Jupyter.notebook.get_cells();\n                for (var i = 0; i < nbb_cells.length; ++i) {\n                    if (nbb_cells[i].input_prompt_number == nbb_cell_id) {\n                        if (nbb_cells[i].get_text() == nbb_unformatted_code) {\n                             nbb_cells[i].set_text(nbb_formatted_code);\n                        }\n                        break;\n                    }\n                }\n            }, 500);\n            "
     },
     "metadata": {}
    }
   ],
   "metadata": {}
  },
  {
   "cell_type": "code",
   "execution_count": 55,
   "source": [
    "GDP_df = GDP_df.rename(columns={\"Country Name\": \"Country\"})\r\n",
    "\r\n",
    "gdp_replace = {\r\n",
    "    \"Country\": {\r\n",
    "        \"Korea, Rep.\": \"South Korea\",\r\n",
    "        \"Iran, Islamic Rep.\": \"Iran\",\r\n",
    "        \"Hong Kong SAR, China\": \"Hong Kong\",\r\n",
    "    }\r\n",
    "}\r\n",
    "\r\n",
    "GDP_df = GDP_df.replace(gdp_replace)\r\n",
    "\r\n",
    "[\r\n",
    "    GDP_df.loc[GDP_df[\"Country\"] == country]\r\n",
    "    for country in [\"South Korea\", \"Iran\", \"Hong Kong\"]\r\n",
    "]"
   ],
   "outputs": [
    {
     "output_type": "display_data",
     "data": {
      "text/plain": [
       "<IPython.core.display.Javascript object>"
      ],
      "application/javascript": "\n            setTimeout(function() {\n                var nbb_cell_id = 55;\n                var nbb_unformatted_code = \"%%black\\r\\nGDP_df = GDP_df.rename(columns={ 'Country Name': 'Country' })\\r\\n\\r\\ngdp_replace = { 'Country': { 'Korea, Rep.': 'South Korea', 'Iran, Islamic Rep.': 'Iran', 'Hong Kong SAR, China': 'Hong Kong' } }\\r\\n\\r\\nGDP_df = GDP_df.replace(gdp_replace)\\r\\n\\r\\n[GDP_df.loc[GDP_df['Country'] == country] for country in ['South Korea', 'Iran', 'Hong Kong']]\";\n                var nbb_formatted_code = \"%%black\\r\\nGDP_df = GDP_df.rename(columns={ 'Country Name': 'Country' })\\r\\n\\r\\ngdp_replace = { 'Country': { 'Korea, Rep.': 'South Korea', 'Iran, Islamic Rep.': 'Iran', 'Hong Kong SAR, China': 'Hong Kong' } }\\r\\n\\r\\nGDP_df = GDP_df.replace(gdp_replace)\\r\\n\\r\\n[GDP_df.loc[GDP_df['Country'] == country] for country in ['South Korea', 'Iran', 'Hong Kong']]\";\n                var nbb_cells = Jupyter.notebook.get_cells();\n                for (var i = 0; i < nbb_cells.length; ++i) {\n                    if (nbb_cells[i].input_prompt_number == nbb_cell_id) {\n                        if (nbb_cells[i].get_text() == nbb_unformatted_code) {\n                             nbb_cells[i].set_text(nbb_formatted_code);\n                        }\n                        break;\n                    }\n                }\n            }, 500);\n            "
     },
     "metadata": {}
    }
   ],
   "metadata": {}
  },
  {
   "cell_type": "markdown",
   "source": [
    "## Read the last dataset\r\n",
    "- Finally, load the \"Sciamgo Journal and Country Rank data for [Energy Engineering and Power Technology\"](http://www.scimagojr.com/countryrank.php?category=2102). It ranks countries based on their journal contributions in the aforementioned area. Call this DataFrame \"ScimEn\"\r\n",
    "\r\n",
    "\r\n",
    "- Join the three datasets: Energy, GDP, and ScimEn into a new dataset (using the intersection of country names). Use only the 10 years (2006-2015) of GDP data and only the top 15 countries by Scimagojr 'Rank' (Rank 1 through 15).\r\n",
    "\r\n",
    "\r\n",
    "- The index of this DataFrame should be the name of the country, and the columns should be<br>\r\n",
    "`['Rank', 'Documents', 'Citable documents', 'Citations', 'Self-citations', 'Citations per document', 'H index', 'Energy Supply', 'Energy Supply per Capita', '% Renewable', '2006', '2007', '2008', '2009', '2010', '2011', 2012', '2013', '2014', '2015']`"
   ],
   "metadata": {}
  },
  {
   "cell_type": "code",
   "execution_count": 42,
   "source": [
    "ScimEn_df = pd.read_excel('scimagojr country rank 1996-2020.xlsx')\r\n",
    "\r\n",
    "ScimEn_df.head(5)"
   ],
   "outputs": [
    {
     "output_type": "execute_result",
     "data": {
      "text/plain": [
       "   Rank         Country            Region  Documents  Citable documents  \\\n",
       "0     1           China    Asiatic Region     273437             272374   \n",
       "1     2   United States  Northern America     175891             172431   \n",
       "2     3           India    Asiatic Region      55082              53775   \n",
       "3     4           Japan    Asiatic Region      50523              50065   \n",
       "4     5  United Kingdom    Western Europe      43389              42284   \n",
       "\n",
       "   Citations  Self-citations  Citations per document  H index  \n",
       "0    2336764         1615239                    8.55      245  \n",
       "1    2230544          724472                   12.68      363  \n",
       "2     463165          162944                    8.41      181  \n",
       "3     488062          119930                    9.66      193  \n",
       "4     615670          111290                   14.19      226  "
      ],
      "text/html": [
       "<div>\n",
       "<style scoped>\n",
       "    .dataframe tbody tr th:only-of-type {\n",
       "        vertical-align: middle;\n",
       "    }\n",
       "\n",
       "    .dataframe tbody tr th {\n",
       "        vertical-align: top;\n",
       "    }\n",
       "\n",
       "    .dataframe thead th {\n",
       "        text-align: right;\n",
       "    }\n",
       "</style>\n",
       "<table border=\"1\" class=\"dataframe\">\n",
       "  <thead>\n",
       "    <tr style=\"text-align: right;\">\n",
       "      <th></th>\n",
       "      <th>Rank</th>\n",
       "      <th>Country</th>\n",
       "      <th>Region</th>\n",
       "      <th>Documents</th>\n",
       "      <th>Citable documents</th>\n",
       "      <th>Citations</th>\n",
       "      <th>Self-citations</th>\n",
       "      <th>Citations per document</th>\n",
       "      <th>H index</th>\n",
       "    </tr>\n",
       "  </thead>\n",
       "  <tbody>\n",
       "    <tr>\n",
       "      <th>0</th>\n",
       "      <td>1</td>\n",
       "      <td>China</td>\n",
       "      <td>Asiatic Region</td>\n",
       "      <td>273437</td>\n",
       "      <td>272374</td>\n",
       "      <td>2336764</td>\n",
       "      <td>1615239</td>\n",
       "      <td>8.55</td>\n",
       "      <td>245</td>\n",
       "    </tr>\n",
       "    <tr>\n",
       "      <th>1</th>\n",
       "      <td>2</td>\n",
       "      <td>United States</td>\n",
       "      <td>Northern America</td>\n",
       "      <td>175891</td>\n",
       "      <td>172431</td>\n",
       "      <td>2230544</td>\n",
       "      <td>724472</td>\n",
       "      <td>12.68</td>\n",
       "      <td>363</td>\n",
       "    </tr>\n",
       "    <tr>\n",
       "      <th>2</th>\n",
       "      <td>3</td>\n",
       "      <td>India</td>\n",
       "      <td>Asiatic Region</td>\n",
       "      <td>55082</td>\n",
       "      <td>53775</td>\n",
       "      <td>463165</td>\n",
       "      <td>162944</td>\n",
       "      <td>8.41</td>\n",
       "      <td>181</td>\n",
       "    </tr>\n",
       "    <tr>\n",
       "      <th>3</th>\n",
       "      <td>4</td>\n",
       "      <td>Japan</td>\n",
       "      <td>Asiatic Region</td>\n",
       "      <td>50523</td>\n",
       "      <td>50065</td>\n",
       "      <td>488062</td>\n",
       "      <td>119930</td>\n",
       "      <td>9.66</td>\n",
       "      <td>193</td>\n",
       "    </tr>\n",
       "    <tr>\n",
       "      <th>4</th>\n",
       "      <td>5</td>\n",
       "      <td>United Kingdom</td>\n",
       "      <td>Western Europe</td>\n",
       "      <td>43389</td>\n",
       "      <td>42284</td>\n",
       "      <td>615670</td>\n",
       "      <td>111290</td>\n",
       "      <td>14.19</td>\n",
       "      <td>226</td>\n",
       "    </tr>\n",
       "  </tbody>\n",
       "</table>\n",
       "</div>"
      ]
     },
     "metadata": {},
     "execution_count": 42
    },
    {
     "output_type": "display_data",
     "data": {
      "text/plain": [
       "<IPython.core.display.Javascript object>"
      ],
      "application/javascript": "\n            setTimeout(function() {\n                var nbb_cell_id = 42;\n                var nbb_unformatted_code = \"ScimEn_df = pd.read_excel('scimagojr country rank 1996-2020.xlsx')\\r\\n\\r\\nScimEn_df.head(5)\";\n                var nbb_formatted_code = \"ScimEn_df = pd.read_excel(\\\"scimagojr country rank 1996-2020.xlsx\\\")\\n\\nScimEn_df.head(5)\";\n                var nbb_cells = Jupyter.notebook.get_cells();\n                for (var i = 0; i < nbb_cells.length; ++i) {\n                    if (nbb_cells[i].input_prompt_number == nbb_cell_id) {\n                        if (nbb_cells[i].get_text() == nbb_unformatted_code) {\n                             nbb_cells[i].set_text(nbb_formatted_code);\n                        }\n                        break;\n                    }\n                }\n            }, 500);\n            "
     },
     "metadata": {}
    }
   ],
   "metadata": {}
  },
  {
   "cell_type": "markdown",
   "source": [
    "#### Merge all datasets"
   ],
   "metadata": {}
  },
  {
   "cell_type": "code",
   "execution_count": 56,
   "source": [
    "merged_df = (\r\n",
    "    GDP_df.merge(energy_df, on=\"Country\")\r\n",
    "    .merge(ScimEn_df, on=\"Country\")\r\n",
    "    .set_index(\"Country\")\r\n",
    ")\r\n",
    "\r\n",
    "merge_cols = [\r\n",
    "    \"Rank\",\r\n",
    "    \"Documents\",\r\n",
    "    \"Citable documents\",\r\n",
    "    \"Citations\",\r\n",
    "    \"Self-citations\",\r\n",
    "    \"Citations per document\",\r\n",
    "    \"H index\",\r\n",
    "    \"Energy Supply\",\r\n",
    "    \"Energy Supply per capita\",\r\n",
    "    \"% Renewable\",\r\n",
    "    \"2006\",\r\n",
    "    \"2007\",\r\n",
    "    \"2008\",\r\n",
    "    \"2009\",\r\n",
    "    \"2010\",\r\n",
    "    \"2011\",\r\n",
    "    \"2012\",\r\n",
    "    \"2013\",\r\n",
    "    \"2014\",\r\n",
    "    \"2015\",\r\n",
    "]\r\n",
    "\r\n",
    "# First method\r\n",
    "# merged_df = merged_df.filter(items=merge_cols)\r\n",
    "\r\n",
    "# Second method\r\n",
    "merged_df = merged_df[merge_cols].copy()\r\n",
    "\r\n",
    "merged_df = merged_df.sort_values(by=[\"Rank\"])\r\n",
    "\r\n",
    "merged_df.head(5)"
   ],
   "outputs": [
    {
     "output_type": "display_data",
     "data": {
      "text/plain": [
       "<IPython.core.display.Javascript object>"
      ],
      "application/javascript": "\n            setTimeout(function() {\n                var nbb_cell_id = 56;\n                var nbb_unformatted_code = \"%%black\\r\\nmerged_df = GDP_df.merge(energy_df, on='Country').merge(ScimEn_df, on='Country').set_index('Country')\\r\\n\\r\\nmerge_cols = ['Rank', 'Documents', 'Citable documents', 'Citations', 'Self-citations', 'Citations per document', 'H index', 'Energy Supply', 'Energy Supply per capita', '% Renewable', '2006', '2007', '2008', '2009', '2010', '2011', '2012', '2013', '2014', '2015']\\r\\n\\r\\n# First method\\r\\n# merged_df = merged_df.filter(items=merge_cols)\\r\\n\\r\\n# Second method\\r\\nmerged_df = merged_df[merge_cols].copy()\\r\\n\\r\\nmerged_df = merged_df.sort_values(by=['Rank'])\\r\\n\\r\\nmerged_df.head(5)\";\n                var nbb_formatted_code = \"%%black\\r\\nmerged_df = GDP_df.merge(energy_df, on='Country').merge(ScimEn_df, on='Country').set_index('Country')\\r\\n\\r\\nmerge_cols = ['Rank', 'Documents', 'Citable documents', 'Citations', 'Self-citations', 'Citations per document', 'H index', 'Energy Supply', 'Energy Supply per capita', '% Renewable', '2006', '2007', '2008', '2009', '2010', '2011', '2012', '2013', '2014', '2015']\\r\\n\\r\\n# First method\\r\\n# merged_df = merged_df.filter(items=merge_cols)\\r\\n\\r\\n# Second method\\r\\nmerged_df = merged_df[merge_cols].copy()\\r\\n\\r\\nmerged_df = merged_df.sort_values(by=['Rank'])\\r\\n\\r\\nmerged_df.head(5)\";\n                var nbb_cells = Jupyter.notebook.get_cells();\n                for (var i = 0; i < nbb_cells.length; ++i) {\n                    if (nbb_cells[i].input_prompt_number == nbb_cell_id) {\n                        if (nbb_cells[i].get_text() == nbb_unformatted_code) {\n                             nbb_cells[i].set_text(nbb_formatted_code);\n                        }\n                        break;\n                    }\n                }\n            }, 500);\n            "
     },
     "metadata": {}
    }
   ],
   "metadata": {}
  },
  {
   "cell_type": "markdown",
   "source": [
    "### Create function `answer_one` that returns top-15 countries by Rank"
   ],
   "metadata": {}
  },
  {
   "cell_type": "code",
   "execution_count": 59,
   "source": [
    "def answer_one(df=merged_df):\r\n",
    "    \"\"\"Returns top-15 countries by rank\"\"\"\r\n",
    "    return df.loc[df[\"Rank\"] < 16]\r\n",
    "\r\n",
    "\r\n",
    "answer_one()"
   ],
   "outputs": [
    {
     "output_type": "display_data",
     "data": {
      "text/plain": [
       "<IPython.core.display.Javascript object>"
      ],
      "application/javascript": "\n            setTimeout(function() {\n                var nbb_cell_id = 59;\n                var nbb_unformatted_code = \"%%black\\r\\ndef answer_one(df=merged_df):\\r\\n    \\\"\\\"\\\"Returns top-15 countries by rank\\\"\\\"\\\"\\r\\n    return df.loc[df[\\\"Rank\\\"] < 16]\\r\\n\\r\\n\\r\\nanswer_one()\";\n                var nbb_formatted_code = \"%%black\\r\\ndef answer_one(df=merged_df):\\r\\n    \\\"\\\"\\\"Returns top-15 countries by rank\\\"\\\"\\\"\\r\\n    return df.loc[df[\\\"Rank\\\"] < 16]\\r\\n\\r\\n\\r\\nanswer_one()\";\n                var nbb_cells = Jupyter.notebook.get_cells();\n                for (var i = 0; i < nbb_cells.length; ++i) {\n                    if (nbb_cells[i].input_prompt_number == nbb_cell_id) {\n                        if (nbb_cells[i].get_text() == nbb_unformatted_code) {\n                             nbb_cells[i].set_text(nbb_formatted_code);\n                        }\n                        break;\n                    }\n                }\n            }, 500);\n            "
     },
     "metadata": {}
    }
   ],
   "metadata": {}
  },
  {
   "cell_type": "markdown",
   "source": [
    "## Answer the following questions in the context of only the top 15 countries by Scimagojr Rank (aka the DataFrame returned by `answer_one()`)"
   ],
   "metadata": {}
  },
  {
   "cell_type": "markdown",
   "source": [
    "### Question 2\n",
    "What is the average GDP over the last 10 years for each country? (exclude missing values from this calculation.)\n",
    "\n",
    "*This function should return a Series named `avgGDP` with 15 countries and their average GDP sorted in descending order.*"
   ],
   "metadata": {}
  },
  {
   "cell_type": "code",
   "execution_count": 60,
   "source": [
    "def answer_two():\r\n",
    "    \"\"\"Calculate average GDP for top-15 countries\"\"\"\r\n",
    "    # Get top-15 values\r\n",
    "    Top15 = answer_one()\r\n",
    "\r\n",
    "    # Get only [Year] columns\r\n",
    "    avgGDP = Top15.filter(regex=\"\\d+\")\r\n",
    "\r\n",
    "    # Calculate the average GDP for each country and sort by descending\r\n",
    "    avgGDP = avgGDP.mean(axis=1).sort_values(ascending=False)\r\n",
    "\r\n",
    "    return avgGDP\r\n",
    "\r\n",
    "\r\n",
    "answer_two()"
   ],
   "outputs": [
    {
     "output_type": "display_data",
     "data": {
      "text/plain": [
       "<IPython.core.display.Javascript object>"
      ],
      "application/javascript": "\n            setTimeout(function() {\n                var nbb_cell_id = 60;\n                var nbb_unformatted_code = \"%%black\\r\\ndef answer_two():\\r\\n    \\\"\\\"\\\"Calculate average GDP for top-15 countries\\\"\\\"\\\"\\r\\n    # Get top-15 values\\r\\n    Top15 = answer_one()\\r\\n\\r\\n    # Get only [Year] columns\\r\\n    avgGDP = Top15.filter(regex=\\\"\\\\d+\\\")\\r\\n\\r\\n    # Calculate the average GDP for each country and sort by descending\\r\\n    avgGDP = avgGDP.mean(axis=1).sort_values(ascending=False)\\r\\n\\r\\n    return avgGDP\\r\\n\\r\\n\\r\\nanswer_two()\";\n                var nbb_formatted_code = \"%%black\\r\\ndef answer_two():\\r\\n    \\\"\\\"\\\"Calculate average GDP for top-15 countries\\\"\\\"\\\"\\r\\n    # Get top-15 values\\r\\n    Top15 = answer_one()\\r\\n\\r\\n    # Get only [Year] columns\\r\\n    avgGDP = Top15.filter(regex=\\\"\\\\d+\\\")\\r\\n\\r\\n    # Calculate the average GDP for each country and sort by descending\\r\\n    avgGDP = avgGDP.mean(axis=1).sort_values(ascending=False)\\r\\n\\r\\n    return avgGDP\\r\\n\\r\\n\\r\\nanswer_two()\";\n                var nbb_cells = Jupyter.notebook.get_cells();\n                for (var i = 0; i < nbb_cells.length; ++i) {\n                    if (nbb_cells[i].input_prompt_number == nbb_cell_id) {\n                        if (nbb_cells[i].get_text() == nbb_unformatted_code) {\n                             nbb_cells[i].set_text(nbb_formatted_code);\n                        }\n                        break;\n                    }\n                }\n            }, 500);\n            "
     },
     "metadata": {}
    }
   ],
   "metadata": {
    "scrolled": true
   }
  },
  {
   "cell_type": "markdown",
   "source": [
    "### Question 3\r\n",
    "By how much had the GDP changed over the 10 year span for the country with the 6th largest average GDP?\r\n",
    "\r\n",
    "*This function should return a single number.*"
   ],
   "metadata": {}
  },
  {
   "cell_type": "code",
   "execution_count": 61,
   "source": [
    "def answer_three():\r\n",
    "    \"\"\"Calculate how GDP was changed over the 10 years for 6th largst average GDP\"\"\"\r\n",
    "    # get top-15 values\r\n",
    "    Top15 = answer_one()\r\n",
    "\r\n",
    "    # columns list to get\r\n",
    "    year_list_to_get = [\"2006\", \"2015\"]\r\n",
    "\r\n",
    "    # get 6th largest average GDP\r\n",
    "    # first method\r\n",
    "    # sixth_country_gdp = Top15.filter(items=year_list_to_get, axis=1).loc['France']\r\n",
    "\r\n",
    "    # second method\r\n",
    "    sixth_country_gdp = Top15[year_list_to_get].loc[\"France\"]\r\n",
    "\r\n",
    "    return sixth_country_gdp[1] - sixth_country_gdp[0]\r\n",
    "\r\n",
    "\r\n",
    "answer_three()"
   ],
   "outputs": [
    {
     "output_type": "display_data",
     "data": {
      "text/plain": [
       "<IPython.core.display.Javascript object>"
      ],
      "application/javascript": "\n            setTimeout(function() {\n                var nbb_cell_id = 61;\n                var nbb_unformatted_code = \"%%black\\r\\ndef answer_three():\\r\\n    \\\"\\\"\\\"Calculate how GDP was changed over the 10 years for 6th largst average GDP\\r\\n    \\\"\\\"\\\"\\r\\n    # get top-15 values\\r\\n    Top15 = answer_one()\\r\\n\\r\\n    # columns list to get\\r\\n    year_list_to_get = ['2006', '2015']\\r\\n\\r\\n    # get 6th largest average GDP\\r\\n    # first method\\r\\n    # sixth_country_gdp = Top15.filter(items=year_list_to_get, axis=1).loc['France']\\r\\n\\r\\n    # second method\\r\\n    sixth_country_gdp = Top15[year_list_to_get].loc['France']\\r\\n\\r\\n    return sixth_country_gdp[1] - sixth_country_gdp[0]\\r\\n\\r\\nanswer_three()\";\n                var nbb_formatted_code = \"%%black\\r\\ndef answer_three():\\r\\n    \\\"\\\"\\\"Calculate how GDP was changed over the 10 years for 6th largst average GDP\\r\\n    \\\"\\\"\\\"\\r\\n    # get top-15 values\\r\\n    Top15 = answer_one()\\r\\n\\r\\n    # columns list to get\\r\\n    year_list_to_get = ['2006', '2015']\\r\\n\\r\\n    # get 6th largest average GDP\\r\\n    # first method\\r\\n    # sixth_country_gdp = Top15.filter(items=year_list_to_get, axis=1).loc['France']\\r\\n\\r\\n    # second method\\r\\n    sixth_country_gdp = Top15[year_list_to_get].loc['France']\\r\\n\\r\\n    return sixth_country_gdp[1] - sixth_country_gdp[0]\\r\\n\\r\\nanswer_three()\";\n                var nbb_cells = Jupyter.notebook.get_cells();\n                for (var i = 0; i < nbb_cells.length; ++i) {\n                    if (nbb_cells[i].input_prompt_number == nbb_cell_id) {\n                        if (nbb_cells[i].get_text() == nbb_unformatted_code) {\n                             nbb_cells[i].set_text(nbb_formatted_code);\n                        }\n                        break;\n                    }\n                }\n            }, 500);\n            "
     },
     "metadata": {}
    }
   ],
   "metadata": {
    "scrolled": true
   }
  },
  {
   "cell_type": "markdown",
   "source": [
    "### Question 4\r\n",
    "\r\n",
    "Create a new column that is the ratio of Self-Citations to Total Citations. \r\n",
    "What is the maximum value for this new column, and what country has the highest ratio?\r\n",
    "\r\n",
    "*This function should return a tuple with the name of the country and the ratio.*"
   ],
   "metadata": {}
  },
  {
   "cell_type": "code",
   "execution_count": 63,
   "source": [
    "def answer_four():\r\n",
    "    \"\"\"Calculate the ratio of Self-citations to all Citations.\r\n",
    "    Find the highest ratio and which country is it.\r\n",
    "    \"\"\"\r\n",
    "    # Get top-15 values\r\n",
    "    Top15 = answer_one()\r\n",
    "\r\n",
    "    # list of citations to get\r\n",
    "    citations_list = [\"Citations\", \"Self-citations\"]\r\n",
    "\r\n",
    "    # Get neeeded columns\r\n",
    "    # first method\r\n",
    "    # df_citations = Top15.filter(items=citations_list)\r\n",
    "\r\n",
    "    # second method\r\n",
    "    df_citations = Top15[citations_list].copy()\r\n",
    "\r\n",
    "    # Calculating [Citations Ratio]\r\n",
    "    df_citations[\"Citations Ratio\"] = (\r\n",
    "        df_citations[\"Self-citations\"] / df_citations[\"Citations\"]\r\n",
    "    )\r\n",
    "    # Find the highest value\r\n",
    "    max_cit_ratio = df_citations[\"Citations Ratio\"].max()\r\n",
    "\r\n",
    "    return (\r\n",
    "        max_cit_ratio,\r\n",
    "        df_citations[df_citations[\"Citations Ratio\"] == max_cit_ratio].index.values[0],\r\n",
    "    )\r\n",
    "\r\n",
    "\r\n",
    "answer_four()"
   ],
   "outputs": [
    {
     "output_type": "execute_result",
     "data": {
      "text/plain": [
       "(0.6912289816173135, 'China')"
      ]
     },
     "metadata": {},
     "execution_count": 63
    },
    {
     "output_type": "display_data",
     "data": {
      "text/plain": [
       "<IPython.core.display.Javascript object>"
      ],
      "application/javascript": "\n            setTimeout(function() {\n                var nbb_cell_id = 63;\n                var nbb_unformatted_code = \"def answer_four():\\r\\n    \\\"\\\"\\\"Calculate the ratio of Self-citations to all Citations.\\r\\n    Find the highest ratio and which country is it.\\r\\n    \\\"\\\"\\\"\\r\\n    # Get top-15 values\\r\\n    Top15 = answer_one()\\r\\n\\r\\n    # list of citations to get\\r\\n    citations_list = [\\\"Citations\\\", \\\"Self-citations\\\"]\\r\\n\\r\\n    # Get neeeded columns\\r\\n    # first method\\r\\n    # df_citations = Top15.filter(items=citations_list)\\r\\n\\r\\n    # second method\\r\\n    df_citations = Top15[citations_list].copy()\\r\\n\\r\\n    # Calculating [Citations Ratio]\\r\\n    df_citations[\\\"Citations Ratio\\\"] = (\\r\\n        df_citations[\\\"Self-citations\\\"] / df_citations[\\\"Citations\\\"]\\r\\n    )\\r\\n    # Find the highest value\\r\\n    max_cit_ratio = df_citations[\\\"Citations Ratio\\\"].max()\\r\\n\\r\\n    return (\\r\\n        max_cit_ratio,\\r\\n        df_citations[df_citations[\\\"Citations Ratio\\\"] == max_cit_ratio].index.values[0],\\r\\n    )\\r\\n\\r\\n\\r\\nanswer_four()\";\n                var nbb_formatted_code = \"def answer_four():\\n    \\\"\\\"\\\"Calculate the ratio of Self-citations to all Citations.\\n    Find the highest ratio and which country is it.\\n    \\\"\\\"\\\"\\n    # Get top-15 values\\n    Top15 = answer_one()\\n\\n    # list of citations to get\\n    citations_list = [\\\"Citations\\\", \\\"Self-citations\\\"]\\n\\n    # Get neeeded columns\\n    # first method\\n    # df_citations = Top15.filter(items=citations_list)\\n\\n    # second method\\n    df_citations = Top15[citations_list].copy()\\n\\n    # Calculating [Citations Ratio]\\n    df_citations[\\\"Citations Ratio\\\"] = (\\n        df_citations[\\\"Self-citations\\\"] / df_citations[\\\"Citations\\\"]\\n    )\\n    # Find the highest value\\n    max_cit_ratio = df_citations[\\\"Citations Ratio\\\"].max()\\n\\n    return (\\n        max_cit_ratio,\\n        df_citations[df_citations[\\\"Citations Ratio\\\"] == max_cit_ratio].index.values[0],\\n    )\\n\\n\\nanswer_four()\";\n                var nbb_cells = Jupyter.notebook.get_cells();\n                for (var i = 0; i < nbb_cells.length; ++i) {\n                    if (nbb_cells[i].input_prompt_number == nbb_cell_id) {\n                        if (nbb_cells[i].get_text() == nbb_unformatted_code) {\n                             nbb_cells[i].set_text(nbb_formatted_code);\n                        }\n                        break;\n                    }\n                }\n            }, 500);\n            "
     },
     "metadata": {}
    }
   ],
   "metadata": {}
  },
  {
   "cell_type": "markdown",
   "source": [
    "### Question 5\r\n",
    "\r\n",
    "Create a column that estimates the population using Energy Supply and Energy Supply per capita. \r\n",
    "What is the third most populous country according to this estimate?\r\n",
    "\r\n",
    "*This function should return a single string value.*"
   ],
   "metadata": {}
  },
  {
   "cell_type": "code",
   "execution_count": 65,
   "source": [
    "def answer_five():\r\n",
    "    \"\"\"Calculate population for top-15 countries using energy\"\"\"\r\n",
    "    # get top-15 values\r\n",
    "    Top15 = answer_one()\r\n",
    "\r\n",
    "    # columns to get for energy df\r\n",
    "    energy_cols = [\"Energy Supply\", \"Energy Supply per capita\"]\r\n",
    "\r\n",
    "    # get needed values\r\n",
    "    energy = Top15[energy_cols].copy()\r\n",
    "\r\n",
    "    # calculate population\r\n",
    "    energy[\"Population\"] = energy[\"Energy Supply\"] / energy[\"Energy Supply per capita\"]\r\n",
    "\r\n",
    "    # sort values in [Population] column by descending\r\n",
    "    energy = energy.sort_values(by=\"Population\", ascending=False)\r\n",
    "\r\n",
    "    # get third population\r\n",
    "    third_pop = energy.iloc[2, 2]\r\n",
    "\r\n",
    "    return energy[energy[\"Population\"] == third_pop].index.values[0]\r\n",
    "\r\n",
    "\r\n",
    "answer_five()"
   ],
   "outputs": [
    {
     "output_type": "execute_result",
     "data": {
      "text/plain": [
       "'United States'"
      ]
     },
     "metadata": {},
     "execution_count": 65
    },
    {
     "output_type": "display_data",
     "data": {
      "text/plain": [
       "<IPython.core.display.Javascript object>"
      ],
      "application/javascript": "\n            setTimeout(function() {\n                var nbb_cell_id = 65;\n                var nbb_unformatted_code = \"def answer_five():\\r\\n    \\\"\\\"\\\"Calculate population for top-15 countries using energy\\\"\\\"\\\"\\r\\n    # get top-15 values\\r\\n    Top15 = answer_one()\\r\\n\\r\\n    # columns to get for energy df\\r\\n    energy_cols = [\\\"Energy Supply\\\", \\\"Energy Supply per capita\\\"]\\r\\n\\r\\n    # get needed values\\r\\n    energy = Top15[energy_cols].copy()\\r\\n\\r\\n    # calculate population\\r\\n    energy[\\\"Population\\\"] = energy[\\\"Energy Supply\\\"] / energy[\\\"Energy Supply per capita\\\"]\\r\\n\\r\\n    # sort values in [Population] column by descending\\r\\n    energy = energy.sort_values(by=\\\"Population\\\", ascending=False)\\r\\n\\r\\n    # get third population\\r\\n    third_pop = energy.iloc[2, 2]\\r\\n\\r\\n    return energy[energy[\\\"Population\\\"] == third_pop].index.values[0]\\r\\n\\r\\n\\r\\nanswer_five()\";\n                var nbb_formatted_code = \"def answer_five():\\n    \\\"\\\"\\\"Calculate population for top-15 countries using energy\\\"\\\"\\\"\\n    # get top-15 values\\n    Top15 = answer_one()\\n\\n    # columns to get for energy df\\n    energy_cols = [\\\"Energy Supply\\\", \\\"Energy Supply per capita\\\"]\\n\\n    # get needed values\\n    energy = Top15[energy_cols].copy()\\n\\n    # calculate population\\n    energy[\\\"Population\\\"] = energy[\\\"Energy Supply\\\"] / energy[\\\"Energy Supply per capita\\\"]\\n\\n    # sort values in [Population] column by descending\\n    energy = energy.sort_values(by=\\\"Population\\\", ascending=False)\\n\\n    # get third population\\n    third_pop = energy.iloc[2, 2]\\n\\n    return energy[energy[\\\"Population\\\"] == third_pop].index.values[0]\\n\\n\\nanswer_five()\";\n                var nbb_cells = Jupyter.notebook.get_cells();\n                for (var i = 0; i < nbb_cells.length; ++i) {\n                    if (nbb_cells[i].input_prompt_number == nbb_cell_id) {\n                        if (nbb_cells[i].get_text() == nbb_unformatted_code) {\n                             nbb_cells[i].set_text(nbb_formatted_code);\n                        }\n                        break;\n                    }\n                }\n            }, 500);\n            "
     },
     "metadata": {}
    }
   ],
   "metadata": {}
  },
  {
   "cell_type": "markdown",
   "source": [
    "### Question 6\r\n",
    "Create a column that estimates the number of citable documents per person. \r\n",
    "What is the correlation between the number of citable documents per capita and the energy supply per capita? Use the `.corr()` method, (Pearson's correlation).\r\n",
    "\r\n",
    "*This function should return a single number.*\r\n"
   ],
   "metadata": {}
  },
  {
   "cell_type": "code",
   "execution_count": 67,
   "source": [
    "def answer_six():\r\n",
    "    \"\"\"Calculate correlation between citable doc per capita and energy supply per capita\"\"\"\r\n",
    "    # get top 15 values\r\n",
    "    Top15 = answer_one()\r\n",
    "\r\n",
    "    # define columns to get\r\n",
    "    taskSix_cols = [\"Citable documents\", \"Energy Supply\", \"Energy Supply per capita\"]\r\n",
    "\r\n",
    "    # get needed info\r\n",
    "    taskSix_df = Top15[taskSix_cols].copy()\r\n",
    "\r\n",
    "    # calculate population\r\n",
    "    taskSix_df[\"Population\"] = (\r\n",
    "        taskSix_df[\"Energy Supply\"] / taskSix_df[\"Energy Supply per capita\"]\r\n",
    "    )\r\n",
    "\r\n",
    "    # calculate citable documents per capita\r\n",
    "    taskSix_df[\"Citable documents per capita\"] = (\r\n",
    "        taskSix_df[\"Citable documents\"] / taskSix_df[\"Population\"]\r\n",
    "    )\r\n",
    "\r\n",
    "    return taskSix_df[\"Citable documents per capita\"].corr(\r\n",
    "        taskSix_df[\"Energy Supply per capita\"]\r\n",
    "    )\r\n",
    "\r\n",
    "\r\n",
    "answer_six()"
   ],
   "outputs": [
    {
     "output_type": "execute_result",
     "data": {
      "text/plain": [
       "0.7434709127726777"
      ]
     },
     "metadata": {},
     "execution_count": 67
    },
    {
     "output_type": "display_data",
     "data": {
      "text/plain": [
       "<IPython.core.display.Javascript object>"
      ],
      "application/javascript": "\n            setTimeout(function() {\n                var nbb_cell_id = 67;\n                var nbb_unformatted_code = \"def answer_six():\\r\\n    \\\"\\\"\\\"Calculate correlation between citable doc per capita and energy supply per capita\\\"\\\"\\\"\\r\\n    # get top 15 values\\r\\n    Top15 = answer_one()\\r\\n\\r\\n    # define columns to get\\r\\n    taskSix_cols = [\\\"Citable documents\\\", \\\"Energy Supply\\\", \\\"Energy Supply per capita\\\"]\\r\\n\\r\\n    # get needed info\\r\\n    taskSix_df = Top15[taskSix_cols].copy()\\r\\n\\r\\n    # calculate population\\r\\n    taskSix_df[\\\"Population\\\"] = (\\r\\n        taskSix_df[\\\"Energy Supply\\\"] / taskSix_df[\\\"Energy Supply per capita\\\"]\\r\\n    )\\r\\n\\r\\n    # calculate citable documents per capita\\r\\n    taskSix_df[\\\"Citable documents per capita\\\"] = (\\r\\n        taskSix_df[\\\"Citable documents\\\"] / taskSix_df[\\\"Population\\\"]\\r\\n    )\\r\\n\\r\\n    return taskSix_df[\\\"Citable documents per capita\\\"].corr(\\r\\n        taskSix_df[\\\"Energy Supply per capita\\\"]\\r\\n    )\\r\\n\\r\\n\\r\\nanswer_six()\";\n                var nbb_formatted_code = \"def answer_six():\\n    \\\"\\\"\\\"Calculate correlation between citable doc per capita and energy supply per capita\\\"\\\"\\\"\\n    # get top 15 values\\n    Top15 = answer_one()\\n\\n    # define columns to get\\n    taskSix_cols = [\\\"Citable documents\\\", \\\"Energy Supply\\\", \\\"Energy Supply per capita\\\"]\\n\\n    # get needed info\\n    taskSix_df = Top15[taskSix_cols].copy()\\n\\n    # calculate population\\n    taskSix_df[\\\"Population\\\"] = (\\n        taskSix_df[\\\"Energy Supply\\\"] / taskSix_df[\\\"Energy Supply per capita\\\"]\\n    )\\n\\n    # calculate citable documents per capita\\n    taskSix_df[\\\"Citable documents per capita\\\"] = (\\n        taskSix_df[\\\"Citable documents\\\"] / taskSix_df[\\\"Population\\\"]\\n    )\\n\\n    return taskSix_df[\\\"Citable documents per capita\\\"].corr(\\n        taskSix_df[\\\"Energy Supply per capita\\\"]\\n    )\\n\\n\\nanswer_six()\";\n                var nbb_cells = Jupyter.notebook.get_cells();\n                for (var i = 0; i < nbb_cells.length; ++i) {\n                    if (nbb_cells[i].input_prompt_number == nbb_cell_id) {\n                        if (nbb_cells[i].get_text() == nbb_unformatted_code) {\n                             nbb_cells[i].set_text(nbb_formatted_code);\n                        }\n                        break;\n                    }\n                }\n            }, 500);\n            "
     },
     "metadata": {}
    }
   ],
   "metadata": {}
  },
  {
   "cell_type": "markdown",
   "source": [
    "### Question 7\r\n",
    "Use the following dictionary to group the Countries by Continent, then create a dateframe that displays the sample size (the number of countries in each continent bin), and the sum, mean, and std deviation for the estimated population of each country.\r\n",
    "\r\n",
    "```python\r\n",
    "ContinentDict  = {'China':'Asia', \r\n",
    "                  'United States':'North America', \r\n",
    "                  'Japan':'Asia', \r\n",
    "                  'United Kingdom':'Europe', \r\n",
    "                  'Russian Federation':'Europe', \r\n",
    "                  'Canada':'North America', \r\n",
    "                  'Germany':'Europe', \r\n",
    "                  'India':'Asia',\r\n",
    "                  'France':'Europe', \r\n",
    "                  'South Korea':'Asia', \r\n",
    "                  'Italy':'Europe', \r\n",
    "                  'Spain':'Europe', \r\n",
    "                  'Iran':'Asia',\r\n",
    "                  'Australia':'Australia', \r\n",
    "                  'Brazil':'South America'}\r\n",
    "```\r\n",
    "\r\n",
    "*This function should return a DataFrame with index named Continent `['Asia', 'Australia', 'Europe', 'North America', 'South America']` and columns `['size', 'sum', 'mean', 'std']`*"
   ],
   "metadata": {}
  },
  {
   "cell_type": "code",
   "execution_count": 68,
   "source": [
    "def answer_seven():\r\n",
    "    \"\"\"Create DF with specific info like: size, sum, mean, std. Index have to be the Continent name\r\n",
    "\r\n",
    "    Returns:\r\n",
    "        [DataFrame]: returns DataFrame with all info\r\n",
    "    \"\"\"\r\n",
    "    # get top-15 values\r\n",
    "    Top15 = answer_one()\r\n",
    "\r\n",
    "    # define columns to get\r\n",
    "    taskSeven_cols = [\"Energy Supply\", \"Energy Supply per capita\"]\r\n",
    "\r\n",
    "    # get needed info\r\n",
    "    taskSeven_df = Top15[taskSeven_cols].copy()\r\n",
    "\r\n",
    "    # calculate population\r\n",
    "    taskSeven_df[\"Population\"] = (\r\n",
    "        taskSeven_df[\"Energy Supply\"] / taskSeven_df[\"Energy Supply per capita\"]\r\n",
    "    )\r\n",
    "\r\n",
    "    # create dict {[country]: [continent]}\r\n",
    "    ContinentDict = {\r\n",
    "        \"China\": \"Asia\",\r\n",
    "        \"United States\": \"North America\",\r\n",
    "        \"Japan\": \"Asia\",\r\n",
    "        \"United Kingdom\": \"Europe\",\r\n",
    "        \"Russian Federation\": \"Europe\",\r\n",
    "        \"Canada\": \"North America\",\r\n",
    "        \"Germany\": \"Europe\",\r\n",
    "        \"India\": \"Asia\",\r\n",
    "        \"France\": \"Europe\",\r\n",
    "        \"South Korea\": \"Asia\",\r\n",
    "        \"Italy\": \"Europe\",\r\n",
    "        \"Spain\": \"Europe\",\r\n",
    "        \"Iran\": \"Asia\",\r\n",
    "        \"Australia\": \"Australia\",\r\n",
    "        \"Brazil\": \"South America\",\r\n",
    "    }\r\n",
    "\r\n",
    "    # add [Continent] column\r\n",
    "    taskSeven_df[\"Continent\"] = [ContinentDict[x] for x in taskSeven_df.index.tolist()]\r\n",
    "\r\n",
    "    # get continents list\r\n",
    "    continent_indexes = taskSeven_df.groupby(\"Continent\").count().index.tolist()\r\n",
    "\r\n",
    "    # find how much countries we have per continent\r\n",
    "    countries_per_continent = (\r\n",
    "        taskSeven_df[\"Continent\"].value_counts().sort_index().tolist()\r\n",
    "    )\r\n",
    "    # print(taskSeven_df['Continent'].value_counts().sort_index().tolist())\r\n",
    "\r\n",
    "    # sum population\r\n",
    "    sum_population = taskSeven_df.groupby([\"Continent\"]).sum()[\"Population\"].tolist()\r\n",
    "    # print(taskSeven_df.groupby(['Continent']).sum()['Population'].tolist())\r\n",
    "\r\n",
    "    # mean population\r\n",
    "    mean_population = taskSeven_df.groupby([\"Continent\"]).mean()[\"Population\"].tolist()\r\n",
    "    # print(taskSeven_df.groupby(['Continent']).mean()['Population'].tolist())\r\n",
    "\r\n",
    "    # std population\r\n",
    "    std_population = taskSeven_df.groupby([\"Continent\"]).std()[\"Population\"].tolist()\r\n",
    "    # print(taskSeven_df.groupby(['Continent']).std()['Population'])\r\n",
    "\r\n",
    "    # create result df\r\n",
    "    result_df = pd.DataFrame(\r\n",
    "        {\r\n",
    "            \"size\": countries_per_continent,\r\n",
    "            \"sum\": sum_population,\r\n",
    "            \"mean\": mean_population,\r\n",
    "            \"std\": std_population,\r\n",
    "        },\r\n",
    "        index=continent_indexes,\r\n",
    "        columns=[\"size\", \"sum\", \"mean\", \"std\"],\r\n",
    "    )\r\n",
    "\r\n",
    "    return result_df\r\n",
    "\r\n",
    "\r\n",
    "answer_seven()"
   ],
   "outputs": [
    {
     "output_type": "display_data",
     "data": {
      "text/plain": [
       "<IPython.core.display.Javascript object>"
      ],
      "application/javascript": "\n            setTimeout(function() {\n                var nbb_cell_id = 68;\n                var nbb_unformatted_code = \"%%black\\r\\ndef answer_seven():\\r\\n    \\\"\\\"\\\"Create DF with specific info like: size, sum, mean, std. Index have to be the Continent name\\r\\n\\r\\n    Returns:\\r\\n        [DataFrame]: returns DataFrame with all info\\r\\n    \\\"\\\"\\\"\\r\\n    # get top-15 values\\r\\n    Top15 = answer_one()\\r\\n\\r\\n    # define columns to get\\r\\n    taskSeven_cols = ['Energy Supply', 'Energy Supply per capita']\\r\\n\\r\\n    # get needed info\\r\\n    taskSeven_df = Top15[taskSeven_cols].copy()\\r\\n\\r\\n    # calculate population\\r\\n    taskSeven_df['Population'] = taskSeven_df['Energy Supply']/taskSeven_df['Energy Supply per capita']\\r\\n\\r\\n    # create dict {[country]: [continent]}\\r\\n    ContinentDict  = {'China':'Asia', \\r\\n                  'United States':'North America', \\r\\n                  'Japan':'Asia', \\r\\n                  'United Kingdom':'Europe', \\r\\n                  'Russian Federation':'Europe', \\r\\n                  'Canada':'North America', \\r\\n                  'Germany':'Europe', \\r\\n                  'India':'Asia',\\r\\n                  'France':'Europe', \\r\\n                  'South Korea':'Asia', \\r\\n                  'Italy':'Europe', \\r\\n                  'Spain':'Europe', \\r\\n                  'Iran':'Asia',\\r\\n                  'Australia':'Australia', \\r\\n                  'Brazil':'South America'}\\r\\n\\r\\n    # add [Continent] column\\r\\n    taskSeven_df['Continent'] = [ContinentDict[x] for x in taskSeven_df.index.tolist()]\\r\\n\\r\\n    # get continents list\\r\\n    continent_indexes = taskSeven_df.groupby('Continent').count().index.tolist()\\r\\n\\r\\n    # find how much countries we have per continent\\r\\n    countries_per_continent = taskSeven_df['Continent'].value_counts().sort_index().tolist()\\r\\n    # print(taskSeven_df['Continent'].value_counts().sort_index().tolist())\\r\\n\\r\\n    # sum population\\r\\n    sum_population = taskSeven_df.groupby(['Continent']).sum()['Population'].tolist()\\r\\n    # print(taskSeven_df.groupby(['Continent']).sum()['Population'].tolist())\\r\\n\\r\\n    # mean population\\r\\n    mean_population = taskSeven_df.groupby(['Continent']).mean()['Population'].tolist()\\r\\n    # print(taskSeven_df.groupby(['Continent']).mean()['Population'].tolist())\\r\\n\\r\\n    # std population\\r\\n    std_population = taskSeven_df.groupby(['Continent']).std()['Population'].tolist()\\r\\n    # print(taskSeven_df.groupby(['Continent']).std()['Population'])\\r\\n\\r\\n    # create result df\\r\\n    result_df = pd.DataFrame({ 'size': countries_per_continent, 'sum': sum_population, 'mean': mean_population, 'std': std_population }, index=continent_indexes, columns=['size', 'sum', 'mean', 'std'])\\r\\n\\r\\n    return result_df\\r\\n\\r\\nanswer_seven()\\r\";\n                var nbb_formatted_code = \"%%black\\r\\ndef answer_seven():\\r\\n    \\\"\\\"\\\"Create DF with specific info like: size, sum, mean, std. Index have to be the Continent name\\r\\n\\r\\n    Returns:\\r\\n        [DataFrame]: returns DataFrame with all info\\r\\n    \\\"\\\"\\\"\\r\\n    # get top-15 values\\r\\n    Top15 = answer_one()\\r\\n\\r\\n    # define columns to get\\r\\n    taskSeven_cols = ['Energy Supply', 'Energy Supply per capita']\\r\\n\\r\\n    # get needed info\\r\\n    taskSeven_df = Top15[taskSeven_cols].copy()\\r\\n\\r\\n    # calculate population\\r\\n    taskSeven_df['Population'] = taskSeven_df['Energy Supply']/taskSeven_df['Energy Supply per capita']\\r\\n\\r\\n    # create dict {[country]: [continent]}\\r\\n    ContinentDict  = {'China':'Asia', \\r\\n                  'United States':'North America', \\r\\n                  'Japan':'Asia', \\r\\n                  'United Kingdom':'Europe', \\r\\n                  'Russian Federation':'Europe', \\r\\n                  'Canada':'North America', \\r\\n                  'Germany':'Europe', \\r\\n                  'India':'Asia',\\r\\n                  'France':'Europe', \\r\\n                  'South Korea':'Asia', \\r\\n                  'Italy':'Europe', \\r\\n                  'Spain':'Europe', \\r\\n                  'Iran':'Asia',\\r\\n                  'Australia':'Australia', \\r\\n                  'Brazil':'South America'}\\r\\n\\r\\n    # add [Continent] column\\r\\n    taskSeven_df['Continent'] = [ContinentDict[x] for x in taskSeven_df.index.tolist()]\\r\\n\\r\\n    # get continents list\\r\\n    continent_indexes = taskSeven_df.groupby('Continent').count().index.tolist()\\r\\n\\r\\n    # find how much countries we have per continent\\r\\n    countries_per_continent = taskSeven_df['Continent'].value_counts().sort_index().tolist()\\r\\n    # print(taskSeven_df['Continent'].value_counts().sort_index().tolist())\\r\\n\\r\\n    # sum population\\r\\n    sum_population = taskSeven_df.groupby(['Continent']).sum()['Population'].tolist()\\r\\n    # print(taskSeven_df.groupby(['Continent']).sum()['Population'].tolist())\\r\\n\\r\\n    # mean population\\r\\n    mean_population = taskSeven_df.groupby(['Continent']).mean()['Population'].tolist()\\r\\n    # print(taskSeven_df.groupby(['Continent']).mean()['Population'].tolist())\\r\\n\\r\\n    # std population\\r\\n    std_population = taskSeven_df.groupby(['Continent']).std()['Population'].tolist()\\r\\n    # print(taskSeven_df.groupby(['Continent']).std()['Population'])\\r\\n\\r\\n    # create result df\\r\\n    result_df = pd.DataFrame({ 'size': countries_per_continent, 'sum': sum_population, 'mean': mean_population, 'std': std_population }, index=continent_indexes, columns=['size', 'sum', 'mean', 'std'])\\r\\n\\r\\n    return result_df\\r\\n\\r\\nanswer_seven()\";\n                var nbb_cells = Jupyter.notebook.get_cells();\n                for (var i = 0; i < nbb_cells.length; ++i) {\n                    if (nbb_cells[i].input_prompt_number == nbb_cell_id) {\n                        if (nbb_cells[i].get_text() == nbb_unformatted_code) {\n                             nbb_cells[i].set_text(nbb_formatted_code);\n                        }\n                        break;\n                    }\n                }\n            }, 500);\n            "
     },
     "metadata": {}
    }
   ],
   "metadata": {}
  }
 ],
 "metadata": {
  "kernelspec": {
   "name": "python3",
   "display_name": "Python 3.9.0 64-bit ('venv': venv)"
  },
  "language_info": {
   "codemirror_mode": {
    "name": "ipython",
    "version": 3
   },
   "file_extension": ".py",
   "mimetype": "text/x-python",
   "name": "python",
   "nbconvert_exporter": "python",
   "pygments_lexer": "ipython3",
   "version": "3.9.0"
  },
  "interpreter": {
   "hash": "feaebc5b394fab1bf6e2454b9c71c74c5563d776a047f0d86560c7628a81fc1e"
  }
 },
 "nbformat": 4,
 "nbformat_minor": 4
}