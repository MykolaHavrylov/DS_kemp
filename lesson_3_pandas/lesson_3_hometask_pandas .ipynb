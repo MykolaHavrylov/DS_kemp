{
 "cells": [
  {
   "cell_type": "code",
   "execution_count": null,
   "source": [],
   "outputs": [],
   "metadata": {}
  },
  {
   "cell_type": "markdown",
   "source": [
    "# Home task: pandas \r\n",
    "\r\n",
    "## Question 1\r\n",
    "\r\n",
    "- Load the energy data from the file [Energy Indicators.xls](http://unstats.un.org/unsd/environment/excel_file_tables/2013/Energy%20Indicators.xls).\r\n",
    "It is a list of indicators of energy supply and renewable electricity production from the United Nations for the year 2013.\r\n",
    "\r\n",
    "\r\n",
    "- It should be put into a DataFrame with the variable name of \"energy\"\r\n",
    "\r\n",
    "\r\n",
    "- Make sure to exclude the footer and header information from the datafile.\r\n",
    "\r\n",
    "\r\n",
    "- The first two columns are unneccessary, so you should get rid of them, and you should change the column labels so that the columns are:<br>\r\n",
    "`['Country', 'Energy Supply', 'Energy Supply per Capita', '% Renewable']`\r\n",
    "\r\n",
    "\r\n",
    "- Convert `Energy Supply` to gigajoules (there are 1,000,000 gigajoules in a petajoule).\r\n",
    "\r\n",
    "\r\n",
    "- For all countries which have missing data (e.g. data with `...`) make sure this is reflected as `np.NaN` values.\r\n",
    "\r\n",
    "\r\n",
    "- Rename the following list of countries (for use in later questions):\r\n",
    "    - `Republic of Korea`: `South Korea`,\r\n",
    "    - `United States of America`: `United States`,\r\n",
    "    - `United Kingdom of Great Britain and Northern Ireland`: `United Kingdom`,\r\n",
    "    - `China, Hong Kong Special Administrative Region`: `Hong Kong`\r\n",
    "\r\n",
    "\r\n",
    "- There are also several countries with numbers and/or parenthesis in their name. Be sure to remove these, e.g.:\r\n",
    "    - `Bolivia (Plurinational State of)` should be `Bolivia`,\r\n",
    "    - `Switzerland17` should be `Switzerland`.\r\n",
    "\r\n",
    "\r\n",
    "- Next, load the GDP data from the file [\"world_bank.csv\"](http://data.worldbank.org/indicator/NY.GDP.MKTP.CD). \r\n",
    "It is a csv containing countries' GDP from 1960 to 2015 from World Bank. Call this DataFrame \"GDP\"\r\n",
    "\r\n",
    "\r\n",
    "- Make sure to skip the header, and rename the following list of countries:\r\n",
    "    - `Korea, Rep.`: `South Korea`,\r\n",
    "    - `Iran, Islamic Rep.`: `Iran`,\r\n",
    "    - `Hong Kong SAR, China`: `Hong Kong`\r\n",
    "\r\n",
    "\r\n",
    "- Finally, load the \"Sciamgo Journal and Country Rank data for [Energy Engineering and Power Technology\"](http://www.scimagojr.com/countryrank.php?category=2102). It ranks countries based on their journal contributions in the aforementioned area. Call this DataFrame \"ScimEn\"\r\n",
    "\r\n",
    "\r\n",
    "- Join the three datasets: Energy, GDP, and ScimEn into a new dataset (using the intersection of country names). Use only the 10 years (2006-2015) of GDP data and only the top 15 countries by Scimagojr 'Rank' (Rank 1 through 15).\r\n",
    "\r\n",
    "\r\n",
    "- The index of this DataFrame should be the name of the country, and the columns should be<br>\r\n",
    "`['Rank', 'Documents', 'Citable documents', 'Citations', 'Self-citations', 'Citations per document', 'H index', 'Energy Supply', 'Energy Supply per Capita', '% Renewable', '2006', '2007', '2008', '2009', '2010', '2011', 2012', '2013', '2014', '2015']`\r\n",
    "\r\n",
    "Function \"answer_one\" should return the resulted DataFrame (20 columns and 15 entries)"
   ],
   "metadata": {},
   "attachments": {}
  },
  {
   "cell_type": "markdown",
   "source": [
    "## Import all necessary packages"
   ],
   "metadata": {}
  },
  {
   "cell_type": "code",
   "execution_count": 197,
   "source": [
    "import pandas as pd\r\n",
    "import numpy as np"
   ],
   "outputs": [],
   "metadata": {}
  },
  {
   "cell_type": "markdown",
   "source": [
    "## Modifying data"
   ],
   "metadata": {}
  },
  {
   "cell_type": "markdown",
   "source": [
    "### Drop useless stuff, rename column names"
   ],
   "metadata": {}
  },
  {
   "cell_type": "code",
   "execution_count": 198,
   "source": [
    "# read Excel with all data and drop some useless data\r\n",
    "df = pd.read_excel(\"Energy Indicators.xls\", skiprows=16, skipfooter=38).drop(['Unnamed: 0', 'Unnamed: 1'], axis=1).drop(0)\r\n",
    "\r\n",
    "# rename [Unnamed: 2] -> [Country], [Renewable Electricity Production] -> [% Renewable]\r\n",
    "df = df.rename(columns = {'Unnamed: 2': 'Country', 'Renewable Electricity Production': '% Renewable'})\r\n",
    "\r\n",
    "df.head(5)"
   ],
   "outputs": [
    {
     "output_type": "execute_result",
     "data": {
      "text/plain": [
       "          Country Energy Supply Energy Supply per capita % Renewable\n",
       "1     Afghanistan           321                       10    78.66928\n",
       "2         Albania           102                       35         100\n",
       "3         Algeria          1959                       51     0.55101\n",
       "4  American Samoa           ...                      ...    0.641026\n",
       "5         Andorra             9                      121    88.69565"
      ],
      "text/html": [
       "<div>\n",
       "<style scoped>\n",
       "    .dataframe tbody tr th:only-of-type {\n",
       "        vertical-align: middle;\n",
       "    }\n",
       "\n",
       "    .dataframe tbody tr th {\n",
       "        vertical-align: top;\n",
       "    }\n",
       "\n",
       "    .dataframe thead th {\n",
       "        text-align: right;\n",
       "    }\n",
       "</style>\n",
       "<table border=\"1\" class=\"dataframe\">\n",
       "  <thead>\n",
       "    <tr style=\"text-align: right;\">\n",
       "      <th></th>\n",
       "      <th>Country</th>\n",
       "      <th>Energy Supply</th>\n",
       "      <th>Energy Supply per capita</th>\n",
       "      <th>% Renewable</th>\n",
       "    </tr>\n",
       "  </thead>\n",
       "  <tbody>\n",
       "    <tr>\n",
       "      <th>1</th>\n",
       "      <td>Afghanistan</td>\n",
       "      <td>321</td>\n",
       "      <td>10</td>\n",
       "      <td>78.66928</td>\n",
       "    </tr>\n",
       "    <tr>\n",
       "      <th>2</th>\n",
       "      <td>Albania</td>\n",
       "      <td>102</td>\n",
       "      <td>35</td>\n",
       "      <td>100</td>\n",
       "    </tr>\n",
       "    <tr>\n",
       "      <th>3</th>\n",
       "      <td>Algeria</td>\n",
       "      <td>1959</td>\n",
       "      <td>51</td>\n",
       "      <td>0.55101</td>\n",
       "    </tr>\n",
       "    <tr>\n",
       "      <th>4</th>\n",
       "      <td>American Samoa</td>\n",
       "      <td>...</td>\n",
       "      <td>...</td>\n",
       "      <td>0.641026</td>\n",
       "    </tr>\n",
       "    <tr>\n",
       "      <th>5</th>\n",
       "      <td>Andorra</td>\n",
       "      <td>9</td>\n",
       "      <td>121</td>\n",
       "      <td>88.69565</td>\n",
       "    </tr>\n",
       "  </tbody>\n",
       "</table>\n",
       "</div>"
      ]
     },
     "metadata": {},
     "execution_count": 198
    }
   ],
   "metadata": {}
  },
  {
   "cell_type": "markdown",
   "source": [
    "### Replace missing data (e.g. data with `...`) with `np.NaN` values."
   ],
   "metadata": {}
  },
  {
   "cell_type": "code",
   "execution_count": 199,
   "source": [
    "cols = list(df.columns)[1:]\r\n",
    "\r\n",
    "# First method\r\n",
    "df[cols] = df[cols].apply(lambda x: [item if isinstance(item, (int, float)) else np.NaN for item in x.values])\r\n",
    "\r\n",
    "# Second method\r\n",
    "# mask = df[cols].applymap(lambda x: isinstance(x, (int, float)))\r\n",
    "# df[cols] = df[cols].where(mask)\r\n",
    "\r\n",
    "print(df.head(5))\r\n",
    "\r\n",
    "df.dtypes"
   ],
   "outputs": [
    {
     "output_type": "stream",
     "name": "stdout",
     "text": [
      "          Country  Energy Supply  Energy Supply per capita  % Renewable\n",
      "1     Afghanistan          321.0                      10.0    78.669280\n",
      "2         Albania          102.0                      35.0   100.000000\n",
      "3         Algeria         1959.0                      51.0     0.551010\n",
      "4  American Samoa            NaN                       NaN     0.641026\n",
      "5         Andorra            9.0                     121.0    88.695650\n"
     ]
    },
    {
     "output_type": "execute_result",
     "data": {
      "text/plain": [
       "Country                      object\n",
       "Energy Supply               float64\n",
       "Energy Supply per capita    float64\n",
       "% Renewable                 float64\n",
       "dtype: object"
      ]
     },
     "metadata": {},
     "execution_count": 199
    }
   ],
   "metadata": {}
  },
  {
   "cell_type": "markdown",
   "source": [
    "### Convert `Energy Supply` to gigajoules (there are 1,000,000 gigajoules in a petajoule)."
   ],
   "metadata": {}
  },
  {
   "cell_type": "code",
   "execution_count": 200,
   "source": [
    "# Converting\r\n",
    "df['Energy Supply'] = df['Energy Supply']*1_000_000\r\n",
    "\r\n",
    "df.head(5)"
   ],
   "outputs": [
    {
     "output_type": "execute_result",
     "data": {
      "text/plain": [
       "          Country  Energy Supply  Energy Supply per capita  % Renewable\n",
       "1     Afghanistan   3.210000e+08                      10.0    78.669280\n",
       "2         Albania   1.020000e+08                      35.0   100.000000\n",
       "3         Algeria   1.959000e+09                      51.0     0.551010\n",
       "4  American Samoa            NaN                       NaN     0.641026\n",
       "5         Andorra   9.000000e+06                     121.0    88.695650"
      ],
      "text/html": [
       "<div>\n",
       "<style scoped>\n",
       "    .dataframe tbody tr th:only-of-type {\n",
       "        vertical-align: middle;\n",
       "    }\n",
       "\n",
       "    .dataframe tbody tr th {\n",
       "        vertical-align: top;\n",
       "    }\n",
       "\n",
       "    .dataframe thead th {\n",
       "        text-align: right;\n",
       "    }\n",
       "</style>\n",
       "<table border=\"1\" class=\"dataframe\">\n",
       "  <thead>\n",
       "    <tr style=\"text-align: right;\">\n",
       "      <th></th>\n",
       "      <th>Country</th>\n",
       "      <th>Energy Supply</th>\n",
       "      <th>Energy Supply per capita</th>\n",
       "      <th>% Renewable</th>\n",
       "    </tr>\n",
       "  </thead>\n",
       "  <tbody>\n",
       "    <tr>\n",
       "      <th>1</th>\n",
       "      <td>Afghanistan</td>\n",
       "      <td>3.210000e+08</td>\n",
       "      <td>10.0</td>\n",
       "      <td>78.669280</td>\n",
       "    </tr>\n",
       "    <tr>\n",
       "      <th>2</th>\n",
       "      <td>Albania</td>\n",
       "      <td>1.020000e+08</td>\n",
       "      <td>35.0</td>\n",
       "      <td>100.000000</td>\n",
       "    </tr>\n",
       "    <tr>\n",
       "      <th>3</th>\n",
       "      <td>Algeria</td>\n",
       "      <td>1.959000e+09</td>\n",
       "      <td>51.0</td>\n",
       "      <td>0.551010</td>\n",
       "    </tr>\n",
       "    <tr>\n",
       "      <th>4</th>\n",
       "      <td>American Samoa</td>\n",
       "      <td>NaN</td>\n",
       "      <td>NaN</td>\n",
       "      <td>0.641026</td>\n",
       "    </tr>\n",
       "    <tr>\n",
       "      <th>5</th>\n",
       "      <td>Andorra</td>\n",
       "      <td>9.000000e+06</td>\n",
       "      <td>121.0</td>\n",
       "      <td>88.695650</td>\n",
       "    </tr>\n",
       "  </tbody>\n",
       "</table>\n",
       "</div>"
      ]
     },
     "metadata": {},
     "execution_count": 200
    }
   ],
   "metadata": {}
  },
  {
   "cell_type": "markdown",
   "source": [
    "### Rename the following list of countries (for use in later questions):\r\n",
    "    - `Republic of Korea`: `South Korea`,\r\n",
    "    - `United States of America`: `United States`,\r\n",
    "    - `United Kingdom of Great Britain and Northern Ireland`: `United Kingdom`,\r\n",
    "    - `China, Hong Kong Special Administrative Region`: `Hong Kong`"
   ],
   "metadata": {}
  },
  {
   "cell_type": "code",
   "execution_count": 201,
   "source": [
    "df = df.replace({ 'Country': {'Republic of Korea': 'South Korea',\r\n",
    "                         'United States of America\\d+': 'United States',\r\n",
    "                         'United Kingdom of Great Britain and Northern Ireland\\d+': 'United Kingdom',\r\n",
    "                         'China, Hong Kong Special Administrative Region\\d+': 'Hong Kong'}}, regex=True)\r\n",
    "\r\n",
    "# check if replace was successful\r\n",
    "[df.loc[df['Country'] == country] for country in ['Hong Kong', 'South Korea', 'United States', 'United Kingdom']]\r\n",
    "\r\n",
    "\r\n",
    "    "
   ],
   "outputs": [
    {
     "output_type": "execute_result",
     "data": {
      "text/plain": [
       "[      Country  Energy Supply  Energy Supply per capita  % Renewable\n",
       " 44  Hong Kong    585000000.0                      82.0          0.0,\n",
       "          Country  Energy Supply  Energy Supply per capita  % Renewable\n",
       " 165  South Korea   1.100700e+10                     221.0     2.279353,\n",
       "            Country  Energy Supply  Energy Supply per capita  % Renewable\n",
       " 217  United States   9.083800e+10                     286.0     11.57098,\n",
       "             Country  Energy Supply  Energy Supply per capita  % Renewable\n",
       " 215  United Kingdom   7.920000e+09                     124.0     10.60047]"
      ]
     },
     "metadata": {},
     "execution_count": 201
    }
   ],
   "metadata": {}
  },
  {
   "cell_type": "markdown",
   "source": [
    "### There are also several countries with numbers and/or parenthesis in their name. Be sure to remove these, e.g.:\r\n",
    "    - `Bolivia (Plurinational State of)` should be `Bolivia`,\r\n",
    "    - `Switzerland17` should be `Switzerland`."
   ],
   "metadata": {}
  },
  {
   "cell_type": "code",
   "execution_count": 202,
   "source": [
    "# replace:\r\n",
    "# Switzerland17 -> Switzerland\r\n",
    "# Bolivia (Plurinational State of) -> Bolivia\r\n",
    "df = df.replace({ 'Country': { r'([A-z]+)\\d+': r'\\1', r'(\\w+) \\(.*\\)': r'\\1' } }, regex=True)\r\n",
    "\r\n",
    "[df.loc[df['Country'] == country] for country in ['Switzerland', 'Bolivia']]"
   ],
   "outputs": [
    {
     "output_type": "execute_result",
     "data": {
      "text/plain": [
       "[         Country  Energy Supply  Energy Supply per capita  % Renewable\n",
       " 198  Switzerland   1.113000e+09                     136.0     57.74548,\n",
       "     Country  Energy Supply  Energy Supply per capita  % Renewable\n",
       " 25  Bolivia    336000000.0                      32.0     31.47712]"
      ]
     },
     "metadata": {},
     "execution_count": 202
    }
   ],
   "metadata": {}
  },
  {
   "cell_type": "markdown",
   "source": [
    "### Next, load the GDP data from the file [\"world_bank.csv\"](http://data.worldbank.org/indicator/NY.GDP.MKTP.CD).\r\n",
    "\r\n",
    "It is a csv containing countries' GDP from 1960 to 2015 from World Bank. Call this DataFrame \"GDP\"\r\n",
    "\r\n",
    "Make sure to skip the header, and rename the following list of countries:\r\n",
    "- `Korea, Rep.`: `South Korea`,\r\n",
    "- `Iran, Islamic Rep.`: `Iran`,\r\n",
    "- `Hong Kong SAR, China`: `Hong Kong`"
   ],
   "metadata": {}
  },
  {
   "cell_type": "code",
   "execution_count": 215,
   "source": [
    "df_gdp = pd.read_excel('world_bank.xls', skiprows=3)\r\n",
    "\r\n",
    "df_gdp.head(2)"
   ],
   "outputs": [
    {
     "output_type": "execute_result",
     "data": {
      "text/plain": [
       "                  Country Name Country Code     Indicator Name  \\\n",
       "0                        Aruba          ABW  GDP (current US$)   \n",
       "1  Africa Eastern and Southern          AFE  GDP (current US$)   \n",
       "\n",
       "   Indicator Code          1960          1961          1962          1963  \\\n",
       "0  NY.GDP.MKTP.CD           NaN           NaN           NaN           NaN   \n",
       "1  NY.GDP.MKTP.CD  1.929193e+10  1.970186e+10  2.147035e+10  2.570500e+10   \n",
       "\n",
       "           1964          1965  ...          2011          2012          2013  \\\n",
       "0           NaN           NaN  ...  2.549721e+09  2.534637e+09  2.727850e+09   \n",
       "1  2.350165e+10  2.678117e+10  ...  8.962561e+11  9.131974e+11  9.276555e+11   \n",
       "\n",
       "           2014          2015          2016          2017          2018  \\\n",
       "0  2.790849e+09  2.962905e+09  2.983637e+09  3.092430e+09  3.202189e+09   \n",
       "1  9.563187e+11  8.930997e+11  8.547519e+11  9.622690e+11  9.840320e+11   \n",
       "\n",
       "           2019          2020  \n",
       "0           NaN           NaN  \n",
       "1  9.778092e+11  8.984741e+11  \n",
       "\n",
       "[2 rows x 65 columns]"
      ],
      "text/html": [
       "<div>\n",
       "<style scoped>\n",
       "    .dataframe tbody tr th:only-of-type {\n",
       "        vertical-align: middle;\n",
       "    }\n",
       "\n",
       "    .dataframe tbody tr th {\n",
       "        vertical-align: top;\n",
       "    }\n",
       "\n",
       "    .dataframe thead th {\n",
       "        text-align: right;\n",
       "    }\n",
       "</style>\n",
       "<table border=\"1\" class=\"dataframe\">\n",
       "  <thead>\n",
       "    <tr style=\"text-align: right;\">\n",
       "      <th></th>\n",
       "      <th>Country Name</th>\n",
       "      <th>Country Code</th>\n",
       "      <th>Indicator Name</th>\n",
       "      <th>Indicator Code</th>\n",
       "      <th>1960</th>\n",
       "      <th>1961</th>\n",
       "      <th>1962</th>\n",
       "      <th>1963</th>\n",
       "      <th>1964</th>\n",
       "      <th>1965</th>\n",
       "      <th>...</th>\n",
       "      <th>2011</th>\n",
       "      <th>2012</th>\n",
       "      <th>2013</th>\n",
       "      <th>2014</th>\n",
       "      <th>2015</th>\n",
       "      <th>2016</th>\n",
       "      <th>2017</th>\n",
       "      <th>2018</th>\n",
       "      <th>2019</th>\n",
       "      <th>2020</th>\n",
       "    </tr>\n",
       "  </thead>\n",
       "  <tbody>\n",
       "    <tr>\n",
       "      <th>0</th>\n",
       "      <td>Aruba</td>\n",
       "      <td>ABW</td>\n",
       "      <td>GDP (current US$)</td>\n",
       "      <td>NY.GDP.MKTP.CD</td>\n",
       "      <td>NaN</td>\n",
       "      <td>NaN</td>\n",
       "      <td>NaN</td>\n",
       "      <td>NaN</td>\n",
       "      <td>NaN</td>\n",
       "      <td>NaN</td>\n",
       "      <td>...</td>\n",
       "      <td>2.549721e+09</td>\n",
       "      <td>2.534637e+09</td>\n",
       "      <td>2.727850e+09</td>\n",
       "      <td>2.790849e+09</td>\n",
       "      <td>2.962905e+09</td>\n",
       "      <td>2.983637e+09</td>\n",
       "      <td>3.092430e+09</td>\n",
       "      <td>3.202189e+09</td>\n",
       "      <td>NaN</td>\n",
       "      <td>NaN</td>\n",
       "    </tr>\n",
       "    <tr>\n",
       "      <th>1</th>\n",
       "      <td>Africa Eastern and Southern</td>\n",
       "      <td>AFE</td>\n",
       "      <td>GDP (current US$)</td>\n",
       "      <td>NY.GDP.MKTP.CD</td>\n",
       "      <td>1.929193e+10</td>\n",
       "      <td>1.970186e+10</td>\n",
       "      <td>2.147035e+10</td>\n",
       "      <td>2.570500e+10</td>\n",
       "      <td>2.350165e+10</td>\n",
       "      <td>2.678117e+10</td>\n",
       "      <td>...</td>\n",
       "      <td>8.962561e+11</td>\n",
       "      <td>9.131974e+11</td>\n",
       "      <td>9.276555e+11</td>\n",
       "      <td>9.563187e+11</td>\n",
       "      <td>8.930997e+11</td>\n",
       "      <td>8.547519e+11</td>\n",
       "      <td>9.622690e+11</td>\n",
       "      <td>9.840320e+11</td>\n",
       "      <td>9.778092e+11</td>\n",
       "      <td>8.984741e+11</td>\n",
       "    </tr>\n",
       "  </tbody>\n",
       "</table>\n",
       "<p>2 rows × 65 columns</p>\n",
       "</div>"
      ]
     },
     "metadata": {},
     "execution_count": 215
    }
   ],
   "metadata": {}
  },
  {
   "cell_type": "code",
   "execution_count": 216,
   "source": [
    "df_gdp = df_gdp.rename(columns={ 'Country Name': 'Country' })\r\n",
    "\r\n",
    "df_gdp = df_gdp.replace({ 'Country': { 'Korea, Rep.': 'South Korea', 'Iran, Islamic Rep.': 'Iran', 'Hong Kong SAR, China': 'Hong Kong' } })\r\n",
    "\r\n",
    "[df_gdp.loc[df_gdp['Country'] == country] for country in ['South Korea', 'Iran', 'Hong Kong']]"
   ],
   "outputs": [
    {
     "output_type": "error",
     "ename": "KeyError",
     "evalue": "'Country'",
     "traceback": [
      "\u001b[1;31m---------------------------------------------------------------------------\u001b[0m",
      "\u001b[1;31mKeyError\u001b[0m                                  Traceback (most recent call last)",
      "\u001b[1;32mc:\\Users\\havrylov.mykola\\Desktop\\work\\python\\ds_kemp_my\\venv\\lib\\site-packages\\pandas\\core\\indexes\\base.py\u001b[0m in \u001b[0;36mget_loc\u001b[1;34m(self, key, method, tolerance)\u001b[0m\n\u001b[0;32m   3360\u001b[0m             \u001b[1;32mtry\u001b[0m\u001b[1;33m:\u001b[0m\u001b[1;33m\u001b[0m\u001b[1;33m\u001b[0m\u001b[0m\n\u001b[1;32m-> 3361\u001b[1;33m                 \u001b[1;32mreturn\u001b[0m \u001b[0mself\u001b[0m\u001b[1;33m.\u001b[0m\u001b[0m_engine\u001b[0m\u001b[1;33m.\u001b[0m\u001b[0mget_loc\u001b[0m\u001b[1;33m(\u001b[0m\u001b[0mcasted_key\u001b[0m\u001b[1;33m)\u001b[0m\u001b[1;33m\u001b[0m\u001b[1;33m\u001b[0m\u001b[0m\n\u001b[0m\u001b[0;32m   3362\u001b[0m             \u001b[1;32mexcept\u001b[0m \u001b[0mKeyError\u001b[0m \u001b[1;32mas\u001b[0m \u001b[0merr\u001b[0m\u001b[1;33m:\u001b[0m\u001b[1;33m\u001b[0m\u001b[1;33m\u001b[0m\u001b[0m\n",
      "\u001b[1;32mc:\\Users\\havrylov.mykola\\Desktop\\work\\python\\ds_kemp_my\\venv\\lib\\site-packages\\pandas\\_libs\\index.pyx\u001b[0m in \u001b[0;36mpandas._libs.index.IndexEngine.get_loc\u001b[1;34m()\u001b[0m\n",
      "\u001b[1;32mc:\\Users\\havrylov.mykola\\Desktop\\work\\python\\ds_kemp_my\\venv\\lib\\site-packages\\pandas\\_libs\\index.pyx\u001b[0m in \u001b[0;36mpandas._libs.index.IndexEngine.get_loc\u001b[1;34m()\u001b[0m\n",
      "\u001b[1;32mpandas\\_libs\\hashtable_class_helper.pxi\u001b[0m in \u001b[0;36mpandas._libs.hashtable.PyObjectHashTable.get_item\u001b[1;34m()\u001b[0m\n",
      "\u001b[1;32mpandas\\_libs\\hashtable_class_helper.pxi\u001b[0m in \u001b[0;36mpandas._libs.hashtable.PyObjectHashTable.get_item\u001b[1;34m()\u001b[0m\n",
      "\u001b[1;31mKeyError\u001b[0m: 'Country'",
      "\nThe above exception was the direct cause of the following exception:\n",
      "\u001b[1;31mKeyError\u001b[0m                                  Traceback (most recent call last)",
      "\u001b[1;32mC:\\Users\\HAVRYL~1.MYK\\AppData\\Local\\Temp/ipykernel_12280/1055339858.py\u001b[0m in \u001b[0;36m<module>\u001b[1;34m\u001b[0m\n\u001b[0;32m      3\u001b[0m \u001b[0mdf_gdp\u001b[0m \u001b[1;33m=\u001b[0m \u001b[0mdf_gdp\u001b[0m\u001b[1;33m.\u001b[0m\u001b[0mreplace\u001b[0m\u001b[1;33m(\u001b[0m\u001b[1;33m{\u001b[0m \u001b[1;34m'Country'\u001b[0m\u001b[1;33m:\u001b[0m \u001b[1;33m{\u001b[0m \u001b[1;34m'Korea, Rep.'\u001b[0m\u001b[1;33m:\u001b[0m \u001b[1;34m'South Korea'\u001b[0m\u001b[1;33m,\u001b[0m \u001b[1;34m'Iran, Islamic Rep.'\u001b[0m\u001b[1;33m:\u001b[0m \u001b[1;34m'Iran'\u001b[0m\u001b[1;33m,\u001b[0m \u001b[1;34m'Hong Kong SAR, China'\u001b[0m\u001b[1;33m:\u001b[0m \u001b[1;34m'Hong Kong'\u001b[0m \u001b[1;33m}\u001b[0m \u001b[1;33m}\u001b[0m\u001b[1;33m)\u001b[0m\u001b[1;33m\u001b[0m\u001b[1;33m\u001b[0m\u001b[0m\n\u001b[0;32m      4\u001b[0m \u001b[1;33m\u001b[0m\u001b[0m\n\u001b[1;32m----> 5\u001b[1;33m \u001b[1;33m[\u001b[0m\u001b[0mdf_gdp\u001b[0m\u001b[1;33m.\u001b[0m\u001b[0mloc\u001b[0m\u001b[1;33m[\u001b[0m\u001b[0mdf_gdp\u001b[0m\u001b[1;33m[\u001b[0m\u001b[1;34m'Country'\u001b[0m\u001b[1;33m]\u001b[0m \u001b[1;33m==\u001b[0m \u001b[0mcountry\u001b[0m\u001b[1;33m]\u001b[0m \u001b[1;32mfor\u001b[0m \u001b[0mcountry\u001b[0m \u001b[1;32min\u001b[0m \u001b[1;33m[\u001b[0m\u001b[1;34m'South Korea'\u001b[0m\u001b[1;33m,\u001b[0m \u001b[1;34m'Iran'\u001b[0m\u001b[1;33m,\u001b[0m \u001b[1;34m'Hong Kong'\u001b[0m\u001b[1;33m]\u001b[0m\u001b[1;33m]\u001b[0m\u001b[1;33m\u001b[0m\u001b[1;33m\u001b[0m\u001b[0m\n\u001b[0m",
      "\u001b[1;32mC:\\Users\\HAVRYL~1.MYK\\AppData\\Local\\Temp/ipykernel_12280/1055339858.py\u001b[0m in \u001b[0;36m<listcomp>\u001b[1;34m(.0)\u001b[0m\n\u001b[0;32m      3\u001b[0m \u001b[0mdf_gdp\u001b[0m \u001b[1;33m=\u001b[0m \u001b[0mdf_gdp\u001b[0m\u001b[1;33m.\u001b[0m\u001b[0mreplace\u001b[0m\u001b[1;33m(\u001b[0m\u001b[1;33m{\u001b[0m \u001b[1;34m'Country'\u001b[0m\u001b[1;33m:\u001b[0m \u001b[1;33m{\u001b[0m \u001b[1;34m'Korea, Rep.'\u001b[0m\u001b[1;33m:\u001b[0m \u001b[1;34m'South Korea'\u001b[0m\u001b[1;33m,\u001b[0m \u001b[1;34m'Iran, Islamic Rep.'\u001b[0m\u001b[1;33m:\u001b[0m \u001b[1;34m'Iran'\u001b[0m\u001b[1;33m,\u001b[0m \u001b[1;34m'Hong Kong SAR, China'\u001b[0m\u001b[1;33m:\u001b[0m \u001b[1;34m'Hong Kong'\u001b[0m \u001b[1;33m}\u001b[0m \u001b[1;33m}\u001b[0m\u001b[1;33m)\u001b[0m\u001b[1;33m\u001b[0m\u001b[1;33m\u001b[0m\u001b[0m\n\u001b[0;32m      4\u001b[0m \u001b[1;33m\u001b[0m\u001b[0m\n\u001b[1;32m----> 5\u001b[1;33m \u001b[1;33m[\u001b[0m\u001b[0mdf_gdp\u001b[0m\u001b[1;33m.\u001b[0m\u001b[0mloc\u001b[0m\u001b[1;33m[\u001b[0m\u001b[0mdf_gdp\u001b[0m\u001b[1;33m[\u001b[0m\u001b[1;34m'Country'\u001b[0m\u001b[1;33m]\u001b[0m \u001b[1;33m==\u001b[0m \u001b[0mcountry\u001b[0m\u001b[1;33m]\u001b[0m \u001b[1;32mfor\u001b[0m \u001b[0mcountry\u001b[0m \u001b[1;32min\u001b[0m \u001b[1;33m[\u001b[0m\u001b[1;34m'South Korea'\u001b[0m\u001b[1;33m,\u001b[0m \u001b[1;34m'Iran'\u001b[0m\u001b[1;33m,\u001b[0m \u001b[1;34m'Hong Kong'\u001b[0m\u001b[1;33m]\u001b[0m\u001b[1;33m]\u001b[0m\u001b[1;33m\u001b[0m\u001b[1;33m\u001b[0m\u001b[0m\n\u001b[0m",
      "\u001b[1;32mc:\\Users\\havrylov.mykola\\Desktop\\work\\python\\ds_kemp_my\\venv\\lib\\site-packages\\pandas\\core\\frame.py\u001b[0m in \u001b[0;36m__getitem__\u001b[1;34m(self, key)\u001b[0m\n\u001b[0;32m   3453\u001b[0m             \u001b[1;32mif\u001b[0m \u001b[0mself\u001b[0m\u001b[1;33m.\u001b[0m\u001b[0mcolumns\u001b[0m\u001b[1;33m.\u001b[0m\u001b[0mnlevels\u001b[0m \u001b[1;33m>\u001b[0m \u001b[1;36m1\u001b[0m\u001b[1;33m:\u001b[0m\u001b[1;33m\u001b[0m\u001b[1;33m\u001b[0m\u001b[0m\n\u001b[0;32m   3454\u001b[0m                 \u001b[1;32mreturn\u001b[0m \u001b[0mself\u001b[0m\u001b[1;33m.\u001b[0m\u001b[0m_getitem_multilevel\u001b[0m\u001b[1;33m(\u001b[0m\u001b[0mkey\u001b[0m\u001b[1;33m)\u001b[0m\u001b[1;33m\u001b[0m\u001b[1;33m\u001b[0m\u001b[0m\n\u001b[1;32m-> 3455\u001b[1;33m             \u001b[0mindexer\u001b[0m \u001b[1;33m=\u001b[0m \u001b[0mself\u001b[0m\u001b[1;33m.\u001b[0m\u001b[0mcolumns\u001b[0m\u001b[1;33m.\u001b[0m\u001b[0mget_loc\u001b[0m\u001b[1;33m(\u001b[0m\u001b[0mkey\u001b[0m\u001b[1;33m)\u001b[0m\u001b[1;33m\u001b[0m\u001b[1;33m\u001b[0m\u001b[0m\n\u001b[0m\u001b[0;32m   3456\u001b[0m             \u001b[1;32mif\u001b[0m \u001b[0mis_integer\u001b[0m\u001b[1;33m(\u001b[0m\u001b[0mindexer\u001b[0m\u001b[1;33m)\u001b[0m\u001b[1;33m:\u001b[0m\u001b[1;33m\u001b[0m\u001b[1;33m\u001b[0m\u001b[0m\n\u001b[0;32m   3457\u001b[0m                 \u001b[0mindexer\u001b[0m \u001b[1;33m=\u001b[0m \u001b[1;33m[\u001b[0m\u001b[0mindexer\u001b[0m\u001b[1;33m]\u001b[0m\u001b[1;33m\u001b[0m\u001b[1;33m\u001b[0m\u001b[0m\n",
      "\u001b[1;32mc:\\Users\\havrylov.mykola\\Desktop\\work\\python\\ds_kemp_my\\venv\\lib\\site-packages\\pandas\\core\\indexes\\base.py\u001b[0m in \u001b[0;36mget_loc\u001b[1;34m(self, key, method, tolerance)\u001b[0m\n\u001b[0;32m   3361\u001b[0m                 \u001b[1;32mreturn\u001b[0m \u001b[0mself\u001b[0m\u001b[1;33m.\u001b[0m\u001b[0m_engine\u001b[0m\u001b[1;33m.\u001b[0m\u001b[0mget_loc\u001b[0m\u001b[1;33m(\u001b[0m\u001b[0mcasted_key\u001b[0m\u001b[1;33m)\u001b[0m\u001b[1;33m\u001b[0m\u001b[1;33m\u001b[0m\u001b[0m\n\u001b[0;32m   3362\u001b[0m             \u001b[1;32mexcept\u001b[0m \u001b[0mKeyError\u001b[0m \u001b[1;32mas\u001b[0m \u001b[0merr\u001b[0m\u001b[1;33m:\u001b[0m\u001b[1;33m\u001b[0m\u001b[1;33m\u001b[0m\u001b[0m\n\u001b[1;32m-> 3363\u001b[1;33m                 \u001b[1;32mraise\u001b[0m \u001b[0mKeyError\u001b[0m\u001b[1;33m(\u001b[0m\u001b[0mkey\u001b[0m\u001b[1;33m)\u001b[0m \u001b[1;32mfrom\u001b[0m \u001b[0merr\u001b[0m\u001b[1;33m\u001b[0m\u001b[1;33m\u001b[0m\u001b[0m\n\u001b[0m\u001b[0;32m   3364\u001b[0m \u001b[1;33m\u001b[0m\u001b[0m\n\u001b[0;32m   3365\u001b[0m         \u001b[1;32mif\u001b[0m \u001b[0mis_scalar\u001b[0m\u001b[1;33m(\u001b[0m\u001b[0mkey\u001b[0m\u001b[1;33m)\u001b[0m \u001b[1;32mand\u001b[0m \u001b[0misna\u001b[0m\u001b[1;33m(\u001b[0m\u001b[0mkey\u001b[0m\u001b[1;33m)\u001b[0m \u001b[1;32mand\u001b[0m \u001b[1;32mnot\u001b[0m \u001b[0mself\u001b[0m\u001b[1;33m.\u001b[0m\u001b[0mhasnans\u001b[0m\u001b[1;33m:\u001b[0m\u001b[1;33m\u001b[0m\u001b[1;33m\u001b[0m\u001b[0m\n",
      "\u001b[1;31mKeyError\u001b[0m: 'Country'"
     ]
    }
   ],
   "metadata": {}
  },
  {
   "cell_type": "markdown",
   "source": [
    "## Read the last dataset"
   ],
   "metadata": {}
  },
  {
   "cell_type": "code",
   "execution_count": 213,
   "source": [
    "df_sci = pd.read_excel('scimagojr country rank 1996-2020.xlsx')\r\n",
    "\r\n",
    "df_sci"
   ],
   "outputs": [
    {
     "output_type": "execute_result",
     "data": {
      "text/plain": [
       "     Rank                   Country            Region  Documents  \\\n",
       "0       1                     China    Asiatic Region     273437   \n",
       "1       2             United States  Northern America     175891   \n",
       "2       3                     India    Asiatic Region      55082   \n",
       "3       4                     Japan    Asiatic Region      50523   \n",
       "4       5            United Kingdom    Western Europe      43389   \n",
       "..    ...                       ...               ...        ...   \n",
       "203   204                   Comoros            Africa          1   \n",
       "204   205    Svalbard and Jan Mayen    Western Europe          1   \n",
       "205   206                     Palau    Pacific Region          1   \n",
       "206   207                   Bahamas     Latin America          1   \n",
       "207   208  Central African Republic            Africa          1   \n",
       "\n",
       "     Citable documents  Citations  Self-citations  Citations per document  \\\n",
       "0               272374    2336764         1615239                    8.55   \n",
       "1               172431    2230544          724472                   12.68   \n",
       "2                53775     463165          162944                    8.41   \n",
       "3                50065     488062          119930                    9.66   \n",
       "4                42284     615670          111290                   14.19   \n",
       "..                 ...        ...             ...                     ...   \n",
       "203                  1          0               0                    0.00   \n",
       "204                  1          0               0                    0.00   \n",
       "205                  1          0               0                    0.00   \n",
       "206                  1          0               0                    0.00   \n",
       "207                  1          0               0                    0.00   \n",
       "\n",
       "     H index  \n",
       "0        245  \n",
       "1        363  \n",
       "2        181  \n",
       "3        193  \n",
       "4        226  \n",
       "..       ...  \n",
       "203        0  \n",
       "204        0  \n",
       "205        0  \n",
       "206        0  \n",
       "207        0  \n",
       "\n",
       "[208 rows x 9 columns]"
      ],
      "text/html": [
       "<div>\n",
       "<style scoped>\n",
       "    .dataframe tbody tr th:only-of-type {\n",
       "        vertical-align: middle;\n",
       "    }\n",
       "\n",
       "    .dataframe tbody tr th {\n",
       "        vertical-align: top;\n",
       "    }\n",
       "\n",
       "    .dataframe thead th {\n",
       "        text-align: right;\n",
       "    }\n",
       "</style>\n",
       "<table border=\"1\" class=\"dataframe\">\n",
       "  <thead>\n",
       "    <tr style=\"text-align: right;\">\n",
       "      <th></th>\n",
       "      <th>Rank</th>\n",
       "      <th>Country</th>\n",
       "      <th>Region</th>\n",
       "      <th>Documents</th>\n",
       "      <th>Citable documents</th>\n",
       "      <th>Citations</th>\n",
       "      <th>Self-citations</th>\n",
       "      <th>Citations per document</th>\n",
       "      <th>H index</th>\n",
       "    </tr>\n",
       "  </thead>\n",
       "  <tbody>\n",
       "    <tr>\n",
       "      <th>0</th>\n",
       "      <td>1</td>\n",
       "      <td>China</td>\n",
       "      <td>Asiatic Region</td>\n",
       "      <td>273437</td>\n",
       "      <td>272374</td>\n",
       "      <td>2336764</td>\n",
       "      <td>1615239</td>\n",
       "      <td>8.55</td>\n",
       "      <td>245</td>\n",
       "    </tr>\n",
       "    <tr>\n",
       "      <th>1</th>\n",
       "      <td>2</td>\n",
       "      <td>United States</td>\n",
       "      <td>Northern America</td>\n",
       "      <td>175891</td>\n",
       "      <td>172431</td>\n",
       "      <td>2230544</td>\n",
       "      <td>724472</td>\n",
       "      <td>12.68</td>\n",
       "      <td>363</td>\n",
       "    </tr>\n",
       "    <tr>\n",
       "      <th>2</th>\n",
       "      <td>3</td>\n",
       "      <td>India</td>\n",
       "      <td>Asiatic Region</td>\n",
       "      <td>55082</td>\n",
       "      <td>53775</td>\n",
       "      <td>463165</td>\n",
       "      <td>162944</td>\n",
       "      <td>8.41</td>\n",
       "      <td>181</td>\n",
       "    </tr>\n",
       "    <tr>\n",
       "      <th>3</th>\n",
       "      <td>4</td>\n",
       "      <td>Japan</td>\n",
       "      <td>Asiatic Region</td>\n",
       "      <td>50523</td>\n",
       "      <td>50065</td>\n",
       "      <td>488062</td>\n",
       "      <td>119930</td>\n",
       "      <td>9.66</td>\n",
       "      <td>193</td>\n",
       "    </tr>\n",
       "    <tr>\n",
       "      <th>4</th>\n",
       "      <td>5</td>\n",
       "      <td>United Kingdom</td>\n",
       "      <td>Western Europe</td>\n",
       "      <td>43389</td>\n",
       "      <td>42284</td>\n",
       "      <td>615670</td>\n",
       "      <td>111290</td>\n",
       "      <td>14.19</td>\n",
       "      <td>226</td>\n",
       "    </tr>\n",
       "    <tr>\n",
       "      <th>...</th>\n",
       "      <td>...</td>\n",
       "      <td>...</td>\n",
       "      <td>...</td>\n",
       "      <td>...</td>\n",
       "      <td>...</td>\n",
       "      <td>...</td>\n",
       "      <td>...</td>\n",
       "      <td>...</td>\n",
       "      <td>...</td>\n",
       "    </tr>\n",
       "    <tr>\n",
       "      <th>203</th>\n",
       "      <td>204</td>\n",
       "      <td>Comoros</td>\n",
       "      <td>Africa</td>\n",
       "      <td>1</td>\n",
       "      <td>1</td>\n",
       "      <td>0</td>\n",
       "      <td>0</td>\n",
       "      <td>0.00</td>\n",
       "      <td>0</td>\n",
       "    </tr>\n",
       "    <tr>\n",
       "      <th>204</th>\n",
       "      <td>205</td>\n",
       "      <td>Svalbard and Jan Mayen</td>\n",
       "      <td>Western Europe</td>\n",
       "      <td>1</td>\n",
       "      <td>1</td>\n",
       "      <td>0</td>\n",
       "      <td>0</td>\n",
       "      <td>0.00</td>\n",
       "      <td>0</td>\n",
       "    </tr>\n",
       "    <tr>\n",
       "      <th>205</th>\n",
       "      <td>206</td>\n",
       "      <td>Palau</td>\n",
       "      <td>Pacific Region</td>\n",
       "      <td>1</td>\n",
       "      <td>1</td>\n",
       "      <td>0</td>\n",
       "      <td>0</td>\n",
       "      <td>0.00</td>\n",
       "      <td>0</td>\n",
       "    </tr>\n",
       "    <tr>\n",
       "      <th>206</th>\n",
       "      <td>207</td>\n",
       "      <td>Bahamas</td>\n",
       "      <td>Latin America</td>\n",
       "      <td>1</td>\n",
       "      <td>1</td>\n",
       "      <td>0</td>\n",
       "      <td>0</td>\n",
       "      <td>0.00</td>\n",
       "      <td>0</td>\n",
       "    </tr>\n",
       "    <tr>\n",
       "      <th>207</th>\n",
       "      <td>208</td>\n",
       "      <td>Central African Republic</td>\n",
       "      <td>Africa</td>\n",
       "      <td>1</td>\n",
       "      <td>1</td>\n",
       "      <td>0</td>\n",
       "      <td>0</td>\n",
       "      <td>0.00</td>\n",
       "      <td>0</td>\n",
       "    </tr>\n",
       "  </tbody>\n",
       "</table>\n",
       "<p>208 rows × 9 columns</p>\n",
       "</div>"
      ]
     },
     "metadata": {},
     "execution_count": 213
    }
   ],
   "metadata": {}
  },
  {
   "cell_type": "markdown",
   "source": [
    "## Answer the following questions in the context of only the top 15 countries by Scimagojr Rank (aka the DataFrame returned by `answer_one()`)"
   ],
   "metadata": {}
  },
  {
   "cell_type": "markdown",
   "source": [
    "### Question 2\n",
    "What is the average GDP over the last 10 years for each country? (exclude missing values from this calculation.)\n",
    "\n",
    "*This function should return a Series named `avgGDP` with 15 countries and their average GDP sorted in descending order.*"
   ],
   "metadata": {}
  },
  {
   "cell_type": "code",
   "execution_count": 1,
   "source": [
    "def answer_two():\r\n",
    "    Top15 = answer_one()\r\n",
    "    return \"ANSWER\""
   ],
   "outputs": [],
   "metadata": {
    "scrolled": true
   }
  },
  {
   "cell_type": "markdown",
   "source": [
    "### Question 3\n",
    "By how much had the GDP changed over the 10 year span for the country with the 6th largest average GDP?\n",
    "\n",
    "*This function should return a single number.*"
   ],
   "metadata": {}
  },
  {
   "cell_type": "code",
   "execution_count": 2,
   "source": [
    "def answer_three():\r\n",
    "    Top15 = answer_one()\r\n",
    "    return \"ANSWER\""
   ],
   "outputs": [],
   "metadata": {
    "scrolled": true
   }
  },
  {
   "cell_type": "markdown",
   "source": [
    "### Question 4\n",
    "\n",
    "Create a new column that is the ratio of Self-Citations to Total Citations. \n",
    "What is the maximum value for this new column, and what country has the highest ratio?\n",
    "\n",
    "*This function should return a tuple with the name of the country and the ratio.*"
   ],
   "metadata": {}
  },
  {
   "cell_type": "code",
   "execution_count": 3,
   "source": [
    "def answer_four():\r\n",
    "    Top15 = answer_one()\r\n",
    "    return \"ANSWER\"\r\n"
   ],
   "outputs": [],
   "metadata": {}
  },
  {
   "cell_type": "markdown",
   "source": [
    "### Question 5\n",
    "\n",
    "Create a column that estimates the population using Energy Supply and Energy Supply per capita. \n",
    "What is the third most populous country according to this estimate?\n",
    "\n",
    "*This function should return a single string value.*"
   ],
   "metadata": {}
  },
  {
   "cell_type": "code",
   "execution_count": 4,
   "source": [
    "def answer_five():\r\n",
    "    Top15 = answer_one()\r\n",
    "    return \"ANSWER\""
   ],
   "outputs": [],
   "metadata": {}
  },
  {
   "cell_type": "markdown",
   "source": [
    "### Question 6\n",
    "Create a column that estimates the number of citable documents per person. \n",
    "What is the correlation between the number of citable documents per capita and the energy supply per capita? Use the `.corr()` method, (Pearson's correlation).\n",
    "\n",
    "*This function should return a single number.*\n"
   ],
   "metadata": {}
  },
  {
   "cell_type": "code",
   "execution_count": 5,
   "source": [
    "def answer_six():\r\n",
    "    Top15 = answer_one()\r\n",
    "    return \"ANSWER\""
   ],
   "outputs": [],
   "metadata": {}
  },
  {
   "cell_type": "markdown",
   "source": [
    "### Question 7\n",
    "Use the following dictionary to group the Countries by Continent, then create a dateframe that displays the sample size (the number of countries in each continent bin), and the sum, mean, and std deviation for the estimated population of each country.\n",
    "\n",
    "```python\n",
    "ContinentDict  = {'China':'Asia', \n",
    "                  'United States':'North America', \n",
    "                  'Japan':'Asia', \n",
    "                  'United Kingdom':'Europe', \n",
    "                  'Russian Federation':'Europe', \n",
    "                  'Canada':'North America', \n",
    "                  'Germany':'Europe', \n",
    "                  'India':'Asia',\n",
    "                  'France':'Europe', \n",
    "                  'South Korea':'Asia', \n",
    "                  'Italy':'Europe', \n",
    "                  'Spain':'Europe', \n",
    "                  'Iran':'Asia',\n",
    "                  'Australia':'Australia', \n",
    "                  'Brazil':'South America'}\n",
    "```\n",
    "\n",
    "*This function should return a DataFrame with index named Continent `['Asia', 'Australia', 'Europe', 'North America', 'South America']` and columns `['size', 'sum', 'mean', 'std']`*"
   ],
   "metadata": {}
  },
  {
   "cell_type": "code",
   "execution_count": 6,
   "source": [
    "def answer_seven():\r\n",
    "    Top15 = answer_one()\r\n",
    "    return \"ANSWER\""
   ],
   "outputs": [],
   "metadata": {}
  },
  {
   "cell_type": "code",
   "execution_count": null,
   "source": [],
   "outputs": [],
   "metadata": {}
  }
 ],
 "metadata": {
  "kernelspec": {
   "name": "python3",
   "display_name": "Python 3.9.0 64-bit ('venv': venv)"
  },
  "language_info": {
   "codemirror_mode": {
    "name": "ipython",
    "version": 3
   },
   "file_extension": ".py",
   "mimetype": "text/x-python",
   "name": "python",
   "nbconvert_exporter": "python",
   "pygments_lexer": "ipython3",
   "version": "3.9.0"
  },
  "interpreter": {
   "hash": "8a3aacbb565c63557a204b85df79933b171f06386c9feb813a67dd540eb4da05"
  }
 },
 "nbformat": 4,
 "nbformat_minor": 4
}