{
 "cells": [
  {
   "cell_type": "markdown",
   "source": [
    "<font color = green >\n",
    "\n",
    "# Pandas\n",
    "</font>"
   ],
   "metadata": {}
  },
  {
   "cell_type": "code",
   "execution_count": 39,
   "source": [
    "import pandas as pd "
   ],
   "outputs": [],
   "metadata": {}
  },
  {
   "cell_type": "code",
   "execution_count": 40,
   "source": [
    "# import os\r\n",
    "# cwd= os.getcwd() # current working directory\r\n",
    "# print (cwd)"
   ],
   "outputs": [],
   "metadata": {}
  },
  {
   "cell_type": "code",
   "execution_count": 41,
   "source": [
    "pd.__version__"
   ],
   "outputs": [
    {
     "output_type": "execute_result",
     "data": {
      "text/plain": [
       "'1.3.2'"
      ]
     },
     "metadata": {},
     "execution_count": 41
    }
   ],
   "metadata": {}
  },
  {
   "cell_type": "code",
   "execution_count": 42,
   "source": [
    "pd.__file__"
   ],
   "outputs": [
    {
     "output_type": "execute_result",
     "data": {
      "text/plain": [
       "'c:\\\\Users\\\\havrylov.mykola\\\\Desktop\\\\work\\\\python\\\\DS_Kemp\\\\venv\\\\lib\\\\site-packages\\\\pandas\\\\__init__.py'"
      ]
     },
     "metadata": {},
     "execution_count": 42
    }
   ],
   "metadata": {}
  },
  {
   "cell_type": "markdown",
   "source": [
    "<font color = green >\n",
    "\n",
    "# Series\n",
    "</font>\n",
    "\n",
    "<img src = \"img/series1.jpg\" height=150 width= 150 align=\"left\">\n",
    "<img src = \"img/series.jpg\" height=500 width= 500 align=\"left\">\n",
    "\n"
   ],
   "metadata": {},
   "attachments": {}
  },
  {
   "cell_type": "markdown",
   "source": [
    "<font color = green >\n",
    "\n",
    "### Create series\n",
    "</font>"
   ],
   "metadata": {}
  },
  {
   "cell_type": "code",
   "execution_count": 43,
   "source": [
    "ser= pd.Series(range(4), index = ('A',1,'A',2))\r\n",
    "ser"
   ],
   "outputs": [
    {
     "output_type": "execute_result",
     "data": {
      "text/plain": [
       "A    0\n",
       "1    1\n",
       "A    2\n",
       "2    3\n",
       "dtype: int64"
      ]
     },
     "metadata": {},
     "execution_count": 43
    }
   ],
   "metadata": {}
  },
  {
   "cell_type": "code",
   "execution_count": 44,
   "source": [
    "ser= pd.Series((1,2,3,4)) # automatically assigns indices\r\n",
    "ser"
   ],
   "outputs": [
    {
     "output_type": "execute_result",
     "data": {
      "text/plain": [
       "0    1\n",
       "1    2\n",
       "2    3\n",
       "3    4\n",
       "dtype: int64"
      ]
     },
     "metadata": {},
     "execution_count": 44
    }
   ],
   "metadata": {}
  },
  {
   "cell_type": "code",
   "execution_count": 45,
   "source": [
    "ser = pd.Series({'a':0, 'b':1}, name='created_from_dict')\r\n",
    "ser"
   ],
   "outputs": [
    {
     "output_type": "execute_result",
     "data": {
      "text/plain": [
       "a    0\n",
       "b    1\n",
       "Name: created_from_dict, dtype: int64"
      ]
     },
     "metadata": {},
     "execution_count": 45
    }
   ],
   "metadata": {}
  },
  {
   "cell_type": "markdown",
   "source": [
    "<font color = green >\n",
    "\n",
    "### None type objects\n",
    "</font>"
   ],
   "metadata": {}
  },
  {
   "cell_type": "code",
   "execution_count": 46,
   "source": [
    "# series of str \r\n",
    "ser= pd.Series(['c3pio', 'r2d2', None])\r\n",
    "ser"
   ],
   "outputs": [
    {
     "output_type": "execute_result",
     "data": {
      "text/plain": [
       "0    c3pio\n",
       "1     r2d2\n",
       "2     None\n",
       "dtype: object"
      ]
     },
     "metadata": {},
     "execution_count": 46
    }
   ],
   "metadata": {}
  },
  {
   "cell_type": "code",
   "execution_count": 47,
   "source": [
    "ser[2] == None"
   ],
   "outputs": [
    {
     "output_type": "execute_result",
     "data": {
      "text/plain": [
       "True"
      ]
     },
     "metadata": {},
     "execution_count": 47
    }
   ],
   "metadata": {}
  },
  {
   "cell_type": "code",
   "execution_count": 48,
   "source": [
    "ser[2] is None"
   ],
   "outputs": [
    {
     "output_type": "execute_result",
     "data": {
      "text/plain": [
       "True"
      ]
     },
     "metadata": {},
     "execution_count": 48
    }
   ],
   "metadata": {}
  },
  {
   "cell_type": "markdown",
   "source": [
    "\n",
    "[is None vs == None](https://stackoverflow.com/questions/3257919/what-is-the-difference-between-is-none-and-none)\n",
    "\n",
    "It is more proper to use is None e.g. `== None` may be even not boolean:\n",
    "\n"
   ],
   "metadata": {}
  },
  {
   "cell_type": "code",
   "execution_count": 49,
   "source": [
    "import numpy as np \r\n",
    "a= np.zeros(3)\r\n",
    "print(a == None)\r\n",
    "print(a is None)"
   ],
   "outputs": [
    {
     "output_type": "stream",
     "name": "stdout",
     "text": [
      "[False False False]\n",
      "False\n"
     ]
    }
   ],
   "metadata": {}
  },
  {
   "cell_type": "code",
   "execution_count": 50,
   "source": [
    "# series of numbers  \r\n",
    "ser = pd.Series([1, 3, None])"
   ],
   "outputs": [],
   "metadata": {}
  },
  {
   "cell_type": "code",
   "execution_count": 51,
   "source": [
    "print(ser[2])\r\n",
    "type(ser[2])"
   ],
   "outputs": [
    {
     "output_type": "stream",
     "name": "stdout",
     "text": [
      "nan\n"
     ]
    },
    {
     "output_type": "execute_result",
     "data": {
      "text/plain": [
       "numpy.float64"
      ]
     },
     "metadata": {},
     "execution_count": 51
    }
   ],
   "metadata": {}
  },
  {
   "cell_type": "code",
   "execution_count": 52,
   "source": [
    "ser[2]"
   ],
   "outputs": [
    {
     "output_type": "execute_result",
     "data": {
      "text/plain": [
       "nan"
      ]
     },
     "metadata": {},
     "execution_count": 52
    }
   ],
   "metadata": {}
  },
  {
   "cell_type": "code",
   "execution_count": 53,
   "source": [
    "ser[2] is None"
   ],
   "outputs": [
    {
     "output_type": "execute_result",
     "data": {
      "text/plain": [
       "False"
      ]
     },
     "metadata": {},
     "execution_count": 53
    }
   ],
   "metadata": {}
  },
  {
   "cell_type": "code",
   "execution_count": 54,
   "source": [
    "import numpy as np\r\n",
    "np.nan == np.nan"
   ],
   "outputs": [
    {
     "output_type": "execute_result",
     "data": {
      "text/plain": [
       "False"
      ]
     },
     "metadata": {},
     "execution_count": 54
    }
   ],
   "metadata": {}
  },
  {
   "cell_type": "code",
   "execution_count": 55,
   "source": [
    "np.isnan(ser[2])"
   ],
   "outputs": [
    {
     "output_type": "execute_result",
     "data": {
      "text/plain": [
       "True"
      ]
     },
     "metadata": {},
     "execution_count": 55
    }
   ],
   "metadata": {}
  },
  {
   "cell_type": "markdown",
   "source": [
    "<font color = green >\n",
    "\n",
    "### Quering the series\n",
    "</font>"
   ],
   "metadata": {}
  },
  {
   "cell_type": "code",
   "execution_count": null,
   "source": [],
   "outputs": [],
   "metadata": {}
  },
  {
   "cell_type": "code",
   "execution_count": 56,
   "source": [
    "ser = pd.Series({'a':'val0', 'b':'val1', 'c':'val2',  2:'val3'})\r\n",
    "print (f'Series:\\n{ser}')\r\n",
    "# Note loc, iloc are attributes not functions\r\n",
    "print ('\\nser.iloc[2]=', ser.iloc[2]) # explicit by index position\r\n",
    "print (\"ser.loc['c']=\", ser.loc['c']) # explicit by index label\r\n",
    "try:\r\n",
    "    print (\"\\nTry ser.iloc['c']\")\r\n",
    "    ser.iloc['c'] # explicit by str or absent index\r\n",
    "except Exception as e:\r\n",
    "    print (e) \r\n",
    "\r\n",
    "# Note: Use explicit if possible to avoid unexpected results \r\n",
    "\r\n",
    "try:\r\n",
    "    print ('\\nTry ser[0]')\r\n",
    "    ser[0] # It does not resolve to iloc now though it did \r\n",
    "except KeyError as e:\r\n",
    "    print ('KeyError:', e) \r\n",
    "\r\n",
    "# print ('ser[1]=',ser[1]) # resolves to iloc since no such index label\r\n",
    "print ('\\nresolves to loc:\\nser[2]=', ser[2]) # resolves to loc \r\n",
    "print (\"ser['b']=\", ser['b']) # resolves to loc "
   ],
   "outputs": [
    {
     "output_type": "stream",
     "name": "stdout",
     "text": [
      "Series:\n",
      "a    val0\n",
      "b    val1\n",
      "c    val2\n",
      "2    val3\n",
      "dtype: object\n",
      "\n",
      "ser.iloc[2]= val2\n",
      "ser.loc['c']= val2\n",
      "\n",
      "Try ser.iloc['c']\n",
      "Cannot index by location index with a non-integer key\n",
      "\n",
      "Try ser[0]\n",
      "KeyError: 0\n",
      "\n",
      "resolves to loc:\n",
      "ser[2]= val3\n",
      "ser['b']= val1\n"
     ]
    }
   ],
   "metadata": {}
  },
  {
   "cell_type": "markdown",
   "source": [
    "<font color = green >\n",
    "\n",
    "### Duplicated indices\n",
    "</font>"
   ],
   "metadata": {}
  },
  {
   "cell_type": "code",
   "execution_count": 57,
   "source": [
    "# Note: you cannot provide duplicated indices using dict \r\n",
    "ser = pd.Series({'a':1, 'a':2} )\r\n",
    "print (ser) # just last value provided\r\n",
    "print (f\"ser ['a'] = {ser ['a']}\")\r\n",
    "ser = pd.Series([3, 4], index=['a', 'a'])\r\n",
    "print (f\"\\nser ['a'] = \\n{ser['a']}\") # selects all elements with index label \r\n",
    "ser.loc ['a'] # the same "
   ],
   "outputs": [
    {
     "output_type": "stream",
     "name": "stdout",
     "text": [
      "a    2\n",
      "dtype: int64\n",
      "ser ['a'] = 2\n",
      "\n",
      "ser ['a'] = \n",
      "a    3\n",
      "a    4\n",
      "dtype: int64\n"
     ]
    },
    {
     "output_type": "execute_result",
     "data": {
      "text/plain": [
       "a    3\n",
       "a    4\n",
       "dtype: int64"
      ]
     },
     "metadata": {},
     "execution_count": 57
    }
   ],
   "metadata": {}
  },
  {
   "cell_type": "markdown",
   "source": [
    "<font color = green >\n",
    "    \n",
    "#### Queuring all elements\n",
    "</font>"
   ],
   "metadata": {}
  },
  {
   "cell_type": "code",
   "execution_count": 58,
   "source": [
    "ser.values # query all elements "
   ],
   "outputs": [
    {
     "output_type": "execute_result",
     "data": {
      "text/plain": [
       "array([3, 4], dtype=int64)"
      ]
     },
     "metadata": {},
     "execution_count": 58
    }
   ],
   "metadata": {}
  },
  {
   "cell_type": "code",
   "execution_count": 59,
   "source": [
    "ser.index # query index "
   ],
   "outputs": [
    {
     "output_type": "execute_result",
     "data": {
      "text/plain": [
       "Index(['a', 'a'], dtype='object')"
      ]
     },
     "metadata": {},
     "execution_count": 59
    }
   ],
   "metadata": {}
  },
  {
   "cell_type": "markdown",
   "source": [
    "<font color = green >\n",
    "\n",
    "#### Slizing\n",
    "</font>"
   ],
   "metadata": {}
  },
  {
   "cell_type": "code",
   "execution_count": 60,
   "source": [
    "ser = pd.Series([1, 2,3], index=['a', 'b', 2] )\r\n",
    "ser.iloc[:3]"
   ],
   "outputs": [
    {
     "output_type": "execute_result",
     "data": {
      "text/plain": [
       "a    1\n",
       "b    2\n",
       "2    3\n",
       "dtype: int64"
      ]
     },
     "metadata": {},
     "execution_count": 60
    }
   ],
   "metadata": {}
  },
  {
   "cell_type": "markdown",
   "source": [
    "***\n",
    "<font color = green >\n",
    "    \n",
    "### Set value\n",
    "</font>"
   ],
   "metadata": {}
  },
  {
   "cell_type": "code",
   "execution_count": 61,
   "source": [
    "ser.loc[3] = 'added item'  # use to add new\r\n",
    "print (ser) \r\n",
    "ser.loc[3]= 'modified item'  # use to update \r\n",
    "print (ser)"
   ],
   "outputs": [
    {
     "output_type": "stream",
     "name": "stdout",
     "text": [
      "a             1\n",
      "b             2\n",
      "2             3\n",
      "3    added item\n",
      "dtype: object\n",
      "a                1\n",
      "b                2\n",
      "2                3\n",
      "3    modified item\n",
      "dtype: object\n"
     ]
    }
   ],
   "metadata": {}
  },
  {
   "cell_type": "markdown",
   "source": [
    "*** \n",
    "<font color = green >\n",
    "\n",
    "### Append\n",
    "</font>"
   ],
   "metadata": {}
  },
  {
   "cell_type": "code",
   "execution_count": 62,
   "source": [
    "ser.append(pd.Series({4:5})) \r\n",
    "print (ser) # check it is not updated\r\n",
    "ser = ser.append(pd.Series({4:6}))\r\n",
    "print (ser)"
   ],
   "outputs": [
    {
     "output_type": "stream",
     "name": "stdout",
     "text": [
      "a                1\n",
      "b                2\n",
      "2                3\n",
      "3    modified item\n",
      "dtype: object\n",
      "a                1\n",
      "b                2\n",
      "2                3\n",
      "3    modified item\n",
      "4                6\n",
      "dtype: object\n"
     ]
    }
   ],
   "metadata": {}
  },
  {
   "cell_type": "markdown",
   "source": [
    "*** \r\n",
    "<font color = green >\r\n",
    "\r\n",
    "# DataFrame\r\n",
    "</font>\r\n",
    "\r\n",
    "<img src = \"img/df.jpg\" height=800 width= 800 align=\"left\">"
   ],
   "metadata": {}
  },
  {
   "cell_type": "code",
   "execution_count": 63,
   "source": [
    "# Note: show the picture in ppt"
   ],
   "outputs": [],
   "metadata": {}
  },
  {
   "cell_type": "markdown",
   "source": [
    "<font color = green >\n",
    "\n",
    "### Creating DataFrame\n",
    "</font>"
   ],
   "metadata": {}
  },
  {
   "cell_type": "markdown",
   "source": [
    "<font color = green >\n",
    "    \n",
    "#### Create DataFrame with single element dictionary\n",
    "</font>"
   ],
   "metadata": {}
  },
  {
   "cell_type": "code",
   "execution_count": 64,
   "source": [
    "pd.DataFrame({'model':['mercedes','toyota','peugeot']}) # just list "
   ],
   "outputs": [
    {
     "output_type": "execute_result",
     "data": {
      "text/plain": [
       "      model\n",
       "0  mercedes\n",
       "1    toyota\n",
       "2   peugeot"
      ],
      "text/html": [
       "<div>\n",
       "<style scoped>\n",
       "    .dataframe tbody tr th:only-of-type {\n",
       "        vertical-align: middle;\n",
       "    }\n",
       "\n",
       "    .dataframe tbody tr th {\n",
       "        vertical-align: top;\n",
       "    }\n",
       "\n",
       "    .dataframe thead th {\n",
       "        text-align: right;\n",
       "    }\n",
       "</style>\n",
       "<table border=\"1\" class=\"dataframe\">\n",
       "  <thead>\n",
       "    <tr style=\"text-align: right;\">\n",
       "      <th></th>\n",
       "      <th>model</th>\n",
       "    </tr>\n",
       "  </thead>\n",
       "  <tbody>\n",
       "    <tr>\n",
       "      <th>0</th>\n",
       "      <td>mercedes</td>\n",
       "    </tr>\n",
       "    <tr>\n",
       "      <th>1</th>\n",
       "      <td>toyota</td>\n",
       "    </tr>\n",
       "    <tr>\n",
       "      <th>2</th>\n",
       "      <td>peugeot</td>\n",
       "    </tr>\n",
       "  </tbody>\n",
       "</table>\n",
       "</div>"
      ]
     },
     "metadata": {},
     "execution_count": 64
    }
   ],
   "metadata": {}
  },
  {
   "cell_type": "markdown",
   "source": [
    "<font color = green >\n",
    "\n",
    "#### Create DataFrame with two elements dictionary\n",
    "</font>"
   ],
   "metadata": {}
  },
  {
   "cell_type": "code",
   "execution_count": 65,
   "source": [
    "pd.DataFrame({'model':['mercedes','toyota','peugeot'], 'color': ['red', 'grey', 'blue']}) # two lists "
   ],
   "outputs": [
    {
     "output_type": "execute_result",
     "data": {
      "text/plain": [
       "      model color\n",
       "0  mercedes   red\n",
       "1    toyota  grey\n",
       "2   peugeot  blue"
      ],
      "text/html": [
       "<div>\n",
       "<style scoped>\n",
       "    .dataframe tbody tr th:only-of-type {\n",
       "        vertical-align: middle;\n",
       "    }\n",
       "\n",
       "    .dataframe tbody tr th {\n",
       "        vertical-align: top;\n",
       "    }\n",
       "\n",
       "    .dataframe thead th {\n",
       "        text-align: right;\n",
       "    }\n",
       "</style>\n",
       "<table border=\"1\" class=\"dataframe\">\n",
       "  <thead>\n",
       "    <tr style=\"text-align: right;\">\n",
       "      <th></th>\n",
       "      <th>model</th>\n",
       "      <th>color</th>\n",
       "    </tr>\n",
       "  </thead>\n",
       "  <tbody>\n",
       "    <tr>\n",
       "      <th>0</th>\n",
       "      <td>mercedes</td>\n",
       "      <td>red</td>\n",
       "    </tr>\n",
       "    <tr>\n",
       "      <th>1</th>\n",
       "      <td>toyota</td>\n",
       "      <td>grey</td>\n",
       "    </tr>\n",
       "    <tr>\n",
       "      <th>2</th>\n",
       "      <td>peugeot</td>\n",
       "      <td>blue</td>\n",
       "    </tr>\n",
       "  </tbody>\n",
       "</table>\n",
       "</div>"
      ]
     },
     "metadata": {},
     "execution_count": 65
    }
   ],
   "metadata": {}
  },
  {
   "cell_type": "markdown",
   "source": [
    "<font color = green >\n",
    "\n",
    "#### Create DataFrame providing index\n",
    "</font>"
   ],
   "metadata": {}
  },
  {
   "cell_type": "code",
   "execution_count": 66,
   "source": [
    "pd.DataFrame( ['100', '200', '300'], index=[2016, 2017,2018 ]) # list and index "
   ],
   "outputs": [
    {
     "output_type": "execute_result",
     "data": {
      "text/plain": [
       "        0\n",
       "2016  100\n",
       "2017  200\n",
       "2018  300"
      ],
      "text/html": [
       "<div>\n",
       "<style scoped>\n",
       "    .dataframe tbody tr th:only-of-type {\n",
       "        vertical-align: middle;\n",
       "    }\n",
       "\n",
       "    .dataframe tbody tr th {\n",
       "        vertical-align: top;\n",
       "    }\n",
       "\n",
       "    .dataframe thead th {\n",
       "        text-align: right;\n",
       "    }\n",
       "</style>\n",
       "<table border=\"1\" class=\"dataframe\">\n",
       "  <thead>\n",
       "    <tr style=\"text-align: right;\">\n",
       "      <th></th>\n",
       "      <th>0</th>\n",
       "    </tr>\n",
       "  </thead>\n",
       "  <tbody>\n",
       "    <tr>\n",
       "      <th>2016</th>\n",
       "      <td>100</td>\n",
       "    </tr>\n",
       "    <tr>\n",
       "      <th>2017</th>\n",
       "      <td>200</td>\n",
       "    </tr>\n",
       "    <tr>\n",
       "      <th>2018</th>\n",
       "      <td>300</td>\n",
       "    </tr>\n",
       "  </tbody>\n",
       "</table>\n",
       "</div>"
      ]
     },
     "metadata": {},
     "execution_count": 66
    }
   ],
   "metadata": {}
  },
  {
   "cell_type": "markdown",
   "source": [
    "<font color = green >\n",
    "\n",
    "#### Create DataFrame by providing dictionary for every row\n",
    "</font>"
   ],
   "metadata": {}
  },
  {
   "cell_type": "code",
   "execution_count": 67,
   "source": [
    "# this places every dict horizontally \r\n",
    "df = pd.DataFrame([\r\n",
    "    pd.Series ({'name': 'Oksana', 'age': 25, 'gender': 'female'}),\r\n",
    "    pd.Series ({'name': 'Taras', 'age': 18, 'gender': 'male'}),\r\n",
    "    pd.Series ({'name': 'Conchita', 'age': 30, 'gender': None})]\r\n",
    ") \r\n",
    "df "
   ],
   "outputs": [
    {
     "output_type": "execute_result",
     "data": {
      "text/plain": [
       "       name  age  gender\n",
       "0    Oksana   25  female\n",
       "1     Taras   18    male\n",
       "2  Conchita   30    None"
      ],
      "text/html": [
       "<div>\n",
       "<style scoped>\n",
       "    .dataframe tbody tr th:only-of-type {\n",
       "        vertical-align: middle;\n",
       "    }\n",
       "\n",
       "    .dataframe tbody tr th {\n",
       "        vertical-align: top;\n",
       "    }\n",
       "\n",
       "    .dataframe thead th {\n",
       "        text-align: right;\n",
       "    }\n",
       "</style>\n",
       "<table border=\"1\" class=\"dataframe\">\n",
       "  <thead>\n",
       "    <tr style=\"text-align: right;\">\n",
       "      <th></th>\n",
       "      <th>name</th>\n",
       "      <th>age</th>\n",
       "      <th>gender</th>\n",
       "    </tr>\n",
       "  </thead>\n",
       "  <tbody>\n",
       "    <tr>\n",
       "      <th>0</th>\n",
       "      <td>Oksana</td>\n",
       "      <td>25</td>\n",
       "      <td>female</td>\n",
       "    </tr>\n",
       "    <tr>\n",
       "      <th>1</th>\n",
       "      <td>Taras</td>\n",
       "      <td>18</td>\n",
       "      <td>male</td>\n",
       "    </tr>\n",
       "    <tr>\n",
       "      <th>2</th>\n",
       "      <td>Conchita</td>\n",
       "      <td>30</td>\n",
       "      <td>None</td>\n",
       "    </tr>\n",
       "  </tbody>\n",
       "</table>\n",
       "</div>"
      ]
     },
     "metadata": {},
     "execution_count": 67
    }
   ],
   "metadata": {}
  },
  {
   "cell_type": "markdown",
   "source": [
    "<font color = green >\n",
    "\n",
    "#### Create DataFrame from list of tuples\n",
    "</font>"
   ],
   "metadata": {}
  },
  {
   "cell_type": "code",
   "execution_count": 68,
   "source": [
    "pd.DataFrame([('mercedes', 'red'), ('toyota', 'grey'), ('peugeot', 'blue')], columns = ['brand', 'color'])"
   ],
   "outputs": [
    {
     "output_type": "execute_result",
     "data": {
      "text/plain": [
       "      brand color\n",
       "0  mercedes   red\n",
       "1    toyota  grey\n",
       "2   peugeot  blue"
      ],
      "text/html": [
       "<div>\n",
       "<style scoped>\n",
       "    .dataframe tbody tr th:only-of-type {\n",
       "        vertical-align: middle;\n",
       "    }\n",
       "\n",
       "    .dataframe tbody tr th {\n",
       "        vertical-align: top;\n",
       "    }\n",
       "\n",
       "    .dataframe thead th {\n",
       "        text-align: right;\n",
       "    }\n",
       "</style>\n",
       "<table border=\"1\" class=\"dataframe\">\n",
       "  <thead>\n",
       "    <tr style=\"text-align: right;\">\n",
       "      <th></th>\n",
       "      <th>brand</th>\n",
       "      <th>color</th>\n",
       "    </tr>\n",
       "  </thead>\n",
       "  <tbody>\n",
       "    <tr>\n",
       "      <th>0</th>\n",
       "      <td>mercedes</td>\n",
       "      <td>red</td>\n",
       "    </tr>\n",
       "    <tr>\n",
       "      <th>1</th>\n",
       "      <td>toyota</td>\n",
       "      <td>grey</td>\n",
       "    </tr>\n",
       "    <tr>\n",
       "      <th>2</th>\n",
       "      <td>peugeot</td>\n",
       "      <td>blue</td>\n",
       "    </tr>\n",
       "  </tbody>\n",
       "</table>\n",
       "</div>"
      ]
     },
     "metadata": {},
     "execution_count": 68
    }
   ],
   "metadata": {}
  },
  {
   "cell_type": "markdown",
   "source": [
    "#### Similar from dict items "
   ],
   "metadata": {}
  },
  {
   "cell_type": "code",
   "execution_count": 69,
   "source": [
    "a= {'mercedes':'red','toyota':'grey','peugeot': 'blue'}\r\n",
    "df = pd.DataFrame(a.items(), columns = ['brand', 'color'])\r\n",
    "df "
   ],
   "outputs": [
    {
     "output_type": "execute_result",
     "data": {
      "text/plain": [
       "      brand color\n",
       "0  mercedes   red\n",
       "1    toyota  grey\n",
       "2   peugeot  blue"
      ],
      "text/html": [
       "<div>\n",
       "<style scoped>\n",
       "    .dataframe tbody tr th:only-of-type {\n",
       "        vertical-align: middle;\n",
       "    }\n",
       "\n",
       "    .dataframe tbody tr th {\n",
       "        vertical-align: top;\n",
       "    }\n",
       "\n",
       "    .dataframe thead th {\n",
       "        text-align: right;\n",
       "    }\n",
       "</style>\n",
       "<table border=\"1\" class=\"dataframe\">\n",
       "  <thead>\n",
       "    <tr style=\"text-align: right;\">\n",
       "      <th></th>\n",
       "      <th>brand</th>\n",
       "      <th>color</th>\n",
       "    </tr>\n",
       "  </thead>\n",
       "  <tbody>\n",
       "    <tr>\n",
       "      <th>0</th>\n",
       "      <td>mercedes</td>\n",
       "      <td>red</td>\n",
       "    </tr>\n",
       "    <tr>\n",
       "      <th>1</th>\n",
       "      <td>toyota</td>\n",
       "      <td>grey</td>\n",
       "    </tr>\n",
       "    <tr>\n",
       "      <th>2</th>\n",
       "      <td>peugeot</td>\n",
       "      <td>blue</td>\n",
       "    </tr>\n",
       "  </tbody>\n",
       "</table>\n",
       "</div>"
      ]
     },
     "metadata": {},
     "execution_count": 69
    }
   ],
   "metadata": {}
  },
  {
   "cell_type": "markdown",
   "source": [
    "<font color = green >\n",
    "\n",
    "#### Create DataFrame by providing 2 dimensional lists \n",
    "</font>"
   ],
   "metadata": {}
  },
  {
   "cell_type": "code",
   "execution_count": 70,
   "source": [
    "# Similar to horizontal allows to provide list instead of dictionaries for every row \r\n",
    "df = pd.DataFrame([['mercedes', 'c-180', 'red'], \r\n",
    "              ['toyota', 'landcruiser', 'grey'],\r\n",
    "              ['toyota', 'Rav4', 'blue'],\r\n",
    "              [ 'peugeot', '207', 'red']], columns = ['brand','model', 'color'])\r\n",
    "\r\n",
    "df.set_index(['brand']) # this is not inplace operation\r\n",
    "df\r\n"
   ],
   "outputs": [
    {
     "output_type": "execute_result",
     "data": {
      "text/plain": [
       "      brand        model color\n",
       "0  mercedes        c-180   red\n",
       "1    toyota  landcruiser  grey\n",
       "2    toyota         Rav4  blue\n",
       "3   peugeot          207   red"
      ],
      "text/html": [
       "<div>\n",
       "<style scoped>\n",
       "    .dataframe tbody tr th:only-of-type {\n",
       "        vertical-align: middle;\n",
       "    }\n",
       "\n",
       "    .dataframe tbody tr th {\n",
       "        vertical-align: top;\n",
       "    }\n",
       "\n",
       "    .dataframe thead th {\n",
       "        text-align: right;\n",
       "    }\n",
       "</style>\n",
       "<table border=\"1\" class=\"dataframe\">\n",
       "  <thead>\n",
       "    <tr style=\"text-align: right;\">\n",
       "      <th></th>\n",
       "      <th>brand</th>\n",
       "      <th>model</th>\n",
       "      <th>color</th>\n",
       "    </tr>\n",
       "  </thead>\n",
       "  <tbody>\n",
       "    <tr>\n",
       "      <th>0</th>\n",
       "      <td>mercedes</td>\n",
       "      <td>c-180</td>\n",
       "      <td>red</td>\n",
       "    </tr>\n",
       "    <tr>\n",
       "      <th>1</th>\n",
       "      <td>toyota</td>\n",
       "      <td>landcruiser</td>\n",
       "      <td>grey</td>\n",
       "    </tr>\n",
       "    <tr>\n",
       "      <th>2</th>\n",
       "      <td>toyota</td>\n",
       "      <td>Rav4</td>\n",
       "      <td>blue</td>\n",
       "    </tr>\n",
       "    <tr>\n",
       "      <th>3</th>\n",
       "      <td>peugeot</td>\n",
       "      <td>207</td>\n",
       "      <td>red</td>\n",
       "    </tr>\n",
       "  </tbody>\n",
       "</table>\n",
       "</div>"
      ]
     },
     "metadata": {},
     "execution_count": 70
    }
   ],
   "metadata": {}
  },
  {
   "cell_type": "markdown",
   "source": [
    "<font color = green >\n",
    "\n",
    "#### Create DataFrame and set multi-level index\n",
    "</font>"
   ],
   "metadata": {}
  },
  {
   "cell_type": "code",
   "execution_count": 71,
   "source": [
    "df = pd.DataFrame({'brand':['mercedes','toyota','peugeot'], \r\n",
    "              'color': ['red', 'grey', 'blue'],\r\n",
    "              'volume': [100, 200, None], \r\n",
    "              'mode': ['rear drive','awd', 'front drive']\r\n",
    "              }).set_index(['brand', 'color'])\r\n",
    "df "
   ],
   "outputs": [
    {
     "output_type": "execute_result",
     "data": {
      "text/plain": [
       "                volume         mode\n",
       "brand    color                     \n",
       "mercedes red     100.0   rear drive\n",
       "toyota   grey    200.0          awd\n",
       "peugeot  blue      NaN  front drive"
      ],
      "text/html": [
       "<div>\n",
       "<style scoped>\n",
       "    .dataframe tbody tr th:only-of-type {\n",
       "        vertical-align: middle;\n",
       "    }\n",
       "\n",
       "    .dataframe tbody tr th {\n",
       "        vertical-align: top;\n",
       "    }\n",
       "\n",
       "    .dataframe thead th {\n",
       "        text-align: right;\n",
       "    }\n",
       "</style>\n",
       "<table border=\"1\" class=\"dataframe\">\n",
       "  <thead>\n",
       "    <tr style=\"text-align: right;\">\n",
       "      <th></th>\n",
       "      <th></th>\n",
       "      <th>volume</th>\n",
       "      <th>mode</th>\n",
       "    </tr>\n",
       "    <tr>\n",
       "      <th>brand</th>\n",
       "      <th>color</th>\n",
       "      <th></th>\n",
       "      <th></th>\n",
       "    </tr>\n",
       "  </thead>\n",
       "  <tbody>\n",
       "    <tr>\n",
       "      <th>mercedes</th>\n",
       "      <th>red</th>\n",
       "      <td>100.0</td>\n",
       "      <td>rear drive</td>\n",
       "    </tr>\n",
       "    <tr>\n",
       "      <th>toyota</th>\n",
       "      <th>grey</th>\n",
       "      <td>200.0</td>\n",
       "      <td>awd</td>\n",
       "    </tr>\n",
       "    <tr>\n",
       "      <th>peugeot</th>\n",
       "      <th>blue</th>\n",
       "      <td>NaN</td>\n",
       "      <td>front drive</td>\n",
       "    </tr>\n",
       "  </tbody>\n",
       "</table>\n",
       "</div>"
      ]
     },
     "metadata": {},
     "execution_count": 71
    }
   ],
   "metadata": {}
  },
  {
   "cell_type": "markdown",
   "source": [
    "<font color = green >\n",
    "\n",
    "### List columns\n",
    "</font>"
   ],
   "metadata": {}
  },
  {
   "cell_type": "code",
   "execution_count": 72,
   "source": [
    "print (df.columns) \r\n",
    "list(df) # alternative"
   ],
   "outputs": [
    {
     "output_type": "stream",
     "name": "stdout",
     "text": [
      "Index(['volume', 'mode'], dtype='object')\n"
     ]
    },
    {
     "output_type": "execute_result",
     "data": {
      "text/plain": [
       "['volume', 'mode']"
      ]
     },
     "metadata": {},
     "execution_count": 72
    }
   ],
   "metadata": {}
  },
  {
   "cell_type": "markdown",
   "source": [
    "<font color = green >\n",
    "\n",
    "### List indices\n",
    "</font>"
   ],
   "metadata": {}
  },
  {
   "cell_type": "code",
   "execution_count": 73,
   "source": [
    "print (df.index)\r\n",
    "print (df.index[0])\r\n",
    "print (df.index[2])"
   ],
   "outputs": [
    {
     "output_type": "stream",
     "name": "stdout",
     "text": [
      "MultiIndex([('mercedes',  'red'),\n",
      "            (  'toyota', 'grey'),\n",
      "            ( 'peugeot', 'blue')],\n",
      "           names=['brand', 'color'])\n",
      "('mercedes', 'red')\n",
      "('peugeot', 'blue')\n"
     ]
    }
   ],
   "metadata": {}
  },
  {
   "cell_type": "markdown",
   "source": [
    "***\n",
    "<font color = green >\n",
    "\n",
    "### Quering DataFrames\n",
    "</font>"
   ],
   "metadata": {}
  },
  {
   "cell_type": "markdown",
   "source": [
    "<font color = green >\n",
    "\n",
    "#### Quering by index label\n",
    "</font>"
   ],
   "metadata": {}
  },
  {
   "cell_type": "code",
   "execution_count": 74,
   "source": [
    "df.loc['toyota'] # Note: if the result is multi rows then it remains DataFrame\r\n"
   ],
   "outputs": [
    {
     "output_type": "execute_result",
     "data": {
      "text/plain": [
       "       volume mode\n",
       "color             \n",
       "grey    200.0  awd"
      ],
      "text/html": [
       "<div>\n",
       "<style scoped>\n",
       "    .dataframe tbody tr th:only-of-type {\n",
       "        vertical-align: middle;\n",
       "    }\n",
       "\n",
       "    .dataframe tbody tr th {\n",
       "        vertical-align: top;\n",
       "    }\n",
       "\n",
       "    .dataframe thead th {\n",
       "        text-align: right;\n",
       "    }\n",
       "</style>\n",
       "<table border=\"1\" class=\"dataframe\">\n",
       "  <thead>\n",
       "    <tr style=\"text-align: right;\">\n",
       "      <th></th>\n",
       "      <th>volume</th>\n",
       "      <th>mode</th>\n",
       "    </tr>\n",
       "    <tr>\n",
       "      <th>color</th>\n",
       "      <th></th>\n",
       "      <th></th>\n",
       "    </tr>\n",
       "  </thead>\n",
       "  <tbody>\n",
       "    <tr>\n",
       "      <th>grey</th>\n",
       "      <td>200.0</td>\n",
       "      <td>awd</td>\n",
       "    </tr>\n",
       "  </tbody>\n",
       "</table>\n",
       "</div>"
      ]
     },
     "metadata": {},
     "execution_count": 74
    }
   ],
   "metadata": {}
  },
  {
   "cell_type": "code",
   "execution_count": 75,
   "source": [
    "df = pd.DataFrame([['mercedes', 'c-180', 'red'], \r\n",
    "              ['toyota', 'landcruiser', 'grey'],\r\n",
    "              ['toyota', 'Rav4', 'blue'],\r\n",
    "              [ 'peugeot', '207', 'red']], columns = ['brand','model', 'color'])\r\n",
    "\r\n",
    "# df.set_index(['brand'], inplace= True)\r\n",
    "df\r\n",
    "# df.iloc[0,2] # Note: if the result is single row then it becomes Series \r\n"
   ],
   "outputs": [
    {
     "output_type": "execute_result",
     "data": {
      "text/plain": [
       "      brand        model color\n",
       "0  mercedes        c-180   red\n",
       "1    toyota  landcruiser  grey\n",
       "2    toyota         Rav4  blue\n",
       "3   peugeot          207   red"
      ],
      "text/html": [
       "<div>\n",
       "<style scoped>\n",
       "    .dataframe tbody tr th:only-of-type {\n",
       "        vertical-align: middle;\n",
       "    }\n",
       "\n",
       "    .dataframe tbody tr th {\n",
       "        vertical-align: top;\n",
       "    }\n",
       "\n",
       "    .dataframe thead th {\n",
       "        text-align: right;\n",
       "    }\n",
       "</style>\n",
       "<table border=\"1\" class=\"dataframe\">\n",
       "  <thead>\n",
       "    <tr style=\"text-align: right;\">\n",
       "      <th></th>\n",
       "      <th>brand</th>\n",
       "      <th>model</th>\n",
       "      <th>color</th>\n",
       "    </tr>\n",
       "  </thead>\n",
       "  <tbody>\n",
       "    <tr>\n",
       "      <th>0</th>\n",
       "      <td>mercedes</td>\n",
       "      <td>c-180</td>\n",
       "      <td>red</td>\n",
       "    </tr>\n",
       "    <tr>\n",
       "      <th>1</th>\n",
       "      <td>toyota</td>\n",
       "      <td>landcruiser</td>\n",
       "      <td>grey</td>\n",
       "    </tr>\n",
       "    <tr>\n",
       "      <th>2</th>\n",
       "      <td>toyota</td>\n",
       "      <td>Rav4</td>\n",
       "      <td>blue</td>\n",
       "    </tr>\n",
       "    <tr>\n",
       "      <th>3</th>\n",
       "      <td>peugeot</td>\n",
       "      <td>207</td>\n",
       "      <td>red</td>\n",
       "    </tr>\n",
       "  </tbody>\n",
       "</table>\n",
       "</div>"
      ]
     },
     "metadata": {},
     "execution_count": 75
    }
   ],
   "metadata": {}
  },
  {
   "cell_type": "markdown",
   "source": [
    "<font color = green >\n",
    "\n",
    "#### Quering by single column\n",
    "</font>"
   ],
   "metadata": {}
  },
  {
   "cell_type": "code",
   "execution_count": 76,
   "source": [
    "df = pd.DataFrame([['mercedes', 'c-180', 'red'], \r\n",
    "              ['toyota', 'landcruiser', 'grey'],\r\n",
    "              ['toyota', 'Rav4', 'blue'],\r\n",
    "              [ 'peugeot', '207', 'red']], columns = ['brand','model', 'color'])\r\n",
    "\r\n",
    "df['brand'] # note returned series \r\n",
    "# Note: columsn always have a label thus direct calling is always label based for columns "
   ],
   "outputs": [
    {
     "output_type": "execute_result",
     "data": {
      "text/plain": [
       "0    mercedes\n",
       "1      toyota\n",
       "2      toyota\n",
       "3     peugeot\n",
       "Name: brand, dtype: object"
      ]
     },
     "metadata": {},
     "execution_count": 76
    }
   ],
   "metadata": {}
  },
  {
   "cell_type": "markdown",
   "source": [
    "#### Keep as frame "
   ],
   "metadata": {}
  },
  {
   "cell_type": "code",
   "execution_count": 77,
   "source": [
    "df['brand'].to_frame()"
   ],
   "outputs": [
    {
     "output_type": "execute_result",
     "data": {
      "text/plain": [
       "      brand\n",
       "0  mercedes\n",
       "1    toyota\n",
       "2    toyota\n",
       "3   peugeot"
      ],
      "text/html": [
       "<div>\n",
       "<style scoped>\n",
       "    .dataframe tbody tr th:only-of-type {\n",
       "        vertical-align: middle;\n",
       "    }\n",
       "\n",
       "    .dataframe tbody tr th {\n",
       "        vertical-align: top;\n",
       "    }\n",
       "\n",
       "    .dataframe thead th {\n",
       "        text-align: right;\n",
       "    }\n",
       "</style>\n",
       "<table border=\"1\" class=\"dataframe\">\n",
       "  <thead>\n",
       "    <tr style=\"text-align: right;\">\n",
       "      <th></th>\n",
       "      <th>brand</th>\n",
       "    </tr>\n",
       "  </thead>\n",
       "  <tbody>\n",
       "    <tr>\n",
       "      <th>0</th>\n",
       "      <td>mercedes</td>\n",
       "    </tr>\n",
       "    <tr>\n",
       "      <th>1</th>\n",
       "      <td>toyota</td>\n",
       "    </tr>\n",
       "    <tr>\n",
       "      <th>2</th>\n",
       "      <td>toyota</td>\n",
       "    </tr>\n",
       "    <tr>\n",
       "      <th>3</th>\n",
       "      <td>peugeot</td>\n",
       "    </tr>\n",
       "  </tbody>\n",
       "</table>\n",
       "</div>"
      ]
     },
     "metadata": {},
     "execution_count": 77
    }
   ],
   "metadata": {}
  },
  {
   "cell_type": "markdown",
   "source": [
    "<font color = green >\n",
    "\n",
    "#### Quering by multi columns\n",
    "</font>"
   ],
   "metadata": {}
  },
  {
   "cell_type": "code",
   "execution_count": 78,
   "source": [
    "df[['model','color']] # note 2 brackets "
   ],
   "outputs": [
    {
     "output_type": "execute_result",
     "data": {
      "text/plain": [
       "         model color\n",
       "0        c-180   red\n",
       "1  landcruiser  grey\n",
       "2         Rav4  blue\n",
       "3          207   red"
      ],
      "text/html": [
       "<div>\n",
       "<style scoped>\n",
       "    .dataframe tbody tr th:only-of-type {\n",
       "        vertical-align: middle;\n",
       "    }\n",
       "\n",
       "    .dataframe tbody tr th {\n",
       "        vertical-align: top;\n",
       "    }\n",
       "\n",
       "    .dataframe thead th {\n",
       "        text-align: right;\n",
       "    }\n",
       "</style>\n",
       "<table border=\"1\" class=\"dataframe\">\n",
       "  <thead>\n",
       "    <tr style=\"text-align: right;\">\n",
       "      <th></th>\n",
       "      <th>model</th>\n",
       "      <th>color</th>\n",
       "    </tr>\n",
       "  </thead>\n",
       "  <tbody>\n",
       "    <tr>\n",
       "      <th>0</th>\n",
       "      <td>c-180</td>\n",
       "      <td>red</td>\n",
       "    </tr>\n",
       "    <tr>\n",
       "      <th>1</th>\n",
       "      <td>landcruiser</td>\n",
       "      <td>grey</td>\n",
       "    </tr>\n",
       "    <tr>\n",
       "      <th>2</th>\n",
       "      <td>Rav4</td>\n",
       "      <td>blue</td>\n",
       "    </tr>\n",
       "    <tr>\n",
       "      <th>3</th>\n",
       "      <td>207</td>\n",
       "      <td>red</td>\n",
       "    </tr>\n",
       "  </tbody>\n",
       "</table>\n",
       "</div>"
      ]
     },
     "metadata": {},
     "execution_count": 78
    }
   ],
   "metadata": {}
  },
  {
   "cell_type": "markdown",
   "source": [
    "<font color = green >\n",
    "\n",
    "#### Quering by rows and columns\n",
    "</font>"
   ],
   "metadata": {}
  },
  {
   "cell_type": "code",
   "execution_count": 79,
   "source": [
    "df.iloc[1:,:2] # using iloc"
   ],
   "outputs": [
    {
     "output_type": "execute_result",
     "data": {
      "text/plain": [
       "     brand        model\n",
       "1   toyota  landcruiser\n",
       "2   toyota         Rav4\n",
       "3  peugeot          207"
      ],
      "text/html": [
       "<div>\n",
       "<style scoped>\n",
       "    .dataframe tbody tr th:only-of-type {\n",
       "        vertical-align: middle;\n",
       "    }\n",
       "\n",
       "    .dataframe tbody tr th {\n",
       "        vertical-align: top;\n",
       "    }\n",
       "\n",
       "    .dataframe thead th {\n",
       "        text-align: right;\n",
       "    }\n",
       "</style>\n",
       "<table border=\"1\" class=\"dataframe\">\n",
       "  <thead>\n",
       "    <tr style=\"text-align: right;\">\n",
       "      <th></th>\n",
       "      <th>brand</th>\n",
       "      <th>model</th>\n",
       "    </tr>\n",
       "  </thead>\n",
       "  <tbody>\n",
       "    <tr>\n",
       "      <th>1</th>\n",
       "      <td>toyota</td>\n",
       "      <td>landcruiser</td>\n",
       "    </tr>\n",
       "    <tr>\n",
       "      <th>2</th>\n",
       "      <td>toyota</td>\n",
       "      <td>Rav4</td>\n",
       "    </tr>\n",
       "    <tr>\n",
       "      <th>3</th>\n",
       "      <td>peugeot</td>\n",
       "      <td>207</td>\n",
       "    </tr>\n",
       "  </tbody>\n",
       "</table>\n",
       "</div>"
      ]
     },
     "metadata": {},
     "execution_count": 79
    }
   ],
   "metadata": {}
  },
  {
   "cell_type": "markdown",
   "source": [
    "<font color = green >\n",
    "\n",
    "#### Chaining\n",
    "</font>"
   ],
   "metadata": {}
  },
  {
   "cell_type": "code",
   "execution_count": 80,
   "source": [
    "df.iloc[3]['brand'] # Note: avoid if possible  "
   ],
   "outputs": [
    {
     "output_type": "execute_result",
     "data": {
      "text/plain": [
       "'peugeot'"
      ]
     },
     "metadata": {},
     "execution_count": 80
    }
   ],
   "metadata": {}
  },
  {
   "cell_type": "code",
   "execution_count": 81,
   "source": [
    "# this is the case of getting warning\r\n",
    "df = pd.DataFrame([list('abcd'),list('efgh'),list('ijkl'),list('mnop')], columns=pd.MultiIndex.from_product([['one','two'],['first','second']]))\r\n",
    "df['one'].iloc[1] = 0\r\n",
    "df\r\n",
    "\r\n"
   ],
   "outputs": [
    {
     "output_type": "stream",
     "name": "stderr",
     "text": [
      "c:\\Users\\havrylov.mykola\\Desktop\\work\\python\\DS_Kemp\\venv\\lib\\site-packages\\pandas\\core\\indexing.py:1732: SettingWithCopyWarning: \n",
      "A value is trying to be set on a copy of a slice from a DataFrame\n",
      "\n",
      "See the caveats in the documentation: https://pandas.pydata.org/pandas-docs/stable/user_guide/indexing.html#returning-a-view-versus-a-copy\n",
      "  self._setitem_single_block(indexer, value, name)\n",
      "c:\\Users\\havrylov.mykola\\Desktop\\work\\python\\DS_Kemp\\venv\\lib\\site-packages\\pandas\\core\\indexing.py:723: SettingWithCopyWarning: \n",
      "A value is trying to be set on a copy of a slice from a DataFrame\n",
      "\n",
      "See the caveats in the documentation: https://pandas.pydata.org/pandas-docs/stable/user_guide/indexing.html#returning-a-view-versus-a-copy\n",
      "  iloc._setitem_with_indexer(indexer, value, self.name)\n"
     ]
    },
    {
     "output_type": "execute_result",
     "data": {
      "text/plain": [
       "    one          two       \n",
       "  first second first second\n",
       "0     a      b     c      d\n",
       "1     e      f     g      h\n",
       "2     i      j     k      l\n",
       "3     m      n     o      p"
      ],
      "text/html": [
       "<div>\n",
       "<style scoped>\n",
       "    .dataframe tbody tr th:only-of-type {\n",
       "        vertical-align: middle;\n",
       "    }\n",
       "\n",
       "    .dataframe tbody tr th {\n",
       "        vertical-align: top;\n",
       "    }\n",
       "\n",
       "    .dataframe thead tr th {\n",
       "        text-align: left;\n",
       "    }\n",
       "</style>\n",
       "<table border=\"1\" class=\"dataframe\">\n",
       "  <thead>\n",
       "    <tr>\n",
       "      <th></th>\n",
       "      <th colspan=\"2\" halign=\"left\">one</th>\n",
       "      <th colspan=\"2\" halign=\"left\">two</th>\n",
       "    </tr>\n",
       "    <tr>\n",
       "      <th></th>\n",
       "      <th>first</th>\n",
       "      <th>second</th>\n",
       "      <th>first</th>\n",
       "      <th>second</th>\n",
       "    </tr>\n",
       "  </thead>\n",
       "  <tbody>\n",
       "    <tr>\n",
       "      <th>0</th>\n",
       "      <td>a</td>\n",
       "      <td>b</td>\n",
       "      <td>c</td>\n",
       "      <td>d</td>\n",
       "    </tr>\n",
       "    <tr>\n",
       "      <th>1</th>\n",
       "      <td>e</td>\n",
       "      <td>f</td>\n",
       "      <td>g</td>\n",
       "      <td>h</td>\n",
       "    </tr>\n",
       "    <tr>\n",
       "      <th>2</th>\n",
       "      <td>i</td>\n",
       "      <td>j</td>\n",
       "      <td>k</td>\n",
       "      <td>l</td>\n",
       "    </tr>\n",
       "    <tr>\n",
       "      <th>3</th>\n",
       "      <td>m</td>\n",
       "      <td>n</td>\n",
       "      <td>o</td>\n",
       "      <td>p</td>\n",
       "    </tr>\n",
       "  </tbody>\n",
       "</table>\n",
       "</div>"
      ]
     },
     "metadata": {},
     "execution_count": 81
    }
   ],
   "metadata": {}
  },
  {
   "cell_type": "markdown",
   "source": [
    "<font color = green >\n",
    "\n",
    "#### Instead of chaining \n",
    "</font>"
   ],
   "metadata": {}
  },
  {
   "cell_type": "code",
   "execution_count": 82,
   "source": [
    "df.loc[1,('one','second')]= 'modified'\r\n",
    "df"
   ],
   "outputs": [
    {
     "output_type": "execute_result",
     "data": {
      "text/plain": [
       "    one             two       \n",
       "  first    second first second\n",
       "0     a         b     c      d\n",
       "1     e  modified     g      h\n",
       "2     i         j     k      l\n",
       "3     m         n     o      p"
      ],
      "text/html": [
       "<div>\n",
       "<style scoped>\n",
       "    .dataframe tbody tr th:only-of-type {\n",
       "        vertical-align: middle;\n",
       "    }\n",
       "\n",
       "    .dataframe tbody tr th {\n",
       "        vertical-align: top;\n",
       "    }\n",
       "\n",
       "    .dataframe thead tr th {\n",
       "        text-align: left;\n",
       "    }\n",
       "</style>\n",
       "<table border=\"1\" class=\"dataframe\">\n",
       "  <thead>\n",
       "    <tr>\n",
       "      <th></th>\n",
       "      <th colspan=\"2\" halign=\"left\">one</th>\n",
       "      <th colspan=\"2\" halign=\"left\">two</th>\n",
       "    </tr>\n",
       "    <tr>\n",
       "      <th></th>\n",
       "      <th>first</th>\n",
       "      <th>second</th>\n",
       "      <th>first</th>\n",
       "      <th>second</th>\n",
       "    </tr>\n",
       "  </thead>\n",
       "  <tbody>\n",
       "    <tr>\n",
       "      <th>0</th>\n",
       "      <td>a</td>\n",
       "      <td>b</td>\n",
       "      <td>c</td>\n",
       "      <td>d</td>\n",
       "    </tr>\n",
       "    <tr>\n",
       "      <th>1</th>\n",
       "      <td>e</td>\n",
       "      <td>modified</td>\n",
       "      <td>g</td>\n",
       "      <td>h</td>\n",
       "    </tr>\n",
       "    <tr>\n",
       "      <th>2</th>\n",
       "      <td>i</td>\n",
       "      <td>j</td>\n",
       "      <td>k</td>\n",
       "      <td>l</td>\n",
       "    </tr>\n",
       "    <tr>\n",
       "      <th>3</th>\n",
       "      <td>m</td>\n",
       "      <td>n</td>\n",
       "      <td>o</td>\n",
       "      <td>p</td>\n",
       "    </tr>\n",
       "  </tbody>\n",
       "</table>\n",
       "</div>"
      ]
     },
     "metadata": {},
     "execution_count": 82
    }
   ],
   "metadata": {}
  },
  {
   "cell_type": "markdown",
   "source": [
    "<font color = green >\n",
    "\n",
    "#### Use copy to avoid ambiguity with view/copy\n",
    "</font>"
   ],
   "metadata": {}
  },
  {
   "cell_type": "code",
   "execution_count": 83,
   "source": [
    "ser = df['one'].copy()\r\n",
    "ser.iloc[1] = 0\r\n",
    "ser\r\n"
   ],
   "outputs": [
    {
     "output_type": "execute_result",
     "data": {
      "text/plain": [
       "  first second\n",
       "0     a      b\n",
       "1     0      0\n",
       "2     i      j\n",
       "3     m      n"
      ],
      "text/html": [
       "<div>\n",
       "<style scoped>\n",
       "    .dataframe tbody tr th:only-of-type {\n",
       "        vertical-align: middle;\n",
       "    }\n",
       "\n",
       "    .dataframe tbody tr th {\n",
       "        vertical-align: top;\n",
       "    }\n",
       "\n",
       "    .dataframe thead th {\n",
       "        text-align: right;\n",
       "    }\n",
       "</style>\n",
       "<table border=\"1\" class=\"dataframe\">\n",
       "  <thead>\n",
       "    <tr style=\"text-align: right;\">\n",
       "      <th></th>\n",
       "      <th>first</th>\n",
       "      <th>second</th>\n",
       "    </tr>\n",
       "  </thead>\n",
       "  <tbody>\n",
       "    <tr>\n",
       "      <th>0</th>\n",
       "      <td>a</td>\n",
       "      <td>b</td>\n",
       "    </tr>\n",
       "    <tr>\n",
       "      <th>1</th>\n",
       "      <td>0</td>\n",
       "      <td>0</td>\n",
       "    </tr>\n",
       "    <tr>\n",
       "      <th>2</th>\n",
       "      <td>i</td>\n",
       "      <td>j</td>\n",
       "    </tr>\n",
       "    <tr>\n",
       "      <th>3</th>\n",
       "      <td>m</td>\n",
       "      <td>n</td>\n",
       "    </tr>\n",
       "  </tbody>\n",
       "</table>\n",
       "</div>"
      ]
     },
     "metadata": {},
     "execution_count": 83
    }
   ],
   "metadata": {}
  },
  {
   "cell_type": "markdown",
   "source": [
    "<font color = green >\n",
    "\n",
    "#### Bolean mask\n",
    "</font>"
   ],
   "metadata": {}
  },
  {
   "cell_type": "code",
   "execution_count": 84,
   "source": [
    "import pandas as pd\r\n",
    "df = pd.DataFrame([['mercedes', 'c-180', 'red'], \r\n",
    "              ['toyota', 'landcruiser', 'grey'],\r\n",
    "              ['toyota', 'Rav4', 'blue'],\r\n",
    "              [ 'peugeot', '207', 'red']])\r\n",
    "df.columns = ['brand','model', 'color']\r\n",
    "\r\n",
    "df"
   ],
   "outputs": [
    {
     "output_type": "execute_result",
     "data": {
      "text/plain": [
       "      brand        model color\n",
       "0  mercedes        c-180   red\n",
       "1    toyota  landcruiser  grey\n",
       "2    toyota         Rav4  blue\n",
       "3   peugeot          207   red"
      ],
      "text/html": [
       "<div>\n",
       "<style scoped>\n",
       "    .dataframe tbody tr th:only-of-type {\n",
       "        vertical-align: middle;\n",
       "    }\n",
       "\n",
       "    .dataframe tbody tr th {\n",
       "        vertical-align: top;\n",
       "    }\n",
       "\n",
       "    .dataframe thead th {\n",
       "        text-align: right;\n",
       "    }\n",
       "</style>\n",
       "<table border=\"1\" class=\"dataframe\">\n",
       "  <thead>\n",
       "    <tr style=\"text-align: right;\">\n",
       "      <th></th>\n",
       "      <th>brand</th>\n",
       "      <th>model</th>\n",
       "      <th>color</th>\n",
       "    </tr>\n",
       "  </thead>\n",
       "  <tbody>\n",
       "    <tr>\n",
       "      <th>0</th>\n",
       "      <td>mercedes</td>\n",
       "      <td>c-180</td>\n",
       "      <td>red</td>\n",
       "    </tr>\n",
       "    <tr>\n",
       "      <th>1</th>\n",
       "      <td>toyota</td>\n",
       "      <td>landcruiser</td>\n",
       "      <td>grey</td>\n",
       "    </tr>\n",
       "    <tr>\n",
       "      <th>2</th>\n",
       "      <td>toyota</td>\n",
       "      <td>Rav4</td>\n",
       "      <td>blue</td>\n",
       "    </tr>\n",
       "    <tr>\n",
       "      <th>3</th>\n",
       "      <td>peugeot</td>\n",
       "      <td>207</td>\n",
       "      <td>red</td>\n",
       "    </tr>\n",
       "  </tbody>\n",
       "</table>\n",
       "</div>"
      ]
     },
     "metadata": {},
     "execution_count": 84
    }
   ],
   "metadata": {}
  },
  {
   "cell_type": "code",
   "execution_count": 85,
   "source": [
    "mask =[True, True, False, False] \r\n",
    "df.loc[mask] # df[mask] also works but not recommended  "
   ],
   "outputs": [
    {
     "output_type": "execute_result",
     "data": {
      "text/plain": [
       "      brand        model color\n",
       "0  mercedes        c-180   red\n",
       "1    toyota  landcruiser  grey"
      ],
      "text/html": [
       "<div>\n",
       "<style scoped>\n",
       "    .dataframe tbody tr th:only-of-type {\n",
       "        vertical-align: middle;\n",
       "    }\n",
       "\n",
       "    .dataframe tbody tr th {\n",
       "        vertical-align: top;\n",
       "    }\n",
       "\n",
       "    .dataframe thead th {\n",
       "        text-align: right;\n",
       "    }\n",
       "</style>\n",
       "<table border=\"1\" class=\"dataframe\">\n",
       "  <thead>\n",
       "    <tr style=\"text-align: right;\">\n",
       "      <th></th>\n",
       "      <th>brand</th>\n",
       "      <th>model</th>\n",
       "      <th>color</th>\n",
       "    </tr>\n",
       "  </thead>\n",
       "  <tbody>\n",
       "    <tr>\n",
       "      <th>0</th>\n",
       "      <td>mercedes</td>\n",
       "      <td>c-180</td>\n",
       "      <td>red</td>\n",
       "    </tr>\n",
       "    <tr>\n",
       "      <th>1</th>\n",
       "      <td>toyota</td>\n",
       "      <td>landcruiser</td>\n",
       "      <td>grey</td>\n",
       "    </tr>\n",
       "  </tbody>\n",
       "</table>\n",
       "</div>"
      ]
     },
     "metadata": {},
     "execution_count": 85
    }
   ],
   "metadata": {}
  },
  {
   "cell_type": "markdown",
   "source": [
    "<font color = green >\n",
    "\n",
    "#### Conditional query\n",
    "</font>"
   ],
   "metadata": {}
  },
  {
   "cell_type": "code",
   "execution_count": 86,
   "source": [
    "df['model'].str.len()>8 # this returns Series that be used as bolean mask "
   ],
   "outputs": [
    {
     "output_type": "execute_result",
     "data": {
      "text/plain": [
       "0    False\n",
       "1     True\n",
       "2    False\n",
       "3    False\n",
       "Name: model, dtype: bool"
      ]
     },
     "metadata": {},
     "execution_count": 86
    }
   ],
   "metadata": {}
  },
  {
   "cell_type": "code",
   "execution_count": 87,
   "source": [
    "df[df['brand'].str.contains('o')] # inside the first brackets is bolean mask"
   ],
   "outputs": [
    {
     "output_type": "execute_result",
     "data": {
      "text/plain": [
       "     brand        model color\n",
       "1   toyota  landcruiser  grey\n",
       "2   toyota         Rav4  blue\n",
       "3  peugeot          207   red"
      ],
      "text/html": [
       "<div>\n",
       "<style scoped>\n",
       "    .dataframe tbody tr th:only-of-type {\n",
       "        vertical-align: middle;\n",
       "    }\n",
       "\n",
       "    .dataframe tbody tr th {\n",
       "        vertical-align: top;\n",
       "    }\n",
       "\n",
       "    .dataframe thead th {\n",
       "        text-align: right;\n",
       "    }\n",
       "</style>\n",
       "<table border=\"1\" class=\"dataframe\">\n",
       "  <thead>\n",
       "    <tr style=\"text-align: right;\">\n",
       "      <th></th>\n",
       "      <th>brand</th>\n",
       "      <th>model</th>\n",
       "      <th>color</th>\n",
       "    </tr>\n",
       "  </thead>\n",
       "  <tbody>\n",
       "    <tr>\n",
       "      <th>1</th>\n",
       "      <td>toyota</td>\n",
       "      <td>landcruiser</td>\n",
       "      <td>grey</td>\n",
       "    </tr>\n",
       "    <tr>\n",
       "      <th>2</th>\n",
       "      <td>toyota</td>\n",
       "      <td>Rav4</td>\n",
       "      <td>blue</td>\n",
       "    </tr>\n",
       "    <tr>\n",
       "      <th>3</th>\n",
       "      <td>peugeot</td>\n",
       "      <td>207</td>\n",
       "      <td>red</td>\n",
       "    </tr>\n",
       "  </tbody>\n",
       "</table>\n",
       "</div>"
      ]
     },
     "metadata": {},
     "execution_count": 87
    }
   ],
   "metadata": {}
  },
  {
   "cell_type": "markdown",
   "source": [
    "<font color = green >\n",
    "\n",
    "#### Multi criteria\n",
    "</font>"
   ],
   "metadata": {}
  },
  {
   "cell_type": "code",
   "execution_count": 88,
   "source": [
    "df['engine'] = [2, 3, 1.6, 1.4]\r\n",
    "df\r\n",
    "df [(df.engine >1.8) & (df['brand'].str.startswith('m'))]\r\n"
   ],
   "outputs": [
    {
     "output_type": "execute_result",
     "data": {
      "text/plain": [
       "      brand  model color  engine\n",
       "0  mercedes  c-180   red     2.0"
      ],
      "text/html": [
       "<div>\n",
       "<style scoped>\n",
       "    .dataframe tbody tr th:only-of-type {\n",
       "        vertical-align: middle;\n",
       "    }\n",
       "\n",
       "    .dataframe tbody tr th {\n",
       "        vertical-align: top;\n",
       "    }\n",
       "\n",
       "    .dataframe thead th {\n",
       "        text-align: right;\n",
       "    }\n",
       "</style>\n",
       "<table border=\"1\" class=\"dataframe\">\n",
       "  <thead>\n",
       "    <tr style=\"text-align: right;\">\n",
       "      <th></th>\n",
       "      <th>brand</th>\n",
       "      <th>model</th>\n",
       "      <th>color</th>\n",
       "      <th>engine</th>\n",
       "    </tr>\n",
       "  </thead>\n",
       "  <tbody>\n",
       "    <tr>\n",
       "      <th>0</th>\n",
       "      <td>mercedes</td>\n",
       "      <td>c-180</td>\n",
       "      <td>red</td>\n",
       "      <td>2.0</td>\n",
       "    </tr>\n",
       "  </tbody>\n",
       "</table>\n",
       "</div>"
      ]
     },
     "metadata": {},
     "execution_count": 88
    }
   ],
   "metadata": {}
  },
  {
   "cell_type": "markdown",
   "source": [
    "<font color = green >\n",
    "\n",
    "#### Where\n",
    "</font>"
   ],
   "metadata": {}
  },
  {
   "cell_type": "code",
   "execution_count": 89,
   "source": [
    "df['configuration'] = [1,None,2,0]\r\n",
    "df['custom_where'] = df['brand'].where(cond=(~df['configuration'].isnull()), other=df['model'])\r\n",
    "df"
   ],
   "outputs": [
    {
     "output_type": "execute_result",
     "data": {
      "text/plain": [
       "      brand        model color  engine  configuration custom_where\n",
       "0  mercedes        c-180   red     2.0            1.0     mercedes\n",
       "1    toyota  landcruiser  grey     3.0            NaN  landcruiser\n",
       "2    toyota         Rav4  blue     1.6            2.0       toyota\n",
       "3   peugeot          207   red     1.4            0.0      peugeot"
      ],
      "text/html": [
       "<div>\n",
       "<style scoped>\n",
       "    .dataframe tbody tr th:only-of-type {\n",
       "        vertical-align: middle;\n",
       "    }\n",
       "\n",
       "    .dataframe tbody tr th {\n",
       "        vertical-align: top;\n",
       "    }\n",
       "\n",
       "    .dataframe thead th {\n",
       "        text-align: right;\n",
       "    }\n",
       "</style>\n",
       "<table border=\"1\" class=\"dataframe\">\n",
       "  <thead>\n",
       "    <tr style=\"text-align: right;\">\n",
       "      <th></th>\n",
       "      <th>brand</th>\n",
       "      <th>model</th>\n",
       "      <th>color</th>\n",
       "      <th>engine</th>\n",
       "      <th>configuration</th>\n",
       "      <th>custom_where</th>\n",
       "    </tr>\n",
       "  </thead>\n",
       "  <tbody>\n",
       "    <tr>\n",
       "      <th>0</th>\n",
       "      <td>mercedes</td>\n",
       "      <td>c-180</td>\n",
       "      <td>red</td>\n",
       "      <td>2.0</td>\n",
       "      <td>1.0</td>\n",
       "      <td>mercedes</td>\n",
       "    </tr>\n",
       "    <tr>\n",
       "      <th>1</th>\n",
       "      <td>toyota</td>\n",
       "      <td>landcruiser</td>\n",
       "      <td>grey</td>\n",
       "      <td>3.0</td>\n",
       "      <td>NaN</td>\n",
       "      <td>landcruiser</td>\n",
       "    </tr>\n",
       "    <tr>\n",
       "      <th>2</th>\n",
       "      <td>toyota</td>\n",
       "      <td>Rav4</td>\n",
       "      <td>blue</td>\n",
       "      <td>1.6</td>\n",
       "      <td>2.0</td>\n",
       "      <td>toyota</td>\n",
       "    </tr>\n",
       "    <tr>\n",
       "      <th>3</th>\n",
       "      <td>peugeot</td>\n",
       "      <td>207</td>\n",
       "      <td>red</td>\n",
       "      <td>1.4</td>\n",
       "      <td>0.0</td>\n",
       "      <td>peugeot</td>\n",
       "    </tr>\n",
       "  </tbody>\n",
       "</table>\n",
       "</div>"
      ]
     },
     "metadata": {},
     "execution_count": 89
    }
   ],
   "metadata": {}
  },
  {
   "cell_type": "markdown",
   "source": [
    "***\n",
    "<font color = green >\n",
    "\n",
    "### Read file with pandas\n",
    "</font>"
   ],
   "metadata": {}
  },
  {
   "cell_type": "code",
   "execution_count": 90,
   "source": [
    "import os\r\n",
    "import pandas as pd \r\n",
    "path = os.getcwd() # current working directory\r\n",
    "path\r\n"
   ],
   "outputs": [
    {
     "output_type": "execute_result",
     "data": {
      "text/plain": [
       "'c:\\\\Users\\\\havrylov.mykola\\\\Desktop\\\\work\\\\python\\\\DS_Kemp\\\\lesson_3_pandas'"
      ]
     },
     "metadata": {},
     "execution_count": 90
    }
   ],
   "metadata": {}
  },
  {
   "cell_type": "markdown",
   "source": [
    "<font color = green >\n",
    "\n",
    "#### Read csv\n",
    "</font>"
   ],
   "metadata": {}
  },
  {
   "cell_type": "code",
   "execution_count": 91,
   "source": [
    "# file_name=  os.path.join(path , 'fruits.csv')\r\n",
    "file_name=  'fruits.csv'\r\n",
    "\r\n",
    "df = pd.read_csv(file_name, sep = ',', header=None,\r\n",
    "                 dtype = None, skiprows=2, nrows= 7, encoding='utf-8')\r\n",
    "df"
   ],
   "outputs": [
    {
     "output_type": "execute_result",
     "data": {
      "text/plain": [
       "      0             1  2    3\n",
       "0  1002       Avocado  5  182\n",
       "1  1003        Banana  5  187\n",
       "2  1004      Bilberry  5  160\n",
       "3  1005    Blackberry  4  178\n",
       "4  1006  Blackcurrant  5  102\n",
       "5  1007     Blueberry  6  156\n",
       "6  1008       Currant  5  194"
      ],
      "text/html": [
       "<div>\n",
       "<style scoped>\n",
       "    .dataframe tbody tr th:only-of-type {\n",
       "        vertical-align: middle;\n",
       "    }\n",
       "\n",
       "    .dataframe tbody tr th {\n",
       "        vertical-align: top;\n",
       "    }\n",
       "\n",
       "    .dataframe thead th {\n",
       "        text-align: right;\n",
       "    }\n",
       "</style>\n",
       "<table border=\"1\" class=\"dataframe\">\n",
       "  <thead>\n",
       "    <tr style=\"text-align: right;\">\n",
       "      <th></th>\n",
       "      <th>0</th>\n",
       "      <th>1</th>\n",
       "      <th>2</th>\n",
       "      <th>3</th>\n",
       "    </tr>\n",
       "  </thead>\n",
       "  <tbody>\n",
       "    <tr>\n",
       "      <th>0</th>\n",
       "      <td>1002</td>\n",
       "      <td>Avocado</td>\n",
       "      <td>5</td>\n",
       "      <td>182</td>\n",
       "    </tr>\n",
       "    <tr>\n",
       "      <th>1</th>\n",
       "      <td>1003</td>\n",
       "      <td>Banana</td>\n",
       "      <td>5</td>\n",
       "      <td>187</td>\n",
       "    </tr>\n",
       "    <tr>\n",
       "      <th>2</th>\n",
       "      <td>1004</td>\n",
       "      <td>Bilberry</td>\n",
       "      <td>5</td>\n",
       "      <td>160</td>\n",
       "    </tr>\n",
       "    <tr>\n",
       "      <th>3</th>\n",
       "      <td>1005</td>\n",
       "      <td>Blackberry</td>\n",
       "      <td>4</td>\n",
       "      <td>178</td>\n",
       "    </tr>\n",
       "    <tr>\n",
       "      <th>4</th>\n",
       "      <td>1006</td>\n",
       "      <td>Blackcurrant</td>\n",
       "      <td>5</td>\n",
       "      <td>102</td>\n",
       "    </tr>\n",
       "    <tr>\n",
       "      <th>5</th>\n",
       "      <td>1007</td>\n",
       "      <td>Blueberry</td>\n",
       "      <td>6</td>\n",
       "      <td>156</td>\n",
       "    </tr>\n",
       "    <tr>\n",
       "      <th>6</th>\n",
       "      <td>1008</td>\n",
       "      <td>Currant</td>\n",
       "      <td>5</td>\n",
       "      <td>194</td>\n",
       "    </tr>\n",
       "  </tbody>\n",
       "</table>\n",
       "</div>"
      ]
     },
     "metadata": {},
     "execution_count": 91
    }
   ],
   "metadata": {}
  },
  {
   "cell_type": "markdown",
   "source": [
    "<font color = green >\n",
    "\n",
    "#### Read xslx\n",
    "</font>"
   ],
   "metadata": {}
  },
  {
   "cell_type": "code",
   "execution_count": 92,
   "source": [
    "file_name= 'gdplev.xls'\r\n",
    "\r\n",
    "df= pd.read_excel(file_name, skiprows=5)\r\n",
    "df.head()"
   ],
   "outputs": [
    {
     "output_type": "execute_result",
     "data": {
      "text/plain": [
       "   Unnamed: 0  GDP in billions of current dollars  \\\n",
       "0         NaN                                 NaN   \n",
       "1         NaN                                 NaN   \n",
       "2      1929.0                               104.6   \n",
       "3      1930.0                                92.2   \n",
       "4      1931.0                                77.4   \n",
       "\n",
       "   GDP in billions of chained 2009 dollars  Unnamed: 3 Unnamed: 4  \\\n",
       "0                                      NaN         NaN        NaN   \n",
       "1                                      NaN         NaN        NaN   \n",
       "2                                   1056.6         NaN     1947q1   \n",
       "3                                    966.7         NaN     1947q2   \n",
       "4                                    904.8         NaN     1947q3   \n",
       "\n",
       "   GDP in billions of current dollars.1  \\\n",
       "0                                   NaN   \n",
       "1                                   NaN   \n",
       "2                                 243.1   \n",
       "3                                 246.3   \n",
       "4                                 250.1   \n",
       "\n",
       "   GDP in billions of chained 2009 dollars.1  Unnamed: 7  \n",
       "0                                        NaN         NaN  \n",
       "1                                        NaN         NaN  \n",
       "2                                     1934.5         NaN  \n",
       "3                                     1932.3         NaN  \n",
       "4                                     1930.3         NaN  "
      ],
      "text/html": [
       "<div>\n",
       "<style scoped>\n",
       "    .dataframe tbody tr th:only-of-type {\n",
       "        vertical-align: middle;\n",
       "    }\n",
       "\n",
       "    .dataframe tbody tr th {\n",
       "        vertical-align: top;\n",
       "    }\n",
       "\n",
       "    .dataframe thead th {\n",
       "        text-align: right;\n",
       "    }\n",
       "</style>\n",
       "<table border=\"1\" class=\"dataframe\">\n",
       "  <thead>\n",
       "    <tr style=\"text-align: right;\">\n",
       "      <th></th>\n",
       "      <th>Unnamed: 0</th>\n",
       "      <th>GDP in billions of current dollars</th>\n",
       "      <th>GDP in billions of chained 2009 dollars</th>\n",
       "      <th>Unnamed: 3</th>\n",
       "      <th>Unnamed: 4</th>\n",
       "      <th>GDP in billions of current dollars.1</th>\n",
       "      <th>GDP in billions of chained 2009 dollars.1</th>\n",
       "      <th>Unnamed: 7</th>\n",
       "    </tr>\n",
       "  </thead>\n",
       "  <tbody>\n",
       "    <tr>\n",
       "      <th>0</th>\n",
       "      <td>NaN</td>\n",
       "      <td>NaN</td>\n",
       "      <td>NaN</td>\n",
       "      <td>NaN</td>\n",
       "      <td>NaN</td>\n",
       "      <td>NaN</td>\n",
       "      <td>NaN</td>\n",
       "      <td>NaN</td>\n",
       "    </tr>\n",
       "    <tr>\n",
       "      <th>1</th>\n",
       "      <td>NaN</td>\n",
       "      <td>NaN</td>\n",
       "      <td>NaN</td>\n",
       "      <td>NaN</td>\n",
       "      <td>NaN</td>\n",
       "      <td>NaN</td>\n",
       "      <td>NaN</td>\n",
       "      <td>NaN</td>\n",
       "    </tr>\n",
       "    <tr>\n",
       "      <th>2</th>\n",
       "      <td>1929.0</td>\n",
       "      <td>104.6</td>\n",
       "      <td>1056.6</td>\n",
       "      <td>NaN</td>\n",
       "      <td>1947q1</td>\n",
       "      <td>243.1</td>\n",
       "      <td>1934.5</td>\n",
       "      <td>NaN</td>\n",
       "    </tr>\n",
       "    <tr>\n",
       "      <th>3</th>\n",
       "      <td>1930.0</td>\n",
       "      <td>92.2</td>\n",
       "      <td>966.7</td>\n",
       "      <td>NaN</td>\n",
       "      <td>1947q2</td>\n",
       "      <td>246.3</td>\n",
       "      <td>1932.3</td>\n",
       "      <td>NaN</td>\n",
       "    </tr>\n",
       "    <tr>\n",
       "      <th>4</th>\n",
       "      <td>1931.0</td>\n",
       "      <td>77.4</td>\n",
       "      <td>904.8</td>\n",
       "      <td>NaN</td>\n",
       "      <td>1947q3</td>\n",
       "      <td>250.1</td>\n",
       "      <td>1930.3</td>\n",
       "      <td>NaN</td>\n",
       "    </tr>\n",
       "  </tbody>\n",
       "</table>\n",
       "</div>"
      ]
     },
     "metadata": {},
     "execution_count": 92
    }
   ],
   "metadata": {}
  },
  {
   "cell_type": "markdown",
   "source": [
    "<font color = green >\n",
    "\n",
    "#### Read txt (rows)\n",
    "</font>"
   ],
   "metadata": {}
  },
  {
   "cell_type": "code",
   "execution_count": 93,
   "source": [
    "file_name=  'university_towns.txt'\r\n",
    "df = pd.read_fwf(file_name, header=None)\r\n",
    "df.columns = ['town']\r\n",
    "df.head()"
   ],
   "outputs": [
    {
     "output_type": "execute_result",
     "data": {
      "text/plain": [
       "                                              town\n",
       "0                                    Alabama[edit]\n",
       "1                    Auburn (Auburn University)[1]\n",
       "2           Florence (University of North Alabama)\n",
       "3  Jacksonville (Jacksonville State University)[2]\n",
       "4       Livingston (University of West Alabama)[2]"
      ],
      "text/html": [
       "<div>\n",
       "<style scoped>\n",
       "    .dataframe tbody tr th:only-of-type {\n",
       "        vertical-align: middle;\n",
       "    }\n",
       "\n",
       "    .dataframe tbody tr th {\n",
       "        vertical-align: top;\n",
       "    }\n",
       "\n",
       "    .dataframe thead th {\n",
       "        text-align: right;\n",
       "    }\n",
       "</style>\n",
       "<table border=\"1\" class=\"dataframe\">\n",
       "  <thead>\n",
       "    <tr style=\"text-align: right;\">\n",
       "      <th></th>\n",
       "      <th>town</th>\n",
       "    </tr>\n",
       "  </thead>\n",
       "  <tbody>\n",
       "    <tr>\n",
       "      <th>0</th>\n",
       "      <td>Alabama[edit]</td>\n",
       "    </tr>\n",
       "    <tr>\n",
       "      <th>1</th>\n",
       "      <td>Auburn (Auburn University)[1]</td>\n",
       "    </tr>\n",
       "    <tr>\n",
       "      <th>2</th>\n",
       "      <td>Florence (University of North Alabama)</td>\n",
       "    </tr>\n",
       "    <tr>\n",
       "      <th>3</th>\n",
       "      <td>Jacksonville (Jacksonville State University)[2]</td>\n",
       "    </tr>\n",
       "    <tr>\n",
       "      <th>4</th>\n",
       "      <td>Livingston (University of West Alabama)[2]</td>\n",
       "    </tr>\n",
       "  </tbody>\n",
       "</table>\n",
       "</div>"
      ]
     },
     "metadata": {},
     "execution_count": 93
    }
   ],
   "metadata": {}
  },
  {
   "cell_type": "markdown",
   "source": [
    "<font color = green >\n",
    "\n",
    "#### Read txt (saves table)\n",
    "</font>"
   ],
   "metadata": {}
  },
  {
   "cell_type": "code",
   "execution_count": 94,
   "source": [
    "file_name=  'fruit_data_with_colors.txt'\r\n",
    "df = pd.read_table(file_name) \r\n",
    "# df = pd.read_csv(file_name, sep='\\t') \r\n",
    "df.head()"
   ],
   "outputs": [
    {
     "output_type": "execute_result",
     "data": {
      "text/plain": [
       "   fruit_label fruit_name fruit_subtype  mass  width  height  color_score\n",
       "0            1      apple  granny_smith   192    8.4     7.3         0.55\n",
       "1            1      apple  granny_smith   180    8.0     6.8         0.59\n",
       "2            1      apple  granny_smith   176    7.4     7.2         0.60\n",
       "3            2   mandarin      mandarin    86    6.2     4.7         0.80\n",
       "4            2   mandarin      mandarin    84    6.0     4.6         0.79"
      ],
      "text/html": [
       "<div>\n",
       "<style scoped>\n",
       "    .dataframe tbody tr th:only-of-type {\n",
       "        vertical-align: middle;\n",
       "    }\n",
       "\n",
       "    .dataframe tbody tr th {\n",
       "        vertical-align: top;\n",
       "    }\n",
       "\n",
       "    .dataframe thead th {\n",
       "        text-align: right;\n",
       "    }\n",
       "</style>\n",
       "<table border=\"1\" class=\"dataframe\">\n",
       "  <thead>\n",
       "    <tr style=\"text-align: right;\">\n",
       "      <th></th>\n",
       "      <th>fruit_label</th>\n",
       "      <th>fruit_name</th>\n",
       "      <th>fruit_subtype</th>\n",
       "      <th>mass</th>\n",
       "      <th>width</th>\n",
       "      <th>height</th>\n",
       "      <th>color_score</th>\n",
       "    </tr>\n",
       "  </thead>\n",
       "  <tbody>\n",
       "    <tr>\n",
       "      <th>0</th>\n",
       "      <td>1</td>\n",
       "      <td>apple</td>\n",
       "      <td>granny_smith</td>\n",
       "      <td>192</td>\n",
       "      <td>8.4</td>\n",
       "      <td>7.3</td>\n",
       "      <td>0.55</td>\n",
       "    </tr>\n",
       "    <tr>\n",
       "      <th>1</th>\n",
       "      <td>1</td>\n",
       "      <td>apple</td>\n",
       "      <td>granny_smith</td>\n",
       "      <td>180</td>\n",
       "      <td>8.0</td>\n",
       "      <td>6.8</td>\n",
       "      <td>0.59</td>\n",
       "    </tr>\n",
       "    <tr>\n",
       "      <th>2</th>\n",
       "      <td>1</td>\n",
       "      <td>apple</td>\n",
       "      <td>granny_smith</td>\n",
       "      <td>176</td>\n",
       "      <td>7.4</td>\n",
       "      <td>7.2</td>\n",
       "      <td>0.60</td>\n",
       "    </tr>\n",
       "    <tr>\n",
       "      <th>3</th>\n",
       "      <td>2</td>\n",
       "      <td>mandarin</td>\n",
       "      <td>mandarin</td>\n",
       "      <td>86</td>\n",
       "      <td>6.2</td>\n",
       "      <td>4.7</td>\n",
       "      <td>0.80</td>\n",
       "    </tr>\n",
       "    <tr>\n",
       "      <th>4</th>\n",
       "      <td>2</td>\n",
       "      <td>mandarin</td>\n",
       "      <td>mandarin</td>\n",
       "      <td>84</td>\n",
       "      <td>6.0</td>\n",
       "      <td>4.6</td>\n",
       "      <td>0.79</td>\n",
       "    </tr>\n",
       "  </tbody>\n",
       "</table>\n",
       "</div>"
      ]
     },
     "metadata": {},
     "execution_count": 94
    }
   ],
   "metadata": {}
  },
  {
   "cell_type": "markdown",
   "source": [
    "<font color = green >\n",
    "\n",
    "### Read SQL\n",
    "</font>"
   ],
   "metadata": {}
  },
  {
   "cell_type": "code",
   "execution_count": 95,
   "source": [
    "from sqlalchemy import create_engine\r\n",
    "# db_url = 'mysql+pymysql://{}:{}@{}/{}?charset=utf8'.format(user, password, host, database)\r\n",
    "# engine = create_engine(db_url)\r\n",
    "# query = \"SELECT * FROM table_name LIMIT 10\"\r\n",
    "# df = pd.read_sql(query,engine) "
   ],
   "outputs": [],
   "metadata": {}
  },
  {
   "cell_type": "markdown",
   "source": [
    "***\n",
    "<font color = green >\n",
    "\n",
    "### Write file with pandas\n",
    "</font>"
   ],
   "metadata": {}
  },
  {
   "cell_type": "markdown",
   "source": [
    "<font color = green >\n",
    "\n",
    "#### Write DataFrame to csv\n",
    "</font>"
   ],
   "metadata": {}
  },
  {
   "cell_type": "code",
   "execution_count": 96,
   "source": [
    "file_name=  'output.csv'\r\n",
    "df.to_csv(file_name, encoding='utf-8', sep=',',index= False) # use sep '\\t' for .tsv\r\n",
    "\r\n",
    "with open(file_name) as f:\r\n",
    "    content = f.read()\r\n",
    "print (content[:200])"
   ],
   "outputs": [
    {
     "output_type": "stream",
     "name": "stdout",
     "text": [
      "fruit_label,fruit_name,fruit_subtype,mass,width,height,color_score\n",
      "1,apple,granny_smith,192,8.4,7.3,0.55\n",
      "1,apple,granny_smith,180,8.0,6.8,0.59\n",
      "1,apple,granny_smith,176,7.4,7.2,0.6\n",
      "2,mandarin,mandarin,\n"
     ]
    }
   ],
   "metadata": {}
  },
  {
   "cell_type": "markdown",
   "source": [
    "<font color = green >\n",
    "\n",
    "#### Write DataFrame to xslx\n",
    "</font>"
   ],
   "metadata": {}
  },
  {
   "cell_type": "code",
   "execution_count": 97,
   "source": [
    "df.to_excel('output.xlsx')"
   ],
   "outputs": [],
   "metadata": {}
  },
  {
   "cell_type": "markdown",
   "source": [
    "***\n",
    "<font color = green >\n",
    "\n",
    "### Operations with two DataFrames\n",
    "</font>"
   ],
   "metadata": {}
  },
  {
   "cell_type": "markdown",
   "source": [
    "<font color = green >\n",
    "\n",
    "#### Append DataFrames\n",
    "</font>"
   ],
   "metadata": {}
  },
  {
   "cell_type": "code",
   "execution_count": 98,
   "source": [
    "# Append rows of other to the end of this frame, returning a new object\r\n",
    "import pandas as pd\r\n",
    "template = 'hello  data   science'\r\n",
    "df= pd.DataFrame()\r\n",
    "for i in range (7):\r\n",
    "    df1 = pd.DataFrame({'col1': [template[i]],\r\n",
    "                    'col2': [template[i+7]],\r\n",
    "                    'col3': [template[i+14]],\r\n",
    "                    }, index= [i])\r\n",
    "\r\n",
    "    df = df.append(df1)\r\n",
    "print (df)\r\n",
    "df.T"
   ],
   "outputs": [
    {
     "output_type": "stream",
     "name": "stdout",
     "text": [
      "  col1 col2 col3\n",
      "0    h    d    s\n",
      "1    e    a    c\n",
      "2    l    t    i\n",
      "3    l    a    e\n",
      "4    o         n\n",
      "5              c\n",
      "6              e\n"
     ]
    },
    {
     "output_type": "execute_result",
     "data": {
      "text/plain": [
       "      0  1  2  3  4  5  6\n",
       "col1  h  e  l  l  o      \n",
       "col2  d  a  t  a         \n",
       "col3  s  c  i  e  n  c  e"
      ],
      "text/html": [
       "<div>\n",
       "<style scoped>\n",
       "    .dataframe tbody tr th:only-of-type {\n",
       "        vertical-align: middle;\n",
       "    }\n",
       "\n",
       "    .dataframe tbody tr th {\n",
       "        vertical-align: top;\n",
       "    }\n",
       "\n",
       "    .dataframe thead th {\n",
       "        text-align: right;\n",
       "    }\n",
       "</style>\n",
       "<table border=\"1\" class=\"dataframe\">\n",
       "  <thead>\n",
       "    <tr style=\"text-align: right;\">\n",
       "      <th></th>\n",
       "      <th>0</th>\n",
       "      <th>1</th>\n",
       "      <th>2</th>\n",
       "      <th>3</th>\n",
       "      <th>4</th>\n",
       "      <th>5</th>\n",
       "      <th>6</th>\n",
       "    </tr>\n",
       "  </thead>\n",
       "  <tbody>\n",
       "    <tr>\n",
       "      <th>col1</th>\n",
       "      <td>h</td>\n",
       "      <td>e</td>\n",
       "      <td>l</td>\n",
       "      <td>l</td>\n",
       "      <td>o</td>\n",
       "      <td></td>\n",
       "      <td></td>\n",
       "    </tr>\n",
       "    <tr>\n",
       "      <th>col2</th>\n",
       "      <td>d</td>\n",
       "      <td>a</td>\n",
       "      <td>t</td>\n",
       "      <td>a</td>\n",
       "      <td></td>\n",
       "      <td></td>\n",
       "      <td></td>\n",
       "    </tr>\n",
       "    <tr>\n",
       "      <th>col3</th>\n",
       "      <td>s</td>\n",
       "      <td>c</td>\n",
       "      <td>i</td>\n",
       "      <td>e</td>\n",
       "      <td>n</td>\n",
       "      <td>c</td>\n",
       "      <td>e</td>\n",
       "    </tr>\n",
       "  </tbody>\n",
       "</table>\n",
       "</div>"
      ]
     },
     "metadata": {},
     "execution_count": 98
    }
   ],
   "metadata": {}
  },
  {
   "cell_type": "markdown",
   "source": [
    "#### You may use Series or dict  to append "
   ],
   "metadata": {}
  },
  {
   "cell_type": "code",
   "execution_count": 99,
   "source": [
    "df= pd.DataFrame({'a': [1],\r\n",
    "                'b':[2] ,\r\n",
    "                'c': [3]})\r\n",
    "df1 = df.append (pd.Series ({'a': 4,\r\n",
    "                'b':5 ,\r\n",
    "                'c': 6}), ignore_index=True)\r\n",
    "\r\n",
    "# Note: append is not inplace operation \r\n",
    "\r\n",
    "print (df1)\r\n",
    "print ('\\nOr even without using pd.series\\n')\r\n",
    "\r\n",
    "df2 = df.append ({'a': 4,\r\n",
    "                'b':5 ,\r\n",
    "                'c': 6}, ignore_index=True)\r\n",
    "df2"
   ],
   "outputs": [
    {
     "output_type": "stream",
     "name": "stdout",
     "text": [
      "   a  b  c\n",
      "0  1  2  3\n",
      "1  4  5  6\n",
      "\n",
      "Or even without using pd.series\n",
      "\n"
     ]
    },
    {
     "output_type": "execute_result",
     "data": {
      "text/plain": [
       "   a  b  c\n",
       "0  1  2  3\n",
       "1  4  5  6"
      ],
      "text/html": [
       "<div>\n",
       "<style scoped>\n",
       "    .dataframe tbody tr th:only-of-type {\n",
       "        vertical-align: middle;\n",
       "    }\n",
       "\n",
       "    .dataframe tbody tr th {\n",
       "        vertical-align: top;\n",
       "    }\n",
       "\n",
       "    .dataframe thead th {\n",
       "        text-align: right;\n",
       "    }\n",
       "</style>\n",
       "<table border=\"1\" class=\"dataframe\">\n",
       "  <thead>\n",
       "    <tr style=\"text-align: right;\">\n",
       "      <th></th>\n",
       "      <th>a</th>\n",
       "      <th>b</th>\n",
       "      <th>c</th>\n",
       "    </tr>\n",
       "  </thead>\n",
       "  <tbody>\n",
       "    <tr>\n",
       "      <th>0</th>\n",
       "      <td>1</td>\n",
       "      <td>2</td>\n",
       "      <td>3</td>\n",
       "    </tr>\n",
       "    <tr>\n",
       "      <th>1</th>\n",
       "      <td>4</td>\n",
       "      <td>5</td>\n",
       "      <td>6</td>\n",
       "    </tr>\n",
       "  </tbody>\n",
       "</table>\n",
       "</div>"
      ]
     },
     "metadata": {},
     "execution_count": 99
    }
   ],
   "metadata": {}
  },
  {
   "cell_type": "markdown",
   "source": [
    "<font color = green >\n",
    "\n",
    "#### Append DataFrames with different columns\n",
    "</font>"
   ],
   "metadata": {}
  },
  {
   "cell_type": "code",
   "execution_count": 100,
   "source": [
    "df1 = pd.DataFrame({'col1': [1,2],\r\n",
    "                    'col2': [3,4]})\r\n",
    "df2 = pd.DataFrame({'col2': [5,6],\r\n",
    "                    'col3': [7,8]})\r\n",
    "df = df1.append(df2, sort= True)\r\n",
    "df                    \r\n"
   ],
   "outputs": [
    {
     "output_type": "execute_result",
     "data": {
      "text/plain": [
       "   col1  col2  col3\n",
       "0   1.0     3   NaN\n",
       "1   2.0     4   NaN\n",
       "0   NaN     5   7.0\n",
       "1   NaN     6   8.0"
      ],
      "text/html": [
       "<div>\n",
       "<style scoped>\n",
       "    .dataframe tbody tr th:only-of-type {\n",
       "        vertical-align: middle;\n",
       "    }\n",
       "\n",
       "    .dataframe tbody tr th {\n",
       "        vertical-align: top;\n",
       "    }\n",
       "\n",
       "    .dataframe thead th {\n",
       "        text-align: right;\n",
       "    }\n",
       "</style>\n",
       "<table border=\"1\" class=\"dataframe\">\n",
       "  <thead>\n",
       "    <tr style=\"text-align: right;\">\n",
       "      <th></th>\n",
       "      <th>col1</th>\n",
       "      <th>col2</th>\n",
       "      <th>col3</th>\n",
       "    </tr>\n",
       "  </thead>\n",
       "  <tbody>\n",
       "    <tr>\n",
       "      <th>0</th>\n",
       "      <td>1.0</td>\n",
       "      <td>3</td>\n",
       "      <td>NaN</td>\n",
       "    </tr>\n",
       "    <tr>\n",
       "      <th>1</th>\n",
       "      <td>2.0</td>\n",
       "      <td>4</td>\n",
       "      <td>NaN</td>\n",
       "    </tr>\n",
       "    <tr>\n",
       "      <th>0</th>\n",
       "      <td>NaN</td>\n",
       "      <td>5</td>\n",
       "      <td>7.0</td>\n",
       "    </tr>\n",
       "    <tr>\n",
       "      <th>1</th>\n",
       "      <td>NaN</td>\n",
       "      <td>6</td>\n",
       "      <td>8.0</td>\n",
       "    </tr>\n",
       "  </tbody>\n",
       "</table>\n",
       "</div>"
      ]
     },
     "metadata": {},
     "execution_count": 100
    }
   ],
   "metadata": {}
  },
  {
   "cell_type": "markdown",
   "source": [
    "<font color = green >\n",
    "\n",
    "#### Merge\n",
    "</font>"
   ],
   "metadata": {}
  },
  {
   "cell_type": "code",
   "execution_count": 101,
   "source": [
    "# Merge DataFrame objects by performing a database-style join operation by columns (or indexes)\r\n",
    "df1 = pd.DataFrame([['mercedes', 'c-180', 'red'], \r\n",
    "              ['toyota', 'landcruiser', 'grey'],\r\n",
    "              ['toyota', 'Rav4', 'blue'],\r\n",
    "              [ 'peugeot', '207', 'red']], columns = ['brand','model', 'color'])\r\n",
    "print (df1)\r\n",
    "df2 = pd.DataFrame([['mercedes', 'c-180', 'automat'], \r\n",
    "              ['toyota', 'landcruiser', 'automat'],\r\n",
    "              ['toyota', 'corolla', 'CVT'],\r\n",
    "              [ 'peugeot', '207', 'manual'],\r\n",
    "              [ 'bmw', 'x5', 'manual'],\r\n",
    "                    \r\n",
    "                   ], columns =  ['brand','model', 'transmission'])\r\n",
    "\r\n",
    "print ('-'*40, '\\n', df2)\r\n",
    "\r\n",
    "pd.merge (df1, df2, on = 'brand')\r\n",
    "\r\n",
    "# Note: \r\n",
    "#  all duplicates multiplies each other \r\n",
    "#  Inner by default  - there is no bmw \r\n",
    "#  the same columns names  - marked _x and _y \r\n"
   ],
   "outputs": [
    {
     "output_type": "stream",
     "name": "stdout",
     "text": [
      "      brand        model color\n",
      "0  mercedes        c-180   red\n",
      "1    toyota  landcruiser  grey\n",
      "2    toyota         Rav4  blue\n",
      "3   peugeot          207   red\n",
      "---------------------------------------- \n",
      "       brand        model transmission\n",
      "0  mercedes        c-180      automat\n",
      "1    toyota  landcruiser      automat\n",
      "2    toyota      corolla          CVT\n",
      "3   peugeot          207       manual\n",
      "4       bmw           x5       manual\n"
     ]
    },
    {
     "output_type": "execute_result",
     "data": {
      "text/plain": [
       "      brand      model_x color      model_y transmission\n",
       "0  mercedes        c-180   red        c-180      automat\n",
       "1    toyota  landcruiser  grey  landcruiser      automat\n",
       "2    toyota  landcruiser  grey      corolla          CVT\n",
       "3    toyota         Rav4  blue  landcruiser      automat\n",
       "4    toyota         Rav4  blue      corolla          CVT\n",
       "5   peugeot          207   red          207       manual"
      ],
      "text/html": [
       "<div>\n",
       "<style scoped>\n",
       "    .dataframe tbody tr th:only-of-type {\n",
       "        vertical-align: middle;\n",
       "    }\n",
       "\n",
       "    .dataframe tbody tr th {\n",
       "        vertical-align: top;\n",
       "    }\n",
       "\n",
       "    .dataframe thead th {\n",
       "        text-align: right;\n",
       "    }\n",
       "</style>\n",
       "<table border=\"1\" class=\"dataframe\">\n",
       "  <thead>\n",
       "    <tr style=\"text-align: right;\">\n",
       "      <th></th>\n",
       "      <th>brand</th>\n",
       "      <th>model_x</th>\n",
       "      <th>color</th>\n",
       "      <th>model_y</th>\n",
       "      <th>transmission</th>\n",
       "    </tr>\n",
       "  </thead>\n",
       "  <tbody>\n",
       "    <tr>\n",
       "      <th>0</th>\n",
       "      <td>mercedes</td>\n",
       "      <td>c-180</td>\n",
       "      <td>red</td>\n",
       "      <td>c-180</td>\n",
       "      <td>automat</td>\n",
       "    </tr>\n",
       "    <tr>\n",
       "      <th>1</th>\n",
       "      <td>toyota</td>\n",
       "      <td>landcruiser</td>\n",
       "      <td>grey</td>\n",
       "      <td>landcruiser</td>\n",
       "      <td>automat</td>\n",
       "    </tr>\n",
       "    <tr>\n",
       "      <th>2</th>\n",
       "      <td>toyota</td>\n",
       "      <td>landcruiser</td>\n",
       "      <td>grey</td>\n",
       "      <td>corolla</td>\n",
       "      <td>CVT</td>\n",
       "    </tr>\n",
       "    <tr>\n",
       "      <th>3</th>\n",
       "      <td>toyota</td>\n",
       "      <td>Rav4</td>\n",
       "      <td>blue</td>\n",
       "      <td>landcruiser</td>\n",
       "      <td>automat</td>\n",
       "    </tr>\n",
       "    <tr>\n",
       "      <th>4</th>\n",
       "      <td>toyota</td>\n",
       "      <td>Rav4</td>\n",
       "      <td>blue</td>\n",
       "      <td>corolla</td>\n",
       "      <td>CVT</td>\n",
       "    </tr>\n",
       "    <tr>\n",
       "      <th>5</th>\n",
       "      <td>peugeot</td>\n",
       "      <td>207</td>\n",
       "      <td>red</td>\n",
       "      <td>207</td>\n",
       "      <td>manual</td>\n",
       "    </tr>\n",
       "  </tbody>\n",
       "</table>\n",
       "</div>"
      ]
     },
     "metadata": {},
     "execution_count": 101
    }
   ],
   "metadata": {}
  },
  {
   "cell_type": "code",
   "execution_count": 102,
   "source": [
    "df2.rename( columns= {'brand':'name'}, inplace = True) \r\n",
    "print (df1,'\\n', '-'*40, '\\n', df2)\r\n",
    "pd.merge (df1, df2, how = 'outer', left_on = 'brand', right_on= 'name')\r\n",
    "\r\n",
    "# Note: \r\n",
    "# left_on /right_on\r\n",
    "# outer marks None for missed keys"
   ],
   "outputs": [
    {
     "output_type": "stream",
     "name": "stdout",
     "text": [
      "      brand        model color\n",
      "0  mercedes        c-180   red\n",
      "1    toyota  landcruiser  grey\n",
      "2    toyota         Rav4  blue\n",
      "3   peugeot          207   red \n",
      " ---------------------------------------- \n",
      "        name        model transmission\n",
      "0  mercedes        c-180      automat\n",
      "1    toyota  landcruiser      automat\n",
      "2    toyota      corolla          CVT\n",
      "3   peugeot          207       manual\n",
      "4       bmw           x5       manual\n"
     ]
    },
    {
     "output_type": "execute_result",
     "data": {
      "text/plain": [
       "      brand      model_x color      name      model_y transmission\n",
       "0  mercedes        c-180   red  mercedes        c-180      automat\n",
       "1    toyota  landcruiser  grey    toyota  landcruiser      automat\n",
       "2    toyota  landcruiser  grey    toyota      corolla          CVT\n",
       "3    toyota         Rav4  blue    toyota  landcruiser      automat\n",
       "4    toyota         Rav4  blue    toyota      corolla          CVT\n",
       "5   peugeot          207   red   peugeot          207       manual\n",
       "6       NaN          NaN   NaN       bmw           x5       manual"
      ],
      "text/html": [
       "<div>\n",
       "<style scoped>\n",
       "    .dataframe tbody tr th:only-of-type {\n",
       "        vertical-align: middle;\n",
       "    }\n",
       "\n",
       "    .dataframe tbody tr th {\n",
       "        vertical-align: top;\n",
       "    }\n",
       "\n",
       "    .dataframe thead th {\n",
       "        text-align: right;\n",
       "    }\n",
       "</style>\n",
       "<table border=\"1\" class=\"dataframe\">\n",
       "  <thead>\n",
       "    <tr style=\"text-align: right;\">\n",
       "      <th></th>\n",
       "      <th>brand</th>\n",
       "      <th>model_x</th>\n",
       "      <th>color</th>\n",
       "      <th>name</th>\n",
       "      <th>model_y</th>\n",
       "      <th>transmission</th>\n",
       "    </tr>\n",
       "  </thead>\n",
       "  <tbody>\n",
       "    <tr>\n",
       "      <th>0</th>\n",
       "      <td>mercedes</td>\n",
       "      <td>c-180</td>\n",
       "      <td>red</td>\n",
       "      <td>mercedes</td>\n",
       "      <td>c-180</td>\n",
       "      <td>automat</td>\n",
       "    </tr>\n",
       "    <tr>\n",
       "      <th>1</th>\n",
       "      <td>toyota</td>\n",
       "      <td>landcruiser</td>\n",
       "      <td>grey</td>\n",
       "      <td>toyota</td>\n",
       "      <td>landcruiser</td>\n",
       "      <td>automat</td>\n",
       "    </tr>\n",
       "    <tr>\n",
       "      <th>2</th>\n",
       "      <td>toyota</td>\n",
       "      <td>landcruiser</td>\n",
       "      <td>grey</td>\n",
       "      <td>toyota</td>\n",
       "      <td>corolla</td>\n",
       "      <td>CVT</td>\n",
       "    </tr>\n",
       "    <tr>\n",
       "      <th>3</th>\n",
       "      <td>toyota</td>\n",
       "      <td>Rav4</td>\n",
       "      <td>blue</td>\n",
       "      <td>toyota</td>\n",
       "      <td>landcruiser</td>\n",
       "      <td>automat</td>\n",
       "    </tr>\n",
       "    <tr>\n",
       "      <th>4</th>\n",
       "      <td>toyota</td>\n",
       "      <td>Rav4</td>\n",
       "      <td>blue</td>\n",
       "      <td>toyota</td>\n",
       "      <td>corolla</td>\n",
       "      <td>CVT</td>\n",
       "    </tr>\n",
       "    <tr>\n",
       "      <th>5</th>\n",
       "      <td>peugeot</td>\n",
       "      <td>207</td>\n",
       "      <td>red</td>\n",
       "      <td>peugeot</td>\n",
       "      <td>207</td>\n",
       "      <td>manual</td>\n",
       "    </tr>\n",
       "    <tr>\n",
       "      <th>6</th>\n",
       "      <td>NaN</td>\n",
       "      <td>NaN</td>\n",
       "      <td>NaN</td>\n",
       "      <td>bmw</td>\n",
       "      <td>x5</td>\n",
       "      <td>manual</td>\n",
       "    </tr>\n",
       "  </tbody>\n",
       "</table>\n",
       "</div>"
      ]
     },
     "metadata": {},
     "execution_count": 102
    }
   ],
   "metadata": {}
  },
  {
   "cell_type": "markdown",
   "source": [
    "<font color = green >\n",
    "\n",
    "#### Concat\n",
    "</font>"
   ],
   "metadata": {}
  },
  {
   "cell_type": "code",
   "execution_count": 103,
   "source": [
    "# Concatenate pandas objects along a particular axis with \r\n",
    "df1 = pd.DataFrame([['a', 1], ['b', 2]],columns=['letter', 'number'])\r\n",
    "df2 = pd.DataFrame([['c', 3], ['d', 4]], columns=['letter', 'number'])\r\n",
    "print (df1,'\\n', '-'*40, '\\n', df2)\r\n",
    "pd.concat([df1, df2], axis=0)\r\n",
    "\r\n",
    "# Note: default axis = 0 means along rows"
   ],
   "outputs": [
    {
     "output_type": "stream",
     "name": "stdout",
     "text": [
      "  letter  number\n",
      "0      a       1\n",
      "1      b       2 \n",
      " ---------------------------------------- \n",
      "   letter  number\n",
      "0      c       3\n",
      "1      d       4\n"
     ]
    },
    {
     "output_type": "execute_result",
     "data": {
      "text/plain": [
       "  letter  number\n",
       "0      a       1\n",
       "1      b       2\n",
       "0      c       3\n",
       "1      d       4"
      ],
      "text/html": [
       "<div>\n",
       "<style scoped>\n",
       "    .dataframe tbody tr th:only-of-type {\n",
       "        vertical-align: middle;\n",
       "    }\n",
       "\n",
       "    .dataframe tbody tr th {\n",
       "        vertical-align: top;\n",
       "    }\n",
       "\n",
       "    .dataframe thead th {\n",
       "        text-align: right;\n",
       "    }\n",
       "</style>\n",
       "<table border=\"1\" class=\"dataframe\">\n",
       "  <thead>\n",
       "    <tr style=\"text-align: right;\">\n",
       "      <th></th>\n",
       "      <th>letter</th>\n",
       "      <th>number</th>\n",
       "    </tr>\n",
       "  </thead>\n",
       "  <tbody>\n",
       "    <tr>\n",
       "      <th>0</th>\n",
       "      <td>a</td>\n",
       "      <td>1</td>\n",
       "    </tr>\n",
       "    <tr>\n",
       "      <th>1</th>\n",
       "      <td>b</td>\n",
       "      <td>2</td>\n",
       "    </tr>\n",
       "    <tr>\n",
       "      <th>0</th>\n",
       "      <td>c</td>\n",
       "      <td>3</td>\n",
       "    </tr>\n",
       "    <tr>\n",
       "      <th>1</th>\n",
       "      <td>d</td>\n",
       "      <td>4</td>\n",
       "    </tr>\n",
       "  </tbody>\n",
       "</table>\n",
       "</div>"
      ]
     },
     "metadata": {},
     "execution_count": 103
    }
   ],
   "metadata": {}
  },
  {
   "cell_type": "code",
   "execution_count": 104,
   "source": [
    "print (df1,'\\n', '-'*40, '\\n', df2)\r\n",
    "pd.concat([df1, df2], axis=1)"
   ],
   "outputs": [
    {
     "output_type": "stream",
     "name": "stdout",
     "text": [
      "  letter  number\n",
      "0      a       1\n",
      "1      b       2 \n",
      " ---------------------------------------- \n",
      "   letter  number\n",
      "0      c       3\n",
      "1      d       4\n"
     ]
    },
    {
     "output_type": "execute_result",
     "data": {
      "text/plain": [
       "  letter  number letter  number\n",
       "0      a       1      c       3\n",
       "1      b       2      d       4"
      ],
      "text/html": [
       "<div>\n",
       "<style scoped>\n",
       "    .dataframe tbody tr th:only-of-type {\n",
       "        vertical-align: middle;\n",
       "    }\n",
       "\n",
       "    .dataframe tbody tr th {\n",
       "        vertical-align: top;\n",
       "    }\n",
       "\n",
       "    .dataframe thead th {\n",
       "        text-align: right;\n",
       "    }\n",
       "</style>\n",
       "<table border=\"1\" class=\"dataframe\">\n",
       "  <thead>\n",
       "    <tr style=\"text-align: right;\">\n",
       "      <th></th>\n",
       "      <th>letter</th>\n",
       "      <th>number</th>\n",
       "      <th>letter</th>\n",
       "      <th>number</th>\n",
       "    </tr>\n",
       "  </thead>\n",
       "  <tbody>\n",
       "    <tr>\n",
       "      <th>0</th>\n",
       "      <td>a</td>\n",
       "      <td>1</td>\n",
       "      <td>c</td>\n",
       "      <td>3</td>\n",
       "    </tr>\n",
       "    <tr>\n",
       "      <th>1</th>\n",
       "      <td>b</td>\n",
       "      <td>2</td>\n",
       "      <td>d</td>\n",
       "      <td>4</td>\n",
       "    </tr>\n",
       "  </tbody>\n",
       "</table>\n",
       "</div>"
      ]
     },
     "metadata": {},
     "execution_count": 104
    }
   ],
   "metadata": {}
  },
  {
   "cell_type": "code",
   "execution_count": 105,
   "source": [
    "df3 = pd.DataFrame([['c', 3, 'cat'], ['d', 4, 'dog']],columns=['letter', 'number', 'animal'])\r\n",
    "print (df1,'\\n', '-'*40, '\\n', df3)\r\n",
    "pd.concat([df1, df3], sort=False)\r\n",
    "# join = ‘outer’ by default "
   ],
   "outputs": [
    {
     "output_type": "stream",
     "name": "stdout",
     "text": [
      "  letter  number\n",
      "0      a       1\n",
      "1      b       2 \n",
      " ---------------------------------------- \n",
      "   letter  number animal\n",
      "0      c       3    cat\n",
      "1      d       4    dog\n"
     ]
    },
    {
     "output_type": "execute_result",
     "data": {
      "text/plain": [
       "  letter  number animal\n",
       "0      a       1    NaN\n",
       "1      b       2    NaN\n",
       "0      c       3    cat\n",
       "1      d       4    dog"
      ],
      "text/html": [
       "<div>\n",
       "<style scoped>\n",
       "    .dataframe tbody tr th:only-of-type {\n",
       "        vertical-align: middle;\n",
       "    }\n",
       "\n",
       "    .dataframe tbody tr th {\n",
       "        vertical-align: top;\n",
       "    }\n",
       "\n",
       "    .dataframe thead th {\n",
       "        text-align: right;\n",
       "    }\n",
       "</style>\n",
       "<table border=\"1\" class=\"dataframe\">\n",
       "  <thead>\n",
       "    <tr style=\"text-align: right;\">\n",
       "      <th></th>\n",
       "      <th>letter</th>\n",
       "      <th>number</th>\n",
       "      <th>animal</th>\n",
       "    </tr>\n",
       "  </thead>\n",
       "  <tbody>\n",
       "    <tr>\n",
       "      <th>0</th>\n",
       "      <td>a</td>\n",
       "      <td>1</td>\n",
       "      <td>NaN</td>\n",
       "    </tr>\n",
       "    <tr>\n",
       "      <th>1</th>\n",
       "      <td>b</td>\n",
       "      <td>2</td>\n",
       "      <td>NaN</td>\n",
       "    </tr>\n",
       "    <tr>\n",
       "      <th>0</th>\n",
       "      <td>c</td>\n",
       "      <td>3</td>\n",
       "      <td>cat</td>\n",
       "    </tr>\n",
       "    <tr>\n",
       "      <th>1</th>\n",
       "      <td>d</td>\n",
       "      <td>4</td>\n",
       "      <td>dog</td>\n",
       "    </tr>\n",
       "  </tbody>\n",
       "</table>\n",
       "</div>"
      ]
     },
     "metadata": {},
     "execution_count": 105
    }
   ],
   "metadata": {}
  },
  {
   "cell_type": "code",
   "execution_count": 106,
   "source": [
    "pd.concat([df1, df3], join = 'inner', sort= False)"
   ],
   "outputs": [
    {
     "output_type": "execute_result",
     "data": {
      "text/plain": [
       "  letter  number\n",
       "0      a       1\n",
       "1      b       2\n",
       "0      c       3\n",
       "1      d       4"
      ],
      "text/html": [
       "<div>\n",
       "<style scoped>\n",
       "    .dataframe tbody tr th:only-of-type {\n",
       "        vertical-align: middle;\n",
       "    }\n",
       "\n",
       "    .dataframe tbody tr th {\n",
       "        vertical-align: top;\n",
       "    }\n",
       "\n",
       "    .dataframe thead th {\n",
       "        text-align: right;\n",
       "    }\n",
       "</style>\n",
       "<table border=\"1\" class=\"dataframe\">\n",
       "  <thead>\n",
       "    <tr style=\"text-align: right;\">\n",
       "      <th></th>\n",
       "      <th>letter</th>\n",
       "      <th>number</th>\n",
       "    </tr>\n",
       "  </thead>\n",
       "  <tbody>\n",
       "    <tr>\n",
       "      <th>0</th>\n",
       "      <td>a</td>\n",
       "      <td>1</td>\n",
       "    </tr>\n",
       "    <tr>\n",
       "      <th>1</th>\n",
       "      <td>b</td>\n",
       "      <td>2</td>\n",
       "    </tr>\n",
       "    <tr>\n",
       "      <th>0</th>\n",
       "      <td>c</td>\n",
       "      <td>3</td>\n",
       "    </tr>\n",
       "    <tr>\n",
       "      <th>1</th>\n",
       "      <td>d</td>\n",
       "      <td>4</td>\n",
       "    </tr>\n",
       "  </tbody>\n",
       "</table>\n",
       "</div>"
      ]
     },
     "metadata": {},
     "execution_count": 106
    }
   ],
   "metadata": {}
  },
  {
   "cell_type": "markdown",
   "source": [
    "*** \n",
    "<font color = green >\n",
    "\n",
    "### Sorting \n",
    "    \n",
    "</font>\n",
    "\n",
    "#### by column \n"
   ],
   "metadata": {}
  },
  {
   "cell_type": "code",
   "execution_count": 107,
   "source": [
    "df = pd.DataFrame([['mercedes', 'c-180', 'red'], \r\n",
    "              ['toyota', 'landcruiser', 'grey'],\r\n",
    "              ['toyota', 'Rav4', 'blue'],\r\n",
    "              [ 'peugeot', '207', 'red']], columns = ['brand','model', 'color'])\r\n",
    "\r\n",
    "df = df.sort_values(['color', 'brand'])\r\n",
    "df "
   ],
   "outputs": [
    {
     "output_type": "execute_result",
     "data": {
      "text/plain": [
       "      brand        model color\n",
       "2    toyota         Rav4  blue\n",
       "1    toyota  landcruiser  grey\n",
       "0  mercedes        c-180   red\n",
       "3   peugeot          207   red"
      ],
      "text/html": [
       "<div>\n",
       "<style scoped>\n",
       "    .dataframe tbody tr th:only-of-type {\n",
       "        vertical-align: middle;\n",
       "    }\n",
       "\n",
       "    .dataframe tbody tr th {\n",
       "        vertical-align: top;\n",
       "    }\n",
       "\n",
       "    .dataframe thead th {\n",
       "        text-align: right;\n",
       "    }\n",
       "</style>\n",
       "<table border=\"1\" class=\"dataframe\">\n",
       "  <thead>\n",
       "    <tr style=\"text-align: right;\">\n",
       "      <th></th>\n",
       "      <th>brand</th>\n",
       "      <th>model</th>\n",
       "      <th>color</th>\n",
       "    </tr>\n",
       "  </thead>\n",
       "  <tbody>\n",
       "    <tr>\n",
       "      <th>2</th>\n",
       "      <td>toyota</td>\n",
       "      <td>Rav4</td>\n",
       "      <td>blue</td>\n",
       "    </tr>\n",
       "    <tr>\n",
       "      <th>1</th>\n",
       "      <td>toyota</td>\n",
       "      <td>landcruiser</td>\n",
       "      <td>grey</td>\n",
       "    </tr>\n",
       "    <tr>\n",
       "      <th>0</th>\n",
       "      <td>mercedes</td>\n",
       "      <td>c-180</td>\n",
       "      <td>red</td>\n",
       "    </tr>\n",
       "    <tr>\n",
       "      <th>3</th>\n",
       "      <td>peugeot</td>\n",
       "      <td>207</td>\n",
       "      <td>red</td>\n",
       "    </tr>\n",
       "  </tbody>\n",
       "</table>\n",
       "</div>"
      ]
     },
     "metadata": {},
     "execution_count": 107
    }
   ],
   "metadata": {}
  },
  {
   "cell_type": "markdown",
   "source": [
    "#### by index"
   ],
   "metadata": {}
  },
  {
   "cell_type": "code",
   "execution_count": 108,
   "source": [
    "df.sort_index()"
   ],
   "outputs": [
    {
     "output_type": "execute_result",
     "data": {
      "text/plain": [
       "      brand        model color\n",
       "0  mercedes        c-180   red\n",
       "1    toyota  landcruiser  grey\n",
       "2    toyota         Rav4  blue\n",
       "3   peugeot          207   red"
      ],
      "text/html": [
       "<div>\n",
       "<style scoped>\n",
       "    .dataframe tbody tr th:only-of-type {\n",
       "        vertical-align: middle;\n",
       "    }\n",
       "\n",
       "    .dataframe tbody tr th {\n",
       "        vertical-align: top;\n",
       "    }\n",
       "\n",
       "    .dataframe thead th {\n",
       "        text-align: right;\n",
       "    }\n",
       "</style>\n",
       "<table border=\"1\" class=\"dataframe\">\n",
       "  <thead>\n",
       "    <tr style=\"text-align: right;\">\n",
       "      <th></th>\n",
       "      <th>brand</th>\n",
       "      <th>model</th>\n",
       "      <th>color</th>\n",
       "    </tr>\n",
       "  </thead>\n",
       "  <tbody>\n",
       "    <tr>\n",
       "      <th>0</th>\n",
       "      <td>mercedes</td>\n",
       "      <td>c-180</td>\n",
       "      <td>red</td>\n",
       "    </tr>\n",
       "    <tr>\n",
       "      <th>1</th>\n",
       "      <td>toyota</td>\n",
       "      <td>landcruiser</td>\n",
       "      <td>grey</td>\n",
       "    </tr>\n",
       "    <tr>\n",
       "      <th>2</th>\n",
       "      <td>toyota</td>\n",
       "      <td>Rav4</td>\n",
       "      <td>blue</td>\n",
       "    </tr>\n",
       "    <tr>\n",
       "      <th>3</th>\n",
       "      <td>peugeot</td>\n",
       "      <td>207</td>\n",
       "      <td>red</td>\n",
       "    </tr>\n",
       "  </tbody>\n",
       "</table>\n",
       "</div>"
      ]
     },
     "metadata": {},
     "execution_count": 108
    }
   ],
   "metadata": {}
  },
  {
   "cell_type": "markdown",
   "source": [
    "*** \n",
    "<font color = green >\n",
    "\n",
    "### Deleting  \n",
    "</font>"
   ],
   "metadata": {}
  },
  {
   "cell_type": "code",
   "execution_count": 109,
   "source": [
    "df = pd.DataFrame([['mercedes', 'c-180', 'red'], \r\n",
    "              ['toyota', 'landcruiser', 'grey'],\r\n",
    "              ['toyota', 'Rav4', 'blue'],\r\n",
    "              [ 'peugeot', '207', 'red']], columns = ['brand','model', 'color'])\r\n",
    "del df['model'] # inplace operation\r\n",
    "df\r\n"
   ],
   "outputs": [
    {
     "output_type": "execute_result",
     "data": {
      "text/plain": [
       "      brand color\n",
       "0  mercedes   red\n",
       "1    toyota  grey\n",
       "2    toyota  blue\n",
       "3   peugeot   red"
      ],
      "text/html": [
       "<div>\n",
       "<style scoped>\n",
       "    .dataframe tbody tr th:only-of-type {\n",
       "        vertical-align: middle;\n",
       "    }\n",
       "\n",
       "    .dataframe tbody tr th {\n",
       "        vertical-align: top;\n",
       "    }\n",
       "\n",
       "    .dataframe thead th {\n",
       "        text-align: right;\n",
       "    }\n",
       "</style>\n",
       "<table border=\"1\" class=\"dataframe\">\n",
       "  <thead>\n",
       "    <tr style=\"text-align: right;\">\n",
       "      <th></th>\n",
       "      <th>brand</th>\n",
       "      <th>color</th>\n",
       "    </tr>\n",
       "  </thead>\n",
       "  <tbody>\n",
       "    <tr>\n",
       "      <th>0</th>\n",
       "      <td>mercedes</td>\n",
       "      <td>red</td>\n",
       "    </tr>\n",
       "    <tr>\n",
       "      <th>1</th>\n",
       "      <td>toyota</td>\n",
       "      <td>grey</td>\n",
       "    </tr>\n",
       "    <tr>\n",
       "      <th>2</th>\n",
       "      <td>toyota</td>\n",
       "      <td>blue</td>\n",
       "    </tr>\n",
       "    <tr>\n",
       "      <th>3</th>\n",
       "      <td>peugeot</td>\n",
       "      <td>red</td>\n",
       "    </tr>\n",
       "  </tbody>\n",
       "</table>\n",
       "</div>"
      ]
     },
     "metadata": {},
     "execution_count": 109
    }
   ],
   "metadata": {}
  },
  {
   "cell_type": "code",
   "execution_count": 110,
   "source": [
    "df = pd.DataFrame([['mercedes', 'c-180', 'red'], \r\n",
    "              ['toyota', 'landcruiser', 'grey'],\r\n",
    "              ['toyota', 'Rav4', 'blue'],\r\n",
    "              [ 'peugeot', '207', 'red']], columns = ['brand','model', 'color'])\r\n",
    "\r\n",
    "df1 = df.drop('model', axis= 1) # Not inplace operation\r\n",
    "print (df)\r\n",
    "df1= df1.drop(2)  #  axis= 0 default\r\n",
    "df1"
   ],
   "outputs": [
    {
     "output_type": "stream",
     "name": "stdout",
     "text": [
      "      brand        model color\n",
      "0  mercedes        c-180   red\n",
      "1    toyota  landcruiser  grey\n",
      "2    toyota         Rav4  blue\n",
      "3   peugeot          207   red\n"
     ]
    },
    {
     "output_type": "execute_result",
     "data": {
      "text/plain": [
       "      brand color\n",
       "0  mercedes   red\n",
       "1    toyota  grey\n",
       "3   peugeot   red"
      ],
      "text/html": [
       "<div>\n",
       "<style scoped>\n",
       "    .dataframe tbody tr th:only-of-type {\n",
       "        vertical-align: middle;\n",
       "    }\n",
       "\n",
       "    .dataframe tbody tr th {\n",
       "        vertical-align: top;\n",
       "    }\n",
       "\n",
       "    .dataframe thead th {\n",
       "        text-align: right;\n",
       "    }\n",
       "</style>\n",
       "<table border=\"1\" class=\"dataframe\">\n",
       "  <thead>\n",
       "    <tr style=\"text-align: right;\">\n",
       "      <th></th>\n",
       "      <th>brand</th>\n",
       "      <th>color</th>\n",
       "    </tr>\n",
       "  </thead>\n",
       "  <tbody>\n",
       "    <tr>\n",
       "      <th>0</th>\n",
       "      <td>mercedes</td>\n",
       "      <td>red</td>\n",
       "    </tr>\n",
       "    <tr>\n",
       "      <th>1</th>\n",
       "      <td>toyota</td>\n",
       "      <td>grey</td>\n",
       "    </tr>\n",
       "    <tr>\n",
       "      <th>3</th>\n",
       "      <td>peugeot</td>\n",
       "      <td>red</td>\n",
       "    </tr>\n",
       "  </tbody>\n",
       "</table>\n",
       "</div>"
      ]
     },
     "metadata": {},
     "execution_count": 110
    }
   ],
   "metadata": {}
  },
  {
   "cell_type": "markdown",
   "source": [
    "*** \n",
    "<font color = green >\n",
    "\n",
    "### NaN\n",
    "</font>"
   ],
   "metadata": {}
  },
  {
   "cell_type": "code",
   "execution_count": 111,
   "source": [
    "df = pd.DataFrame([['mercedes', 2.5, 3], \r\n",
    "              ['toyota', 4.7, 8],\r\n",
    "              ['toyota', 1.6, None],\r\n",
    "              [ 'peugeot', 1.4]], columns = ['brand','engine', 'year'])\r\n",
    "print (df)\r\n",
    "df[~df['year'].isnull()] \r\n",
    "# Note ~ is oposite for bolean mask    "
   ],
   "outputs": [
    {
     "output_type": "stream",
     "name": "stdout",
     "text": [
      "      brand  engine  year\n",
      "0  mercedes     2.5   3.0\n",
      "1    toyota     4.7   8.0\n",
      "2    toyota     1.6   NaN\n",
      "3   peugeot     1.4   NaN\n"
     ]
    },
    {
     "output_type": "execute_result",
     "data": {
      "text/plain": [
       "      brand  engine  year\n",
       "0  mercedes     2.5   3.0\n",
       "1    toyota     4.7   8.0"
      ],
      "text/html": [
       "<div>\n",
       "<style scoped>\n",
       "    .dataframe tbody tr th:only-of-type {\n",
       "        vertical-align: middle;\n",
       "    }\n",
       "\n",
       "    .dataframe tbody tr th {\n",
       "        vertical-align: top;\n",
       "    }\n",
       "\n",
       "    .dataframe thead th {\n",
       "        text-align: right;\n",
       "    }\n",
       "</style>\n",
       "<table border=\"1\" class=\"dataframe\">\n",
       "  <thead>\n",
       "    <tr style=\"text-align: right;\">\n",
       "      <th></th>\n",
       "      <th>brand</th>\n",
       "      <th>engine</th>\n",
       "      <th>year</th>\n",
       "    </tr>\n",
       "  </thead>\n",
       "  <tbody>\n",
       "    <tr>\n",
       "      <th>0</th>\n",
       "      <td>mercedes</td>\n",
       "      <td>2.5</td>\n",
       "      <td>3.0</td>\n",
       "    </tr>\n",
       "    <tr>\n",
       "      <th>1</th>\n",
       "      <td>toyota</td>\n",
       "      <td>4.7</td>\n",
       "      <td>8.0</td>\n",
       "    </tr>\n",
       "  </tbody>\n",
       "</table>\n",
       "</div>"
      ]
     },
     "metadata": {},
     "execution_count": 111
    }
   ],
   "metadata": {}
  },
  {
   "cell_type": "code",
   "execution_count": 112,
   "source": [
    "df.isna() # the same as isnull() "
   ],
   "outputs": [
    {
     "output_type": "execute_result",
     "data": {
      "text/plain": [
       "   brand  engine   year\n",
       "0  False   False  False\n",
       "1  False   False  False\n",
       "2  False   False   True\n",
       "3  False   False   True"
      ],
      "text/html": [
       "<div>\n",
       "<style scoped>\n",
       "    .dataframe tbody tr th:only-of-type {\n",
       "        vertical-align: middle;\n",
       "    }\n",
       "\n",
       "    .dataframe tbody tr th {\n",
       "        vertical-align: top;\n",
       "    }\n",
       "\n",
       "    .dataframe thead th {\n",
       "        text-align: right;\n",
       "    }\n",
       "</style>\n",
       "<table border=\"1\" class=\"dataframe\">\n",
       "  <thead>\n",
       "    <tr style=\"text-align: right;\">\n",
       "      <th></th>\n",
       "      <th>brand</th>\n",
       "      <th>engine</th>\n",
       "      <th>year</th>\n",
       "    </tr>\n",
       "  </thead>\n",
       "  <tbody>\n",
       "    <tr>\n",
       "      <th>0</th>\n",
       "      <td>False</td>\n",
       "      <td>False</td>\n",
       "      <td>False</td>\n",
       "    </tr>\n",
       "    <tr>\n",
       "      <th>1</th>\n",
       "      <td>False</td>\n",
       "      <td>False</td>\n",
       "      <td>False</td>\n",
       "    </tr>\n",
       "    <tr>\n",
       "      <th>2</th>\n",
       "      <td>False</td>\n",
       "      <td>False</td>\n",
       "      <td>True</td>\n",
       "    </tr>\n",
       "    <tr>\n",
       "      <th>3</th>\n",
       "      <td>False</td>\n",
       "      <td>False</td>\n",
       "      <td>True</td>\n",
       "    </tr>\n",
       "  </tbody>\n",
       "</table>\n",
       "</div>"
      ]
     },
     "metadata": {},
     "execution_count": 112
    }
   ],
   "metadata": {}
  },
  {
   "cell_type": "code",
   "execution_count": 113,
   "source": [
    "# any() return whether any element is True over requested axis.\r\n",
    "df.isna().any() # axis=0 default "
   ],
   "outputs": [
    {
     "output_type": "execute_result",
     "data": {
      "text/plain": [
       "brand     False\n",
       "engine    False\n",
       "year       True\n",
       "dtype: bool"
      ]
     },
     "metadata": {},
     "execution_count": 113
    }
   ],
   "metadata": {}
  },
  {
   "cell_type": "code",
   "execution_count": 114,
   "source": [
    "df.isna().sum()"
   ],
   "outputs": [
    {
     "output_type": "execute_result",
     "data": {
      "text/plain": [
       "brand     0\n",
       "engine    0\n",
       "year      2\n",
       "dtype: int64"
      ]
     },
     "metadata": {},
     "execution_count": 114
    }
   ],
   "metadata": {}
  },
  {
   "cell_type": "code",
   "execution_count": 115,
   "source": [
    "df.isna().any().any()"
   ],
   "outputs": [
    {
     "output_type": "execute_result",
     "data": {
      "text/plain": [
       "True"
      ]
     },
     "metadata": {},
     "execution_count": 115
    }
   ],
   "metadata": {}
  },
  {
   "cell_type": "code",
   "execution_count": 116,
   "source": [
    "df1 = df.dropna()\r\n",
    "df1"
   ],
   "outputs": [
    {
     "output_type": "execute_result",
     "data": {
      "text/plain": [
       "      brand  engine  year\n",
       "0  mercedes     2.5   3.0\n",
       "1    toyota     4.7   8.0"
      ],
      "text/html": [
       "<div>\n",
       "<style scoped>\n",
       "    .dataframe tbody tr th:only-of-type {\n",
       "        vertical-align: middle;\n",
       "    }\n",
       "\n",
       "    .dataframe tbody tr th {\n",
       "        vertical-align: top;\n",
       "    }\n",
       "\n",
       "    .dataframe thead th {\n",
       "        text-align: right;\n",
       "    }\n",
       "</style>\n",
       "<table border=\"1\" class=\"dataframe\">\n",
       "  <thead>\n",
       "    <tr style=\"text-align: right;\">\n",
       "      <th></th>\n",
       "      <th>brand</th>\n",
       "      <th>engine</th>\n",
       "      <th>year</th>\n",
       "    </tr>\n",
       "  </thead>\n",
       "  <tbody>\n",
       "    <tr>\n",
       "      <th>0</th>\n",
       "      <td>mercedes</td>\n",
       "      <td>2.5</td>\n",
       "      <td>3.0</td>\n",
       "    </tr>\n",
       "    <tr>\n",
       "      <th>1</th>\n",
       "      <td>toyota</td>\n",
       "      <td>4.7</td>\n",
       "      <td>8.0</td>\n",
       "    </tr>\n",
       "  </tbody>\n",
       "</table>\n",
       "</div>"
      ]
     },
     "metadata": {},
     "execution_count": 116
    }
   ],
   "metadata": {}
  },
  {
   "cell_type": "code",
   "execution_count": 117,
   "source": [
    "df1= df.fillna(-1) \r\n",
    "df1"
   ],
   "outputs": [
    {
     "output_type": "execute_result",
     "data": {
      "text/plain": [
       "      brand  engine  year\n",
       "0  mercedes     2.5   3.0\n",
       "1    toyota     4.7   8.0\n",
       "2    toyota     1.6  -1.0\n",
       "3   peugeot     1.4  -1.0"
      ],
      "text/html": [
       "<div>\n",
       "<style scoped>\n",
       "    .dataframe tbody tr th:only-of-type {\n",
       "        vertical-align: middle;\n",
       "    }\n",
       "\n",
       "    .dataframe tbody tr th {\n",
       "        vertical-align: top;\n",
       "    }\n",
       "\n",
       "    .dataframe thead th {\n",
       "        text-align: right;\n",
       "    }\n",
       "</style>\n",
       "<table border=\"1\" class=\"dataframe\">\n",
       "  <thead>\n",
       "    <tr style=\"text-align: right;\">\n",
       "      <th></th>\n",
       "      <th>brand</th>\n",
       "      <th>engine</th>\n",
       "      <th>year</th>\n",
       "    </tr>\n",
       "  </thead>\n",
       "  <tbody>\n",
       "    <tr>\n",
       "      <th>0</th>\n",
       "      <td>mercedes</td>\n",
       "      <td>2.5</td>\n",
       "      <td>3.0</td>\n",
       "    </tr>\n",
       "    <tr>\n",
       "      <th>1</th>\n",
       "      <td>toyota</td>\n",
       "      <td>4.7</td>\n",
       "      <td>8.0</td>\n",
       "    </tr>\n",
       "    <tr>\n",
       "      <th>2</th>\n",
       "      <td>toyota</td>\n",
       "      <td>1.6</td>\n",
       "      <td>-1.0</td>\n",
       "    </tr>\n",
       "    <tr>\n",
       "      <th>3</th>\n",
       "      <td>peugeot</td>\n",
       "      <td>1.4</td>\n",
       "      <td>-1.0</td>\n",
       "    </tr>\n",
       "  </tbody>\n",
       "</table>\n",
       "</div>"
      ]
     },
     "metadata": {},
     "execution_count": 117
    }
   ],
   "metadata": {}
  },
  {
   "cell_type": "code",
   "execution_count": 118,
   "source": [
    "df['coef'] = df.engine * df.year\r\n",
    "df['next_year'] = df['year']+1\r\n",
    "df\r\n",
    "# Note: \r\n",
    "# NaN induces + * etc. results NaN\r\n",
    "# use name of column as property \r\n"
   ],
   "outputs": [
    {
     "output_type": "execute_result",
     "data": {
      "text/plain": [
       "      brand  engine  year  coef  next_year\n",
       "0  mercedes     2.5   3.0   7.5        4.0\n",
       "1    toyota     4.7   8.0  37.6        9.0\n",
       "2    toyota     1.6   NaN   NaN        NaN\n",
       "3   peugeot     1.4   NaN   NaN        NaN"
      ],
      "text/html": [
       "<div>\n",
       "<style scoped>\n",
       "    .dataframe tbody tr th:only-of-type {\n",
       "        vertical-align: middle;\n",
       "    }\n",
       "\n",
       "    .dataframe tbody tr th {\n",
       "        vertical-align: top;\n",
       "    }\n",
       "\n",
       "    .dataframe thead th {\n",
       "        text-align: right;\n",
       "    }\n",
       "</style>\n",
       "<table border=\"1\" class=\"dataframe\">\n",
       "  <thead>\n",
       "    <tr style=\"text-align: right;\">\n",
       "      <th></th>\n",
       "      <th>brand</th>\n",
       "      <th>engine</th>\n",
       "      <th>year</th>\n",
       "      <th>coef</th>\n",
       "      <th>next_year</th>\n",
       "    </tr>\n",
       "  </thead>\n",
       "  <tbody>\n",
       "    <tr>\n",
       "      <th>0</th>\n",
       "      <td>mercedes</td>\n",
       "      <td>2.5</td>\n",
       "      <td>3.0</td>\n",
       "      <td>7.5</td>\n",
       "      <td>4.0</td>\n",
       "    </tr>\n",
       "    <tr>\n",
       "      <th>1</th>\n",
       "      <td>toyota</td>\n",
       "      <td>4.7</td>\n",
       "      <td>8.0</td>\n",
       "      <td>37.6</td>\n",
       "      <td>9.0</td>\n",
       "    </tr>\n",
       "    <tr>\n",
       "      <th>2</th>\n",
       "      <td>toyota</td>\n",
       "      <td>1.6</td>\n",
       "      <td>NaN</td>\n",
       "      <td>NaN</td>\n",
       "      <td>NaN</td>\n",
       "    </tr>\n",
       "    <tr>\n",
       "      <th>3</th>\n",
       "      <td>peugeot</td>\n",
       "      <td>1.4</td>\n",
       "      <td>NaN</td>\n",
       "      <td>NaN</td>\n",
       "      <td>NaN</td>\n",
       "    </tr>\n",
       "  </tbody>\n",
       "</table>\n",
       "</div>"
      ]
     },
     "metadata": {},
     "execution_count": 118
    }
   ],
   "metadata": {}
  },
  {
   "cell_type": "code",
   "execution_count": 119,
   "source": [
    "print (sum(df['year']))\r\n",
    "df['year'].sum() # Note pd.DataFrame.sum() skips NaN"
   ],
   "outputs": [
    {
     "output_type": "stream",
     "name": "stdout",
     "text": [
      "nan\n"
     ]
    },
    {
     "output_type": "execute_result",
     "data": {
      "text/plain": [
       "11.0"
      ]
     },
     "metadata": {},
     "execution_count": 119
    }
   ],
   "metadata": {}
  },
  {
   "cell_type": "markdown",
   "source": [
    "*** \n",
    "<font color = green >\n",
    "\n",
    "### groupby\n",
    "</font>"
   ],
   "metadata": {}
  },
  {
   "cell_type": "markdown",
   "source": [
    "<font color = green >\n",
    "\n",
    "#### Iterating through groupby object\n",
    "</font>"
   ],
   "metadata": {}
  },
  {
   "cell_type": "code",
   "execution_count": 120,
   "source": [
    "df = pd.DataFrame([['mercedes', 2.5, 3], \r\n",
    "                   ['mercedes', None, 2], \r\n",
    "                   ['toyota', 4.7, 8],\r\n",
    "                   ['toyota', 1.6, None],\r\n",
    "                   [ 'peugeot', 1.4]], \r\n",
    "                  columns = ['brand','engine', 'year'])\r\n",
    "print (df, '\\n','='*20)\r\n",
    "group_by  = df.groupby(['brand'])\r\n",
    "for key, group in group_by:\r\n",
    "    print (f'{key}:{len(group)}')"
   ],
   "outputs": [
    {
     "output_type": "stream",
     "name": "stdout",
     "text": [
      "      brand  engine  year\n",
      "0  mercedes     2.5   3.0\n",
      "1  mercedes     NaN   2.0\n",
      "2    toyota     4.7   8.0\n",
      "3    toyota     1.6   NaN\n",
      "4   peugeot     1.4   NaN \n",
      " ====================\n",
      "mercedes:2\n",
      "peugeot:1\n",
      "toyota:2\n"
     ]
    }
   ],
   "metadata": {}
  },
  {
   "cell_type": "markdown",
   "source": [
    "<font color = green >\n",
    "\n",
    "#### Groupby with simple aggrigation function\n",
    "</font>"
   ],
   "metadata": {}
  },
  {
   "cell_type": "code",
   "execution_count": 121,
   "source": [
    "df.groupby(['brand']).sum()"
   ],
   "outputs": [
    {
     "output_type": "execute_result",
     "data": {
      "text/plain": [
       "          engine  year\n",
       "brand                 \n",
       "mercedes     2.5   5.0\n",
       "peugeot      1.4   0.0\n",
       "toyota       6.3   8.0"
      ],
      "text/html": [
       "<div>\n",
       "<style scoped>\n",
       "    .dataframe tbody tr th:only-of-type {\n",
       "        vertical-align: middle;\n",
       "    }\n",
       "\n",
       "    .dataframe tbody tr th {\n",
       "        vertical-align: top;\n",
       "    }\n",
       "\n",
       "    .dataframe thead th {\n",
       "        text-align: right;\n",
       "    }\n",
       "</style>\n",
       "<table border=\"1\" class=\"dataframe\">\n",
       "  <thead>\n",
       "    <tr style=\"text-align: right;\">\n",
       "      <th></th>\n",
       "      <th>engine</th>\n",
       "      <th>year</th>\n",
       "    </tr>\n",
       "    <tr>\n",
       "      <th>brand</th>\n",
       "      <th></th>\n",
       "      <th></th>\n",
       "    </tr>\n",
       "  </thead>\n",
       "  <tbody>\n",
       "    <tr>\n",
       "      <th>mercedes</th>\n",
       "      <td>2.5</td>\n",
       "      <td>5.0</td>\n",
       "    </tr>\n",
       "    <tr>\n",
       "      <th>peugeot</th>\n",
       "      <td>1.4</td>\n",
       "      <td>0.0</td>\n",
       "    </tr>\n",
       "    <tr>\n",
       "      <th>toyota</th>\n",
       "      <td>6.3</td>\n",
       "      <td>8.0</td>\n",
       "    </tr>\n",
       "  </tbody>\n",
       "</table>\n",
       "</div>"
      ]
     },
     "metadata": {},
     "execution_count": 121
    }
   ],
   "metadata": {}
  },
  {
   "cell_type": "code",
   "execution_count": 122,
   "source": [
    "df.groupby(['brand']).count() # last() fisrt() mean()\r\n",
    "# Note : count() also skips NaN"
   ],
   "outputs": [
    {
     "output_type": "execute_result",
     "data": {
      "text/plain": [
       "          engine  year\n",
       "brand                 \n",
       "mercedes       1     2\n",
       "peugeot        1     0\n",
       "toyota         2     1"
      ],
      "text/html": [
       "<div>\n",
       "<style scoped>\n",
       "    .dataframe tbody tr th:only-of-type {\n",
       "        vertical-align: middle;\n",
       "    }\n",
       "\n",
       "    .dataframe tbody tr th {\n",
       "        vertical-align: top;\n",
       "    }\n",
       "\n",
       "    .dataframe thead th {\n",
       "        text-align: right;\n",
       "    }\n",
       "</style>\n",
       "<table border=\"1\" class=\"dataframe\">\n",
       "  <thead>\n",
       "    <tr style=\"text-align: right;\">\n",
       "      <th></th>\n",
       "      <th>engine</th>\n",
       "      <th>year</th>\n",
       "    </tr>\n",
       "    <tr>\n",
       "      <th>brand</th>\n",
       "      <th></th>\n",
       "      <th></th>\n",
       "    </tr>\n",
       "  </thead>\n",
       "  <tbody>\n",
       "    <tr>\n",
       "      <th>mercedes</th>\n",
       "      <td>1</td>\n",
       "      <td>2</td>\n",
       "    </tr>\n",
       "    <tr>\n",
       "      <th>peugeot</th>\n",
       "      <td>1</td>\n",
       "      <td>0</td>\n",
       "    </tr>\n",
       "    <tr>\n",
       "      <th>toyota</th>\n",
       "      <td>2</td>\n",
       "      <td>1</td>\n",
       "    </tr>\n",
       "  </tbody>\n",
       "</table>\n",
       "</div>"
      ]
     },
     "metadata": {},
     "execution_count": 122
    }
   ],
   "metadata": {}
  },
  {
   "cell_type": "markdown",
   "source": [
    "<font color = green >\n",
    "\n",
    "#### Groupby with complicated aggrigation function\n",
    "</font>"
   ],
   "metadata": {}
  },
  {
   "cell_type": "code",
   "execution_count": 123,
   "source": [
    "df.groupby(['brand'])['engine'].agg(['count', 'sum']) \r\n",
    "# df.groupby(['brand', 'engine']).agg(len) \r\n"
   ],
   "outputs": [
    {
     "output_type": "execute_result",
     "data": {
      "text/plain": [
       "          count  sum\n",
       "brand               \n",
       "mercedes      1  2.5\n",
       "peugeot       1  1.4\n",
       "toyota        2  6.3"
      ],
      "text/html": [
       "<div>\n",
       "<style scoped>\n",
       "    .dataframe tbody tr th:only-of-type {\n",
       "        vertical-align: middle;\n",
       "    }\n",
       "\n",
       "    .dataframe tbody tr th {\n",
       "        vertical-align: top;\n",
       "    }\n",
       "\n",
       "    .dataframe thead th {\n",
       "        text-align: right;\n",
       "    }\n",
       "</style>\n",
       "<table border=\"1\" class=\"dataframe\">\n",
       "  <thead>\n",
       "    <tr style=\"text-align: right;\">\n",
       "      <th></th>\n",
       "      <th>count</th>\n",
       "      <th>sum</th>\n",
       "    </tr>\n",
       "    <tr>\n",
       "      <th>brand</th>\n",
       "      <th></th>\n",
       "      <th></th>\n",
       "    </tr>\n",
       "  </thead>\n",
       "  <tbody>\n",
       "    <tr>\n",
       "      <th>mercedes</th>\n",
       "      <td>1</td>\n",
       "      <td>2.5</td>\n",
       "    </tr>\n",
       "    <tr>\n",
       "      <th>peugeot</th>\n",
       "      <td>1</td>\n",
       "      <td>1.4</td>\n",
       "    </tr>\n",
       "    <tr>\n",
       "      <th>toyota</th>\n",
       "      <td>2</td>\n",
       "      <td>6.3</td>\n",
       "    </tr>\n",
       "  </tbody>\n",
       "</table>\n",
       "</div>"
      ]
     },
     "metadata": {},
     "execution_count": 123
    }
   ],
   "metadata": {}
  },
  {
   "cell_type": "code",
   "execution_count": 124,
   "source": [
    "df['year'] = df['year'].fillna(-1) \r\n",
    "df1= df.groupby(['year'])['engine', 'brand'].agg(['max' , 'count']) \r\n",
    "# Note: groupby skips NaN as key of group thus need to fillna()\r\n",
    "# df.groupby(['brand'])['engine', 'year'].agg({'col_1': 'max', 'col_2':'min'})  # dict depricated\r\n",
    "df1"
   ],
   "outputs": [
    {
     "output_type": "stream",
     "name": "stderr",
     "text": [
      "C:\\Users\\HAVRYL~1.MYK\\AppData\\Local\\Temp/ipykernel_10328/2100406404.py:2: FutureWarning: Indexing with multiple keys (implicitly converted to a tuple of keys) will be deprecated, use a list instead.\n",
      "  df1= df.groupby(['year'])['engine', 'brand'].agg(['max' , 'count'])\n"
     ]
    },
    {
     "output_type": "execute_result",
     "data": {
      "text/plain": [
       "     engine           brand      \n",
       "        max count       max count\n",
       "year                             \n",
       "-1.0    1.6     2    toyota     2\n",
       " 2.0    NaN     0  mercedes     1\n",
       " 3.0    2.5     1  mercedes     1\n",
       " 8.0    4.7     1    toyota     1"
      ],
      "text/html": [
       "<div>\n",
       "<style scoped>\n",
       "    .dataframe tbody tr th:only-of-type {\n",
       "        vertical-align: middle;\n",
       "    }\n",
       "\n",
       "    .dataframe tbody tr th {\n",
       "        vertical-align: top;\n",
       "    }\n",
       "\n",
       "    .dataframe thead tr th {\n",
       "        text-align: left;\n",
       "    }\n",
       "\n",
       "    .dataframe thead tr:last-of-type th {\n",
       "        text-align: right;\n",
       "    }\n",
       "</style>\n",
       "<table border=\"1\" class=\"dataframe\">\n",
       "  <thead>\n",
       "    <tr>\n",
       "      <th></th>\n",
       "      <th colspan=\"2\" halign=\"left\">engine</th>\n",
       "      <th colspan=\"2\" halign=\"left\">brand</th>\n",
       "    </tr>\n",
       "    <tr>\n",
       "      <th></th>\n",
       "      <th>max</th>\n",
       "      <th>count</th>\n",
       "      <th>max</th>\n",
       "      <th>count</th>\n",
       "    </tr>\n",
       "    <tr>\n",
       "      <th>year</th>\n",
       "      <th></th>\n",
       "      <th></th>\n",
       "      <th></th>\n",
       "      <th></th>\n",
       "    </tr>\n",
       "  </thead>\n",
       "  <tbody>\n",
       "    <tr>\n",
       "      <th>-1.0</th>\n",
       "      <td>1.6</td>\n",
       "      <td>2</td>\n",
       "      <td>toyota</td>\n",
       "      <td>2</td>\n",
       "    </tr>\n",
       "    <tr>\n",
       "      <th>2.0</th>\n",
       "      <td>NaN</td>\n",
       "      <td>0</td>\n",
       "      <td>mercedes</td>\n",
       "      <td>1</td>\n",
       "    </tr>\n",
       "    <tr>\n",
       "      <th>3.0</th>\n",
       "      <td>2.5</td>\n",
       "      <td>1</td>\n",
       "      <td>mercedes</td>\n",
       "      <td>1</td>\n",
       "    </tr>\n",
       "    <tr>\n",
       "      <th>8.0</th>\n",
       "      <td>4.7</td>\n",
       "      <td>1</td>\n",
       "      <td>toyota</td>\n",
       "      <td>1</td>\n",
       "    </tr>\n",
       "  </tbody>\n",
       "</table>\n",
       "</div>"
      ]
     },
     "metadata": {},
     "execution_count": 124
    }
   ],
   "metadata": {}
  },
  {
   "cell_type": "code",
   "execution_count": 125,
   "source": [
    "print (df1.columns.ravel())\r\n",
    "df1.columns = [\"_\".join(x) for x in df1.columns.ravel()]\r\n",
    "df1"
   ],
   "outputs": [
    {
     "output_type": "stream",
     "name": "stdout",
     "text": [
      "[('engine', 'max') ('engine', 'count') ('brand', 'max') ('brand', 'count')]\n"
     ]
    },
    {
     "output_type": "stream",
     "name": "stderr",
     "text": [
      "C:\\Users\\HAVRYL~1.MYK\\AppData\\Local\\Temp/ipykernel_10328/4121146644.py:1: FutureWarning: Index.ravel returning ndarray is deprecated; in a future version this will return a view on self.\n",
      "  print (df1.columns.ravel())\n",
      "C:\\Users\\HAVRYL~1.MYK\\AppData\\Local\\Temp/ipykernel_10328/4121146644.py:2: FutureWarning: Index.ravel returning ndarray is deprecated; in a future version this will return a view on self.\n",
      "  df1.columns = [\"_\".join(x) for x in df1.columns.ravel()]\n"
     ]
    },
    {
     "output_type": "execute_result",
     "data": {
      "text/plain": [
       "      engine_max  engine_count brand_max  brand_count\n",
       "year                                                 \n",
       "-1.0         1.6             2    toyota            2\n",
       " 2.0         NaN             0  mercedes            1\n",
       " 3.0         2.5             1  mercedes            1\n",
       " 8.0         4.7             1    toyota            1"
      ],
      "text/html": [
       "<div>\n",
       "<style scoped>\n",
       "    .dataframe tbody tr th:only-of-type {\n",
       "        vertical-align: middle;\n",
       "    }\n",
       "\n",
       "    .dataframe tbody tr th {\n",
       "        vertical-align: top;\n",
       "    }\n",
       "\n",
       "    .dataframe thead th {\n",
       "        text-align: right;\n",
       "    }\n",
       "</style>\n",
       "<table border=\"1\" class=\"dataframe\">\n",
       "  <thead>\n",
       "    <tr style=\"text-align: right;\">\n",
       "      <th></th>\n",
       "      <th>engine_max</th>\n",
       "      <th>engine_count</th>\n",
       "      <th>brand_max</th>\n",
       "      <th>brand_count</th>\n",
       "    </tr>\n",
       "    <tr>\n",
       "      <th>year</th>\n",
       "      <th></th>\n",
       "      <th></th>\n",
       "      <th></th>\n",
       "      <th></th>\n",
       "    </tr>\n",
       "  </thead>\n",
       "  <tbody>\n",
       "    <tr>\n",
       "      <th>-1.0</th>\n",
       "      <td>1.6</td>\n",
       "      <td>2</td>\n",
       "      <td>toyota</td>\n",
       "      <td>2</td>\n",
       "    </tr>\n",
       "    <tr>\n",
       "      <th>2.0</th>\n",
       "      <td>NaN</td>\n",
       "      <td>0</td>\n",
       "      <td>mercedes</td>\n",
       "      <td>1</td>\n",
       "    </tr>\n",
       "    <tr>\n",
       "      <th>3.0</th>\n",
       "      <td>2.5</td>\n",
       "      <td>1</td>\n",
       "      <td>mercedes</td>\n",
       "      <td>1</td>\n",
       "    </tr>\n",
       "    <tr>\n",
       "      <th>8.0</th>\n",
       "      <td>4.7</td>\n",
       "      <td>1</td>\n",
       "      <td>toyota</td>\n",
       "      <td>1</td>\n",
       "    </tr>\n",
       "  </tbody>\n",
       "</table>\n",
       "</div>"
      ]
     },
     "metadata": {},
     "execution_count": 125
    }
   ],
   "metadata": {}
  },
  {
   "cell_type": "markdown",
   "source": [
    "***\n",
    "<font color = green >\n",
    "\n",
    "### Apply\n",
    "</font>"
   ],
   "metadata": {}
  },
  {
   "cell_type": "code",
   "execution_count": 218,
   "source": [
    "df = pd.DataFrame([['mercedes', 2.5, 3], \r\n",
    "                   ['mercedes', None, 2], \r\n",
    "                   ['toyota', 4.7, 8],\r\n",
    "                   ['toyota', 1.6, None],\r\n",
    "                   [ 'peugeot', 1.4]], \r\n",
    "                  columns = ['brand','engine', 'year'])\r\n",
    "\r\n",
    "print (df)\r\n",
    "def custom_function(x):\r\n",
    "    return 3*x if x > 4 else x\r\n",
    "df['val_1'] = df['engine'].apply(custom_function)\r\n",
    "df\r\n",
    "# Note : this is broadcast operation "
   ],
   "outputs": [
    {
     "output_type": "stream",
     "name": "stdout",
     "text": [
      "      brand  engine  year\n",
      "0  mercedes     2.5   3.0\n",
      "1  mercedes     NaN   2.0\n",
      "2    toyota     4.7   8.0\n",
      "3    toyota     1.6   NaN\n",
      "4   peugeot     1.4   NaN\n"
     ]
    },
    {
     "output_type": "execute_result",
     "data": {
      "text/plain": [
       "      brand  engine  year  val_1\n",
       "0  mercedes     2.5   3.0    2.5\n",
       "1  mercedes     NaN   2.0    NaN\n",
       "2    toyota     4.7   8.0   14.1\n",
       "3    toyota     1.6   NaN    1.6\n",
       "4   peugeot     1.4   NaN    1.4"
      ],
      "text/html": [
       "<div>\n",
       "<style scoped>\n",
       "    .dataframe tbody tr th:only-of-type {\n",
       "        vertical-align: middle;\n",
       "    }\n",
       "\n",
       "    .dataframe tbody tr th {\n",
       "        vertical-align: top;\n",
       "    }\n",
       "\n",
       "    .dataframe thead th {\n",
       "        text-align: right;\n",
       "    }\n",
       "</style>\n",
       "<table border=\"1\" class=\"dataframe\">\n",
       "  <thead>\n",
       "    <tr style=\"text-align: right;\">\n",
       "      <th></th>\n",
       "      <th>brand</th>\n",
       "      <th>engine</th>\n",
       "      <th>year</th>\n",
       "      <th>val_1</th>\n",
       "    </tr>\n",
       "  </thead>\n",
       "  <tbody>\n",
       "    <tr>\n",
       "      <th>0</th>\n",
       "      <td>mercedes</td>\n",
       "      <td>2.5</td>\n",
       "      <td>3.0</td>\n",
       "      <td>2.5</td>\n",
       "    </tr>\n",
       "    <tr>\n",
       "      <th>1</th>\n",
       "      <td>mercedes</td>\n",
       "      <td>NaN</td>\n",
       "      <td>2.0</td>\n",
       "      <td>NaN</td>\n",
       "    </tr>\n",
       "    <tr>\n",
       "      <th>2</th>\n",
       "      <td>toyota</td>\n",
       "      <td>4.7</td>\n",
       "      <td>8.0</td>\n",
       "      <td>14.1</td>\n",
       "    </tr>\n",
       "    <tr>\n",
       "      <th>3</th>\n",
       "      <td>toyota</td>\n",
       "      <td>1.6</td>\n",
       "      <td>NaN</td>\n",
       "      <td>1.6</td>\n",
       "    </tr>\n",
       "    <tr>\n",
       "      <th>4</th>\n",
       "      <td>peugeot</td>\n",
       "      <td>1.4</td>\n",
       "      <td>NaN</td>\n",
       "      <td>1.4</td>\n",
       "    </tr>\n",
       "  </tbody>\n",
       "</table>\n",
       "</div>"
      ]
     },
     "metadata": {},
     "execution_count": 218
    }
   ],
   "metadata": {}
  },
  {
   "cell_type": "code",
   "execution_count": 129,
   "source": [
    "# del df['val_1']\r\n",
    "cols = ['brand', 'engine']\r\n",
    "print (df)\r\n",
    "df['val_2'] =  df[cols].apply(lambda x: '___'.join([str(item).replace('.','_') for item in x.values]), axis=1)\r\n",
    "df\r\n",
    "# Note : default axis = 0 means vertical series "
   ],
   "outputs": [
    {
     "output_type": "stream",
     "name": "stdout",
     "text": [
      "      brand  engine  year val_2\n",
      "0  mercedes     2.5   3.0   NaN\n",
      "1  mercedes     NaN   2.0   NaN\n",
      "2    toyota     4.7   8.0   NaN\n",
      "3    toyota     1.6  -1.0   NaN\n",
      "4   peugeot     1.4  -1.0   NaN\n"
     ]
    },
    {
     "output_type": "execute_result",
     "data": {
      "text/plain": [
       "      brand  engine  year           val_2\n",
       "0  mercedes     2.5   3.0  mercedes___2_5\n",
       "1  mercedes     NaN   2.0  mercedes___nan\n",
       "2    toyota     4.7   8.0    toyota___4_7\n",
       "3    toyota     1.6  -1.0    toyota___1_6\n",
       "4   peugeot     1.4  -1.0   peugeot___1_4"
      ],
      "text/html": [
       "<div>\n",
       "<style scoped>\n",
       "    .dataframe tbody tr th:only-of-type {\n",
       "        vertical-align: middle;\n",
       "    }\n",
       "\n",
       "    .dataframe tbody tr th {\n",
       "        vertical-align: top;\n",
       "    }\n",
       "\n",
       "    .dataframe thead th {\n",
       "        text-align: right;\n",
       "    }\n",
       "</style>\n",
       "<table border=\"1\" class=\"dataframe\">\n",
       "  <thead>\n",
       "    <tr style=\"text-align: right;\">\n",
       "      <th></th>\n",
       "      <th>brand</th>\n",
       "      <th>engine</th>\n",
       "      <th>year</th>\n",
       "      <th>val_2</th>\n",
       "    </tr>\n",
       "  </thead>\n",
       "  <tbody>\n",
       "    <tr>\n",
       "      <th>0</th>\n",
       "      <td>mercedes</td>\n",
       "      <td>2.5</td>\n",
       "      <td>3.0</td>\n",
       "      <td>mercedes___2_5</td>\n",
       "    </tr>\n",
       "    <tr>\n",
       "      <th>1</th>\n",
       "      <td>mercedes</td>\n",
       "      <td>NaN</td>\n",
       "      <td>2.0</td>\n",
       "      <td>mercedes___nan</td>\n",
       "    </tr>\n",
       "    <tr>\n",
       "      <th>2</th>\n",
       "      <td>toyota</td>\n",
       "      <td>4.7</td>\n",
       "      <td>8.0</td>\n",
       "      <td>toyota___4_7</td>\n",
       "    </tr>\n",
       "    <tr>\n",
       "      <th>3</th>\n",
       "      <td>toyota</td>\n",
       "      <td>1.6</td>\n",
       "      <td>-1.0</td>\n",
       "      <td>toyota___1_6</td>\n",
       "    </tr>\n",
       "    <tr>\n",
       "      <th>4</th>\n",
       "      <td>peugeot</td>\n",
       "      <td>1.4</td>\n",
       "      <td>-1.0</td>\n",
       "      <td>peugeot___1_4</td>\n",
       "    </tr>\n",
       "  </tbody>\n",
       "</table>\n",
       "</div>"
      ]
     },
     "metadata": {},
     "execution_count": 129
    }
   ],
   "metadata": {}
  },
  {
   "cell_type": "code",
   "execution_count": 220,
   "source": [
    "# Note: \r\n",
    "# apply works on a row / column basis of a DataFrame,\r\n",
    "# applymap works element-wise on a DataFrame, \r\n",
    "# map works element-wise on a Series.\r\n",
    "# apply = map on  Series \r\n"
   ],
   "outputs": [],
   "metadata": {}
  },
  {
   "cell_type": "code",
   "execution_count": 231,
   "source": [
    "df = pd.DataFrame([['mercedes', 2.5, 3], \r\n",
    "                   ['mercedes', None, 2], \r\n",
    "                   ['toyota', 4.7, 8],\r\n",
    "                   ['toyota', 1.6, None],\r\n",
    "                   [ 'peugeot', 1.4]], \r\n",
    "                  columns = ['brand','engine', 'year'])\r\n",
    "print (df)\r\n",
    "\r\n",
    "print ('\\napply:')\r\n",
    "df[['brand', 'year']].apply(lambda x: print (type(x), len(x)),axis=0)\r\n",
    "\r\n",
    "print ('\\napplymap:')\r\n",
    "df[['brand', 'year']].applymap(lambda x: print ('x:',x))\r\n",
    "\r\n",
    "print ()"
   ],
   "outputs": [
    {
     "output_type": "stream",
     "name": "stdout",
     "text": [
      "      brand  engine  year\n",
      "0  mercedes     2.5   3.0\n",
      "1  mercedes     NaN   2.0\n",
      "2    toyota     4.7   8.0\n",
      "3    toyota     1.6   NaN\n",
      "4   peugeot     1.4   NaN\n",
      "\n",
      "apply:\n",
      "<class 'pandas.core.series.Series'> 5\n",
      "<class 'pandas.core.series.Series'> 5\n",
      "\n",
      "applymap:\n",
      "x: mercedes\n",
      "x: mercedes\n",
      "x: toyota\n",
      "x: toyota\n",
      "x: peugeot\n",
      "x: mercedes\n",
      "x: mercedes\n",
      "x: toyota\n",
      "x: toyota\n",
      "x: peugeot\n",
      "x: 3.0\n",
      "x: 2.0\n",
      "x: 8.0\n",
      "x: nan\n",
      "x: nan\n",
      "\n"
     ]
    }
   ],
   "metadata": {}
  },
  {
   "cell_type": "markdown",
   "source": [
    "### Return multi values from apply"
   ],
   "metadata": {}
  },
  {
   "cell_type": "code",
   "execution_count": 130,
   "source": [
    "file_name= 'cars.csv'\r\n",
    "df= pd.read_csv(file_name) \r\n",
    "print (df.shape)\r\n",
    "df.head()"
   ],
   "outputs": [
    {
     "output_type": "stream",
     "name": "stdout",
     "text": [
      "(53, 17)\n"
     ]
    },
    {
     "output_type": "execute_result",
     "data": {
      "text/plain": [
       "   YEAR        Make           Model        Size  (kW) Unnamed: 5 TYPE  \\\n",
       "0  2012  MITSUBISHI          i-MiEV  SUBCOMPACT    49         A1    B   \n",
       "1  2012      NISSAN            LEAF    MID-SIZE    80         A1    B   \n",
       "2  2013        FORD  FOCUS ELECTRIC     COMPACT   107         A1    B   \n",
       "3  2013  MITSUBISHI          i-MiEV  SUBCOMPACT    49         A1    B   \n",
       "4  2013      NISSAN            LEAF    MID-SIZE    80         A1    B   \n",
       "\n",
       "   CITY (kWh/100 km)  HWY (kWh/100 km)  COMB (kWh/100 km)  CITY (Le/100 km)  \\\n",
       "0               16.9              21.4               18.7               1.9   \n",
       "1               19.3              23.0               21.1               2.2   \n",
       "2               19.0              21.1               20.0               2.1   \n",
       "3               16.9              21.4               18.7               1.9   \n",
       "4               19.3              23.0               21.1               2.2   \n",
       "\n",
       "   HWY (Le/100 km)  COMB (Le/100 km)  (g/km)  RATING  (km)  TIME (h)  \n",
       "0              2.4               2.1       0     NaN   100         7  \n",
       "1              2.6               2.4       0     NaN   117         7  \n",
       "2              2.4               2.2       0     NaN   122         4  \n",
       "3              2.4               2.1       0     NaN   100         7  \n",
       "4              2.6               2.4       0     NaN   117         7  "
      ],
      "text/html": [
       "<div>\n",
       "<style scoped>\n",
       "    .dataframe tbody tr th:only-of-type {\n",
       "        vertical-align: middle;\n",
       "    }\n",
       "\n",
       "    .dataframe tbody tr th {\n",
       "        vertical-align: top;\n",
       "    }\n",
       "\n",
       "    .dataframe thead th {\n",
       "        text-align: right;\n",
       "    }\n",
       "</style>\n",
       "<table border=\"1\" class=\"dataframe\">\n",
       "  <thead>\n",
       "    <tr style=\"text-align: right;\">\n",
       "      <th></th>\n",
       "      <th>YEAR</th>\n",
       "      <th>Make</th>\n",
       "      <th>Model</th>\n",
       "      <th>Size</th>\n",
       "      <th>(kW)</th>\n",
       "      <th>Unnamed: 5</th>\n",
       "      <th>TYPE</th>\n",
       "      <th>CITY (kWh/100 km)</th>\n",
       "      <th>HWY (kWh/100 km)</th>\n",
       "      <th>COMB (kWh/100 km)</th>\n",
       "      <th>CITY (Le/100 km)</th>\n",
       "      <th>HWY (Le/100 km)</th>\n",
       "      <th>COMB (Le/100 km)</th>\n",
       "      <th>(g/km)</th>\n",
       "      <th>RATING</th>\n",
       "      <th>(km)</th>\n",
       "      <th>TIME (h)</th>\n",
       "    </tr>\n",
       "  </thead>\n",
       "  <tbody>\n",
       "    <tr>\n",
       "      <th>0</th>\n",
       "      <td>2012</td>\n",
       "      <td>MITSUBISHI</td>\n",
       "      <td>i-MiEV</td>\n",
       "      <td>SUBCOMPACT</td>\n",
       "      <td>49</td>\n",
       "      <td>A1</td>\n",
       "      <td>B</td>\n",
       "      <td>16.9</td>\n",
       "      <td>21.4</td>\n",
       "      <td>18.7</td>\n",
       "      <td>1.9</td>\n",
       "      <td>2.4</td>\n",
       "      <td>2.1</td>\n",
       "      <td>0</td>\n",
       "      <td>NaN</td>\n",
       "      <td>100</td>\n",
       "      <td>7</td>\n",
       "    </tr>\n",
       "    <tr>\n",
       "      <th>1</th>\n",
       "      <td>2012</td>\n",
       "      <td>NISSAN</td>\n",
       "      <td>LEAF</td>\n",
       "      <td>MID-SIZE</td>\n",
       "      <td>80</td>\n",
       "      <td>A1</td>\n",
       "      <td>B</td>\n",
       "      <td>19.3</td>\n",
       "      <td>23.0</td>\n",
       "      <td>21.1</td>\n",
       "      <td>2.2</td>\n",
       "      <td>2.6</td>\n",
       "      <td>2.4</td>\n",
       "      <td>0</td>\n",
       "      <td>NaN</td>\n",
       "      <td>117</td>\n",
       "      <td>7</td>\n",
       "    </tr>\n",
       "    <tr>\n",
       "      <th>2</th>\n",
       "      <td>2013</td>\n",
       "      <td>FORD</td>\n",
       "      <td>FOCUS ELECTRIC</td>\n",
       "      <td>COMPACT</td>\n",
       "      <td>107</td>\n",
       "      <td>A1</td>\n",
       "      <td>B</td>\n",
       "      <td>19.0</td>\n",
       "      <td>21.1</td>\n",
       "      <td>20.0</td>\n",
       "      <td>2.1</td>\n",
       "      <td>2.4</td>\n",
       "      <td>2.2</td>\n",
       "      <td>0</td>\n",
       "      <td>NaN</td>\n",
       "      <td>122</td>\n",
       "      <td>4</td>\n",
       "    </tr>\n",
       "    <tr>\n",
       "      <th>3</th>\n",
       "      <td>2013</td>\n",
       "      <td>MITSUBISHI</td>\n",
       "      <td>i-MiEV</td>\n",
       "      <td>SUBCOMPACT</td>\n",
       "      <td>49</td>\n",
       "      <td>A1</td>\n",
       "      <td>B</td>\n",
       "      <td>16.9</td>\n",
       "      <td>21.4</td>\n",
       "      <td>18.7</td>\n",
       "      <td>1.9</td>\n",
       "      <td>2.4</td>\n",
       "      <td>2.1</td>\n",
       "      <td>0</td>\n",
       "      <td>NaN</td>\n",
       "      <td>100</td>\n",
       "      <td>7</td>\n",
       "    </tr>\n",
       "    <tr>\n",
       "      <th>4</th>\n",
       "      <td>2013</td>\n",
       "      <td>NISSAN</td>\n",
       "      <td>LEAF</td>\n",
       "      <td>MID-SIZE</td>\n",
       "      <td>80</td>\n",
       "      <td>A1</td>\n",
       "      <td>B</td>\n",
       "      <td>19.3</td>\n",
       "      <td>23.0</td>\n",
       "      <td>21.1</td>\n",
       "      <td>2.2</td>\n",
       "      <td>2.6</td>\n",
       "      <td>2.4</td>\n",
       "      <td>0</td>\n",
       "      <td>NaN</td>\n",
       "      <td>117</td>\n",
       "      <td>7</td>\n",
       "    </tr>\n",
       "  </tbody>\n",
       "</table>\n",
       "</div>"
      ]
     },
     "metadata": {},
     "execution_count": 130
    }
   ],
   "metadata": {}
  },
  {
   "cell_type": "code",
   "execution_count": 131,
   "source": [
    "def modify (row):\r\n",
    "    return pd.Series([f'modified_{row[\"Make\"]}',  f'modified_{row[\"(kW)\"]}'])\r\n",
    "        \r\n",
    "df.apply(modify, axis=1).head() # for each row\r\n"
   ],
   "outputs": [
    {
     "output_type": "execute_result",
     "data": {
      "text/plain": [
       "                     0             1\n",
       "0  modified_MITSUBISHI   modified_49\n",
       "1      modified_NISSAN   modified_80\n",
       "2        modified_FORD  modified_107\n",
       "3  modified_MITSUBISHI   modified_49\n",
       "4      modified_NISSAN   modified_80"
      ],
      "text/html": [
       "<div>\n",
       "<style scoped>\n",
       "    .dataframe tbody tr th:only-of-type {\n",
       "        vertical-align: middle;\n",
       "    }\n",
       "\n",
       "    .dataframe tbody tr th {\n",
       "        vertical-align: top;\n",
       "    }\n",
       "\n",
       "    .dataframe thead th {\n",
       "        text-align: right;\n",
       "    }\n",
       "</style>\n",
       "<table border=\"1\" class=\"dataframe\">\n",
       "  <thead>\n",
       "    <tr style=\"text-align: right;\">\n",
       "      <th></th>\n",
       "      <th>0</th>\n",
       "      <th>1</th>\n",
       "    </tr>\n",
       "  </thead>\n",
       "  <tbody>\n",
       "    <tr>\n",
       "      <th>0</th>\n",
       "      <td>modified_MITSUBISHI</td>\n",
       "      <td>modified_49</td>\n",
       "    </tr>\n",
       "    <tr>\n",
       "      <th>1</th>\n",
       "      <td>modified_NISSAN</td>\n",
       "      <td>modified_80</td>\n",
       "    </tr>\n",
       "    <tr>\n",
       "      <th>2</th>\n",
       "      <td>modified_FORD</td>\n",
       "      <td>modified_107</td>\n",
       "    </tr>\n",
       "    <tr>\n",
       "      <th>3</th>\n",
       "      <td>modified_MITSUBISHI</td>\n",
       "      <td>modified_49</td>\n",
       "    </tr>\n",
       "    <tr>\n",
       "      <th>4</th>\n",
       "      <td>modified_NISSAN</td>\n",
       "      <td>modified_80</td>\n",
       "    </tr>\n",
       "  </tbody>\n",
       "</table>\n",
       "</div>"
      ]
     },
     "metadata": {},
     "execution_count": 131
    }
   ],
   "metadata": {}
  },
  {
   "cell_type": "markdown",
   "source": [
    "***\n",
    "<font color = green >\n",
    "\n",
    "### Pivot table\n",
    "</font>"
   ],
   "metadata": {}
  },
  {
   "cell_type": "code",
   "execution_count": 132,
   "source": [
    "file_name= 'cars.csv'\r\n",
    "df= pd.read_csv(file_name) \r\n",
    "df[[ 'Make','YEAR', '(kW)']].head(10)"
   ],
   "outputs": [
    {
     "output_type": "execute_result",
     "data": {
      "text/plain": [
       "         Make  YEAR  (kW)\n",
       "0  MITSUBISHI  2012    49\n",
       "1      NISSAN  2012    80\n",
       "2        FORD  2013   107\n",
       "3  MITSUBISHI  2013    49\n",
       "4      NISSAN  2013    80\n",
       "5       SMART  2013    35\n",
       "6       SMART  2013    35\n",
       "7       TESLA  2013   270\n",
       "8       TESLA  2013   270\n",
       "9       TESLA  2013   270"
      ],
      "text/html": [
       "<div>\n",
       "<style scoped>\n",
       "    .dataframe tbody tr th:only-of-type {\n",
       "        vertical-align: middle;\n",
       "    }\n",
       "\n",
       "    .dataframe tbody tr th {\n",
       "        vertical-align: top;\n",
       "    }\n",
       "\n",
       "    .dataframe thead th {\n",
       "        text-align: right;\n",
       "    }\n",
       "</style>\n",
       "<table border=\"1\" class=\"dataframe\">\n",
       "  <thead>\n",
       "    <tr style=\"text-align: right;\">\n",
       "      <th></th>\n",
       "      <th>Make</th>\n",
       "      <th>YEAR</th>\n",
       "      <th>(kW)</th>\n",
       "    </tr>\n",
       "  </thead>\n",
       "  <tbody>\n",
       "    <tr>\n",
       "      <th>0</th>\n",
       "      <td>MITSUBISHI</td>\n",
       "      <td>2012</td>\n",
       "      <td>49</td>\n",
       "    </tr>\n",
       "    <tr>\n",
       "      <th>1</th>\n",
       "      <td>NISSAN</td>\n",
       "      <td>2012</td>\n",
       "      <td>80</td>\n",
       "    </tr>\n",
       "    <tr>\n",
       "      <th>2</th>\n",
       "      <td>FORD</td>\n",
       "      <td>2013</td>\n",
       "      <td>107</td>\n",
       "    </tr>\n",
       "    <tr>\n",
       "      <th>3</th>\n",
       "      <td>MITSUBISHI</td>\n",
       "      <td>2013</td>\n",
       "      <td>49</td>\n",
       "    </tr>\n",
       "    <tr>\n",
       "      <th>4</th>\n",
       "      <td>NISSAN</td>\n",
       "      <td>2013</td>\n",
       "      <td>80</td>\n",
       "    </tr>\n",
       "    <tr>\n",
       "      <th>5</th>\n",
       "      <td>SMART</td>\n",
       "      <td>2013</td>\n",
       "      <td>35</td>\n",
       "    </tr>\n",
       "    <tr>\n",
       "      <th>6</th>\n",
       "      <td>SMART</td>\n",
       "      <td>2013</td>\n",
       "      <td>35</td>\n",
       "    </tr>\n",
       "    <tr>\n",
       "      <th>7</th>\n",
       "      <td>TESLA</td>\n",
       "      <td>2013</td>\n",
       "      <td>270</td>\n",
       "    </tr>\n",
       "    <tr>\n",
       "      <th>8</th>\n",
       "      <td>TESLA</td>\n",
       "      <td>2013</td>\n",
       "      <td>270</td>\n",
       "    </tr>\n",
       "    <tr>\n",
       "      <th>9</th>\n",
       "      <td>TESLA</td>\n",
       "      <td>2013</td>\n",
       "      <td>270</td>\n",
       "    </tr>\n",
       "  </tbody>\n",
       "</table>\n",
       "</div>"
      ]
     },
     "metadata": {},
     "execution_count": 132
    }
   ],
   "metadata": {}
  },
  {
   "cell_type": "code",
   "execution_count": 133,
   "source": [
    "df_pivot= df.pivot_table(values='(kW)', index='Make', columns='YEAR', aggfunc=np.max).head(15)\r\n",
    "df_pivot"
   ],
   "outputs": [
    {
     "output_type": "execute_result",
     "data": {
      "text/plain": [
       "YEAR        2012   2013   2014   2015   2016\n",
       "Make                                        \n",
       "BMW          NaN    NaN    NaN  125.0  125.0\n",
       "CHEVROLET    NaN    NaN  104.0  104.0  104.0\n",
       "FORD         NaN  107.0  107.0  107.0  107.0\n",
       "KIA          NaN    NaN    NaN   81.0   81.0\n",
       "MITSUBISHI  49.0   49.0   49.0   49.0   49.0\n",
       "NISSAN      80.0   80.0   80.0   80.0   80.0\n",
       "SMART        NaN   35.0   35.0   35.0   35.0\n",
       "TESLA        NaN  310.0  310.0  515.0  568.0"
      ],
      "text/html": [
       "<div>\n",
       "<style scoped>\n",
       "    .dataframe tbody tr th:only-of-type {\n",
       "        vertical-align: middle;\n",
       "    }\n",
       "\n",
       "    .dataframe tbody tr th {\n",
       "        vertical-align: top;\n",
       "    }\n",
       "\n",
       "    .dataframe thead th {\n",
       "        text-align: right;\n",
       "    }\n",
       "</style>\n",
       "<table border=\"1\" class=\"dataframe\">\n",
       "  <thead>\n",
       "    <tr style=\"text-align: right;\">\n",
       "      <th>YEAR</th>\n",
       "      <th>2012</th>\n",
       "      <th>2013</th>\n",
       "      <th>2014</th>\n",
       "      <th>2015</th>\n",
       "      <th>2016</th>\n",
       "    </tr>\n",
       "    <tr>\n",
       "      <th>Make</th>\n",
       "      <th></th>\n",
       "      <th></th>\n",
       "      <th></th>\n",
       "      <th></th>\n",
       "      <th></th>\n",
       "    </tr>\n",
       "  </thead>\n",
       "  <tbody>\n",
       "    <tr>\n",
       "      <th>BMW</th>\n",
       "      <td>NaN</td>\n",
       "      <td>NaN</td>\n",
       "      <td>NaN</td>\n",
       "      <td>125.0</td>\n",
       "      <td>125.0</td>\n",
       "    </tr>\n",
       "    <tr>\n",
       "      <th>CHEVROLET</th>\n",
       "      <td>NaN</td>\n",
       "      <td>NaN</td>\n",
       "      <td>104.0</td>\n",
       "      <td>104.0</td>\n",
       "      <td>104.0</td>\n",
       "    </tr>\n",
       "    <tr>\n",
       "      <th>FORD</th>\n",
       "      <td>NaN</td>\n",
       "      <td>107.0</td>\n",
       "      <td>107.0</td>\n",
       "      <td>107.0</td>\n",
       "      <td>107.0</td>\n",
       "    </tr>\n",
       "    <tr>\n",
       "      <th>KIA</th>\n",
       "      <td>NaN</td>\n",
       "      <td>NaN</td>\n",
       "      <td>NaN</td>\n",
       "      <td>81.0</td>\n",
       "      <td>81.0</td>\n",
       "    </tr>\n",
       "    <tr>\n",
       "      <th>MITSUBISHI</th>\n",
       "      <td>49.0</td>\n",
       "      <td>49.0</td>\n",
       "      <td>49.0</td>\n",
       "      <td>49.0</td>\n",
       "      <td>49.0</td>\n",
       "    </tr>\n",
       "    <tr>\n",
       "      <th>NISSAN</th>\n",
       "      <td>80.0</td>\n",
       "      <td>80.0</td>\n",
       "      <td>80.0</td>\n",
       "      <td>80.0</td>\n",
       "      <td>80.0</td>\n",
       "    </tr>\n",
       "    <tr>\n",
       "      <th>SMART</th>\n",
       "      <td>NaN</td>\n",
       "      <td>35.0</td>\n",
       "      <td>35.0</td>\n",
       "      <td>35.0</td>\n",
       "      <td>35.0</td>\n",
       "    </tr>\n",
       "    <tr>\n",
       "      <th>TESLA</th>\n",
       "      <td>NaN</td>\n",
       "      <td>310.0</td>\n",
       "      <td>310.0</td>\n",
       "      <td>515.0</td>\n",
       "      <td>568.0</td>\n",
       "    </tr>\n",
       "  </tbody>\n",
       "</table>\n",
       "</div>"
      ]
     },
     "metadata": {},
     "execution_count": 133
    }
   ],
   "metadata": {}
  },
  {
   "cell_type": "code",
   "execution_count": 135,
   "source": [
    "# to compare pivot to groupby \r\n",
    "df.groupby(['Make','YEAR'])['(kW)'].agg(max).to_frame()"
   ],
   "outputs": [
    {
     "output_type": "execute_result",
     "data": {
      "text/plain": [
       "                 (kW)\n",
       "Make       YEAR      \n",
       "BMW        2015   125\n",
       "           2016   125\n",
       "CHEVROLET  2014   104\n",
       "           2015   104\n",
       "           2016   104\n",
       "FORD       2013   107\n",
       "           2014   107\n",
       "           2015   107\n",
       "           2016   107\n",
       "KIA        2015    81\n",
       "           2016    81\n",
       "MITSUBISHI 2012    49\n",
       "           2013    49\n",
       "           2014    49\n",
       "           2015    49\n",
       "           2016    49\n",
       "NISSAN     2012    80\n",
       "           2013    80\n",
       "           2014    80\n",
       "           2015    80\n",
       "           2016    80\n",
       "SMART      2013    35\n",
       "           2014    35\n",
       "           2015    35\n",
       "           2016    35\n",
       "TESLA      2013   310\n",
       "           2014   310\n",
       "           2015   515\n",
       "           2016   568"
      ],
      "text/html": [
       "<div>\n",
       "<style scoped>\n",
       "    .dataframe tbody tr th:only-of-type {\n",
       "        vertical-align: middle;\n",
       "    }\n",
       "\n",
       "    .dataframe tbody tr th {\n",
       "        vertical-align: top;\n",
       "    }\n",
       "\n",
       "    .dataframe thead th {\n",
       "        text-align: right;\n",
       "    }\n",
       "</style>\n",
       "<table border=\"1\" class=\"dataframe\">\n",
       "  <thead>\n",
       "    <tr style=\"text-align: right;\">\n",
       "      <th></th>\n",
       "      <th></th>\n",
       "      <th>(kW)</th>\n",
       "    </tr>\n",
       "    <tr>\n",
       "      <th>Make</th>\n",
       "      <th>YEAR</th>\n",
       "      <th></th>\n",
       "    </tr>\n",
       "  </thead>\n",
       "  <tbody>\n",
       "    <tr>\n",
       "      <th rowspan=\"2\" valign=\"top\">BMW</th>\n",
       "      <th>2015</th>\n",
       "      <td>125</td>\n",
       "    </tr>\n",
       "    <tr>\n",
       "      <th>2016</th>\n",
       "      <td>125</td>\n",
       "    </tr>\n",
       "    <tr>\n",
       "      <th rowspan=\"3\" valign=\"top\">CHEVROLET</th>\n",
       "      <th>2014</th>\n",
       "      <td>104</td>\n",
       "    </tr>\n",
       "    <tr>\n",
       "      <th>2015</th>\n",
       "      <td>104</td>\n",
       "    </tr>\n",
       "    <tr>\n",
       "      <th>2016</th>\n",
       "      <td>104</td>\n",
       "    </tr>\n",
       "    <tr>\n",
       "      <th rowspan=\"4\" valign=\"top\">FORD</th>\n",
       "      <th>2013</th>\n",
       "      <td>107</td>\n",
       "    </tr>\n",
       "    <tr>\n",
       "      <th>2014</th>\n",
       "      <td>107</td>\n",
       "    </tr>\n",
       "    <tr>\n",
       "      <th>2015</th>\n",
       "      <td>107</td>\n",
       "    </tr>\n",
       "    <tr>\n",
       "      <th>2016</th>\n",
       "      <td>107</td>\n",
       "    </tr>\n",
       "    <tr>\n",
       "      <th rowspan=\"2\" valign=\"top\">KIA</th>\n",
       "      <th>2015</th>\n",
       "      <td>81</td>\n",
       "    </tr>\n",
       "    <tr>\n",
       "      <th>2016</th>\n",
       "      <td>81</td>\n",
       "    </tr>\n",
       "    <tr>\n",
       "      <th rowspan=\"5\" valign=\"top\">MITSUBISHI</th>\n",
       "      <th>2012</th>\n",
       "      <td>49</td>\n",
       "    </tr>\n",
       "    <tr>\n",
       "      <th>2013</th>\n",
       "      <td>49</td>\n",
       "    </tr>\n",
       "    <tr>\n",
       "      <th>2014</th>\n",
       "      <td>49</td>\n",
       "    </tr>\n",
       "    <tr>\n",
       "      <th>2015</th>\n",
       "      <td>49</td>\n",
       "    </tr>\n",
       "    <tr>\n",
       "      <th>2016</th>\n",
       "      <td>49</td>\n",
       "    </tr>\n",
       "    <tr>\n",
       "      <th rowspan=\"5\" valign=\"top\">NISSAN</th>\n",
       "      <th>2012</th>\n",
       "      <td>80</td>\n",
       "    </tr>\n",
       "    <tr>\n",
       "      <th>2013</th>\n",
       "      <td>80</td>\n",
       "    </tr>\n",
       "    <tr>\n",
       "      <th>2014</th>\n",
       "      <td>80</td>\n",
       "    </tr>\n",
       "    <tr>\n",
       "      <th>2015</th>\n",
       "      <td>80</td>\n",
       "    </tr>\n",
       "    <tr>\n",
       "      <th>2016</th>\n",
       "      <td>80</td>\n",
       "    </tr>\n",
       "    <tr>\n",
       "      <th rowspan=\"4\" valign=\"top\">SMART</th>\n",
       "      <th>2013</th>\n",
       "      <td>35</td>\n",
       "    </tr>\n",
       "    <tr>\n",
       "      <th>2014</th>\n",
       "      <td>35</td>\n",
       "    </tr>\n",
       "    <tr>\n",
       "      <th>2015</th>\n",
       "      <td>35</td>\n",
       "    </tr>\n",
       "    <tr>\n",
       "      <th>2016</th>\n",
       "      <td>35</td>\n",
       "    </tr>\n",
       "    <tr>\n",
       "      <th rowspan=\"4\" valign=\"top\">TESLA</th>\n",
       "      <th>2013</th>\n",
       "      <td>310</td>\n",
       "    </tr>\n",
       "    <tr>\n",
       "      <th>2014</th>\n",
       "      <td>310</td>\n",
       "    </tr>\n",
       "    <tr>\n",
       "      <th>2015</th>\n",
       "      <td>515</td>\n",
       "    </tr>\n",
       "    <tr>\n",
       "      <th>2016</th>\n",
       "      <td>568</td>\n",
       "    </tr>\n",
       "  </tbody>\n",
       "</table>\n",
       "</div>"
      ]
     },
     "metadata": {},
     "execution_count": 135
    }
   ],
   "metadata": {}
  },
  {
   "cell_type": "markdown",
   "source": [
    "### Melt  (opposite to pivot)"
   ],
   "metadata": {}
  },
  {
   "cell_type": "code",
   "execution_count": 136,
   "source": [
    "df_pivot_r= df_pivot.reset_index()\r\n",
    "df_pivot_r"
   ],
   "outputs": [
    {
     "output_type": "execute_result",
     "data": {
      "text/plain": [
       "YEAR        Make  2012   2013   2014   2015   2016\n",
       "0            BMW   NaN    NaN    NaN  125.0  125.0\n",
       "1      CHEVROLET   NaN    NaN  104.0  104.0  104.0\n",
       "2           FORD   NaN  107.0  107.0  107.0  107.0\n",
       "3            KIA   NaN    NaN    NaN   81.0   81.0\n",
       "4     MITSUBISHI  49.0   49.0   49.0   49.0   49.0\n",
       "5         NISSAN  80.0   80.0   80.0   80.0   80.0\n",
       "6          SMART   NaN   35.0   35.0   35.0   35.0\n",
       "7          TESLA   NaN  310.0  310.0  515.0  568.0"
      ],
      "text/html": [
       "<div>\n",
       "<style scoped>\n",
       "    .dataframe tbody tr th:only-of-type {\n",
       "        vertical-align: middle;\n",
       "    }\n",
       "\n",
       "    .dataframe tbody tr th {\n",
       "        vertical-align: top;\n",
       "    }\n",
       "\n",
       "    .dataframe thead th {\n",
       "        text-align: right;\n",
       "    }\n",
       "</style>\n",
       "<table border=\"1\" class=\"dataframe\">\n",
       "  <thead>\n",
       "    <tr style=\"text-align: right;\">\n",
       "      <th>YEAR</th>\n",
       "      <th>Make</th>\n",
       "      <th>2012</th>\n",
       "      <th>2013</th>\n",
       "      <th>2014</th>\n",
       "      <th>2015</th>\n",
       "      <th>2016</th>\n",
       "    </tr>\n",
       "  </thead>\n",
       "  <tbody>\n",
       "    <tr>\n",
       "      <th>0</th>\n",
       "      <td>BMW</td>\n",
       "      <td>NaN</td>\n",
       "      <td>NaN</td>\n",
       "      <td>NaN</td>\n",
       "      <td>125.0</td>\n",
       "      <td>125.0</td>\n",
       "    </tr>\n",
       "    <tr>\n",
       "      <th>1</th>\n",
       "      <td>CHEVROLET</td>\n",
       "      <td>NaN</td>\n",
       "      <td>NaN</td>\n",
       "      <td>104.0</td>\n",
       "      <td>104.0</td>\n",
       "      <td>104.0</td>\n",
       "    </tr>\n",
       "    <tr>\n",
       "      <th>2</th>\n",
       "      <td>FORD</td>\n",
       "      <td>NaN</td>\n",
       "      <td>107.0</td>\n",
       "      <td>107.0</td>\n",
       "      <td>107.0</td>\n",
       "      <td>107.0</td>\n",
       "    </tr>\n",
       "    <tr>\n",
       "      <th>3</th>\n",
       "      <td>KIA</td>\n",
       "      <td>NaN</td>\n",
       "      <td>NaN</td>\n",
       "      <td>NaN</td>\n",
       "      <td>81.0</td>\n",
       "      <td>81.0</td>\n",
       "    </tr>\n",
       "    <tr>\n",
       "      <th>4</th>\n",
       "      <td>MITSUBISHI</td>\n",
       "      <td>49.0</td>\n",
       "      <td>49.0</td>\n",
       "      <td>49.0</td>\n",
       "      <td>49.0</td>\n",
       "      <td>49.0</td>\n",
       "    </tr>\n",
       "    <tr>\n",
       "      <th>5</th>\n",
       "      <td>NISSAN</td>\n",
       "      <td>80.0</td>\n",
       "      <td>80.0</td>\n",
       "      <td>80.0</td>\n",
       "      <td>80.0</td>\n",
       "      <td>80.0</td>\n",
       "    </tr>\n",
       "    <tr>\n",
       "      <th>6</th>\n",
       "      <td>SMART</td>\n",
       "      <td>NaN</td>\n",
       "      <td>35.0</td>\n",
       "      <td>35.0</td>\n",
       "      <td>35.0</td>\n",
       "      <td>35.0</td>\n",
       "    </tr>\n",
       "    <tr>\n",
       "      <th>7</th>\n",
       "      <td>TESLA</td>\n",
       "      <td>NaN</td>\n",
       "      <td>310.0</td>\n",
       "      <td>310.0</td>\n",
       "      <td>515.0</td>\n",
       "      <td>568.0</td>\n",
       "    </tr>\n",
       "  </tbody>\n",
       "</table>\n",
       "</div>"
      ]
     },
     "metadata": {},
     "execution_count": 136
    }
   ],
   "metadata": {}
  },
  {
   "cell_type": "code",
   "execution_count": 137,
   "source": [
    "\r\n",
    "pd.melt(df_pivot_r,\r\n",
    "    id_vars=['Make'], # column to keep  as column \r\n",
    "    value_vars = list(df_pivot_r)[1:],# columns to convert to value \r\n",
    "    value_name= '(kW)' # provide the name for new column of values     \r\n",
    "    ).dropna().sort_values(['Make','YEAR'])\r\n",
    "        "
   ],
   "outputs": [
    {
     "output_type": "execute_result",
     "data": {
      "text/plain": [
       "          Make  YEAR   (kW)\n",
       "24         BMW  2015  125.0\n",
       "32         BMW  2016  125.0\n",
       "17   CHEVROLET  2014  104.0\n",
       "25   CHEVROLET  2015  104.0\n",
       "33   CHEVROLET  2016  104.0\n",
       "10        FORD  2013  107.0\n",
       "18        FORD  2014  107.0\n",
       "26        FORD  2015  107.0\n",
       "34        FORD  2016  107.0\n",
       "27         KIA  2015   81.0\n",
       "35         KIA  2016   81.0\n",
       "4   MITSUBISHI  2012   49.0\n",
       "12  MITSUBISHI  2013   49.0\n",
       "20  MITSUBISHI  2014   49.0\n",
       "28  MITSUBISHI  2015   49.0\n",
       "36  MITSUBISHI  2016   49.0\n",
       "5       NISSAN  2012   80.0\n",
       "13      NISSAN  2013   80.0\n",
       "21      NISSAN  2014   80.0\n",
       "29      NISSAN  2015   80.0\n",
       "37      NISSAN  2016   80.0\n",
       "14       SMART  2013   35.0\n",
       "22       SMART  2014   35.0\n",
       "30       SMART  2015   35.0\n",
       "38       SMART  2016   35.0\n",
       "15       TESLA  2013  310.0\n",
       "23       TESLA  2014  310.0\n",
       "31       TESLA  2015  515.0\n",
       "39       TESLA  2016  568.0"
      ],
      "text/html": [
       "<div>\n",
       "<style scoped>\n",
       "    .dataframe tbody tr th:only-of-type {\n",
       "        vertical-align: middle;\n",
       "    }\n",
       "\n",
       "    .dataframe tbody tr th {\n",
       "        vertical-align: top;\n",
       "    }\n",
       "\n",
       "    .dataframe thead th {\n",
       "        text-align: right;\n",
       "    }\n",
       "</style>\n",
       "<table border=\"1\" class=\"dataframe\">\n",
       "  <thead>\n",
       "    <tr style=\"text-align: right;\">\n",
       "      <th></th>\n",
       "      <th>Make</th>\n",
       "      <th>YEAR</th>\n",
       "      <th>(kW)</th>\n",
       "    </tr>\n",
       "  </thead>\n",
       "  <tbody>\n",
       "    <tr>\n",
       "      <th>24</th>\n",
       "      <td>BMW</td>\n",
       "      <td>2015</td>\n",
       "      <td>125.0</td>\n",
       "    </tr>\n",
       "    <tr>\n",
       "      <th>32</th>\n",
       "      <td>BMW</td>\n",
       "      <td>2016</td>\n",
       "      <td>125.0</td>\n",
       "    </tr>\n",
       "    <tr>\n",
       "      <th>17</th>\n",
       "      <td>CHEVROLET</td>\n",
       "      <td>2014</td>\n",
       "      <td>104.0</td>\n",
       "    </tr>\n",
       "    <tr>\n",
       "      <th>25</th>\n",
       "      <td>CHEVROLET</td>\n",
       "      <td>2015</td>\n",
       "      <td>104.0</td>\n",
       "    </tr>\n",
       "    <tr>\n",
       "      <th>33</th>\n",
       "      <td>CHEVROLET</td>\n",
       "      <td>2016</td>\n",
       "      <td>104.0</td>\n",
       "    </tr>\n",
       "    <tr>\n",
       "      <th>10</th>\n",
       "      <td>FORD</td>\n",
       "      <td>2013</td>\n",
       "      <td>107.0</td>\n",
       "    </tr>\n",
       "    <tr>\n",
       "      <th>18</th>\n",
       "      <td>FORD</td>\n",
       "      <td>2014</td>\n",
       "      <td>107.0</td>\n",
       "    </tr>\n",
       "    <tr>\n",
       "      <th>26</th>\n",
       "      <td>FORD</td>\n",
       "      <td>2015</td>\n",
       "      <td>107.0</td>\n",
       "    </tr>\n",
       "    <tr>\n",
       "      <th>34</th>\n",
       "      <td>FORD</td>\n",
       "      <td>2016</td>\n",
       "      <td>107.0</td>\n",
       "    </tr>\n",
       "    <tr>\n",
       "      <th>27</th>\n",
       "      <td>KIA</td>\n",
       "      <td>2015</td>\n",
       "      <td>81.0</td>\n",
       "    </tr>\n",
       "    <tr>\n",
       "      <th>35</th>\n",
       "      <td>KIA</td>\n",
       "      <td>2016</td>\n",
       "      <td>81.0</td>\n",
       "    </tr>\n",
       "    <tr>\n",
       "      <th>4</th>\n",
       "      <td>MITSUBISHI</td>\n",
       "      <td>2012</td>\n",
       "      <td>49.0</td>\n",
       "    </tr>\n",
       "    <tr>\n",
       "      <th>12</th>\n",
       "      <td>MITSUBISHI</td>\n",
       "      <td>2013</td>\n",
       "      <td>49.0</td>\n",
       "    </tr>\n",
       "    <tr>\n",
       "      <th>20</th>\n",
       "      <td>MITSUBISHI</td>\n",
       "      <td>2014</td>\n",
       "      <td>49.0</td>\n",
       "    </tr>\n",
       "    <tr>\n",
       "      <th>28</th>\n",
       "      <td>MITSUBISHI</td>\n",
       "      <td>2015</td>\n",
       "      <td>49.0</td>\n",
       "    </tr>\n",
       "    <tr>\n",
       "      <th>36</th>\n",
       "      <td>MITSUBISHI</td>\n",
       "      <td>2016</td>\n",
       "      <td>49.0</td>\n",
       "    </tr>\n",
       "    <tr>\n",
       "      <th>5</th>\n",
       "      <td>NISSAN</td>\n",
       "      <td>2012</td>\n",
       "      <td>80.0</td>\n",
       "    </tr>\n",
       "    <tr>\n",
       "      <th>13</th>\n",
       "      <td>NISSAN</td>\n",
       "      <td>2013</td>\n",
       "      <td>80.0</td>\n",
       "    </tr>\n",
       "    <tr>\n",
       "      <th>21</th>\n",
       "      <td>NISSAN</td>\n",
       "      <td>2014</td>\n",
       "      <td>80.0</td>\n",
       "    </tr>\n",
       "    <tr>\n",
       "      <th>29</th>\n",
       "      <td>NISSAN</td>\n",
       "      <td>2015</td>\n",
       "      <td>80.0</td>\n",
       "    </tr>\n",
       "    <tr>\n",
       "      <th>37</th>\n",
       "      <td>NISSAN</td>\n",
       "      <td>2016</td>\n",
       "      <td>80.0</td>\n",
       "    </tr>\n",
       "    <tr>\n",
       "      <th>14</th>\n",
       "      <td>SMART</td>\n",
       "      <td>2013</td>\n",
       "      <td>35.0</td>\n",
       "    </tr>\n",
       "    <tr>\n",
       "      <th>22</th>\n",
       "      <td>SMART</td>\n",
       "      <td>2014</td>\n",
       "      <td>35.0</td>\n",
       "    </tr>\n",
       "    <tr>\n",
       "      <th>30</th>\n",
       "      <td>SMART</td>\n",
       "      <td>2015</td>\n",
       "      <td>35.0</td>\n",
       "    </tr>\n",
       "    <tr>\n",
       "      <th>38</th>\n",
       "      <td>SMART</td>\n",
       "      <td>2016</td>\n",
       "      <td>35.0</td>\n",
       "    </tr>\n",
       "    <tr>\n",
       "      <th>15</th>\n",
       "      <td>TESLA</td>\n",
       "      <td>2013</td>\n",
       "      <td>310.0</td>\n",
       "    </tr>\n",
       "    <tr>\n",
       "      <th>23</th>\n",
       "      <td>TESLA</td>\n",
       "      <td>2014</td>\n",
       "      <td>310.0</td>\n",
       "    </tr>\n",
       "    <tr>\n",
       "      <th>31</th>\n",
       "      <td>TESLA</td>\n",
       "      <td>2015</td>\n",
       "      <td>515.0</td>\n",
       "    </tr>\n",
       "    <tr>\n",
       "      <th>39</th>\n",
       "      <td>TESLA</td>\n",
       "      <td>2016</td>\n",
       "      <td>568.0</td>\n",
       "    </tr>\n",
       "  </tbody>\n",
       "</table>\n",
       "</div>"
      ]
     },
     "metadata": {},
     "execution_count": 137
    }
   ],
   "metadata": {}
  },
  {
   "cell_type": "code",
   "execution_count": 302,
   "source": [
    "# general template: \r\n",
    "df = pd.DataFrame({'A': {0: 'a', 1: 'b', 2: 'c'},\r\n",
    "                   'B': {0: 1, 1: 3, 2: 5},\r\n",
    "                   'C': {0: 2, 1: 4, 2: 6}})\r\n",
    "print (df)    \r\n",
    "pd.melt(df, id_vars=['A'], value_vars=['B', 'C'])"
   ],
   "outputs": [
    {
     "output_type": "stream",
     "name": "stdout",
     "text": [
      "   A  B  C\n",
      "0  a  1  2\n",
      "1  b  3  4\n",
      "2  c  5  6\n"
     ]
    },
    {
     "output_type": "execute_result",
     "data": {
      "text/plain": [
       "   A variable  value\n",
       "0  a        B      1\n",
       "1  b        B      3\n",
       "2  c        B      5\n",
       "3  a        C      2\n",
       "4  b        C      4\n",
       "5  c        C      6"
      ],
      "text/html": [
       "<div>\n",
       "<style scoped>\n",
       "    .dataframe tbody tr th:only-of-type {\n",
       "        vertical-align: middle;\n",
       "    }\n",
       "\n",
       "    .dataframe tbody tr th {\n",
       "        vertical-align: top;\n",
       "    }\n",
       "\n",
       "    .dataframe thead th {\n",
       "        text-align: right;\n",
       "    }\n",
       "</style>\n",
       "<table border=\"1\" class=\"dataframe\">\n",
       "  <thead>\n",
       "    <tr style=\"text-align: right;\">\n",
       "      <th></th>\n",
       "      <th>A</th>\n",
       "      <th>variable</th>\n",
       "      <th>value</th>\n",
       "    </tr>\n",
       "  </thead>\n",
       "  <tbody>\n",
       "    <tr>\n",
       "      <th>0</th>\n",
       "      <td>a</td>\n",
       "      <td>B</td>\n",
       "      <td>1</td>\n",
       "    </tr>\n",
       "    <tr>\n",
       "      <th>1</th>\n",
       "      <td>b</td>\n",
       "      <td>B</td>\n",
       "      <td>3</td>\n",
       "    </tr>\n",
       "    <tr>\n",
       "      <th>2</th>\n",
       "      <td>c</td>\n",
       "      <td>B</td>\n",
       "      <td>5</td>\n",
       "    </tr>\n",
       "    <tr>\n",
       "      <th>3</th>\n",
       "      <td>a</td>\n",
       "      <td>C</td>\n",
       "      <td>2</td>\n",
       "    </tr>\n",
       "    <tr>\n",
       "      <th>4</th>\n",
       "      <td>b</td>\n",
       "      <td>C</td>\n",
       "      <td>4</td>\n",
       "    </tr>\n",
       "    <tr>\n",
       "      <th>5</th>\n",
       "      <td>c</td>\n",
       "      <td>C</td>\n",
       "      <td>6</td>\n",
       "    </tr>\n",
       "  </tbody>\n",
       "</table>\n",
       "</div>"
      ]
     },
     "metadata": {},
     "execution_count": 302
    }
   ],
   "metadata": {}
  },
  {
   "cell_type": "markdown",
   "source": [
    "***\n",
    "<font color = green >\n",
    "\n",
    "### Series.str \n",
    "</font>"
   ],
   "metadata": {}
  },
  {
   "cell_type": "code",
   "execution_count": 138,
   "source": [
    "df['model_len'] =  df['Model'].str.len()\r\n",
    "df[['Model','model_len']].head()"
   ],
   "outputs": [
    {
     "output_type": "execute_result",
     "data": {
      "text/plain": [
       "            Model  model_len\n",
       "0          i-MiEV          6\n",
       "1            LEAF          4\n",
       "2  FOCUS ELECTRIC         14\n",
       "3          i-MiEV          6\n",
       "4            LEAF          4"
      ],
      "text/html": [
       "<div>\n",
       "<style scoped>\n",
       "    .dataframe tbody tr th:only-of-type {\n",
       "        vertical-align: middle;\n",
       "    }\n",
       "\n",
       "    .dataframe tbody tr th {\n",
       "        vertical-align: top;\n",
       "    }\n",
       "\n",
       "    .dataframe thead th {\n",
       "        text-align: right;\n",
       "    }\n",
       "</style>\n",
       "<table border=\"1\" class=\"dataframe\">\n",
       "  <thead>\n",
       "    <tr style=\"text-align: right;\">\n",
       "      <th></th>\n",
       "      <th>Model</th>\n",
       "      <th>model_len</th>\n",
       "    </tr>\n",
       "  </thead>\n",
       "  <tbody>\n",
       "    <tr>\n",
       "      <th>0</th>\n",
       "      <td>i-MiEV</td>\n",
       "      <td>6</td>\n",
       "    </tr>\n",
       "    <tr>\n",
       "      <th>1</th>\n",
       "      <td>LEAF</td>\n",
       "      <td>4</td>\n",
       "    </tr>\n",
       "    <tr>\n",
       "      <th>2</th>\n",
       "      <td>FOCUS ELECTRIC</td>\n",
       "      <td>14</td>\n",
       "    </tr>\n",
       "    <tr>\n",
       "      <th>3</th>\n",
       "      <td>i-MiEV</td>\n",
       "      <td>6</td>\n",
       "    </tr>\n",
       "    <tr>\n",
       "      <th>4</th>\n",
       "      <td>LEAF</td>\n",
       "      <td>4</td>\n",
       "    </tr>\n",
       "  </tbody>\n",
       "</table>\n",
       "</div>"
      ]
     },
     "metadata": {},
     "execution_count": 138
    }
   ],
   "metadata": {}
  },
  {
   "cell_type": "code",
   "execution_count": 331,
   "source": [
    "df['model_startswith_s'] =  df['Model'].str.startswith('F')\r\n",
    "df[['Model','model_startswith_s']].head()"
   ],
   "outputs": [
    {
     "output_type": "execute_result",
     "data": {
      "text/plain": [
       "            Model  model_startswith_s\n",
       "0          i-MiEV               False\n",
       "1            LEAF               False\n",
       "2  FOCUS ELECTRIC                True\n",
       "3          i-MiEV               False\n",
       "4            LEAF               False"
      ],
      "text/html": [
       "<div>\n",
       "<style scoped>\n",
       "    .dataframe tbody tr th:only-of-type {\n",
       "        vertical-align: middle;\n",
       "    }\n",
       "\n",
       "    .dataframe tbody tr th {\n",
       "        vertical-align: top;\n",
       "    }\n",
       "\n",
       "    .dataframe thead th {\n",
       "        text-align: right;\n",
       "    }\n",
       "</style>\n",
       "<table border=\"1\" class=\"dataframe\">\n",
       "  <thead>\n",
       "    <tr style=\"text-align: right;\">\n",
       "      <th></th>\n",
       "      <th>Model</th>\n",
       "      <th>model_startswith_s</th>\n",
       "    </tr>\n",
       "  </thead>\n",
       "  <tbody>\n",
       "    <tr>\n",
       "      <th>0</th>\n",
       "      <td>i-MiEV</td>\n",
       "      <td>False</td>\n",
       "    </tr>\n",
       "    <tr>\n",
       "      <th>1</th>\n",
       "      <td>LEAF</td>\n",
       "      <td>False</td>\n",
       "    </tr>\n",
       "    <tr>\n",
       "      <th>2</th>\n",
       "      <td>FOCUS ELECTRIC</td>\n",
       "      <td>True</td>\n",
       "    </tr>\n",
       "    <tr>\n",
       "      <th>3</th>\n",
       "      <td>i-MiEV</td>\n",
       "      <td>False</td>\n",
       "    </tr>\n",
       "    <tr>\n",
       "      <th>4</th>\n",
       "      <td>LEAF</td>\n",
       "      <td>False</td>\n",
       "    </tr>\n",
       "  </tbody>\n",
       "</table>\n",
       "</div>"
      ]
     },
     "metadata": {},
     "execution_count": 331
    }
   ],
   "metadata": {}
  },
  {
   "cell_type": "code",
   "execution_count": 145,
   "source": [
    "# \\w A word character is a character from a-z, A-Z, 0-9, including the _ (underscore) character.\r\n",
    "pattern = '\\wE[\\w]{2}'  # start from any letter , then E, and then 2 any letters \r\n",
    "df[df['Model'].str.match(pattern)]['Model'].unique()"
   ],
   "outputs": [
    {
     "output_type": "execute_result",
     "data": {
      "text/plain": [
       "array(['LEAF', 'LEAF (24 kWh battery)', 'LEAF (30 kWh battery)'],\n",
       "      dtype=object)"
      ]
     },
     "metadata": {},
     "execution_count": 145
    }
   ],
   "metadata": {}
  },
  {
   "cell_type": "code",
   "execution_count": 365,
   "source": [
    "#(?P<name>regex) - Round brackets group the regex between them. \r\n",
    "# They capture the text matched by the regex inside them that can be referenced by the name between the sharp brackets. \r\n",
    "# The name may consist of letters and digits.\r\n",
    "pattern = '(?P<new_name>[\\w]+E[\\w]+)'  # start from atleast 1 letter , then E, and then any letters (1 or more times )\r\n",
    "df['Model'].str.extract(pattern)"
   ],
   "outputs": [
    {
     "output_type": "execute_result",
     "data": {
      "text/plain": [
       "    new_name\n",
       "0       MiEV\n",
       "1       LEAF\n",
       "2   ELECTRIC\n",
       "3       MiEV\n",
       "4       LEAF\n",
       "5   ELECTRIC\n",
       "6   ELECTRIC\n",
       "7      MODEL\n",
       "8      MODEL\n",
       "9      MODEL\n",
       "10     MODEL\n",
       "11       NaN\n",
       "12  ELECTRIC\n",
       "13      MiEV\n",
       "14      LEAF\n",
       "15  ELECTRIC\n",
       "16  ELECTRIC\n",
       "17     MODEL\n",
       "18     MODEL\n",
       "19     MODEL\n",
       "20       NaN\n",
       "21       NaN\n",
       "22  ELECTRIC\n",
       "23       NaN\n",
       "24      MiEV\n",
       "25      LEAF\n",
       "26  ELECTRIC\n",
       "27  ELECTRIC\n",
       "28     MODEL\n",
       "29     MODEL\n",
       "30     MODEL\n",
       "31     MODEL\n",
       "32     MODEL\n",
       "33     MODEL\n",
       "34       NaN\n",
       "35       NaN\n",
       "36  ELECTRIC\n",
       "37       NaN\n",
       "38      MiEV\n",
       "39      LEAF\n",
       "40      LEAF\n",
       "41  ELECTRIC\n",
       "42  ELECTRIC\n",
       "43     MODEL\n",
       "44     MODEL\n",
       "45     MODEL\n",
       "46     MODEL\n",
       "47     MODEL\n",
       "48     MODEL\n",
       "49     MODEL\n",
       "50     MODEL\n",
       "51     MODEL\n",
       "52     MODEL"
      ],
      "text/html": [
       "<div>\n",
       "<style scoped>\n",
       "    .dataframe tbody tr th:only-of-type {\n",
       "        vertical-align: middle;\n",
       "    }\n",
       "\n",
       "    .dataframe tbody tr th {\n",
       "        vertical-align: top;\n",
       "    }\n",
       "\n",
       "    .dataframe thead th {\n",
       "        text-align: right;\n",
       "    }\n",
       "</style>\n",
       "<table border=\"1\" class=\"dataframe\">\n",
       "  <thead>\n",
       "    <tr style=\"text-align: right;\">\n",
       "      <th></th>\n",
       "      <th>new_name</th>\n",
       "    </tr>\n",
       "  </thead>\n",
       "  <tbody>\n",
       "    <tr>\n",
       "      <th>0</th>\n",
       "      <td>MiEV</td>\n",
       "    </tr>\n",
       "    <tr>\n",
       "      <th>1</th>\n",
       "      <td>LEAF</td>\n",
       "    </tr>\n",
       "    <tr>\n",
       "      <th>2</th>\n",
       "      <td>ELECTRIC</td>\n",
       "    </tr>\n",
       "    <tr>\n",
       "      <th>3</th>\n",
       "      <td>MiEV</td>\n",
       "    </tr>\n",
       "    <tr>\n",
       "      <th>4</th>\n",
       "      <td>LEAF</td>\n",
       "    </tr>\n",
       "    <tr>\n",
       "      <th>5</th>\n",
       "      <td>ELECTRIC</td>\n",
       "    </tr>\n",
       "    <tr>\n",
       "      <th>6</th>\n",
       "      <td>ELECTRIC</td>\n",
       "    </tr>\n",
       "    <tr>\n",
       "      <th>7</th>\n",
       "      <td>MODEL</td>\n",
       "    </tr>\n",
       "    <tr>\n",
       "      <th>8</th>\n",
       "      <td>MODEL</td>\n",
       "    </tr>\n",
       "    <tr>\n",
       "      <th>9</th>\n",
       "      <td>MODEL</td>\n",
       "    </tr>\n",
       "    <tr>\n",
       "      <th>10</th>\n",
       "      <td>MODEL</td>\n",
       "    </tr>\n",
       "    <tr>\n",
       "      <th>11</th>\n",
       "      <td>NaN</td>\n",
       "    </tr>\n",
       "    <tr>\n",
       "      <th>12</th>\n",
       "      <td>ELECTRIC</td>\n",
       "    </tr>\n",
       "    <tr>\n",
       "      <th>13</th>\n",
       "      <td>MiEV</td>\n",
       "    </tr>\n",
       "    <tr>\n",
       "      <th>14</th>\n",
       "      <td>LEAF</td>\n",
       "    </tr>\n",
       "    <tr>\n",
       "      <th>15</th>\n",
       "      <td>ELECTRIC</td>\n",
       "    </tr>\n",
       "    <tr>\n",
       "      <th>16</th>\n",
       "      <td>ELECTRIC</td>\n",
       "    </tr>\n",
       "    <tr>\n",
       "      <th>17</th>\n",
       "      <td>MODEL</td>\n",
       "    </tr>\n",
       "    <tr>\n",
       "      <th>18</th>\n",
       "      <td>MODEL</td>\n",
       "    </tr>\n",
       "    <tr>\n",
       "      <th>19</th>\n",
       "      <td>MODEL</td>\n",
       "    </tr>\n",
       "    <tr>\n",
       "      <th>20</th>\n",
       "      <td>NaN</td>\n",
       "    </tr>\n",
       "    <tr>\n",
       "      <th>21</th>\n",
       "      <td>NaN</td>\n",
       "    </tr>\n",
       "    <tr>\n",
       "      <th>22</th>\n",
       "      <td>ELECTRIC</td>\n",
       "    </tr>\n",
       "    <tr>\n",
       "      <th>23</th>\n",
       "      <td>NaN</td>\n",
       "    </tr>\n",
       "    <tr>\n",
       "      <th>24</th>\n",
       "      <td>MiEV</td>\n",
       "    </tr>\n",
       "    <tr>\n",
       "      <th>25</th>\n",
       "      <td>LEAF</td>\n",
       "    </tr>\n",
       "    <tr>\n",
       "      <th>26</th>\n",
       "      <td>ELECTRIC</td>\n",
       "    </tr>\n",
       "    <tr>\n",
       "      <th>27</th>\n",
       "      <td>ELECTRIC</td>\n",
       "    </tr>\n",
       "    <tr>\n",
       "      <th>28</th>\n",
       "      <td>MODEL</td>\n",
       "    </tr>\n",
       "    <tr>\n",
       "      <th>29</th>\n",
       "      <td>MODEL</td>\n",
       "    </tr>\n",
       "    <tr>\n",
       "      <th>30</th>\n",
       "      <td>MODEL</td>\n",
       "    </tr>\n",
       "    <tr>\n",
       "      <th>31</th>\n",
       "      <td>MODEL</td>\n",
       "    </tr>\n",
       "    <tr>\n",
       "      <th>32</th>\n",
       "      <td>MODEL</td>\n",
       "    </tr>\n",
       "    <tr>\n",
       "      <th>33</th>\n",
       "      <td>MODEL</td>\n",
       "    </tr>\n",
       "    <tr>\n",
       "      <th>34</th>\n",
       "      <td>NaN</td>\n",
       "    </tr>\n",
       "    <tr>\n",
       "      <th>35</th>\n",
       "      <td>NaN</td>\n",
       "    </tr>\n",
       "    <tr>\n",
       "      <th>36</th>\n",
       "      <td>ELECTRIC</td>\n",
       "    </tr>\n",
       "    <tr>\n",
       "      <th>37</th>\n",
       "      <td>NaN</td>\n",
       "    </tr>\n",
       "    <tr>\n",
       "      <th>38</th>\n",
       "      <td>MiEV</td>\n",
       "    </tr>\n",
       "    <tr>\n",
       "      <th>39</th>\n",
       "      <td>LEAF</td>\n",
       "    </tr>\n",
       "    <tr>\n",
       "      <th>40</th>\n",
       "      <td>LEAF</td>\n",
       "    </tr>\n",
       "    <tr>\n",
       "      <th>41</th>\n",
       "      <td>ELECTRIC</td>\n",
       "    </tr>\n",
       "    <tr>\n",
       "      <th>42</th>\n",
       "      <td>ELECTRIC</td>\n",
       "    </tr>\n",
       "    <tr>\n",
       "      <th>43</th>\n",
       "      <td>MODEL</td>\n",
       "    </tr>\n",
       "    <tr>\n",
       "      <th>44</th>\n",
       "      <td>MODEL</td>\n",
       "    </tr>\n",
       "    <tr>\n",
       "      <th>45</th>\n",
       "      <td>MODEL</td>\n",
       "    </tr>\n",
       "    <tr>\n",
       "      <th>46</th>\n",
       "      <td>MODEL</td>\n",
       "    </tr>\n",
       "    <tr>\n",
       "      <th>47</th>\n",
       "      <td>MODEL</td>\n",
       "    </tr>\n",
       "    <tr>\n",
       "      <th>48</th>\n",
       "      <td>MODEL</td>\n",
       "    </tr>\n",
       "    <tr>\n",
       "      <th>49</th>\n",
       "      <td>MODEL</td>\n",
       "    </tr>\n",
       "    <tr>\n",
       "      <th>50</th>\n",
       "      <td>MODEL</td>\n",
       "    </tr>\n",
       "    <tr>\n",
       "      <th>51</th>\n",
       "      <td>MODEL</td>\n",
       "    </tr>\n",
       "    <tr>\n",
       "      <th>52</th>\n",
       "      <td>MODEL</td>\n",
       "    </tr>\n",
       "  </tbody>\n",
       "</table>\n",
       "</div>"
      ]
     },
     "metadata": {},
     "execution_count": 365
    }
   ],
   "metadata": {}
  },
  {
   "cell_type": "markdown",
   "source": [
    "### Visualization with pandas "
   ],
   "metadata": {}
  },
  {
   "cell_type": "code",
   "execution_count": 149,
   "source": [
    "import matplotlib.pyplot as plt \r\n",
    "plt.style.use('seaborn-colorblind')\r\n",
    "np.random.seed(123) \r\n",
    "\r\n",
    "#  Cumulative sum (running total) - total sum of data as it grows with time. \r\n",
    "# here it is random steps \r\n",
    "df = pd.DataFrame({'A': np.random.randn(365).cumsum(),\r\n",
    "                   'B': np.random.randn(365).cumsum() + 20,\r\n",
    "                   'C': np.random.randn(365).cumsum() - 20},\r\n",
    "                  index=pd.date_range('1/1/2017', periods=365))\r\n",
    "print (df.head(5))\r\n",
    "print (df.describe())\r\n"
   ],
   "outputs": [
    {
     "output_type": "stream",
     "name": "stdout",
     "text": [
      "                   A          B          C\n",
      "2017-01-01 -1.085631  20.059291 -20.230904\n",
      "2017-01-02 -0.088285  21.803332 -16.659325\n",
      "2017-01-03  0.194693  20.835588 -17.055481\n",
      "2017-01-04 -1.311601  21.255156 -17.093802\n",
      "2017-01-05 -1.890202  21.462083 -19.518638\n",
      "                A           B           C\n",
      "count  365.000000  365.000000  365.000000\n",
      "mean    -0.781837   22.533214  -46.969517\n",
      "std      6.150125    7.605333   13.893231\n",
      "min    -17.090959    8.888012  -67.784766\n",
      "25%     -4.696902   16.639895  -60.513731\n",
      "50%      0.898114   20.515606  -45.722258\n",
      "75%      4.074155   29.483697  -40.504980\n",
      "max      9.464902   38.306007  -14.690473\n"
     ]
    }
   ],
   "metadata": {}
  },
  {
   "cell_type": "markdown",
   "source": [
    "<font color = green >\n",
    "\n",
    "### pandas plot\n",
    "</font>"
   ],
   "metadata": {}
  },
  {
   "cell_type": "code",
   "execution_count": 150,
   "source": [
    "df.plot()\r\n",
    "\r\n",
    "\r\n",
    "# Note: labels , legend"
   ],
   "outputs": [
    {
     "output_type": "execute_result",
     "data": {
      "text/plain": [
       "<AxesSubplot:>"
      ]
     },
     "metadata": {},
     "execution_count": 150
    },
    {
     "output_type": "display_data",
     "data": {
      "text/plain": [
       "<Figure size 432x288 with 1 Axes>"
      ],
      "image/svg+xml": "<?xml version=\"1.0\" encoding=\"utf-8\" standalone=\"no\"?>\r\n<!DOCTYPE svg PUBLIC \"-//W3C//DTD SVG 1.1//EN\"\r\n  \"http://www.w3.org/Graphics/SVG/1.1/DTD/svg11.dtd\">\r\n<svg height=\"259.715937pt\" version=\"1.1\" viewBox=\"0 0 377.304688 259.715937\" width=\"377.304688pt\" xmlns=\"http://www.w3.org/2000/svg\" xmlns:xlink=\"http://www.w3.org/1999/xlink\">\r\n <metadata>\r\n  <rdf:RDF xmlns:cc=\"http://creativecommons.org/ns#\" xmlns:dc=\"http://purl.org/dc/elements/1.1/\" xmlns:rdf=\"http://www.w3.org/1999/02/22-rdf-syntax-ns#\">\r\n   <cc:Work>\r\n    <dc:type rdf:resource=\"http://purl.org/dc/dcmitype/StillImage\"/>\r\n    <dc:date>2021-08-19T12:14:29.359912</dc:date>\r\n    <dc:format>image/svg+xml</dc:format>\r\n    <dc:creator>\r\n     <cc:Agent>\r\n      <dc:title>Matplotlib v3.4.3, https://matplotlib.org/</dc:title>\r\n     </cc:Agent>\r\n    </dc:creator>\r\n   </cc:Work>\r\n  </rdf:RDF>\r\n </metadata>\r\n <defs>\r\n  <style type=\"text/css\">*{stroke-linecap:butt;stroke-linejoin:round;}</style>\r\n </defs>\r\n <g id=\"figure_1\">\r\n  <g id=\"patch_1\">\r\n   <path d=\"M 0 259.715937 \r\nL 377.304688 259.715937 \r\nL 377.304688 0 \r\nL 0 0 \r\nz\r\n\" style=\"fill:none;\"/>\r\n  </g>\r\n  <g id=\"axes_1\">\r\n   <g id=\"patch_2\">\r\n    <path d=\"M 35.304688 224.64 \r\nL 370.104688 224.64 \r\nL 370.104688 7.2 \r\nL 35.304688 7.2 \r\nz\r\n\" style=\"fill:#ffffff;\"/>\r\n   </g>\r\n   <g id=\"matplotlib.axis_1\">\r\n    <g id=\"xtick_1\">\r\n     <g id=\"line2d_1\">\r\n      <defs>\r\n       <path d=\"M 0 0 \r\nL 0 3.5 \r\n\" id=\"meaef236c05\" style=\"stroke:#000000;stroke-width:0.8;\"/>\r\n      </defs>\r\n      <g>\r\n       <use style=\"stroke:#000000;stroke-width:0.8;\" x=\"35.304688\" xlink:href=\"#meaef236c05\" y=\"224.64\"/>\r\n      </g>\r\n     </g>\r\n     <g id=\"text_1\">\r\n      <!-- Jan -->\r\n      <g transform=\"translate(27.596875 239.238438)scale(0.1 -0.1)\">\r\n       <defs>\r\n        <path d=\"M 628 4666 \r\nL 1259 4666 \r\nL 1259 325 \r\nQ 1259 -519 939 -900 \r\nQ 619 -1281 -91 -1281 \r\nL -331 -1281 \r\nL -331 -750 \r\nL -134 -750 \r\nQ 284 -750 456 -515 \r\nQ 628 -281 628 325 \r\nL 628 4666 \r\nz\r\n\" id=\"DejaVuSans-4a\" transform=\"scale(0.015625)\"/>\r\n        <path d=\"M 2194 1759 \r\nQ 1497 1759 1228 1600 \r\nQ 959 1441 959 1056 \r\nQ 959 750 1161 570 \r\nQ 1363 391 1709 391 \r\nQ 2188 391 2477 730 \r\nQ 2766 1069 2766 1631 \r\nL 2766 1759 \r\nL 2194 1759 \r\nz\r\nM 3341 1997 \r\nL 3341 0 \r\nL 2766 0 \r\nL 2766 531 \r\nQ 2569 213 2275 61 \r\nQ 1981 -91 1556 -91 \r\nQ 1019 -91 701 211 \r\nQ 384 513 384 1019 \r\nQ 384 1609 779 1909 \r\nQ 1175 2209 1959 2209 \r\nL 2766 2209 \r\nL 2766 2266 \r\nQ 2766 2663 2505 2880 \r\nQ 2244 3097 1772 3097 \r\nQ 1472 3097 1187 3025 \r\nQ 903 2953 641 2809 \r\nL 641 3341 \r\nQ 956 3463 1253 3523 \r\nQ 1550 3584 1831 3584 \r\nQ 2591 3584 2966 3190 \r\nQ 3341 2797 3341 1997 \r\nz\r\n\" id=\"DejaVuSans-61\" transform=\"scale(0.015625)\"/>\r\n        <path d=\"M 3513 2113 \r\nL 3513 0 \r\nL 2938 0 \r\nL 2938 2094 \r\nQ 2938 2591 2744 2837 \r\nQ 2550 3084 2163 3084 \r\nQ 1697 3084 1428 2787 \r\nQ 1159 2491 1159 1978 \r\nL 1159 0 \r\nL 581 0 \r\nL 581 3500 \r\nL 1159 3500 \r\nL 1159 2956 \r\nQ 1366 3272 1645 3428 \r\nQ 1925 3584 2291 3584 \r\nQ 2894 3584 3203 3211 \r\nQ 3513 2838 3513 2113 \r\nz\r\n\" id=\"DejaVuSans-6e\" transform=\"scale(0.015625)\"/>\r\n       </defs>\r\n       <use xlink:href=\"#DejaVuSans-4a\"/>\r\n       <use x=\"29.492188\" xlink:href=\"#DejaVuSans-61\"/>\r\n       <use x=\"90.771484\" xlink:href=\"#DejaVuSans-6e\"/>\r\n      </g>\r\n      <!-- 2017 -->\r\n      <g transform=\"translate(22.579688 250.43625)scale(0.1 -0.1)\">\r\n       <defs>\r\n        <path d=\"M 1228 531 \r\nL 3431 531 \r\nL 3431 0 \r\nL 469 0 \r\nL 469 531 \r\nQ 828 903 1448 1529 \r\nQ 2069 2156 2228 2338 \r\nQ 2531 2678 2651 2914 \r\nQ 2772 3150 2772 3378 \r\nQ 2772 3750 2511 3984 \r\nQ 2250 4219 1831 4219 \r\nQ 1534 4219 1204 4116 \r\nQ 875 4013 500 3803 \r\nL 500 4441 \r\nQ 881 4594 1212 4672 \r\nQ 1544 4750 1819 4750 \r\nQ 2544 4750 2975 4387 \r\nQ 3406 4025 3406 3419 \r\nQ 3406 3131 3298 2873 \r\nQ 3191 2616 2906 2266 \r\nQ 2828 2175 2409 1742 \r\nQ 1991 1309 1228 531 \r\nz\r\n\" id=\"DejaVuSans-32\" transform=\"scale(0.015625)\"/>\r\n        <path d=\"M 2034 4250 \r\nQ 1547 4250 1301 3770 \r\nQ 1056 3291 1056 2328 \r\nQ 1056 1369 1301 889 \r\nQ 1547 409 2034 409 \r\nQ 2525 409 2770 889 \r\nQ 3016 1369 3016 2328 \r\nQ 3016 3291 2770 3770 \r\nQ 2525 4250 2034 4250 \r\nz\r\nM 2034 4750 \r\nQ 2819 4750 3233 4129 \r\nQ 3647 3509 3647 2328 \r\nQ 3647 1150 3233 529 \r\nQ 2819 -91 2034 -91 \r\nQ 1250 -91 836 529 \r\nQ 422 1150 422 2328 \r\nQ 422 3509 836 4129 \r\nQ 1250 4750 2034 4750 \r\nz\r\n\" id=\"DejaVuSans-30\" transform=\"scale(0.015625)\"/>\r\n        <path d=\"M 794 531 \r\nL 1825 531 \r\nL 1825 4091 \r\nL 703 3866 \r\nL 703 4441 \r\nL 1819 4666 \r\nL 2450 4666 \r\nL 2450 531 \r\nL 3481 531 \r\nL 3481 0 \r\nL 794 0 \r\nL 794 531 \r\nz\r\n\" id=\"DejaVuSans-31\" transform=\"scale(0.015625)\"/>\r\n        <path d=\"M 525 4666 \r\nL 3525 4666 \r\nL 3525 4397 \r\nL 1831 0 \r\nL 1172 0 \r\nL 2766 4134 \r\nL 525 4134 \r\nL 525 4666 \r\nz\r\n\" id=\"DejaVuSans-37\" transform=\"scale(0.015625)\"/>\r\n       </defs>\r\n       <use xlink:href=\"#DejaVuSans-32\"/>\r\n       <use x=\"63.623047\" xlink:href=\"#DejaVuSans-30\"/>\r\n       <use x=\"127.246094\" xlink:href=\"#DejaVuSans-31\"/>\r\n       <use x=\"190.869141\" xlink:href=\"#DejaVuSans-37\"/>\r\n      </g>\r\n     </g>\r\n    </g>\r\n    <g id=\"xtick_2\">\r\n     <g id=\"line2d_2\">\r\n      <g>\r\n       <use style=\"stroke:#000000;stroke-width:0.8;\" x=\"63.817874\" xlink:href=\"#meaef236c05\" y=\"224.64\"/>\r\n      </g>\r\n     </g>\r\n     <g id=\"text_2\">\r\n      <!-- Feb -->\r\n      <g transform=\"translate(54.966312 239.238438)scale(0.1 -0.1)\">\r\n       <defs>\r\n        <path d=\"M 628 4666 \r\nL 3309 4666 \r\nL 3309 4134 \r\nL 1259 4134 \r\nL 1259 2759 \r\nL 3109 2759 \r\nL 3109 2228 \r\nL 1259 2228 \r\nL 1259 0 \r\nL 628 0 \r\nL 628 4666 \r\nz\r\n\" id=\"DejaVuSans-46\" transform=\"scale(0.015625)\"/>\r\n        <path d=\"M 3597 1894 \r\nL 3597 1613 \r\nL 953 1613 \r\nQ 991 1019 1311 708 \r\nQ 1631 397 2203 397 \r\nQ 2534 397 2845 478 \r\nQ 3156 559 3463 722 \r\nL 3463 178 \r\nQ 3153 47 2828 -22 \r\nQ 2503 -91 2169 -91 \r\nQ 1331 -91 842 396 \r\nQ 353 884 353 1716 \r\nQ 353 2575 817 3079 \r\nQ 1281 3584 2069 3584 \r\nQ 2775 3584 3186 3129 \r\nQ 3597 2675 3597 1894 \r\nz\r\nM 3022 2063 \r\nQ 3016 2534 2758 2815 \r\nQ 2500 3097 2075 3097 \r\nQ 1594 3097 1305 2825 \r\nQ 1016 2553 972 2059 \r\nL 3022 2063 \r\nz\r\n\" id=\"DejaVuSans-65\" transform=\"scale(0.015625)\"/>\r\n        <path d=\"M 3116 1747 \r\nQ 3116 2381 2855 2742 \r\nQ 2594 3103 2138 3103 \r\nQ 1681 3103 1420 2742 \r\nQ 1159 2381 1159 1747 \r\nQ 1159 1113 1420 752 \r\nQ 1681 391 2138 391 \r\nQ 2594 391 2855 752 \r\nQ 3116 1113 3116 1747 \r\nz\r\nM 1159 2969 \r\nQ 1341 3281 1617 3432 \r\nQ 1894 3584 2278 3584 \r\nQ 2916 3584 3314 3078 \r\nQ 3713 2572 3713 1747 \r\nQ 3713 922 3314 415 \r\nQ 2916 -91 2278 -91 \r\nQ 1894 -91 1617 61 \r\nQ 1341 213 1159 525 \r\nL 1159 0 \r\nL 581 0 \r\nL 581 4863 \r\nL 1159 4863 \r\nL 1159 2969 \r\nz\r\n\" id=\"DejaVuSans-62\" transform=\"scale(0.015625)\"/>\r\n       </defs>\r\n       <use xlink:href=\"#DejaVuSans-46\"/>\r\n       <use x=\"52.019531\" xlink:href=\"#DejaVuSans-65\"/>\r\n       <use x=\"113.542969\" xlink:href=\"#DejaVuSans-62\"/>\r\n      </g>\r\n     </g>\r\n    </g>\r\n    <g id=\"xtick_3\">\r\n     <g id=\"line2d_3\">\r\n      <g>\r\n       <use style=\"stroke:#000000;stroke-width:0.8;\" x=\"89.57172\" xlink:href=\"#meaef236c05\" y=\"224.64\"/>\r\n      </g>\r\n     </g>\r\n     <g id=\"text_3\">\r\n      <!-- Mar -->\r\n      <g transform=\"translate(80.138127 239.238438)scale(0.1 -0.1)\">\r\n       <defs>\r\n        <path d=\"M 628 4666 \r\nL 1569 4666 \r\nL 2759 1491 \r\nL 3956 4666 \r\nL 4897 4666 \r\nL 4897 0 \r\nL 4281 0 \r\nL 4281 4097 \r\nL 3078 897 \r\nL 2444 897 \r\nL 1241 4097 \r\nL 1241 0 \r\nL 628 0 \r\nL 628 4666 \r\nz\r\n\" id=\"DejaVuSans-4d\" transform=\"scale(0.015625)\"/>\r\n        <path d=\"M 2631 2963 \r\nQ 2534 3019 2420 3045 \r\nQ 2306 3072 2169 3072 \r\nQ 1681 3072 1420 2755 \r\nQ 1159 2438 1159 1844 \r\nL 1159 0 \r\nL 581 0 \r\nL 581 3500 \r\nL 1159 3500 \r\nL 1159 2956 \r\nQ 1341 3275 1631 3429 \r\nQ 1922 3584 2338 3584 \r\nQ 2397 3584 2469 3576 \r\nQ 2541 3569 2628 3553 \r\nL 2631 2963 \r\nz\r\n\" id=\"DejaVuSans-72\" transform=\"scale(0.015625)\"/>\r\n       </defs>\r\n       <use xlink:href=\"#DejaVuSans-4d\"/>\r\n       <use x=\"86.279297\" xlink:href=\"#DejaVuSans-61\"/>\r\n       <use x=\"147.558594\" xlink:href=\"#DejaVuSans-72\"/>\r\n      </g>\r\n     </g>\r\n    </g>\r\n    <g id=\"xtick_4\">\r\n     <g id=\"line2d_4\">\r\n      <g>\r\n       <use style=\"stroke:#000000;stroke-width:0.8;\" x=\"118.084907\" xlink:href=\"#meaef236c05\" y=\"224.64\"/>\r\n      </g>\r\n     </g>\r\n     <g id=\"text_4\">\r\n      <!-- Apr -->\r\n      <g transform=\"translate(109.434907 239.238438)scale(0.1 -0.1)\">\r\n       <defs>\r\n        <path d=\"M 2188 4044 \r\nL 1331 1722 \r\nL 3047 1722 \r\nL 2188 4044 \r\nz\r\nM 1831 4666 \r\nL 2547 4666 \r\nL 4325 0 \r\nL 3669 0 \r\nL 3244 1197 \r\nL 1141 1197 \r\nL 716 0 \r\nL 50 0 \r\nL 1831 4666 \r\nz\r\n\" id=\"DejaVuSans-41\" transform=\"scale(0.015625)\"/>\r\n        <path d=\"M 1159 525 \r\nL 1159 -1331 \r\nL 581 -1331 \r\nL 581 3500 \r\nL 1159 3500 \r\nL 1159 2969 \r\nQ 1341 3281 1617 3432 \r\nQ 1894 3584 2278 3584 \r\nQ 2916 3584 3314 3078 \r\nQ 3713 2572 3713 1747 \r\nQ 3713 922 3314 415 \r\nQ 2916 -91 2278 -91 \r\nQ 1894 -91 1617 61 \r\nQ 1341 213 1159 525 \r\nz\r\nM 3116 1747 \r\nQ 3116 2381 2855 2742 \r\nQ 2594 3103 2138 3103 \r\nQ 1681 3103 1420 2742 \r\nQ 1159 2381 1159 1747 \r\nQ 1159 1113 1420 752 \r\nQ 1681 391 2138 391 \r\nQ 2594 391 2855 752 \r\nQ 3116 1113 3116 1747 \r\nz\r\n\" id=\"DejaVuSans-70\" transform=\"scale(0.015625)\"/>\r\n       </defs>\r\n       <use xlink:href=\"#DejaVuSans-41\"/>\r\n       <use x=\"68.408203\" xlink:href=\"#DejaVuSans-70\"/>\r\n       <use x=\"131.884766\" xlink:href=\"#DejaVuSans-72\"/>\r\n      </g>\r\n     </g>\r\n    </g>\r\n    <g id=\"xtick_5\">\r\n     <g id=\"line2d_5\">\r\n      <g>\r\n       <use style=\"stroke:#000000;stroke-width:0.8;\" x=\"145.678314\" xlink:href=\"#meaef236c05\" y=\"224.64\"/>\r\n      </g>\r\n     </g>\r\n     <g id=\"text_5\">\r\n      <!-- May -->\r\n      <g transform=\"translate(135.340814 239.238438)scale(0.1 -0.1)\">\r\n       <defs>\r\n        <path d=\"M 2059 -325 \r\nQ 1816 -950 1584 -1140 \r\nQ 1353 -1331 966 -1331 \r\nL 506 -1331 \r\nL 506 -850 \r\nL 844 -850 \r\nQ 1081 -850 1212 -737 \r\nQ 1344 -625 1503 -206 \r\nL 1606 56 \r\nL 191 3500 \r\nL 800 3500 \r\nL 1894 763 \r\nL 2988 3500 \r\nL 3597 3500 \r\nL 2059 -325 \r\nz\r\n\" id=\"DejaVuSans-79\" transform=\"scale(0.015625)\"/>\r\n       </defs>\r\n       <use xlink:href=\"#DejaVuSans-4d\"/>\r\n       <use x=\"86.279297\" xlink:href=\"#DejaVuSans-61\"/>\r\n       <use x=\"147.558594\" xlink:href=\"#DejaVuSans-79\"/>\r\n      </g>\r\n     </g>\r\n    </g>\r\n    <g id=\"xtick_6\">\r\n     <g id=\"line2d_6\">\r\n      <g>\r\n       <use style=\"stroke:#000000;stroke-width:0.8;\" x=\"174.191501\" xlink:href=\"#meaef236c05\" y=\"224.64\"/>\r\n      </g>\r\n     </g>\r\n     <g id=\"text_6\">\r\n      <!-- Jun -->\r\n      <g transform=\"translate(166.379001 239.238438)scale(0.1 -0.1)\">\r\n       <defs>\r\n        <path d=\"M 544 1381 \r\nL 544 3500 \r\nL 1119 3500 \r\nL 1119 1403 \r\nQ 1119 906 1312 657 \r\nQ 1506 409 1894 409 \r\nQ 2359 409 2629 706 \r\nQ 2900 1003 2900 1516 \r\nL 2900 3500 \r\nL 3475 3500 \r\nL 3475 0 \r\nL 2900 0 \r\nL 2900 538 \r\nQ 2691 219 2414 64 \r\nQ 2138 -91 1772 -91 \r\nQ 1169 -91 856 284 \r\nQ 544 659 544 1381 \r\nz\r\nM 1991 3584 \r\nL 1991 3584 \r\nz\r\n\" id=\"DejaVuSans-75\" transform=\"scale(0.015625)\"/>\r\n       </defs>\r\n       <use xlink:href=\"#DejaVuSans-4a\"/>\r\n       <use x=\"29.492188\" xlink:href=\"#DejaVuSans-75\"/>\r\n       <use x=\"92.871094\" xlink:href=\"#DejaVuSans-6e\"/>\r\n      </g>\r\n     </g>\r\n    </g>\r\n    <g id=\"xtick_7\">\r\n     <g id=\"line2d_7\">\r\n      <g>\r\n       <use style=\"stroke:#000000;stroke-width:0.8;\" x=\"201.784907\" xlink:href=\"#meaef236c05\" y=\"224.64\"/>\r\n      </g>\r\n     </g>\r\n     <g id=\"text_7\">\r\n      <!-- Jul -->\r\n      <g transform=\"translate(195.752095 239.238438)scale(0.1 -0.1)\">\r\n       <defs>\r\n        <path d=\"M 603 4863 \r\nL 1178 4863 \r\nL 1178 0 \r\nL 603 0 \r\nL 603 4863 \r\nz\r\n\" id=\"DejaVuSans-6c\" transform=\"scale(0.015625)\"/>\r\n       </defs>\r\n       <use xlink:href=\"#DejaVuSans-4a\"/>\r\n       <use x=\"29.492188\" xlink:href=\"#DejaVuSans-75\"/>\r\n       <use x=\"92.871094\" xlink:href=\"#DejaVuSans-6c\"/>\r\n      </g>\r\n     </g>\r\n    </g>\r\n    <g id=\"xtick_8\">\r\n     <g id=\"line2d_8\">\r\n      <g>\r\n       <use style=\"stroke:#000000;stroke-width:0.8;\" x=\"230.298094\" xlink:href=\"#meaef236c05\" y=\"224.64\"/>\r\n      </g>\r\n     </g>\r\n     <g id=\"text_8\">\r\n      <!-- Aug -->\r\n      <g transform=\"translate(220.534813 239.238438)scale(0.1 -0.1)\">\r\n       <defs>\r\n        <path d=\"M 2906 1791 \r\nQ 2906 2416 2648 2759 \r\nQ 2391 3103 1925 3103 \r\nQ 1463 3103 1205 2759 \r\nQ 947 2416 947 1791 \r\nQ 947 1169 1205 825 \r\nQ 1463 481 1925 481 \r\nQ 2391 481 2648 825 \r\nQ 2906 1169 2906 1791 \r\nz\r\nM 3481 434 \r\nQ 3481 -459 3084 -895 \r\nQ 2688 -1331 1869 -1331 \r\nQ 1566 -1331 1297 -1286 \r\nQ 1028 -1241 775 -1147 \r\nL 775 -588 \r\nQ 1028 -725 1275 -790 \r\nQ 1522 -856 1778 -856 \r\nQ 2344 -856 2625 -561 \r\nQ 2906 -266 2906 331 \r\nL 2906 616 \r\nQ 2728 306 2450 153 \r\nQ 2172 0 1784 0 \r\nQ 1141 0 747 490 \r\nQ 353 981 353 1791 \r\nQ 353 2603 747 3093 \r\nQ 1141 3584 1784 3584 \r\nQ 2172 3584 2450 3431 \r\nQ 2728 3278 2906 2969 \r\nL 2906 3500 \r\nL 3481 3500 \r\nL 3481 434 \r\nz\r\n\" id=\"DejaVuSans-67\" transform=\"scale(0.015625)\"/>\r\n       </defs>\r\n       <use xlink:href=\"#DejaVuSans-41\"/>\r\n       <use x=\"68.408203\" xlink:href=\"#DejaVuSans-75\"/>\r\n       <use x=\"131.787109\" xlink:href=\"#DejaVuSans-67\"/>\r\n      </g>\r\n     </g>\r\n    </g>\r\n    <g id=\"xtick_9\">\r\n     <g id=\"line2d_9\">\r\n      <g>\r\n       <use style=\"stroke:#000000;stroke-width:0.8;\" x=\"258.811281\" xlink:href=\"#meaef236c05\" y=\"224.64\"/>\r\n      </g>\r\n     </g>\r\n     <g id=\"text_9\">\r\n      <!-- Sep -->\r\n      <g transform=\"translate(249.386281 239.238438)scale(0.1 -0.1)\">\r\n       <defs>\r\n        <path d=\"M 3425 4513 \r\nL 3425 3897 \r\nQ 3066 4069 2747 4153 \r\nQ 2428 4238 2131 4238 \r\nQ 1616 4238 1336 4038 \r\nQ 1056 3838 1056 3469 \r\nQ 1056 3159 1242 3001 \r\nQ 1428 2844 1947 2747 \r\nL 2328 2669 \r\nQ 3034 2534 3370 2195 \r\nQ 3706 1856 3706 1288 \r\nQ 3706 609 3251 259 \r\nQ 2797 -91 1919 -91 \r\nQ 1588 -91 1214 -16 \r\nQ 841 59 441 206 \r\nL 441 856 \r\nQ 825 641 1194 531 \r\nQ 1563 422 1919 422 \r\nQ 2459 422 2753 634 \r\nQ 3047 847 3047 1241 \r\nQ 3047 1584 2836 1778 \r\nQ 2625 1972 2144 2069 \r\nL 1759 2144 \r\nQ 1053 2284 737 2584 \r\nQ 422 2884 422 3419 \r\nQ 422 4038 858 4394 \r\nQ 1294 4750 2059 4750 \r\nQ 2388 4750 2728 4690 \r\nQ 3069 4631 3425 4513 \r\nz\r\n\" id=\"DejaVuSans-53\" transform=\"scale(0.015625)\"/>\r\n       </defs>\r\n       <use xlink:href=\"#DejaVuSans-53\"/>\r\n       <use x=\"63.476562\" xlink:href=\"#DejaVuSans-65\"/>\r\n       <use x=\"125\" xlink:href=\"#DejaVuSans-70\"/>\r\n      </g>\r\n     </g>\r\n    </g>\r\n    <g id=\"xtick_10\">\r\n     <g id=\"line2d_10\">\r\n      <g>\r\n       <use style=\"stroke:#000000;stroke-width:0.8;\" x=\"286.404688\" xlink:href=\"#meaef236c05\" y=\"224.64\"/>\r\n      </g>\r\n     </g>\r\n     <g id=\"text_10\">\r\n      <!-- Oct -->\r\n      <g transform=\"translate(277.759375 239.238438)scale(0.1 -0.1)\">\r\n       <defs>\r\n        <path d=\"M 2522 4238 \r\nQ 1834 4238 1429 3725 \r\nQ 1025 3213 1025 2328 \r\nQ 1025 1447 1429 934 \r\nQ 1834 422 2522 422 \r\nQ 3209 422 3611 934 \r\nQ 4013 1447 4013 2328 \r\nQ 4013 3213 3611 3725 \r\nQ 3209 4238 2522 4238 \r\nz\r\nM 2522 4750 \r\nQ 3503 4750 4090 4092 \r\nQ 4678 3434 4678 2328 \r\nQ 4678 1225 4090 567 \r\nQ 3503 -91 2522 -91 \r\nQ 1538 -91 948 565 \r\nQ 359 1222 359 2328 \r\nQ 359 3434 948 4092 \r\nQ 1538 4750 2522 4750 \r\nz\r\n\" id=\"DejaVuSans-4f\" transform=\"scale(0.015625)\"/>\r\n        <path d=\"M 3122 3366 \r\nL 3122 2828 \r\nQ 2878 2963 2633 3030 \r\nQ 2388 3097 2138 3097 \r\nQ 1578 3097 1268 2742 \r\nQ 959 2388 959 1747 \r\nQ 959 1106 1268 751 \r\nQ 1578 397 2138 397 \r\nQ 2388 397 2633 464 \r\nQ 2878 531 3122 666 \r\nL 3122 134 \r\nQ 2881 22 2623 -34 \r\nQ 2366 -91 2075 -91 \r\nQ 1284 -91 818 406 \r\nQ 353 903 353 1747 \r\nQ 353 2603 823 3093 \r\nQ 1294 3584 2113 3584 \r\nQ 2378 3584 2631 3529 \r\nQ 2884 3475 3122 3366 \r\nz\r\n\" id=\"DejaVuSans-63\" transform=\"scale(0.015625)\"/>\r\n        <path d=\"M 1172 4494 \r\nL 1172 3500 \r\nL 2356 3500 \r\nL 2356 3053 \r\nL 1172 3053 \r\nL 1172 1153 \r\nQ 1172 725 1289 603 \r\nQ 1406 481 1766 481 \r\nL 2356 481 \r\nL 2356 0 \r\nL 1766 0 \r\nQ 1100 0 847 248 \r\nQ 594 497 594 1153 \r\nL 594 3053 \r\nL 172 3053 \r\nL 172 3500 \r\nL 594 3500 \r\nL 594 4494 \r\nL 1172 4494 \r\nz\r\n\" id=\"DejaVuSans-74\" transform=\"scale(0.015625)\"/>\r\n       </defs>\r\n       <use xlink:href=\"#DejaVuSans-4f\"/>\r\n       <use x=\"78.710938\" xlink:href=\"#DejaVuSans-63\"/>\r\n       <use x=\"133.691406\" xlink:href=\"#DejaVuSans-74\"/>\r\n      </g>\r\n     </g>\r\n    </g>\r\n    <g id=\"xtick_11\">\r\n     <g id=\"line2d_11\">\r\n      <g>\r\n       <use style=\"stroke:#000000;stroke-width:0.8;\" x=\"314.917874\" xlink:href=\"#meaef236c05\" y=\"224.64\"/>\r\n      </g>\r\n     </g>\r\n     <g id=\"text_11\">\r\n      <!-- Nov -->\r\n      <g transform=\"translate(305.158499 239.238438)scale(0.1 -0.1)\">\r\n       <defs>\r\n        <path d=\"M 628 4666 \r\nL 1478 4666 \r\nL 3547 763 \r\nL 3547 4666 \r\nL 4159 4666 \r\nL 4159 0 \r\nL 3309 0 \r\nL 1241 3903 \r\nL 1241 0 \r\nL 628 0 \r\nL 628 4666 \r\nz\r\n\" id=\"DejaVuSans-4e\" transform=\"scale(0.015625)\"/>\r\n        <path d=\"M 1959 3097 \r\nQ 1497 3097 1228 2736 \r\nQ 959 2375 959 1747 \r\nQ 959 1119 1226 758 \r\nQ 1494 397 1959 397 \r\nQ 2419 397 2687 759 \r\nQ 2956 1122 2956 1747 \r\nQ 2956 2369 2687 2733 \r\nQ 2419 3097 1959 3097 \r\nz\r\nM 1959 3584 \r\nQ 2709 3584 3137 3096 \r\nQ 3566 2609 3566 1747 \r\nQ 3566 888 3137 398 \r\nQ 2709 -91 1959 -91 \r\nQ 1206 -91 779 398 \r\nQ 353 888 353 1747 \r\nQ 353 2609 779 3096 \r\nQ 1206 3584 1959 3584 \r\nz\r\n\" id=\"DejaVuSans-6f\" transform=\"scale(0.015625)\"/>\r\n        <path d=\"M 191 3500 \r\nL 800 3500 \r\nL 1894 563 \r\nL 2988 3500 \r\nL 3597 3500 \r\nL 2284 0 \r\nL 1503 0 \r\nL 191 3500 \r\nz\r\n\" id=\"DejaVuSans-76\" transform=\"scale(0.015625)\"/>\r\n       </defs>\r\n       <use xlink:href=\"#DejaVuSans-4e\"/>\r\n       <use x=\"74.804688\" xlink:href=\"#DejaVuSans-6f\"/>\r\n       <use x=\"135.986328\" xlink:href=\"#DejaVuSans-76\"/>\r\n      </g>\r\n     </g>\r\n    </g>\r\n    <g id=\"xtick_12\">\r\n     <g id=\"line2d_12\">\r\n      <g>\r\n       <use style=\"stroke:#000000;stroke-width:0.8;\" x=\"342.511281\" xlink:href=\"#meaef236c05\" y=\"224.64\"/>\r\n      </g>\r\n     </g>\r\n     <g id=\"text_12\">\r\n      <!-- Dec -->\r\n      <g transform=\"translate(332.8355 239.238438)scale(0.1 -0.1)\">\r\n       <defs>\r\n        <path d=\"M 1259 4147 \r\nL 1259 519 \r\nL 2022 519 \r\nQ 2988 519 3436 956 \r\nQ 3884 1394 3884 2338 \r\nQ 3884 3275 3436 3711 \r\nQ 2988 4147 2022 4147 \r\nL 1259 4147 \r\nz\r\nM 628 4666 \r\nL 1925 4666 \r\nQ 3281 4666 3915 4102 \r\nQ 4550 3538 4550 2338 \r\nQ 4550 1131 3912 565 \r\nQ 3275 0 1925 0 \r\nL 628 0 \r\nL 628 4666 \r\nz\r\n\" id=\"DejaVuSans-44\" transform=\"scale(0.015625)\"/>\r\n       </defs>\r\n       <use xlink:href=\"#DejaVuSans-44\"/>\r\n       <use x=\"77.001953\" xlink:href=\"#DejaVuSans-65\"/>\r\n       <use x=\"138.525391\" xlink:href=\"#DejaVuSans-63\"/>\r\n      </g>\r\n     </g>\r\n    </g>\r\n    <g id=\"xtick_13\">\r\n     <g id=\"line2d_13\">\r\n      <g>\r\n       <use style=\"stroke:#000000;stroke-width:0.8;\" x=\"370.104688\" xlink:href=\"#meaef236c05\" y=\"224.64\"/>\r\n      </g>\r\n     </g>\r\n    </g>\r\n    <g id=\"xtick_14\">\r\n     <g id=\"line2d_14\">\r\n      <defs>\r\n       <path d=\"M 0 0 \r\nL 0 2 \r\n\" id=\"m47fa7350ad\" style=\"stroke:#000000;stroke-width:0.6;\"/>\r\n      </defs>\r\n      <g>\r\n       <use style=\"stroke:#000000;stroke-width:0.6;\" x=\"36.224468\" xlink:href=\"#m47fa7350ad\" y=\"224.64\"/>\r\n      </g>\r\n     </g>\r\n    </g>\r\n    <g id=\"xtick_15\">\r\n     <g id=\"line2d_15\">\r\n      <g>\r\n       <use style=\"stroke:#000000;stroke-width:0.6;\" x=\"42.662929\" xlink:href=\"#m47fa7350ad\" y=\"224.64\"/>\r\n      </g>\r\n     </g>\r\n    </g>\r\n    <g id=\"xtick_16\">\r\n     <g id=\"line2d_16\">\r\n      <g>\r\n       <use style=\"stroke:#000000;stroke-width:0.6;\" x=\"49.101391\" xlink:href=\"#m47fa7350ad\" y=\"224.64\"/>\r\n      </g>\r\n     </g>\r\n    </g>\r\n    <g id=\"xtick_17\">\r\n     <g id=\"line2d_17\">\r\n      <g>\r\n       <use style=\"stroke:#000000;stroke-width:0.6;\" x=\"55.539852\" xlink:href=\"#m47fa7350ad\" y=\"224.64\"/>\r\n      </g>\r\n     </g>\r\n    </g>\r\n    <g id=\"xtick_18\">\r\n     <g id=\"line2d_18\">\r\n      <g>\r\n       <use style=\"stroke:#000000;stroke-width:0.6;\" x=\"61.978314\" xlink:href=\"#m47fa7350ad\" y=\"224.64\"/>\r\n      </g>\r\n     </g>\r\n    </g>\r\n    <g id=\"xtick_19\">\r\n     <g id=\"line2d_19\">\r\n      <g>\r\n       <use style=\"stroke:#000000;stroke-width:0.6;\" x=\"68.416775\" xlink:href=\"#m47fa7350ad\" y=\"224.64\"/>\r\n      </g>\r\n     </g>\r\n    </g>\r\n    <g id=\"xtick_20\">\r\n     <g id=\"line2d_20\">\r\n      <g>\r\n       <use style=\"stroke:#000000;stroke-width:0.6;\" x=\"74.855237\" xlink:href=\"#m47fa7350ad\" y=\"224.64\"/>\r\n      </g>\r\n     </g>\r\n    </g>\r\n    <g id=\"xtick_21\">\r\n     <g id=\"line2d_21\">\r\n      <g>\r\n       <use style=\"stroke:#000000;stroke-width:0.6;\" x=\"81.293698\" xlink:href=\"#m47fa7350ad\" y=\"224.64\"/>\r\n      </g>\r\n     </g>\r\n    </g>\r\n    <g id=\"xtick_22\">\r\n     <g id=\"line2d_22\">\r\n      <g>\r\n       <use style=\"stroke:#000000;stroke-width:0.6;\" x=\"87.73216\" xlink:href=\"#m47fa7350ad\" y=\"224.64\"/>\r\n      </g>\r\n     </g>\r\n    </g>\r\n    <g id=\"xtick_23\">\r\n     <g id=\"line2d_23\">\r\n      <g>\r\n       <use style=\"stroke:#000000;stroke-width:0.6;\" x=\"94.170622\" xlink:href=\"#m47fa7350ad\" y=\"224.64\"/>\r\n      </g>\r\n     </g>\r\n    </g>\r\n    <g id=\"xtick_24\">\r\n     <g id=\"line2d_24\">\r\n      <g>\r\n       <use style=\"stroke:#000000;stroke-width:0.6;\" x=\"100.609083\" xlink:href=\"#m47fa7350ad\" y=\"224.64\"/>\r\n      </g>\r\n     </g>\r\n    </g>\r\n    <g id=\"xtick_25\">\r\n     <g id=\"line2d_25\">\r\n      <g>\r\n       <use style=\"stroke:#000000;stroke-width:0.6;\" x=\"107.047545\" xlink:href=\"#m47fa7350ad\" y=\"224.64\"/>\r\n      </g>\r\n     </g>\r\n    </g>\r\n    <g id=\"xtick_26\">\r\n     <g id=\"line2d_26\">\r\n      <g>\r\n       <use style=\"stroke:#000000;stroke-width:0.6;\" x=\"113.486006\" xlink:href=\"#m47fa7350ad\" y=\"224.64\"/>\r\n      </g>\r\n     </g>\r\n    </g>\r\n    <g id=\"xtick_27\">\r\n     <g id=\"line2d_27\">\r\n      <g>\r\n       <use style=\"stroke:#000000;stroke-width:0.6;\" x=\"119.924468\" xlink:href=\"#m47fa7350ad\" y=\"224.64\"/>\r\n      </g>\r\n     </g>\r\n    </g>\r\n    <g id=\"xtick_28\">\r\n     <g id=\"line2d_28\">\r\n      <g>\r\n       <use style=\"stroke:#000000;stroke-width:0.6;\" x=\"126.362929\" xlink:href=\"#m47fa7350ad\" y=\"224.64\"/>\r\n      </g>\r\n     </g>\r\n    </g>\r\n    <g id=\"xtick_29\">\r\n     <g id=\"line2d_29\">\r\n      <g>\r\n       <use style=\"stroke:#000000;stroke-width:0.6;\" x=\"132.801391\" xlink:href=\"#m47fa7350ad\" y=\"224.64\"/>\r\n      </g>\r\n     </g>\r\n    </g>\r\n    <g id=\"xtick_30\">\r\n     <g id=\"line2d_30\">\r\n      <g>\r\n       <use style=\"stroke:#000000;stroke-width:0.6;\" x=\"139.239852\" xlink:href=\"#m47fa7350ad\" y=\"224.64\"/>\r\n      </g>\r\n     </g>\r\n    </g>\r\n    <g id=\"xtick_31\">\r\n     <g id=\"line2d_31\">\r\n      <g>\r\n       <use style=\"stroke:#000000;stroke-width:0.6;\" x=\"152.116775\" xlink:href=\"#m47fa7350ad\" y=\"224.64\"/>\r\n      </g>\r\n     </g>\r\n    </g>\r\n    <g id=\"xtick_32\">\r\n     <g id=\"line2d_32\">\r\n      <g>\r\n       <use style=\"stroke:#000000;stroke-width:0.6;\" x=\"158.555237\" xlink:href=\"#m47fa7350ad\" y=\"224.64\"/>\r\n      </g>\r\n     </g>\r\n    </g>\r\n    <g id=\"xtick_33\">\r\n     <g id=\"line2d_33\">\r\n      <g>\r\n       <use style=\"stroke:#000000;stroke-width:0.6;\" x=\"164.993698\" xlink:href=\"#m47fa7350ad\" y=\"224.64\"/>\r\n      </g>\r\n     </g>\r\n    </g>\r\n    <g id=\"xtick_34\">\r\n     <g id=\"line2d_34\">\r\n      <g>\r\n       <use style=\"stroke:#000000;stroke-width:0.6;\" x=\"171.43216\" xlink:href=\"#m47fa7350ad\" y=\"224.64\"/>\r\n      </g>\r\n     </g>\r\n    </g>\r\n    <g id=\"xtick_35\">\r\n     <g id=\"line2d_35\">\r\n      <g>\r\n       <use style=\"stroke:#000000;stroke-width:0.6;\" x=\"177.870622\" xlink:href=\"#m47fa7350ad\" y=\"224.64\"/>\r\n      </g>\r\n     </g>\r\n    </g>\r\n    <g id=\"xtick_36\">\r\n     <g id=\"line2d_36\">\r\n      <g>\r\n       <use style=\"stroke:#000000;stroke-width:0.6;\" x=\"184.309083\" xlink:href=\"#m47fa7350ad\" y=\"224.64\"/>\r\n      </g>\r\n     </g>\r\n    </g>\r\n    <g id=\"xtick_37\">\r\n     <g id=\"line2d_37\">\r\n      <g>\r\n       <use style=\"stroke:#000000;stroke-width:0.6;\" x=\"190.747545\" xlink:href=\"#m47fa7350ad\" y=\"224.64\"/>\r\n      </g>\r\n     </g>\r\n    </g>\r\n    <g id=\"xtick_38\">\r\n     <g id=\"line2d_38\">\r\n      <g>\r\n       <use style=\"stroke:#000000;stroke-width:0.6;\" x=\"197.186006\" xlink:href=\"#m47fa7350ad\" y=\"224.64\"/>\r\n      </g>\r\n     </g>\r\n    </g>\r\n    <g id=\"xtick_39\">\r\n     <g id=\"line2d_39\">\r\n      <g>\r\n       <use style=\"stroke:#000000;stroke-width:0.6;\" x=\"203.624468\" xlink:href=\"#m47fa7350ad\" y=\"224.64\"/>\r\n      </g>\r\n     </g>\r\n    </g>\r\n    <g id=\"xtick_40\">\r\n     <g id=\"line2d_40\">\r\n      <g>\r\n       <use style=\"stroke:#000000;stroke-width:0.6;\" x=\"210.062929\" xlink:href=\"#m47fa7350ad\" y=\"224.64\"/>\r\n      </g>\r\n     </g>\r\n    </g>\r\n    <g id=\"xtick_41\">\r\n     <g id=\"line2d_41\">\r\n      <g>\r\n       <use style=\"stroke:#000000;stroke-width:0.6;\" x=\"216.501391\" xlink:href=\"#m47fa7350ad\" y=\"224.64\"/>\r\n      </g>\r\n     </g>\r\n    </g>\r\n    <g id=\"xtick_42\">\r\n     <g id=\"line2d_42\">\r\n      <g>\r\n       <use style=\"stroke:#000000;stroke-width:0.6;\" x=\"222.939852\" xlink:href=\"#m47fa7350ad\" y=\"224.64\"/>\r\n      </g>\r\n     </g>\r\n    </g>\r\n    <g id=\"xtick_43\">\r\n     <g id=\"line2d_43\">\r\n      <g>\r\n       <use style=\"stroke:#000000;stroke-width:0.6;\" x=\"229.378314\" xlink:href=\"#m47fa7350ad\" y=\"224.64\"/>\r\n      </g>\r\n     </g>\r\n    </g>\r\n    <g id=\"xtick_44\">\r\n     <g id=\"line2d_44\">\r\n      <g>\r\n       <use style=\"stroke:#000000;stroke-width:0.6;\" x=\"235.816775\" xlink:href=\"#m47fa7350ad\" y=\"224.64\"/>\r\n      </g>\r\n     </g>\r\n    </g>\r\n    <g id=\"xtick_45\">\r\n     <g id=\"line2d_45\">\r\n      <g>\r\n       <use style=\"stroke:#000000;stroke-width:0.6;\" x=\"242.255237\" xlink:href=\"#m47fa7350ad\" y=\"224.64\"/>\r\n      </g>\r\n     </g>\r\n    </g>\r\n    <g id=\"xtick_46\">\r\n     <g id=\"line2d_46\">\r\n      <g>\r\n       <use style=\"stroke:#000000;stroke-width:0.6;\" x=\"248.693698\" xlink:href=\"#m47fa7350ad\" y=\"224.64\"/>\r\n      </g>\r\n     </g>\r\n    </g>\r\n    <g id=\"xtick_47\">\r\n     <g id=\"line2d_47\">\r\n      <g>\r\n       <use style=\"stroke:#000000;stroke-width:0.6;\" x=\"255.13216\" xlink:href=\"#m47fa7350ad\" y=\"224.64\"/>\r\n      </g>\r\n     </g>\r\n    </g>\r\n    <g id=\"xtick_48\">\r\n     <g id=\"line2d_48\">\r\n      <g>\r\n       <use style=\"stroke:#000000;stroke-width:0.6;\" x=\"261.570622\" xlink:href=\"#m47fa7350ad\" y=\"224.64\"/>\r\n      </g>\r\n     </g>\r\n    </g>\r\n    <g id=\"xtick_49\">\r\n     <g id=\"line2d_49\">\r\n      <g>\r\n       <use style=\"stroke:#000000;stroke-width:0.6;\" x=\"268.009083\" xlink:href=\"#m47fa7350ad\" y=\"224.64\"/>\r\n      </g>\r\n     </g>\r\n    </g>\r\n    <g id=\"xtick_50\">\r\n     <g id=\"line2d_50\">\r\n      <g>\r\n       <use style=\"stroke:#000000;stroke-width:0.6;\" x=\"274.447545\" xlink:href=\"#m47fa7350ad\" y=\"224.64\"/>\r\n      </g>\r\n     </g>\r\n    </g>\r\n    <g id=\"xtick_51\">\r\n     <g id=\"line2d_51\">\r\n      <g>\r\n       <use style=\"stroke:#000000;stroke-width:0.6;\" x=\"280.886006\" xlink:href=\"#m47fa7350ad\" y=\"224.64\"/>\r\n      </g>\r\n     </g>\r\n    </g>\r\n    <g id=\"xtick_52\">\r\n     <g id=\"line2d_52\">\r\n      <g>\r\n       <use style=\"stroke:#000000;stroke-width:0.6;\" x=\"287.324468\" xlink:href=\"#m47fa7350ad\" y=\"224.64\"/>\r\n      </g>\r\n     </g>\r\n    </g>\r\n    <g id=\"xtick_53\">\r\n     <g id=\"line2d_53\">\r\n      <g>\r\n       <use style=\"stroke:#000000;stroke-width:0.6;\" x=\"293.762929\" xlink:href=\"#m47fa7350ad\" y=\"224.64\"/>\r\n      </g>\r\n     </g>\r\n    </g>\r\n    <g id=\"xtick_54\">\r\n     <g id=\"line2d_54\">\r\n      <g>\r\n       <use style=\"stroke:#000000;stroke-width:0.6;\" x=\"300.201391\" xlink:href=\"#m47fa7350ad\" y=\"224.64\"/>\r\n      </g>\r\n     </g>\r\n    </g>\r\n    <g id=\"xtick_55\">\r\n     <g id=\"line2d_55\">\r\n      <g>\r\n       <use style=\"stroke:#000000;stroke-width:0.6;\" x=\"306.639852\" xlink:href=\"#m47fa7350ad\" y=\"224.64\"/>\r\n      </g>\r\n     </g>\r\n    </g>\r\n    <g id=\"xtick_56\">\r\n     <g id=\"line2d_56\">\r\n      <g>\r\n       <use style=\"stroke:#000000;stroke-width:0.6;\" x=\"313.078314\" xlink:href=\"#m47fa7350ad\" y=\"224.64\"/>\r\n      </g>\r\n     </g>\r\n    </g>\r\n    <g id=\"xtick_57\">\r\n     <g id=\"line2d_57\">\r\n      <g>\r\n       <use style=\"stroke:#000000;stroke-width:0.6;\" x=\"319.516775\" xlink:href=\"#m47fa7350ad\" y=\"224.64\"/>\r\n      </g>\r\n     </g>\r\n    </g>\r\n    <g id=\"xtick_58\">\r\n     <g id=\"line2d_58\">\r\n      <g>\r\n       <use style=\"stroke:#000000;stroke-width:0.6;\" x=\"325.955237\" xlink:href=\"#m47fa7350ad\" y=\"224.64\"/>\r\n      </g>\r\n     </g>\r\n    </g>\r\n    <g id=\"xtick_59\">\r\n     <g id=\"line2d_59\">\r\n      <g>\r\n       <use style=\"stroke:#000000;stroke-width:0.6;\" x=\"332.393698\" xlink:href=\"#m47fa7350ad\" y=\"224.64\"/>\r\n      </g>\r\n     </g>\r\n    </g>\r\n    <g id=\"xtick_60\">\r\n     <g id=\"line2d_60\">\r\n      <g>\r\n       <use style=\"stroke:#000000;stroke-width:0.6;\" x=\"338.83216\" xlink:href=\"#m47fa7350ad\" y=\"224.64\"/>\r\n      </g>\r\n     </g>\r\n    </g>\r\n    <g id=\"xtick_61\">\r\n     <g id=\"line2d_61\">\r\n      <g>\r\n       <use style=\"stroke:#000000;stroke-width:0.6;\" x=\"345.270622\" xlink:href=\"#m47fa7350ad\" y=\"224.64\"/>\r\n      </g>\r\n     </g>\r\n    </g>\r\n    <g id=\"xtick_62\">\r\n     <g id=\"line2d_62\">\r\n      <g>\r\n       <use style=\"stroke:#000000;stroke-width:0.6;\" x=\"351.709083\" xlink:href=\"#m47fa7350ad\" y=\"224.64\"/>\r\n      </g>\r\n     </g>\r\n    </g>\r\n    <g id=\"xtick_63\">\r\n     <g id=\"line2d_63\">\r\n      <g>\r\n       <use style=\"stroke:#000000;stroke-width:0.6;\" x=\"358.147545\" xlink:href=\"#m47fa7350ad\" y=\"224.64\"/>\r\n      </g>\r\n     </g>\r\n    </g>\r\n    <g id=\"xtick_64\">\r\n     <g id=\"line2d_64\">\r\n      <g>\r\n       <use style=\"stroke:#000000;stroke-width:0.6;\" x=\"364.586006\" xlink:href=\"#m47fa7350ad\" y=\"224.64\"/>\r\n      </g>\r\n     </g>\r\n    </g>\r\n   </g>\r\n   <g id=\"matplotlib.axis_2\">\r\n    <g id=\"ytick_1\">\r\n     <g id=\"line2d_65\">\r\n      <defs>\r\n       <path d=\"M 0 0 \r\nL -3.5 0 \r\n\" id=\"maee0726654\" style=\"stroke:#000000;stroke-width:0.8;\"/>\r\n      </defs>\r\n      <g>\r\n       <use style=\"stroke:#000000;stroke-width:0.8;\" x=\"35.304688\" xlink:href=\"#maee0726654\" y=\"200.251464\"/>\r\n      </g>\r\n     </g>\r\n     <g id=\"text_13\">\r\n      <!-- −60 -->\r\n      <g transform=\"translate(7.2 204.050683)scale(0.1 -0.1)\">\r\n       <defs>\r\n        <path d=\"M 678 2272 \r\nL 4684 2272 \r\nL 4684 1741 \r\nL 678 1741 \r\nL 678 2272 \r\nz\r\n\" id=\"DejaVuSans-2212\" transform=\"scale(0.015625)\"/>\r\n        <path d=\"M 2113 2584 \r\nQ 1688 2584 1439 2293 \r\nQ 1191 2003 1191 1497 \r\nQ 1191 994 1439 701 \r\nQ 1688 409 2113 409 \r\nQ 2538 409 2786 701 \r\nQ 3034 994 3034 1497 \r\nQ 3034 2003 2786 2293 \r\nQ 2538 2584 2113 2584 \r\nz\r\nM 3366 4563 \r\nL 3366 3988 \r\nQ 3128 4100 2886 4159 \r\nQ 2644 4219 2406 4219 \r\nQ 1781 4219 1451 3797 \r\nQ 1122 3375 1075 2522 \r\nQ 1259 2794 1537 2939 \r\nQ 1816 3084 2150 3084 \r\nQ 2853 3084 3261 2657 \r\nQ 3669 2231 3669 1497 \r\nQ 3669 778 3244 343 \r\nQ 2819 -91 2113 -91 \r\nQ 1303 -91 875 529 \r\nQ 447 1150 447 2328 \r\nQ 447 3434 972 4092 \r\nQ 1497 4750 2381 4750 \r\nQ 2619 4750 2861 4703 \r\nQ 3103 4656 3366 4563 \r\nz\r\n\" id=\"DejaVuSans-36\" transform=\"scale(0.015625)\"/>\r\n       </defs>\r\n       <use xlink:href=\"#DejaVuSans-2212\"/>\r\n       <use x=\"83.789062\" xlink:href=\"#DejaVuSans-36\"/>\r\n       <use x=\"147.412109\" xlink:href=\"#DejaVuSans-30\"/>\r\n      </g>\r\n     </g>\r\n    </g>\r\n    <g id=\"ytick_2\">\r\n     <g id=\"line2d_66\">\r\n      <g>\r\n       <use style=\"stroke:#000000;stroke-width:0.8;\" x=\"35.304688\" xlink:href=\"#maee0726654\" y=\"162.986635\"/>\r\n      </g>\r\n     </g>\r\n     <g id=\"text_14\">\r\n      <!-- −40 -->\r\n      <g transform=\"translate(7.2 166.785854)scale(0.1 -0.1)\">\r\n       <defs>\r\n        <path d=\"M 2419 4116 \r\nL 825 1625 \r\nL 2419 1625 \r\nL 2419 4116 \r\nz\r\nM 2253 4666 \r\nL 3047 4666 \r\nL 3047 1625 \r\nL 3713 1625 \r\nL 3713 1100 \r\nL 3047 1100 \r\nL 3047 0 \r\nL 2419 0 \r\nL 2419 1100 \r\nL 313 1100 \r\nL 313 1709 \r\nL 2253 4666 \r\nz\r\n\" id=\"DejaVuSans-34\" transform=\"scale(0.015625)\"/>\r\n       </defs>\r\n       <use xlink:href=\"#DejaVuSans-2212\"/>\r\n       <use x=\"83.789062\" xlink:href=\"#DejaVuSans-34\"/>\r\n       <use x=\"147.412109\" xlink:href=\"#DejaVuSans-30\"/>\r\n      </g>\r\n     </g>\r\n    </g>\r\n    <g id=\"ytick_3\">\r\n     <g id=\"line2d_67\">\r\n      <g>\r\n       <use style=\"stroke:#000000;stroke-width:0.8;\" x=\"35.304688\" xlink:href=\"#maee0726654\" y=\"125.721806\"/>\r\n      </g>\r\n     </g>\r\n     <g id=\"text_15\">\r\n      <!-- −20 -->\r\n      <g transform=\"translate(7.2 129.521024)scale(0.1 -0.1)\">\r\n       <use xlink:href=\"#DejaVuSans-2212\"/>\r\n       <use x=\"83.789062\" xlink:href=\"#DejaVuSans-32\"/>\r\n       <use x=\"147.412109\" xlink:href=\"#DejaVuSans-30\"/>\r\n      </g>\r\n     </g>\r\n    </g>\r\n    <g id=\"ytick_4\">\r\n     <g id=\"line2d_68\">\r\n      <g>\r\n       <use style=\"stroke:#000000;stroke-width:0.8;\" x=\"35.304688\" xlink:href=\"#maee0726654\" y=\"88.456976\"/>\r\n      </g>\r\n     </g>\r\n     <g id=\"text_16\">\r\n      <!-- 0 -->\r\n      <g transform=\"translate(21.942188 92.256195)scale(0.1 -0.1)\">\r\n       <use xlink:href=\"#DejaVuSans-30\"/>\r\n      </g>\r\n     </g>\r\n    </g>\r\n    <g id=\"ytick_5\">\r\n     <g id=\"line2d_69\">\r\n      <g>\r\n       <use style=\"stroke:#000000;stroke-width:0.8;\" x=\"35.304688\" xlink:href=\"#maee0726654\" y=\"51.192147\"/>\r\n      </g>\r\n     </g>\r\n     <g id=\"text_17\">\r\n      <!-- 20 -->\r\n      <g transform=\"translate(15.579688 54.991366)scale(0.1 -0.1)\">\r\n       <use xlink:href=\"#DejaVuSans-32\"/>\r\n       <use x=\"63.623047\" xlink:href=\"#DejaVuSans-30\"/>\r\n      </g>\r\n     </g>\r\n    </g>\r\n    <g id=\"ytick_6\">\r\n     <g id=\"line2d_70\">\r\n      <g>\r\n       <use style=\"stroke:#000000;stroke-width:0.8;\" x=\"35.304688\" xlink:href=\"#maee0726654\" y=\"13.927317\"/>\r\n      </g>\r\n     </g>\r\n     <g id=\"text_18\">\r\n      <!-- 40 -->\r\n      <g transform=\"translate(15.579688 17.726536)scale(0.1 -0.1)\">\r\n       <use xlink:href=\"#DejaVuSans-34\"/>\r\n       <use x=\"63.623047\" xlink:href=\"#DejaVuSans-30\"/>\r\n      </g>\r\n     </g>\r\n    </g>\r\n   </g>\r\n   <g id=\"line2d_71\">\r\n    <path clip-path=\"url(#p9f0a3fb3f9)\" d=\"M 35.304688 90.479768 \r\nL 36.224468 88.621473 \r\nL 37.144248 88.094215 \r\nL 38.064028 90.900806 \r\nL 38.983808 91.978878 \r\nL 39.903589 88.901853 \r\nL 40.823369 93.423343 \r\nL 41.743149 94.22251 \r\nL 42.662929 91.863765 \r\nL 43.582709 93.478712 \r\nL 44.50249 94.743641 \r\nL 45.42227 94.920107 \r\nL 46.34205 92.141288 \r\nL 47.26183 93.331716 \r\nL 49.101391 94.968263 \r\nL 50.940951 86.783572 \r\nL 51.860731 84.912777 \r\nL 52.780512 84.193219 \r\nL 53.700292 82.819323 \r\nL 54.620072 80.04173 \r\nL 55.539852 81.785414 \r\nL 56.459633 79.594561 \r\nL 57.379413 81.930843 \r\nL 58.299193 83.119128 \r\nL 59.218973 81.428972 \r\nL 60.138753 84.090949 \r\nL 61.058534 84.351931 \r\nL 61.978314 85.957588 \r\nL 62.898094 86.433869 \r\nL 63.817874 91.648316 \r\nL 64.737655 94.94911 \r\nL 65.657435 96.253151 \r\nL 66.577215 94.525064 \r\nL 67.496995 94.848589 \r\nL 68.416775 94.843287 \r\nL 69.336556 93.560962 \r\nL 70.256336 95.19975 \r\nL 71.176116 94.671284 \r\nL 72.095896 96.171876 \r\nL 73.015677 99.390942 \r\nL 73.935457 100.119282 \r\nL 74.855237 99.050144 \r\nL 75.775017 98.41927 \r\nL 76.694797 98.441313 \r\nL 77.614578 93.983759 \r\nL 78.534358 93.214404 \r\nL 79.454138 91.390783 \r\nL 80.373918 87.220581 \r\nL 81.293698 89.631775 \r\nL 82.213479 91.567288 \r\nL 83.133259 88.318331 \r\nL 84.053039 89.805315 \r\nL 84.972819 89.750008 \r\nL 85.8926 87.757614 \r\nL 86.81238 86.098013 \r\nL 87.73216 82.828236 \r\nL 88.65194 80.04149 \r\nL 89.57172 78.048953 \r\nL 90.491501 79.488696 \r\nL 91.411281 78.007675 \r\nL 92.331061 77.42211 \r\nL 93.250841 79.893263 \r\nL 94.170622 77.252493 \r\nL 95.090402 75.748416 \r\nL 96.010182 75.663657 \r\nL 96.929962 76.097964 \r\nL 97.849742 78.330688 \r\nL 98.769523 77.958927 \r\nL 99.689303 77.086112 \r\nL 100.609083 78.634754 \r\nL 101.528863 76.469287 \r\nL 102.448644 78.513641 \r\nL 103.368424 82.46949 \r\nL 104.288204 80.532227 \r\nL 105.207984 81.283796 \r\nL 106.127764 81.518619 \r\nL 107.047545 83.079115 \r\nL 107.967325 86.071412 \r\nL 108.887105 83.732601 \r\nL 109.806885 85.01613 \r\nL 110.726666 81.921375 \r\nL 111.646446 80.417165 \r\nL 112.566226 81.003635 \r\nL 113.486006 83.026934 \r\nL 114.405786 84.391687 \r\nL 115.325567 86.650911 \r\nL 116.245347 82.762114 \r\nL 117.165127 82.455721 \r\nL 118.084907 80.31261 \r\nL 119.004688 82.673993 \r\nL 119.924468 82.336681 \r\nL 120.844248 80.14204 \r\nL 121.764028 80.766246 \r\nL 122.683808 78.84503 \r\nL 123.603589 80.865842 \r\nL 124.523369 83.406319 \r\nL 125.443149 82.699404 \r\nL 126.362929 83.405901 \r\nL 127.282709 82.209598 \r\nL 128.20249 85.894881 \r\nL 129.12227 84.56776 \r\nL 130.04205 79.726492 \r\nL 131.881611 79.708762 \r\nL 132.801391 79.374218 \r\nL 133.721171 82.843528 \r\nL 134.640951 82.049514 \r\nL 135.560731 85.04078 \r\nL 136.480512 85.83765 \r\nL 137.400292 83.521884 \r\nL 138.320072 84.891771 \r\nL 139.239852 83.957823 \r\nL 140.159633 82.070846 \r\nL 141.079413 81.551484 \r\nL 141.999193 84.105892 \r\nL 142.918973 84.725374 \r\nL 143.838753 81.074517 \r\nL 144.758534 84.847667 \r\nL 145.678314 85.361522 \r\nL 146.598094 86.390233 \r\nL 147.517874 86.165252 \r\nL 148.437655 84.771145 \r\nL 149.357435 81.773766 \r\nL 150.277215 82.277274 \r\nL 151.196995 80.763686 \r\nL 153.036556 78.948726 \r\nL 153.956336 79.999452 \r\nL 155.795896 83.907349 \r\nL 156.715677 85.316774 \r\nL 157.635457 84.717394 \r\nL 158.555237 83.299562 \r\nL 159.475017 82.696861 \r\nL 160.394797 83.719697 \r\nL 161.314578 80.354739 \r\nL 162.234358 77.524725 \r\nL 163.154138 78.184313 \r\nL 164.073918 79.718564 \r\nL 164.993698 79.475942 \r\nL 165.913479 77.114659 \r\nL 166.833259 76.494638 \r\nL 167.753039 75.457653 \r\nL 168.672819 75.852809 \r\nL 169.5926 75.002667 \r\nL 170.51238 72.124807 \r\nL 171.43216 72.571368 \r\nL 172.35194 72.304351 \r\nL 174.191501 71.302781 \r\nL 175.111281 73.933471 \r\nL 176.031061 77.43053 \r\nL 176.950841 79.330394 \r\nL 177.870622 79.017477 \r\nL 178.790402 77.985509 \r\nL 179.710182 78.974284 \r\nL 180.629962 76.408121 \r\nL 181.549742 76.674892 \r\nL 182.469523 76.637039 \r\nL 183.389303 76.99844 \r\nL 184.309083 76.748716 \r\nL 186.148644 74.195837 \r\nL 187.068424 75.869816 \r\nL 187.988204 73.030863 \r\nL 188.907984 75.071161 \r\nL 189.827764 74.923542 \r\nL 190.747545 75.434809 \r\nL 191.667325 77.389334 \r\nL 192.587105 77.529302 \r\nL 193.506885 78.909617 \r\nL 194.426666 78.773773 \r\nL 195.346446 78.022727 \r\nL 196.266226 75.280167 \r\nL 197.186006 74.707436 \r\nL 198.105786 75.846296 \r\nL 199.025567 76.575979 \r\nL 200.865127 76.141025 \r\nL 202.704688 70.821579 \r\nL 203.624468 71.490363 \r\nL 204.544248 72.512616 \r\nL 205.464028 77.277026 \r\nL 206.383808 78.299797 \r\nL 207.303589 80.122155 \r\nL 208.223369 80.783279 \r\nL 209.143149 80.053663 \r\nL 210.062929 79.723511 \r\nL 210.982709 79.779348 \r\nL 211.90249 79.407478 \r\nL 212.82227 79.642466 \r\nL 213.74205 79.275372 \r\nL 214.66183 85.295608 \r\nL 215.581611 85.797367 \r\nL 216.501391 86.003909 \r\nL 217.421171 86.639762 \r\nL 218.340951 87.045848 \r\nL 219.260731 85.735412 \r\nL 220.180512 86.849826 \r\nL 221.100292 82.749387 \r\nL 222.020072 81.466923 \r\nL 222.939852 81.478675 \r\nL 223.859633 81.863737 \r\nL 224.779413 82.024949 \r\nL 225.699193 83.730387 \r\nL 226.618973 83.907772 \r\nL 227.538753 83.388518 \r\nL 229.378314 81.22859 \r\nL 230.298094 81.740753 \r\nL 231.217874 84.379256 \r\nL 232.137655 85.625956 \r\nL 233.057435 82.622051 \r\nL 233.977215 80.952478 \r\nL 234.896995 80.263787 \r\nL 235.816775 81.682262 \r\nL 236.736556 81.675471 \r\nL 237.656336 84.015085 \r\nL 238.576116 85.043476 \r\nL 239.495896 85.500349 \r\nL 240.415677 86.174172 \r\nL 241.335457 84.391791 \r\nL 242.255237 87.03522 \r\nL 243.175017 88.64773 \r\nL 245.014578 93.514593 \r\nL 245.934358 93.283447 \r\nL 246.854138 96.265454 \r\nL 247.773918 94.860815 \r\nL 248.693698 95.320692 \r\nL 249.613479 95.192523 \r\nL 250.533259 94.591484 \r\nL 251.453039 95.400441 \r\nL 252.372819 93.476682 \r\nL 253.2926 93.83879 \r\nL 254.21238 92.731894 \r\nL 255.13216 93.102888 \r\nL 257.891501 91.574085 \r\nL 258.811281 93.389456 \r\nL 259.731061 92.577314 \r\nL 260.650841 93.171608 \r\nL 261.570622 91.996857 \r\nL 262.490402 96.007472 \r\nL 263.410182 98.737337 \r\nL 264.329962 98.06015 \r\nL 265.249742 94.589066 \r\nL 266.169523 93.03315 \r\nL 267.089303 94.304721 \r\nL 268.009083 97.457423 \r\nL 268.928863 96.07362 \r\nL 269.848644 96.223766 \r\nL 270.768424 95.123141 \r\nL 271.688204 94.908312 \r\nL 272.607984 94.85308 \r\nL 273.527764 89.340446 \r\nL 274.447545 89.351868 \r\nL 276.287105 89.874868 \r\nL 277.206885 90.962138 \r\nL 278.126666 89.117281 \r\nL 279.046446 89.776411 \r\nL 279.966226 88.591496 \r\nL 280.886006 88.061212 \r\nL 281.805786 85.789947 \r\nL 282.725567 85.007051 \r\nL 284.565127 89.739447 \r\nL 285.484907 87.115315 \r\nL 286.404688 88.24949 \r\nL 287.324468 90.710092 \r\nL 288.244248 91.957753 \r\nL 289.164028 89.601451 \r\nL 290.083808 92.24765 \r\nL 291.003589 93.86214 \r\nL 291.923369 95.104564 \r\nL 293.762929 99.64252 \r\nL 294.682709 102.471122 \r\nL 295.60249 103.330426 \r\nL 296.52227 103.991706 \r\nL 297.44205 105.26344 \r\nL 298.36183 108.344678 \r\nL 299.281611 106.009411 \r\nL 300.201391 108.485805 \r\nL 301.121171 107.967762 \r\nL 302.040951 109.970311 \r\nL 302.960731 108.725075 \r\nL 303.880512 106.944129 \r\nL 304.800292 108.579335 \r\nL 305.720072 112.163682 \r\nL 306.639852 110.867262 \r\nL 307.559633 107.372193 \r\nL 308.479413 106.597654 \r\nL 309.399193 106.29852 \r\nL 311.238753 103.345627 \r\nL 312.158534 104.890233 \r\nL 313.078314 106.118391 \r\nL 313.998094 104.97972 \r\nL 314.917874 105.248052 \r\nL 315.837655 102.794898 \r\nL 316.757435 104.107257 \r\nL 317.677215 102.70869 \r\nL 318.596995 102.070272 \r\nL 319.516775 102.305856 \r\nL 320.436556 100.11485 \r\nL 321.356336 98.847713 \r\nL 322.276116 100.720209 \r\nL 323.195896 99.527327 \r\nL 324.115677 96.965388 \r\nL 325.035457 97.208438 \r\nL 325.955237 97.671744 \r\nL 326.875017 98.919458 \r\nL 327.794797 98.944805 \r\nL 328.714578 97.666248 \r\nL 329.634358 99.189761 \r\nL 330.554138 101.698351 \r\nL 331.473918 102.398463 \r\nL 332.393698 104.969224 \r\nL 333.313479 103.994342 \r\nL 334.233259 104.789368 \r\nL 335.153039 108.060105 \r\nL 336.072819 108.709645 \r\nL 336.9926 109.068534 \r\nL 337.91238 108.231686 \r\nL 338.83216 108.502533 \r\nL 339.75194 105.020644 \r\nL 340.67172 105.987115 \r\nL 342.511281 106.295126 \r\nL 343.431061 106.821731 \r\nL 344.350841 106.556357 \r\nL 345.270622 105.547913 \r\nL 346.190402 103.050985 \r\nL 347.110182 105.974888 \r\nL 348.949742 107.760087 \r\nL 349.869523 106.012645 \r\nL 350.789303 106.677195 \r\nL 351.709083 110.208364 \r\nL 352.628863 110.044901 \r\nL 353.548644 110.107672 \r\nL 354.468424 109.772752 \r\nL 355.388204 111.710826 \r\nL 356.307984 108.50785 \r\nL 357.227764 109.111279 \r\nL 358.147545 109.462121 \r\nL 359.987105 112.873736 \r\nL 360.906885 115.15199 \r\nL 361.826666 115.884823 \r\nL 362.746446 117.66903 \r\nL 363.666226 113.837334 \r\nL 364.586006 117.356052 \r\nL 365.505786 119.458404 \r\nL 366.425567 120.206336 \r\nL 367.345347 118.951459 \r\nL 368.265127 119.722388 \r\nL 369.184907 118.462905 \r\nL 370.104688 120.301559 \r\nL 370.104688 120.301559 \r\n\" style=\"fill:none;stroke:#0072b2;stroke-linecap:square;stroke-width:1.5;\"/>\r\n   </g>\r\n   <g id=\"line2d_72\">\r\n    <path clip-path=\"url(#p9f0a3fb3f9)\" d=\"M 35.304688 51.081673 \r\nL 36.224468 47.832103 \r\nL 37.144248 49.635245 \r\nL 38.064028 48.853489 \r\nL 38.983808 48.467933 \r\nL 39.903589 52.663086 \r\nL 40.823369 53.760481 \r\nL 41.743149 51.652872 \r\nL 42.662929 51.401189 \r\nL 43.582709 53.659939 \r\nL 44.50249 52.372854 \r\nL 45.42227 53.265576 \r\nL 47.26183 51.892421 \r\nL 48.181611 53.976821 \r\nL 49.101391 52.505181 \r\nL 50.021171 54.382413 \r\nL 50.940951 56.815408 \r\nL 51.860731 58.460331 \r\nL 52.780512 59.105181 \r\nL 53.700292 58.901336 \r\nL 54.620072 60.340846 \r\nL 55.539852 58.953068 \r\nL 56.459633 58.484529 \r\nL 57.379413 59.779106 \r\nL 58.299193 58.122698 \r\nL 59.218973 55.959347 \r\nL 60.138753 56.14322 \r\nL 61.058534 56.543786 \r\nL 61.978314 59.84875 \r\nL 62.898094 60.608044 \r\nL 63.817874 61.151192 \r\nL 64.737655 60.693991 \r\nL 65.657435 61.00781 \r\nL 66.577215 60.553129 \r\nL 67.496995 57.694748 \r\nL 69.336556 59.596906 \r\nL 70.256336 62.036197 \r\nL 71.176116 62.052334 \r\nL 72.095896 60.232295 \r\nL 73.015677 63.494962 \r\nL 73.935457 64.735614 \r\nL 74.855237 64.668649 \r\nL 75.775017 63.084702 \r\nL 77.614578 61.764905 \r\nL 78.534358 62.182853 \r\nL 79.454138 61.285005 \r\nL 80.373918 59.395112 \r\nL 81.293698 62.579377 \r\nL 82.213479 61.221939 \r\nL 83.133259 61.405953 \r\nL 84.053039 62.39345 \r\nL 84.972819 66.94549 \r\nL 85.8926 69.517418 \r\nL 86.81238 66.353524 \r\nL 87.73216 67.636456 \r\nL 88.65194 69.657642 \r\nL 89.57172 70.508074 \r\nL 90.491501 71.896463 \r\nL 91.411281 71.664753 \r\nL 92.331061 68.838265 \r\nL 93.250841 69.931272 \r\nL 94.170622 69.643792 \r\nL 95.090402 71.781372 \r\nL 96.010182 68.948935 \r\nL 96.929962 68.596701 \r\nL 97.849742 70.612392 \r\nL 98.769523 68.927451 \r\nL 99.689303 66.691584 \r\nL 100.609083 66.390752 \r\nL 101.528863 69.445344 \r\nL 102.448644 66.119144 \r\nL 103.368424 65.541311 \r\nL 104.288204 63.360472 \r\nL 105.207984 64.386919 \r\nL 106.127764 65.129651 \r\nL 107.047545 64.92385 \r\nL 107.967325 62.849314 \r\nL 108.887105 62.582889 \r\nL 109.806885 64.924674 \r\nL 110.726666 64.436525 \r\nL 111.646446 61.400309 \r\nL 112.566226 61.277696 \r\nL 113.486006 61.03662 \r\nL 115.325567 66.003151 \r\nL 116.245347 67.191326 \r\nL 117.165127 67.799707 \r\nL 118.084907 67.605817 \r\nL 119.004688 67.296599 \r\nL 119.924468 64.311858 \r\nL 120.844248 64.202509 \r\nL 121.764028 62.219233 \r\nL 122.683808 62.292513 \r\nL 123.603589 59.592855 \r\nL 124.523369 63.077857 \r\nL 125.443149 64.193439 \r\nL 126.362929 62.361811 \r\nL 127.282709 62.681536 \r\nL 128.20249 60.945871 \r\nL 129.12227 60.2284 \r\nL 130.04205 58.466003 \r\nL 131.881611 56.068539 \r\nL 132.801391 53.287734 \r\nL 134.640951 49.597993 \r\nL 135.560731 49.559948 \r\nL 137.400292 51.872995 \r\nL 138.320072 50.473804 \r\nL 139.239852 55.017245 \r\nL 140.159633 57.452833 \r\nL 141.079413 59.247607 \r\nL 141.999193 59.708986 \r\nL 142.918973 64.61199 \r\nL 143.838753 62.266689 \r\nL 144.758534 61.148417 \r\nL 145.678314 57.450661 \r\nL 147.517874 53.551653 \r\nL 148.437655 49.3581 \r\nL 149.357435 50.421933 \r\nL 150.277215 53.223239 \r\nL 151.196995 53.656177 \r\nL 152.116775 55.193337 \r\nL 153.036556 55.671902 \r\nL 153.956336 57.628713 \r\nL 155.795896 55.614805 \r\nL 156.715677 55.664968 \r\nL 157.635457 55.084416 \r\nL 158.555237 55.349091 \r\nL 159.475017 53.947871 \r\nL 160.394797 53.818113 \r\nL 161.314578 54.312703 \r\nL 162.234358 52.580662 \r\nL 164.073918 47.739448 \r\nL 164.993698 49.584569 \r\nL 165.913479 50.580373 \r\nL 166.833259 53.750671 \r\nL 167.753039 54.195176 \r\nL 168.672819 53.419837 \r\nL 169.5926 53.667277 \r\nL 170.51238 50.069636 \r\nL 171.43216 50.82582 \r\nL 172.35194 52.853974 \r\nL 173.27172 51.794714 \r\nL 174.191501 51.515351 \r\nL 175.111281 50.491234 \r\nL 176.950841 49.471009 \r\nL 177.870622 53.425364 \r\nL 178.790402 54.77829 \r\nL 179.710182 55.878208 \r\nL 180.629962 56.52655 \r\nL 181.549742 57.362011 \r\nL 182.469523 56.59283 \r\nL 183.389303 55.473241 \r\nL 184.309083 57.581762 \r\nL 186.148644 55.210652 \r\nL 187.068424 54.34281 \r\nL 187.988204 56.984689 \r\nL 188.907984 56.163778 \r\nL 189.827764 56.009883 \r\nL 190.747545 54.219531 \r\nL 192.587105 47.93589 \r\nL 193.506885 47.726006 \r\nL 194.426666 47.729499 \r\nL 195.346446 46.552027 \r\nL 196.266226 48.629616 \r\nL 197.186006 51.332589 \r\nL 198.105786 52.213028 \r\nL 199.025567 49.938813 \r\nL 199.945347 50.555785 \r\nL 200.865127 47.756114 \r\nL 201.784907 52.951041 \r\nL 202.704688 55.90839 \r\nL 203.624468 56.138852 \r\nL 204.544248 54.483931 \r\nL 206.383808 54.79188 \r\nL 207.303589 55.018714 \r\nL 208.223369 58.303418 \r\nL 209.143149 56.145656 \r\nL 210.062929 57.417812 \r\nL 210.982709 55.387749 \r\nL 211.90249 55.519151 \r\nL 212.82227 53.528911 \r\nL 213.74205 52.889338 \r\nL 214.66183 53.088098 \r\nL 215.581611 52.666518 \r\nL 216.501391 55.411031 \r\nL 217.421171 55.399797 \r\nL 218.340951 52.2024 \r\nL 219.260731 49.764919 \r\nL 220.180512 51.600256 \r\nL 221.100292 50.658041 \r\nL 222.020072 50.195995 \r\nL 222.939852 48.673376 \r\nL 223.859633 48.497946 \r\nL 224.779413 48.93302 \r\nL 225.699193 46.453734 \r\nL 226.618973 46.050535 \r\nL 227.538753 43.711302 \r\nL 228.458534 41.895785 \r\nL 229.378314 42.500383 \r\nL 230.298094 42.811545 \r\nL 231.217874 39.215801 \r\nL 232.137655 38.859023 \r\nL 233.057435 40.272531 \r\nL 233.977215 42.508502 \r\nL 234.896995 40.693458 \r\nL 235.816775 40.394792 \r\nL 236.736556 41.87065 \r\nL 237.656336 40.613736 \r\nL 238.576116 40.316086 \r\nL 239.495896 43.409952 \r\nL 240.415677 42.313088 \r\nL 241.335457 39.829032 \r\nL 242.255237 35.059413 \r\nL 243.175017 34.994381 \r\nL 244.094797 34.560898 \r\nL 245.014578 31.567421 \r\nL 245.934358 31.25305 \r\nL 246.854138 30.740022 \r\nL 247.773918 31.915016 \r\nL 248.693698 34.513074 \r\nL 249.613479 32.812516 \r\nL 250.533259 35.185485 \r\nL 251.453039 33.060167 \r\nL 252.372819 34.528709 \r\nL 253.2926 34.034515 \r\nL 254.21238 34.728147 \r\nL 255.13216 32.539583 \r\nL 256.05194 31.979033 \r\nL 256.97172 28.328766 \r\nL 257.891501 30.347919 \r\nL 258.811281 29.576792 \r\nL 259.731061 29.488583 \r\nL 260.650841 28.96698 \r\nL 261.570622 25.993394 \r\nL 262.490402 24.902805 \r\nL 263.410182 27.040922 \r\nL 264.329962 26.046862 \r\nL 266.169523 27.703236 \r\nL 267.089303 25.754551 \r\nL 268.009083 26.876856 \r\nL 268.928863 27.584385 \r\nL 269.848644 27.524003 \r\nL 270.768424 25.76103 \r\nL 271.688204 24.677388 \r\nL 273.527764 25.62129 \r\nL 274.447545 27.782892 \r\nL 276.287105 30.417918 \r\nL 277.206885 30.696083 \r\nL 278.126666 26.994264 \r\nL 279.046446 28.252826 \r\nL 279.966226 28.804027 \r\nL 280.886006 32.628141 \r\nL 281.805786 31.509132 \r\nL 282.725567 34.4483 \r\nL 283.645347 36.137495 \r\nL 284.565127 34.195373 \r\nL 285.484907 38.117363 \r\nL 286.404688 37.93864 \r\nL 287.324468 36.446315 \r\nL 288.244248 33.604044 \r\nL 289.164028 35.318399 \r\nL 290.083808 36.481108 \r\nL 291.003589 33.119008 \r\nL 291.923369 33.165701 \r\nL 293.762929 35.874388 \r\nL 294.682709 37.686495 \r\nL 295.60249 38.50571 \r\nL 296.52227 36.478093 \r\nL 297.44205 34.82397 \r\nL 298.36183 37.011919 \r\nL 299.281611 36.612094 \r\nL 300.201391 37.361414 \r\nL 301.121171 35.903539 \r\nL 302.040951 36.194875 \r\nL 302.960731 35.502635 \r\nL 303.880512 35.798155 \r\nL 304.800292 39.873224 \r\nL 305.720072 39.785647 \r\nL 306.639852 42.155219 \r\nL 307.559633 40.763138 \r\nL 309.399193 43.157106 \r\nL 310.318973 43.173694 \r\nL 311.238753 42.097125 \r\nL 312.158534 42.413398 \r\nL 314.917874 33.085137 \r\nL 315.837655 33.52173 \r\nL 316.757435 36.282976 \r\nL 317.677215 34.009675 \r\nL 318.596995 34.785427 \r\nL 319.516775 34.714314 \r\nL 320.436556 33.543602 \r\nL 321.356336 36.533054 \r\nL 322.276116 33.497608 \r\nL 323.195896 31.867342 \r\nL 324.115677 31.210975 \r\nL 325.035457 29.550982 \r\nL 325.955237 28.513245 \r\nL 326.875017 28.295566 \r\nL 327.794797 28.869024 \r\nL 328.714578 30.246224 \r\nL 329.634358 29.711075 \r\nL 330.554138 29.038066 \r\nL 331.473918 27.019805 \r\nL 332.393698 26.645927 \r\nL 333.313479 28.235648 \r\nL 334.233259 31.17255 \r\nL 335.153039 31.410229 \r\nL 336.072819 31.461391 \r\nL 336.9926 31.644159 \r\nL 337.91238 34.495874 \r\nL 339.75194 30.495318 \r\nL 340.67172 32.029297 \r\nL 341.591501 30.527558 \r\nL 342.511281 28.752204 \r\nL 343.431061 28.680568 \r\nL 344.350841 30.44785 \r\nL 345.270622 27.44173 \r\nL 346.190402 26.731982 \r\nL 347.110182 27.199725 \r\nL 348.029962 25.759727 \r\nL 348.949742 22.737161 \r\nL 349.869523 23.663491 \r\nL 350.789303 22.375203 \r\nL 351.709083 18.754627 \r\nL 352.628863 20.835057 \r\nL 354.468424 22.972397 \r\nL 356.307984 23.658631 \r\nL 357.227764 23.098176 \r\nL 358.147545 24.626734 \r\nL 359.067325 25.786906 \r\nL 359.987105 25.225529 \r\nL 360.906885 24.936891 \r\nL 361.826666 23.308269 \r\nL 362.746446 22.545542 \r\nL 363.666226 21.107405 \r\nL 364.586006 23.237001 \r\nL 365.505786 23.951398 \r\nL 366.425567 20.50742 \r\nL 367.345347 19.776884 \r\nL 368.265127 18.38431 \r\nL 369.184907 17.87614 \r\nL 370.104688 17.083636 \r\nL 370.104688 17.083636 \r\n\" style=\"fill:none;stroke:#009e73;stroke-linecap:square;stroke-width:1.5;\"/>\r\n   </g>\r\n   <g id=\"line2d_73\">\r\n    <path clip-path=\"url(#p9f0a3fb3f9)\" d=\"M 35.304688 126.152036 \r\nL 36.224468 119.497321 \r\nL 37.144248 120.235455 \r\nL 38.064028 120.306857 \r\nL 38.983808 124.824912 \r\nL 39.903589 122.763671 \r\nL 40.823369 123.792651 \r\nL 41.743149 123.905925 \r\nL 42.662929 124.889792 \r\nL 43.582709 125.148192 \r\nL 44.50249 125.677813 \r\nL 46.34205 125.856392 \r\nL 48.181611 126.45651 \r\nL 49.101391 124.018424 \r\nL 50.940951 120.722612 \r\nL 51.860731 122.087341 \r\nL 53.700292 117.637054 \r\nL 54.620072 118.668179 \r\nL 55.539852 115.828875 \r\nL 56.459633 117.10189 \r\nL 57.379413 120.53404 \r\nL 58.299193 118.481631 \r\nL 59.218973 118.704324 \r\nL 60.138753 116.884083 \r\nL 61.058534 118.289344 \r\nL 61.978314 120.640326 \r\nL 62.898094 118.345051 \r\nL 64.737655 123.875709 \r\nL 65.657435 127.463542 \r\nL 66.577215 132.670319 \r\nL 67.496995 134.606422 \r\nL 68.416775 138.648552 \r\nL 69.336556 138.714894 \r\nL 70.256336 142.88188 \r\nL 71.176116 144.920775 \r\nL 72.095896 140.575581 \r\nL 73.015677 139.932531 \r\nL 73.935457 139.834141 \r\nL 74.855237 142.853993 \r\nL 75.775017 143.311601 \r\nL 76.694797 143.221963 \r\nL 77.614578 146.212803 \r\nL 78.534358 145.977698 \r\nL 79.454138 143.758144 \r\nL 80.373918 144.407033 \r\nL 81.293698 144.774532 \r\nL 82.213479 148.579451 \r\nL 83.133259 151.186561 \r\nL 84.053039 149.21582 \r\nL 84.972819 150.448448 \r\nL 85.8926 152.180726 \r\nL 86.81238 153.471175 \r\nL 87.73216 153.578248 \r\nL 88.65194 155.736657 \r\nL 89.57172 155.500926 \r\nL 90.491501 158.034949 \r\nL 91.411281 156.5928 \r\nL 92.331061 158.56235 \r\nL 93.250841 156.102371 \r\nL 94.170622 156.121065 \r\nL 95.090402 157.696704 \r\nL 96.010182 155.998433 \r\nL 96.929962 158.559453 \r\nL 97.849742 159.578768 \r\nL 98.769523 159.578909 \r\nL 99.689303 159.804672 \r\nL 100.609083 163.547152 \r\nL 101.528863 165.262539 \r\nL 102.448644 164.949077 \r\nL 103.368424 167.408354 \r\nL 104.288204 165.04869 \r\nL 105.207984 164.126049 \r\nL 106.127764 165.084203 \r\nL 107.047545 165.494661 \r\nL 107.967325 162.026117 \r\nL 108.887105 160.282145 \r\nL 109.806885 159.573705 \r\nL 110.726666 162.211158 \r\nL 111.646446 159.174799 \r\nL 112.566226 157.213921 \r\nL 113.486006 157.490437 \r\nL 114.405786 158.514657 \r\nL 115.325567 158.864767 \r\nL 116.245347 161.104265 \r\nL 117.165127 161.981453 \r\nL 118.084907 160.5595 \r\nL 119.004688 163.927535 \r\nL 119.924468 164.512732 \r\nL 121.764028 164.107805 \r\nL 123.603589 168.507085 \r\nL 124.523369 166.477707 \r\nL 125.443149 168.7593 \r\nL 126.362929 166.87994 \r\nL 127.282709 167.778703 \r\nL 128.20249 165.766782 \r\nL 129.12227 166.551353 \r\nL 130.04205 168.72477 \r\nL 130.96183 167.128802 \r\nL 131.881611 167.161206 \r\nL 132.801391 164.462158 \r\nL 133.721171 162.799774 \r\nL 134.640951 163.227251 \r\nL 135.560731 164.06509 \r\nL 136.480512 164.021542 \r\nL 137.400292 163.667135 \r\nL 138.320072 165.310045 \r\nL 139.239852 163.741308 \r\nL 141.079413 165.269895 \r\nL 141.999193 166.277328 \r\nL 142.918973 165.846887 \r\nL 143.838753 167.136349 \r\nL 144.758534 166.884867 \r\nL 145.678314 161.730017 \r\nL 146.598094 161.829904 \r\nL 147.517874 162.63856 \r\nL 148.437655 165.745868 \r\nL 149.357435 165.652292 \r\nL 150.277215 167.719057 \r\nL 151.196995 168.418813 \r\nL 152.116775 168.136331 \r\nL 153.036556 171.361583 \r\nL 153.956336 171.068191 \r\nL 154.876116 170.500806 \r\nL 155.795896 172.917617 \r\nL 156.715677 173.648583 \r\nL 157.635457 177.059557 \r\nL 158.555237 174.124018 \r\nL 159.475017 173.508099 \r\nL 161.314578 174.147236 \r\nL 162.234358 172.039084 \r\nL 163.154138 172.214537 \r\nL 164.073918 171.598145 \r\nL 164.993698 168.768572 \r\nL 165.913479 169.413565 \r\nL 166.833259 171.449408 \r\nL 167.753039 172.985652 \r\nL 168.672819 170.323706 \r\nL 169.5926 170.153353 \r\nL 170.51238 171.089317 \r\nL 172.35194 167.415747 \r\nL 173.27172 168.301994 \r\nL 174.191501 170.112947 \r\nL 175.111281 173.039221 \r\nL 176.031061 176.381669 \r\nL 176.950841 176.875403 \r\nL 177.870622 178.539643 \r\nL 178.790402 175.076856 \r\nL 179.710182 174.967786 \r\nL 180.629962 178.58648 \r\nL 181.549742 175.943044 \r\nL 182.469523 175.641739 \r\nL 184.309083 173.057397 \r\nL 185.228863 172.50484 \r\nL 186.148644 171.529726 \r\nL 187.068424 171.084858 \r\nL 187.988204 173.146322 \r\nL 188.907984 172.463011 \r\nL 189.827764 170.555228 \r\nL 190.747545 170.946614 \r\nL 191.667325 169.919405 \r\nL 192.587105 169.137609 \r\nL 193.506885 165.75461 \r\nL 195.346446 166.76962 \r\nL 197.186006 167.178271 \r\nL 198.105786 171.412706 \r\nL 199.025567 172.610044 \r\nL 199.945347 172.051286 \r\nL 200.865127 172.066669 \r\nL 201.784907 173.556031 \r\nL 202.704688 174.794676 \r\nL 203.624468 175.457269 \r\nL 204.544248 176.95079 \r\nL 206.383808 178.911742 \r\nL 208.223369 175.349667 \r\nL 209.143149 173.610173 \r\nL 210.062929 172.815124 \r\nL 210.982709 174.1349 \r\nL 211.90249 172.346504 \r\nL 212.82227 172.932029 \r\nL 213.74205 172.889077 \r\nL 214.66183 170.395649 \r\nL 215.581611 170.23915 \r\nL 216.501391 169.7784 \r\nL 217.421171 172.41075 \r\nL 218.340951 171.503334 \r\nL 219.260731 173.329323 \r\nL 220.180512 171.443835 \r\nL 221.100292 171.787788 \r\nL 222.020072 175.95431 \r\nL 222.939852 176.621388 \r\nL 223.859633 177.046271 \r\nL 224.779413 176.141714 \r\nL 225.699193 174.892387 \r\nL 226.618973 175.503091 \r\nL 227.538753 173.615873 \r\nL 228.458534 179.516862 \r\nL 229.378314 180.847196 \r\nL 231.217874 185.256646 \r\nL 232.137655 183.468481 \r\nL 233.057435 181.923537 \r\nL 233.977215 183.368983 \r\nL 234.896995 181.173979 \r\nL 235.816775 180.984921 \r\nL 236.736556 181.770621 \r\nL 238.576116 184.511811 \r\nL 239.495896 183.630918 \r\nL 240.415677 182.419522 \r\nL 241.335457 181.975137 \r\nL 242.255237 185.795187 \r\nL 243.175017 185.243 \r\nL 244.094797 184.189529 \r\nL 245.014578 185.436421 \r\nL 245.934358 185.355835 \r\nL 246.854138 188.828701 \r\nL 247.773918 191.120431 \r\nL 249.613479 192.301701 \r\nL 250.533259 191.646437 \r\nL 251.453039 193.857966 \r\nL 252.372819 194.493715 \r\nL 253.2926 195.406293 \r\nL 254.21238 194.422482 \r\nL 255.13216 191.774736 \r\nL 256.05194 188.568246 \r\nL 256.97172 191.490628 \r\nL 257.891501 191.58009 \r\nL 258.811281 193.653001 \r\nL 259.731061 193.773637 \r\nL 260.650841 192.985636 \r\nL 261.570622 192.833799 \r\nL 262.490402 192.925119 \r\nL 263.410182 190.161859 \r\nL 264.329962 188.818482 \r\nL 265.249742 189.326503 \r\nL 266.169523 189.281391 \r\nL 267.089303 187.658699 \r\nL 268.009083 186.522512 \r\nL 268.928863 187.314531 \r\nL 269.848644 190.622237 \r\nL 270.768424 192.82954 \r\nL 271.688204 192.557545 \r\nL 272.607984 195.886276 \r\nL 273.527764 196.170224 \r\nL 274.447545 197.015333 \r\nL 275.367325 195.153484 \r\nL 276.287105 197.609318 \r\nL 277.206885 201.20867 \r\nL 278.126666 201.990562 \r\nL 279.046446 200.807845 \r\nL 279.966226 198.814328 \r\nL 280.886006 200.508624 \r\nL 281.805786 199.632409 \r\nL 282.725567 201.703272 \r\nL 283.645347 203.098519 \r\nL 284.565127 202.040953 \r\nL 285.484907 200.702865 \r\nL 286.404688 202.564952 \r\nL 287.324468 201.680102 \r\nL 288.244248 205.161569 \r\nL 289.164028 205.539171 \r\nL 290.083808 207.652549 \r\nL 291.003589 209.157488 \r\nL 291.923369 211.535128 \r\nL 293.762929 209.471587 \r\nL 294.682709 210.75946 \r\nL 295.60249 210.059659 \r\nL 296.52227 209.572845 \r\nL 297.44205 209.812182 \r\nL 298.36183 205.79099 \r\nL 299.281611 207.35775 \r\nL 300.201391 207.331096 \r\nL 302.040951 208.736291 \r\nL 302.960731 208.439268 \r\nL 303.880512 208.987799 \r\nL 304.800292 210.590981 \r\nL 305.720072 210.359516 \r\nL 306.639852 208.156546 \r\nL 307.559633 206.399945 \r\nL 308.479413 206.021624 \r\nL 309.399193 207.391846 \r\nL 310.318973 207.044482 \r\nL 312.158534 202.804057 \r\nL 313.078314 202.133873 \r\nL 313.998094 202.812759 \r\nL 314.917874 203.190536 \r\nL 316.757435 200.473199 \r\nL 317.677215 203.748218 \r\nL 319.516775 201.195753 \r\nL 321.356336 204.274149 \r\nL 323.195896 206.952423 \r\nL 324.115677 209.592169 \r\nL 325.035457 209.008803 \r\nL 325.955237 210.472788 \r\nL 326.875017 210.60393 \r\nL 327.794797 211.531021 \r\nL 328.714578 211.055564 \r\nL 329.634358 212.938587 \r\nL 330.554138 212.481599 \r\nL 331.473918 211.755343 \r\nL 332.393698 210.213334 \r\nL 333.313479 206.546905 \r\nL 334.233259 210.444996 \r\nL 335.153039 209.848173 \r\nL 336.072819 211.169514 \r\nL 336.9926 214.756364 \r\nL 337.91238 213.188203 \r\nL 338.83216 210.705992 \r\nL 339.75194 211.435689 \r\nL 340.67172 211.042701 \r\nL 341.591501 211.162092 \r\nL 342.511281 210.353077 \r\nL 343.431061 208.712426 \r\nL 345.270622 207.425472 \r\nL 346.190402 205.078278 \r\nL 347.110182 205.385084 \r\nL 348.029962 203.665192 \r\nL 348.949742 205.196777 \r\nL 349.869523 202.20239 \r\nL 350.789303 200.827643 \r\nL 351.709083 201.579944 \r\nL 352.628863 205.519858 \r\nL 353.548644 205.520437 \r\nL 354.468424 207.722433 \r\nL 355.388204 207.164142 \r\nL 356.307984 204.460264 \r\nL 357.227764 204.162034 \r\nL 358.147545 204.493714 \r\nL 359.987105 203.323868 \r\nL 360.906885 207.726454 \r\nL 361.826666 207.27753 \r\nL 362.746446 206.121804 \r\nL 363.666226 206.60502 \r\nL 364.586006 204.781728 \r\nL 365.505786 205.019617 \r\nL 366.425567 203.590513 \r\nL 367.345347 199.355169 \r\nL 368.265127 199.534769 \r\nL 369.184907 203.15343 \r\nL 370.104688 203.780582 \r\nL 370.104688 203.780582 \r\n\" style=\"fill:none;stroke:#d55e00;stroke-linecap:square;stroke-width:1.5;\"/>\r\n   </g>\r\n   <g id=\"patch_3\">\r\n    <path d=\"M 35.304688 224.64 \r\nL 35.304688 7.2 \r\n\" style=\"fill:none;stroke:#000000;stroke-linecap:square;stroke-linejoin:miter;stroke-width:0.8;\"/>\r\n   </g>\r\n   <g id=\"patch_4\">\r\n    <path d=\"M 370.104688 224.64 \r\nL 370.104688 7.2 \r\n\" style=\"fill:none;stroke:#000000;stroke-linecap:square;stroke-linejoin:miter;stroke-width:0.8;\"/>\r\n   </g>\r\n   <g id=\"patch_5\">\r\n    <path d=\"M 35.304688 224.64 \r\nL 370.104688 224.64 \r\n\" style=\"fill:none;stroke:#000000;stroke-linecap:square;stroke-linejoin:miter;stroke-width:0.8;\"/>\r\n   </g>\r\n   <g id=\"patch_6\">\r\n    <path d=\"M 35.304688 7.2 \r\nL 370.104688 7.2 \r\n\" style=\"fill:none;stroke:#000000;stroke-linecap:square;stroke-linejoin:miter;stroke-width:0.8;\"/>\r\n   </g>\r\n   <g id=\"legend_1\">\r\n    <g id=\"patch_7\">\r\n     <path d=\"M 42.304688 219.64 \r\nL 81.2875 219.64 \r\nQ 83.2875 219.64 83.2875 217.64 \r\nL 83.2875 174.605625 \r\nQ 83.2875 172.605625 81.2875 172.605625 \r\nL 42.304688 172.605625 \r\nQ 40.304688 172.605625 40.304688 174.605625 \r\nL 40.304688 217.64 \r\nQ 40.304688 219.64 42.304688 219.64 \r\nz\r\n\" style=\"fill:#ffffff;opacity:0.8;stroke:#cccccc;stroke-linejoin:miter;\"/>\r\n    </g>\r\n    <g id=\"line2d_74\">\r\n     <path d=\"M 44.304688 180.704062 \r\nL 64.304688 180.704062 \r\n\" style=\"fill:none;stroke:#0072b2;stroke-linecap:square;stroke-width:1.5;\"/>\r\n    </g>\r\n    <g id=\"line2d_75\"/>\r\n    <g id=\"text_19\">\r\n     <!-- A -->\r\n     <g transform=\"translate(72.304688 184.204062)scale(0.1 -0.1)\">\r\n      <use xlink:href=\"#DejaVuSans-41\"/>\r\n     </g>\r\n    </g>\r\n    <g id=\"line2d_76\">\r\n     <path d=\"M 44.304688 195.382187 \r\nL 64.304688 195.382187 \r\n\" style=\"fill:none;stroke:#009e73;stroke-linecap:square;stroke-width:1.5;\"/>\r\n    </g>\r\n    <g id=\"line2d_77\"/>\r\n    <g id=\"text_20\">\r\n     <!-- B -->\r\n     <g transform=\"translate(72.304688 198.882187)scale(0.1 -0.1)\">\r\n      <defs>\r\n       <path d=\"M 1259 2228 \r\nL 1259 519 \r\nL 2272 519 \r\nQ 2781 519 3026 730 \r\nQ 3272 941 3272 1375 \r\nQ 3272 1813 3026 2020 \r\nQ 2781 2228 2272 2228 \r\nL 1259 2228 \r\nz\r\nM 1259 4147 \r\nL 1259 2741 \r\nL 2194 2741 \r\nQ 2656 2741 2882 2914 \r\nQ 3109 3088 3109 3444 \r\nQ 3109 3797 2882 3972 \r\nQ 2656 4147 2194 4147 \r\nL 1259 4147 \r\nz\r\nM 628 4666 \r\nL 2241 4666 \r\nQ 2963 4666 3353 4366 \r\nQ 3744 4066 3744 3513 \r\nQ 3744 3084 3544 2831 \r\nQ 3344 2578 2956 2516 \r\nQ 3422 2416 3680 2098 \r\nQ 3938 1781 3938 1306 \r\nQ 3938 681 3513 340 \r\nQ 3088 0 2303 0 \r\nL 628 0 \r\nL 628 4666 \r\nz\r\n\" id=\"DejaVuSans-42\" transform=\"scale(0.015625)\"/>\r\n      </defs>\r\n      <use xlink:href=\"#DejaVuSans-42\"/>\r\n     </g>\r\n    </g>\r\n    <g id=\"line2d_78\">\r\n     <path d=\"M 44.304688 210.060313 \r\nL 64.304688 210.060313 \r\n\" style=\"fill:none;stroke:#d55e00;stroke-linecap:square;stroke-width:1.5;\"/>\r\n    </g>\r\n    <g id=\"line2d_79\"/>\r\n    <g id=\"text_21\">\r\n     <!-- C -->\r\n     <g transform=\"translate(72.304688 213.560313)scale(0.1 -0.1)\">\r\n      <defs>\r\n       <path d=\"M 4122 4306 \r\nL 4122 3641 \r\nQ 3803 3938 3442 4084 \r\nQ 3081 4231 2675 4231 \r\nQ 1875 4231 1450 3742 \r\nQ 1025 3253 1025 2328 \r\nQ 1025 1406 1450 917 \r\nQ 1875 428 2675 428 \r\nQ 3081 428 3442 575 \r\nQ 3803 722 4122 1019 \r\nL 4122 359 \r\nQ 3791 134 3420 21 \r\nQ 3050 -91 2638 -91 \r\nQ 1578 -91 968 557 \r\nQ 359 1206 359 2328 \r\nQ 359 3453 968 4101 \r\nQ 1578 4750 2638 4750 \r\nQ 3056 4750 3426 4639 \r\nQ 3797 4528 4122 4306 \r\nz\r\n\" id=\"DejaVuSans-43\" transform=\"scale(0.015625)\"/>\r\n      </defs>\r\n      <use xlink:href=\"#DejaVuSans-43\"/>\r\n     </g>\r\n    </g>\r\n   </g>\r\n  </g>\r\n </g>\r\n <defs>\r\n  <clipPath id=\"p9f0a3fb3f9\">\r\n   <rect height=\"217.44\" width=\"334.8\" x=\"35.304688\" y=\"7.2\"/>\r\n  </clipPath>\r\n </defs>\r\n</svg>\r\n",
      "image/png": "[encoded data removed]"
     },
     "metadata": {
      "needs_background": "light"
     }
    }
   ],
   "metadata": {}
  },
  {
   "cell_type": "markdown",
   "source": [
    "<font color = green >\n",
    "\n",
    "### pandas scatter\n",
    "</font>"
   ],
   "metadata": {}
  },
  {
   "cell_type": "code",
   "execution_count": 152,
   "source": [
    "df.plot.scatter('A', 'C', c=df['B'], s=df['B'], colormap='viridis') \r\n",
    "# Note:: colorbar"
   ],
   "outputs": [
    {
     "output_type": "execute_result",
     "data": {
      "text/plain": [
       "<AxesSubplot:xlabel='A', ylabel='C'>"
      ]
     },
     "metadata": {},
     "execution_count": 152
    },
    {
     "output_type": "display_data",
     "data": {
      "text/plain": [
       "<Figure size 432x288 with 2 Axes>"
      ],
      "image/svg+xml": "<?xml version=\"1.0\" encoding=\"utf-8\" standalone=\"no\"?>\r\n<!DOCTYPE svg PUBLIC \"-//W3C//DTD SVG 1.1//EN\"\r\n  \"http://www.w3.org/Graphics/SVG/1.1/DTD/svg11.dtd\">\r\n<svg height=\"236.082697pt\" version=\"1.1\" viewBox=\"0 0 371.359813 236.082697\" width=\"371.359813pt\" xmlns=\"http://www.w3.org/2000/svg\" xmlns:xlink=\"http://www.w3.org/1999/xlink\">\r\n <metadata>\r\n  <rdf:RDF xmlns:cc=\"http://creativecommons.org/ns#\" xmlns:dc=\"http://purl.org/dc/elements/1.1/\" xmlns:rdf=\"http://www.w3.org/1999/02/22-rdf-syntax-ns#\">\r\n   <cc:Work>\r\n    <dc:type rdf:resource=\"http://purl.org/dc/dcmitype/StillImage\"/>\r\n    <dc:date>2021-08-19T12:15:11.715386</dc:date>\r\n    <dc:format>image/svg+xml</dc:format>\r\n    <dc:creator>\r\n     <cc:Agent>\r\n      <dc:title>Matplotlib v3.4.3, https://matplotlib.org/</dc:title>\r\n     </cc:Agent>\r\n    </dc:creator>\r\n   </cc:Work>\r\n  </rdf:RDF>\r\n </metadata>\r\n <defs>\r\n  <style type=\"text/css\">*{stroke-linecap:butt;stroke-linejoin:round;}</style>\r\n </defs>\r\n <g id=\"figure_1\">\r\n  <g id=\"patch_1\">\r\n   <path d=\"M 0 236.082697 \r\nL 371.359813 236.082697 \r\nL 371.359813 0 \r\nL 0 0 \r\nz\r\n\" style=\"fill:none;\"/>\r\n  </g>\r\n  <g id=\"axes_1\">\r\n   <g id=\"patch_2\">\r\n    <path d=\"M 48.982813 224.64 \r\nL 316.822813 224.64 \r\nL 316.822813 7.2 \r\nL 48.982813 7.2 \r\nz\r\n\" style=\"fill:#ffffff;\"/>\r\n   </g>\r\n   <g id=\"PathCollection_1\">\r\n    <path clip-path=\"url(#p3e2599a388)\" d=\"M 207.910346 39.950319 \r\nC 208.504237 39.950319 209.073883 39.714364 209.493827 39.29442 \r\nC 209.913771 38.874476 210.149726 38.30483 210.149726 37.710939 \r\nC 210.149726 37.117049 209.913771 36.547403 209.493827 36.127459 \r\nC 209.073883 35.707515 208.504237 35.471559 207.910346 35.471559 \r\nC 207.316456 35.471559 206.746809 35.707515 206.326865 36.127459 \r\nC 205.906921 36.547403 205.670966 37.117049 205.670966 37.710939 \r\nC 205.670966 38.30483 205.906921 38.874476 206.326865 39.29442 \r\nC 206.746809 39.714364 207.316456 39.950319 207.910346 39.950319 \r\nz\r\n\" style=\"fill:#2c738e;stroke:#2c738e;\"/>\r\n    <path clip-path=\"url(#p3e2599a388)\" d=\"M 217.055015 26.748472 \r\nC 217.674185 26.748472 218.268079 26.502473 218.705899 26.064654 \r\nC 219.143718 25.626834 219.389717 25.03294 219.389717 24.41377 \r\nC 219.389717 23.7946 219.143718 23.200706 218.705899 22.762886 \r\nC 218.268079 22.325067 217.674185 22.079068 217.055015 22.079068 \r\nC 216.435845 22.079068 215.841951 22.325067 215.404131 22.762886 \r\nC 214.966312 23.200706 214.720313 23.7946 214.720313 24.41377 \r\nC 214.720313 25.03294 214.966312 25.626834 215.404131 26.064654 \r\nC 215.841951 26.502473 216.435845 26.748472 217.055015 26.748472 \r\nz\r\n\" style=\"fill:#26828e;stroke:#26828e;\"/>\r\n    <path clip-path=\"url(#p3e2599a388)\" d=\"M 219.649647 28.170979 \r\nC 220.254921 28.170979 220.835485 27.930502 221.263478 27.502509 \r\nC 221.691471 27.074516 221.931948 26.493952 221.931948 25.888678 \r\nC 221.931948 25.283405 221.691471 24.702841 221.263478 24.274848 \r\nC 220.835485 23.846855 220.254921 23.606378 219.649647 23.606378 \r\nC 219.044374 23.606378 218.46381 23.846855 218.035817 24.274848 \r\nC 217.607824 24.702841 217.367347 25.283405 217.367347 25.888678 \r\nC 217.367347 26.493952 217.607824 27.074516 218.035817 27.502509 \r\nC 218.46381 27.930502 219.044374 28.170979 219.649647 28.170979 \r\nz\r\n\" style=\"fill:#29798e;stroke:#29798e;\"/>\r\n    <path clip-path=\"url(#p3e2599a388)\" d=\"M 205.838418 28.336516 \r\nC 206.449755 28.336516 207.036136 28.093629 207.468417 27.661349 \r\nC 207.900697 27.229068 208.143584 26.642687 208.143584 26.03135 \r\nC 208.143584 25.420013 207.900697 24.833633 207.468417 24.401352 \r\nC 207.036136 23.969071 206.449755 23.726185 205.838418 23.726185 \r\nC 205.227081 23.726185 204.640701 23.969071 204.20842 24.401352 \r\nC 203.776139 24.833633 203.533253 25.420013 203.533253 26.03135 \r\nC 203.533253 26.642687 203.776139 27.229068 204.20842 27.661349 \r\nC 204.640701 28.093629 205.227081 28.336516 205.838418 28.336516 \r\nz\r\n\" style=\"fill:#287d8e;stroke:#287d8e;\"/>\r\n    <path clip-path=\"url(#p3e2599a388)\" d=\"M 200.533228 37.375497 \r\nC 201.147533 37.375497 201.736761 37.131431 202.171141 36.697051 \r\nC 202.605521 36.262672 202.849587 35.673444 202.849587 35.059138 \r\nC 202.849587 34.444832 202.605521 33.855604 202.171141 33.421225 \r\nC 201.736761 32.986845 201.147533 32.742779 200.533228 32.742779 \r\nC 199.918922 32.742779 199.329694 32.986845 198.895314 33.421225 \r\nC 198.460935 33.855604 198.216868 34.444832 198.216868 35.059138 \r\nC 198.216868 35.673444 198.460935 36.262672 198.895314 36.697051 \r\nC 199.329694 37.131431 199.918922 37.375497 200.533228 37.375497 \r\nz\r\n\" style=\"fill:#277f8e;stroke:#277f8e;\"/>\r\n    <path clip-path=\"url(#p3e2599a388)\" d=\"M 215.675263 33.131944 \r\nC 216.256454 33.131944 216.813918 32.901034 217.224882 32.49007 \r\nC 217.635846 32.079107 217.866755 31.521642 217.866755 30.940452 \r\nC 217.866755 30.359261 217.635846 29.801796 217.224882 29.390833 \r\nC 216.813918 28.979869 216.256454 28.74896 215.675263 28.74896 \r\nC 215.094073 28.74896 214.536608 28.979869 214.125644 29.390833 \r\nC 213.714681 29.801796 213.483771 30.359261 213.483771 30.940452 \r\nC 213.483771 31.521642 213.714681 32.079107 214.125644 32.49007 \r\nC 214.536608 32.901034 215.094073 33.131944 215.675263 33.131944 \r\nz\r\n\" style=\"fill:#2f6c8e;stroke:#2f6c8e;\"/>\r\n    <path clip-path=\"url(#p3e2599a388)\" d=\"M 193.425021 35.154153 \r\nC 193.997233 35.154153 194.546085 34.926811 194.9507 34.522196 \r\nC 195.355315 34.117581 195.582657 33.568729 195.582657 32.996517 \r\nC 195.582657 32.424305 195.355315 31.875453 194.9507 31.470838 \r\nC 194.546085 31.066223 193.997233 30.838881 193.425021 30.838881 \r\nC 192.852809 30.838881 192.303956 31.066223 191.899341 31.470838 \r\nC 191.494727 31.875453 191.267384 32.424305 191.267384 32.996517 \r\nC 191.267384 33.568729 191.494727 34.117581 191.899341 34.522196 \r\nC 192.303956 34.926811 192.852809 35.154153 193.425021 35.154153 \r\nz\r\n\" style=\"fill:#31678e;stroke:#31678e;\"/>\r\n    <path clip-path=\"url(#p3e2599a388)\" d=\"M 189.492317 35.445059 \r\nC 190.081652 35.445059 190.646929 35.210914 191.063651 34.794191 \r\nC 191.480374 34.377468 191.714519 33.812192 191.714519 33.222857 \r\nC 191.714519 32.633522 191.480374 32.068245 191.063651 31.651522 \r\nC 190.646929 31.2348 190.081652 31.000654 189.492317 31.000654 \r\nC 188.902982 31.000654 188.337706 31.2348 187.920983 31.651522 \r\nC 187.50426 32.068245 187.270115 32.633522 187.270115 33.222857 \r\nC 187.270115 33.812192 187.50426 34.377468 187.920983 34.794191 \r\nC 188.337706 35.210914 188.902982 35.445059 189.492317 35.445059 \r\nz\r\n\" style=\"fill:#2d718e;stroke:#2d718e;\"/>\r\n    <path clip-path=\"url(#p3e2599a388)\" d=\"M 201.099697 37.418566 \r\nC 201.691044 37.418566 202.25825 37.183621 202.676395 36.765476 \r\nC 203.09454 36.347331 203.329485 35.780125 203.329485 35.188778 \r\nC 203.329485 34.597432 203.09454 34.030226 202.676395 33.61208 \r\nC 202.25825 33.193935 201.691044 32.958991 201.099697 32.958991 \r\nC 200.508351 32.958991 199.941145 33.193935 199.523 33.61208 \r\nC 199.104855 34.030226 198.86991 34.597432 198.86991 35.188778 \r\nC 198.86991 35.780125 199.104855 36.347331 199.523 36.765476 \r\nC 199.941145 37.183621 200.508351 37.418566 201.099697 37.418566 \r\nz\r\n\" style=\"fill:#2c718e;stroke:#2c718e;\"/>\r\n    <path clip-path=\"url(#p3e2599a388)\" d=\"M 193.152547 37.865862 \r\nC 193.725588 37.865862 194.275235 37.638191 194.680436 37.23299 \r\nC 195.085636 36.827789 195.313308 36.278142 195.313308 35.705102 \r\nC 195.313308 35.132061 195.085636 34.582414 194.680436 34.177214 \r\nC 194.275235 33.772013 193.725588 33.544342 193.152547 33.544342 \r\nC 192.579507 33.544342 192.02986 33.772013 191.624659 34.177214 \r\nC 191.219458 34.582414 190.991787 35.132061 190.991787 35.705102 \r\nC 190.991787 36.278142 191.219458 36.827789 191.624659 37.23299 \r\nC 192.02986 37.638191 192.579507 37.865862 193.152547 37.865862 \r\nz\r\n\" style=\"fill:#31688e;stroke:#31688e;\"/>\r\n    <path clip-path=\"url(#p3e2599a388)\" d=\"M 186.927834 38.963727 \r\nC 187.511376 38.963727 188.071097 38.731883 188.483723 38.319257 \r\nC 188.89635 37.90663 189.128193 37.34691 189.128193 36.763368 \r\nC 189.128193 36.179826 188.89635 35.620106 188.483723 35.207479 \r\nC 188.071097 34.794853 187.511376 34.563009 186.927834 34.563009 \r\nC 186.344292 34.563009 185.784572 34.794853 185.371946 35.207479 \r\nC 184.959319 35.620106 184.727476 36.179826 184.727476 36.763368 \r\nC 184.727476 37.34691 184.959319 37.90663 185.371946 38.319257 \r\nC 185.784572 38.731883 186.344292 38.963727 186.927834 38.963727 \r\nz\r\n\" style=\"fill:#2e6e8e;stroke:#2e6e8e;\"/>\r\n    <path clip-path=\"url(#p3e2599a388)\" d=\"M 186.059447 39.096585 \r\nC 186.635725 39.096585 187.188479 38.867627 187.595969 38.460136 \r\nC 188.003459 38.052646 188.232417 37.499893 188.232417 36.923615 \r\nC 188.232417 36.347336 188.003459 35.794583 187.595969 35.387093 \r\nC 187.188479 34.979603 186.635725 34.750645 186.059447 34.750645 \r\nC 185.483169 34.750645 184.930416 34.979603 184.522925 35.387093 \r\nC 184.115435 35.794583 183.886477 36.347336 183.886477 36.923615 \r\nC 183.886477 37.499893 184.115435 38.052646 184.522925 38.460136 \r\nC 184.930416 38.867627 185.483169 39.096585 186.059447 39.096585 \r\nz\r\n\" style=\"fill:#306a8e;stroke:#306a8e;\"/>\r\n    <path clip-path=\"url(#p3e2599a388)\" d=\"M 199.734011 39.313781 \r\nC 200.315757 39.313781 200.873753 39.082651 201.285109 38.671295 \r\nC 201.696465 38.259939 201.927595 37.701943 201.927595 37.120197 \r\nC 201.927595 36.538452 201.696465 35.980455 201.285109 35.569099 \r\nC 200.873753 35.157743 200.315757 34.926613 199.734011 34.926613 \r\nC 199.152266 34.926613 198.594269 35.157743 198.182913 35.569099 \r\nC 197.771557 35.980455 197.540427 36.538452 197.540427 37.120197 \r\nC 197.540427 37.701943 197.771557 38.259939 198.182913 38.671295 \r\nC 198.594269 39.082651 199.152266 39.313781 199.734011 39.313781 \r\nz\r\n\" style=\"fill:#2e6d8e;stroke:#2e6d8e;\"/>\r\n    <path clip-path=\"url(#p3e2599a388)\" d=\"M 193.875913 39.90927 \r\nC 194.463327 39.90927 195.026761 39.675888 195.442126 39.260524 \r\nC 195.85749 38.845159 196.090872 38.281725 196.090872 37.694311 \r\nC 196.090872 37.106898 195.85749 36.543464 195.442126 36.128099 \r\nC 195.026761 35.712735 194.463327 35.479353 193.875913 35.479353 \r\nC 193.2885 35.479353 192.725066 35.712735 192.309701 36.128099 \r\nC 191.894337 36.543464 191.660955 37.106898 191.660955 37.694311 \r\nC 191.660955 38.281725 191.894337 38.845159 192.309701 39.260524 \r\nC 192.725066 39.675888 193.2885 39.90927 193.875913 39.90927 \r\nz\r\n\" style=\"fill:#2d708e;stroke:#2d708e;\"/>\r\n    <path clip-path=\"url(#p3e2599a388)\" d=\"M 189.805039 40.470226 \r\nC 190.375464 40.470226 190.922603 40.243594 191.325954 39.840242 \r\nC 191.729306 39.436891 191.955938 38.889752 191.955938 38.319327 \r\nC 191.955938 37.748902 191.729306 37.201763 191.325954 36.798411 \r\nC 190.922603 36.39506 190.375464 36.168428 189.805039 36.168428 \r\nC 189.234614 36.168428 188.687475 36.39506 188.284124 36.798411 \r\nC 187.880772 37.201763 187.65414 37.748902 187.65414 38.319327 \r\nC 187.65414 38.889752 187.880772 39.436891 188.284124 39.840242 \r\nC 188.687475 40.243594 189.234614 40.470226 189.805039 40.470226 \r\nz\r\n\" style=\"fill:#31668e;stroke:#31668e;\"/>\r\n    <path clip-path=\"url(#p3e2599a388)\" d=\"M 185.822469 35.643967 \r\nC 186.40494 35.643967 186.963632 35.412549 187.375502 35.00068 \r\nC 187.787371 34.588811 188.018789 34.030118 188.018789 33.447647 \r\nC 188.018789 32.865176 187.787371 32.306483 187.375502 31.894614 \r\nC 186.963632 31.482744 186.40494 31.251326 185.822469 31.251326 \r\nC 185.239998 31.251326 184.681305 31.482744 184.269435 31.894614 \r\nC 183.857566 32.306483 183.626148 32.865176 183.626148 33.447647 \r\nC 183.626148 34.030118 183.857566 34.588811 184.269435 35.00068 \r\nC 184.681305 35.412549 185.239998 35.643967 185.822469 35.643967 \r\nz\r\n\" style=\"fill:#2e6d8e;stroke:#2e6d8e;\"/>\r\n    <path clip-path=\"url(#p3e2599a388)\" d=\"M 206.04866 32.304298 \r\nC 206.61572 32.304298 207.159632 32.079003 207.560604 31.678031 \r\nC 207.961576 31.277059 208.186871 30.733147 208.186871 30.166087 \r\nC 208.186871 29.599027 207.961576 29.055116 207.560604 28.654144 \r\nC 207.159632 28.253171 206.61572 28.027876 206.04866 28.027876 \r\nC 205.4816 28.027876 204.937689 28.253171 204.536717 28.654144 \r\nC 204.135745 29.055116 203.910449 29.599027 203.910449 30.166087 \r\nC 203.910449 30.733147 204.135745 31.277059 204.536717 31.678031 \r\nC 204.937689 32.079003 205.4816 32.304298 206.04866 32.304298 \r\nz\r\n\" style=\"fill:#32648e;stroke:#32648e;\"/>\r\n    <path clip-path=\"url(#p3e2599a388)\" d=\"M 226.09932 28.922556 \r\nC 226.645761 28.922556 227.169895 28.705453 227.556287 28.319061 \r\nC 227.942678 27.932669 228.159782 27.408535 228.159782 26.862095 \r\nC 228.159782 26.315654 227.942678 25.791521 227.556287 25.405129 \r\nC 227.169895 25.018737 226.645761 24.801634 226.09932 24.801634 \r\nC 225.55288 24.801634 225.028746 25.018737 224.642354 25.405129 \r\nC 224.255962 25.791521 224.038859 26.315654 224.038859 26.862095 \r\nC 224.038859 27.408535 224.255962 27.932669 224.642354 28.319061 \r\nC 225.028746 28.705453 225.55288 28.922556 226.09932 28.922556 \r\nz\r\n\" style=\"fill:#38598c;stroke:#38598c;\"/>\r\n    <path clip-path=\"url(#p3e2599a388)\" d=\"M 235.305499 31.595227 \r\nC 235.837547 31.595227 236.347874 31.383843 236.724089 31.007628 \r\nC 237.100303 30.631414 237.311688 30.121086 237.311688 29.589039 \r\nC 237.311688 29.056991 237.100303 28.546664 236.724089 28.170449 \r\nC 236.347874 27.794235 235.837547 27.58285 235.305499 27.58285 \r\nC 234.773452 27.58285 234.263124 27.794235 233.88691 28.170449 \r\nC 233.510695 28.546664 233.29931 29.056991 233.29931 29.589039 \r\nC 233.29931 30.121086 233.510695 30.631414 233.88691 31.007628 \r\nC 234.263124 31.383843 234.773452 31.595227 235.305499 31.595227 \r\nz\r\n\" style=\"fill:#3c508b;stroke:#3c508b;\"/>\r\n    <path clip-path=\"url(#p3e2599a388)\" d=\"M 238.846446 26.894339 \r\nC 239.372743 26.894339 239.877556 26.685239 240.249704 26.31309 \r\nC 240.621853 25.940942 240.830953 25.436129 240.830953 24.909831 \r\nC 240.830953 24.383534 240.621853 23.878721 240.249704 23.506573 \r\nC 239.877556 23.134424 239.372743 22.925324 238.846446 22.925324 \r\nC 238.320148 22.925324 237.815335 23.134424 237.443187 23.506573 \r\nC 237.071038 23.878721 236.861938 24.383534 236.861938 24.909831 \r\nC 236.861938 25.436129 237.071038 25.940942 237.443187 26.31309 \r\nC 237.815335 26.685239 238.320148 26.894339 238.846446 26.894339 \r\nz\r\n\" style=\"fill:#3d4d8a;stroke:#3d4d8a;\"/>\r\n    <path clip-path=\"url(#p3e2599a388)\" d=\"M 245.607384 22.688049 \r\nC 246.135506 22.688049 246.642069 22.478224 247.015507 22.104785 \r\nC 247.388946 21.731346 247.598771 21.224784 247.598771 20.696662 \r\nC 247.598771 20.16854 247.388946 19.661978 247.015507 19.288539 \r\nC 246.642069 18.9151 246.135506 18.705275 245.607384 18.705275 \r\nC 245.079262 18.705275 244.5727 18.9151 244.199261 19.288539 \r\nC 243.825823 19.661978 243.615998 20.16854 243.615998 20.696662 \r\nC 243.615998 21.224784 243.825823 21.731346 244.199261 22.104785 \r\nC 244.5727 22.478224 245.079262 22.688049 245.607384 22.688049 \r\nz\r\n\" style=\"fill:#3d4e8a;stroke:#3d4e8a;\"/>\r\n    <path clip-path=\"url(#p3e2599a388)\" d=\"M 259.275919 24.6993 \r\nC 259.791019 24.6993 260.285092 24.494649 260.649323 24.130418 \r\nC 261.013554 23.766187 261.218205 23.272114 261.218205 22.757014 \r\nC 261.218205 22.241914 261.013554 21.747841 260.649323 21.38361 \r\nC 260.285092 21.01938 259.791019 20.814728 259.275919 20.814728 \r\nC 258.760819 20.814728 258.266746 21.01938 257.902515 21.38361 \r\nC 257.538284 21.747841 257.333633 22.241914 257.333633 22.757014 \r\nC 257.333633 23.272114 257.538284 23.766187 257.902515 24.130418 \r\nC 258.266746 24.494649 258.760819 24.6993 259.275919 24.6993 \r\nz\r\n\" style=\"fill:#404688;stroke:#404688;\"/>\r\n    <path clip-path=\"url(#p3e2599a388)\" d=\"M 250.69525 19.07328 \r\nC 251.22291 19.07328 251.729029 18.863638 252.10214 18.490527 \r\nC 252.475252 18.117415 252.684893 17.611296 252.684893 17.083636 \r\nC 252.684893 16.555977 252.475252 16.049858 252.10214 15.676746 \r\nC 251.729029 15.303634 251.22291 15.093993 250.69525 15.093993 \r\nC 250.167591 15.093993 249.661472 15.303634 249.28836 15.676746 \r\nC 248.915248 16.049858 248.705607 16.555977 248.705607 17.083636 \r\nC 248.705607 17.611296 248.915248 18.117415 249.28836 18.490527 \r\nC 249.661472 18.863638 250.167591 19.07328 250.69525 19.07328 \r\nz\r\n\" style=\"fill:#3d4e8a;stroke:#3d4e8a;\"/>\r\n    <path clip-path=\"url(#p3e2599a388)\" d=\"M 261.476437 21.6327 \r\nC 262.00827 21.6327 262.518391 21.421401 262.894454 21.045338 \r\nC 263.270517 20.669276 263.481816 20.159154 263.481816 19.627321 \r\nC 263.481816 19.095488 263.270517 18.585366 262.894454 18.209304 \r\nC 262.518391 17.833241 262.00827 17.621942 261.476437 17.621942 \r\nC 260.944604 17.621942 260.434482 17.833241 260.058419 18.209304 \r\nC 259.682357 18.585366 259.471057 19.095488 259.471057 19.627321 \r\nC 259.471057 20.159154 259.682357 20.669276 260.058419 21.045338 \r\nC 260.434482 21.421401 260.944604 21.6327 261.476437 21.6327 \r\nz\r\n\" style=\"fill:#3c508b;stroke:#3c508b;\"/>\r\n    <path clip-path=\"url(#p3e2599a388)\" d=\"M 249.979594 28.446891 \r\nC 250.499815 28.446891 250.998798 28.240205 251.36665 27.872354 \r\nC 251.734501 27.504502 251.941187 27.005519 251.941187 26.485298 \r\nC 251.941187 25.965078 251.734501 25.466094 251.36665 25.098243 \r\nC 250.998798 24.730391 250.499815 24.523705 249.979594 24.523705 \r\nC 249.459374 24.523705 248.96039 24.730391 248.592539 25.098243 \r\nC 248.224687 25.466094 248.018001 25.965078 248.018001 26.485298 \r\nC 248.018001 27.005519 248.224687 27.504502 248.592539 27.872354 \r\nC 248.96039 28.240205 249.459374 28.446891 249.979594 28.446891 \r\nz\r\n\" style=\"fill:#3e4989;stroke:#3e4989;\"/>\r\n    <path clip-path=\"url(#p3e2599a388)\" d=\"M 244.132045 24.401709 \r\nC 244.667079 24.401709 245.18027 24.189138 245.558596 23.810812 \r\nC 245.936922 23.432487 246.149493 22.919295 246.149493 22.384262 \r\nC 246.149493 21.849228 245.936922 21.336036 245.558596 20.957711 \r\nC 245.18027 20.579385 244.667079 20.366814 244.132045 20.366814 \r\nC 243.597012 20.366814 243.08382 20.579385 242.705494 20.957711 \r\nC 242.327169 21.336036 242.114598 21.849228 242.114598 22.384262 \r\nC 242.114598 22.919295 242.327169 23.432487 242.705494 23.810812 \r\nC 243.08382 24.189138 243.597012 24.401709 244.132045 24.401709 \r\nz\r\n\" style=\"fill:#3b528b;stroke:#3b528b;\"/>\r\n    <path clip-path=\"url(#p3e2599a388)\" d=\"M 252.449301 24.917384 \r\nC 253.003084 24.917384 253.53426 24.697364 253.925844 24.30578 \r\nC 254.317428 23.914196 254.537449 23.383019 254.537449 22.829236 \r\nC 254.537449 22.275453 254.317428 21.744276 253.925844 21.352692 \r\nC 253.53426 20.961108 253.003084 20.741088 252.449301 20.741088 \r\nC 251.895517 20.741088 251.364341 20.961108 250.972757 21.352692 \r\nC 250.581173 21.744276 250.361153 22.275453 250.361153 22.829236 \r\nC 250.361153 23.383019 250.581173 23.914196 250.972757 24.30578 \r\nC 251.364341 24.697364 251.895517 24.917384 252.449301 24.917384 \r\nz\r\n\" style=\"fill:#365d8d;stroke:#365d8d;\"/>\r\n    <path clip-path=\"url(#p3e2599a388)\" d=\"M 239.349715 21.27434 \r\nC 239.901929 21.27434 240.431601 21.054943 240.822076 20.664468 \r\nC 241.21255 20.273994 241.431947 19.744322 241.431947 19.192108 \r\nC 241.431947 18.639893 241.21255 18.110222 240.822076 17.719747 \r\nC 240.431601 17.329273 239.901929 17.109876 239.349715 17.109876 \r\nC 238.797501 17.109876 238.267829 17.329273 237.877355 17.719747 \r\nC 237.48688 18.110222 237.267483 18.639893 237.267483 19.192108 \r\nC 237.267483 19.744322 237.48688 20.273994 237.877355 20.664468 \r\nC 238.267829 21.054943 238.797501 21.27434 239.349715 21.27434 \r\nz\r\n\" style=\"fill:#365c8d;stroke:#365c8d;\"/>\r\n    <path clip-path=\"url(#p3e2599a388)\" d=\"M 238.065424 24.069327 \r\nC 238.614205 24.069327 239.140583 23.851294 239.52863 23.463247 \r\nC 239.916677 23.0752 240.13471 22.548822 240.13471 22.00004 \r\nC 240.13471 21.451259 239.916677 20.924881 239.52863 20.536834 \r\nC 239.140583 20.148787 238.614205 19.930754 238.065424 19.930754 \r\nC 237.516643 19.930754 236.990264 20.148787 236.602218 20.536834 \r\nC 236.214171 20.924881 235.996138 21.451259 235.996138 22.00004 \r\nC 235.996138 22.548822 236.214171 23.0752 236.602218 23.463247 \r\nC 236.990264 23.851294 237.516643 24.069327 238.065424 24.069327 \r\nz\r\n\" style=\"fill:#375a8c;stroke:#375a8c;\"/>\r\n    <path clip-path=\"url(#p3e2599a388)\" d=\"M 230.163986 28.656883 \r\nC 230.683574 28.656883 231.181952 28.450449 231.549356 28.083044 \r\nC 231.916761 27.71564 232.123195 27.217262 232.123195 26.697674 \r\nC 232.123195 26.178085 231.916761 25.679708 231.549356 25.312303 \r\nC 231.181952 24.944899 230.683574 24.738464 230.163986 24.738464 \r\nC 229.644397 24.738464 229.14602 24.944899 228.778615 25.312303 \r\nC 228.411211 25.679708 228.204776 26.178085 228.204776 26.697674 \r\nC 228.204776 27.217262 228.411211 27.71564 228.778615 28.083044 \r\nC 229.14602 28.450449 229.644397 28.656883 230.163986 28.656883 \r\nz\r\n\" style=\"fill:#3e4989;stroke:#3e4989;\"/>\r\n    <path clip-path=\"url(#p3e2599a388)\" d=\"M 227.82021 24.044388 \r\nC 228.332856 24.044388 228.824576 23.840711 229.187072 23.478215 \r\nC 229.549568 23.115719 229.753245 22.624 229.753245 22.111353 \r\nC 229.753245 21.598706 229.549568 21.106987 229.187072 20.744491 \r\nC 228.824576 20.381995 228.332856 20.178318 227.82021 20.178318 \r\nC 227.307563 20.178318 226.815844 20.381995 226.453348 20.744491 \r\nC 226.090851 21.106987 225.887175 21.598706 225.887175 22.111353 \r\nC 225.887175 22.624 226.090851 23.115719 226.453348 23.478215 \r\nC 226.815844 23.840711 227.307563 24.044388 227.82021 24.044388 \r\nz\r\n\" style=\"fill:#404588;stroke:#404588;\"/>\r\n    <path clip-path=\"url(#p3e2599a388)\" d=\"M 202.159922 29.264777 \r\nC 202.667545 29.264777 203.154446 29.063096 203.51339 28.704152 \r\nC 203.872333 28.345208 204.074014 27.858308 204.074014 27.350685 \r\nC 204.074014 26.843062 203.872333 26.356161 203.51339 25.997217 \r\nC 203.154446 25.638274 202.667545 25.436593 202.159922 25.436593 \r\nC 201.652299 25.436593 201.165399 25.638274 200.806455 25.997217 \r\nC 200.447511 26.356161 200.245831 26.843062 200.245831 27.350685 \r\nC 200.245831 27.858308 200.447511 28.345208 200.806455 28.704152 \r\nC 201.165399 29.063096 201.652299 29.264777 202.159922 29.264777 \r\nz\r\n\" style=\"fill:#414287;stroke:#414287;\"/>\r\n    <path clip-path=\"url(#p3e2599a388)\" d=\"M 185.91672 35.09253 \r\nC 186.428575 35.09253 186.919535 34.889168 187.281472 34.527231 \r\nC 187.643408 34.165295 187.84677 33.674335 187.84677 33.16248 \r\nC 187.84677 32.650625 187.643408 32.159665 187.281472 31.797729 \r\nC 186.919535 31.435792 186.428575 31.23243 185.91672 31.23243 \r\nC 185.404865 31.23243 184.913905 31.435792 184.551969 31.797729 \r\nC 184.190033 32.159665 183.98667 32.650625 183.98667 33.16248 \r\nC 183.98667 33.674335 184.190033 34.165295 184.551969 34.527231 \r\nC 184.913905 34.889168 185.404865 35.09253 185.91672 35.09253 \r\nz\r\n\" style=\"fill:#404588;stroke:#404588;\"/>\r\n    <path clip-path=\"url(#p3e2599a388)\" d=\"M 179.49954 42.250648 \r\nC 180.008494 42.250648 180.496671 42.048438 180.856556 41.688553 \r\nC 181.216441 41.328668 181.418651 40.840491 181.418651 40.331537 \r\nC 181.418651 39.822583 181.216441 39.334406 180.856556 38.974521 \r\nC 180.496671 38.614636 180.008494 38.412426 179.49954 38.412426 \r\nC 178.990586 38.412426 178.502409 38.614636 178.142524 38.974521 \r\nC 177.782639 39.334406 177.580429 39.822583 177.580429 40.331537 \r\nC 177.580429 40.840491 177.782639 41.328668 178.142524 41.688553 \r\nC 178.502409 42.048438 178.990586 42.250648 179.49954 42.250648 \r\nz\r\n\" style=\"fill:#414287;stroke:#414287;\"/>\r\n    <path clip-path=\"url(#p3e2599a388)\" d=\"M 188.003451 52.670438 \r\nC 188.516603 52.670438 189.008807 52.466561 189.37166 52.103707 \r\nC 189.734513 51.740854 189.938391 51.24865 189.938391 50.735498 \r\nC 189.938391 50.222346 189.734513 49.730142 189.37166 49.367289 \r\nC 189.008807 49.004436 188.516603 48.800558 188.003451 48.800558 \r\nC 187.490299 48.800558 186.998095 49.004436 186.635242 49.367289 \r\nC 186.272388 49.730142 186.068511 50.222346 186.068511 50.735498 \r\nC 186.068511 51.24865 186.272388 51.740854 186.635242 52.103707 \r\nC 186.998095 52.466561 187.490299 52.670438 188.003451 52.670438 \r\nz\r\n\" style=\"fill:#404588;stroke:#404588;\"/>\r\n    <path clip-path=\"url(#p3e2599a388)\" d=\"M 186.411384 56.635765 \r\nC 186.950178 56.635765 187.466977 56.421699 187.847962 56.040714 \r\nC 188.228947 55.659729 188.443012 55.14293 188.443012 54.604136 \r\nC 188.443012 54.065342 188.228947 53.548543 187.847962 53.167558 \r\nC 187.466977 52.786573 186.950178 52.572507 186.411384 52.572507 \r\nC 185.87259 52.572507 185.35579 52.786573 184.974805 53.167558 \r\nC 184.59382 53.548543 184.379755 54.065342 184.379755 54.604136 \r\nC 184.379755 55.14293 184.59382 55.659729 184.974805 56.040714 \r\nC 185.35579 56.421699 185.87259 56.635765 186.411384 56.635765 \r\nz\r\n\" style=\"fill:#3a548c;stroke:#3a548c;\"/>\r\n    <path clip-path=\"url(#p3e2599a388)\" d=\"M 186.437478 64.67971 \r\nC 186.967555 64.67971 187.475993 64.469108 187.850814 64.094287 \r\nC 188.225635 63.719466 188.436237 63.211028 188.436237 62.680951 \r\nC 188.436237 62.150874 188.225635 61.642436 187.850814 61.267615 \r\nC 187.475993 60.892794 186.967555 60.682192 186.437478 60.682192 \r\nC 185.907401 60.682192 185.398963 60.892794 185.024142 61.267615 \r\nC 184.649321 61.642436 184.438719 62.150874 184.438719 62.680951 \r\nC 184.438719 63.211028 184.649321 63.719466 185.024142 64.094287 \r\nC 185.398963 64.469108 185.907401 64.67971 186.437478 64.67971 \r\nz\r\n\" style=\"fill:#3c4f8a;stroke:#3c4f8a;\"/>\r\n    <path clip-path=\"url(#p3e2599a388)\" d=\"M 192.747798 64.781327 \r\nC 193.269668 64.781327 193.770235 64.573985 194.139253 64.204967 \r\nC 194.508271 63.835949 194.715612 63.335383 194.715612 62.813512 \r\nC 194.715612 62.291642 194.508271 61.791075 194.139253 61.422057 \r\nC 193.770235 61.053039 193.269668 60.845698 192.747798 60.845698 \r\nC 192.225927 60.845698 191.725361 61.053039 191.356343 61.422057 \r\nC 190.987325 61.791075 190.779984 62.291642 190.779984 62.813512 \r\nC 190.779984 63.335383 190.987325 63.835949 191.356343 64.204967 \r\nC 191.725361 64.573985 192.225927 64.781327 192.747798 64.781327 \r\nz\r\n\" style=\"fill:#3e4a89;stroke:#3e4a89;\"/>\r\n    <path clip-path=\"url(#p3e2599a388)\" d=\"M 184.683322 73.022624 \r\nC 185.182651 73.022624 185.661596 72.824239 186.014675 72.47116 \r\nC 186.367754 72.118081 186.566139 71.639136 186.566139 71.139807 \r\nC 186.566139 70.640478 186.367754 70.161532 186.014675 69.808454 \r\nC 185.661596 69.455375 185.182651 69.256989 184.683322 69.256989 \r\nC 184.183993 69.256989 183.705048 69.455375 183.351969 69.808454 \r\nC 182.99889 70.161532 182.800504 70.640478 182.800504 71.139807 \r\nC 182.800504 71.639136 182.99889 72.118081 183.351969 72.47116 \r\nC 183.705048 72.824239 184.183993 73.022624 184.683322 73.022624 \r\nz\r\n\" style=\"fill:#433e85;stroke:#433e85;\"/>\r\n    <path clip-path=\"url(#p3e2599a388)\" d=\"M 187.283903 77.096084 \r\nC 187.78308 77.096084 188.261878 76.897759 188.614849 76.544788 \r\nC 188.967821 76.191817 189.166146 75.713018 189.166146 75.213842 \r\nC 189.166146 74.714665 188.967821 74.235866 188.614849 73.882895 \r\nC 188.261878 73.529924 187.78308 73.331599 187.283903 73.331599 \r\nC 186.784726 73.331599 186.305928 73.529924 185.952957 73.882895 \r\nC 185.599985 74.235866 185.401661 74.714665 185.401661 75.213842 \r\nC 185.401661 75.713018 185.599985 76.191817 185.952957 76.544788 \r\nC 186.305928 76.897759 186.784726 77.096084 187.283903 77.096084 \r\nz\r\n\" style=\"fill:#433d84;stroke:#433d84;\"/>\r\n    <path clip-path=\"url(#p3e2599a388)\" d=\"M 179.899491 68.477489 \r\nC 180.415584 68.477489 180.91061 68.272443 181.275543 67.90751 \r\nC 181.640476 67.542576 181.845522 67.047551 181.845522 66.531457 \r\nC 181.845522 66.015364 181.640476 65.520338 181.275543 65.155405 \r\nC 180.91061 64.790472 180.415584 64.585425 179.899491 64.585425 \r\nC 179.383397 64.585425 178.888372 64.790472 178.523438 65.155405 \r\nC 178.158505 65.520338 177.953459 66.015364 177.953459 66.531457 \r\nC 177.953459 67.047551 178.158505 67.542576 178.523438 67.90751 \r\nC 178.888372 68.272443 179.383397 68.477489 179.899491 68.477489 \r\nz\r\n\" style=\"fill:#3f4788;stroke:#3f4788;\"/>\r\n    <path clip-path=\"url(#p3e2599a388)\" d=\"M 164.058474 67.076644 \r\nC 164.543823 67.076644 165.009358 66.883813 165.352552 66.54062 \r\nC 165.695745 66.197427 165.888576 65.731891 165.888576 65.246542 \r\nC 165.888576 64.761194 165.695745 64.295658 165.352552 63.952465 \r\nC 165.009358 63.609272 164.543823 63.416441 164.058474 63.416441 \r\nC 163.573126 63.416441 163.10759 63.609272 162.764397 63.952465 \r\nC 162.421204 64.295658 162.228373 64.761194 162.228373 65.246542 \r\nC 162.228373 65.731891 162.421204 66.197427 162.764397 66.54062 \r\nC 163.10759 66.883813 163.573126 67.076644 164.058474 67.076644 \r\nz\r\n\" style=\"fill:#453581;stroke:#453581;\"/>\r\n    <path clip-path=\"url(#p3e2599a388)\" d=\"M 160.474311 66.833987 \r\nC 160.947444 66.833987 161.401263 66.646009 161.735819 66.311453 \r\nC 162.070375 65.976897 162.258353 65.523078 162.258353 65.049944 \r\nC 162.258353 64.576811 162.070375 64.122992 161.735819 63.788436 \r\nC 161.401263 63.45388 160.947444 63.265902 160.474311 63.265902 \r\nC 160.001177 63.265902 159.547358 63.45388 159.212802 63.788436 \r\nC 158.878246 64.122992 158.690268 64.576811 158.690268 65.049944 \r\nC 158.690268 65.523078 158.878246 65.976897 159.212802 66.311453 \r\nC 159.547358 66.646009 160.001177 66.833987 160.474311 66.833987 \r\nz\r\n\" style=\"fill:#472e7c;stroke:#472e7c;\"/>\r\n    <path clip-path=\"url(#p3e2599a388)\" d=\"M 165.735542 72.870645 \r\nC 166.209343 72.870645 166.663802 72.682401 166.99883 72.347374 \r\nC 167.333858 72.012346 167.522101 71.557887 167.522101 71.084086 \r\nC 167.522101 70.610285 167.333858 70.155825 166.99883 69.820797 \r\nC 166.663802 69.48577 166.209343 69.297526 165.735542 69.297526 \r\nC 165.261741 69.297526 164.807281 69.48577 164.472254 69.820797 \r\nC 164.137226 70.155825 163.948983 70.610285 163.948983 71.084086 \r\nC 163.948983 71.557887 164.137226 72.012346 164.472254 72.347374 \r\nC 164.807281 72.682401 165.261741 72.870645 165.735542 72.870645 \r\nz\r\n\" style=\"fill:#472e7c;stroke:#472e7c;\"/>\r\n    <path clip-path=\"url(#p3e2599a388)\" d=\"M 168.840068 73.843538 \r\nC 169.329388 73.843538 169.798734 73.649128 170.144736 73.303126 \r\nC 170.490738 72.957124 170.685147 72.487779 170.685147 71.998458 \r\nC 170.685147 71.509137 170.490738 71.039792 170.144736 70.69379 \r\nC 169.798734 70.347788 169.329388 70.153378 168.840068 70.153378 \r\nC 168.350747 70.153378 167.881401 70.347788 167.535399 70.69379 \r\nC 167.189397 71.039792 166.994988 71.509137 166.994988 71.998458 \r\nC 166.994988 72.487779 167.189397 72.957124 167.535399 73.303126 \r\nC 167.881401 73.649128 168.350747 73.843538 168.840068 73.843538 \r\nz\r\n\" style=\"fill:#453882;stroke:#453882;\"/>\r\n    <path clip-path=\"url(#p3e2599a388)\" d=\"M 168.731594 73.690186 \r\nC 169.227746 73.690186 169.703644 73.493063 170.054476 73.14223 \r\nC 170.405309 72.791397 170.602432 72.3155 170.602432 71.819347 \r\nC 170.602432 71.323195 170.405309 70.847297 170.054476 70.496465 \r\nC 169.703644 70.145632 169.227746 69.948509 168.731594 69.948509 \r\nC 168.235441 69.948509 167.759544 70.145632 167.408711 70.496465 \r\nC 167.057878 70.847297 166.860755 71.323195 166.860755 71.819347 \r\nC 166.860755 72.3155 167.057878 72.791397 167.408711 73.14223 \r\nC 167.759544 73.493063 168.235441 73.690186 168.731594 73.690186 \r\nz\r\n\" style=\"fill:#443b84;stroke:#443b84;\"/>\r\n    <path clip-path=\"url(#p3e2599a388)\" d=\"M 190.667211 79.687976 \r\nC 191.169097 79.687976 191.650495 79.488574 192.005382 79.133687 \r\nC 192.360269 78.7788 192.55967 78.297402 192.55967 77.795516 \r\nC 192.55967 77.29363 192.360269 76.812233 192.005382 76.457345 \r\nC 191.650495 76.102458 191.169097 75.903057 190.667211 75.903057 \r\nC 190.165325 75.903057 189.683927 76.102458 189.32904 76.457345 \r\nC 188.974153 76.812233 188.774752 77.29363 188.774752 77.795516 \r\nC 188.774752 78.297402 188.974153 78.7788 189.32904 79.133687 \r\nC 189.683927 79.488574 190.165325 79.687976 190.667211 79.687976 \r\nz\r\n\" style=\"fill:#423f85;stroke:#423f85;\"/>\r\n    <path clip-path=\"url(#p3e2599a388)\" d=\"M 194.453206 79.203324 \r\nC 194.951147 79.203324 195.428761 79.00549 195.780859 78.653392 \r\nC 196.132957 78.301295 196.330791 77.823681 196.330791 77.325739 \r\nC 196.330791 76.827798 196.132957 76.350184 195.780859 75.998086 \r\nC 195.428761 75.645989 194.951147 75.448155 194.453206 75.448155 \r\nC 193.955265 75.448155 193.477651 75.645989 193.125553 75.998086 \r\nC 192.773456 76.350184 192.575621 76.827798 192.575621 77.325739 \r\nC 192.575621 77.823681 192.773456 78.301295 193.125553 78.653392 \r\nC 193.477651 79.00549 193.955265 79.203324 194.453206 79.203324 \r\nz\r\n\" style=\"fill:#433d84;stroke:#433d84;\"/>\r\n    <path clip-path=\"url(#p3e2599a388)\" d=\"M 203.427245 74.800117 \r\nC 203.933623 74.800117 204.419329 74.598931 204.777392 74.240868 \r\nC 205.135455 73.882805 205.336641 73.397099 205.336641 72.890721 \r\nC 205.336641 72.384343 205.135455 71.898637 204.777392 71.540574 \r\nC 204.419329 71.182511 203.933623 70.981325 203.427245 70.981325 \r\nC 202.920867 70.981325 202.435161 71.182511 202.077098 71.540574 \r\nC 201.719035 71.898637 201.517849 72.384343 201.517849 72.890721 \r\nC 201.517849 73.397099 201.719035 73.882805 202.077098 74.240868 \r\nC 202.435161 74.598931 202.920867 74.800117 203.427245 74.800117 \r\nz\r\n\" style=\"fill:#424186;stroke:#424186;\"/>\r\n    <path clip-path=\"url(#p3e2599a388)\" d=\"M 223.9488 76.161985 \r\nC 224.472492 76.161985 224.974805 75.95392 225.345111 75.583614 \r\nC 225.715417 75.213308 225.923482 74.710995 225.923482 74.187303 \r\nC 225.923482 73.663612 225.715417 73.161298 225.345111 72.790992 \r\nC 224.974805 72.420686 224.472492 72.212621 223.9488 72.212621 \r\nC 223.425108 72.212621 222.922795 72.420686 222.552489 72.790992 \r\nC 222.182183 73.161298 221.974118 73.663612 221.974118 74.187303 \r\nC 221.974118 74.710995 222.182183 75.213308 222.552489 75.583614 \r\nC 222.922795 75.95392 223.425108 76.161985 223.9488 76.161985 \r\nz\r\n\" style=\"fill:#3e4c8a;stroke:#3e4c8a;\"/>\r\n    <path clip-path=\"url(#p3e2599a388)\" d=\"M 212.083321 76.784987 \r\nC 212.57749 76.784987 213.051487 76.588652 213.400917 76.239221 \r\nC 213.750348 75.88979 213.946684 75.415794 213.946684 74.921624 \r\nC 213.946684 74.427455 213.750348 73.953459 213.400917 73.604028 \r\nC 213.051487 73.254597 212.57749 73.058262 212.083321 73.058262 \r\nC 211.589151 73.058262 211.115155 73.254597 210.765724 73.604028 \r\nC 210.416294 73.953459 210.219958 74.427455 210.219958 74.921624 \r\nC 210.219958 75.415794 210.416294 75.88979 210.765724 76.239221 \r\nC 211.115155 76.588652 211.589151 76.784987 212.083321 76.784987 \r\nz\r\n\" style=\"fill:#443a83;stroke:#443a83;\"/>\r\n    <path clip-path=\"url(#p3e2599a388)\" d=\"M 202.558663 84.436063 \r\nC 203.065628 84.436063 203.551897 84.234643 203.910376 83.876165 \r\nC 204.268854 83.517687 204.470274 83.031417 204.470274 82.524452 \r\nC 204.470274 82.017487 204.268854 81.531218 203.910376 81.172739 \r\nC 203.551897 80.814261 203.065628 80.612842 202.558663 80.612842 \r\nC 202.051698 80.612842 201.565429 80.814261 201.20695 81.172739 \r\nC 200.848472 81.531218 200.647052 82.017487 200.647052 82.524452 \r\nC 200.647052 83.031417 200.848472 83.517687 201.20695 83.876165 \r\nC 201.565429 84.234643 202.051698 84.436063 202.558663 84.436063 \r\nz\r\n\" style=\"fill:#424186;stroke:#424186;\"/>\r\n    <path clip-path=\"url(#p3e2599a388)\" d=\"M 218.546775 89.639012 \r\nC 219.052025 89.639012 219.536648 89.438274 219.893914 89.081009 \r\nC 220.251179 88.723744 220.451917 88.23912 220.451917 87.73387 \r\nC 220.451917 87.228621 220.251179 86.743997 219.893914 86.386732 \r\nC 219.536648 86.029466 219.052025 85.828729 218.546775 85.828729 \r\nC 218.041526 85.828729 217.556902 86.029466 217.199637 86.386732 \r\nC 216.842371 86.743997 216.641633 87.228621 216.641633 87.73387 \r\nC 216.641633 88.23912 216.842371 88.723744 217.199637 89.081009 \r\nC 217.556902 89.438274 218.041526 89.639012 218.546775 89.639012 \r\nz\r\n\" style=\"fill:#424086;stroke:#424086;\"/>\r\n    <path clip-path=\"url(#p3e2599a388)\" d=\"M 211.229331 85.666063 \r\nC 211.725273 85.666063 212.200969 85.469023 212.551653 85.11834 \r\nC 212.902336 84.767656 213.099376 84.29196 213.099376 83.796018 \r\nC 213.099376 83.300076 212.902336 82.824381 212.551653 82.473697 \r\nC 212.200969 82.123013 211.725273 81.925973 211.229331 81.925973 \r\nC 210.733389 81.925973 210.257694 82.123013 209.90701 82.473697 \r\nC 209.556326 82.824381 209.359286 83.300076 209.359286 83.796018 \r\nC 209.359286 84.29196 209.556326 84.767656 209.90701 85.11834 \r\nC 210.257694 85.469023 210.733389 85.666063 211.229331 85.666063 \r\nz\r\n\" style=\"fill:#443b84;stroke:#443b84;\"/>\r\n    <path clip-path=\"url(#p3e2599a388)\" d=\"M 211.501497 87.957916 \r\nC 211.952053 87.957916 212.384217 87.778908 212.702808 87.460316 \r\nC 213.0214 87.141725 213.200408 86.709561 213.200408 86.259005 \r\nC 213.200408 85.808448 213.0214 85.376285 212.702808 85.057693 \r\nC 212.384217 84.739101 211.952053 84.560094 211.501497 84.560094 \r\nC 211.05094 84.560094 210.618777 84.739101 210.300185 85.057693 \r\nC 209.981594 85.376285 209.802586 85.808448 209.802586 86.259005 \r\nC 209.802586 86.709561 209.981594 87.141725 210.300185 87.460316 \r\nC 210.618777 87.778908 211.05094 87.957916 211.501497 87.957916 \r\nz\r\n\" style=\"fill:#482173;stroke:#482173;\"/>\r\n    <path clip-path=\"url(#p3e2599a388)\" d=\"M 221.306064 91.314485 \r\nC 221.728829 91.314485 222.134336 91.146519 222.433276 90.847579 \r\nC 222.732215 90.548639 222.900182 90.143133 222.900182 89.720368 \r\nC 222.900182 89.297603 222.732215 88.892096 222.433276 88.593156 \r\nC 222.134336 88.294216 221.728829 88.12625 221.306064 88.12625 \r\nC 220.883299 88.12625 220.477793 88.294216 220.178853 88.593156 \r\nC 219.879913 88.892096 219.711947 89.297603 219.711947 89.720368 \r\nC 219.711947 90.143133 219.879913 90.548639 220.178853 90.847579 \r\nC 220.477793 91.146519 220.883299 91.314485 221.306064 91.314485 \r\nz\r\n\" style=\"fill:#471164;stroke:#471164;\"/>\r\n    <path clip-path=\"url(#p3e2599a388)\" d=\"M 229.472959 94.021018 \r\nC 229.929672 94.021018 230.367742 93.839564 230.690687 93.516618 \r\nC 231.013633 93.193673 231.195087 92.755603 231.195087 92.29889 \r\nC 231.195087 91.842176 231.013633 91.404106 230.690687 91.081161 \r\nC 230.367742 90.758216 229.929672 90.576761 229.472959 90.576761 \r\nC 229.016245 90.576761 228.578175 90.758216 228.25523 91.081161 \r\nC 227.932285 91.404106 227.75083 91.842176 227.75083 92.29889 \r\nC 227.75083 92.755603 227.932285 93.193673 228.25523 93.516618 \r\nC 228.578175 93.839564 229.016245 94.021018 229.472959 94.021018 \r\nz\r\n\" style=\"fill:#482475;stroke:#482475;\"/>\r\n    <path clip-path=\"url(#p3e2599a388)\" d=\"M 245.563525 94.184242 \r\nC 246.006786 94.184242 246.431952 94.008133 246.745385 93.694699 \r\nC 247.058819 93.381266 247.234928 92.9561 247.234928 92.512839 \r\nC 247.234928 92.069578 247.058819 91.644411 246.745385 91.330978 \r\nC 246.431952 91.017545 246.006786 90.841436 245.563525 90.841436 \r\nC 245.120264 90.841436 244.695098 91.017545 244.381664 91.330978 \r\nC 244.068231 91.644411 243.892122 92.069578 243.892122 92.512839 \r\nC 243.892122 92.9561 244.068231 93.381266 244.381664 93.694699 \r\nC 244.695098 94.008133 245.120264 94.184242 245.563525 94.184242 \r\nz\r\n\" style=\"fill:#481c6e;stroke:#481c6e;\"/>\r\n    <path clip-path=\"url(#p3e2599a388)\" d=\"M 259.277099 98.413885 \r\nC 259.698296 98.413885 260.102298 98.246542 260.40013 97.948711 \r\nC 260.697961 97.650879 260.865304 97.246877 260.865304 96.82568 \r\nC 260.865304 96.404483 260.697961 96.00048 260.40013 95.702649 \r\nC 260.102298 95.404818 259.698296 95.237474 259.277099 95.237474 \r\nC 258.855902 95.237474 258.451899 95.404818 258.154068 95.702649 \r\nC 257.856237 96.00048 257.688893 96.404483 257.688893 96.82568 \r\nC 257.688893 97.246877 257.856237 97.650879 258.154068 97.948711 \r\nC 258.451899 98.246542 258.855902 98.413885 259.277099 98.413885 \r\nz\r\n\" style=\"fill:#471063;stroke:#471063;\"/>\r\n    <path clip-path=\"url(#p3e2599a388)\" d=\"M 269.082369 97.906519 \r\nC 269.493929 97.906519 269.888688 97.743005 270.179705 97.451988 \r\nC 270.470721 97.160971 270.634236 96.766212 270.634236 96.354652 \r\nC 270.634236 95.943093 270.470721 95.548334 270.179705 95.257317 \r\nC 269.888688 94.9663 269.493929 94.802786 269.082369 94.802786 \r\nC 268.670809 94.802786 268.276051 94.9663 267.985034 95.257317 \r\nC 267.694017 95.548334 267.530503 95.943093 267.530503 96.354652 \r\nC 267.530503 96.766212 267.694017 97.160971 267.985034 97.451988 \r\nC 268.276051 97.743005 268.670809 97.906519 269.082369 97.906519 \r\nz\r\n\" style=\"fill:#460a5d;stroke:#460a5d;\"/>\r\n    <path clip-path=\"url(#p3e2599a388)\" d=\"M 261.997396 102.908668 \r\nC 262.392718 102.908668 262.771902 102.751605 263.051437 102.47207 \r\nC 263.330972 102.192535 263.488035 101.813351 263.488035 101.418029 \r\nC 263.488035 101.022708 263.330972 100.643524 263.051437 100.363989 \r\nC 262.771902 100.084454 262.392718 99.927391 261.997396 99.927391 \r\nC 261.602075 99.927391 261.222891 100.084454 260.943356 100.363989 \r\nC 260.663821 100.643524 260.506758 101.022708 260.506758 101.418029 \r\nC 260.506758 101.813351 260.663821 102.192535 260.943356 102.47207 \r\nC 261.222891 102.751605 261.602075 102.908668 261.997396 102.908668 \r\nz\r\n\" style=\"fill:#440154;stroke:#440154;\"/>\r\n    <path clip-path=\"url(#p3e2599a388)\" d=\"M 269.285499 100.037419 \r\nC 269.683577 100.037419 270.065404 99.879261 270.346888 99.597777 \r\nC 270.628372 99.316294 270.78653 98.934466 270.78653 98.536388 \r\nC 270.78653 98.138311 270.628372 97.756483 270.346888 97.475 \r\nC 270.065404 97.193516 269.683577 97.035358 269.285499 97.035358 \r\nC 268.887421 97.035358 268.505594 97.193516 268.22411 97.475 \r\nC 267.942627 97.756483 267.784468 98.138311 267.784468 98.536388 \r\nC 267.784468 98.934466 267.942627 99.316294 268.22411 99.597777 \r\nC 268.505594 99.879261 268.887421 100.037419 269.285499 100.037419 \r\nz\r\n\" style=\"fill:#440256;stroke:#440256;\"/>\r\n    <path clip-path=\"url(#p3e2599a388)\" d=\"M 272.167062 104.094308 \r\nC 272.59734 104.094308 273.010053 103.923357 273.314305 103.619104 \r\nC 273.618558 103.314851 273.789509 102.902138 273.789509 102.47186 \r\nC 273.789509 102.041582 273.618558 101.628869 273.314305 101.324617 \r\nC 273.010053 101.020364 272.59734 100.849413 272.167062 100.849413 \r\nC 271.736783 100.849413 271.324071 101.020364 271.019818 101.324617 \r\nC 270.715565 101.628869 270.544614 102.041582 270.544614 102.47186 \r\nC 270.544614 102.902138 270.715565 103.314851 271.019818 103.619104 \r\nC 271.324071 103.923357 271.736783 104.094308 272.167062 104.094308 \r\nz\r\n\" style=\"fill:#481668;stroke:#481668;\"/>\r\n    <path clip-path=\"url(#p3e2599a388)\" d=\"M 260.006522 99.13304 \r\nC 260.424643 99.13304 260.825694 98.966919 261.12135 98.671263 \r\nC 261.417006 98.375607 261.583127 97.974555 261.583127 97.556435 \r\nC 261.583127 97.138314 261.417006 96.737263 261.12135 96.441607 \r\nC 260.825694 96.145951 260.424643 95.97983 260.006522 95.97983 \r\nC 259.588402 95.97983 259.18735 96.145951 258.891695 96.441607 \r\nC 258.596039 96.737263 258.429918 97.138314 258.429918 97.556435 \r\nC 258.429918 97.974555 258.596039 98.375607 258.891695 98.671263 \r\nC 259.18735 98.966919 259.588402 99.13304 260.006522 99.13304 \r\nz\r\n\" style=\"fill:#470e61;stroke:#470e61;\"/>\r\n    <path clip-path=\"url(#p3e2599a388)\" d=\"M 273.001749 99.182577 \r\nC 273.423101 99.182577 273.827253 99.015172 274.125194 98.717231 \r\nC 274.423135 98.41929 274.59054 98.015139 274.59054 97.593787 \r\nC 274.59054 97.172435 274.423135 96.768284 274.125194 96.470343 \r\nC 273.827253 96.172402 273.423101 96.004997 273.001749 96.004997 \r\nC 272.580397 96.004997 272.176246 96.172402 271.878305 96.470343 \r\nC 271.580364 96.768284 271.412959 97.172435 271.412959 97.593787 \r\nC 271.412959 98.015139 271.580364 98.41929 271.878305 98.717231 \r\nC 272.176246 99.015172 272.580397 99.182577 273.001749 99.182577 \r\nz\r\n\" style=\"fill:#471063;stroke:#471063;\"/>\r\n    <path clip-path=\"url(#p3e2599a388)\" d=\"M 280.403308 102.237973 \r\nC 280.800001 102.237973 281.1805 102.080365 281.461005 101.799861 \r\nC 281.741509 101.519356 281.899117 101.138857 281.899117 100.742164 \r\nC 281.899117 100.345471 281.741509 99.964971 281.461005 99.684467 \r\nC 281.1805 99.403962 280.800001 99.246355 280.403308 99.246355 \r\nC 280.006615 99.246355 279.626116 99.403962 279.345611 99.684467 \r\nC 279.065107 99.964971 278.907499 100.345471 278.907499 100.742164 \r\nC 278.907499 101.138857 279.065107 101.519356 279.345611 101.799861 \r\nC 279.626116 102.080365 280.006615 102.237973 280.403308 102.237973 \r\nz\r\n\" style=\"fill:#440154;stroke:#440154;\"/>\r\n    <path clip-path=\"url(#p3e2599a388)\" d=\"M 280.820407 98.966615 \r\nC 281.24947 98.966615 281.661017 98.796147 281.96441 98.492753 \r\nC 282.267803 98.18936 282.438272 97.777813 282.438272 97.34875 \r\nC 282.438272 96.919687 282.267803 96.50814 281.96441 96.204747 \r\nC 281.661017 95.901354 281.24947 95.730885 280.820407 95.730885 \r\nC 280.391344 95.730885 279.979797 95.901354 279.676404 96.204747 \r\nC 279.37301 96.50814 279.202542 96.919687 279.202542 97.34875 \r\nC 279.202542 97.777813 279.37301 98.18936 279.676404 98.492753 \r\nC 279.979797 98.796147 280.391344 98.966615 280.820407 98.966615 \r\nz\r\n\" style=\"fill:#481467;stroke:#481467;\"/>\r\n    <path clip-path=\"url(#p3e2599a388)\" d=\"M 278.683184 104.098477 \r\nC 279.116103 104.098477 279.531349 103.926476 279.837469 103.620356 \r\nC 280.143589 103.314236 280.315589 102.89899 280.315589 102.466071 \r\nC 280.315589 102.033152 280.143589 101.617906 279.837469 101.311786 \r\nC 279.531349 101.005666 279.116103 100.833666 278.683184 100.833666 \r\nC 278.250265 100.833666 277.835019 101.005666 277.528899 101.311786 \r\nC 277.222779 101.617906 277.050778 102.033152 277.050778 102.466071 \r\nC 277.050778 102.89899 277.222779 103.314236 277.528899 103.620356 \r\nC 277.835019 103.926476 278.250265 104.098477 278.683184 104.098477 \r\nz\r\n\" style=\"fill:#481769;stroke:#481769;\"/>\r\n    <path clip-path=\"url(#p3e2599a388)\" d=\"M 267.69595 106.050174 \r\nC 268.106313 106.050174 268.499923 105.887136 268.790092 105.596966 \r\nC 269.080262 105.306796 269.243301 104.913186 269.243301 104.502824 \r\nC 269.243301 104.092462 269.080262 103.698852 268.790092 103.408682 \r\nC 268.499923 103.118512 268.106313 102.955474 267.69595 102.955474 \r\nC 267.285588 102.955474 266.891978 103.118512 266.601809 103.408682 \r\nC 266.311639 103.698852 266.1486 104.092462 266.1486 104.502824 \r\nC 266.1486 104.913186 266.311639 105.306796 266.601809 105.596966 \r\nC 266.891978 105.887136 267.285588 106.050174 267.69595 106.050174 \r\nz\r\n\" style=\"fill:#46085c;stroke:#46085c;\"/>\r\n    <path clip-path=\"url(#p3e2599a388)\" d=\"M 269.525388 106.121861 \r\nC 269.954687 106.121861 270.366461 105.951299 270.670021 105.647738 \r\nC 270.973582 105.344178 271.144144 104.932404 271.144144 104.503105 \r\nC 271.144144 104.073806 270.973582 103.662032 270.670021 103.358472 \r\nC 270.366461 103.054912 269.954687 102.88435 269.525388 102.88435 \r\nC 269.096089 102.88435 268.684316 103.054912 268.380755 103.358472 \r\nC 268.077195 103.662032 267.906633 104.073806 267.906633 104.503105 \r\nC 267.906633 104.932404 268.077195 105.344178 268.380755 105.647738 \r\nC 268.684316 105.951299 269.096089 106.121861 269.525388 106.121861 \r\nz\r\n\" style=\"fill:#481467;stroke:#481467;\"/>\r\n    <path clip-path=\"url(#p3e2599a388)\" d=\"M 273.820511 106.663123 \r\nC 274.273718 106.663123 274.708425 106.483062 275.028891 106.162596 \r\nC 275.349357 105.84213 275.529419 105.407423 275.529419 104.954215 \r\nC 275.529419 104.501008 275.349357 104.066301 275.028891 103.745835 \r\nC 274.708425 103.425369 274.273718 103.245307 273.820511 103.245307 \r\nC 273.367303 103.245307 272.932596 103.425369 272.61213 103.745835 \r\nC 272.291664 104.066301 272.111603 104.501008 272.111603 104.954215 \r\nC 272.111603 105.407423 272.291664 105.84213 272.61213 106.162596 \r\nC 272.932596 106.483062 273.367303 106.663123 273.820511 106.663123 \r\nz\r\n\" style=\"fill:#482374;stroke:#482374;\"/>\r\n    <path clip-path=\"url(#p3e2599a388)\" d=\"M 266.199644 114.152958 \r\nC 266.655973 114.152958 267.093673 113.971656 267.416346 113.648983 \r\nC 267.739019 113.32631 267.920321 112.888609 267.920321 112.43228 \r\nC 267.920321 111.975951 267.739019 111.538251 267.416346 111.215578 \r\nC 267.093673 110.892904 266.655973 110.711603 266.199644 110.711603 \r\nC 265.743315 110.711603 265.305614 110.892904 264.982941 111.215578 \r\nC 264.660268 111.538251 264.478966 111.975951 264.478966 112.43228 \r\nC 264.478966 112.888609 264.660268 113.32631 264.982941 113.648983 \r\nC 265.305614 113.971656 265.743315 114.152958 266.199644 114.152958 \r\nz\r\n\" style=\"fill:#482475;stroke:#482475;\"/>\r\n    <path clip-path=\"url(#p3e2599a388)\" d=\"M 276.855902 117.457042 \r\nC 277.279471 117.457042 277.685748 117.288756 277.985256 116.989248 \r\nC 278.284765 116.68974 278.45305 116.283462 278.45305 115.859894 \r\nC 278.45305 115.436325 278.284765 115.030048 277.985256 114.73054 \r\nC 277.685748 114.431031 277.279471 114.262746 276.855902 114.262746 \r\nC 276.432334 114.262746 276.026056 114.431031 275.726548 114.73054 \r\nC 275.42704 115.030048 275.258754 115.436325 275.258754 115.859894 \r\nC 275.258754 116.283462 275.42704 116.68974 275.726548 116.989248 \r\nC 276.026056 117.288756 276.432334 117.457042 276.855902 117.457042 \r\nz\r\n\" style=\"fill:#471164;stroke:#471164;\"/>\r\n    <path clip-path=\"url(#p3e2599a388)\" d=\"M 266.795638 116.964783 \r\nC 267.254767 116.964783 267.695153 116.78237 268.019806 116.457717 \r\nC 268.344459 116.133063 268.526873 115.692678 268.526873 115.233549 \r\nC 268.526873 114.77442 268.344459 114.334034 268.019806 114.009381 \r\nC 267.695153 113.684728 267.254767 113.502314 266.795638 113.502314 \r\nC 266.336509 113.502314 265.896124 113.684728 265.57147 114.009381 \r\nC 265.246817 114.334034 265.064404 114.77442 265.064404 115.233549 \r\nC 265.064404 115.692678 265.246817 116.133063 265.57147 116.457717 \r\nC 265.896124 116.78237 266.336509 116.964783 266.795638 116.964783 \r\nz\r\n\" style=\"fill:#482576;stroke:#482576;\"/>\r\n    <path clip-path=\"url(#p3e2599a388)\" d=\"M 247.328913 121.901055 \r\nC 247.793942 121.901055 248.239988 121.716297 248.568813 121.387472 \r\nC 248.897639 121.058646 249.082397 120.612601 249.082397 120.147572 \r\nC 249.082397 119.682542 248.897639 119.236497 248.568813 118.907672 \r\nC 248.239988 118.578846 247.793942 118.394088 247.328913 118.394088 \r\nC 246.863884 118.394088 246.417838 118.578846 246.089013 118.907672 \r\nC 245.760188 119.236497 245.57543 119.682542 245.57543 120.147572 \r\nC 245.57543 120.612601 245.760188 121.058646 246.089013 121.387472 \r\nC 246.417838 121.716297 246.863884 121.901055 247.328913 121.901055 \r\nz\r\n\" style=\"fill:#482979;stroke:#482979;\"/>\r\n    <path clip-path=\"url(#p3e2599a388)\" d=\"M 256.86218 117.267617 \r\nC 257.348834 117.267617 257.815622 117.074267 258.159738 116.73015 \r\nC 258.503855 116.386034 258.697205 115.919246 258.697205 115.432591 \r\nC 258.697205 114.945937 258.503855 114.479149 258.159738 114.135033 \r\nC 257.815622 113.790916 257.348834 113.597566 256.86218 113.597566 \r\nC 256.375525 113.597566 255.908737 113.790916 255.564621 114.135033 \r\nC 255.220504 114.479149 255.027154 114.945937 255.027154 115.432591 \r\nC 255.027154 115.919246 255.220504 116.386034 255.564621 116.73015 \r\nC 255.908737 117.074267 256.375525 117.267617 256.86218 117.267617 \r\nz\r\n\" style=\"fill:#453581;stroke:#453581;\"/>\r\n    <path clip-path=\"url(#p3e2599a388)\" d=\"M 253.163713 115.386115 \r\nC 253.640311 115.386115 254.097454 115.196761 254.43446 114.859755 \r\nC 254.771466 114.522749 254.96082 114.065607 254.96082 113.589008 \r\nC 254.96082 113.11241 254.771466 112.655267 254.43446 112.318261 \r\nC 254.097454 111.981255 253.640311 111.791901 253.163713 111.791901 \r\nC 252.687115 111.791901 252.229972 111.981255 251.892966 112.318261 \r\nC 251.55596 112.655267 251.366606 113.11241 251.366606 113.589008 \r\nC 251.366606 114.065607 251.55596 114.522749 251.892966 114.859755 \r\nC 252.229972 115.196761 252.687115 115.386115 253.163713 115.386115 \r\nz\r\n\" style=\"fill:#46307e;stroke:#46307e;\"/>\r\n    <path clip-path=\"url(#p3e2599a388)\" d=\"M 252.008147 117.272714 \r\nC 252.477334 117.272714 252.927368 117.086304 253.259134 116.754538 \r\nC 253.5909 116.422773 253.77731 115.972739 253.77731 115.503551 \r\nC 253.77731 115.034363 253.5909 114.584329 253.259134 114.252564 \r\nC 252.927368 113.920798 252.477334 113.734388 252.008147 113.734388 \r\nC 251.538959 113.734388 251.088925 113.920798 250.757159 114.252564 \r\nC 250.425394 114.584329 250.238983 115.034363 250.238983 115.503551 \r\nC 250.238983 115.972739 250.425394 116.422773 250.757159 116.754538 \r\nC 251.088925 117.086304 251.538959 117.272714 252.008147 117.272714 \r\nz\r\n\" style=\"fill:#472c7a;stroke:#472c7a;\"/>\r\n    <path clip-path=\"url(#p3e2599a388)\" d=\"M 244.328949 118.100661 \r\nC 244.800201 118.100661 245.252216 117.91343 245.585442 117.580204 \r\nC 245.918668 117.246978 246.105899 116.794964 246.105899 116.323711 \r\nC 246.105899 115.852458 245.918668 115.400443 245.585442 115.067217 \r\nC 245.252216 114.733991 244.800201 114.546761 244.328949 114.546761 \r\nC 243.857696 114.546761 243.405681 114.733991 243.072455 115.067217 \r\nC 242.739229 115.400443 242.551999 115.852458 242.551999 116.323711 \r\nC 242.551999 116.794964 242.739229 117.246978 243.072455 117.580204 \r\nC 243.405681 117.91343 243.857696 118.100661 244.328949 118.100661 \r\nz\r\n\" style=\"fill:#472d7b;stroke:#472d7b;\"/>\r\n    <path clip-path=\"url(#p3e2599a388)\" d=\"M 229.603863 111.246633 \r\nC 230.095448 111.246633 230.566965 111.051324 230.914569 110.70372 \r\nC 231.262172 110.356117 231.457481 109.884599 231.457481 109.393014 \r\nC 231.457481 108.901428 231.262172 108.429911 230.914569 108.082308 \r\nC 230.566965 107.734704 230.095448 107.539395 229.603863 107.539395 \r\nC 229.112277 107.539395 228.64076 107.734704 228.293156 108.082308 \r\nC 227.945553 108.429911 227.750244 108.901428 227.750244 109.393014 \r\nC 227.750244 109.884599 227.945553 110.356117 228.293156 110.70372 \r\nC 228.64076 111.051324 229.112277 111.246633 229.603863 111.246633 \r\nz\r\n\" style=\"fill:#443983;stroke:#443983;\"/>\r\n    <path clip-path=\"url(#p3e2599a388)\" d=\"M 241.113145 107.771518 \r\nC 241.607281 107.771518 242.081245 107.575196 242.430652 107.225789 \r\nC 242.780059 106.876382 242.976381 106.402418 242.976381 105.908282 \r\nC 242.976381 105.414146 242.780059 104.940182 242.430652 104.590775 \r\nC 242.081245 104.241368 241.607281 104.045045 241.113145 104.045045 \r\nC 240.619009 104.045045 240.145045 104.241368 239.795638 104.590775 \r\nC 239.446231 104.940182 239.249908 105.414146 239.249908 105.908282 \r\nC 239.249908 106.402418 239.446231 106.876382 239.795638 107.225789 \r\nC 240.145045 107.575196 240.619009 107.771518 241.113145 107.771518 \r\nz\r\n\" style=\"fill:#443a83;stroke:#443a83;\"/>\r\n    <path clip-path=\"url(#p3e2599a388)\" d=\"M 234.796899 106.269626 \r\nC 235.268144 106.269626 235.72015 106.082398 236.053371 105.749178 \r\nC 236.386591 105.415958 236.573818 104.963951 236.573818 104.492707 \r\nC 236.573818 104.021462 236.386591 103.569455 236.053371 103.236235 \r\nC 235.72015 102.903015 235.268144 102.715788 234.796899 102.715788 \r\nC 234.325655 102.715788 233.873648 102.903015 233.540428 103.236235 \r\nC 233.207207 103.569455 233.01998 104.021462 233.01998 104.492707 \r\nC 233.01998 104.963951 233.207207 105.415958 233.540428 105.749178 \r\nC 233.873648 106.082398 234.325655 106.269626 234.796899 106.269626 \r\nz\r\n\" style=\"fill:#472d7b;stroke:#472d7b;\"/>\r\n    <path clip-path=\"url(#p3e2599a388)\" d=\"M 250.026187 111.558009 \r\nC 250.502294 111.558009 250.958965 111.36885 251.295623 111.032191 \r\nC 251.632282 110.695532 251.821441 110.238861 251.821441 109.762754 \r\nC 251.821441 109.286647 251.632282 108.829976 251.295623 108.493318 \r\nC 250.958965 108.156659 250.502294 107.9675 250.026187 107.9675 \r\nC 249.55008 107.9675 249.093409 108.156659 248.75675 108.493318 \r\nC 248.420091 108.829976 248.230932 109.286647 248.230932 109.762754 \r\nC 248.230932 110.238861 248.420091 110.695532 248.75675 111.032191 \r\nC 249.093409 111.36885 249.55008 111.558009 250.026187 111.558009 \r\nz\r\n\" style=\"fill:#472f7d;stroke:#472f7d;\"/>\r\n    <path clip-path=\"url(#p3e2599a388)\" d=\"M 257.428402 105.60097 \r\nC 257.933704 105.60097 258.418379 105.400211 258.775681 105.042909 \r\nC 259.132984 104.685606 259.333743 104.200932 259.333743 103.695629 \r\nC 259.333743 103.190327 259.132984 102.705653 258.775681 102.34835 \r\nC 258.418379 101.991048 257.933704 101.790289 257.428402 101.790289 \r\nC 256.9231 101.790289 256.438426 101.991048 256.081123 102.34835 \r\nC 255.72382 102.705653 255.523062 103.190327 255.523062 103.695629 \r\nC 255.523062 104.200932 255.72382 104.685606 256.081123 105.042909 \r\nC 256.438426 105.400211 256.9231 105.60097 257.428402 105.60097 \r\nz\r\n\" style=\"fill:#424186;stroke:#424186;\"/>\r\n    <path clip-path=\"url(#p3e2599a388)\" d=\"M 254.542382 101.68714 \r\nC 255.048828 101.68714 255.534599 101.485927 255.892711 101.127816 \r\nC 256.250822 100.769704 256.452035 100.283933 256.452035 99.777487 \r\nC 256.452035 99.271041 256.250822 98.78527 255.892711 98.427159 \r\nC 255.534599 98.069048 255.048828 97.867834 254.542382 97.867834 \r\nC 254.035936 97.867834 253.550165 98.069048 253.192054 98.427159 \r\nC 252.833942 98.78527 252.632729 99.271041 252.632729 99.777487 \r\nC 252.632729 100.283933 252.833942 100.769704 253.192054 101.127816 \r\nC 253.550165 101.485927 254.035936 101.68714 254.542382 101.68714 \r\nz\r\n\" style=\"fill:#424186;stroke:#424186;\"/>\r\n    <path clip-path=\"url(#p3e2599a388)\" d=\"M 244.585734 102.248111 \r\nC 245.094421 102.248111 245.582342 102.046008 245.942038 101.686312 \r\nC 246.301734 101.326616 246.503837 100.838695 246.503837 100.330008 \r\nC 246.503837 99.821321 246.301734 99.3334 245.942038 98.973704 \r\nC 245.582342 98.614008 245.094421 98.411905 244.585734 98.411905 \r\nC 244.077047 98.411905 243.589126 98.614008 243.22943 98.973704 \r\nC 242.869734 99.3334 242.667631 99.821321 242.667631 100.330008 \r\nC 242.667631 100.838695 242.869734 101.326616 243.22943 101.686312 \r\nC 243.589126 102.046008 244.077047 102.248111 244.585734 102.248111 \r\nz\r\n\" style=\"fill:#414287;stroke:#414287;\"/>\r\n    <path clip-path=\"url(#p3e2599a388)\" d=\"M 237.869784 104.210542 \r\nC 238.356161 104.210542 238.822683 104.017302 239.166604 103.673382 \r\nC 239.510524 103.329461 239.703764 102.862939 239.703764 102.376562 \r\nC 239.703764 101.890184 239.510524 101.423662 239.166604 101.079742 \r\nC 238.822683 100.735821 238.356161 100.542581 237.869784 100.542581 \r\nC 237.383406 100.542581 236.916884 100.735821 236.572964 101.079742 \r\nC 236.229043 101.423662 236.035803 101.890184 236.035803 102.376562 \r\nC 236.035803 102.862939 236.229043 103.329461 236.572964 103.673382 \r\nC 236.916884 104.017302 237.383406 104.210542 237.869784 104.210542 \r\nz\r\n\" style=\"fill:#453581;stroke:#453581;\"/>\r\n    <path clip-path=\"url(#p3e2599a388)\" d=\"M 226.752149 104.811861 \r\nC 227.212468 104.811861 227.653996 104.628974 227.979491 104.303479 \r\nC 228.304986 103.977984 228.487872 103.536457 228.487872 103.076137 \r\nC 228.487872 102.615818 228.304986 102.17429 227.979491 101.848795 \r\nC 227.653996 101.5233 227.212468 101.340414 226.752149 101.340414 \r\nC 226.291829 101.340414 225.850302 101.5233 225.524807 101.848795 \r\nC 225.199312 102.17429 225.016425 102.615818 225.016425 103.076137 \r\nC 225.016425 103.536457 225.199312 103.977984 225.524807 104.303479 \r\nC 225.850302 104.628974 226.291829 104.811861 226.752149 104.811861 \r\nz\r\n\" style=\"fill:#482677;stroke:#482677;\"/>\r\n    <path clip-path=\"url(#p3e2599a388)\" d=\"M 245.888909 109.240184 \r\nC 246.336883 109.240184 246.76657 109.062201 247.083336 108.745436 \r\nC 247.400102 108.42867 247.578084 107.998983 247.578084 107.551008 \r\nC 247.578084 107.103034 247.400102 106.673347 247.083336 106.356581 \r\nC 246.76657 106.039815 246.336883 105.861833 245.888909 105.861833 \r\nC 245.440934 105.861833 245.011247 106.039815 244.694481 106.356581 \r\nC 244.377716 106.673347 244.199733 107.103034 244.199733 107.551008 \r\nC 244.199733 107.998983 244.377716 108.42867 244.694481 108.745436 \r\nC 245.011247 109.062201 245.440934 109.240184 245.888909 109.240184 \r\nz\r\n\" style=\"fill:#481f70;stroke:#481f70;\"/>\r\n    <path clip-path=\"url(#p3e2599a388)\" d=\"M 247.396672 110.968604 \r\nC 247.838192 110.968604 248.261688 110.793186 248.57389 110.480985 \r\nC 248.886092 110.168783 249.06151 109.745287 249.06151 109.303767 \r\nC 249.06151 108.862246 248.886092 108.43875 248.57389 108.126549 \r\nC 248.261688 107.814347 247.838192 107.638929 247.396672 107.638929 \r\nC 246.955152 107.638929 246.531656 107.814347 246.219454 108.126549 \r\nC 245.907252 108.43875 245.731834 108.862246 245.731834 109.303767 \r\nC 245.731834 109.745287 245.907252 110.168783 246.219454 110.480985 \r\nC 246.531656 110.793186 246.955152 110.968604 247.396672 110.968604 \r\nz\r\n\" style=\"fill:#481c6e;stroke:#481c6e;\"/>\r\n    <path clip-path=\"url(#p3e2599a388)\" d=\"M 257.942916 108.135114 \r\nC 258.386504 108.135114 258.811982 107.958875 259.125646 107.645211 \r\nC 259.43931 107.331548 259.615549 106.906069 259.615549 106.462481 \r\nC 259.615549 106.018894 259.43931 105.593415 259.125646 105.279752 \r\nC 258.811982 104.966088 258.386504 104.789849 257.942916 104.789849 \r\nC 257.499329 104.789849 257.07385 104.966088 256.760186 105.279752 \r\nC 256.446523 105.593415 256.270284 106.018894 256.270284 106.462481 \r\nC 256.270284 106.906069 256.446523 107.331548 256.760186 107.645211 \r\nC 257.07385 107.958875 257.499329 108.135114 257.942916 108.135114 \r\nz\r\n\" style=\"fill:#481d6f;stroke:#481d6f;\"/>\r\n    <path clip-path=\"url(#p3e2599a388)\" d=\"M 246.322555 114.877336 \r\nC 246.769419 114.877336 247.198041 114.699795 247.514022 114.383814 \r\nC 247.830003 114.067833 248.007544 113.639211 248.007544 113.192347 \r\nC 248.007544 112.745482 247.830003 112.31686 247.514022 112.000879 \r\nC 247.198041 111.684898 246.769419 111.507357 246.322555 111.507357 \r\nC 245.87569 111.507357 245.447068 111.684898 245.131087 112.000879 \r\nC 244.815106 112.31686 244.637565 112.745482 244.637565 113.192347 \r\nC 244.637565 113.639211 244.815106 114.067833 245.131087 114.383814 \r\nC 245.447068 114.699795 245.87569 114.877336 246.322555 114.877336 \r\nz\r\n\" style=\"fill:#481f70;stroke:#481f70;\"/>\r\n    <path clip-path=\"url(#p3e2599a388)\" d=\"M 247.982467 116.161568 \r\nC 248.459808 116.161568 248.917663 115.971919 249.255194 115.634388 \r\nC 249.592725 115.296857 249.782374 114.839002 249.782374 114.361661 \r\nC 249.782374 113.88432 249.592725 113.426466 249.255194 113.088935 \r\nC 248.917663 112.751404 248.459808 112.561754 247.982467 112.561754 \r\nC 247.505126 112.561754 247.047272 112.751404 246.709741 113.088935 \r\nC 246.37221 113.426466 246.18256 113.88432 246.18256 114.361661 \r\nC 246.18256 114.839002 246.37221 115.296857 246.709741 115.634388 \r\nC 247.047272 115.971919 247.505126 116.161568 247.982467 116.161568 \r\nz\r\n\" style=\"fill:#46307e;stroke:#46307e;\"/>\r\n    <path clip-path=\"url(#p3e2599a388)\" d=\"M 258.782293 115.74212 \r\nC 259.260714 115.74212 259.719604 115.552042 260.057899 115.213747 \r\nC 260.396193 114.875453 260.586272 114.416563 260.586272 113.938142 \r\nC 260.586272 113.459721 260.396193 113.000831 260.057899 112.662537 \r\nC 259.719604 112.324242 259.260714 112.134164 258.782293 112.134164 \r\nC 258.303873 112.134164 257.844983 112.324242 257.506688 112.662537 \r\nC 257.168394 113.000831 256.978315 113.459721 256.978315 113.938142 \r\nC 256.978315 114.416563 257.168394 114.875453 257.506688 115.213747 \r\nC 257.844983 115.552042 258.303873 115.74212 258.782293 115.74212 \r\nz\r\n\" style=\"fill:#46307e;stroke:#46307e;\"/>\r\n    <path clip-path=\"url(#p3e2599a388)\" d=\"M 255.710577 115.428837 \r\nC 256.208173 115.428837 256.685456 115.23114 257.03731 114.879286 \r\nC 257.389164 114.527433 257.586861 114.050149 257.586861 113.552553 \r\nC 257.586861 113.054957 257.389164 112.577673 257.03731 112.22582 \r\nC 256.685456 111.873966 256.208173 111.676269 255.710577 111.676269 \r\nC 255.21298 111.676269 254.735697 111.873966 254.383843 112.22582 \r\nC 254.03199 112.577673 253.834292 113.054957 253.834292 113.552553 \r\nC 253.834292 114.050149 254.03199 114.527433 254.383843 114.879286 \r\nC 254.735697 115.23114 255.21298 115.428837 255.710577 115.428837 \r\nz\r\n\" style=\"fill:#433d84;stroke:#433d84;\"/>\r\n    <path clip-path=\"url(#p3e2599a388)\" d=\"M 265.164874 119.815457 \r\nC 265.661775 119.815457 266.138391 119.618036 266.489753 119.266674 \r\nC 266.841116 118.915312 267.038536 118.438696 267.038536 117.941795 \r\nC 267.038536 117.444894 266.841116 116.968277 266.489753 116.616915 \r\nC 266.138391 116.265553 265.661775 116.068132 265.164874 116.068132 \r\nC 264.667973 116.068132 264.191357 116.265553 263.839995 116.616915 \r\nC 263.488632 116.968277 263.291212 117.444894 263.291212 117.941795 \r\nC 263.291212 118.438696 263.488632 118.915312 263.839995 119.266674 \r\nC 264.191357 119.618036 264.667973 119.815457 265.164874 119.815457 \r\nz\r\n\" style=\"fill:#443b84;stroke:#443b84;\"/>\r\n    <path clip-path=\"url(#p3e2599a388)\" d=\"M 255.220462 124.310962 \r\nC 255.742369 124.310962 256.24297 124.103606 256.612014 123.734562 \r\nC 256.981058 123.365518 257.188414 122.864917 257.188414 122.343009 \r\nC 257.188414 121.821102 256.981058 121.320501 256.612014 120.951457 \r\nC 256.24297 120.582413 255.742369 120.375057 255.220462 120.375057 \r\nC 254.698555 120.375057 254.197953 120.582413 253.828909 120.951457 \r\nC 253.459865 121.320501 253.252509 121.821102 253.252509 122.343009 \r\nC 253.252509 122.864917 253.459865 123.365518 253.828909 123.734562 \r\nC 254.197953 124.103606 254.698555 124.310962 255.220462 124.310962 \r\nz\r\n\" style=\"fill:#3e4a89;stroke:#3e4a89;\"/>\r\n    <path clip-path=\"url(#p3e2599a388)\" d=\"M 242.718779 120.13332 \r\nC 243.208166 120.13332 243.677575 119.938885 244.023624 119.592836 \r\nC 244.369673 119.246787 244.564108 118.777379 244.564108 118.287992 \r\nC 244.564108 117.798605 244.369673 117.329196 244.023624 116.983148 \r\nC 243.677575 116.637099 243.208166 116.442663 242.718779 116.442663 \r\nC 242.229393 116.442663 241.759984 116.637099 241.413935 116.983148 \r\nC 241.067886 117.329196 240.873451 117.798605 240.873451 118.287992 \r\nC 240.873451 118.777379 241.067886 119.246787 241.413935 119.592836 \r\nC 241.759984 119.938885 242.229393 120.13332 242.718779 120.13332 \r\nz\r\n\" style=\"fill:#453882;stroke:#453882;\"/>\r\n    <path clip-path=\"url(#p3e2599a388)\" d=\"M 246.197507 124.651291 \r\nC 246.676017 124.651291 247.134993 124.461177 247.473351 124.122819 \r\nC 247.811708 123.784461 248.001822 123.325485 248.001822 122.846975 \r\nC 248.001822 122.368465 247.811708 121.909489 247.473351 121.571132 \r\nC 247.134993 121.232774 246.676017 121.04266 246.197507 121.04266 \r\nC 245.718997 121.04266 245.260021 121.232774 244.921663 121.571132 \r\nC 244.583305 121.909489 244.393191 122.368465 244.393191 122.846975 \r\nC 244.393191 123.325485 244.583305 123.784461 244.921663 124.122819 \r\nC 245.260021 124.461177 245.718997 124.651291 246.197507 124.651291 \r\nz\r\n\" style=\"fill:#46307e;stroke:#46307e;\"/>\r\n    <path clip-path=\"url(#p3e2599a388)\" d=\"M 242.720835 120.962897 \r\nC 243.217078 120.962897 243.693062 120.765737 244.043959 120.414841 \r\nC 244.394855 120.063944 244.592014 119.58796 244.592014 119.091717 \r\nC 244.592014 118.595474 244.394855 118.11949 244.043959 117.768593 \r\nC 243.693062 117.417697 243.217078 117.220537 242.720835 117.220537 \r\nC 242.224592 117.220537 241.748608 117.417697 241.397711 117.768593 \r\nC 241.046815 118.11949 240.849655 118.595474 240.849655 119.091717 \r\nC 240.849655 119.58796 241.046815 120.063944 241.397711 120.414841 \r\nC 241.748608 120.765737 242.224592 120.962897 242.720835 120.962897 \r\nz\r\n\" style=\"fill:#443b84;stroke:#443b84;\"/>\r\n    <path clip-path=\"url(#p3e2599a388)\" d=\"M 248.60784 122.747269 \r\nC 249.101033 122.747269 249.574093 122.551321 249.922833 122.202581 \r\nC 250.271573 121.85384 250.467521 121.380781 250.467521 120.887587 \r\nC 250.467521 120.394394 250.271573 119.921335 249.922833 119.572594 \r\nC 249.574093 119.223854 249.101033 119.027906 248.60784 119.027906 \r\nC 248.114647 119.027906 247.641587 119.223854 247.292847 119.572594 \r\nC 246.944106 119.921335 246.748159 120.394394 246.748159 120.887587 \r\nC 246.748159 121.380781 246.944106 121.85384 247.292847 122.202581 \r\nC 247.641587 122.551321 248.114647 122.747269 248.60784 122.747269 \r\nz\r\n\" style=\"fill:#443a83;stroke:#443a83;\"/>\r\n    <path clip-path=\"url(#p3e2599a388)\" d=\"M 230.472569 118.788726 \r\nC 230.982097 118.788726 231.470824 118.586288 231.831115 118.225998 \r\nC 232.191406 117.865707 232.393843 117.376979 232.393843 116.867451 \r\nC 232.393843 116.357923 232.191406 115.869196 231.831115 115.508905 \r\nC 231.470824 115.148614 230.982097 114.946177 230.472569 114.946177 \r\nC 229.963041 114.946177 229.474313 115.148614 229.114022 115.508905 \r\nC 228.753732 115.869196 228.551294 116.357923 228.551294 116.867451 \r\nC 228.551294 117.376979 228.753732 117.865707 229.114022 118.225998 \r\nC 229.474313 118.586288 229.963041 118.788726 230.472569 118.788726 \r\nz\r\n\" style=\"fill:#414487;stroke:#414487;\"/>\r\n    <path clip-path=\"url(#p3e2599a388)\" d=\"M 237.003329 120.381314 \r\nC 237.519458 120.381314 238.014518 120.176254 238.379476 119.811295 \r\nC 238.744435 119.446336 238.949495 118.951277 238.949495 118.435148 \r\nC 238.949495 117.919018 238.744435 117.423959 238.379476 117.059 \r\nC 238.014518 116.694042 237.519458 116.488982 237.003329 116.488982 \r\nC 236.4872 116.488982 235.99214 116.694042 235.627182 117.059 \r\nC 235.262223 117.423959 235.057163 117.919018 235.057163 118.435148 \r\nC 235.057163 118.951277 235.262223 119.446336 235.627182 119.811295 \r\nC 235.99214 120.176254 236.4872 120.381314 237.003329 120.381314 \r\nz\r\n\" style=\"fill:#3f4788;stroke:#3f4788;\"/>\r\n    <path clip-path=\"url(#p3e2599a388)\" d=\"M 260.8272 124.783978 \r\nC 261.359197 124.783978 261.869477 124.572613 262.245655 124.196435 \r\nC 262.621834 123.820256 262.833199 123.309976 262.833199 122.777979 \r\nC 262.833199 122.245982 262.621834 121.735702 262.245655 121.359524 \r\nC 261.869477 120.983345 261.359197 120.77198 260.8272 120.77198 \r\nC 260.295203 120.77198 259.784923 120.983345 259.408744 121.359524 \r\nC 259.032566 121.735702 258.821201 122.245982 258.821201 122.777979 \r\nC 258.821201 123.309976 259.032566 123.820256 259.408744 124.196435 \r\nC 259.784923 124.572613 260.295203 124.783978 260.8272 124.783978 \r\nz\r\n\" style=\"fill:#3c508b;stroke:#3c508b;\"/>\r\n    <path clip-path=\"url(#p3e2599a388)\" d=\"M 260.601404 121.632826 \r\nC 261.143438 121.632826 261.663344 121.417474 262.04662 121.034198 \r\nC 262.429896 120.650923 262.645248 120.131016 262.645248 119.588982 \r\nC 262.645248 119.046948 262.429896 118.527042 262.04662 118.143766 \r\nC 261.663344 117.76049 261.143438 117.545138 260.601404 117.545138 \r\nC 260.05937 117.545138 259.539464 117.76049 259.156188 118.143766 \r\nC 258.772912 118.527042 258.55756 119.046948 258.55756 119.588982 \r\nC 258.55756 120.131016 258.772912 120.650923 259.156188 121.034198 \r\nC 259.539464 121.417474 260.05937 121.632826 260.601404 121.632826 \r\nz\r\n\" style=\"fill:#39568c;stroke:#39568c;\"/>\r\n    <path clip-path=\"url(#p3e2599a388)\" d=\"M 260.914454 121.738368 \r\nC 261.467306 121.738368 261.997589 121.518717 262.388514 121.127792 \r\nC 262.77944 120.736866 262.99909 120.206583 262.99909 119.653731 \r\nC 262.99909 119.100879 262.77944 118.570595 262.388514 118.17967 \r\nC 261.997589 117.788744 261.467306 117.569094 260.914454 117.569094 \r\nC 260.361601 117.569094 259.831318 117.788744 259.440393 118.17967 \r\nC 259.049467 118.570595 258.829817 119.100879 258.829817 119.653731 \r\nC 258.829817 120.206583 259.049467 120.736866 259.440393 121.127792 \r\nC 259.831318 121.518717 260.361601 121.738368 260.914454 121.738368 \r\nz\r\n\" style=\"fill:#365c8d;stroke:#365c8d;\"/>\r\n    <path clip-path=\"url(#p3e2599a388)\" d=\"M 262.560744 116.432893 \r\nC 263.136841 116.432893 263.68942 116.204007 264.096782 115.796645 \r\nC 264.504144 115.389283 264.73303 114.836704 264.73303 114.260607 \r\nC 264.73303 113.68451 264.504144 113.131931 264.096782 112.724569 \r\nC 263.68942 112.317207 263.136841 112.088321 262.560744 112.088321 \r\nC 261.984647 112.088321 261.432068 112.317207 261.024706 112.724569 \r\nC 260.617344 113.131931 260.388459 113.68451 260.388459 114.260607 \r\nC 260.388459 114.836704 260.617344 115.389283 261.024706 115.796645 \r\nC 261.432068 116.204007 261.984647 116.432893 262.560744 116.432893 \r\nz\r\n\" style=\"fill:#30698e;stroke:#30698e;\"/>\r\n    <path clip-path=\"url(#p3e2599a388)\" d=\"M 245.488273 113.167229 \r\nC 246.079233 113.167229 246.646067 112.932438 247.063939 112.514567 \r\nC 247.48181 112.096695 247.716601 111.529861 247.716601 110.938901 \r\nC 247.716601 110.347942 247.48181 109.781107 247.063939 109.363236 \r\nC 246.646067 108.945364 246.079233 108.710574 245.488273 108.710574 \r\nC 244.897314 108.710574 244.330479 108.945364 243.912608 109.363236 \r\nC 243.494736 109.781107 243.259946 110.347942 243.259946 110.938901 \r\nC 243.259946 111.529861 243.494736 112.096695 243.912608 112.514567 \r\nC 244.330479 112.932438 244.897314 113.167229 245.488273 113.167229 \r\nz\r\n\" style=\"fill:#2c718e;stroke:#2c718e;\"/>\r\n    <path clip-path=\"url(#p3e2599a388)\" d=\"M 249.395615 114.076464 \r\nC 250.001179 114.076464 250.582022 113.835871 251.01022 113.407673 \r\nC 251.438418 112.979475 251.679011 112.398632 251.679011 111.793068 \r\nC 251.679011 111.187505 251.438418 110.606662 251.01022 110.178464 \r\nC 250.582022 109.750266 250.001179 109.509673 249.395615 109.509673 \r\nC 248.790052 109.509673 248.209209 109.750266 247.781011 110.178464 \r\nC 247.352813 110.606662 247.11222 111.187505 247.11222 111.793068 \r\nC 247.11222 112.398632 247.352813 112.979475 247.781011 113.407673 \r\nC 248.209209 113.835871 248.790052 114.076464 249.395615 114.076464 \r\nz\r\n\" style=\"fill:#297a8e;stroke:#297a8e;\"/>\r\n    <path clip-path=\"url(#p3e2599a388)\" d=\"M 234.6756 115.751716 \r\nC 235.28146 115.751716 235.862587 115.511006 236.290994 115.082598 \r\nC 236.719402 114.65419 236.960113 114.073063 236.960113 113.467203 \r\nC 236.960113 112.861343 236.719402 112.280216 236.290994 111.851809 \r\nC 235.862587 111.423401 235.28146 111.18269 234.6756 111.18269 \r\nC 234.06974 111.18269 233.488613 111.423401 233.060205 111.851809 \r\nC 232.631797 112.280216 232.391087 112.861343 232.391087 113.467203 \r\nC 232.391087 114.073063 232.631797 114.65419 233.060205 115.082598 \r\nC 233.488613 115.511006 234.06974 115.751716 234.6756 115.751716 \r\nz\r\n\" style=\"fill:#297a8e;stroke:#297a8e;\"/>\r\n    <path clip-path=\"url(#p3e2599a388)\" d=\"M 230.754202 115.632638 \r\nC 231.351559 115.632638 231.92453 115.395306 232.346926 114.972911 \r\nC 232.769321 114.550515 233.006653 113.977544 233.006653 113.380187 \r\nC 233.006653 112.78283 232.769321 112.209858 232.346926 111.787463 \r\nC 231.92453 111.365068 231.351559 111.127735 230.754202 111.127735 \r\nC 230.156845 111.127735 229.583873 111.365068 229.161478 111.787463 \r\nC 228.739083 112.209858 228.50175 112.78283 228.50175 113.380187 \r\nC 228.50175 113.977544 228.739083 114.550515 229.161478 114.972911 \r\nC 229.583873 115.395306 230.156845 115.632638 230.754202 115.632638 \r\nz\r\n\" style=\"fill:#2b758e;stroke:#2b758e;\"/>\r\n    <path clip-path=\"url(#p3e2599a388)\" d=\"M 242.150083 114.887572 \r\nC 242.737653 114.887572 243.301237 114.654128 243.716711 114.238654 \r\nC 244.132186 113.823179 244.36563 113.259595 244.36563 112.672025 \r\nC 244.36563 112.084456 244.132186 111.520872 243.716711 111.105397 \r\nC 243.301237 110.689923 242.737653 110.456479 242.150083 110.456479 \r\nC 241.562513 110.456479 240.99893 110.689923 240.583455 111.105397 \r\nC 240.167981 111.520872 239.934537 112.084456 239.934537 112.672025 \r\nC 239.934537 113.259595 240.167981 113.823179 240.583455 114.238654 \r\nC 240.99893 114.654128 241.562513 114.887572 242.150083 114.887572 \r\nz\r\n\" style=\"fill:#2d708e;stroke:#2d708e;\"/>\r\n    <path clip-path=\"url(#p3e2599a388)\" d=\"M 235.408873 118.212337 \r\nC 236.007573 118.212337 236.581833 117.97447 237.005178 117.551125 \r\nC 237.428524 117.12778 237.66639 116.55352 237.66639 115.95482 \r\nC 237.66639 115.356119 237.428524 114.781859 237.005178 114.358514 \r\nC 236.581833 113.935169 236.007573 113.697302 235.408873 113.697302 \r\nC 234.810172 113.697302 234.235912 113.935169 233.812567 114.358514 \r\nC 233.389222 114.781859 233.151356 115.356119 233.151356 115.95482 \r\nC 233.151356 116.55352 233.389222 117.12778 233.812567 117.551125 \r\nC 234.235912 117.97447 234.810172 118.212337 235.408873 118.212337 \r\nz\r\n\" style=\"fill:#2a768e;stroke:#2a768e;\"/>\r\n    <path clip-path=\"url(#p3e2599a388)\" d=\"M 240.004829 114.938435 \r\nC 240.566582 114.938435 241.105403 114.715249 241.502622 114.318029 \r\nC 241.899842 113.92081 242.123028 113.381989 242.123028 112.820236 \r\nC 242.123028 112.258483 241.899842 111.719662 241.502622 111.322443 \r\nC 241.105403 110.925224 240.566582 110.702037 240.004829 110.702037 \r\nC 239.443076 110.702037 238.904255 110.925224 238.507036 111.322443 \r\nC 238.109817 111.719662 237.88663 112.258483 237.88663 112.820236 \r\nC 237.88663 113.381989 238.109817 113.92081 238.507036 114.318029 \r\nC 238.904255 114.715249 239.443076 114.938435 240.004829 114.938435 \r\nz\r\n\" style=\"fill:#34618d;stroke:#34618d;\"/>\r\n    <path clip-path=\"url(#p3e2599a388)\" d=\"M 249.290642 116.339242 \r\nC 249.831551 116.339242 250.350378 116.124337 250.732858 115.741856 \r\nC 251.115338 115.359376 251.330243 114.840549 251.330243 114.29964 \r\nC 251.330243 113.758732 251.115338 113.239905 250.732858 112.857424 \r\nC 250.350378 112.474944 249.831551 112.260039 249.290642 112.260039 \r\nC 248.749733 112.260039 248.230906 112.474944 247.848426 112.857424 \r\nC 247.465946 113.239905 247.251041 113.758732 247.251041 114.29964 \r\nC 247.251041 114.840549 247.465946 115.359376 247.848426 115.741856 \r\nC 248.230906 116.124337 248.749733 116.339242 249.290642 116.339242 \r\nz\r\n\" style=\"fill:#39558c;stroke:#39558c;\"/>\r\n    <path clip-path=\"url(#p3e2599a388)\" d=\"M 251.846419 117.854281 \r\nC 252.371438 117.854281 252.875025 117.645689 253.246269 117.274444 \r\nC 253.617514 116.9032 253.826106 116.399613 253.826106 115.874594 \r\nC 253.826106 115.349575 253.617514 114.845989 253.246269 114.474744 \r\nC 252.875025 114.103499 252.371438 113.894907 251.846419 113.894907 \r\nC 251.3214 113.894907 250.817814 114.103499 250.446569 114.474744 \r\nC 250.075325 114.845989 249.866732 115.349575 249.866732 115.874594 \r\nC 249.866732 116.399613 250.075325 116.9032 250.446569 117.274444 \r\nC 250.817814 117.645689 251.3214 117.854281 251.846419 117.854281 \r\nz\r\n\" style=\"fill:#3d4d8a;stroke:#3d4d8a;\"/>\r\n    <path clip-path=\"url(#p3e2599a388)\" d=\"M 239.276181 119.851594 \r\nC 239.797037 119.851594 240.296631 119.644655 240.664931 119.276354 \r\nC 241.033232 118.908053 241.240171 118.40846 241.240171 117.887604 \r\nC 241.240171 117.366748 241.033232 116.867154 240.664931 116.498854 \r\nC 240.296631 116.130553 239.797037 115.923614 239.276181 115.923614 \r\nC 238.755325 115.923614 238.255732 116.130553 237.887431 116.498854 \r\nC 237.51913 116.867154 237.312192 117.366748 237.312192 117.887604 \r\nC 237.312192 118.40846 237.51913 118.908053 237.887431 119.276354 \r\nC 238.255732 119.644655 238.755325 119.851594 239.276181 119.851594 \r\nz\r\n\" style=\"fill:#3e4989;stroke:#3e4989;\"/>\r\n    <path clip-path=\"url(#p3e2599a388)\" d=\"M 236.227713 118.8162 \r\nC 236.702077 118.8162 237.157077 118.627733 237.492504 118.292307 \r\nC 237.827931 117.95688 238.016398 117.50188 238.016398 117.027515 \r\nC 238.016398 116.55315 237.827931 116.09815 237.492504 115.762723 \r\nC 237.157077 115.427297 236.702077 115.23883 236.227713 115.23883 \r\nC 235.753348 115.23883 235.298348 115.427297 234.962921 115.762723 \r\nC 234.627494 116.09815 234.439027 116.55315 234.439027 117.027515 \r\nC 234.439027 117.50188 234.627494 117.95688 234.962921 118.292307 \r\nC 235.298348 118.627733 235.753348 118.8162 236.227713 118.8162 \r\nz\r\n\" style=\"fill:#472f7d;stroke:#472f7d;\"/>\r\n    <path clip-path=\"url(#p3e2599a388)\" d=\"M 254.193572 121.478649 \r\nC 254.690718 121.478649 255.167569 121.28113 255.519105 120.929595 \r\nC 255.87064 120.578059 256.068159 120.101208 256.068159 119.604062 \r\nC 256.068159 119.106915 255.87064 118.630064 255.519105 118.278529 \r\nC 255.167569 117.926993 254.690718 117.729475 254.193572 117.729475 \r\nC 253.696426 117.729475 253.219574 117.926993 252.868039 118.278529 \r\nC 252.516503 118.630064 252.318985 119.106915 252.318985 119.604062 \r\nC 252.318985 120.101208 252.516503 120.578059 252.868039 120.929595 \r\nC 253.219574 121.28113 253.696426 121.478649 254.193572 121.478649 \r\nz\r\n\" style=\"fill:#443b84;stroke:#443b84;\"/>\r\n    <path clip-path=\"url(#p3e2599a388)\" d=\"M 235.62591 121.01575 \r\nC 236.133559 121.01575 236.620484 120.814059 236.979446 120.455097 \r\nC 237.338408 120.096135 237.540099 119.60921 237.540099 119.101561 \r\nC 237.540099 118.593912 237.338408 118.106987 236.979446 117.748025 \r\nC 236.620484 117.389063 236.133559 117.187372 235.62591 117.187372 \r\nC 235.118261 117.187372 234.631336 117.389063 234.272374 117.748025 \r\nC 233.913412 118.106987 233.711721 118.593912 233.711721 119.101561 \r\nC 233.711721 119.60921 233.913412 120.096135 234.272374 120.455097 \r\nC 234.631336 120.814059 235.118261 121.01575 235.62591 121.01575 \r\nz\r\n\" style=\"fill:#414287;stroke:#414287;\"/>\r\n    <path clip-path=\"url(#p3e2599a388)\" d=\"M 233.097226 110.841031 \r\nC 233.638153 110.841031 234.156999 110.626119 234.539492 110.243625 \r\nC 234.921986 109.861132 235.136898 109.342286 235.136898 108.801359 \r\nC 235.136898 108.260431 234.921986 107.741586 234.539492 107.359092 \r\nC 234.156999 106.976599 233.638153 106.761686 233.097226 106.761686 \r\nC 232.556298 106.761686 232.037453 106.976599 231.654959 107.359092 \r\nC 231.272466 107.741586 231.057553 108.260431 231.057553 108.801359 \r\nC 231.057553 109.342286 231.272466 109.861132 231.654959 110.243625 \r\nC 232.037453 110.626119 232.556298 110.841031 233.097226 110.841031 \r\nz\r\n\" style=\"fill:#39558c;stroke:#39558c;\"/>\r\n    <path clip-path=\"url(#p3e2599a388)\" d=\"M 228.034942 111.104712 \r\nC 228.592867 111.104712 229.128015 110.883047 229.522527 110.488534 \r\nC 229.917039 110.094022 230.138705 109.558874 230.138705 109.000949 \r\nC 230.138705 108.443025 229.917039 107.907876 229.522527 107.513364 \r\nC 229.128015 107.118852 228.592867 106.897186 228.034942 106.897186 \r\nC 227.477018 106.897186 226.941869 107.118852 226.547357 107.513364 \r\nC 226.152845 107.907876 225.931179 108.443025 225.931179 109.000949 \r\nC 225.931179 109.558874 226.152845 110.094022 226.547357 110.488534 \r\nC 226.941869 110.883047 227.477018 111.104712 228.034942 111.104712 \r\nz\r\n\" style=\"fill:#355f8d;stroke:#355f8d;\"/>\r\n    <path clip-path=\"url(#p3e2599a388)\" d=\"M 229.142076 112.78089 \r\nC 229.716007 112.78089 230.266509 112.552865 230.672339 112.147034 \r\nC 231.07817 111.741204 231.306195 111.190702 231.306195 110.616771 \r\nC 231.306195 110.04284 231.07817 109.492338 230.672339 109.086507 \r\nC 230.266509 108.680676 229.716007 108.452651 229.142076 108.452651 \r\nC 228.568144 108.452651 228.017643 108.680676 227.611812 109.086507 \r\nC 227.205981 109.492338 226.977956 110.04284 226.977956 110.616771 \r\nC 226.977956 111.190702 227.205981 111.741204 227.611812 112.147034 \r\nC 228.017643 112.552865 228.568144 112.78089 229.142076 112.78089 \r\nz\r\n\" style=\"fill:#31688e;stroke:#31688e;\"/>\r\n    <path clip-path=\"url(#p3e2599a388)\" d=\"M 236.002471 119.116095 \r\nC 236.609901 119.116095 237.192534 118.87476 237.622052 118.445242 \r\nC 238.051569 118.015725 238.292904 117.433092 238.292904 116.825662 \r\nC 238.292904 116.218232 238.051569 115.635599 237.622052 115.206081 \r\nC 237.192534 114.776563 236.609901 114.535229 236.002471 114.535229 \r\nC 235.395041 114.535229 234.812408 114.776563 234.38289 115.206081 \r\nC 233.953373 115.635599 233.712038 116.218232 233.712038 116.825662 \r\nC 233.712038 117.433092 233.953373 118.015725 234.38289 118.445242 \r\nC 234.812408 118.87476 235.395041 119.116095 236.002471 119.116095 \r\nz\r\n\" style=\"fill:#297b8e;stroke:#297b8e;\"/>\r\n    <path clip-path=\"url(#p3e2599a388)\" d=\"M 250.752572 118.897741 \r\nC 251.351681 118.897741 251.926333 118.659712 252.349967 118.236078 \r\nC 252.773602 117.812444 253.01163 117.237792 253.01163 116.638683 \r\nC 253.01163 116.039574 252.773602 115.464922 252.349967 115.041288 \r\nC 251.926333 114.617654 251.351681 114.379625 250.752572 114.379625 \r\nC 250.153463 114.379625 249.578811 114.617654 249.155177 115.041288 \r\nC 248.731543 115.464922 248.493514 116.039574 248.493514 116.638683 \r\nC 248.493514 117.237792 248.731543 117.812444 249.155177 118.236078 \r\nC 249.578811 118.659712 250.153463 118.897741 250.752572 118.897741 \r\nz\r\n\" style=\"fill:#2a768e;stroke:#2a768e;\"/>\r\n    <path clip-path=\"url(#p3e2599a388)\" d=\"M 248.274809 122.942682 \r\nC 248.851434 122.942682 249.404519 122.713587 249.812255 122.305851 \r\nC 250.21999 121.898116 250.449086 121.345031 250.449086 120.768406 \r\nC 250.449086 120.191781 250.21999 119.638695 249.812255 119.23096 \r\nC 249.404519 118.823225 248.851434 118.594129 248.274809 118.594129 \r\nC 247.698184 118.594129 247.145099 118.823225 246.737363 119.23096 \r\nC 246.329628 119.638695 246.100532 120.191781 246.100532 120.768406 \r\nC 246.100532 121.345031 246.329628 121.898116 246.737363 122.305851 \r\nC 247.145099 122.713587 247.698184 122.942682 248.274809 122.942682 \r\nz\r\n\" style=\"fill:#306a8e;stroke:#306a8e;\"/>\r\n    <path clip-path=\"url(#p3e2599a388)\" d=\"M 255.723174 124.327504 \r\nC 256.296245 124.327504 256.845922 124.099821 257.251144 123.694598 \r\nC 257.656367 123.289376 257.884051 122.739699 257.884051 122.166628 \r\nC 257.884051 121.593556 257.656367 121.043879 257.251144 120.638657 \r\nC 256.845922 120.233434 256.296245 120.005751 255.723174 120.005751 \r\nC 255.150102 120.005751 254.600425 120.233434 254.195203 120.638657 \r\nC 253.78998 121.043879 253.562297 121.593556 253.562297 122.166628 \r\nC 253.562297 122.739699 253.78998 123.289376 254.195203 123.694598 \r\nC 254.600425 124.099821 255.150102 124.327504 255.723174 124.327504 \r\nz\r\n\" style=\"fill:#31688e;stroke:#31688e;\"/>\r\n    <path clip-path=\"url(#p3e2599a388)\" d=\"M 260.305295 123.7148 \r\nC 260.865567 123.7148 261.402967 123.492201 261.799139 123.096029 \r\nC 262.195312 122.699857 262.41791 122.162457 262.41791 121.602185 \r\nC 262.41791 121.041913 262.195312 120.504513 261.799139 120.108341 \r\nC 261.402967 119.712168 260.865567 119.48957 260.305295 119.48957 \r\nC 259.745023 119.48957 259.207623 119.712168 258.811451 120.108341 \r\nC 258.415279 120.504513 258.19268 121.041913 258.19268 121.602185 \r\nC 258.19268 122.162457 258.415279 122.699857 258.811451 123.096029 \r\nC 259.207623 123.492201 259.745023 123.7148 260.305295 123.7148 \r\nz\r\n\" style=\"fill:#34618d;stroke:#34618d;\"/>\r\n    <path clip-path=\"url(#p3e2599a388)\" d=\"M 264.65459 130.144108 \r\nC 265.210817 130.144108 265.744337 129.923117 266.137649 129.529805 \r\nC 266.530961 129.136493 266.751952 128.602973 266.751952 128.046746 \r\nC 266.751952 127.490519 266.530961 126.956998 266.137649 126.563686 \r\nC 265.744337 126.170374 265.210817 125.949383 264.65459 125.949383 \r\nC 264.098363 125.949383 263.564842 126.170374 263.17153 126.563686 \r\nC 262.778218 126.956998 262.557227 127.490519 262.557227 128.046746 \r\nC 262.557227 128.602973 262.778218 129.136493 263.17153 129.529805 \r\nC 263.564842 129.923117 264.098363 130.144108 264.65459 130.144108 \r\nz\r\n\" style=\"fill:#355e8d;stroke:#355e8d;\"/>\r\n    <path clip-path=\"url(#p3e2599a388)\" d=\"M 259.483966 129.494312 \r\nC 260.023339 129.494312 260.540692 129.280017 260.922086 128.898623 \r\nC 261.30348 128.51723 261.517774 127.999876 261.517774 127.460504 \r\nC 261.517774 126.921132 261.30348 126.403778 260.922086 126.022385 \r\nC 260.540692 125.640991 260.023339 125.426696 259.483966 125.426696 \r\nC 258.944594 125.426696 258.427241 125.640991 258.045847 126.022385 \r\nC 257.664453 126.403778 257.450158 126.921132 257.450158 127.460504 \r\nC 257.450158 127.999876 257.664453 128.51723 258.045847 128.898623 \r\nC 258.427241 129.280017 258.944594 129.494312 259.483966 129.494312 \r\nz\r\n\" style=\"fill:#3a548c;stroke:#3a548c;\"/>\r\n    <path clip-path=\"url(#p3e2599a388)\" d=\"M 250.339517 128.395195 \r\nC 250.888068 128.395195 251.414225 128.177253 251.802108 127.78937 \r\nC 252.189992 127.401486 252.407933 126.875329 252.407933 126.326779 \r\nC 252.407933 125.778228 252.189992 125.252071 251.802108 124.864188 \r\nC 251.414225 124.476304 250.888068 124.258363 250.339517 124.258363 \r\nC 249.790967 124.258363 249.26481 124.476304 248.876926 124.864188 \r\nC 248.489043 125.252071 248.271101 125.778228 248.271101 126.326779 \r\nC 248.271101 126.875329 248.489043 127.401486 248.876926 127.78937 \r\nC 249.26481 128.177253 249.790967 128.395195 250.339517 128.395195 \r\nz\r\n\" style=\"fill:#375a8c;stroke:#375a8c;\"/>\r\n    <path clip-path=\"url(#p3e2599a388)\" d=\"M 240.253213 133.255135 \r\nC 240.809924 133.255135 241.343909 133.033952 241.737563 132.640298 \r\nC 242.131217 132.246643 242.352401 131.712659 242.352401 131.155947 \r\nC 242.352401 130.599236 242.131217 130.065251 241.737563 129.671597 \r\nC 241.343909 129.277943 240.809924 129.056759 240.253213 129.056759 \r\nC 239.696501 129.056759 239.162517 129.277943 238.768862 129.671597 \r\nC 238.375208 130.065251 238.154024 130.599236 238.154024 131.155947 \r\nC 238.154024 131.712659 238.375208 132.246643 238.768862 132.640298 \r\nC 239.162517 133.033952 239.696501 133.255135 240.253213 133.255135 \r\nz\r\n\" style=\"fill:#355f8d;stroke:#355f8d;\"/>\r\n    <path clip-path=\"url(#p3e2599a388)\" d=\"M 233.317433 134.714119 \r\nC 233.873719 134.714119 234.407296 134.493104 234.80065 134.09975 \r\nC 235.194003 133.706397 235.415018 133.17282 235.415018 132.616534 \r\nC 235.415018 132.060248 235.194003 131.526672 234.80065 131.133318 \r\nC 234.407296 130.739965 233.873719 130.51895 233.317433 130.51895 \r\nC 232.761148 130.51895 232.227571 130.739965 231.834217 131.133318 \r\nC 231.440864 131.526672 231.219849 132.060248 231.219849 132.616534 \r\nC 231.219849 133.17282 231.440864 133.706397 231.834217 134.09975 \r\nC 232.227571 134.493104 232.761148 134.714119 233.317433 134.714119 \r\nz\r\n\" style=\"fill:#355e8d;stroke:#355e8d;\"/>\r\n    <path clip-path=\"url(#p3e2599a388)\" d=\"M 236.26698 141.548268 \r\nC 236.828169 141.548268 237.366448 141.325306 237.763268 140.928485 \r\nC 238.160089 140.531665 238.383051 139.993386 238.383051 139.432197 \r\nC 238.383051 138.871009 238.160089 138.33273 237.763268 137.935909 \r\nC 237.366448 137.539089 236.828169 137.316126 236.26698 137.316126 \r\nC 235.705792 137.316126 235.167513 137.539089 234.770692 137.935909 \r\nC 234.373872 138.33273 234.15091 138.871009 234.15091 139.432197 \r\nC 234.15091 139.993386 234.373872 140.531665 234.770692 140.928485 \r\nC 235.167513 141.325306 235.705792 141.548268 236.26698 141.548268 \r\nz\r\n\" style=\"fill:#34618d;stroke:#34618d;\"/>\r\n    <path clip-path=\"url(#p3e2599a388)\" d=\"M 243.244132 135.674191 \r\nC 243.803091 135.674191 244.339231 135.452114 244.734475 135.056871 \r\nC 245.129718 134.661627 245.351795 134.125487 245.351795 133.566528 \r\nC 245.351795 133.007569 245.129718 132.471429 244.734475 132.076185 \r\nC 244.339231 131.680942 243.803091 131.458865 243.244132 131.458865 \r\nC 242.685173 131.458865 242.149033 131.680942 241.753789 132.076185 \r\nC 241.358546 132.471429 241.136469 133.007569 241.136469 133.566528 \r\nC 241.136469 134.125487 241.358546 134.661627 241.753789 135.056871 \r\nC 242.149033 135.452114 242.685173 135.674191 243.244132 135.674191 \r\nz\r\n\" style=\"fill:#34608d;stroke:#34608d;\"/>\r\n    <path clip-path=\"url(#p3e2599a388)\" d=\"M 246.21002 134.487626 \r\nC 246.780685 134.487626 247.328053 134.260899 247.731574 133.857378 \r\nC 248.135095 133.453857 248.361822 132.906489 248.361822 132.335824 \r\nC 248.361822 131.76516 248.135095 131.217791 247.731574 130.814271 \r\nC 247.328053 130.41075 246.780685 130.184022 246.21002 130.184022 \r\nC 245.639356 130.184022 245.091988 130.41075 244.688467 130.814271 \r\nC 244.284946 131.217791 244.058219 131.76516 244.058219 132.335824 \r\nC 244.058219 132.906489 244.284946 133.453857 244.688467 133.857378 \r\nC 245.091988 134.260899 245.639356 134.487626 246.21002 134.487626 \r\nz\r\n\" style=\"fill:#31668e;stroke:#31668e;\"/>\r\n    <path clip-path=\"url(#p3e2599a388)\" d=\"M 241.176647 135.160285 \r\nC 241.748383 135.160285 242.296779 134.933132 242.701058 134.528853 \r\nC 243.105337 134.124574 243.33249 133.576178 243.33249 133.004441 \r\nC 243.33249 132.432705 243.105337 131.884308 242.701058 131.48003 \r\nC 242.296779 131.075751 241.748383 130.848598 241.176647 130.848598 \r\nC 240.60491 130.848598 240.056514 131.075751 239.652235 131.48003 \r\nC 239.247956 131.884308 239.020803 132.432705 239.020803 133.004441 \r\nC 239.020803 133.576178 239.247956 134.124574 239.652235 134.528853 \r\nC 240.056514 134.933132 240.60491 135.160285 241.176647 135.160285 \r\nz\r\n\" style=\"fill:#31678e;stroke:#31678e;\"/>\r\n    <path clip-path=\"url(#p3e2599a388)\" d=\"M 257.735602 135.753318 \r\nC 258.303242 135.753318 258.847709 135.527793 259.249091 135.12641 \r\nC 259.650473 134.725028 259.875999 134.180561 259.875999 133.612921 \r\nC 259.875999 133.045281 259.650473 132.500814 259.249091 132.099432 \r\nC 258.847709 131.69805 258.303242 131.472524 257.735602 131.472524 \r\nC 257.167962 131.472524 256.623495 131.69805 256.222112 132.099432 \r\nC 255.82073 132.500814 255.595205 133.045281 255.595205 133.612921 \r\nC 255.595205 134.180561 255.82073 134.725028 256.222112 135.12641 \r\nC 256.623495 135.527793 257.167962 135.753318 257.735602 135.753318 \r\nz\r\n\" style=\"fill:#32658e;stroke:#32658e;\"/>\r\n    <path clip-path=\"url(#p3e2599a388)\" d=\"M 271.662094 131.594513 \r\nC 272.243953 131.594513 272.802059 131.363338 273.213496 130.951902 \r\nC 273.624932 130.540465 273.856107 129.982359 273.856107 129.4005 \r\nC 273.856107 128.81864 273.624932 128.260534 273.213496 127.849098 \r\nC 272.802059 127.437661 272.243953 127.206486 271.662094 127.206486 \r\nC 271.080234 127.206486 270.522128 127.437661 270.110692 127.849098 \r\nC 269.699255 128.260534 269.46808 128.81864 269.46808 129.4005 \r\nC 269.46808 129.982359 269.699255 130.540465 270.110692 130.951902 \r\nC 270.522128 131.363338 271.080234 131.594513 271.662094 131.594513 \r\nz\r\n\" style=\"fill:#2e6d8e;stroke:#2e6d8e;\"/>\r\n    <path clip-path=\"url(#p3e2599a388)\" d=\"M 268.416264 132.01579 \r\nC 269.016871 132.01579 269.59296 131.777167 270.017654 131.352473 \r\nC 270.442348 130.927779 270.680971 130.35169 270.680971 129.751083 \r\nC 270.680971 129.150475 270.442348 128.574386 270.017654 128.149692 \r\nC 269.59296 127.724999 269.016871 127.486375 268.416264 127.486375 \r\nC 267.815656 127.486375 267.239567 127.724999 266.814873 128.149692 \r\nC 266.39018 128.574386 266.151556 129.150475 266.151556 129.751083 \r\nC 266.151556 130.35169 266.39018 130.927779 266.814873 131.352473 \r\nC 267.239567 131.777167 267.815656 132.01579 268.416264 132.01579 \r\nz\r\n\" style=\"fill:#2a778e;stroke:#2a778e;\"/>\r\n    <path clip-path=\"url(#p3e2599a388)\" d=\"M 260.866214 130.856798 \r\nC 261.48609 130.856798 262.080661 130.610519 262.518979 130.1722 \r\nC 262.957298 129.733882 263.203577 129.139311 263.203577 128.519435 \r\nC 263.203577 127.899559 262.957298 127.304988 262.518979 126.86667 \r\nC 262.080661 126.428352 261.48609 126.182072 260.866214 126.182072 \r\nC 260.246338 126.182072 259.651767 126.428352 259.213449 126.86667 \r\nC 258.77513 127.304988 258.528851 127.899559 258.528851 128.519435 \r\nC 258.528851 129.139311 258.77513 129.733882 259.213449 130.1722 \r\nC 259.651767 130.610519 260.246338 130.856798 260.866214 130.856798 \r\nz\r\n\" style=\"fill:#26828e;stroke:#26828e;\"/>\r\n    <path clip-path=\"url(#p3e2599a388)\" d=\"M 262.060156 125.149291 \r\nC 262.665824 125.149291 263.246767 124.908656 263.675039 124.480384 \r\nC 264.103311 124.052112 264.343946 123.471169 264.343946 122.865501 \r\nC 264.343946 122.259833 264.103311 121.67889 263.675039 121.250617 \r\nC 263.246767 120.822345 262.665824 120.581711 262.060156 120.581711 \r\nC 261.454488 120.581711 260.873545 120.822345 260.445273 121.250617 \r\nC 260.017001 121.67889 259.776366 122.259833 259.776366 122.865501 \r\nC 259.776366 123.471169 260.017001 124.052112 260.445273 124.480384 \r\nC 260.873545 124.908656 261.454488 125.149291 262.060156 125.149291 \r\nz\r\n\" style=\"fill:#297a8e;stroke:#297a8e;\"/>\r\n    <path clip-path=\"url(#p3e2599a388)\" d=\"M 273.680028 126.408646 \r\nC 274.277888 126.408646 274.851342 126.171114 275.274093 125.748363 \r\nC 275.696844 125.325612 275.934376 124.752159 275.934376 124.154299 \r\nC 275.934376 123.556438 275.696844 122.982985 275.274093 122.560234 \r\nC 274.851342 122.137483 274.277888 121.899951 273.680028 121.899951 \r\nC 273.082168 121.899951 272.508714 122.137483 272.085963 122.560234 \r\nC 271.663212 122.982985 271.42568 123.556438 271.42568 124.154299 \r\nC 271.42568 124.752159 271.663212 125.325612 272.085963 125.748363 \r\nC 272.508714 126.171114 273.082168 126.408646 273.680028 126.408646 \r\nz\r\n\" style=\"fill:#2b758e;stroke:#2b758e;\"/>\r\n    <path clip-path=\"url(#p3e2599a388)\" d=\"M 276.731153 130.380176 \r\nC 277.303446 130.380176 277.852376 130.152802 278.257048 129.74813 \r\nC 278.66172 129.343458 278.889094 128.794528 278.889094 128.222235 \r\nC 278.889094 127.649942 278.66172 127.101012 278.257048 126.69634 \r\nC 277.852376 126.291668 277.303446 126.064294 276.731153 126.064294 \r\nC 276.15886 126.064294 275.60993 126.291668 275.205258 126.69634 \r\nC 274.800586 127.101012 274.573212 127.649942 274.573212 128.222235 \r\nC 274.573212 128.794528 274.800586 129.343458 275.205258 129.74813 \r\nC 275.60993 130.152802 276.15886 130.380176 276.731153 130.380176 \r\nz\r\n\" style=\"fill:#31678e;stroke:#31678e;\"/>\r\n    <path clip-path=\"url(#p3e2599a388)\" d=\"M 281.834153 133.43597 \r\nC 282.402769 133.43597 282.948172 133.210056 283.350245 132.807984 \r\nC 283.752317 132.405912 283.978231 131.860508 283.978231 131.291892 \r\nC 283.978231 130.723276 283.752317 130.177872 283.350245 129.7758 \r\nC 282.948172 129.373728 282.402769 129.147814 281.834153 129.147814 \r\nC 281.265537 129.147814 280.720133 129.373728 280.318061 129.7758 \r\nC 279.915989 130.177872 279.690075 130.723276 279.690075 131.291892 \r\nC 279.690075 131.860508 279.915989 132.405912 280.318061 132.807984 \r\nC 280.720133 133.210056 281.265537 133.43597 281.834153 133.43597 \r\nz\r\n\" style=\"fill:#32658e;stroke:#32658e;\"/>\r\n    <path clip-path=\"url(#p3e2599a388)\" d=\"M 279.889588 128.141107 \r\nC 280.464602 128.141107 281.016143 127.912651 281.422739 127.506055 \r\nC 281.829335 127.099459 282.05779 126.547919 282.05779 125.972905 \r\nC 282.05779 125.397891 281.829335 124.84635 281.422739 124.439754 \r\nC 281.016143 124.033158 280.464602 123.804703 279.889588 123.804703 \r\nC 279.314574 123.804703 278.763034 124.033158 278.356438 124.439754 \r\nC 277.949842 124.84635 277.721386 125.397891 277.721386 125.972905 \r\nC 277.721386 126.547919 277.949842 127.099459 278.356438 127.506055 \r\nC 278.763034 127.912651 279.314574 128.141107 279.889588 128.141107 \r\nz\r\n\" style=\"fill:#30698e;stroke:#30698e;\"/>\r\n    <path clip-path=\"url(#p3e2599a388)\" d=\"M 284.07314 127.793045 \r\nC 284.64612 127.793045 285.195709 127.565397 285.600867 127.160239 \r\nC 286.006025 126.755082 286.233672 126.205492 286.233672 125.632512 \r\nC 286.233672 125.059533 286.006025 124.509943 285.600867 124.104785 \r\nC 285.195709 123.699627 284.64612 123.47198 284.07314 123.47198 \r\nC 283.50016 123.47198 282.950571 123.699627 282.545413 124.104785 \r\nC 282.140255 124.509943 281.912608 125.059533 281.912608 125.632512 \r\nC 281.912608 126.205492 282.140255 126.755082 282.545413 127.160239 \r\nC 282.950571 127.565397 283.50016 127.793045 284.07314 127.793045 \r\nz\r\n\" style=\"fill:#31688e;stroke:#31688e;\"/>\r\n    <path clip-path=\"url(#p3e2599a388)\" d=\"M 298.235081 129.772213 \r\nC 298.836959 129.772213 299.414266 129.533085 299.839857 129.107493 \r\nC 300.265449 128.681902 300.504577 128.104595 300.504577 127.502717 \r\nC 300.504577 126.90084 300.265449 126.323533 299.839857 125.897941 \r\nC 299.414266 125.472349 298.836959 125.233221 298.235081 125.233221 \r\nC 297.633204 125.233221 297.055897 125.472349 296.630305 125.897941 \r\nC 296.204714 126.323533 295.965585 126.90084 295.965585 127.502717 \r\nC 295.965585 128.104595 296.204714 128.681902 296.630305 129.107493 \r\nC 297.055897 129.533085 297.633204 129.772213 298.235081 129.772213 \r\nz\r\n\" style=\"fill:#2a778e;stroke:#2a778e;\"/>\r\n    <path clip-path=\"url(#p3e2599a388)\" d=\"M 296.037556 126.124822 \r\nC 296.633476 126.124822 297.205069 125.88806 297.626448 125.466681 \r\nC 298.047827 125.045303 298.284588 124.47371 298.284588 123.87779 \r\nC 298.284588 123.28187 298.047827 122.710278 297.626448 122.288899 \r\nC 297.205069 121.86752 296.633476 121.630758 296.037556 121.630758 \r\nC 295.441636 121.630758 294.870044 121.86752 294.448665 122.288899 \r\nC 294.027286 122.710278 293.790524 123.28187 293.790524 123.87779 \r\nC 293.790524 124.47371 294.027286 125.045303 294.448665 125.466681 \r\nC 294.870044 125.88806 295.441636 126.124822 296.037556 126.124822 \r\nz\r\n\" style=\"fill:#2b748e;stroke:#2b748e;\"/>\r\n    <path clip-path=\"url(#p3e2599a388)\" d=\"M 297.351546 122.347985 \r\nC 297.931185 122.347985 298.487161 122.117692 298.897027 121.707826 \r\nC 299.306894 121.297959 299.537187 120.741983 299.537187 120.162344 \r\nC 299.537187 119.582706 299.306894 119.02673 298.897027 118.616863 \r\nC 298.487161 118.206997 297.931185 117.976704 297.351546 117.976704 \r\nC 296.771907 117.976704 296.215931 118.206997 295.806065 118.616863 \r\nC 295.396198 119.02673 295.165905 119.582706 295.165905 120.162344 \r\nC 295.165905 120.741983 295.396198 121.297959 295.806065 121.707826 \r\nC 296.215931 122.117692 296.771907 122.347985 297.351546 122.347985 \r\nz\r\n\" style=\"fill:#2f6b8e;stroke:#2f6b8e;\"/>\r\n    <path clip-path=\"url(#p3e2599a388)\" d=\"M 299.678791 124.151121 \r\nC 300.26699 124.151121 300.831176 123.917427 301.247095 123.501508 \r\nC 301.663014 123.085589 301.896707 122.521403 301.896707 121.933205 \r\nC 301.896707 121.345007 301.663014 120.780821 301.247095 120.364902 \r\nC 300.831176 119.948983 300.26699 119.715289 299.678791 119.715289 \r\nC 299.090593 119.715289 298.526407 119.948983 298.110488 120.364902 \r\nC 297.694569 120.780821 297.460876 121.345007 297.460876 121.933205 \r\nC 297.460876 122.521403 297.694569 123.085589 298.110488 123.501508 \r\nC 298.526407 123.917427 299.090593 124.151121 299.678791 124.151121 \r\nz\r\n\" style=\"fill:#2d708e;stroke:#2d708e;\"/>\r\n    <path clip-path=\"url(#p3e2599a388)\" d=\"M 302.280272 127.778125 \r\nC 302.870707 127.778125 303.437038 127.543543 303.854539 127.126042 \r\nC 304.272039 126.708541 304.506622 126.14221 304.506622 125.551775 \r\nC 304.506622 124.96134 304.272039 124.395008 303.854539 123.977508 \r\nC 303.437038 123.560007 302.870707 123.325425 302.280272 123.325425 \r\nC 301.689837 123.325425 301.123505 123.560007 300.706004 123.977508 \r\nC 300.288504 124.395008 300.053922 124.96134 300.053922 125.551775 \r\nC 300.053922 126.14221 300.288504 126.708541 300.706004 127.126042 \r\nC 301.123505 127.543543 301.689837 127.778125 302.280272 127.778125 \r\nz\r\n\" style=\"fill:#2c718e;stroke:#2c718e;\"/>\r\n    <path clip-path=\"url(#p3e2599a388)\" d=\"M 289.334651 133.655931 \r\nC 289.933214 133.655931 290.507342 133.418119 290.93059 132.994871 \r\nC 291.353838 132.571623 291.59165 131.997495 291.59165 131.398932 \r\nC 291.59165 130.800369 291.353838 130.226241 290.93059 129.802993 \r\nC 290.507342 129.379745 289.933214 129.141933 289.334651 129.141933 \r\nC 288.736087 129.141933 288.161959 129.379745 287.738711 129.802993 \r\nC 287.315463 130.226241 287.077651 130.800369 287.077651 131.398932 \r\nC 287.077651 131.997495 287.315463 132.571623 287.738711 132.994871 \r\nC 288.161959 133.418119 288.736087 133.655931 289.334651 133.655931 \r\nz\r\n\" style=\"fill:#2b758e;stroke:#2b758e;\"/>\r\n    <path clip-path=\"url(#p3e2599a388)\" d=\"M 272.125626 140.351432 \r\nC 272.728634 140.351432 273.307027 140.111854 273.733418 139.685463 \r\nC 274.15981 139.259071 274.399387 138.680679 274.399387 138.077671 \r\nC 274.399387 137.474662 274.15981 136.89627 273.733418 136.469878 \r\nC 273.307027 136.043487 272.728634 135.803909 272.125626 135.803909 \r\nC 271.522617 135.803909 270.944225 136.043487 270.517834 136.469878 \r\nC 270.091442 136.89627 269.851864 137.474662 269.851864 138.077671 \r\nC 269.851864 138.680679 270.091442 139.259071 270.517834 139.685463 \r\nC 270.944225 140.111854 271.522617 140.351432 272.125626 140.351432 \r\nz\r\n\" style=\"fill:#2a788e;stroke:#2a788e;\"/>\r\n    <path clip-path=\"url(#p3e2599a388)\" d=\"M 262.7764 141.351352 \r\nC 263.382952 141.351352 263.964743 141.110366 264.39364 140.681469 \r\nC 264.822537 140.252572 265.063523 139.670781 265.063523 139.064229 \r\nC 265.063523 138.457676 264.822537 137.875885 264.39364 137.446988 \r\nC 263.964743 137.018091 263.382952 136.777105 262.7764 136.777105 \r\nC 262.169848 136.777105 261.588057 137.018091 261.159159 137.446988 \r\nC 260.730262 137.875885 260.489276 138.457676 260.489276 139.064229 \r\nC 260.489276 139.670781 260.730262 140.252572 261.159159 140.681469 \r\nC 261.588057 141.110366 262.169848 141.351352 262.7764 141.351352 \r\nz\r\n\" style=\"fill:#297a8e;stroke:#297a8e;\"/>\r\n    <path clip-path=\"url(#p3e2599a388)\" d=\"M 264.316264 144.557673 \r\nC 264.891233 144.557673 265.442729 144.329236 265.849294 143.922672 \r\nC 266.255858 143.516107 266.484295 142.964611 266.484295 142.389642 \r\nC 266.484295 141.814674 266.255858 141.263177 265.849294 140.856613 \r\nC 265.442729 140.450049 264.891233 140.221611 264.316264 140.221611 \r\nC 263.741296 140.221611 263.189799 140.450049 262.783235 140.856613 \r\nC 262.376671 141.263177 262.148233 141.814674 262.148233 142.389642 \r\nC 262.148233 142.964611 262.376671 143.516107 262.783235 143.922672 \r\nC 263.189799 144.329236 263.741296 144.557673 264.316264 144.557673 \r\nz\r\n\" style=\"fill:#30698e;stroke:#30698e;\"/>\r\n    <path clip-path=\"url(#p3e2599a388)\" d=\"M 269.394576 137.596202 \r\nC 269.958333 137.596202 270.499075 137.372219 270.897711 136.973583 \r\nC 271.296347 136.574947 271.52033 136.034205 271.52033 135.470448 \r\nC 271.52033 134.906692 271.296347 134.365949 270.897711 133.967313 \r\nC 270.499075 133.568677 269.958333 133.344694 269.394576 133.344694 \r\nC 268.83082 133.344694 268.290077 133.568677 267.891441 133.967313 \r\nC 267.492805 134.365949 267.268822 134.906692 267.268822 135.470448 \r\nC 267.268822 136.034205 267.492805 136.574947 267.891441 136.973583 \r\nC 268.290077 137.372219 268.83082 137.596202 269.394576 137.596202 \r\nz\r\n\" style=\"fill:#33628d;stroke:#33628d;\"/>\r\n    <path clip-path=\"url(#p3e2599a388)\" d=\"M 264.528817 137.343262 \r\nC 265.083291 137.343262 265.61513 137.122968 266.007202 136.730895 \r\nC 266.399275 136.338823 266.61957 135.806984 266.61957 135.252509 \r\nC 266.61957 134.698035 266.399275 134.166196 266.007202 133.774124 \r\nC 265.61513 133.382051 265.083291 133.161756 264.528817 133.161756 \r\nC 263.974342 133.161756 263.442503 133.382051 263.050431 133.774124 \r\nC 262.658358 134.166196 262.438063 134.698035 262.438063 135.252509 \r\nC 262.438063 135.806984 262.658358 136.338823 263.050431 136.730895 \r\nC 263.442503 137.122968 263.974342 137.343262 264.528817 137.343262 \r\nz\r\n\" style=\"fill:#365d8d;stroke:#365d8d;\"/>\r\n    <path clip-path=\"url(#p3e2599a388)\" d=\"M 277.156902 144.553075 \r\nC 277.705831 144.553075 278.232352 144.334983 278.620503 143.946831 \r\nC 279.008655 143.55868 279.226747 143.032159 279.226747 142.48323 \r\nC 279.226747 141.934301 279.008655 141.40778 278.620503 141.019629 \r\nC 278.232352 140.631477 277.705831 140.413385 277.156902 140.413385 \r\nC 276.607973 140.413385 276.081452 140.631477 275.693301 141.019629 \r\nC 275.305149 141.40778 275.087057 141.934301 275.087057 142.48323 \r\nC 275.087057 143.032159 275.305149 143.55868 275.693301 143.946831 \r\nC 276.081452 144.334983 276.607973 144.553075 277.156902 144.553075 \r\nz\r\n\" style=\"fill:#375a8c;stroke:#375a8c;\"/>\r\n    <path clip-path=\"url(#p3e2599a388)\" d=\"M 275.84412 139.243816 \r\nC 276.385821 139.243816 276.905407 139.028596 277.288447 138.645556 \r\nC 277.671487 138.262516 277.886707 137.74293 277.886707 137.201229 \r\nC 277.886707 136.659529 277.671487 136.139942 277.288447 135.756903 \r\nC 276.905407 135.373863 276.385821 135.158643 275.84412 135.158643 \r\nC 275.30242 135.158643 274.782834 135.373863 274.399794 135.756903 \r\nC 274.016754 136.139942 273.801534 136.659529 273.801534 137.201229 \r\nC 273.801534 137.74293 274.016754 138.262516 274.399794 138.645556 \r\nC 274.782834 139.028596 275.30242 139.243816 275.84412 139.243816 \r\nz\r\n\" style=\"fill:#39558c;stroke:#39558c;\"/>\r\n    <path clip-path=\"url(#p3e2599a388)\" d=\"M 276.030398 138.666869 \r\nC 276.578757 138.666869 277.104731 138.449004 277.492479 138.061255 \r\nC 277.880228 137.673507 278.098093 137.147533 278.098093 136.599174 \r\nC 278.098093 136.050814 277.880228 135.524841 277.492479 135.137092 \r\nC 277.104731 134.749344 276.578757 134.531478 276.030398 134.531478 \r\nC 275.482039 134.531478 274.956065 134.749344 274.568316 135.137092 \r\nC 274.180568 135.524841 273.962702 136.050814 273.962702 136.599174 \r\nC 273.962702 137.147533 274.180568 137.673507 274.568316 138.061255 \r\nC 274.956065 138.449004 275.482039 138.666869 276.030398 138.666869 \r\nz\r\n\" style=\"fill:#375a8c;stroke:#375a8c;\"/>\r\n    <path clip-path=\"url(#p3e2599a388)\" d=\"M 274.251942 136.078207 \r\nC 274.809851 136.078207 275.344986 135.856547 275.739487 135.462045 \r\nC 276.133989 135.067544 276.355649 134.532409 276.355649 133.9745 \r\nC 276.355649 133.41659 276.133989 132.881456 275.739487 132.486954 \r\nC 275.344986 132.092452 274.809851 131.870792 274.251942 131.870792 \r\nC 273.694032 131.870792 273.158897 132.092452 272.764396 132.486954 \r\nC 272.369894 132.881456 272.148234 133.41659 272.148234 133.9745 \r\nC 272.148234 134.532409 272.369894 135.067544 272.764396 135.462045 \r\nC 273.158897 135.856547 273.694032 136.078207 274.251942 136.078207 \r\nz\r\n\" style=\"fill:#355f8d;stroke:#355f8d;\"/>\r\n    <path clip-path=\"url(#p3e2599a388)\" d=\"M 275.480834 133.470606 \r\nC 276.020617 133.470606 276.538364 133.256148 276.920049 132.874464 \r\nC 277.301733 132.49278 277.516191 131.975033 277.516191 131.43525 \r\nC 277.516191 130.895467 277.301733 130.37772 276.920049 129.996036 \r\nC 276.538364 129.614352 276.020617 129.399894 275.480834 129.399894 \r\nC 274.941052 129.399894 274.423304 129.614352 274.04162 129.996036 \r\nC 273.659936 130.37772 273.445478 130.895467 273.445478 131.43525 \r\nC 273.445478 131.975033 273.659936 132.49278 274.04162 132.874464 \r\nC 274.423304 133.256148 274.941052 133.470606 275.480834 133.470606 \r\nz\r\n\" style=\"fill:#3a548c;stroke:#3a548c;\"/>\r\n    <path clip-path=\"url(#p3e2599a388)\" d=\"M 281.940163 132.408262 \r\nC 282.491019 132.408262 283.019386 132.189405 283.4089 131.799892 \r\nC 283.798414 131.410378 284.017271 130.88201 284.017271 130.331155 \r\nC 284.017271 129.780299 283.798414 129.251931 283.4089 128.862418 \r\nC 283.019386 128.472904 282.491019 128.254047 281.940163 128.254047 \r\nC 281.389308 128.254047 280.86094 128.472904 280.471426 128.862418 \r\nC 280.081913 129.251931 279.863056 129.780299 279.863056 130.331155 \r\nC 279.863056 130.88201 280.081913 131.410378 280.471426 131.799892 \r\nC 280.86094 132.189405 281.389308 132.408262 281.940163 132.408262 \r\nz\r\n\" style=\"fill:#375b8d;stroke:#375b8d;\"/>\r\n    <path clip-path=\"url(#p3e2599a388)\" d=\"M 288.043545 130.494789 \r\nC 288.603671 130.494789 289.140932 130.272248 289.537001 129.876179 \r\nC 289.93307 129.48011 290.15561 128.94285 290.15561 128.382724 \r\nC 290.15561 127.822598 289.93307 127.285337 289.537001 126.889268 \r\nC 289.140932 126.493199 288.603671 126.270659 288.043545 126.270659 \r\nC 287.483419 126.270659 286.946159 126.493199 286.55009 126.889268 \r\nC 286.154021 127.285337 285.93148 127.822598 285.93148 128.382724 \r\nC 285.93148 128.94285 286.154021 129.48011 286.55009 129.876179 \r\nC 286.946159 130.272248 287.483419 130.494789 288.043545 130.494789 \r\nz\r\n\" style=\"fill:#34608d;stroke:#34608d;\"/>\r\n    <path clip-path=\"url(#p3e2599a388)\" d=\"M 279.805898 129.633259 \r\nC 280.373287 129.633259 280.917514 129.407833 281.31872 129.006628 \r\nC 281.719925 128.605423 281.945351 128.061195 281.945351 127.493806 \r\nC 281.945351 126.926416 281.719925 126.382189 281.31872 125.980984 \r\nC 280.917514 125.579779 280.373287 125.354352 279.805898 125.354352 \r\nC 279.238508 125.354352 278.694281 125.579779 278.293076 125.980984 \r\nC 277.891871 126.382189 277.666444 126.926416 277.666444 127.493806 \r\nC 277.666444 128.061195 277.891871 128.605423 278.293076 129.006628 \r\nC 278.694281 129.407833 279.238508 129.633259 279.805898 129.633259 \r\nz\r\n\" style=\"fill:#32648e;stroke:#32648e;\"/>\r\n    <path clip-path=\"url(#p3e2599a388)\" d=\"M 293.776384 133.667878 \r\nC 294.321361 133.667878 294.84409 133.451357 295.229447 133.066 \r\nC 295.614804 132.680643 295.831326 132.157913 295.831326 131.612936 \r\nC 295.831326 131.067959 295.614804 130.54523 295.229447 130.159873 \r\nC 294.84409 129.774516 294.321361 129.557994 293.776384 129.557994 \r\nC 293.231407 129.557994 292.708677 129.774516 292.32332 130.159873 \r\nC 291.937963 130.54523 291.721442 131.067959 291.721442 131.612936 \r\nC 291.721442 132.157913 291.937963 132.680643 292.32332 133.066 \r\nC 292.708677 133.451357 293.231407 133.667878 293.776384 133.667878 \r\nz\r\n\" style=\"fill:#38588c;stroke:#38588c;\"/>\r\n    <path clip-path=\"url(#p3e2599a388)\" d=\"M 283.736077 132.329143 \r\nC 284.288116 132.329143 284.817619 132.109816 285.207969 131.719466 \r\nC 285.598319 131.329115 285.817647 130.799612 285.817647 130.247574 \r\nC 285.817647 129.695535 285.598319 129.166032 285.207969 128.775682 \r\nC 284.817619 128.385331 284.288116 128.166004 283.736077 128.166004 \r\nC 283.184038 128.166004 282.654535 128.385331 282.264185 128.775682 \r\nC 281.873834 129.166032 281.654507 129.695535 281.654507 130.247574 \r\nC 281.654507 130.799612 281.873834 131.329115 282.264185 131.719466 \r\nC 282.654535 132.109816 283.184038 132.329143 283.736077 132.329143 \r\nz\r\n\" style=\"fill:#365c8d;stroke:#365c8d;\"/>\r\n    <path clip-path=\"url(#p3e2599a388)\" d=\"M 284.46251 128.522046 \r\nC 285.015863 128.522046 285.546626 128.302196 285.937905 127.910917 \r\nC 286.329184 127.519638 286.549034 126.988875 286.549034 126.435522 \r\nC 286.549034 125.882169 286.329184 125.351406 285.937905 124.960127 \r\nC 285.546626 124.568848 285.015863 124.348998 284.46251 124.348998 \r\nC 283.909157 124.348998 283.378394 124.568848 282.987115 124.960127 \r\nC 282.595836 125.351406 282.375986 125.882169 282.375986 126.435522 \r\nC 282.375986 126.988875 282.595836 127.519638 282.987115 127.910917 \r\nC 283.378394 128.302196 283.909157 128.522046 284.46251 128.522046 \r\nz\r\n\" style=\"fill:#365d8d;stroke:#365d8d;\"/>\r\n    <path clip-path=\"url(#p3e2599a388)\" d=\"M 281.946565 129.360888 \r\nC 282.514979 129.360888 283.060189 129.135055 283.462118 128.733126 \r\nC 283.864048 128.331196 284.089881 127.785986 284.089881 127.217573 \r\nC 284.089881 126.649159 283.864048 126.103949 283.462118 125.70202 \r\nC 283.060189 125.30009 282.514979 125.074257 281.946565 125.074257 \r\nC 281.378152 125.074257 280.832942 125.30009 280.431013 125.70202 \r\nC 280.029083 126.103949 279.80325 126.649159 279.80325 127.217573 \r\nC 279.80325 127.785986 280.029083 128.331196 280.431013 128.733126 \r\nC 280.832942 129.135055 281.378152 129.360888 281.946565 129.360888 \r\nz\r\n\" style=\"fill:#32658e;stroke:#32658e;\"/>\r\n    <path clip-path=\"url(#p3e2599a388)\" d=\"M 272.328352 127.410017 \r\nC 272.923725 127.410017 273.494793 127.173473 273.915785 126.75248 \r\nC 274.336778 126.331488 274.573322 125.76042 274.573322 125.165047 \r\nC 274.573322 124.569674 274.336778 123.998605 273.915785 123.577613 \r\nC 273.494793 123.156621 272.923725 122.920077 272.328352 122.920077 \r\nC 271.732979 122.920077 271.161911 123.156621 270.740918 123.577613 \r\nC 270.319926 123.998605 270.083382 124.569674 270.083382 125.165047 \r\nC 270.083382 125.76042 270.319926 126.331488 270.740918 126.75248 \r\nC 271.161911 127.173473 271.732979 127.410017 272.328352 127.410017 \r\nz\r\n\" style=\"fill:#2b748e;stroke:#2b748e;\"/>\r\n    <path clip-path=\"url(#p3e2599a388)\" d=\"M 271.639571 125.934613 \r\nC 272.257949 125.934613 272.851084 125.688928 273.288344 125.251669 \r\nC 273.725604 124.814409 273.971288 124.221274 273.971288 123.602895 \r\nC 273.971288 122.984516 273.725604 122.391382 273.288344 121.954122 \r\nC 272.851084 121.516862 272.257949 121.271177 271.639571 121.271177 \r\nC 271.021192 121.271177 270.428057 121.516862 269.990797 121.954122 \r\nC 269.553537 122.391382 269.307853 122.984516 269.307853 123.602895 \r\nC 269.307853 124.221274 269.553537 124.814409 269.990797 125.251669 \r\nC 270.428057 125.688928 271.021192 125.934613 271.639571 125.934613 \r\nz\r\n\" style=\"fill:#26818e;stroke:#26818e;\"/>\r\n    <path clip-path=\"url(#p3e2599a388)\" d=\"M 264.847043 119.18088 \r\nC 265.467021 119.18088 266.06169 118.93456 266.500081 118.496169 \r\nC 266.938471 118.057778 267.184791 117.463109 267.184791 116.843131 \r\nC 267.184791 116.223153 266.938471 115.628484 266.500081 115.190093 \r\nC 266.06169 114.751702 265.467021 114.505382 264.847043 114.505382 \r\nC 264.227065 114.505382 263.632396 114.751702 263.194005 115.190093 \r\nC 262.755614 115.628484 262.509294 116.223153 262.509294 116.843131 \r\nC 262.509294 117.463109 262.755614 118.057778 263.194005 118.496169 \r\nC 263.632396 118.93456 264.227065 119.18088 264.847043 119.18088 \r\nz\r\n\" style=\"fill:#26828e;stroke:#26828e;\"/>\r\n    <path clip-path=\"url(#p3e2599a388)\" d=\"M 265.51553 120.121782 \r\nC 266.135481 120.121782 266.730125 119.875472 267.168497 119.4371 \r\nC 267.606869 118.998728 267.853178 118.404085 267.853178 117.784133 \r\nC 267.853178 117.164182 267.606869 116.569538 267.168497 116.131166 \r\nC 266.730125 115.692794 266.135481 115.446485 265.51553 115.446485 \r\nC 264.895578 115.446485 264.300935 115.692794 263.862563 116.131166 \r\nC 263.424191 116.569538 263.177882 117.164182 263.177882 117.784133 \r\nC 263.177882 118.404085 263.424191 118.998728 263.862563 119.4371 \r\nC 264.300935 119.875472 264.895578 120.121782 265.51553 120.121782 \r\nz\r\n\" style=\"fill:#26828e;stroke:#26828e;\"/>\r\n    <path clip-path=\"url(#p3e2599a388)\" d=\"M 269.211428 121.242479 \r\nC 269.840278 121.242479 270.443456 120.992634 270.88812 120.547971 \r\nC 271.332783 120.103307 271.582628 119.500129 271.582628 118.871279 \r\nC 271.582628 118.24243 271.332783 117.639252 270.88812 117.194588 \r\nC 270.443456 116.749924 269.840278 116.50008 269.211428 116.50008 \r\nC 268.582579 116.50008 267.979401 116.749924 267.534737 117.194588 \r\nC 267.090074 117.639252 266.840229 118.24243 266.840229 118.871279 \r\nC 266.840229 119.500129 267.090074 120.103307 267.534737 120.547971 \r\nC 267.979401 120.992634 268.582579 121.242479 269.211428 121.242479 \r\nz\r\n\" style=\"fill:#24878e;stroke:#24878e;\"/>\r\n    <path clip-path=\"url(#p3e2599a388)\" d=\"M 282.707561 121.618294 \r\nC 283.320624 121.618294 283.90866 121.374722 284.34216 120.941221 \r\nC 284.775661 120.50772 285.019233 119.919685 285.019233 119.306622 \r\nC 285.019233 118.69356 284.775661 118.105524 284.34216 117.672023 \r\nC 283.90866 117.238523 283.320624 116.99495 282.707561 116.99495 \r\nC 282.094499 116.99495 281.506463 117.238523 281.072963 117.672023 \r\nC 280.639462 118.105524 280.395889 118.69356 280.395889 119.306622 \r\nC 280.395889 119.919685 280.639462 120.50772 281.072963 120.941221 \r\nC 281.506463 121.374722 282.094499 121.618294 282.707561 121.618294 \r\nz\r\n\" style=\"fill:#277e8e;stroke:#277e8e;\"/>\r\n    <path clip-path=\"url(#p3e2599a388)\" d=\"M 285.52597 121.91968 \r\nC 286.117864 121.91968 286.685594 121.684518 287.104126 121.265986 \r\nC 287.522658 120.847454 287.75782 120.279723 287.75782 119.687829 \r\nC 287.75782 119.095936 287.522658 118.528205 287.104126 118.109673 \r\nC 286.685594 117.691141 286.117864 117.455979 285.52597 117.455979 \r\nC 284.934076 117.455979 284.366345 117.691141 283.947813 118.109673 \r\nC 283.529281 118.528205 283.294119 119.095936 283.294119 119.687829 \r\nC 283.294119 120.279723 283.529281 120.847454 283.947813 121.265986 \r\nC 284.366345 121.684518 284.934076 121.91968 285.52597 121.91968 \r\nz\r\n\" style=\"fill:#2c728e;stroke:#2c728e;\"/>\r\n    <path clip-path=\"url(#p3e2599a388)\" d=\"M 279.92164 130.354126 \r\nC 280.506472 130.354126 281.067431 130.121769 281.48097 129.70823 \r\nC 281.894509 129.294691 282.126866 128.733732 282.126866 128.148899 \r\nC 282.126866 127.564067 281.894509 127.003108 281.48097 126.589569 \r\nC 281.067431 126.17603 280.506472 125.943673 279.92164 125.943673 \r\nC 279.336807 125.943673 278.775848 126.17603 278.362309 126.589569 \r\nC 277.94877 127.003108 277.716413 127.564067 277.716413 128.148899 \r\nC 277.716413 128.733732 277.94877 129.294691 278.362309 129.70823 \r\nC 278.775848 130.121769 279.336807 130.354126 279.92164 130.354126 \r\nz\r\n\" style=\"fill:#2e6e8e;stroke:#2e6e8e;\"/>\r\n    <path clip-path=\"url(#p3e2599a388)\" d=\"M 276.330874 132.814728 \r\nC 276.933776 132.814728 277.512066 132.575193 277.938382 132.148877 \r\nC 278.364699 131.72256 278.604234 131.14427 278.604234 130.541368 \r\nC 278.604234 129.938466 278.364699 129.360176 277.938382 128.93386 \r\nC 277.512066 128.507544 276.933776 128.268008 276.330874 128.268008 \r\nC 275.727972 128.268008 275.149682 128.507544 274.723366 128.93386 \r\nC 274.29705 129.360176 274.057514 129.938466 274.057514 130.541368 \r\nC 274.057514 131.14427 274.29705 131.72256 274.723366 132.148877 \r\nC 275.149682 132.575193 275.727972 132.814728 276.330874 132.814728 \r\nz\r\n\" style=\"fill:#2a788e;stroke:#2a788e;\"/>\r\n    <path clip-path=\"url(#p3e2599a388)\" d=\"M 277.614335 131.679961 \r\nC 278.212389 131.679961 278.786029 131.442351 279.208917 131.019463 \r\nC 279.631805 130.596575 279.869414 130.022935 279.869414 129.424881 \r\nC 279.869414 128.826827 279.631805 128.253187 279.208917 127.830299 \r\nC 278.786029 127.407411 278.212389 127.169802 277.614335 127.169802 \r\nC 277.016281 127.169802 276.442641 127.407411 276.019753 127.830299 \r\nC 275.596864 128.253187 275.359255 128.826827 275.359255 129.424881 \r\nC 275.359255 130.022935 275.596864 130.596575 276.019753 131.019463 \r\nC 276.442641 131.442351 277.016281 131.679961 277.614335 131.679961 \r\nz\r\n\" style=\"fill:#2b758e;stroke:#2b758e;\"/>\r\n    <path clip-path=\"url(#p3e2599a388)\" d=\"M 278.471278 131.792505 \r\nC 279.091027 131.792505 279.685476 131.546276 280.123705 131.108047 \r\nC 280.561933 130.669819 280.808162 130.075369 280.808162 129.45562 \r\nC 280.808162 128.835871 280.561933 128.241422 280.123705 127.803194 \r\nC 279.685476 127.364965 279.091027 127.118736 278.471278 127.118736 \r\nC 277.851529 127.118736 277.25708 127.364965 276.818851 127.803194 \r\nC 276.380622 128.241422 276.134393 128.835871 276.134393 129.45562 \r\nC 276.134393 130.075369 276.380622 130.669819 276.818851 131.108047 \r\nC 277.25708 131.546276 277.851529 131.792505 278.471278 131.792505 \r\nz\r\n\" style=\"fill:#26828e;stroke:#26828e;\"/>\r\n    <path clip-path=\"url(#p3e2599a388)\" d=\"M 291.854264 134.614259 \r\nC 292.433112 134.614259 292.98833 134.384281 293.397637 133.974973 \r\nC 293.806945 133.565666 294.036923 133.010448 294.036923 132.4316 \r\nC 294.036923 131.852752 293.806945 131.297535 293.397637 130.888227 \r\nC 292.98833 130.47892 292.433112 130.248941 291.854264 130.248941 \r\nC 291.275416 130.248941 290.720198 130.47892 290.310891 130.888227 \r\nC 289.901584 131.297535 289.671605 131.852752 289.671605 132.4316 \r\nC 289.671605 133.010448 289.901584 133.565666 290.310891 133.974973 \r\nC 290.720198 134.384281 291.275416 134.614259 291.854264 134.614259 \r\nz\r\n\" style=\"fill:#2f6b8e;stroke:#2f6b8e;\"/>\r\n    <path clip-path=\"url(#p3e2599a388)\" d=\"M 304.648267 136.996391 \r\nC 305.202484 136.996391 305.734077 136.776199 306.125968 136.384308 \r\nC 306.517859 135.992417 306.738052 135.460824 306.738052 134.906607 \r\nC 306.738052 134.35239 306.517859 133.820797 306.125968 133.428906 \r\nC 305.734077 133.037015 305.202484 132.816823 304.648267 132.816823 \r\nC 304.09405 132.816823 303.562457 133.037015 303.170566 133.428906 \r\nC 302.778675 133.820797 302.558483 134.35239 302.558483 134.906607 \r\nC 302.558483 135.460824 302.778675 135.992417 303.170566 136.384308 \r\nC 303.562457 136.776199 304.09405 136.996391 304.648267 136.996391 \r\nz\r\n\" style=\"fill:#365d8d;stroke:#365d8d;\"/>\r\n    <path clip-path=\"url(#p3e2599a388)\" d=\"M 301.35718 138.312946 \r\nC 301.909432 138.312946 302.43914 138.093534 302.82964 137.703033 \r\nC 303.220141 137.312532 303.439553 136.782824 303.439553 136.230573 \r\nC 303.439553 135.678321 303.220141 135.148614 302.82964 134.758113 \r\nC 302.43914 134.367612 301.909432 134.1482 301.35718 134.1482 \r\nC 300.804929 134.1482 300.275221 134.367612 299.88472 134.758113 \r\nC 299.49422 135.148614 299.274808 135.678321 299.274808 136.230573 \r\nC 299.274808 136.782824 299.49422 137.312532 299.88472 137.703033 \r\nC 300.275221 138.093534 300.804929 138.312946 301.35718 138.312946 \r\nz\r\n\" style=\"fill:#365c8d;stroke:#365c8d;\"/>\r\n    <path clip-path=\"url(#p3e2599a388)\" d=\"M 296.326676 141.349888 \r\nC 296.892891 141.349888 297.435991 141.124929 297.836366 140.724554 \r\nC 298.23674 140.32418 298.4617 139.78108 298.4617 139.214865 \r\nC 298.4617 138.64865 298.23674 138.105549 297.836366 137.705175 \r\nC 297.435991 137.304801 296.892891 137.079841 296.326676 137.079841 \r\nC 295.760461 137.079841 295.217361 137.304801 294.816987 137.705175 \r\nC 294.416612 138.105549 294.191653 138.64865 294.191653 139.214865 \r\nC 294.191653 139.78108 294.416612 140.32418 294.816987 140.724554 \r\nC 295.217361 141.124929 295.760461 141.349888 296.326676 141.349888 \r\nz\r\n\" style=\"fill:#32648e;stroke:#32648e;\"/>\r\n    <path clip-path=\"url(#p3e2599a388)\" d=\"M 272.881021 143.255921 \r\nC 273.446154 143.255921 273.988216 143.031392 274.387825 142.631783 \r\nC 274.787435 142.232173 275.011964 141.690111 275.011964 141.124978 \r\nC 275.011964 140.559845 274.787435 140.017783 274.387825 139.618173 \r\nC 273.988216 139.218564 273.446154 138.994035 272.881021 138.994035 \r\nC 272.315888 138.994035 271.773825 139.218564 271.374216 139.618173 \r\nC 270.974607 140.017783 270.750077 140.559845 270.750077 141.124978 \r\nC 270.750077 141.690111 270.974607 142.232173 271.374216 142.631783 \r\nC 271.773825 143.031392 272.315888 143.255921 272.881021 143.255921 \r\nz\r\n\" style=\"fill:#33638d;stroke:#33638d;\"/>\r\n    <path clip-path=\"url(#p3e2599a388)\" d=\"M 267.847965 145.25848 \r\nC 268.411608 145.25848 268.952241 145.034542 269.350797 144.635986 \r\nC 269.749352 144.237431 269.97329 143.696797 269.97329 143.133155 \r\nC 269.97329 142.569512 269.749352 142.028878 269.350797 141.630323 \r\nC 268.952241 141.231767 268.411608 141.00783 267.847965 141.00783 \r\nC 267.284322 141.00783 266.743689 141.231767 266.345133 141.630323 \r\nC 265.946577 142.028878 265.72264 142.569512 265.72264 143.133155 \r\nC 265.72264 143.696797 265.946577 144.237431 266.345133 144.635986 \r\nC 266.743689 145.034542 267.284322 145.25848 267.847965 145.25848 \r\nz\r\n\" style=\"fill:#33628d;stroke:#33628d;\"/>\r\n    <path clip-path=\"url(#p3e2599a388)\" d=\"M 258.880145 141.917797 \r\nC 259.441886 141.917797 259.980695 141.694615 260.377906 141.297404 \r\nC 260.775116 140.900193 260.998298 140.361385 260.998298 139.799644 \r\nC 260.998298 139.237903 260.775116 138.699094 260.377906 138.301884 \r\nC 259.980695 137.904673 259.441886 137.681491 258.880145 137.681491 \r\nC 258.318405 137.681491 257.779596 137.904673 257.382385 138.301884 \r\nC 256.985175 138.699094 256.761993 139.237903 256.761993 139.799644 \r\nC 256.761993 140.361385 256.985175 140.900193 257.382385 141.297404 \r\nC 257.779596 141.694615 258.318405 141.917797 258.880145 141.917797 \r\nz\r\n\" style=\"fill:#34618d;stroke:#34618d;\"/>\r\n    <path clip-path=\"url(#p3e2599a388)\" d=\"M 255.626757 138.026997 \r\nC 256.160194 138.026997 256.671855 137.81506 257.049052 137.437863 \r\nC 257.426249 137.060666 257.638186 136.549005 257.638186 136.015568 \r\nC 257.638186 135.482131 257.426249 134.97047 257.049052 134.593273 \r\nC 256.671855 134.216076 256.160194 134.004139 255.626757 134.004139 \r\nC 255.09332 134.004139 254.581659 134.216076 254.204462 134.593273 \r\nC 253.827265 134.97047 253.615328 135.482131 253.615328 136.015568 \r\nC 253.615328 136.549005 253.827265 137.060666 254.204462 137.437863 \r\nC 254.581659 137.81506 255.09332 138.026997 255.626757 138.026997 \r\nz\r\n\" style=\"fill:#3b518b;stroke:#3b518b;\"/>\r\n    <path clip-path=\"url(#p3e2599a388)\" d=\"M 259.217196 134.621937 \r\nC 259.76939 134.621937 260.299041 134.402548 260.689501 134.012089 \r\nC 261.079961 133.621629 261.29935 133.091977 261.29935 132.539784 \r\nC 261.29935 131.98759 261.079961 131.457938 260.689501 131.067479 \r\nC 260.299041 130.677019 259.76939 130.45763 259.217196 130.45763 \r\nC 258.665003 130.45763 258.135351 130.677019 257.744891 131.067479 \r\nC 257.354431 131.457938 257.135042 131.98759 257.135042 132.539784 \r\nC 257.135042 133.091977 257.354431 133.621629 257.744891 134.012089 \r\nC 258.135351 134.402548 258.665003 134.621937 259.217196 134.621937 \r\nz\r\n\" style=\"fill:#365c8d;stroke:#365c8d;\"/>\r\n    <path clip-path=\"url(#p3e2599a388)\" d=\"M 260.841874 132.991904 \r\nC 261.383088 132.991904 261.902208 132.776878 262.284904 132.394182 \r\nC 262.667601 132.011485 262.882627 131.492365 262.882627 130.951151 \r\nC 262.882627 130.409937 262.667601 129.890817 262.284904 129.508121 \r\nC 261.902208 129.125425 261.383088 128.910398 260.841874 128.910398 \r\nC 260.30066 128.910398 259.78154 129.125425 259.398844 129.508121 \r\nC 259.016148 129.890817 258.801121 130.409937 258.801121 130.951151 \r\nC 258.801121 131.492365 259.016148 132.011485 259.398844 132.394182 \r\nC 259.78154 132.776878 260.30066 132.991904 260.841874 132.991904 \r\nz\r\n\" style=\"fill:#39558c;stroke:#39558c;\"/>\r\n    <path clip-path=\"url(#p3e2599a388)\" d=\"M 260.567097 135.694704 \r\nC 261.12573 135.694704 261.661557 135.472757 262.05657 135.077744 \r\nC 262.451582 134.682731 262.673529 134.146904 262.673529 133.588272 \r\nC 262.673529 133.029639 262.451582 132.493812 262.05657 132.098799 \r\nC 261.661557 131.703787 261.12573 131.48184 260.567097 131.48184 \r\nC 260.008465 131.48184 259.472638 131.703787 259.077625 132.098799 \r\nC 258.682612 132.493812 258.460665 133.029639 258.460665 133.588272 \r\nC 258.460665 134.146904 258.682612 134.682731 259.077625 135.077744 \r\nC 259.472638 135.472757 260.008465 135.694704 260.567097 135.694704 \r\nz\r\n\" style=\"fill:#34608d;stroke:#34608d;\"/>\r\n    <path clip-path=\"url(#p3e2599a388)\" d=\"M 262.397067 132.117017 \r\nC 262.954589 132.117017 263.48935 131.895512 263.883578 131.501285 \r\nC 264.277805 131.107058 264.49931 130.572296 264.49931 130.014774 \r\nC 264.49931 129.457253 264.277805 128.922491 263.883578 128.528264 \r\nC 263.48935 128.134037 262.954589 127.912532 262.397067 127.912532 \r\nC 261.839546 127.912532 261.304784 128.134037 260.910557 128.528264 \r\nC 260.51633 128.922491 260.294824 129.457253 260.294824 130.014774 \r\nC 260.294824 130.572296 260.51633 131.107058 260.910557 131.501285 \r\nC 261.304784 131.895512 261.839546 132.117017 262.397067 132.117017 \r\nz\r\n\" style=\"fill:#355f8d;stroke:#355f8d;\"/>\r\n    <path clip-path=\"url(#p3e2599a388)\" d=\"M 261.240692 133.34957 \r\nC 261.814811 133.34957 262.365492 133.12147 262.771454 132.715507 \r\nC 263.177417 132.309545 263.405517 131.758863 263.405517 131.184745 \r\nC 263.405517 130.610627 263.177417 130.059946 262.771454 129.653983 \r\nC 262.365492 129.24802 261.814811 129.019921 261.240692 129.019921 \r\nC 260.666574 129.019921 260.115893 129.24802 259.70993 129.653983 \r\nC 259.303967 130.059946 259.075868 130.610627 259.075868 131.184745 \r\nC 259.075868 131.758863 259.303967 132.309545 259.70993 132.715507 \r\nC 260.115893 133.12147 260.666574 133.34957 261.240692 133.34957 \r\nz\r\n\" style=\"fill:#31688e;stroke:#31688e;\"/>\r\n    <path clip-path=\"url(#p3e2599a388)\" d=\"M 263.047161 133.283476 \r\nC 263.626511 133.283476 264.182211 133.053297 264.591874 132.643634 \r\nC 265.001537 132.233971 265.231715 131.678271 265.231715 131.098921 \r\nC 265.231715 130.51957 265.001537 129.96387 264.591874 129.554207 \r\nC 264.182211 129.144544 263.626511 128.914366 263.047161 128.914366 \r\nC 262.46781 128.914366 261.91211 129.144544 261.502447 129.554207 \r\nC 261.092784 129.96387 260.862606 130.51957 260.862606 131.098921 \r\nC 260.862606 131.678271 261.092784 132.233971 261.502447 132.643634 \r\nC 261.91211 133.053297 262.46781 133.283476 263.047161 133.283476 \r\nz\r\n\" style=\"fill:#2f6b8e;stroke:#2f6b8e;\"/>\r\n    <path clip-path=\"url(#p3e2599a388)\" d=\"M 233.42159 128.295101 \r\nC 233.999319 128.295101 234.553465 128.065566 234.961981 127.65705 \r\nC 235.370498 127.248533 235.600032 126.694388 235.600032 126.116658 \r\nC 235.600032 125.538929 235.370498 124.984783 234.961981 124.576267 \r\nC 234.553465 124.16775 233.999319 123.938216 233.42159 123.938216 \r\nC 232.84386 123.938216 232.289715 124.16775 231.881198 124.576267 \r\nC 231.472682 124.984783 231.243147 125.538929 231.243147 126.116658 \r\nC 231.243147 126.694388 231.472682 127.248533 231.881198 127.65705 \r\nC 232.289715 128.065566 232.84386 128.295101 233.42159 128.295101 \r\nz\r\n\" style=\"fill:#306a8e;stroke:#306a8e;\"/>\r\n    <path clip-path=\"url(#p3e2599a388)\" d=\"M 230.952436 127.995336 \r\nC 231.533598 127.995336 232.091036 127.764437 232.50198 127.353493 \r\nC 232.912924 126.942549 233.143822 126.385111 233.143822 125.803949 \r\nC 233.143822 125.222786 232.912924 124.665348 232.50198 124.254404 \r\nC 232.091036 123.84346 231.533598 123.612562 230.952436 123.612562 \r\nC 230.371273 123.612562 229.813835 123.84346 229.402891 124.254404 \r\nC 228.991947 124.665348 228.761049 125.222786 228.761049 125.803949 \r\nC 228.761049 126.385111 228.991947 126.942549 229.402891 127.353493 \r\nC 229.813835 127.764437 230.371273 127.995336 230.952436 127.995336 \r\nz\r\n\" style=\"fill:#2f6c8e;stroke:#2f6c8e;\"/>\r\n    <path clip-path=\"url(#p3e2599a388)\" d=\"M 229.936044 126.988988 \r\nC 230.49448 126.988988 231.030119 126.767119 231.424992 126.372246 \r\nC 231.819866 125.977372 232.041735 125.441733 232.041735 124.883298 \r\nC 232.041735 124.324862 231.819866 123.789223 231.424992 123.39435 \r\nC 231.030119 122.999476 230.49448 122.777607 229.936044 122.777607 \r\nC 229.377609 122.777607 228.84197 122.999476 228.447096 123.39435 \r\nC 228.052223 123.789223 227.830354 124.324862 227.830354 124.883298 \r\nC 227.830354 125.441733 228.052223 125.977372 228.447096 126.372246 \r\nC 228.84197 126.767119 229.377609 126.988988 229.936044 126.988988 \r\nz\r\n\" style=\"fill:#355f8d;stroke:#355f8d;\"/>\r\n    <path clip-path=\"url(#p3e2599a388)\" d=\"M 226.807013 132.249195 \r\nC 227.365543 132.249195 227.901273 132.027289 228.296214 131.632348 \r\nC 228.691155 131.237407 228.913061 130.701677 228.913061 130.143147 \r\nC 228.913061 129.584616 228.691155 129.048887 228.296214 128.653946 \r\nC 227.901273 128.259005 227.365543 128.037099 226.807013 128.037099 \r\nC 226.248482 128.037099 225.712752 128.259005 225.317812 128.653946 \r\nC 224.922871 129.048887 224.700964 129.584616 224.700964 130.143147 \r\nC 224.700964 130.701677 224.922871 131.237407 225.317812 131.632348 \r\nC 225.712752 132.027289 226.248482 132.249195 226.807013 132.249195 \r\nz\r\n\" style=\"fill:#34608d;stroke:#34608d;\"/>\r\n    <path clip-path=\"url(#p3e2599a388)\" d=\"M 224.808662 130.535537 \r\nC 225.39358 130.535537 225.954621 130.303146 226.368221 129.889546 \r\nC 226.781821 129.475946 227.014211 128.914905 227.014211 128.329987 \r\nC 227.014211 127.745068 226.781821 127.184028 226.368221 126.770428 \r\nC 225.954621 126.356828 225.39358 126.124437 224.808662 126.124437 \r\nC 224.223743 126.124437 223.662702 126.356828 223.249102 126.770428 \r\nC 222.835503 127.184028 222.603112 127.745068 222.603112 128.329987 \r\nC 222.603112 128.914905 222.835503 129.475946 223.249102 129.889546 \r\nC 223.662702 130.303146 224.223743 130.535537 224.808662 130.535537 \r\nz\r\n\" style=\"fill:#2e6e8e;stroke:#2e6e8e;\"/>\r\n    <path clip-path=\"url(#p3e2599a388)\" d=\"M 231.257318 134.257087 \r\nC 231.86158 134.257087 232.441173 134.017011 232.868451 133.589734 \r\nC 233.295728 133.162456 233.535804 132.582862 233.535804 131.978601 \r\nC 233.535804 131.374339 233.295728 130.794746 232.868451 130.367468 \r\nC 232.441173 129.940191 231.86158 129.700115 231.257318 129.700115 \r\nC 230.653057 129.700115 230.073463 129.940191 229.646185 130.367468 \r\nC 229.218908 130.794746 228.978832 131.374339 228.978832 131.978601 \r\nC 228.978832 132.582862 229.218908 133.162456 229.646185 133.589734 \r\nC 230.073463 134.017011 230.653057 134.257087 231.257318 134.257087 \r\nz\r\n\" style=\"fill:#29798e;stroke:#29798e;\"/>\r\n    <path clip-path=\"url(#p3e2599a388)\" d=\"M 225.773285 130.434889 \r\nC 226.363041 130.434889 226.928722 130.200576 227.345742 129.783556 \r\nC 227.762763 129.366535 227.997075 128.800855 227.997075 128.211099 \r\nC 227.997075 127.621343 227.762763 127.055662 227.345742 126.638642 \r\nC 226.928722 126.221621 226.363041 125.987309 225.773285 125.987309 \r\nC 225.183529 125.987309 224.617849 126.221621 224.200828 126.638642 \r\nC 223.783808 127.055662 223.549495 127.621343 223.549495 128.211099 \r\nC 223.549495 128.800855 223.783808 129.366535 224.200828 129.783556 \r\nC 224.617849 130.200576 225.183529 130.434889 225.773285 130.434889 \r\nz\r\n\" style=\"fill:#2d718e;stroke:#2d718e;\"/>\r\n    <path clip-path=\"url(#p3e2599a388)\" d=\"M 245.951541 131.150406 \r\nC 246.548788 131.150406 247.121654 130.913117 247.543971 130.4908 \r\nC 247.966288 130.068483 248.203577 129.495617 248.203577 128.898371 \r\nC 248.203577 128.301124 247.966288 127.728258 247.543971 127.305941 \r\nC 247.121654 126.883624 246.548788 126.646335 245.951541 126.646335 \r\nC 245.354295 126.646335 244.781429 126.883624 244.359112 127.305941 \r\nC 243.936795 127.728258 243.699506 128.301124 243.699506 128.898371 \r\nC 243.699506 129.495617 243.936795 130.068483 244.359112 130.4908 \r\nC 244.781429 130.913117 245.354295 131.150406 245.951541 131.150406 \r\nz\r\n\" style=\"fill:#2b758e;stroke:#2b758e;\"/>\r\n    <path clip-path=\"url(#p3e2599a388)\" d=\"M 252.262542 139.489498 \r\nC 252.863428 139.489498 253.439784 139.250763 253.864675 138.825873 \r\nC 254.289565 138.400982 254.5283 137.824626 254.5283 137.22374 \r\nC 254.5283 136.622854 254.289565 136.046498 253.864675 135.621607 \r\nC 253.439784 135.196717 252.863428 134.957982 252.262542 134.957982 \r\nC 251.661656 134.957982 251.0853 135.196717 250.660409 135.621607 \r\nC 250.235519 136.046498 249.996784 136.622854 249.996784 137.22374 \r\nC 249.996784 137.824626 250.235519 138.400982 250.660409 138.825873 \r\nC 251.0853 139.250763 251.661656 139.489498 252.262542 139.489498 \r\nz\r\n\" style=\"fill:#2a778e;stroke:#2a778e;\"/>\r\n    <path clip-path=\"url(#p3e2599a388)\" d=\"M 252.204711 140.867068 \r\nC 252.817436 140.867068 253.405149 140.62363 253.838411 140.190367 \r\nC 254.271674 139.757105 254.515112 139.169392 254.515112 138.556667 \r\nC 254.515112 137.943941 254.271674 137.356229 253.838411 136.922966 \r\nC 253.405149 136.489704 252.817436 136.246265 252.204711 136.246265 \r\nC 251.591985 136.246265 251.004272 136.489704 250.57101 136.922966 \r\nC 250.137747 137.356229 249.894309 137.943941 249.894309 138.556667 \r\nC 249.894309 139.169392 250.137747 139.757105 250.57101 140.190367 \r\nC 251.004272 140.62363 251.591985 140.867068 252.204711 140.867068 \r\nz\r\n\" style=\"fill:#277e8e;stroke:#277e8e;\"/>\r\n    <path clip-path=\"url(#p3e2599a388)\" d=\"M 250.309822 141.721141 \r\nC 250.923897 141.721141 251.512904 141.477166 251.947121 141.042949 \r\nC 252.381338 140.608733 252.625312 140.019726 252.625312 139.405651 \r\nC 252.625312 138.791576 252.381338 138.202569 251.947121 137.768352 \r\nC 251.512904 137.334135 250.923897 137.090161 250.309822 137.090161 \r\nC 249.695747 137.090161 249.10674 137.334135 248.672524 137.768352 \r\nC 248.238307 138.202569 247.994332 138.791576 247.994332 139.405651 \r\nC 247.994332 140.019726 248.238307 140.608733 248.672524 141.042949 \r\nC 249.10674 141.477166 249.695747 141.721141 250.309822 141.721141 \r\nz\r\n\" style=\"fill:#277f8e;stroke:#277f8e;\"/>\r\n    <path clip-path=\"url(#p3e2599a388)\" d=\"M 249.516499 139.901052 \r\nC 250.127222 139.901052 250.713013 139.658409 251.144859 139.226563 \r\nC 251.576706 138.794717 251.819349 138.208925 251.819349 137.598202 \r\nC 251.819349 136.987479 251.576706 136.401688 251.144859 135.969841 \r\nC 250.713013 135.537995 250.127222 135.295352 249.516499 135.295352 \r\nC 248.905776 135.295352 248.319984 135.537995 247.888138 135.969841 \r\nC 247.456291 136.401688 247.213649 136.987479 247.213649 137.598202 \r\nC 247.213649 138.208925 247.456291 138.794717 247.888138 139.226563 \r\nC 248.319984 139.658409 248.905776 139.901052 249.516499 139.901052 \r\nz\r\n\" style=\"fill:#287d8e;stroke:#287d8e;\"/>\r\n    <path clip-path=\"url(#p3e2599a388)\" d=\"M 241.12404 137.47583 \r\nC 241.753627 137.47583 242.357512 137.225692 242.802697 136.780507 \r\nC 243.247882 136.335322 243.498019 135.731437 243.498019 135.101851 \r\nC 243.498019 134.472264 243.247882 133.868379 242.802697 133.423194 \r\nC 242.357512 132.978009 241.753627 132.727872 241.12404 132.727872 \r\nC 240.494454 132.727872 239.890569 132.978009 239.445384 133.423194 \r\nC 239.000199 133.868379 238.750061 134.472264 238.750061 135.101851 \r\nC 238.750061 135.731437 239.000199 136.335322 239.445384 136.780507 \r\nC 239.890569 137.225692 240.494454 137.47583 241.12404 137.47583 \r\nz\r\n\" style=\"fill:#24878e;stroke:#24878e;\"/>\r\n    <path clip-path=\"url(#p3e2599a388)\" d=\"M 240.251127 138.707479 \r\nC 240.883729 138.707479 241.490505 138.456144 241.937822 138.008828 \r\nC 242.385138 137.561511 242.636473 136.954735 242.636473 136.322133 \r\nC 242.636473 135.689532 242.385138 135.082756 241.937822 134.635439 \r\nC 241.490505 134.188123 240.883729 133.936788 240.251127 133.936788 \r\nC 239.618526 133.936788 239.01175 134.188123 238.564433 134.635439 \r\nC 238.117117 135.082756 237.865782 135.689532 237.865782 136.322133 \r\nC 237.865782 136.954735 238.117117 137.561511 238.564433 138.008828 \r\nC 239.01175 138.456144 239.618526 138.707479 240.251127 138.707479 \r\nz\r\n\" style=\"fill:#23898e;stroke:#23898e;\"/>\r\n    <path clip-path=\"url(#p3e2599a388)\" d=\"M 242.806379 135.001427 \r\nC 243.456194 135.001427 244.079481 134.743253 244.53897 134.283765 \r\nC 244.998458 133.824276 245.256632 133.200989 245.256632 132.551174 \r\nC 245.256632 131.901359 244.998458 131.278072 244.53897 130.818584 \r\nC 244.079481 130.359095 243.456194 130.100921 242.806379 130.100921 \r\nC 242.156564 130.100921 241.533277 130.359095 241.073788 130.818584 \r\nC 240.6143 131.278072 240.356126 131.901359 240.356126 132.551174 \r\nC 240.356126 133.200989 240.6143 133.824276 241.073788 134.283765 \r\nC 241.533277 134.743253 242.156564 135.001427 242.806379 135.001427 \r\nz\r\n\" style=\"fill:#20938c;stroke:#20938c;\"/>\r\n    <path clip-path=\"url(#p3e2599a388)\" d=\"M 248.120201 146.841748 \r\nC 248.783067 146.841748 249.418874 146.578388 249.887591 146.109671 \r\nC 250.356309 145.640954 250.619668 145.005147 250.619668 144.342281 \r\nC 250.619668 143.679414 250.356309 143.043608 249.887591 142.57489 \r\nC 249.418874 142.106173 248.783067 141.842813 248.120201 141.842813 \r\nC 247.457334 141.842813 246.821528 142.106173 246.352811 142.57489 \r\nC 245.884093 143.043608 245.620734 143.679414 245.620734 144.342281 \r\nC 245.620734 145.005147 245.884093 145.640954 246.352811 146.109671 \r\nC 246.821528 146.578388 247.457334 146.841748 248.120201 146.841748 \r\nz\r\n\" style=\"fill:#1e9c89;stroke:#1e9c89;\"/>\r\n    <path clip-path=\"url(#p3e2599a388)\" d=\"M 253.435381 149.483684 \r\nC 254.09393 149.483684 254.725595 149.22204 255.19126 148.756376 \r\nC 255.656924 148.290711 255.918568 147.659046 255.918568 147.000498 \r\nC 255.918568 146.341949 255.656924 145.710284 255.19126 145.24462 \r\nC 254.725595 144.778955 254.09393 144.517311 253.435381 144.517311 \r\nC 252.776833 144.517311 252.145168 144.778955 251.679503 145.24462 \r\nC 251.213839 145.710284 250.952195 146.341949 250.952195 147.000498 \r\nC 250.952195 147.659046 251.213839 148.290711 251.679503 148.756376 \r\nC 252.145168 149.22204 252.776833 149.483684 253.435381 149.483684 \r\nz\r\n\" style=\"fill:#1f998a;stroke:#1f998a;\"/>\r\n    <path clip-path=\"url(#p3e2599a388)\" d=\"M 250.915027 153.616652 \r\nC 251.571342 153.616652 252.200865 153.355895 252.664951 152.89181 \r\nC 253.129036 152.427724 253.389793 151.798201 253.389793 151.141886 \r\nC 253.389793 150.48557 253.129036 149.856047 252.664951 149.391962 \r\nC 252.200865 148.927877 251.571342 148.66712 250.915027 148.66712 \r\nC 250.258711 148.66712 249.629188 148.927877 249.165103 149.391962 \r\nC 248.701018 149.856047 248.440261 150.48557 248.440261 151.141886 \r\nC 248.440261 151.798201 248.701018 152.427724 249.165103 152.89181 \r\nC 249.629188 153.355895 250.258711 153.616652 250.915027 153.616652 \r\nz\r\n\" style=\"fill:#1f978b;stroke:#1f978b;\"/>\r\n    <path clip-path=\"url(#p3e2599a388)\" d=\"M 237.930957 158.381668 \r\nC 238.612633 158.381668 239.266481 158.110835 239.748499 157.628817 \r\nC 240.230517 157.146799 240.50135 156.492951 240.50135 155.811274 \r\nC 240.50135 155.129598 240.230517 154.475749 239.748499 153.993731 \r\nC 239.266481 153.511714 238.612633 153.240881 237.930957 153.240881 \r\nC 237.24928 153.240881 236.595432 153.511714 236.113414 153.993731 \r\nC 235.631396 154.475749 235.360563 155.129598 235.360563 155.811274 \r\nC 235.360563 156.492951 235.631396 157.146799 236.113414 157.628817 \r\nC 236.595432 158.110835 237.24928 158.381668 237.930957 158.381668 \r\nz\r\n\" style=\"fill:#22a785;stroke:#22a785;\"/>\r\n    <path clip-path=\"url(#p3e2599a388)\" d=\"M 231.795949 154.817928 \r\nC 232.48009 154.817928 233.136303 154.546116 233.620064 154.062355 \r\nC 234.103825 153.578593 234.375638 152.922381 234.375638 152.238239 \r\nC 234.375638 151.554098 234.103825 150.897885 233.620064 150.414124 \r\nC 233.136303 149.930363 232.48009 149.65855 231.795949 149.65855 \r\nC 231.111808 149.65855 230.455595 149.930363 229.971834 150.414124 \r\nC 229.488073 150.897885 229.21626 151.554098 229.21626 152.238239 \r\nC 229.21626 152.922381 229.488073 153.578593 229.971834 154.062355 \r\nC 230.455595 154.546116 231.111808 154.817928 231.795949 154.817928 \r\nz\r\n\" style=\"fill:#23a983;stroke:#23a983;\"/>\r\n    <path clip-path=\"url(#p3e2599a388)\" d=\"M 246.578161 151.693859 \r\nC 247.252483 151.693859 247.899277 151.425948 248.376095 150.94913 \r\nC 248.852913 150.472313 249.120824 149.825518 249.120824 149.151196 \r\nC 249.120824 148.476874 248.852913 147.830079 248.376095 147.353261 \r\nC 247.899277 146.876444 247.252483 146.608533 246.578161 146.608533 \r\nC 245.903839 146.608533 245.257044 146.876444 244.780226 147.353261 \r\nC 244.303408 147.830079 244.035497 148.476874 244.035497 149.151196 \r\nC 244.035497 149.825518 244.303408 150.472313 244.780226 150.94913 \r\nC 245.257044 151.425948 245.903839 151.693859 246.578161 151.693859 \r\nz\r\n\" style=\"fill:#1fa287;stroke:#1fa287;\"/>\r\n    <path clip-path=\"url(#p3e2599a388)\" d=\"M 254.794127 154.522394 \r\nC 255.452618 154.522394 256.084227 154.260773 256.54985 153.79515 \r\nC 257.015473 153.329527 257.277094 152.697917 257.277094 152.039427 \r\nC 257.277094 151.380936 257.015473 150.749327 256.54985 150.283704 \r\nC 256.084227 149.818081 255.452618 149.55646 254.794127 149.55646 \r\nC 254.135636 149.55646 253.504027 149.818081 253.038404 150.283704 \r\nC 252.572781 150.749327 252.31116 151.380936 252.31116 152.039427 \r\nC 252.31116 152.697917 252.572781 153.329527 253.038404 153.79515 \r\nC 253.504027 154.260773 254.135636 154.522394 254.794127 154.522394 \r\nz\r\n\" style=\"fill:#1f998a;stroke:#1f998a;\"/>\r\n    <path clip-path=\"url(#p3e2599a388)\" d=\"M 258.183172 150.184994 \r\nC 258.854543 150.184994 259.498506 149.918256 259.973236 149.443525 \r\nC 260.447967 148.968795 260.714705 148.324832 260.714705 147.653461 \r\nC 260.714705 146.982091 260.447967 146.338128 259.973236 145.863397 \r\nC 259.498506 145.388667 258.854543 145.121928 258.183172 145.121928 \r\nC 257.511802 145.121928 256.867839 145.388667 256.393108 145.863397 \r\nC 255.918377 146.338128 255.651639 146.982091 255.651639 147.653461 \r\nC 255.651639 148.324832 255.918377 148.968795 256.393108 149.443525 \r\nC 256.867839 149.918256 257.511802 150.184994 258.183172 150.184994 \r\nz\r\n\" style=\"fill:#1fa188;stroke:#1fa188;\"/>\r\n    <path clip-path=\"url(#p3e2599a388)\" d=\"M 251.202859 149.81513 \r\nC 251.876325 149.81513 252.522298 149.547559 252.998511 149.071347 \r\nC 253.474723 148.595134 253.742294 147.949161 253.742294 147.275695 \r\nC 253.742294 146.602229 253.474723 145.956255 252.998511 145.480043 \r\nC 252.522298 145.00383 251.876325 144.736259 251.202859 144.736259 \r\nC 250.529393 144.736259 249.883419 145.00383 249.407207 145.480043 \r\nC 248.930994 145.956255 248.663423 146.602229 248.663423 147.275695 \r\nC 248.663423 147.949161 248.930994 148.595134 249.407207 149.071347 \r\nC 249.883419 149.547559 250.529393 149.81513 251.202859 149.81513 \r\nz\r\n\" style=\"fill:#1fa287;stroke:#1fa287;\"/>\r\n    <path clip-path=\"url(#p3e2599a388)\" d=\"M 251.236281 151.345788 \r\nC 251.899327 151.345788 252.535305 151.082357 253.004149 150.613513 \r\nC 253.472992 150.144669 253.736423 149.508691 253.736423 148.845646 \r\nC 253.736423 148.182601 253.472992 147.546623 253.004149 147.077779 \r\nC 252.535305 146.608935 251.899327 146.345504 251.236281 146.345504 \r\nC 250.573236 146.345504 249.937258 146.608935 249.468414 147.077779 \r\nC 248.99957 147.546623 248.736139 148.182601 248.736139 148.845646 \r\nC 248.736139 149.508691 248.99957 150.144669 249.468414 150.613513 \r\nC 249.937258 151.082357 250.573236 151.345788 251.236281 151.345788 \r\nz\r\n\" style=\"fill:#1e9c89;stroke:#1e9c89;\"/>\r\n    <path clip-path=\"url(#p3e2599a388)\" d=\"M 239.723044 153.959077 \r\nC 240.394975 153.959077 241.039475 153.692117 241.514602 153.21699 \r\nC 241.989728 152.741863 242.256689 152.097363 242.256689 151.425433 \r\nC 242.256689 150.753502 241.989728 150.109002 241.514602 149.633875 \r\nC 241.039475 149.158749 240.394975 148.891788 239.723044 148.891788 \r\nC 239.051114 148.891788 238.406614 149.158749 237.931487 149.633875 \r\nC 237.45636 150.109002 237.1894 150.753502 237.1894 151.425433 \r\nC 237.1894 152.097363 237.45636 152.741863 237.931487 153.21699 \r\nC 238.406614 153.692117 239.051114 153.959077 239.723044 153.959077 \r\nz\r\n\" style=\"fill:#1fa187;stroke:#1fa187;\"/>\r\n    <path clip-path=\"url(#p3e2599a388)\" d=\"M 234.66233 156.864491 \r\nC 235.336348 156.864491 235.98285 156.596701 236.459452 156.120099 \r\nC 236.936054 155.643497 237.203844 154.996995 237.203844 154.322977 \r\nC 237.203844 153.64896 236.936054 153.002458 236.459452 152.525856 \r\nC 235.98285 152.049253 235.336348 151.781463 234.66233 151.781463 \r\nC 233.988313 151.781463 233.341811 152.049253 232.865209 152.525856 \r\nC 232.388606 153.002458 232.120817 153.64896 232.120817 154.322977 \r\nC 232.120817 154.996995 232.388606 155.643497 232.865209 156.120099 \r\nC 233.341811 156.596701 233.988313 156.864491 234.66233 156.864491 \r\nz\r\n\" style=\"fill:#1fa287;stroke:#1fa287;\"/>\r\n    <path clip-path=\"url(#p3e2599a388)\" d=\"M 232.414059 155.021303 \r\nC 233.066058 155.021303 233.691441 154.762261 234.152474 154.301228 \r\nC 234.613507 153.840195 234.872549 153.214812 234.872549 152.562813 \r\nC 234.872549 151.910814 234.613507 151.285431 234.152474 150.824398 \r\nC 233.691441 150.363365 233.066058 150.104323 232.414059 150.104323 \r\nC 231.76206 150.104323 231.136677 150.363365 230.675644 150.824398 \r\nC 230.214611 151.285431 229.955569 151.910814 229.955569 152.562813 \r\nC 229.955569 153.214812 230.214611 153.840195 230.675644 154.301228 \r\nC 231.136677 154.762261 231.76206 155.021303 232.414059 155.021303 \r\nz\r\n\" style=\"fill:#1f958b;stroke:#1f958b;\"/>\r\n    <path clip-path=\"url(#p3e2599a388)\" d=\"M 229.098179 152.630495 \r\nC 229.758069 152.630495 230.39102 152.368318 230.857632 151.901706 \r\nC 231.324244 151.435093 231.586421 150.802143 231.586421 150.142253 \r\nC 231.586421 149.482364 231.324244 148.849413 230.857632 148.382801 \r\nC 230.39102 147.916189 229.758069 147.654012 229.098179 147.654012 \r\nC 228.43829 147.654012 227.805339 147.916189 227.338727 148.382801 \r\nC 226.872115 148.849413 226.609938 149.482364 226.609938 150.142253 \r\nC 226.609938 150.802143 226.872115 151.435093 227.338727 151.901706 \r\nC 227.805339 152.368318 228.43829 152.630495 229.098179 152.630495 \r\nz\r\n\" style=\"fill:#1f9a8a;stroke:#1f9a8a;\"/>\r\n    <path clip-path=\"url(#p3e2599a388)\" d=\"M 237.869271 151.808639 \r\nC 238.546689 151.808639 239.196453 151.539498 239.67546 151.060491 \r\nC 240.154468 150.581484 240.423609 149.93172 240.423609 149.254301 \r\nC 240.423609 148.576883 240.154468 147.927119 239.67546 147.448111 \r\nC 239.196453 146.969104 238.546689 146.699963 237.869271 146.699963 \r\nC 237.191852 146.699963 236.542088 146.969104 236.063081 147.448111 \r\nC 235.584074 147.927119 235.314932 148.576883 235.314932 149.254301 \r\nC 235.314932 149.93172 235.584074 150.581484 236.063081 151.060491 \r\nC 236.542088 151.539498 237.191852 151.808639 237.869271 151.808639 \r\nz\r\n\" style=\"fill:#20a486;stroke:#20a486;\"/>\r\n    <path clip-path=\"url(#p3e2599a388)\" d=\"M 224.860961 159.564043 \r\nC 225.570824 159.564043 226.251709 159.282011 226.753658 158.780062 \r\nC 227.255607 158.278113 227.537639 157.597228 227.537639 156.887365 \r\nC 227.537639 156.177502 227.255607 155.496617 226.753658 154.994668 \r\nC 226.251709 154.492719 225.570824 154.210687 224.860961 154.210687 \r\nC 224.151097 154.210687 223.470213 154.492719 222.968263 154.994668 \r\nC 222.466314 155.496617 222.184282 156.177502 222.184282 156.887365 \r\nC 222.184282 157.597228 222.466314 158.278113 222.968263 158.780062 \r\nC 223.470213 159.282011 224.151097 159.564043 224.860961 159.564043 \r\nz\r\n\" style=\"fill:#38b977;stroke:#38b977;\"/>\r\n    <path clip-path=\"url(#p3e2599a388)\" d=\"M 216.925805 158.462314 \r\nC 217.6361 158.462314 218.317399 158.180111 218.819654 157.677856 \r\nC 219.321909 157.175601 219.604112 156.494302 219.604112 155.784007 \r\nC 219.604112 155.073711 219.321909 154.392412 218.819654 153.890157 \r\nC 218.317399 153.387903 217.6361 153.105699 216.925805 153.105699 \r\nC 216.215509 153.105699 215.53421 153.387903 215.031955 153.890157 \r\nC 214.529701 154.392412 214.247497 155.073711 214.247497 155.784007 \r\nC 214.247497 156.494302 214.529701 157.175601 215.031955 157.677856 \r\nC 215.53421 158.180111 216.215509 158.462314 216.925805 158.462314 \r\nz\r\n\" style=\"fill:#38b977;stroke:#38b977;\"/>\r\n    <path clip-path=\"url(#p3e2599a388)\" d=\"M 204.321279 156.368151 \r\nC 205.034448 156.368151 205.718504 156.084805 206.222791 155.580519 \r\nC 206.727078 155.076232 207.010423 154.392176 207.010423 153.679007 \r\nC 207.010423 152.965838 206.727078 152.281782 206.222791 151.777495 \r\nC 205.718504 151.273208 205.034448 150.989863 204.321279 150.989863 \r\nC 203.60811 150.989863 202.924054 151.273208 202.419767 151.777495 \r\nC 201.91548 152.281782 201.632135 152.965838 201.632135 153.679007 \r\nC 201.632135 154.392176 201.91548 155.076232 202.419767 155.580519 \r\nC 202.924054 156.084805 203.60811 156.368151 204.321279 156.368151 \r\nz\r\n\" style=\"fill:#3bbb75;stroke:#3bbb75;\"/>\r\n    <path clip-path=\"url(#p3e2599a388)\" d=\"M 192.975977 158.933307 \r\nC 193.708684 158.933307 194.41148 158.6422 194.929582 158.124098 \r\nC 195.447684 157.605996 195.738791 156.9032 195.738791 156.170493 \r\nC 195.738791 155.437786 195.447684 154.73499 194.929582 154.216888 \r\nC 194.41148 153.698786 193.708684 153.407679 192.975977 153.407679 \r\nC 192.24327 153.407679 191.540474 153.698786 191.022372 154.216888 \r\nC 190.50427 154.73499 190.213163 155.437786 190.213163 156.170493 \r\nC 190.213163 156.9032 190.50427 157.605996 191.022372 158.124098 \r\nC 191.540474 158.6422 192.24327 158.933307 192.975977 158.933307 \r\nz\r\n\" style=\"fill:#56c667;stroke:#56c667;\"/>\r\n    <path clip-path=\"url(#p3e2599a388)\" d=\"M 194.113447 158.779907 \r\nC 194.848175 158.779907 195.55291 158.487996 196.072442 157.968464 \r\nC 196.591973 157.448933 196.883884 156.744198 196.883884 156.009469 \r\nC 196.883884 155.27474 196.591973 154.570006 196.072442 154.050474 \r\nC 195.55291 153.530942 194.848175 153.239032 194.113447 153.239032 \r\nC 193.378718 153.239032 192.673983 153.530942 192.154451 154.050474 \r\nC 191.63492 154.570006 191.343009 155.27474 191.343009 156.009469 \r\nC 191.343009 156.744198 191.63492 157.448933 192.154451 157.968464 \r\nC 192.673983 158.487996 193.378718 158.779907 194.113447 158.779907 \r\nz\r\n\" style=\"fill:#58c765;stroke:#58c765;\"/>\r\n    <path clip-path=\"url(#p3e2599a388)\" d=\"M 179.438994 165.731637 \r\nC 180.17701 165.731637 180.884898 165.43842 181.406754 164.916564 \r\nC 181.92861 164.394708 182.221827 163.68682 182.221827 162.948804 \r\nC 182.221827 162.210788 181.92861 161.5029 181.406754 160.981044 \r\nC 180.884898 160.459188 180.17701 160.165971 179.438994 160.165971 \r\nC 178.700978 160.165971 177.99309 160.459188 177.471234 160.981044 \r\nC 176.949378 161.5029 176.656161 162.210788 176.656161 162.948804 \r\nC 176.656161 163.68682 176.949378 164.394708 177.471234 164.916564 \r\nC 177.99309 165.43842 178.700978 165.731637 179.438994 165.731637 \r\nz\r\n\" style=\"fill:#5ec962;stroke:#5ec962;\"/>\r\n    <path clip-path=\"url(#p3e2599a388)\" d=\"M 186.351223 170.282402 \r\nC 187.081688 170.282402 187.782333 169.992185 188.29885 169.475668 \r\nC 188.815367 168.959152 189.105584 168.258506 189.105584 167.528041 \r\nC 189.105584 166.797576 188.815367 166.09693 188.29885 165.580414 \r\nC 187.782333 165.063897 187.081688 164.77368 186.351223 164.77368 \r\nC 185.620758 164.77368 184.920112 165.063897 184.403596 165.580414 \r\nC 183.887079 166.09693 183.596862 166.797576 183.596862 167.528041 \r\nC 183.596862 168.258506 183.887079 168.959152 184.403596 169.475668 \r\nC 184.920112 169.992185 185.620758 170.282402 186.351223 170.282402 \r\nz\r\n\" style=\"fill:#52c569;stroke:#52c569;\"/>\r\n    <path clip-path=\"url(#p3e2599a388)\" d=\"M 184.088167 171.425522 \r\nC 184.801653 171.425522 185.486012 171.142051 185.990522 170.637541 \r\nC 186.495033 170.13303 186.778504 169.448671 186.778504 168.735186 \r\nC 186.778504 168.0217 186.495033 167.337341 185.990522 166.83283 \r\nC 185.486012 166.32832 184.801653 166.044849 184.088167 166.044849 \r\nC 183.374681 166.044849 182.690322 166.32832 182.185812 166.83283 \r\nC 181.681301 167.337341 181.39783 168.0217 181.39783 168.735186 \r\nC 181.39783 169.448671 181.681301 170.13303 182.185812 170.637541 \r\nC 182.690322 171.142051 183.374681 171.425522 184.088167 171.425522 \r\nz\r\n\" style=\"fill:#3bbb75;stroke:#3bbb75;\"/>\r\n    <path clip-path=\"url(#p3e2599a388)\" d=\"M 184.718888 172.620818 \r\nC 185.443532 172.620818 186.138595 172.332914 186.650996 171.820513 \r\nC 187.163397 171.308112 187.451301 170.613049 187.451301 169.888405 \r\nC 187.451301 169.16376 187.163397 168.468698 186.650996 167.956297 \r\nC 186.138595 167.443896 185.443532 167.155991 184.718888 167.155991 \r\nC 183.994243 167.155991 183.299181 167.443896 182.78678 167.956297 \r\nC 182.274379 168.468698 181.986474 169.16376 181.986474 169.888405 \r\nC 181.986474 170.613049 182.274379 171.308112 182.78678 171.820513 \r\nC 183.299181 172.332914 183.994243 172.620818 184.718888 172.620818 \r\nz\r\n\" style=\"fill:#4ac16d;stroke:#4ac16d;\"/>\r\n    <path clip-path=\"url(#p3e2599a388)\" d=\"M 187.676597 171.252601 \r\nC 188.385621 171.252601 189.065702 170.970903 189.567058 170.469546 \r\nC 190.068414 169.96819 190.350113 169.288109 190.350113 168.579085 \r\nC 190.350113 167.87006 190.068414 167.189979 189.567058 166.688623 \r\nC 189.065702 166.187267 188.385621 165.905568 187.676597 165.905568 \r\nC 186.967572 165.905568 186.287491 166.187267 185.786135 166.688623 \r\nC 185.284779 167.189979 185.00308 167.87006 185.00308 168.579085 \r\nC 185.00308 169.288109 185.284779 169.96819 185.786135 170.469546 \r\nC 186.287491 170.970903 186.967572 171.252601 187.676597 171.252601 \r\nz\r\n\" style=\"fill:#37b878;stroke:#37b878;\"/>\r\n    <path clip-path=\"url(#p3e2599a388)\" d=\"M 183.69572 175.724394 \r\nC 184.41875 175.724394 185.112264 175.437131 185.623524 174.925871 \r\nC 186.134783 174.414612 186.422046 173.721098 186.422046 172.998068 \r\nC 186.422046 172.275037 186.134783 171.581523 185.623524 171.070264 \r\nC 185.112264 170.559004 184.41875 170.271741 183.69572 170.271741 \r\nC 182.97269 170.271741 182.279176 170.559004 181.767916 171.070264 \r\nC 181.256657 171.581523 180.969394 172.275037 180.969394 172.998068 \r\nC 180.969394 173.721098 181.256657 174.414612 181.767916 174.925871 \r\nC 182.279176 175.437131 182.97269 175.724394 183.69572 175.724394 \r\nz\r\n\" style=\"fill:#48c16e;stroke:#48c16e;\"/>\r\n    <path clip-path=\"url(#p3e2599a388)\" d=\"M 193.162535 176.958342 \r\nC 193.875918 176.958342 194.560177 176.674912 195.064615 176.170474 \r\nC 195.569052 175.666037 195.852482 174.981777 195.852482 174.268395 \r\nC 195.852482 173.555013 195.569052 172.870753 195.064615 172.366315 \r\nC 194.560177 171.861878 193.875918 171.578448 193.162535 171.578448 \r\nC 192.449153 171.578448 191.764893 171.861878 191.260456 172.366315 \r\nC 190.756018 172.870753 190.472589 173.555013 190.472589 174.268395 \r\nC 190.472589 174.981777 190.756018 175.666037 191.260456 176.170474 \r\nC 191.764893 176.674912 192.449153 176.958342 193.162535 176.958342 \r\nz\r\n\" style=\"fill:#3bbb75;stroke:#3bbb75;\"/>\r\n    <path clip-path=\"url(#p3e2599a388)\" d=\"M 191.380605 178.794114 \r\nC 192.097249 178.794114 192.784637 178.509388 193.29138 178.002645 \r\nC 193.798124 177.495901 194.082849 176.808513 194.082849 176.09187 \r\nC 194.082849 175.375226 193.798124 174.687838 193.29138 174.181095 \r\nC 192.784637 173.674351 192.097249 173.389626 191.380605 173.389626 \r\nC 190.663962 173.389626 189.976574 173.674351 189.46983 174.181095 \r\nC 188.963087 174.687838 188.678361 175.375226 188.678361 176.09187 \r\nC 188.678361 176.808513 188.963087 177.495901 189.46983 178.002645 \r\nC 189.976574 178.509388 190.663962 178.794114 191.380605 178.794114 \r\nz\r\n\" style=\"fill:#3fbc73;stroke:#3fbc73;\"/>\r\n    <path clip-path=\"url(#p3e2599a388)\" d=\"M 196.82764 176.811028 \r\nC 197.539702 176.811028 198.222696 176.528123 198.7262 176.024619 \r\nC 199.229703 175.521116 199.512609 174.838122 199.512609 174.12606 \r\nC 199.512609 173.413998 199.229703 172.731005 198.7262 172.227501 \r\nC 198.222696 171.723997 197.539702 171.441092 196.82764 171.441092 \r\nC 196.115579 171.441092 195.432585 171.723997 194.929081 172.227501 \r\nC 194.425578 172.731005 194.142672 173.413998 194.142672 174.12606 \r\nC 194.142672 174.838122 194.425578 175.521116 194.929081 176.024619 \r\nC 195.432585 176.528123 196.115579 176.811028 196.82764 176.811028 \r\nz\r\n\" style=\"fill:#3aba76;stroke:#3aba76;\"/>\r\n    <path clip-path=\"url(#p3e2599a388)\" d=\"M 195.001977 171.574553 \r\nC 195.728397 171.574553 196.425162 171.285943 196.938818 170.772287 \r\nC 197.452474 170.258631 197.741084 169.561866 197.741084 168.835446 \r\nC 197.741084 168.109027 197.452474 167.412262 196.938818 166.898606 \r\nC 196.425162 166.38495 195.728397 166.09634 195.001977 166.09634 \r\nC 194.275558 166.09634 193.578793 166.38495 193.065137 166.898606 \r\nC 192.551481 167.412262 192.262871 168.109027 192.262871 168.835446 \r\nC 192.262871 169.561866 192.551481 170.258631 193.065137 170.772287 \r\nC 193.578793 171.285943 194.275558 171.574553 195.001977 171.574553 \r\nz\r\n\" style=\"fill:#4cc26c;stroke:#4cc26c;\"/>\r\n    <path clip-path=\"url(#p3e2599a388)\" d=\"M 197.669007 165.181175 \r\nC 198.399059 165.181175 199.099307 164.891122 199.615532 164.374898 \r\nC 200.131756 163.858674 200.421808 163.158425 200.421808 162.428373 \r\nC 200.421808 161.698322 200.131756 160.998073 199.615532 160.481849 \r\nC 199.099307 159.965625 198.399059 159.675572 197.669007 159.675572 \r\nC 196.938956 159.675572 196.238707 159.965625 195.722483 160.481849 \r\nC 195.206258 160.998073 194.916206 161.698322 194.916206 162.428373 \r\nC 194.916206 163.158425 195.206258 163.858674 195.722483 164.374898 \r\nC 196.238707 164.891122 196.938956 165.181175 197.669007 165.181175 \r\nz\r\n\" style=\"fill:#52c569;stroke:#52c569;\"/>\r\n    <path clip-path=\"url(#p3e2599a388)\" d=\"M 200.233236 171.108122 \r\nC 200.986511 171.108122 201.709034 170.808843 202.24168 170.276198 \r\nC 202.774325 169.743553 203.073604 169.021029 203.073604 168.267755 \r\nC 203.073604 167.51448 202.774325 166.791957 202.24168 166.259311 \r\nC 201.709034 165.726666 200.986511 165.427387 200.233236 165.427387 \r\nC 199.479962 165.427387 198.757439 165.726666 198.224793 166.259311 \r\nC 197.692148 166.791957 197.392869 167.51448 197.392869 168.267755 \r\nC 197.392869 169.021029 197.692148 169.743553 198.224793 170.276198 \r\nC 198.757439 170.808843 199.479962 171.108122 200.233236 171.108122 \r\nz\r\n\" style=\"fill:#77d153;stroke:#77d153;\"/>\r\n    <path clip-path=\"url(#p3e2599a388)\" d=\"M 202.525213 171.238784 \r\nC 203.265732 171.238784 203.97602 170.944572 204.499646 170.420947 \r\nC 205.023271 169.897321 205.317483 169.187032 205.317483 168.446514 \r\nC 205.317483 167.705995 205.023271 166.995707 204.499646 166.472081 \r\nC 203.97602 165.948455 203.265732 165.654244 202.525213 165.654244 \r\nC 201.784694 165.654244 201.074406 165.948455 200.55078 166.472081 \r\nC 200.027155 166.995707 199.732943 167.705995 199.732943 168.446514 \r\nC 199.732943 169.187032 200.027155 169.897321 200.55078 170.420947 \r\nC 201.074406 170.944572 201.784694 171.238784 202.525213 171.238784 \r\nz\r\n\" style=\"fill:#63cb5f;stroke:#63cb5f;\"/>\r\n    <path clip-path=\"url(#p3e2599a388)\" d=\"M 193.591776 175.399252 \r\nC 194.337192 175.399252 195.052178 175.103095 195.579266 174.576007 \r\nC 196.106355 174.048918 196.402512 173.333932 196.402512 172.588517 \r\nC 196.402512 171.843101 196.106355 171.128115 195.579266 170.601026 \r\nC 195.052178 170.073938 194.337192 169.777781 193.591776 169.777781 \r\nC 192.84636 169.777781 192.131374 170.073938 191.604286 170.601026 \r\nC 191.077197 171.128115 190.78104 171.843101 190.78104 172.588517 \r\nC 190.78104 173.333932 191.077197 174.048918 191.604286 174.576007 \r\nC 192.131374 175.103095 192.84636 175.399252 193.591776 175.399252 \r\nz\r\n\" style=\"fill:#69cd5b;stroke:#69cd5b;\"/>\r\n    <path clip-path=\"url(#p3e2599a388)\" d=\"M 197.588325 175.642406 \r\nC 198.334299 175.642406 199.04982 175.346027 199.577303 174.818544 \r\nC 200.104786 174.29106 200.401165 173.575539 200.401165 172.829565 \r\nC 200.401165 172.083591 200.104786 171.36807 199.577303 170.840587 \r\nC 199.04982 170.313104 198.334299 170.016725 197.588325 170.016725 \r\nC 196.842351 170.016725 196.126829 170.313104 195.599346 170.840587 \r\nC 195.071863 171.36807 194.775484 172.083591 194.775484 172.829565 \r\nC 194.775484 173.575539 195.071863 174.29106 195.599346 174.818544 \r\nC 196.126829 175.346027 196.842351 175.642406 197.588325 175.642406 \r\nz\r\n\" style=\"fill:#6ccd5a;stroke:#6ccd5a;\"/>\r\n    <path clip-path=\"url(#p3e2599a388)\" d=\"M 194.663805 174.080269 \r\nC 195.413071 174.080269 196.13175 173.782582 196.661561 173.252771 \r\nC 197.191372 172.72296 197.489059 172.004281 197.489059 171.255015 \r\nC 197.489059 170.50575 197.191372 169.787071 196.661561 169.25726 \r\nC 196.13175 168.727449 195.413071 168.429762 194.663805 168.429762 \r\nC 193.914539 168.429762 193.195861 168.727449 192.666049 169.25726 \r\nC 192.136238 169.787071 191.838552 170.50575 191.838552 171.255015 \r\nC 191.838552 172.004281 192.136238 172.72296 192.666049 173.252771 \r\nC 193.195861 173.782582 193.914539 174.080269 194.663805 174.080269 \r\nz\r\n\" style=\"fill:#70cf57;stroke:#70cf57;\"/>\r\n    <path clip-path=\"url(#p3e2599a388)\" d=\"M 200.444755 173.846623 \r\nC 201.212519 173.846623 201.94894 173.541587 202.491831 172.998696 \r\nC 203.034722 172.455806 203.339758 171.719384 203.339758 170.951621 \r\nC 203.339758 170.183857 203.034722 169.447436 202.491831 168.904545 \r\nC 201.94894 168.361654 201.212519 168.056619 200.444755 168.056619 \r\nC 199.676992 168.056619 198.940571 168.361654 198.39768 168.904545 \r\nC 197.854789 169.447436 197.549753 170.183857 197.549753 170.951621 \r\nC 197.549753 171.719384 197.854789 172.455806 198.39768 172.998696 \r\nC 198.940571 173.541587 199.676992 173.846623 200.444755 173.846623 \r\nz\r\n\" style=\"fill:#93d741;stroke:#93d741;\"/>\r\n    <path clip-path=\"url(#p3e2599a388)\" d=\"M 180.708525 174.054259 \r\nC 181.482962 174.054259 182.225784 173.746572 182.773394 173.198963 \r\nC 183.321003 172.651353 183.62869 171.908531 183.62869 171.134094 \r\nC 183.62869 170.359657 183.321003 169.616835 182.773394 169.069225 \r\nC 182.225784 168.521615 181.482962 168.213928 180.708525 168.213928 \r\nC 179.934088 168.213928 179.191266 168.521615 178.643656 169.069225 \r\nC 178.096046 169.616835 177.788359 170.359657 177.788359 171.134094 \r\nC 177.788359 171.908531 178.096046 172.651353 178.643656 173.198963 \r\nC 179.191266 173.746572 179.934088 174.054259 180.708525 174.054259 \r\nz\r\n\" style=\"fill:#a0da39;stroke:#a0da39;\"/>\r\n    <path clip-path=\"url(#p3e2599a388)\" d=\"M 167.274862 168.483289 \r\nC 168.03616 168.483289 168.76638 168.180822 169.3047 167.642502 \r\nC 169.843019 167.104183 170.145486 166.373963 170.145486 165.612664 \r\nC 170.145486 164.851366 169.843019 164.121146 169.3047 163.582826 \r\nC 168.76638 163.044507 168.03616 162.74204 167.274862 162.74204 \r\nC 166.513563 162.74204 165.783343 163.044507 165.245024 163.582826 \r\nC 164.706704 164.121146 164.404237 164.851366 164.404237 165.612664 \r\nC 164.404237 166.373963 164.706704 167.104183 165.245024 167.642502 \r\nC 165.783343 168.180822 166.513563 168.483289 167.274862 168.483289 \r\nz\r\n\" style=\"fill:#86d549;stroke:#86d549;\"/>\r\n    <path clip-path=\"url(#p3e2599a388)\" d=\"M 170.607297 165.822147 \r\nC 171.374732 165.822147 172.110838 165.517242 172.653496 164.974584 \r\nC 173.196155 164.431925 173.50106 163.695819 173.50106 162.928384 \r\nC 173.50106 162.16095 173.196155 161.424844 172.653496 160.882185 \r\nC 172.110838 160.339527 171.374732 160.034622 170.607297 160.034622 \r\nC 169.839862 160.034622 169.103756 160.339527 168.561098 160.882185 \r\nC 168.018439 161.424844 167.713534 162.16095 167.713534 162.928384 \r\nC 167.713534 163.695819 168.018439 164.431925 168.561098 164.974584 \r\nC 169.103756 165.517242 169.839862 165.822147 170.607297 165.822147 \r\nz\r\n\" style=\"fill:#93d741;stroke:#93d741;\"/>\r\n    <path clip-path=\"url(#p3e2599a388)\" d=\"M 187.688496 166.819244 \r\nC 188.451155 166.819244 189.18268 166.516237 189.721961 165.976956 \r\nC 190.261242 165.437674 190.564249 164.706149 190.564249 163.943491 \r\nC 190.564249 163.180832 190.261242 162.449307 189.721961 161.910026 \r\nC 189.18268 161.370745 188.451155 161.067737 187.688496 161.067737 \r\nC 186.925837 161.067737 186.194312 161.370745 185.655031 161.910026 \r\nC 185.11575 162.449307 184.812743 163.180832 184.812743 163.943491 \r\nC 184.812743 164.706149 185.11575 165.437674 185.655031 165.976956 \r\nC 186.194312 166.516237 186.925837 166.819244 187.688496 166.819244 \r\nz\r\n\" style=\"fill:#89d548;stroke:#89d548;\"/>\r\n    <path clip-path=\"url(#p3e2599a388)\" d=\"M 195.345157 166.708455 \r\nC 196.102339 166.708455 196.828611 166.407623 197.36402 165.872214 \r\nC 197.899429 165.336805 198.200261 164.610533 198.200261 163.853351 \r\nC 198.200261 163.096168 197.899429 162.369896 197.36402 161.834487 \r\nC 196.828611 161.299078 196.102339 160.998247 195.345157 160.998247 \r\nC 194.587974 160.998247 193.861702 161.299078 193.326293 161.834487 \r\nC 192.790884 162.369896 192.490053 163.096168 192.490053 163.853351 \r\nC 192.490053 164.610533 192.790884 165.336805 193.326293 165.872214 \r\nC 193.861702 166.407623 194.587974 166.708455 195.345157 166.708455 \r\nz\r\n\" style=\"fill:#7fd34e;stroke:#7fd34e;\"/>\r\n    <path clip-path=\"url(#p3e2599a388)\" d=\"M 189.087758 163.511486 \r\nC 189.856988 163.511486 190.594816 163.205868 191.138744 162.66194 \r\nC 191.682672 162.118012 191.98829 161.380184 191.98829 160.610954 \r\nC 191.98829 159.841724 191.682672 159.103896 191.138744 158.559969 \r\nC 190.594816 158.016041 189.856988 157.710423 189.087758 157.710423 \r\nC 188.318528 157.710423 187.5807 158.016041 187.036773 158.559969 \r\nC 186.492845 159.103896 186.187227 159.841724 186.187227 160.610954 \r\nC 186.187227 161.380184 186.492845 162.118012 187.036773 162.66194 \r\nC 187.5807 163.205868 188.318528 163.511486 189.087758 163.511486 \r\nz\r\n\" style=\"fill:#95d840;stroke:#95d840;\"/>\r\n    <path clip-path=\"url(#p3e2599a388)\" d=\"M 173.573315 161.21513 \r\nC 174.33563 161.21513 175.066825 160.912259 175.605863 160.373221 \r\nC 176.144901 159.834183 176.447772 159.102988 176.447772 158.340673 \r\nC 176.447772 157.578359 176.144901 156.847164 175.605863 156.308126 \r\nC 175.066825 155.769088 174.33563 155.466217 173.573315 155.466217 \r\nC 172.811001 155.466217 172.079806 155.769088 171.540768 156.308126 \r\nC 171.00173 156.847164 170.698859 157.578359 170.698859 158.340673 \r\nC 170.698859 159.102988 171.00173 159.834183 171.540768 160.373221 \r\nC 172.079806 160.912259 172.811001 161.21513 173.573315 161.21513 \r\nz\r\n\" style=\"fill:#89d548;stroke:#89d548;\"/>\r\n    <path clip-path=\"url(#p3e2599a388)\" d=\"M 180.383012 162.781149 \r\nC 181.140934 162.781149 181.867917 162.480023 182.403849 161.94409 \r\nC 182.939781 161.408158 183.240907 160.681176 183.240907 159.923253 \r\nC 183.240907 159.16533 182.939781 158.438348 182.403849 157.902416 \r\nC 181.867917 157.366484 181.140934 157.065358 180.383012 157.065358 \r\nC 179.625089 157.065358 178.898107 157.366484 178.362174 157.902416 \r\nC 177.826242 158.438348 177.525116 159.16533 177.525116 159.923253 \r\nC 177.525116 160.681176 177.826242 161.408158 178.362174 161.94409 \r\nC 178.898107 162.480023 179.625089 162.781149 180.383012 162.781149 \r\nz\r\n\" style=\"fill:#7fd34e;stroke:#7fd34e;\"/>\r\n    <path clip-path=\"url(#p3e2599a388)\" d=\"M 179.644143 169.391884 \r\nC 180.402442 169.391884 181.129785 169.090609 181.665983 168.554411 \r\nC 182.202181 168.018213 182.503456 167.29087 182.503456 166.532572 \r\nC 182.503456 165.774273 182.202181 165.04693 181.665983 164.510732 \r\nC 181.129785 163.974534 180.402442 163.673259 179.644143 163.673259 \r\nC 178.885845 163.673259 178.158502 163.974534 177.622304 164.510732 \r\nC 177.086106 165.04693 176.784831 165.774273 176.784831 166.532572 \r\nC 176.784831 167.29087 177.086106 168.018213 177.622304 168.554411 \r\nC 178.158502 169.090609 178.885845 169.391884 179.644143 169.391884 \r\nz\r\n\" style=\"fill:#81d34d;stroke:#81d34d;\"/>\r\n    <path clip-path=\"url(#p3e2599a388)\" d=\"M 185.060315 173.843493 \r\nC 185.829506 173.843493 186.567295 173.53789 187.111195 172.993991 \r\nC 187.655095 172.450091 187.960697 171.712301 187.960697 170.943111 \r\nC 187.960697 170.173921 187.655095 169.436131 187.111195 168.892232 \r\nC 186.567295 168.348332 185.829506 168.042729 185.060315 168.042729 \r\nC 184.291125 168.042729 183.553335 168.348332 183.009436 168.892232 \r\nC 182.465536 169.436131 182.159934 170.173921 182.159934 170.943111 \r\nC 182.159934 171.712301 182.465536 172.450091 183.009436 172.993991 \r\nC 183.553335 173.53789 184.291125 173.843493 185.060315 173.843493 \r\nz\r\n\" style=\"fill:#95d840;stroke:#95d840;\"/>\r\n    <path clip-path=\"url(#p3e2599a388)\" d=\"M 186.11749 173.324963 \r\nC 186.893299 173.324963 187.637438 173.016731 188.186018 172.468151 \r\nC 188.734598 171.919571 189.04283 171.175432 189.04283 170.399623 \r\nC 189.04283 169.623814 188.734598 168.879676 188.186018 168.331096 \r\nC 187.637438 167.782516 186.893299 167.474284 186.11749 167.474284 \r\nC 185.341681 167.474284 184.597543 167.782516 184.048963 168.331096 \r\nC 183.500383 168.879676 183.192151 169.623814 183.192151 170.399623 \r\nC 183.192151 171.175432 183.500383 171.919571 184.048963 172.468151 \r\nC 184.597543 173.016731 185.341681 173.324963 186.11749 173.324963 \r\nz\r\n\" style=\"fill:#a2da37;stroke:#a2da37;\"/>\r\n    <path clip-path=\"url(#p3e2599a388)\" d=\"M 186.389287 179.966258 \r\nC 187.162435 179.966258 187.904021 179.659083 188.450719 179.112385 \r\nC 188.997417 178.565687 189.304592 177.824101 189.304592 177.050953 \r\nC 189.304592 176.277805 188.997417 175.536218 188.450719 174.98952 \r\nC 187.904021 174.442822 187.162435 174.135647 186.389287 174.135647 \r\nC 185.616138 174.135647 184.874552 174.442822 184.327854 174.98952 \r\nC 183.781156 175.536218 183.473981 176.277805 183.473981 177.050953 \r\nC 183.473981 177.824101 183.781156 178.565687 184.327854 179.112385 \r\nC 184.874552 179.659083 185.616138 179.966258 186.389287 179.966258 \r\nz\r\n\" style=\"fill:#9dd93b;stroke:#9dd93b;\"/>\r\n    <path clip-path=\"url(#p3e2599a388)\" d=\"M 213.516948 180.521937 \r\nC 214.286995 180.521937 215.025607 180.215994 215.570112 179.671489 \r\nC 216.114618 179.126984 216.420561 178.388372 216.420561 177.618325 \r\nC 216.420561 176.848278 216.114618 176.109667 215.570112 175.565161 \r\nC 215.025607 175.020656 214.286995 174.714713 213.516948 174.714713 \r\nC 212.746901 174.714713 212.00829 175.020656 211.463785 175.565161 \r\nC 210.919279 176.109667 210.613336 176.848278 210.613336 177.618325 \r\nC 210.613336 178.388372 210.919279 179.126984 211.463785 179.671489 \r\nC 212.00829 180.215994 212.746901 180.521937 213.516948 180.521937 \r\nz\r\n\" style=\"fill:#98d83e;stroke:#98d83e;\"/>\r\n    <path clip-path=\"url(#p3e2599a388)\" d=\"M 213.460743 182.160218 \r\nC 214.217429 182.160218 214.943225 181.859583 215.478282 181.324525 \r\nC 216.01334 180.789468 216.313974 180.063672 216.313974 179.306986 \r\nC 216.313974 178.5503 216.01334 177.824504 215.478282 177.289446 \r\nC 214.943225 176.754389 214.217429 176.453754 213.460743 176.453754 \r\nC 212.704057 176.453754 211.978261 176.754389 211.443203 177.289446 \r\nC 210.908145 177.824504 210.607511 178.5503 210.607511 179.306986 \r\nC 210.607511 180.063672 210.908145 180.789468 211.443203 181.324525 \r\nC 211.978261 181.859583 212.704057 182.160218 213.460743 182.160218 \r\nz\r\n\" style=\"fill:#7fd34e;stroke:#7fd34e;\"/>\r\n    <path clip-path=\"url(#p3e2599a388)\" d=\"M 212.000622 178.406464 \r\nC 212.748428 178.406464 213.465706 178.109358 213.994484 177.58058 \r\nC 214.523263 177.051801 214.820369 176.334523 214.820369 175.586717 \r\nC 214.820369 174.838912 214.523263 174.121634 213.994484 173.592855 \r\nC 213.465706 173.064077 212.748428 172.766971 212.000622 172.766971 \r\nC 211.252816 172.766971 210.535538 173.064077 210.00676 173.592855 \r\nC 209.477981 174.121634 209.180875 174.838912 209.180875 175.586717 \r\nC 209.180875 176.334523 209.477981 177.051801 210.00676 177.58058 \r\nC 210.535538 178.109358 211.252816 178.406464 212.000622 178.406464 \r\nz\r\n\" style=\"fill:#6ece58;stroke:#6ece58;\"/>\r\n    <path clip-path=\"url(#p3e2599a388)\" d=\"M 210.887058 183.284448 \r\nC 211.627131 183.284448 212.336991 182.990414 212.860301 182.467104 \r\nC 213.383612 181.943794 213.677645 181.233933 213.677645 180.493861 \r\nC 213.677645 179.753789 213.383612 179.043928 212.860301 178.520618 \r\nC 212.336991 177.997308 211.627131 177.703274 210.887058 177.703274 \r\nC 210.146986 177.703274 209.437125 177.997308 208.913815 178.520618 \r\nC 208.390505 179.043928 208.096471 179.753789 208.096471 180.493861 \r\nC 208.096471 181.233933 208.390505 181.943794 208.913815 182.467104 \r\nC 209.437125 182.990414 210.146986 183.284448 210.887058 183.284448 \r\nz\r\n\" style=\"fill:#60ca60;stroke:#60ca60;\"/>\r\n    <path clip-path=\"url(#p3e2599a388)\" d=\"M 205.536605 190.469826 \r\nC 206.274902 190.469826 206.983059 190.176498 207.505114 189.654443 \r\nC 208.027169 189.132388 208.320497 188.424231 208.320497 187.685934 \r\nC 208.320497 186.947637 208.027169 186.23948 207.505114 185.717425 \r\nC 206.983059 185.195371 206.274902 184.902042 205.536605 184.902042 \r\nC 204.798308 184.902042 204.090151 185.195371 203.568096 185.717425 \r\nC 203.046041 186.23948 202.752713 186.947637 202.752713 187.685934 \r\nC 202.752713 188.424231 203.046041 189.132388 203.568096 189.654443 \r\nC 204.090151 190.176498 204.798308 190.469826 205.536605 190.469826 \r\nz\r\n\" style=\"fill:#5ec962;stroke:#5ec962;\"/>\r\n    <path clip-path=\"url(#p3e2599a388)\" d=\"M 214.615142 192.119993 \r\nC 215.37673 192.119993 216.107227 191.817411 216.645751 191.278887 \r\nC 217.184275 190.740363 217.486857 190.009865 217.486857 189.248278 \r\nC 217.486857 188.48669 217.184275 187.756193 216.645751 187.217669 \r\nC 216.107227 186.679145 215.37673 186.376563 214.615142 186.376563 \r\nC 213.853554 186.376563 213.123057 186.679145 212.584533 187.217669 \r\nC 212.046009 187.756193 211.743427 188.48669 211.743427 189.248278 \r\nC 211.743427 190.009865 212.046009 190.740363 212.584533 191.278887 \r\nC 213.123057 191.817411 213.853554 192.119993 214.615142 192.119993 \r\nz\r\n\" style=\"fill:#86d549;stroke:#86d549;\"/>\r\n    <path clip-path=\"url(#p3e2599a388)\" d=\"M 211.371565 189.727184 \r\nC 212.125315 189.727184 212.848295 189.427716 213.381277 188.894734 \r\nC 213.914258 188.361752 214.213726 187.638773 214.213726 186.885023 \r\nC 214.213726 186.131273 213.914258 185.408293 213.381277 184.875311 \r\nC 212.848295 184.34233 212.125315 184.042862 211.371565 184.042862 \r\nC 210.617816 184.042862 209.894836 184.34233 209.361854 184.875311 \r\nC 208.828873 185.408293 208.529405 186.131273 208.529405 186.885023 \r\nC 208.529405 187.638773 208.828873 188.361752 209.361854 188.894734 \r\nC 209.894836 189.427716 210.617816 189.727184 211.371565 189.727184 \r\nz\r\n\" style=\"fill:#77d153;stroke:#77d153;\"/>\r\n    <path clip-path=\"url(#p3e2599a388)\" d=\"M 217.20253 185.730782 \r\nC 217.952821 185.730782 218.672483 185.432688 219.20302 184.902152 \r\nC 219.733556 184.371616 220.03165 183.651953 220.03165 182.901662 \r\nC 220.03165 182.15137 219.733556 181.431708 219.20302 180.901172 \r\nC 218.672483 180.370636 217.952821 180.072542 217.20253 180.072542 \r\nC 216.452238 180.072542 215.732576 180.370636 215.202039 180.901172 \r\nC 214.671503 181.431708 214.373409 182.15137 214.373409 182.901662 \r\nC 214.373409 183.651953 214.671503 184.371616 215.202039 184.902152 \r\nC 215.732576 185.432688 216.452238 185.730782 217.20253 185.730782 \r\nz\r\n\" style=\"fill:#73d056;stroke:#73d056;\"/>\r\n    <path clip-path=\"url(#p3e2599a388)\" d=\"M 219.812057 189.024069 \r\nC 220.537901 189.024069 221.234114 188.735688 221.747363 188.222438 \r\nC 222.260613 187.709189 222.548994 187.012976 222.548994 186.287132 \r\nC 222.548994 185.561288 222.260613 184.865075 221.747363 184.351826 \r\nC 221.234114 183.838577 220.537901 183.550196 219.812057 183.550196 \r\nC 219.086213 183.550196 218.39 183.838577 217.876751 184.351826 \r\nC 217.363502 184.865075 217.075121 185.561288 217.075121 186.287132 \r\nC 217.075121 187.012976 217.363502 187.709189 217.876751 188.222438 \r\nC 218.39 188.735688 219.086213 189.024069 219.812057 189.024069 \r\nz\r\n\" style=\"fill:#4cc26c;stroke:#4cc26c;\"/>\r\n    <path clip-path=\"url(#p3e2599a388)\" d=\"M 230.988949 187.300546 \r\nC 231.722031 187.300546 232.425187 187.009289 232.943554 186.490922 \r\nC 233.461922 185.972554 233.753178 185.269399 233.753178 184.536317 \r\nC 233.753178 183.803234 233.461922 183.100079 232.943554 182.581711 \r\nC 232.425187 182.063344 231.722031 181.772087 230.988949 181.772087 \r\nC 230.255867 181.772087 229.552711 182.063344 229.034344 182.581711 \r\nC 228.515976 183.100079 228.224719 183.803234 228.224719 184.536317 \r\nC 228.224719 185.269399 228.515976 185.972554 229.034344 186.490922 \r\nC 229.552711 187.009289 230.255867 187.300546 230.988949 187.300546 \r\nz\r\n\" style=\"fill:#56c667;stroke:#56c667;\"/>\r\n    <path clip-path=\"url(#p3e2599a388)\" d=\"M 234.841579 191.366179 \r\nC 235.555493 191.366179 236.240263 191.082538 236.745076 190.577725 \r\nC 237.249889 190.072912 237.53353 189.388142 237.53353 188.674228 \r\nC 237.53353 187.960314 237.249889 187.275544 236.745076 186.770731 \r\nC 236.240263 186.265918 235.555493 185.982277 234.841579 185.982277 \r\nC 234.127665 185.982277 233.442895 186.265918 232.938082 186.770731 \r\nC 232.433269 187.275544 232.149628 187.960314 232.149628 188.674228 \r\nC 232.149628 189.388142 232.433269 190.072912 232.938082 190.577725 \r\nC 233.442895 191.082538 234.127665 191.366179 234.841579 191.366179 \r\nz\r\n\" style=\"fill:#3bbb75;stroke:#3bbb75;\"/>\r\n    <path clip-path=\"url(#p3e2599a388)\" d=\"M 223.716044 194.11167 \r\nC 224.418705 194.11167 225.092681 193.8325 225.589537 193.335644 \r\nC 226.086393 192.838788 226.365563 192.164811 226.365563 191.46215 \r\nC 226.365563 190.75949 226.086393 190.085513 225.589537 189.588657 \r\nC 225.092681 189.091801 224.418705 188.812631 223.716044 188.812631 \r\nC 223.013383 188.812631 222.339407 189.091801 221.84255 189.588657 \r\nC 221.345694 190.085513 221.066524 190.75949 221.066524 191.46215 \r\nC 221.066524 192.164811 221.345694 192.838788 221.84255 193.335644 \r\nC 222.339407 193.8325 223.013383 194.11167 223.716044 194.11167 \r\nz\r\n\" style=\"fill:#31b57b;stroke:#31b57b;\"/>\r\n    <path clip-path=\"url(#p3e2599a388)\" d=\"M 211.553466 192.047214 \r\nC 212.26905 192.047214 212.955421 191.76291 213.461415 191.256916 \r\nC 213.967409 190.750922 214.251713 190.06455 214.251713 189.348967 \r\nC 214.251713 188.633383 213.967409 187.947012 213.461415 187.441018 \r\nC 212.955421 186.935024 212.26905 186.650719 211.553466 186.650719 \r\nC 210.837882 186.650719 210.151511 186.935024 209.645517 187.441018 \r\nC 209.139523 187.947012 208.855219 188.633383 208.855219 189.348967 \r\nC 208.855219 190.06455 209.139523 190.750922 209.645517 191.256916 \r\nC 210.151511 191.76291 210.837882 192.047214 211.553466 192.047214 \r\nz\r\n\" style=\"fill:#3fbc73;stroke:#3fbc73;\"/>\r\n    <path clip-path=\"url(#p3e2599a388)\" d=\"M 224.466815 189.274161 \r\nC 225.156052 189.274161 225.817153 189.000324 226.304518 188.512959 \r\nC 226.791882 188.025595 227.065719 187.364494 227.065719 186.675256 \r\nC 227.065719 185.986018 226.791882 185.324917 226.304518 184.837553 \r\nC 225.817153 184.350188 225.156052 184.076351 224.466815 184.076351 \r\nC 223.777577 184.076351 223.116476 184.350188 222.629111 184.837553 \r\nC 222.141747 185.324917 221.86791 185.986018 221.86791 186.675256 \r\nC 221.86791 187.364494 222.141747 188.025595 222.629111 188.512959 \r\nC 223.116476 189.000324 223.777577 189.274161 224.466815 189.274161 \r\nz\r\n\" style=\"fill:#25ac82;stroke:#25ac82;\"/>\r\n    <path clip-path=\"url(#p3e2599a388)\" d=\"M 218.88554 192.999515 \r\nC 219.576 192.999515 220.238274 192.725192 220.726503 192.236963 \r\nC 221.214732 191.748734 221.489054 191.086461 221.489054 190.396001 \r\nC 221.489054 189.705541 221.214732 189.043267 220.726503 188.555038 \r\nC 220.238274 188.066809 219.576 187.792487 218.88554 187.792487 \r\nC 218.19508 187.792487 217.532807 188.066809 217.044578 188.555038 \r\nC 216.556349 189.043267 216.282026 189.705541 216.282026 190.396001 \r\nC 216.282026 191.086461 216.556349 191.748734 217.044578 192.236963 \r\nC 217.532807 192.725192 218.19508 192.999515 218.88554 192.999515 \r\nz\r\n\" style=\"fill:#26ad81;stroke:#26ad81;\"/>\r\n    <path clip-path=\"url(#p3e2599a388)\" d=\"M 206.776924 191.269619 \r\nC 207.477508 191.269619 208.149492 190.991274 208.64488 190.495886 \r\nC 209.140267 190.000499 209.418612 189.328515 209.418612 188.627931 \r\nC 209.418612 187.927347 209.140267 187.255362 208.64488 186.759975 \r\nC 208.149492 186.264587 207.477508 185.986242 206.776924 185.986242 \r\nC 206.07634 185.986242 205.404356 186.264587 204.908968 186.759975 \r\nC 204.41358 187.255362 204.135235 187.927347 204.135235 188.627931 \r\nC 204.135235 189.328515 204.41358 190.000499 204.908968 190.495886 \r\nC 205.404356 190.991274 206.07634 191.269619 206.776924 191.269619 \r\nz\r\n\" style=\"fill:#2eb37c;stroke:#2eb37c;\"/>\r\n    <path clip-path=\"url(#p3e2599a388)\" d=\"M 200.637185 198.297359 \r\nC 201.356657 198.297359 202.046759 198.01151 202.555502 197.502766 \r\nC 203.064246 196.994023 203.350095 196.303922 203.350095 195.584449 \r\nC 203.350095 194.864977 203.064246 194.174876 202.555502 193.666133 \r\nC 202.046759 193.157389 201.356657 192.87154 200.637185 192.87154 \r\nC 199.917713 192.87154 199.227612 193.157389 198.718868 193.666133 \r\nC 198.210125 194.174876 197.924275 194.864977 197.924275 195.584449 \r\nC 197.924275 196.303922 198.210125 196.994023 198.718868 197.502766 \r\nC 199.227612 198.01151 199.917713 198.297359 200.637185 198.297359 \r\nz\r\n\" style=\"fill:#42be71;stroke:#42be71;\"/>\r\n    <path clip-path=\"url(#p3e2599a388)\" d=\"M 212.232545 199.009138 \r\nC 212.940685 199.009138 213.619917 198.727791 214.120647 198.227061 \r\nC 214.621377 197.72633 214.902724 197.047099 214.902724 196.338959 \r\nC 214.902724 195.630819 214.621377 194.951587 214.120647 194.450857 \r\nC 213.619917 193.950127 212.940685 193.66878 212.232545 193.66878 \r\nC 211.524405 193.66878 210.845174 193.950127 210.344443 194.450857 \r\nC 209.843713 194.951587 209.562366 195.630819 209.562366 196.338959 \r\nC 209.562366 197.047099 209.843713 197.72633 210.344443 198.227061 \r\nC 210.845174 198.727791 211.524405 199.009138 212.232545 199.009138 \r\nz\r\n\" style=\"fill:#35b779;stroke:#35b779;\"/>\r\n    <path clip-path=\"url(#p3e2599a388)\" d=\"M 199.2106 203.202626 \r\nC 199.91095 203.202626 200.582709 202.924374 201.077931 202.429152 \r\nC 201.573153 201.93393 201.851405 201.262171 201.851405 200.561821 \r\nC 201.851405 199.861472 201.573153 199.189712 201.077931 198.69449 \r\nC 200.582709 198.199268 199.91095 197.921016 199.2106 197.921016 \r\nC 198.510251 197.921016 197.838491 198.199268 197.343269 198.69449 \r\nC 196.848047 199.189712 196.569795 199.861472 196.569795 200.561821 \r\nC 196.569795 201.262171 196.848047 201.93393 197.343269 202.429152 \r\nC 197.838491 202.924374 198.510251 203.202626 199.2106 203.202626 \r\nz\r\n\" style=\"fill:#2eb37c;stroke:#2eb37c;\"/>\r\n    <path clip-path=\"url(#p3e2599a388)\" d=\"M 191.265698 206.293804 \r\nC 191.988344 206.293804 192.68149 206.006694 193.192478 205.495706 \r\nC 193.703466 204.984718 193.990576 204.291573 193.990576 203.568927 \r\nC 193.990576 202.846281 193.703466 202.153135 193.192478 201.642147 \r\nC 192.68149 201.131159 191.988344 200.844049 191.265698 200.844049 \r\nC 190.543052 200.844049 189.849907 201.131159 189.338919 201.642147 \r\nC 188.827931 202.153135 188.54082 202.846281 188.54082 203.568927 \r\nC 188.54082 204.291573 188.827931 204.984718 189.338919 205.495706 \r\nC 189.849907 206.006694 190.543052 206.293804 191.265698 206.293804 \r\nz\r\n\" style=\"fill:#48c16e;stroke:#48c16e;\"/>\r\n    <path clip-path=\"url(#p3e2599a388)\" d=\"M 185.151735 211.043555 \r\nC 185.874076 211.043555 186.566929 210.756566 187.077701 210.245793 \r\nC 187.588473 209.735021 187.875463 209.042168 187.875463 208.319827 \r\nC 187.875463 207.597486 187.588473 206.904633 187.077701 206.39386 \r\nC 186.566929 205.883088 185.874076 205.596099 185.151735 205.596099 \r\nC 184.429393 205.596099 183.73654 205.883088 183.225768 206.39386 \r\nC 182.714996 206.904633 182.428007 207.597486 182.428007 208.319827 \r\nC 182.428007 209.042168 182.714996 209.735021 183.225768 210.245793 \r\nC 183.73654 210.756566 184.429393 211.043555 185.151735 211.043555 \r\nz\r\n\" style=\"fill:#46c06f;stroke:#46c06f;\"/>\r\n    <path clip-path=\"url(#p3e2599a388)\" d=\"M 173.679564 208.948374 \r\nC 174.392888 208.948374 175.077092 208.664968 175.581488 208.160572 \r\nC 176.085884 207.656176 176.36929 206.971972 176.36929 206.258648 \r\nC 176.36929 205.545324 176.085884 204.86112 175.581488 204.356724 \r\nC 175.077092 203.852328 174.392888 203.568921 173.679564 203.568921 \r\nC 172.96624 203.568921 172.282036 203.852328 171.77764 204.356724 \r\nC 171.273244 204.86112 170.989838 205.545324 170.989838 206.258648 \r\nC 170.989838 206.971972 171.273244 207.656176 171.77764 208.160572 \r\nC 172.282036 208.664968 172.96624 208.948374 173.679564 208.948374 \r\nz\r\n\" style=\"fill:#3bbb75;stroke:#3bbb75;\"/>\r\n    <path clip-path=\"url(#p3e2599a388)\" d=\"M 162.820457 206.852719 \r\nC 163.524882 206.852719 164.200551 206.572848 164.698655 206.074744 \r\nC 165.196759 205.57664 165.47663 204.900971 165.47663 204.196545 \r\nC 165.47663 203.49212 165.196759 202.816451 164.698655 202.318347 \r\nC 164.200551 201.820243 163.524882 201.540372 162.820457 201.540372 \r\nC 162.116031 201.540372 161.440362 201.820243 160.942258 202.318347 \r\nC 160.444154 202.816451 160.164283 203.49212 160.164283 204.196545 \r\nC 160.164283 204.900971 160.444154 205.57664 160.942258 206.074744 \r\nC 161.440362 206.572848 162.116031 206.852719 162.820457 206.852719 \r\nz\r\n\" style=\"fill:#32b67a;stroke:#32b67a;\"/>\r\n    <path clip-path=\"url(#p3e2599a388)\" d=\"M 148.900912 209.379923 \r\nC 149.593093 209.379923 150.257017 209.104916 150.746463 208.615471 \r\nC 151.235909 208.126025 151.510915 207.4621 151.510915 206.769919 \r\nC 151.510915 206.077738 151.235909 205.413814 150.746463 204.924368 \r\nC 150.257017 204.434922 149.593093 204.159916 148.900912 204.159916 \r\nC 148.208731 204.159916 147.544806 204.434922 147.055361 204.924368 \r\nC 146.565915 205.413814 146.290908 206.077738 146.290908 206.769919 \r\nC 146.290908 207.4621 146.565915 208.126025 147.055361 208.615471 \r\nC 147.544806 209.104916 148.208731 209.379923 148.900912 209.379923 \r\nz\r\n\" style=\"fill:#27ad81;stroke:#27ad81;\"/>\r\n    <path clip-path=\"url(#p3e2599a388)\" d=\"M 144.67228 207.960468 \r\nC 145.358854 207.960468 146.0174 207.68769 146.502881 207.202209 \r\nC 146.988362 206.716728 147.261141 206.058181 147.261141 205.371608 \r\nC 147.261141 204.685034 146.988362 204.026488 146.502881 203.541007 \r\nC 146.0174 203.055526 145.358854 202.782747 144.67228 202.782747 \r\nC 143.985706 202.782747 143.32716 203.055526 142.841679 203.541007 \r\nC 142.356198 204.026488 142.08342 204.685034 142.08342 205.371608 \r\nC 142.08342 206.058181 142.356198 206.716728 142.841679 207.202209 \r\nC 143.32716 207.68769 143.985706 207.960468 144.67228 207.960468 \r\nz\r\n\" style=\"fill:#24aa83;stroke:#24aa83;\"/>\r\n    <path clip-path=\"url(#p3e2599a388)\" d=\"M 141.418118 207.039758 \r\nC 142.118488 207.039758 142.790267 206.761498 143.285503 206.266262 \r\nC 143.78074 205.771026 144.059 205.099247 144.059 204.398877 \r\nC 144.059 203.698507 143.78074 203.026728 143.285503 202.531492 \r\nC 142.790267 202.036255 142.118488 201.757995 141.418118 201.757995 \r\nC 140.717748 201.757995 140.045969 202.036255 139.550733 202.531492 \r\nC 139.055497 203.026728 138.777237 203.698507 138.777237 204.398877 \r\nC 138.777237 205.099247 139.055497 205.771026 139.550733 206.266262 \r\nC 140.045969 206.761498 140.717748 207.039758 141.418118 207.039758 \r\nz\r\n\" style=\"fill:#2eb37c;stroke:#2eb37c;\"/>\r\n    <path clip-path=\"url(#p3e2599a388)\" d=\"M 135.15992 207.559682 \r\nC 135.871347 207.559682 136.553731 207.277029 137.056785 206.773974 \r\nC 137.55984 206.27092 137.842493 205.588536 137.842493 204.877109 \r\nC 137.842493 204.165682 137.55984 203.483298 137.056785 202.980244 \r\nC 136.553731 202.477189 135.871347 202.194536 135.15992 202.194536 \r\nC 134.448493 202.194536 133.766109 202.477189 133.263055 202.980244 \r\nC 132.76 203.483298 132.477347 204.165682 132.477347 204.877109 \r\nC 132.477347 205.588536 132.76 206.27092 133.263055 206.773974 \r\nC 133.766109 207.277029 134.448493 207.559682 135.15992 207.559682 \r\nz\r\n\" style=\"fill:#3aba76;stroke:#3aba76;\"/>\r\n    <path clip-path=\"url(#p3e2599a388)\" d=\"M 119.997151 199.469418 \r\nC 120.693915 199.469418 121.362235 199.192591 121.854922 198.699904 \r\nC 122.347609 198.207217 122.624436 197.538897 122.624436 196.842133 \r\nC 122.624436 196.145368 122.347609 195.477048 121.854922 194.984361 \r\nC 121.362235 194.491675 120.693915 194.214847 119.997151 194.214847 \r\nC 119.300386 194.214847 118.632066 194.491675 118.139379 194.984361 \r\nC 117.646692 195.477048 117.369865 196.145368 117.369865 196.842133 \r\nC 117.369865 197.538897 117.646692 198.207217 118.139379 198.699904 \r\nC 118.632066 199.192591 119.300386 199.469418 119.997151 199.469418 \r\nz\r\n\" style=\"fill:#2ab07f;stroke:#2ab07f;\"/>\r\n    <path clip-path=\"url(#p3e2599a388)\" d=\"M 131.488998 202.610241 \r\nC 132.188465 202.610241 132.859378 202.33234 133.353975 201.837743 \r\nC 133.848573 201.343145 134.126474 200.672233 134.126474 199.972766 \r\nC 134.126474 199.2733 133.848573 198.602387 133.353975 198.10779 \r\nC 132.859378 197.613192 132.188465 197.335291 131.488998 197.335291 \r\nC 130.789532 197.335291 130.118619 197.613192 129.624022 198.10779 \r\nC 129.129424 198.602387 128.851523 199.2733 128.851523 199.972766 \r\nC 128.851523 200.672233 129.129424 201.343145 129.624022 201.837743 \r\nC 130.118619 202.33234 130.789532 202.610241 131.488998 202.610241 \r\nz\r\n\" style=\"fill:#2db27d;stroke:#2db27d;\"/>\r\n    <path clip-path=\"url(#p3e2599a388)\" d=\"M 119.302663 202.537854 \r\nC 119.997057 202.537854 120.663103 202.261968 121.154114 201.770958 \r\nC 121.645124 201.279947 121.921009 200.613901 121.921009 199.919508 \r\nC 121.921009 199.225114 121.645124 198.559068 121.154114 198.068057 \r\nC 120.663103 197.577047 119.997057 197.301162 119.302663 197.301162 \r\nC 118.60827 197.301162 117.942224 197.577047 117.451213 198.068057 \r\nC 116.960203 198.559068 116.684317 199.225114 116.684317 199.919508 \r\nC 116.684317 200.613901 116.960203 201.279947 117.451213 201.770958 \r\nC 117.942224 202.261968 118.60827 202.537854 119.302663 202.537854 \r\nz\r\n\" style=\"fill:#29af7f;stroke:#29af7f;\"/>\r\n    <path clip-path=\"url(#p3e2599a388)\" d=\"M 121.851957 203.998591 \r\nC 122.556187 203.998591 123.231668 203.718797 123.729634 203.220831 \r\nC 124.2276 202.722865 124.507394 202.047384 124.507394 201.343154 \r\nC 124.507394 200.638924 124.2276 199.963442 123.729634 199.465476 \r\nC 123.231668 198.96751 122.556187 198.687717 121.851957 198.687717 \r\nC 121.147727 198.687717 120.472245 198.96751 119.974279 199.465476 \r\nC 119.476314 199.963442 119.19652 200.638924 119.19652 201.343154 \r\nC 119.19652 202.047384 119.476314 202.722865 119.974279 203.220831 \r\nC 120.472245 203.718797 121.147727 203.998591 121.851957 203.998591 \r\nz\r\n\" style=\"fill:#32b67a;stroke:#32b67a;\"/>\r\n    <path clip-path=\"url(#p3e2599a388)\" d=\"M 111.997413 205.375376 \r\nC 112.699688 205.375376 113.373295 205.096359 113.869879 204.599775 \r\nC 114.366462 204.103191 114.645479 203.429585 114.645479 202.727309 \r\nC 114.645479 202.025034 114.366462 201.351427 113.869879 200.854844 \r\nC 113.373295 200.35826 112.699688 200.079243 111.997413 200.079243 \r\nC 111.295137 200.079243 110.621531 200.35826 110.124947 200.854844 \r\nC 109.628363 201.351427 109.349346 202.025034 109.349346 202.727309 \r\nC 109.349346 203.429585 109.628363 204.103191 110.124947 204.599775 \r\nC 110.621531 205.096359 111.295137 205.375376 111.997413 205.375376 \r\nz\r\n\" style=\"fill:#2fb47c;stroke:#2fb47c;\"/>\r\n    <path clip-path=\"url(#p3e2599a388)\" d=\"M 118.125216 204.799357 \r\nC 118.832127 204.799357 119.51018 204.518498 120.010042 204.018636 \r\nC 120.509903 203.518775 120.790762 202.840722 120.790762 202.133811 \r\nC 120.790762 201.426899 120.509903 200.748846 120.010042 200.248985 \r\nC 119.51018 199.749123 118.832127 199.468264 118.125216 199.468264 \r\nC 117.418305 199.468264 116.740252 199.749123 116.24039 200.248985 \r\nC 115.740528 200.748846 115.45967 201.426899 115.45967 202.133811 \r\nC 115.45967 202.840722 115.740528 203.518775 116.24039 204.018636 \r\nC 116.740252 204.518498 117.418305 204.799357 118.125216 204.799357 \r\nz\r\n\" style=\"fill:#34b679;stroke:#34b679;\"/>\r\n    <path clip-path=\"url(#p3e2599a388)\" d=\"M 126.889251 205.887959 \r\nC 127.594187 205.887959 128.270345 205.607885 128.76881 205.10942 \r\nC 129.267275 204.610955 129.547349 203.934796 129.547349 203.229861 \r\nC 129.547349 202.524925 129.267275 201.848766 128.76881 201.350301 \r\nC 128.270345 200.851836 127.594187 200.571762 126.889251 200.571762 \r\nC 126.184315 200.571762 125.508157 200.851836 125.009692 201.350301 \r\nC 124.511227 201.848766 124.231153 202.524925 124.231153 203.229861 \r\nC 124.231153 203.934796 124.511227 204.610955 125.009692 205.10942 \r\nC 125.508157 205.607885 126.184315 205.887959 126.889251 205.887959 \r\nz\r\n\" style=\"fill:#32b67a;stroke:#32b67a;\"/>\r\n    <path clip-path=\"url(#p3e2599a388)\" d=\"M 118.842404 208.98645 \r\nC 119.519515 208.98645 120.168984 208.717431 120.647773 208.238642 \r\nC 121.126563 207.759852 121.395582 207.110383 121.395582 206.433273 \r\nC 121.395582 205.756162 121.126563 205.106693 120.647773 204.627904 \r\nC 120.168984 204.149114 119.519515 203.880096 118.842404 203.880096 \r\nC 118.165294 203.880096 117.515825 204.149114 117.037036 204.627904 \r\nC 116.558246 205.106693 116.289227 205.756162 116.289227 206.433273 \r\nC 116.289227 207.110383 116.558246 207.759852 117.037036 208.238642 \r\nC 117.515825 208.717431 118.165294 208.98645 118.842404 208.98645 \r\nz\r\n\" style=\"fill:#20a486;stroke:#20a486;\"/>\r\n    <path clip-path=\"url(#p3e2599a388)\" d=\"M 101.203839 208.526245 \r\nC 101.881559 208.526245 102.531613 208.256984 103.010834 207.777763 \r\nC 103.490055 207.298542 103.759316 206.648488 103.759316 205.970768 \r\nC 103.759316 205.293047 103.490055 204.642993 103.010834 204.163772 \r\nC 102.531613 203.684551 101.881559 203.41529 101.203839 203.41529 \r\nC 100.526118 203.41529 99.876064 203.684551 99.396843 204.163772 \r\nC 98.917622 204.642993 98.648361 205.293047 98.648361 205.970768 \r\nC 98.648361 206.648488 98.917622 207.298542 99.396843 207.777763 \r\nC 99.876064 208.256984 100.526118 208.526245 101.203839 208.526245 \r\nz\r\n\" style=\"fill:#20a486;stroke:#20a486;\"/>\r\n    <path clip-path=\"url(#p3e2599a388)\" d=\"M 107.583518 204.061382 \r\nC 108.244536 204.061382 108.878568 203.798757 109.345978 203.331347 \r\nC 109.813388 202.863937 110.076013 202.229904 110.076013 201.568887 \r\nC 110.076013 200.90787 109.813388 200.273837 109.345978 199.806428 \r\nC 108.878568 199.339018 108.244536 199.076393 107.583518 199.076393 \r\nC 106.922501 199.076393 106.288469 199.339018 105.821059 199.806428 \r\nC 105.353649 200.273837 105.091024 200.90787 105.091024 201.568887 \r\nC 105.091024 202.229904 105.353649 202.863937 105.821059 203.331347 \r\nC 106.288469 203.798757 106.922501 204.061382 107.583518 204.061382 \r\nz\r\n\" style=\"fill:#1f9a8a;stroke:#1f9a8a;\"/>\r\n    <path clip-path=\"url(#p3e2599a388)\" d=\"M 124.78275 200.588606 \r\nC 125.45363 200.588606 126.097123 200.322063 126.571507 199.847678 \r\nC 127.045892 199.373294 127.312435 198.729801 127.312435 198.058921 \r\nC 127.312435 197.38804 127.045892 196.744547 126.571507 196.270163 \r\nC 126.097123 195.795778 125.45363 195.529235 124.78275 195.529235 \r\nC 124.111869 195.529235 123.468376 195.795778 122.993992 196.270163 \r\nC 122.519607 196.744547 122.253064 197.38804 122.253064 198.058921 \r\nC 122.253064 198.729801 122.519607 199.373294 122.993992 199.847678 \r\nC 123.468376 200.322063 124.111869 200.588606 124.78275 200.588606 \r\nz\r\n\" style=\"fill:#1fa188;stroke:#1fa188;\"/>\r\n    <path clip-path=\"url(#p3e2599a388)\" d=\"M 128.594256 199.798843 \r\nC 129.256168 199.798843 129.891059 199.535863 130.359101 199.06782 \r\nC 130.827143 198.599778 131.090123 197.964887 131.090123 197.302976 \r\nC 131.090123 196.641064 130.827143 196.006173 130.359101 195.538131 \r\nC 129.891059 195.070089 129.256168 194.807108 128.594256 194.807108 \r\nC 127.932345 194.807108 127.297454 195.070089 126.829412 195.538131 \r\nC 126.361369 196.006173 126.098389 196.641064 126.098389 197.302976 \r\nC 126.098389 197.964887 126.361369 198.599778 126.829412 199.06782 \r\nC 127.297454 199.535863 127.932345 199.798843 128.594256 199.798843 \r\nz\r\n\" style=\"fill:#1e9b8a;stroke:#1e9b8a;\"/>\r\n    <path clip-path=\"url(#p3e2599a388)\" d=\"M 130.066289 202.506275 \r\nC 130.720116 202.506275 131.347251 202.246507 131.809577 201.784182 \r\nC 132.271902 201.321857 132.53167 200.694722 132.53167 200.040895 \r\nC 132.53167 199.387069 132.271902 198.759933 131.809577 198.297608 \r\nC 131.347251 197.835283 130.720116 197.575515 130.066289 197.575515 \r\nC 129.412463 197.575515 128.785328 197.835283 128.323002 198.297608 \r\nC 127.860677 198.759933 127.600909 199.387069 127.600909 200.040895 \r\nC 127.600909 200.694722 127.860677 201.321857 128.323002 201.784182 \r\nC 128.785328 202.246507 129.412463 202.506275 130.066289 202.506275 \r\nz\r\n\" style=\"fill:#1f968b;stroke:#1f968b;\"/>\r\n    <path clip-path=\"url(#p3e2599a388)\" d=\"M 137.582681 201.811737 \r\nC 138.236388 201.811737 138.863409 201.552017 139.325649 201.089776 \r\nC 139.78789 200.627536 140.04761 200.000515 140.04761 199.346808 \r\nC 140.04761 198.693101 139.78789 198.066081 139.325649 197.60384 \r\nC 138.863409 197.1416 138.236388 196.881879 137.582681 196.881879 \r\nC 136.928975 196.881879 136.301954 197.1416 135.839714 197.60384 \r\nC 135.377473 198.066081 135.117753 198.693101 135.117753 199.346808 \r\nC 135.117753 200.000515 135.377473 200.627536 135.839714 201.089776 \r\nC 136.301954 201.552017 136.928975 201.811737 137.582681 201.811737 \r\nz\r\n\" style=\"fill:#1f968b;stroke:#1f968b;\"/>\r\n    <path clip-path=\"url(#p3e2599a388)\" d=\"M 144.597476 197.802685 \r\nC 145.258908 197.802685 145.893338 197.539895 146.361041 197.072193 \r\nC 146.828744 196.60449 147.091533 195.970059 147.091533 195.308628 \r\nC 147.091533 194.647196 146.828744 194.012766 146.361041 193.545063 \r\nC 145.893338 193.07736 145.258908 192.81457 144.597476 192.81457 \r\nC 143.936044 192.81457 143.301614 193.07736 142.833911 193.545063 \r\nC 142.366208 194.012766 142.103418 194.647196 142.103418 195.308628 \r\nC 142.103418 195.970059 142.366208 196.60449 142.833911 197.072193 \r\nC 143.301614 197.539895 143.936044 197.802685 144.597476 197.802685 \r\nz\r\n\" style=\"fill:#1e9b8a;stroke:#1e9b8a;\"/>\r\n    <path clip-path=\"url(#p3e2599a388)\" d=\"M 136.99647 193.359305 \r\nC 137.655642 193.359305 138.287904 193.097414 138.754009 192.631309 \r\nC 139.220114 192.165204 139.482006 191.532942 139.482006 190.87377 \r\nC 139.482006 190.214598 139.220114 189.582336 138.754009 189.116231 \r\nC 138.287904 188.650126 137.655642 188.388235 136.99647 188.388235 \r\nC 136.337298 188.388235 135.705036 188.650126 135.238931 189.116231 \r\nC 134.772826 189.582336 134.510935 190.214598 134.510935 190.87377 \r\nC 134.510935 191.532942 134.772826 192.165204 135.238931 192.631309 \r\nC 135.705036 193.097414 136.337298 193.359305 136.99647 193.359305 \r\nz\r\n\" style=\"fill:#1f998a;stroke:#1f998a;\"/>\r\n    <path clip-path=\"url(#p3e2599a388)\" d=\"M 130.952706 192.101431 \r\nC 131.633428 192.101431 132.286361 191.830978 132.767704 191.349635 \r\nC 133.249047 190.868292 133.5195 190.215359 133.5195 189.534637 \r\nC 133.5195 188.853915 133.249047 188.200982 132.767704 187.719639 \r\nC 132.286361 187.238296 131.633428 186.967843 130.952706 186.967843 \r\nC 130.271984 186.967843 129.619052 187.238296 129.137709 187.719639 \r\nC 128.656366 188.200982 128.385912 188.853915 128.385912 189.534637 \r\nC 128.385912 190.215359 128.656366 190.868292 129.137709 191.349635 \r\nC 129.619052 191.830978 130.271984 192.101431 130.952706 192.101431 \r\nz\r\n\" style=\"fill:#21a685;stroke:#21a685;\"/>\r\n    <path clip-path=\"url(#p3e2599a388)\" d=\"M 136.556103 193.537029 \r\nC 137.257797 193.537029 137.930845 193.258243 138.427017 192.762071 \r\nC 138.923189 192.265899 139.201975 191.592851 139.201975 190.891157 \r\nC 139.201975 190.189464 138.923189 189.516416 138.427017 189.020243 \r\nC 137.930845 188.524071 137.257797 188.245286 136.556103 188.245286 \r\nC 135.85441 188.245286 135.181362 188.524071 134.685189 189.020243 \r\nC 134.189017 189.516416 133.910232 190.189464 133.910232 190.891157 \r\nC 133.910232 191.592851 134.189017 192.265899 134.685189 192.762071 \r\nC 135.181362 193.258243 135.85441 193.537029 136.556103 193.537029 \r\nz\r\n\" style=\"fill:#2fb47c;stroke:#2fb47c;\"/>\r\n    <path clip-path=\"url(#p3e2599a388)\" d=\"M 135.235644 194.371728 \r\nC 135.958511 194.371728 136.651869 194.084529 137.163013 193.573385 \r\nC 137.674157 193.062241 137.961355 192.368883 137.961355 191.646016 \r\nC 137.961355 190.923149 137.674157 190.229791 137.163013 189.718647 \r\nC 136.651869 189.207502 135.958511 188.920304 135.235644 188.920304 \r\nC 134.512776 188.920304 133.819419 189.207502 133.308274 189.718647 \r\nC 132.79713 190.229791 132.509932 190.923149 132.509932 191.646016 \r\nC 132.509932 192.368883 132.79713 193.062241 133.308274 193.573385 \r\nC 133.819419 194.084529 134.512776 194.371728 135.235644 194.371728 \r\nz\r\n\" style=\"fill:#48c16e;stroke:#48c16e;\"/>\r\n    <path clip-path=\"url(#p3e2599a388)\" d=\"M 147.307612 191.486595 \r\nC 148.027623 191.486595 148.718242 191.200531 149.227367 190.691406 \r\nC 149.736492 190.182281 150.022556 189.491662 150.022556 188.77165 \r\nC 150.022556 188.051638 149.736492 187.361019 149.227367 186.851894 \r\nC 148.718242 186.342769 148.027623 186.056705 147.307612 186.056705 \r\nC 146.5876 186.056705 145.896981 186.342769 145.387856 186.851894 \r\nC 144.878731 187.361019 144.592667 188.051638 144.592667 188.77165 \r\nC 144.592667 189.491662 144.878731 190.182281 145.387856 190.691406 \r\nC 145.896981 191.200531 146.5876 191.486595 147.307612 191.486595 \r\nz\r\n\" style=\"fill:#44bf70;stroke:#44bf70;\"/>\r\n    <path clip-path=\"url(#p3e2599a388)\" d=\"M 140.849492 188.862182 \r\nC 141.551176 188.862182 142.224214 188.5834 142.720379 188.087235 \r\nC 143.216544 187.59107 143.495326 186.918032 143.495326 186.216348 \r\nC 143.495326 185.514665 143.216544 184.841627 142.720379 184.345462 \r\nC 142.224214 183.849297 141.551176 183.570515 140.849492 183.570515 \r\nC 140.147809 183.570515 139.474771 183.849297 138.978606 184.345462 \r\nC 138.482441 184.841627 138.203659 185.514665 138.203659 186.216348 \r\nC 138.203659 186.918032 138.482441 187.59107 138.978606 188.087235 \r\nC 139.474771 188.5834 140.147809 188.862182 140.849492 188.862182 \r\nz\r\n\" style=\"fill:#2fb47c;stroke:#2fb47c;\"/>\r\n    <path clip-path=\"url(#p3e2599a388)\" d=\"M 147.731841 195.463213 \r\nC 148.448648 195.463213 149.136193 195.178423 149.643052 194.671564 \r\nC 150.149911 194.164705 150.434702 193.47716 150.434702 192.760353 \r\nC 150.434702 192.043546 150.149911 191.356001 149.643052 190.849142 \r\nC 149.136193 190.342283 148.448648 190.057492 147.731841 190.057492 \r\nC 147.015034 190.057492 146.327489 190.342283 145.82063 190.849142 \r\nC 145.313771 191.356001 145.028981 192.043546 145.028981 192.760353 \r\nC 145.028981 193.47716 145.313771 194.164705 145.82063 194.671564 \r\nC 146.327489 195.178423 147.015034 195.463213 147.731841 195.463213 \r\nz\r\n\" style=\"fill:#3fbc73;stroke:#3fbc73;\"/>\r\n    <path clip-path=\"url(#p3e2599a388)\" d=\"M 150.873492 192.991823 \r\nC 151.585174 192.991823 152.267803 192.709068 152.771039 192.205833 \r\nC 153.274274 191.702598 153.557028 191.019968 153.557028 190.308286 \r\nC 153.557028 189.596604 153.274274 188.913975 152.771039 188.410739 \r\nC 152.267803 187.907504 151.585174 187.62475 150.873492 187.62475 \r\nC 150.16181 187.62475 149.47918 187.907504 148.975945 188.410739 \r\nC 148.47271 188.913975 148.189955 189.596604 148.189955 190.308286 \r\nC 148.189955 191.019968 148.47271 191.702598 148.975945 192.205833 \r\nC 149.47918 192.709068 150.16181 192.991823 150.873492 192.991823 \r\nz\r\n\" style=\"fill:#3aba76;stroke:#3aba76;\"/>\r\n    <path clip-path=\"url(#p3e2599a388)\" d=\"M 149.714185 190.345438 \r\nC 150.426338 190.345438 151.10942 190.062496 151.612988 189.558927 \r\nC 152.116557 189.055359 152.399498 188.372277 152.399498 187.660124 \r\nC 152.399498 186.94797 152.116557 186.264889 151.612988 185.76132 \r\nC 151.10942 185.257752 150.426338 184.97481 149.714185 184.97481 \r\nC 149.002031 184.97481 148.31895 185.257752 147.815381 185.76132 \r\nC 147.311813 186.264889 147.028871 186.94797 147.028871 187.660124 \r\nC 147.028871 188.372277 147.311813 189.055359 147.815381 189.558927 \r\nC 148.31895 190.062496 149.002031 190.345438 149.714185 190.345438 \r\nz\r\n\" style=\"fill:#3aba76;stroke:#3aba76;\"/>\r\n    <path clip-path=\"url(#p3e2599a388)\" d=\"M 160.49612 193.677586 \r\nC 161.215989 193.677586 161.90647 193.39158 162.415494 192.882556 \r\nC 162.924518 192.373532 163.210525 191.683051 163.210525 190.963182 \r\nC 163.210525 190.243314 162.924518 189.552833 162.415494 189.043809 \r\nC 161.90647 188.534785 161.215989 188.248778 160.49612 188.248778 \r\nC 159.776252 188.248778 159.085771 188.534785 158.576747 189.043809 \r\nC 158.067723 189.552833 157.781716 190.243314 157.781716 190.963182 \r\nC 157.781716 191.683051 158.067723 192.373532 158.576747 192.882556 \r\nC 159.085771 193.39158 159.776252 193.677586 160.49612 193.677586 \r\nz\r\n\" style=\"fill:#44bf70;stroke:#44bf70;\"/>\r\n    <path clip-path=\"url(#p3e2599a388)\" d=\"M 166.731702 196.45073 \r\nC 167.431702 196.45073 168.103125 196.172618 168.5981 195.677643 \r\nC 169.093074 195.182669 169.371187 194.511245 169.371187 193.811246 \r\nC 169.371187 193.111246 169.093074 192.439822 168.5981 191.944848 \r\nC 168.103125 191.449873 167.431702 191.171761 166.731702 191.171761 \r\nC 166.031703 191.171761 165.360279 191.449873 164.865304 191.944848 \r\nC 164.37033 192.439822 164.092217 193.111246 164.092217 193.811246 \r\nC 164.092217 194.511245 164.37033 195.182669 164.865304 195.677643 \r\nC 165.360279 196.172618 166.031703 196.45073 166.731702 196.45073 \r\nz\r\n\" style=\"fill:#2eb37c;stroke:#2eb37c;\"/>\r\n    <path clip-path=\"url(#p3e2599a388)\" d=\"M 157.51715 199.345746 \r\nC 158.23732 199.345746 158.92809 199.05962 159.437327 198.550383 \r\nC 159.946564 198.041146 160.23269 197.350375 160.23269 196.630206 \r\nC 160.23269 195.910036 159.946564 195.219265 159.437327 194.710028 \r\nC 158.92809 194.200792 158.23732 193.914665 157.51715 193.914665 \r\nC 156.79698 193.914665 156.10621 194.200792 155.596973 194.710028 \r\nC 155.087736 195.219265 154.801609 195.910036 154.801609 196.630206 \r\nC 154.801609 197.350375 155.087736 198.041146 155.596973 198.550383 \r\nC 156.10621 199.05962 156.79698 199.345746 157.51715 199.345746 \r\nz\r\n\" style=\"fill:#44bf70;stroke:#44bf70;\"/>\r\n    <path clip-path=\"url(#p3e2599a388)\" d=\"M 163.38732 201.91838 \r\nC 164.118093 201.91838 164.819034 201.628041 165.335769 201.111307 \r\nC 165.852503 200.594572 166.142842 199.893631 166.142842 199.162858 \r\nC 166.142842 198.432085 165.852503 197.731145 165.335769 197.21441 \r\nC 164.819034 196.697676 164.118093 196.407336 163.38732 196.407336 \r\nC 162.656547 196.407336 161.955607 196.697676 161.438872 197.21441 \r\nC 160.922137 197.731145 160.631798 198.432085 160.631798 199.162858 \r\nC 160.631798 199.893631 160.922137 200.594572 161.438872 201.111307 \r\nC 161.955607 201.628041 162.656547 201.91838 163.38732 201.91838 \r\nz\r\n\" style=\"fill:#52c569;stroke:#52c569;\"/>\r\n    <path clip-path=\"url(#p3e2599a388)\" d=\"M 175.994621 207.208945 \r\nC 176.72962 207.208945 177.434614 206.916926 177.954336 206.397204 \r\nC 178.474059 205.877481 178.766077 205.172487 178.766077 204.437488 \r\nC 178.766077 203.70249 178.474059 202.997496 177.954336 202.477773 \r\nC 177.434614 201.95805 176.72962 201.666032 175.994621 201.666032 \r\nC 175.259622 201.666032 174.554628 201.95805 174.034906 202.477773 \r\nC 173.515183 202.997496 173.223165 203.70249 173.223165 204.437488 \r\nC 173.223165 205.172487 173.515183 205.877481 174.034906 206.397204 \r\nC 174.554628 206.916926 175.259622 207.208945 175.994621 207.208945 \r\nz\r\n\" style=\"fill:#5ac864;stroke:#5ac864;\"/>\r\n    <path clip-path=\"url(#p3e2599a388)\" d=\"M 174.798573 206.083183 \r\nC 175.544152 206.083183 176.259294 205.786961 176.786498 205.259757 \r\nC 177.313703 204.732553 177.609924 204.017411 177.609924 203.271831 \r\nC 177.609924 202.526252 177.313703 201.81111 176.786498 201.283906 \r\nC 176.259294 200.756701 175.544152 200.46048 174.798573 200.46048 \r\nC 174.052993 200.46048 173.337851 200.756701 172.810647 201.283906 \r\nC 172.283443 201.81111 171.987221 202.526252 171.987221 203.271831 \r\nC 171.987221 204.017411 172.283443 204.732553 172.810647 205.259757 \r\nC 173.337851 205.786961 174.052993 206.083183 174.798573 206.083183 \r\nz\r\n\" style=\"fill:#69cd5b;stroke:#69cd5b;\"/>\r\n    <path clip-path=\"url(#p3e2599a388)\" d=\"M 172.518645 209.033111 \r\nC 173.270763 209.033111 173.992177 208.734292 174.524005 208.202464 \r\nC 175.055833 207.670637 175.354652 206.949222 175.354652 206.197104 \r\nC 175.354652 205.444986 175.055833 204.723572 174.524005 204.191744 \r\nC 173.992177 203.659917 173.270763 203.361097 172.518645 203.361097 \r\nC 171.766527 203.361097 171.045113 203.659917 170.513285 204.191744 \r\nC 169.981457 204.723572 169.682638 205.444986 169.682638 206.197104 \r\nC 169.682638 206.949222 169.981457 207.670637 170.513285 208.202464 \r\nC 171.045113 208.734292 171.766527 209.033111 172.518645 209.033111 \r\nz\r\n\" style=\"fill:#75d054;stroke:#75d054;\"/>\r\n    <path clip-path=\"url(#p3e2599a388)\" d=\"M 166.378645 209.300299 \r\nC 167.132127 209.300299 167.85485 209.000937 168.387642 208.468145 \r\nC 168.920435 207.935352 169.219796 207.212629 169.219796 206.459147 \r\nC 169.219796 205.705665 168.920435 204.982942 168.387642 204.450149 \r\nC 167.85485 203.917357 167.132127 203.617995 166.378645 203.617995 \r\nC 165.625162 203.617995 164.902439 203.917357 164.369647 204.450149 \r\nC 163.836854 204.982942 163.537493 205.705665 163.537493 206.459147 \r\nC 163.537493 207.212629 163.836854 207.935352 164.369647 208.468145 \r\nC 164.902439 209.000937 165.625162 209.300299 166.378645 209.300299 \r\nz\r\n\" style=\"fill:#77d153;stroke:#77d153;\"/>\r\n    <path clip-path=\"url(#p3e2599a388)\" d=\"M 166.25391 211.139199 \r\nC 167.003793 211.139199 167.723063 210.841267 168.25331 210.31102 \r\nC 168.783557 209.780773 169.081489 209.061503 169.081489 208.31162 \r\nC 169.081489 207.561738 168.783557 206.842468 168.25331 206.312221 \r\nC 167.723063 205.781974 167.003793 205.484042 166.25391 205.484042 \r\nC 165.504028 205.484042 164.784758 205.781974 164.254511 206.312221 \r\nC 163.724264 206.842468 163.426332 207.561738 163.426332 208.31162 \r\nC 163.426332 209.061503 163.724264 209.780773 164.254511 210.31102 \r\nC 164.784758 210.841267 165.504028 211.139199 166.25391 211.139199 \r\nz\r\n\" style=\"fill:#70cf57;stroke:#70cf57;\"/>\r\n    <path clip-path=\"url(#p3e2599a388)\" d=\"M 172.54569 210.156294 \r\nC 173.286857 210.156294 173.997766 209.861825 174.52185 209.337741 \r\nC 175.045934 208.813658 175.340402 208.102748 175.340402 207.361582 \r\nC 175.340402 206.620415 175.045934 205.909506 174.52185 205.385422 \r\nC 173.997766 204.861338 173.286857 204.56687 172.54569 204.56687 \r\nC 171.804524 204.56687 171.093614 204.861338 170.569531 205.385422 \r\nC 170.045447 205.909506 169.750979 206.620415 169.750979 207.361582 \r\nC 169.750979 208.102748 170.045447 208.813658 170.569531 209.337741 \r\nC 171.093614 209.861825 171.804524 210.156294 172.54569 210.156294 \r\nz\r\n\" style=\"fill:#63cb5f;stroke:#63cb5f;\"/>\r\n    <path clip-path=\"url(#p3e2599a388)\" d=\"M 165.048483 213.931689 \r\nC 165.793048 213.931689 166.507218 213.63587 167.033705 213.109383 \r\nC 167.560193 212.582895 167.856012 211.868725 167.856012 211.12416 \r\nC 167.856012 210.379595 167.560193 209.665424 167.033705 209.138937 \r\nC 166.507218 208.61245 165.793048 208.316631 165.048483 208.316631 \r\nC 164.303917 208.316631 163.589747 208.61245 163.06326 209.138937 \r\nC 162.536773 209.665424 162.240954 210.379595 162.240954 211.12416 \r\nC 162.240954 211.868725 162.536773 212.582895 163.06326 213.109383 \r\nC 163.589747 213.63587 164.303917 213.931689 165.048483 213.931689 \r\nz\r\n\" style=\"fill:#69cd5b;stroke:#69cd5b;\"/>\r\n    <path clip-path=\"url(#p3e2599a388)\" d=\"M 152.703719 213.034589 \r\nC 153.452537 213.034589 154.170786 212.737081 154.700281 212.207586 \r\nC 155.229775 211.678092 155.527284 210.959843 155.527284 210.211025 \r\nC 155.527284 209.462206 155.229775 208.743957 154.700281 208.214463 \r\nC 154.170786 207.684968 153.452537 207.38746 152.703719 207.38746 \r\nC 151.954901 207.38746 151.236651 207.684968 150.707157 208.214463 \r\nC 150.177663 208.743957 149.880154 209.462206 149.880154 210.211025 \r\nC 149.880154 210.959843 150.177663 211.678092 150.707157 212.207586 \r\nC 151.236651 212.737081 151.954901 213.034589 152.703719 213.034589 \r\nz\r\n\" style=\"fill:#70cf57;stroke:#70cf57;\"/>\r\n    <path clip-path=\"url(#p3e2599a388)\" d=\"M 149.258465 211.630968 \r\nC 150.019894 211.630968 150.75024 211.328449 151.288652 210.790037 \r\nC 151.827064 210.251625 152.129583 209.52128 152.129583 208.75985 \r\nC 152.129583 207.998421 151.827064 207.268075 151.288652 206.729663 \r\nC 150.75024 206.191251 150.019894 205.888732 149.258465 205.888732 \r\nC 148.497035 205.888732 147.76669 206.191251 147.228278 206.729663 \r\nC 146.689866 207.268075 146.387347 207.998421 146.387347 208.75985 \r\nC 146.387347 209.52128 146.689866 210.251625 147.228278 210.790037 \r\nC 147.76669 211.328449 148.497035 211.630968 149.258465 211.630968 \r\nz\r\n\" style=\"fill:#86d549;stroke:#86d549;\"/>\r\n    <path clip-path=\"url(#p3e2599a388)\" d=\"M 136.607755 208.558515 \r\nC 137.371497 208.558515 138.104062 208.255076 138.64411 207.715029 \r\nC 139.184157 207.174981 139.487596 206.442417 139.487596 205.678674 \r\nC 139.487596 204.914931 139.184157 204.182366 138.64411 203.642319 \r\nC 138.104062 203.102271 137.371497 202.798833 136.607755 202.798833 \r\nC 135.844012 202.798833 135.111447 203.102271 134.5714 203.642319 \r\nC 134.031352 204.182366 133.727914 204.914931 133.727914 205.678674 \r\nC 133.727914 206.442417 134.031352 207.174981 134.5714 207.715029 \r\nC 135.111447 208.255076 135.844012 208.558515 136.607755 208.558515 \r\nz\r\n\" style=\"fill:#8bd646;stroke:#8bd646;\"/>\r\n    <path clip-path=\"url(#p3e2599a388)\" d=\"M 141.405149 201.195137 \r\nC 142.159006 201.195137 142.882089 200.895626 143.415147 200.362568 \r\nC 143.948205 199.829511 144.247715 199.106428 144.247715 198.35257 \r\nC 144.247715 197.598713 143.948205 196.87563 143.415147 196.342572 \r\nC 142.882089 195.809515 142.159006 195.510004 141.405149 195.510004 \r\nC 140.651292 195.510004 139.928209 195.809515 139.395151 196.342572 \r\nC 138.862093 196.87563 138.562583 197.598713 138.562583 198.35257 \r\nC 138.562583 199.106428 138.862093 199.829511 139.395151 200.362568 \r\nC 139.928209 200.895626 140.651292 201.195137 141.405149 201.195137 \r\nz\r\n\" style=\"fill:#77d153;stroke:#77d153;\"/>\r\n    <path clip-path=\"url(#p3e2599a388)\" d=\"M 137.492827 208.913957 \r\nC 138.228072 208.913957 138.933303 208.621841 139.4532 208.101944 \r\nC 139.973097 207.582047 140.265213 206.876816 140.265213 206.141571 \r\nC 140.265213 205.406325 139.973097 204.701095 139.4532 204.181198 \r\nC 138.933303 203.661301 138.228072 203.369185 137.492827 203.369185 \r\nC 136.757582 203.369185 136.052351 203.661301 135.532454 204.181198 \r\nC 135.012557 204.701095 134.720441 205.406325 134.720441 206.141571 \r\nC 134.720441 206.876816 135.012557 207.582047 135.532454 208.101944 \r\nC 136.052351 208.621841 136.757582 208.913957 137.492827 208.913957 \r\nz\r\n\" style=\"fill:#5ac864;stroke:#5ac864;\"/>\r\n    <path clip-path=\"url(#p3e2599a388)\" d=\"M 121.397532 207.715653 \r\nC 122.131251 207.715653 122.835017 207.424143 123.353834 206.905326 \r\nC 123.872652 206.386509 124.164161 205.682743 124.164161 204.949024 \r\nC 124.164161 204.215306 123.872652 203.51154 123.353834 202.992722 \r\nC 122.835017 202.473905 122.131251 202.182396 121.397532 202.182396 \r\nC 120.663814 202.182396 119.960048 202.473905 119.441231 202.992722 \r\nC 118.922413 203.51154 118.630904 204.215306 118.630904 204.949024 \r\nC 118.630904 205.682743 118.922413 206.386509 119.441231 206.905326 \r\nC 119.960048 207.424143 120.663814 207.715653 121.397532 207.715653 \r\nz\r\n\" style=\"fill:#58c765;stroke:#58c765;\"/>\r\n    <path clip-path=\"url(#p3e2599a388)\" d=\"M 118.201147 210.354661 \r\nC 118.934537 210.354661 119.637987 210.063282 120.156572 209.544698 \r\nC 120.675156 209.026113 120.966535 208.322663 120.966535 207.589273 \r\nC 120.966535 206.855884 120.675156 206.152433 120.156572 205.633849 \r\nC 119.637987 205.115264 118.934537 204.823885 118.201147 204.823885 \r\nC 117.467758 204.823885 116.764307 205.115264 116.245723 205.633849 \r\nC 115.727138 206.152433 115.435759 206.855884 115.435759 207.589273 \r\nC 115.435759 208.322663 115.727138 209.026113 116.245723 209.544698 \r\nC 116.764307 210.063282 117.467758 210.354661 118.201147 210.354661 \r\nz\r\n\" style=\"fill:#56c667;stroke:#56c667;\"/>\r\n    <path clip-path=\"url(#p3e2599a388)\" d=\"M 116.435059 217.517314 \r\nC 117.167271 217.517314 117.869593 217.226403 118.387345 216.70865 \r\nC 118.905098 216.190898 119.196009 215.488576 119.196009 214.756364 \r\nC 119.196009 214.024151 118.905098 213.321829 118.387345 212.804077 \r\nC 117.869593 212.286324 117.167271 211.995413 116.435059 211.995413 \r\nC 115.702846 211.995413 115.000525 212.286324 114.482772 212.804077 \r\nC 113.96502 213.321829 113.674108 214.024151 113.674108 214.756364 \r\nC 113.674108 215.488576 113.96502 216.190898 114.482772 216.70865 \r\nC 115.000525 217.226403 115.702846 217.517314 116.435059 217.517314 \r\nz\r\n\" style=\"fill:#54c568;stroke:#54c568;\"/>\r\n    <path clip-path=\"url(#p3e2599a388)\" d=\"M 120.553187 214.313696 \r\nC 121.266786 214.313696 121.951255 214.03018 122.455846 213.525589 \r\nC 122.960436 213.020998 123.243952 212.33653 123.243952 211.62293 \r\nC 123.243952 210.909331 122.960436 210.224863 122.455846 209.720272 \r\nC 121.951255 209.215681 121.266786 208.932165 120.553187 208.932165 \r\nC 119.839588 208.932165 119.155119 209.215681 118.650529 209.720272 \r\nC 118.145938 210.224863 117.862422 210.909331 117.862422 211.62293 \r\nC 117.862422 212.33653 118.145938 213.020998 118.650529 213.525589 \r\nC 119.155119 214.03018 119.839588 214.313696 120.553187 214.313696 \r\nz\r\n\" style=\"fill:#3bbb75;stroke:#3bbb75;\"/>\r\n    <path clip-path=\"url(#p3e2599a388)\" d=\"M 119.220347 209.403308 \r\nC 119.947064 209.403308 120.644113 209.114581 121.157979 208.600715 \r\nC 121.671845 208.086849 121.960573 207.389799 121.960573 206.663083 \r\nC 121.960573 205.936367 121.671845 205.239317 121.157979 204.725451 \r\nC 120.644113 204.211585 119.947064 203.922858 119.220347 203.922858 \r\nC 118.493631 203.922858 117.796582 204.211585 117.282716 204.725451 \r\nC 116.76885 205.239317 116.480122 205.936367 116.480122 206.663083 \r\nC 116.480122 207.389799 116.76885 208.086849 117.282716 208.600715 \r\nC 117.796582 209.114581 118.493631 209.403308 119.220347 209.403308 \r\nz\r\n\" style=\"fill:#4ec36b;stroke:#4ec36b;\"/>\r\n    <path clip-path=\"url(#p3e2599a388)\" d=\"M 136.354716 210.909859 \r\nC 137.094295 210.909859 137.803682 210.616021 138.326643 210.09306 \r\nC 138.849604 209.570099 139.143442 208.860712 139.143442 208.121133 \r\nC 139.143442 207.381554 138.849604 206.672167 138.326643 206.149206 \r\nC 137.803682 205.626245 137.094295 205.332407 136.354716 205.332407 \r\nC 135.615137 205.332407 134.90575 205.626245 134.382789 206.149206 \r\nC 133.859828 206.672167 133.56599 207.381554 133.56599 208.121133 \r\nC 133.56599 208.860712 133.859828 209.570099 134.382789 210.09306 \r\nC 134.90575 210.616021 135.615137 210.909859 136.354716 210.909859 \r\nz\r\n\" style=\"fill:#60ca60;stroke:#60ca60;\"/>\r\n    <path clip-path=\"url(#p3e2599a388)\" d=\"M 131.598716 210.087457 \r\nC 132.328443 210.087457 133.02838 209.797534 133.544374 209.281539 \r\nC 134.060369 208.765544 134.350292 208.065607 134.350292 207.335881 \r\nC 134.350292 206.606154 134.060369 205.906217 133.544374 205.390223 \r\nC 133.02838 204.874228 132.328443 204.584305 131.598716 204.584305 \r\nC 130.86899 204.584305 130.169053 204.874228 129.653058 205.390223 \r\nC 129.137064 205.906217 128.84714 206.606154 128.84714 207.335881 \r\nC 128.84714 208.065607 129.137064 208.765544 129.653058 209.281539 \r\nC 130.169053 209.797534 130.86899 210.087457 131.598716 210.087457 \r\nz\r\n\" style=\"fill:#52c569;stroke:#52c569;\"/>\r\n    <path clip-path=\"url(#p3e2599a388)\" d=\"M 131.026583 210.362392 \r\nC 131.765956 210.362392 132.475146 210.068636 132.997962 209.54582 \r\nC 133.520778 209.023005 133.814534 208.313815 133.814534 207.574442 \r\nC 133.814534 206.835069 133.520778 206.125879 132.997962 205.603063 \r\nC 132.475146 205.080248 131.765956 204.786492 131.026583 204.786492 \r\nC 130.28721 204.786492 129.578021 205.080248 129.055205 205.603063 \r\nC 128.532389 206.125879 128.238633 206.835069 128.238633 207.574442 \r\nC 128.238633 208.313815 128.532389 209.023005 129.055205 209.54582 \r\nC 129.578021 210.068636 130.28721 210.362392 131.026583 210.362392 \r\nz\r\n\" style=\"fill:#60ca60;stroke:#60ca60;\"/>\r\n    <path clip-path=\"url(#p3e2599a388)\" d=\"M 130.082995 208.788251 \r\nC 130.833612 208.788251 131.553587 208.490027 132.084354 207.959261 \r\nC 132.61512 207.428494 132.913344 206.708519 132.913344 205.957902 \r\nC 132.913344 205.207285 132.61512 204.48731 132.084354 203.956543 \r\nC 131.553587 203.425777 130.833612 203.127553 130.082995 203.127553 \r\nC 129.332378 203.127553 128.612403 203.425777 128.081636 203.956543 \r\nC 127.55087 204.48731 127.252646 205.207285 127.252646 205.957902 \r\nC 127.252646 206.708519 127.55087 207.428494 128.081636 207.959261 \r\nC 128.612403 208.490027 129.332378 208.788251 130.082995 208.788251 \r\nz\r\n\" style=\"fill:#73d056;stroke:#73d056;\"/>\r\n    <path clip-path=\"url(#p3e2599a388)\" d=\"M 127.491573 205.511669 \r\nC 128.24264 205.511669 128.963047 205.213267 129.494132 204.682182 \r\nC 130.025217 204.151097 130.323619 203.430691 130.323619 202.679623 \r\nC 130.323619 201.928556 130.025217 201.208149 129.494132 200.677064 \r\nC 128.963047 200.145979 128.24264 199.847577 127.491573 199.847577 \r\nC 126.740506 199.847577 126.020099 200.145979 125.489014 200.677064 \r\nC 124.957929 201.208149 124.659527 201.928556 124.659527 202.679623 \r\nC 124.659527 203.430691 124.957929 204.151097 125.489014 204.682182 \r\nC 126.020099 205.213267 126.740506 205.511669 127.491573 205.511669 \r\nz\r\n\" style=\"fill:#73d056;stroke:#73d056;\"/>\r\n    <path clip-path=\"url(#p3e2599a388)\" d=\"M 128.797474 204.185272 \r\nC 129.537356 204.185272 130.247033 203.891314 130.770209 203.368138 \r\nC 131.293384 202.844963 131.587342 202.135286 131.587342 201.395404 \r\nC 131.587342 200.655522 131.293384 199.945845 130.770209 199.42267 \r\nC 130.247033 198.899494 129.537356 198.605536 128.797474 198.605536 \r\nC 128.057593 198.605536 127.347915 198.899494 126.82474 199.42267 \r\nC 126.301565 199.945845 126.007607 200.655522 126.007607 201.395404 \r\nC 126.007607 202.135286 126.301565 202.844963 126.82474 203.368138 \r\nC 127.347915 203.891314 128.057593 204.185272 128.797474 204.185272 \r\nz\r\n\" style=\"fill:#60ca60;stroke:#60ca60;\"/>\r\n    <path clip-path=\"url(#p3e2599a388)\" d=\"M 133.760029 202.969327 \r\nC 134.518839 202.969327 135.246673 202.667849 135.783233 202.131289 \r\nC 136.319792 201.594729 136.621271 200.866895 136.621271 200.108085 \r\nC 136.621271 199.349275 136.319792 198.621441 135.783233 198.084881 \r\nC 135.246673 197.548321 134.518839 197.246843 133.760029 197.246843 \r\nC 133.001218 197.246843 132.273385 197.548321 131.736825 198.084881 \r\nC 131.200265 198.621441 130.898787 199.349275 130.898787 200.108085 \r\nC 130.898787 200.866895 131.200265 201.594729 131.736825 202.131289 \r\nC 132.273385 202.667849 133.001218 202.969327 133.760029 202.969327 \r\nz\r\n\" style=\"fill:#81d34d;stroke:#81d34d;\"/>\r\n    <path clip-path=\"url(#p3e2599a388)\" d=\"M 146.047405 198.295858 \r\nC 146.810616 198.295858 147.542671 197.992631 148.082342 197.45296 \r\nC 148.622014 196.913288 148.925241 196.181233 148.925241 195.418023 \r\nC 148.925241 194.654812 148.622014 193.922757 148.082342 193.383086 \r\nC 147.542671 192.843414 146.810616 192.540187 146.047405 192.540187 \r\nC 145.284194 192.540187 144.55214 192.843414 144.012468 193.383086 \r\nC 143.472797 193.922757 143.16957 194.654812 143.16957 195.418023 \r\nC 143.16957 196.181233 143.472797 196.913288 144.012468 197.45296 \r\nC 144.55214 197.992631 145.284194 198.295858 146.047405 198.295858 \r\nz\r\n\" style=\"fill:#89d548;stroke:#89d548;\"/>\r\n    <path clip-path=\"url(#p3e2599a388)\" d=\"M 131.658882 198.897979 \r\nC 132.419196 198.897979 133.148472 198.595903 133.686095 198.05828 \r\nC 134.223717 197.520657 134.525793 196.791382 134.525793 196.031068 \r\nC 134.525793 195.270755 134.223717 194.541479 133.686095 194.003856 \r\nC 133.148472 193.466233 132.419196 193.164157 131.658882 193.164157 \r\nC 130.898569 193.164157 130.169293 193.466233 129.63167 194.003856 \r\nC 129.094047 194.541479 128.791972 195.270755 128.791972 196.031068 \r\nC 128.791972 196.791382 129.094047 197.520657 129.63167 198.05828 \r\nC 130.169293 198.595903 130.898569 198.897979 131.658882 198.897979 \r\nz\r\n\" style=\"fill:#84d44b;stroke:#84d44b;\"/>\r\n    <path clip-path=\"url(#p3e2599a388)\" d=\"M 126.979544 195.494864 \r\nC 127.748742 195.494864 128.48654 195.189259 129.030445 194.645353 \r\nC 129.57435 194.101448 129.879956 193.363651 129.879956 192.594452 \r\nC 129.879956 191.825254 129.57435 191.087457 129.030445 190.543551 \r\nC 128.48654 189.999646 127.748742 189.69404 126.979544 189.69404 \r\nC 126.210346 189.69404 125.472549 189.999646 124.928643 190.543551 \r\nC 124.384738 191.087457 124.079132 191.825254 124.079132 192.594452 \r\nC 124.079132 193.363651 124.384738 194.101448 124.928643 194.645353 \r\nC 125.472549 195.189259 126.210346 195.494864 126.979544 195.494864 \r\nz\r\n\" style=\"fill:#95d840;stroke:#95d840;\"/>\r\n    <path clip-path=\"url(#p3e2599a388)\" d=\"M 122.873924 198.624303 \r\nC 123.661445 198.624303 124.416818 198.311418 124.973679 197.754556 \r\nC 125.530541 197.197695 125.843426 196.442322 125.843426 195.654801 \r\nC 125.843426 194.86728 125.530541 194.111908 124.973679 193.555046 \r\nC 124.416818 192.998185 123.661445 192.6853 122.873924 192.6853 \r\nC 122.086403 192.6853 121.331031 192.998185 120.774169 193.555046 \r\nC 120.217308 194.111908 119.904422 194.86728 119.904422 195.654801 \r\nC 119.904422 196.442322 120.217308 197.197695 120.774169 197.754556 \r\nC 121.331031 198.311418 122.086403 198.624303 122.873924 198.624303 \r\nz\r\n\" style=\"fill:#bade28;stroke:#bade28;\"/>\r\n    <path clip-path=\"url(#p3e2599a388)\" d=\"M 131.473082 192.620043 \r\nC 132.255033 192.620043 133.005063 192.30937 133.557986 191.756447 \r\nC 134.110909 191.203524 134.421581 190.453494 134.421581 189.671543 \r\nC 134.421581 188.889592 134.110909 188.139562 133.557986 187.586639 \r\nC 133.005063 187.033716 132.255033 186.723043 131.473082 186.723043 \r\nC 130.69113 186.723043 129.9411 187.033716 129.388177 187.586639 \r\nC 128.835254 188.139562 128.524582 188.889592 128.524582 189.671543 \r\nC 128.524582 190.453494 128.835254 191.203524 129.388177 191.756447 \r\nC 129.9411 192.30937 130.69113 192.620043 131.473082 192.620043 \r\nz\r\n\" style=\"fill:#b0dd2f;stroke:#b0dd2f;\"/>\r\n    <path clip-path=\"url(#p3e2599a388)\" d=\"M 128.202835 189.90225 \r\nC 128.992522 189.90225 129.749971 189.588504 130.308364 189.030111 \r\nC 130.866757 188.471718 131.180503 187.714269 131.180503 186.924582 \r\nC 131.180503 186.134895 130.866757 185.377446 130.308364 184.819053 \r\nC 129.749971 184.26066 128.992522 183.946914 128.202835 183.946914 \r\nC 127.413148 183.946914 126.655699 184.26066 126.097306 184.819053 \r\nC 125.538913 185.377446 125.225167 186.134895 125.225167 186.924582 \r\nC 125.225167 187.714269 125.538913 188.471718 126.097306 189.030111 \r\nC 126.655699 189.588504 127.413148 189.90225 128.202835 189.90225 \r\nz\r\n\" style=\"fill:#c0df25;stroke:#c0df25;\"/>\r\n    <path clip-path=\"url(#p3e2599a388)\" d=\"M 110.825954 191.485952 \r\nC 111.636985 191.485952 112.414908 191.163725 112.988394 190.59024 \r\nC 113.56188 190.016754 113.884106 189.238831 113.884106 188.427799 \r\nC 113.884106 187.616768 113.56188 186.838845 112.988394 186.265359 \r\nC 112.414908 185.691873 111.636985 185.369647 110.825954 185.369647 \r\nC 110.014922 185.369647 109.236999 185.691873 108.663513 186.265359 \r\nC 108.090028 186.838845 107.767801 187.616768 107.767801 188.427799 \r\nC 107.767801 189.238831 108.090028 190.016754 108.663513 190.59024 \r\nC 109.236999 191.163725 110.014922 191.485952 110.825954 191.485952 \r\nz\r\n\" style=\"fill:#ece51b;stroke:#ece51b;\"/>\r\n    <path clip-path=\"url(#p3e2599a388)\" d=\"M 111.630355 199.312536 \r\nC 112.429192 199.312536 113.195417 198.995155 113.76028 198.430293 \r\nC 114.325142 197.86543 114.642523 197.099205 114.642523 196.300368 \r\nC 114.642523 195.501532 114.325142 194.735307 113.76028 194.170444 \r\nC 113.195417 193.605581 112.429192 193.2882 111.630355 193.2882 \r\nC 110.831519 193.2882 110.065293 193.605581 109.500431 194.170444 \r\nC 108.935568 194.735307 108.618187 195.501532 108.618187 196.300368 \r\nC 108.618187 197.099205 108.935568 197.86543 109.500431 198.430293 \r\nC 110.065293 198.995155 110.831519 199.312536 111.630355 199.312536 \r\nz\r\n\" style=\"fill:#d2e21b;stroke:#d2e21b;\"/>\r\n    <path clip-path=\"url(#p3e2599a388)\" d=\"M 111.321458 199.290813 \r\nC 112.114227 199.290813 112.874632 198.975843 113.435204 198.415271 \r\nC 113.995776 197.854699 114.310746 197.094294 114.310746 196.301525 \r\nC 114.310746 195.508757 113.995776 194.748351 113.435204 194.187779 \r\nC 112.874632 193.627208 112.114227 193.312237 111.321458 193.312237 \r\nC 110.52869 193.312237 109.768285 193.627208 109.207713 194.187779 \r\nC 108.647141 194.748351 108.33217 195.508757 108.33217 196.301525 \r\nC 108.33217 197.094294 108.647141 197.854699 109.207713 198.415271 \r\nC 109.768285 198.975843 110.52869 199.290813 111.321458 199.290813 \r\nz\r\n\" style=\"fill:#c5e021;stroke:#c5e021;\"/>\r\n    <path clip-path=\"url(#p3e2599a388)\" d=\"M 112.969602 203.665644 \r\nC 113.755712 203.665644 114.509732 203.353319 115.065596 202.797455 \r\nC 115.62146 202.241591 115.933785 201.487572 115.933785 200.701461 \r\nC 115.933785 199.915351 115.62146 199.161332 115.065596 198.605468 \r\nC 114.509732 198.049604 113.755712 197.737279 112.969602 197.737279 \r\nC 112.183492 197.737279 111.429472 198.049604 110.873608 198.605468 \r\nC 110.317744 199.161332 110.005419 199.915351 110.005419 200.701461 \r\nC 110.005419 201.487572 110.317744 202.241591 110.873608 202.797455 \r\nC 111.429472 203.353319 112.183492 203.665644 112.969602 203.665644 \r\nz\r\n\" style=\"fill:#b8de29;stroke:#b8de29;\"/>\r\n    <path clip-path=\"url(#p3e2599a388)\" d=\"M 103.43234 202.543405 \r\nC 104.216677 202.543405 104.968996 202.231784 105.523607 201.677174 \r\nC 106.078217 201.122563 106.389838 200.370244 106.389838 199.585906 \r\nC 106.389838 198.801569 106.078217 198.04925 105.523607 197.494639 \r\nC 104.968996 196.940029 104.216677 196.628408 103.43234 196.628408 \r\nC 102.648002 196.628408 101.895683 196.940029 101.341073 197.494639 \r\nC 100.786462 198.04925 100.474841 198.801569 100.474841 199.585906 \r\nC 100.474841 200.370244 100.786462 201.122563 101.341073 201.677174 \r\nC 101.895683 202.231784 102.648002 202.543405 103.43234 202.543405 \r\nz\r\n\" style=\"fill:#b5de2b;stroke:#b5de2b;\"/>\r\n    <path clip-path=\"url(#p3e2599a388)\" d=\"M 119.194183 197.131742 \r\nC 119.976164 197.131742 120.726222 196.821058 121.279166 196.268114 \r\nC 121.83211 195.71517 122.142794 194.965112 122.142794 194.183132 \r\nC 122.142794 193.401151 121.83211 192.651093 121.279166 192.098149 \r\nC 120.726222 191.545206 119.976164 191.234521 119.194183 191.234521 \r\nC 118.412203 191.234521 117.662145 191.545206 117.109201 192.098149 \r\nC 116.556257 192.651093 116.245573 193.401151 116.245573 194.183132 \r\nC 116.245573 194.965112 116.556257 195.71517 117.109201 196.268114 \r\nC 117.662145 196.821058 118.412203 197.131742 119.194183 197.131742 \r\nz\r\n\" style=\"fill:#b0dd2f;stroke:#b0dd2f;\"/>\r\n    <path clip-path=\"url(#p3e2599a388)\" d=\"M 116.22471 196.548556 \r\nC 117.010065 196.548556 117.76336 196.236531 118.31869 195.681201 \r\nC 118.87402 195.125871 119.186045 194.372576 119.186045 193.587221 \r\nC 119.186045 192.801866 118.87402 192.048571 118.31869 191.493241 \r\nC 117.76336 190.937912 117.010065 190.625887 116.22471 190.625887 \r\nC 115.439355 190.625887 114.68606 190.937912 114.13073 191.493241 \r\nC 113.575401 192.048571 113.263376 192.801866 113.263376 193.587221 \r\nC 113.263376 194.372576 113.575401 195.125871 114.13073 195.681201 \r\nC 114.68606 196.236531 115.439355 196.548556 116.22471 196.548556 \r\nz\r\n\" style=\"fill:#b5de2b;stroke:#b5de2b;\"/>\r\n    <path clip-path=\"url(#p3e2599a388)\" d=\"M 114.498215 197.176472 \r\nC 115.274332 197.176472 116.018766 196.868117 116.567563 196.31932 \r\nC 117.116361 195.770522 117.424716 195.026088 117.424716 194.249971 \r\nC 117.424716 193.473854 117.116361 192.72942 116.567563 192.180622 \r\nC 116.018766 191.631825 115.274332 191.32347 114.498215 191.32347 \r\nC 113.722098 191.32347 112.977664 191.631825 112.428866 192.180622 \r\nC 111.880068 192.72942 111.571714 193.473854 111.571714 194.249971 \r\nC 111.571714 195.026088 111.880068 195.770522 112.428866 196.31932 \r\nC 112.977664 196.868117 113.722098 197.176472 114.498215 197.176472 \r\nz\r\n\" style=\"fill:#a2da37;stroke:#a2da37;\"/>\r\n    <path clip-path=\"url(#p3e2599a388)\" d=\"M 106.246028 195.875706 \r\nC 107.01506 195.875706 107.752697 195.570167 108.296485 195.026379 \r\nC 108.840272 194.482592 109.145812 193.744955 109.145812 192.975923 \r\nC 109.145812 192.206892 108.840272 191.469254 108.296485 190.925467 \r\nC 107.752697 190.381679 107.01506 190.07614 106.246028 190.07614 \r\nC 105.476997 190.07614 104.73936 190.381679 104.195572 190.925467 \r\nC 103.651785 191.469254 103.346245 192.206892 103.346245 192.975923 \r\nC 103.346245 193.744955 103.651785 194.482592 104.195572 195.026379 \r\nC 104.73936 195.570167 105.476997 195.875706 106.246028 195.875706 \r\nz\r\n\" style=\"fill:#95d840;stroke:#95d840;\"/>\r\n    <path clip-path=\"url(#p3e2599a388)\" d=\"M 97.709663 194.825175 \r\nC 98.482131 194.825175 99.223065 194.51827 99.769283 193.972053 \r\nC 100.3155 193.425835 100.622405 192.684901 100.622405 191.912433 \r\nC 100.622405 191.139965 100.3155 190.399031 99.769283 189.852814 \r\nC 99.223065 189.306596 98.482131 188.999691 97.709663 188.999691 \r\nC 96.937195 188.999691 96.196261 189.306596 95.650044 189.852814 \r\nC 95.103826 190.399031 94.796921 191.139965 94.796921 191.912433 \r\nC 94.796921 192.684901 95.103826 193.425835 95.650044 193.972053 \r\nC 96.196261 194.51827 96.937195 194.825175 97.709663 194.825175 \r\nz\r\n\" style=\"fill:#9bd93c;stroke:#9bd93c;\"/>\r\n    <path clip-path=\"url(#p3e2599a388)\" d=\"M 86.498378 203.628877 \r\nC 87.272607 203.628877 88.01523 203.321273 88.562693 202.77381 \r\nC 89.110155 202.226347 89.41776 201.483724 89.41776 200.709495 \r\nC 89.41776 199.935266 89.110155 199.192643 88.562693 198.64518 \r\nC 88.01523 198.097717 87.272607 197.790113 86.498378 197.790113 \r\nC 85.724148 197.790113 84.981525 198.097717 84.434063 198.64518 \r\nC 83.8866 199.192643 83.578995 199.935266 83.578995 200.709495 \r\nC 83.578995 201.483724 83.8866 202.226347 84.434063 202.77381 \r\nC 84.981525 203.321273 85.724148 203.628877 86.498378 203.628877 \r\nz\r\n\" style=\"fill:#a0da39;stroke:#a0da39;\"/>\r\n    <path clip-path=\"url(#p3e2599a388)\" d=\"M 82.892107 202.769046 \r\nC 83.676199 202.769046 84.428282 202.457523 84.982719 201.903087 \r\nC 85.537155 201.34865 85.848678 200.596567 85.848678 199.812475 \r\nC 85.848678 199.028383 85.537155 198.2763 84.982719 197.721864 \r\nC 84.428282 197.167427 83.676199 196.855904 82.892107 196.855904 \r\nC 82.108015 196.855904 81.355932 197.167427 80.801496 197.721864 \r\nC 80.247059 198.2763 79.935536 199.028383 79.935536 199.812475 \r\nC 79.935536 200.596567 80.247059 201.34865 80.801496 201.903087 \r\nC 81.355932 202.457523 82.108015 202.769046 82.892107 202.769046 \r\nz\r\n\" style=\"fill:#b2dd2d;stroke:#b2dd2d;\"/>\r\n    <path clip-path=\"url(#p3e2599a388)\" d=\"M 74.112031 200.476979 \r\nC 74.900699 200.476979 75.657172 200.163638 76.214845 199.605965 \r\nC 76.772518 199.048292 77.085859 198.29182 77.085859 197.503151 \r\nC 77.085859 196.714483 76.772518 195.95801 76.214845 195.400337 \r\nC 75.657172 194.842665 74.900699 194.529323 74.112031 194.529323 \r\nC 73.323363 194.529323 72.56689 194.842665 72.009217 195.400337 \r\nC 71.451545 195.95801 71.138203 196.714483 71.138203 197.503151 \r\nC 71.138203 198.29182 71.451545 199.048292 72.009217 199.605965 \r\nC 72.56689 200.163638 73.323363 200.476979 74.112031 200.476979 \r\nz\r\n\" style=\"fill:#bddf26;stroke:#bddf26;\"/>\r\n    <path clip-path=\"url(#p3e2599a388)\" d=\"M 92.967798 201.474789 \r\nC 93.765024 201.474789 94.529705 201.158048 95.093428 200.594324 \r\nC 95.657152 200.0306 95.973894 199.265919 95.973894 198.468693 \r\nC 95.973894 197.671467 95.657152 196.906786 95.093428 196.343062 \r\nC 94.529705 195.779338 93.765024 195.462597 92.967798 195.462597 \r\nC 92.170572 195.462597 91.405891 195.779338 90.842167 196.343062 \r\nC 90.278443 196.906786 89.961702 197.671467 89.961702 198.468693 \r\nC 89.961702 199.265919 90.278443 200.0306 90.842167 200.594324 \r\nC 91.405891 201.158048 92.170572 201.474789 92.967798 201.474789 \r\nz\r\n\" style=\"fill:#d0e11c;stroke:#d0e11c;\"/>\r\n    <path clip-path=\"url(#p3e2599a388)\" d=\"M 75.652195 197.783656 \r\nC 76.436715 197.783656 77.18921 197.471963 77.74395 196.917223 \r\nC 78.298689 196.362483 78.610383 195.609989 78.610383 194.825468 \r\nC 78.610383 194.040948 78.298689 193.288454 77.74395 192.733714 \r\nC 77.18921 192.178974 76.436715 191.867281 75.652195 191.867281 \r\nC 74.867674 191.867281 74.11518 192.178974 73.56044 192.733714 \r\nC 73.0057 193.288454 72.694007 194.040948 72.694007 194.825468 \r\nC 72.694007 195.609989 73.0057 196.362483 73.56044 196.917223 \r\nC 74.11518 197.471963 74.867674 197.783656 75.652195 197.783656 \r\nz\r\n\" style=\"fill:#b5de2b;stroke:#b5de2b;\"/>\r\n    <path clip-path=\"url(#p3e2599a388)\" d=\"M 65.306523 198.242749 \r\nC 66.086735 198.242749 66.835096 197.932768 67.386789 197.381074 \r\nC 67.938483 196.829381 68.248464 196.081019 68.248464 195.300807 \r\nC 68.248464 194.520595 67.938483 193.772234 67.386789 193.22054 \r\nC 66.835096 192.668847 66.086735 192.358866 65.306523 192.358866 \r\nC 64.52631 192.358866 63.777949 192.668847 63.226256 193.22054 \r\nC 62.674562 193.772234 62.364581 194.520595 62.364581 195.300807 \r\nC 62.364581 196.081019 62.674562 196.829381 63.226256 197.381074 \r\nC 63.777949 197.932768 64.52631 198.242749 65.306523 198.242749 \r\nz\r\n\" style=\"fill:#aadc32;stroke:#aadc32;\"/>\r\n    <path clip-path=\"url(#p3e2599a388)\" d=\"M 61.62595 195.464689 \r\nC 62.426719 195.464689 63.194799 195.14654 63.761028 194.58031 \r\nC 64.327258 194.014081 64.645406 193.246001 64.645406 192.445232 \r\nC 64.645406 191.644463 64.327258 190.876384 63.761028 190.310154 \r\nC 63.194799 189.743925 62.426719 189.425776 61.62595 189.425776 \r\nC 60.825181 189.425776 60.057102 189.743925 59.490872 190.310154 \r\nC 58.924643 190.876384 58.606494 191.644463 58.606494 192.445232 \r\nC 58.606494 193.246001 58.924643 194.014081 59.490872 194.58031 \r\nC 60.057102 195.14654 60.825181 195.464689 61.62595 195.464689 \r\nz\r\n\" style=\"fill:#d8e219;stroke:#d8e219;\"/>\r\n    <path clip-path=\"url(#p3e2599a388)\" d=\"M 67.801197 187.017992 \r\nC 68.60626 187.017992 69.378457 186.698137 69.947722 186.128872 \r\nC 70.516987 185.559607 70.836842 184.78741 70.836842 183.982347 \r\nC 70.836842 183.177285 70.516987 182.405088 69.947722 181.835823 \r\nC 69.378457 181.266558 68.60626 180.946703 67.801197 180.946703 \r\nC 66.996135 180.946703 66.223938 181.266558 65.654673 181.835823 \r\nC 65.085408 182.405088 64.765553 183.177285 64.765553 183.982347 \r\nC 64.765553 184.78741 65.085408 185.559607 65.654673 186.128872 \r\nC 66.223938 186.698137 66.996135 187.017992 67.801197 187.017992 \r\nz\r\n\" style=\"fill:#dfe318;stroke:#dfe318;\"/>\r\n    <path clip-path=\"url(#p3e2599a388)\" d=\"M 64.007457 187.407482 \r\nC 64.82064 187.407482 65.600627 187.084401 66.175634 186.509394 \r\nC 66.750642 185.934386 67.073723 185.1544 67.073723 184.341217 \r\nC 67.073723 183.528033 66.750642 182.748047 66.175634 182.173039 \r\nC 65.600627 181.598032 64.82064 181.274951 64.007457 181.274951 \r\nC 63.194274 181.274951 62.414287 181.598032 61.83928 182.173039 \r\nC 61.264273 182.748047 60.941192 183.528033 60.941192 184.341217 \r\nC 60.941192 185.1544 61.264273 185.934386 61.83928 186.509394 \r\nC 62.414287 187.084401 63.194274 187.407482 64.007457 187.407482 \r\nz\r\n\" style=\"fill:#efe51c;stroke:#efe51c;\"/>\r\n    <path clip-path=\"url(#p3e2599a388)\" d=\"M 70.205371 194.649236 \r\nC 71.021498 194.649236 71.804307 194.324986 72.381396 193.747897 \r\nC 72.958484 193.170809 73.282735 192.387999 73.282735 191.571872 \r\nC 73.282735 190.755746 72.958484 189.972936 72.381396 189.395848 \r\nC 71.804307 188.818759 71.021498 188.494509 70.205371 188.494509 \r\nC 69.389245 188.494509 68.606435 188.818759 68.029346 189.395848 \r\nC 67.452258 189.972936 67.128007 190.755746 67.128007 191.571872 \r\nC 67.128007 192.387999 67.452258 193.170809 68.029346 193.747897 \r\nC 68.606435 194.324986 69.389245 194.649236 70.205371 194.649236 \r\nz\r\n\" style=\"fill:#f6e620;stroke:#f6e620;\"/>\r\n    <path clip-path=\"url(#p3e2599a388)\" d=\"M 61.157358 195.919613 \r\nC 61.978053 195.919613 62.765246 195.593547 63.345565 195.013228 \r\nC 63.925885 194.432908 64.25195 193.645716 64.25195 192.82502 \r\nC 64.25195 192.004325 63.925885 191.217132 63.345565 190.636813 \r\nC 62.765246 190.056494 61.978053 189.730428 61.157358 189.730428 \r\nC 60.336662 189.730428 59.54947 190.056494 58.969151 190.636813 \r\nC 58.388831 191.217132 58.062766 192.004325 58.062766 192.82502 \r\nC 58.062766 193.645716 58.388831 194.432908 58.969151 195.013228 \r\nC 59.54947 195.593547 60.336662 195.919613 61.157358 195.919613 \r\nz\r\n\" style=\"fill:#fde725;stroke:#fde725;\"/>\r\n   </g>\r\n   <g id=\"matplotlib.axis_1\">\r\n    <g id=\"xtick_1\">\r\n     <g id=\"line2d_1\">\r\n      <defs>\r\n       <path d=\"M 0 0 \r\nL 0 3.5 \r\n\" id=\"maa879eea16\" style=\"stroke:#000000;stroke-width:0.8;\"/>\r\n      </defs>\r\n      <g>\r\n       <use style=\"stroke:#000000;stroke-width:0.8;\" x=\"80.329375\" xlink:href=\"#maa879eea16\" y=\"224.64\"/>\r\n      </g>\r\n     </g>\r\n    </g>\r\n    <g id=\"xtick_2\">\r\n     <g id=\"line2d_2\">\r\n      <g>\r\n       <use style=\"stroke:#000000;stroke-width:0.8;\" x=\"126.174417\" xlink:href=\"#maa879eea16\" y=\"224.64\"/>\r\n      </g>\r\n     </g>\r\n    </g>\r\n    <g id=\"xtick_3\">\r\n     <g id=\"line2d_3\">\r\n      <g>\r\n       <use style=\"stroke:#000000;stroke-width:0.8;\" x=\"172.01946\" xlink:href=\"#maa879eea16\" y=\"224.64\"/>\r\n      </g>\r\n     </g>\r\n    </g>\r\n    <g id=\"xtick_4\">\r\n     <g id=\"line2d_4\">\r\n      <g>\r\n       <use style=\"stroke:#000000;stroke-width:0.8;\" x=\"217.864502\" xlink:href=\"#maa879eea16\" y=\"224.64\"/>\r\n      </g>\r\n     </g>\r\n    </g>\r\n    <g id=\"xtick_5\">\r\n     <g id=\"line2d_5\">\r\n      <g>\r\n       <use style=\"stroke:#000000;stroke-width:0.8;\" x=\"263.709545\" xlink:href=\"#maa879eea16\" y=\"224.64\"/>\r\n      </g>\r\n     </g>\r\n    </g>\r\n    <g id=\"xtick_6\">\r\n     <g id=\"line2d_6\">\r\n      <g>\r\n       <use style=\"stroke:#000000;stroke-width:0.8;\" x=\"309.554587\" xlink:href=\"#maa879eea16\" y=\"224.64\"/>\r\n      </g>\r\n     </g>\r\n    </g>\r\n   </g>\r\n   <g id=\"matplotlib.axis_2\">\r\n    <g id=\"ytick_1\">\r\n     <g id=\"line2d_7\">\r\n      <defs>\r\n       <path d=\"M 0 0 \r\nL -3.5 0 \r\n\" id=\"m3f35acd445\" style=\"stroke:#000000;stroke-width:0.8;\"/>\r\n      </defs>\r\n      <g>\r\n       <use style=\"stroke:#000000;stroke-width:0.8;\" x=\"48.982813\" xlink:href=\"#m3f35acd445\" y=\"223.00379\"/>\r\n      </g>\r\n     </g>\r\n     <g id=\"text_1\">\r\n      <!-- −70 -->\r\n      <g transform=\"translate(20.878125 226.803009)scale(0.1 -0.1)\">\r\n       <defs>\r\n        <path d=\"M 678 2272 \r\nL 4684 2272 \r\nL 4684 1741 \r\nL 678 1741 \r\nL 678 2272 \r\nz\r\n\" id=\"DejaVuSans-2212\" transform=\"scale(0.015625)\"/>\r\n        <path d=\"M 525 4666 \r\nL 3525 4666 \r\nL 3525 4397 \r\nL 1831 0 \r\nL 1172 0 \r\nL 2766 4134 \r\nL 525 4134 \r\nL 525 4666 \r\nz\r\n\" id=\"DejaVuSans-37\" transform=\"scale(0.015625)\"/>\r\n        <path d=\"M 2034 4250 \r\nQ 1547 4250 1301 3770 \r\nQ 1056 3291 1056 2328 \r\nQ 1056 1369 1301 889 \r\nQ 1547 409 2034 409 \r\nQ 2525 409 2770 889 \r\nQ 3016 1369 3016 2328 \r\nQ 3016 3291 2770 3770 \r\nQ 2525 4250 2034 4250 \r\nz\r\nM 2034 4750 \r\nQ 2819 4750 3233 4129 \r\nQ 3647 3509 3647 2328 \r\nQ 3647 1150 3233 529 \r\nQ 2819 -91 2034 -91 \r\nQ 1250 -91 836 529 \r\nQ 422 1150 422 2328 \r\nQ 422 3509 836 4129 \r\nQ 1250 4750 2034 4750 \r\nz\r\n\" id=\"DejaVuSans-30\" transform=\"scale(0.015625)\"/>\r\n       </defs>\r\n       <use xlink:href=\"#DejaVuSans-2212\"/>\r\n       <use x=\"83.789062\" xlink:href=\"#DejaVuSans-37\"/>\r\n       <use x=\"147.412109\" xlink:href=\"#DejaVuSans-30\"/>\r\n      </g>\r\n     </g>\r\n    </g>\r\n    <g id=\"ytick_2\">\r\n     <g id=\"line2d_8\">\r\n      <g>\r\n       <use style=\"stroke:#000000;stroke-width:0.8;\" x=\"48.982813\" xlink:href=\"#m3f35acd445\" y=\"185.773287\"/>\r\n      </g>\r\n     </g>\r\n     <g id=\"text_2\">\r\n      <!-- −60 -->\r\n      <g transform=\"translate(20.878125 189.572505)scale(0.1 -0.1)\">\r\n       <defs>\r\n        <path d=\"M 2113 2584 \r\nQ 1688 2584 1439 2293 \r\nQ 1191 2003 1191 1497 \r\nQ 1191 994 1439 701 \r\nQ 1688 409 2113 409 \r\nQ 2538 409 2786 701 \r\nQ 3034 994 3034 1497 \r\nQ 3034 2003 2786 2293 \r\nQ 2538 2584 2113 2584 \r\nz\r\nM 3366 4563 \r\nL 3366 3988 \r\nQ 3128 4100 2886 4159 \r\nQ 2644 4219 2406 4219 \r\nQ 1781 4219 1451 3797 \r\nQ 1122 3375 1075 2522 \r\nQ 1259 2794 1537 2939 \r\nQ 1816 3084 2150 3084 \r\nQ 2853 3084 3261 2657 \r\nQ 3669 2231 3669 1497 \r\nQ 3669 778 3244 343 \r\nQ 2819 -91 2113 -91 \r\nQ 1303 -91 875 529 \r\nQ 447 1150 447 2328 \r\nQ 447 3434 972 4092 \r\nQ 1497 4750 2381 4750 \r\nQ 2619 4750 2861 4703 \r\nQ 3103 4656 3366 4563 \r\nz\r\n\" id=\"DejaVuSans-36\" transform=\"scale(0.015625)\"/>\r\n       </defs>\r\n       <use xlink:href=\"#DejaVuSans-2212\"/>\r\n       <use x=\"83.789062\" xlink:href=\"#DejaVuSans-36\"/>\r\n       <use x=\"147.412109\" xlink:href=\"#DejaVuSans-30\"/>\r\n      </g>\r\n     </g>\r\n    </g>\r\n    <g id=\"ytick_3\">\r\n     <g id=\"line2d_9\">\r\n      <g>\r\n       <use style=\"stroke:#000000;stroke-width:0.8;\" x=\"48.982813\" xlink:href=\"#m3f35acd445\" y=\"148.542783\"/>\r\n      </g>\r\n     </g>\r\n     <g id=\"text_3\">\r\n      <!-- −50 -->\r\n      <g transform=\"translate(20.878125 152.342002)scale(0.1 -0.1)\">\r\n       <defs>\r\n        <path d=\"M 691 4666 \r\nL 3169 4666 \r\nL 3169 4134 \r\nL 1269 4134 \r\nL 1269 2991 \r\nQ 1406 3038 1543 3061 \r\nQ 1681 3084 1819 3084 \r\nQ 2600 3084 3056 2656 \r\nQ 3513 2228 3513 1497 \r\nQ 3513 744 3044 326 \r\nQ 2575 -91 1722 -91 \r\nQ 1428 -91 1123 -41 \r\nQ 819 9 494 109 \r\nL 494 744 \r\nQ 775 591 1075 516 \r\nQ 1375 441 1709 441 \r\nQ 2250 441 2565 725 \r\nQ 2881 1009 2881 1497 \r\nQ 2881 1984 2565 2268 \r\nQ 2250 2553 1709 2553 \r\nQ 1456 2553 1204 2497 \r\nQ 953 2441 691 2322 \r\nL 691 4666 \r\nz\r\n\" id=\"DejaVuSans-35\" transform=\"scale(0.015625)\"/>\r\n       </defs>\r\n       <use xlink:href=\"#DejaVuSans-2212\"/>\r\n       <use x=\"83.789062\" xlink:href=\"#DejaVuSans-35\"/>\r\n       <use x=\"147.412109\" xlink:href=\"#DejaVuSans-30\"/>\r\n      </g>\r\n     </g>\r\n    </g>\r\n    <g id=\"ytick_4\">\r\n     <g id=\"line2d_10\">\r\n      <g>\r\n       <use style=\"stroke:#000000;stroke-width:0.8;\" x=\"48.982813\" xlink:href=\"#m3f35acd445\" y=\"111.312279\"/>\r\n      </g>\r\n     </g>\r\n     <g id=\"text_4\">\r\n      <!-- −40 -->\r\n      <g transform=\"translate(20.878125 115.111498)scale(0.1 -0.1)\">\r\n       <defs>\r\n        <path d=\"M 2419 4116 \r\nL 825 1625 \r\nL 2419 1625 \r\nL 2419 4116 \r\nz\r\nM 2253 4666 \r\nL 3047 4666 \r\nL 3047 1625 \r\nL 3713 1625 \r\nL 3713 1100 \r\nL 3047 1100 \r\nL 3047 0 \r\nL 2419 0 \r\nL 2419 1100 \r\nL 313 1100 \r\nL 313 1709 \r\nL 2253 4666 \r\nz\r\n\" id=\"DejaVuSans-34\" transform=\"scale(0.015625)\"/>\r\n       </defs>\r\n       <use xlink:href=\"#DejaVuSans-2212\"/>\r\n       <use x=\"83.789062\" xlink:href=\"#DejaVuSans-34\"/>\r\n       <use x=\"147.412109\" xlink:href=\"#DejaVuSans-30\"/>\r\n      </g>\r\n     </g>\r\n    </g>\r\n    <g id=\"ytick_5\">\r\n     <g id=\"line2d_11\">\r\n      <g>\r\n       <use style=\"stroke:#000000;stroke-width:0.8;\" x=\"48.982813\" xlink:href=\"#m3f35acd445\" y=\"74.081776\"/>\r\n      </g>\r\n     </g>\r\n     <g id=\"text_5\">\r\n      <!-- −30 -->\r\n      <g transform=\"translate(20.878125 77.880994)scale(0.1 -0.1)\">\r\n       <defs>\r\n        <path d=\"M 2597 2516 \r\nQ 3050 2419 3304 2112 \r\nQ 3559 1806 3559 1356 \r\nQ 3559 666 3084 287 \r\nQ 2609 -91 1734 -91 \r\nQ 1441 -91 1130 -33 \r\nQ 819 25 488 141 \r\nL 488 750 \r\nQ 750 597 1062 519 \r\nQ 1375 441 1716 441 \r\nQ 2309 441 2620 675 \r\nQ 2931 909 2931 1356 \r\nQ 2931 1769 2642 2001 \r\nQ 2353 2234 1838 2234 \r\nL 1294 2234 \r\nL 1294 2753 \r\nL 1863 2753 \r\nQ 2328 2753 2575 2939 \r\nQ 2822 3125 2822 3475 \r\nQ 2822 3834 2567 4026 \r\nQ 2313 4219 1838 4219 \r\nQ 1578 4219 1281 4162 \r\nQ 984 4106 628 3988 \r\nL 628 4550 \r\nQ 988 4650 1302 4700 \r\nQ 1616 4750 1894 4750 \r\nQ 2613 4750 3031 4423 \r\nQ 3450 4097 3450 3541 \r\nQ 3450 3153 3228 2886 \r\nQ 3006 2619 2597 2516 \r\nz\r\n\" id=\"DejaVuSans-33\" transform=\"scale(0.015625)\"/>\r\n       </defs>\r\n       <use xlink:href=\"#DejaVuSans-2212\"/>\r\n       <use x=\"83.789062\" xlink:href=\"#DejaVuSans-33\"/>\r\n       <use x=\"147.412109\" xlink:href=\"#DejaVuSans-30\"/>\r\n      </g>\r\n     </g>\r\n    </g>\r\n    <g id=\"ytick_6\">\r\n     <g id=\"line2d_12\">\r\n      <g>\r\n       <use style=\"stroke:#000000;stroke-width:0.8;\" x=\"48.982813\" xlink:href=\"#m3f35acd445\" y=\"36.851272\"/>\r\n      </g>\r\n     </g>\r\n     <g id=\"text_6\">\r\n      <!-- −20 -->\r\n      <g transform=\"translate(20.878125 40.650491)scale(0.1 -0.1)\">\r\n       <defs>\r\n        <path d=\"M 1228 531 \r\nL 3431 531 \r\nL 3431 0 \r\nL 469 0 \r\nL 469 531 \r\nQ 828 903 1448 1529 \r\nQ 2069 2156 2228 2338 \r\nQ 2531 2678 2651 2914 \r\nQ 2772 3150 2772 3378 \r\nQ 2772 3750 2511 3984 \r\nQ 2250 4219 1831 4219 \r\nQ 1534 4219 1204 4116 \r\nQ 875 4013 500 3803 \r\nL 500 4441 \r\nQ 881 4594 1212 4672 \r\nQ 1544 4750 1819 4750 \r\nQ 2544 4750 2975 4387 \r\nQ 3406 4025 3406 3419 \r\nQ 3406 3131 3298 2873 \r\nQ 3191 2616 2906 2266 \r\nQ 2828 2175 2409 1742 \r\nQ 1991 1309 1228 531 \r\nz\r\n\" id=\"DejaVuSans-32\" transform=\"scale(0.015625)\"/>\r\n       </defs>\r\n       <use xlink:href=\"#DejaVuSans-2212\"/>\r\n       <use x=\"83.789062\" xlink:href=\"#DejaVuSans-32\"/>\r\n       <use x=\"147.412109\" xlink:href=\"#DejaVuSans-30\"/>\r\n      </g>\r\n     </g>\r\n    </g>\r\n    <g id=\"text_7\">\r\n     <!-- C -->\r\n     <g transform=\"translate(14.798438 119.411406)rotate(-90)scale(0.1 -0.1)\">\r\n      <defs>\r\n       <path d=\"M 4122 4306 \r\nL 4122 3641 \r\nQ 3803 3938 3442 4084 \r\nQ 3081 4231 2675 4231 \r\nQ 1875 4231 1450 3742 \r\nQ 1025 3253 1025 2328 \r\nQ 1025 1406 1450 917 \r\nQ 1875 428 2675 428 \r\nQ 3081 428 3442 575 \r\nQ 3803 722 4122 1019 \r\nL 4122 359 \r\nQ 3791 134 3420 21 \r\nQ 3050 -91 2638 -91 \r\nQ 1578 -91 968 557 \r\nQ 359 1206 359 2328 \r\nQ 359 3453 968 4101 \r\nQ 1578 4750 2638 4750 \r\nQ 3056 4750 3426 4639 \r\nQ 3797 4528 4122 4306 \r\nz\r\n\" id=\"DejaVuSans-43\" transform=\"scale(0.015625)\"/>\r\n      </defs>\r\n      <use xlink:href=\"#DejaVuSans-43\"/>\r\n     </g>\r\n    </g>\r\n   </g>\r\n   <g id=\"patch_3\">\r\n    <path d=\"M 48.982813 224.64 \r\nL 48.982813 7.2 \r\n\" style=\"fill:none;stroke:#000000;stroke-linecap:square;stroke-linejoin:miter;stroke-width:0.8;\"/>\r\n   </g>\r\n   <g id=\"patch_4\">\r\n    <path d=\"M 316.822813 224.64 \r\nL 316.822813 7.2 \r\n\" style=\"fill:none;stroke:#000000;stroke-linecap:square;stroke-linejoin:miter;stroke-width:0.8;\"/>\r\n   </g>\r\n   <g id=\"patch_5\">\r\n    <path d=\"M 48.982812 224.64 \r\nL 316.822813 224.64 \r\n\" style=\"fill:none;stroke:#000000;stroke-linecap:square;stroke-linejoin:miter;stroke-width:0.8;\"/>\r\n   </g>\r\n   <g id=\"patch_6\">\r\n    <path d=\"M 48.982812 7.2 \r\nL 316.822813 7.2 \r\n\" style=\"fill:none;stroke:#000000;stroke-linecap:square;stroke-linejoin:miter;stroke-width:0.8;\"/>\r\n   </g>\r\n  </g>\r\n  <g id=\"axes_2\">\r\n   <g id=\"patch_7\">\r\n    <path d=\"M 333.562813 224.64 \r\nL 344.434813 224.64 \r\nL 344.434813 7.2 \r\nL 333.562813 7.2 \r\nz\r\n\" style=\"fill:#ffffff;\"/>\r\n   </g>\r\n   <g id=\"patch_8\">\r\n    <path clip-path=\"url(#pd2272b8ac3)\" d=\"M 333.562813 224.64 \r\nL 333.562813 223.790625 \r\nL 333.562813 8.049375 \r\nL 333.562813 7.2 \r\nL 344.434813 7.2 \r\nL 344.434813 8.049375 \r\nL 344.434813 223.790625 \r\nL 344.434813 224.64 \r\nL 344.434813 224.64 \r\nz\r\n\" style=\"fill:#ffffff;stroke:#ffffff;stroke-linejoin:miter;stroke-width:0.01;\"/>\r\n   </g>\r\n   <image height=\"218\" id=\"image1d275469c4\" transform=\"scale(1 -1)translate(0 -218)\" width=\"10\" x=\"334\" xlink:href=\"data:image/png;base64,\r\niVBORw0KGgoAAAANSUhEUgAAAAoAAADaCAYAAACfDNOSAAABUElEQVR4nOWa6xHCMAyD/cpmjMD+m0BY4cudfL4UfuskS4optPWXv7eBT5kHwVl5OAMOMlpiacrodEY5o2dSaZyjHDiYY4PrOek515vPiHAdh6JhRvkq7JxrhuFOpGmOu2ELqbT8UGAzWx84Z6RAbAbHc4FrzHhwcDEjBF5hZq4ZfeD6L9JBM/9ZIWdkuKOLJpWec/2sCvXXwiftzB1dsz0cjadhC8Wu4YRnruGM+sD1OQ66hj8pOszoGf0GRlohlsYV6s0En3HMtX7GoBU2SNtYPBlfKq2O58A1BBY1w2eUm9FLc9cNM8oDpzNWfBgwGypUu14OzfC95q7VZpIyLlohbiZ5MxCY8kOBu8Y56pvBOfKDy6XVZg66llcol9avwjK9GfV1hh9cKr0azCDcCSMjtIIP96wW/A9QSW9KB2akQMy4HL6CwGekz9gD3vz4AcB+gWx1Sl7jAAAAAElFTkSuQmCC\" y=\"-7\"/>\r\n   <g id=\"matplotlib.axis_3\"/>\r\n   <g id=\"matplotlib.axis_4\">\r\n    <g id=\"ytick_7\">\r\n     <g id=\"line2d_13\">\r\n      <defs>\r\n       <path d=\"M 0 0 \r\nL 3.5 0 \r\n\" id=\"ma027161b4f\" style=\"stroke:#000000;stroke-width:0.8;\"/>\r\n      </defs>\r\n      <g>\r\n       <use style=\"stroke:#000000;stroke-width:0.8;\" x=\"344.434813\" xlink:href=\"#ma027161b4f\" y=\"216.42086\"/>\r\n      </g>\r\n     </g>\r\n     <g id=\"text_8\">\r\n      <!-- 10 -->\r\n      <g transform=\"translate(351.434813 220.220079)scale(0.1 -0.1)\">\r\n       <defs>\r\n        <path d=\"M 794 531 \r\nL 1825 531 \r\nL 1825 4091 \r\nL 703 3866 \r\nL 703 4441 \r\nL 1819 4666 \r\nL 2450 4666 \r\nL 2450 531 \r\nL 3481 531 \r\nL 3481 0 \r\nL 794 0 \r\nL 794 531 \r\nz\r\n\" id=\"DejaVuSans-31\" transform=\"scale(0.015625)\"/>\r\n       </defs>\r\n       <use xlink:href=\"#DejaVuSans-31\"/>\r\n       <use x=\"63.623047\" xlink:href=\"#DejaVuSans-30\"/>\r\n      </g>\r\n     </g>\r\n    </g>\r\n    <g id=\"ytick_8\">\r\n     <g id=\"line2d_14\">\r\n      <g>\r\n       <use style=\"stroke:#000000;stroke-width:0.8;\" x=\"344.434813\" xlink:href=\"#ma027161b4f\" y=\"179.463888\"/>\r\n      </g>\r\n     </g>\r\n     <g id=\"text_9\">\r\n      <!-- 15 -->\r\n      <g transform=\"translate(351.434813 183.263106)scale(0.1 -0.1)\">\r\n       <use xlink:href=\"#DejaVuSans-31\"/>\r\n       <use x=\"63.623047\" xlink:href=\"#DejaVuSans-35\"/>\r\n      </g>\r\n     </g>\r\n    </g>\r\n    <g id=\"ytick_9\">\r\n     <g id=\"line2d_15\">\r\n      <g>\r\n       <use style=\"stroke:#000000;stroke-width:0.8;\" x=\"344.434813\" xlink:href=\"#ma027161b4f\" y=\"142.506915\"/>\r\n      </g>\r\n     </g>\r\n     <g id=\"text_10\">\r\n      <!-- 20 -->\r\n      <g transform=\"translate(351.434813 146.306134)scale(0.1 -0.1)\">\r\n       <use xlink:href=\"#DejaVuSans-32\"/>\r\n       <use x=\"63.623047\" xlink:href=\"#DejaVuSans-30\"/>\r\n      </g>\r\n     </g>\r\n    </g>\r\n    <g id=\"ytick_10\">\r\n     <g id=\"line2d_16\">\r\n      <g>\r\n       <use style=\"stroke:#000000;stroke-width:0.8;\" x=\"344.434813\" xlink:href=\"#ma027161b4f\" y=\"105.549943\"/>\r\n      </g>\r\n     </g>\r\n     <g id=\"text_11\">\r\n      <!-- 25 -->\r\n      <g transform=\"translate(351.434813 109.349162)scale(0.1 -0.1)\">\r\n       <use xlink:href=\"#DejaVuSans-32\"/>\r\n       <use x=\"63.623047\" xlink:href=\"#DejaVuSans-35\"/>\r\n      </g>\r\n     </g>\r\n    </g>\r\n    <g id=\"ytick_11\">\r\n     <g id=\"line2d_17\">\r\n      <g>\r\n       <use style=\"stroke:#000000;stroke-width:0.8;\" x=\"344.434813\" xlink:href=\"#ma027161b4f\" y=\"68.592971\"/>\r\n      </g>\r\n     </g>\r\n     <g id=\"text_12\">\r\n      <!-- 30 -->\r\n      <g transform=\"translate(351.434813 72.392189)scale(0.1 -0.1)\">\r\n       <use xlink:href=\"#DejaVuSans-33\"/>\r\n       <use x=\"63.623047\" xlink:href=\"#DejaVuSans-30\"/>\r\n      </g>\r\n     </g>\r\n    </g>\r\n    <g id=\"ytick_12\">\r\n     <g id=\"line2d_18\">\r\n      <g>\r\n       <use style=\"stroke:#000000;stroke-width:0.8;\" x=\"344.434813\" xlink:href=\"#ma027161b4f\" y=\"31.635998\"/>\r\n      </g>\r\n     </g>\r\n     <g id=\"text_13\">\r\n      <!-- 35 -->\r\n      <g transform=\"translate(351.434813 35.435217)scale(0.1 -0.1)\">\r\n       <use xlink:href=\"#DejaVuSans-33\"/>\r\n       <use x=\"63.623047\" xlink:href=\"#DejaVuSans-35\"/>\r\n      </g>\r\n     </g>\r\n    </g>\r\n   </g>\r\n   <g id=\"LineCollection_1\"/>\r\n   <g id=\"patch_9\">\r\n    <path d=\"M 333.562813 224.64 \r\nL 333.562813 223.790625 \r\nL 333.562813 8.049375 \r\nL 333.562813 7.2 \r\nL 344.434813 7.2 \r\nL 344.434813 8.049375 \r\nL 344.434813 223.790625 \r\nL 344.434813 224.64 \r\nz\r\n\" style=\"fill:none;stroke:#000000;stroke-linecap:square;stroke-linejoin:miter;stroke-width:0.8;\"/>\r\n   </g>\r\n  </g>\r\n </g>\r\n <defs>\r\n  <clipPath id=\"p3e2599a388\">\r\n   <rect height=\"217.44\" width=\"267.84\" x=\"48.982813\" y=\"7.2\"/>\r\n  </clipPath>\r\n  <clipPath id=\"pd2272b8ac3\">\r\n   <rect height=\"217.44\" width=\"10.872\" x=\"333.562813\" y=\"7.2\"/>\r\n  </clipPath>\r\n </defs>\r\n</svg>\r\n",
      "image/png": "[encoded data removed]"
     },
     "metadata": {
      "needs_background": "light"
     }
    }
   ],
   "metadata": {}
  },
  {
   "cell_type": "code",
   "execution_count": 154,
   "source": [
    "df.plot('A','B', kind = 'scatter')"
   ],
   "outputs": [
    {
     "output_type": "execute_result",
     "data": {
      "text/plain": [
       "<AxesSubplot:xlabel='A', ylabel='B'>"
      ]
     },
     "metadata": {},
     "execution_count": 154
    },
    {
     "output_type": "display_data",
     "data": {
      "text/plain": [
       "<Figure size 432x288 with 1 Axes>"
      ],
      "image/svg+xml": "<?xml version=\"1.0\" encoding=\"utf-8\" standalone=\"no\"?>\r\n<!DOCTYPE svg PUBLIC \"-//W3C//DTD SVG 1.1//EN\"\r\n  \"http://www.w3.org/Graphics/SVG/1.1/DTD/svg11.dtd\">\r\n<svg height=\"262.19625pt\" version=\"1.1\" viewBox=\"0 0 382.603125 262.19625\" width=\"382.603125pt\" xmlns=\"http://www.w3.org/2000/svg\" xmlns:xlink=\"http://www.w3.org/1999/xlink\">\r\n <metadata>\r\n  <rdf:RDF xmlns:cc=\"http://creativecommons.org/ns#\" xmlns:dc=\"http://purl.org/dc/elements/1.1/\" xmlns:rdf=\"http://www.w3.org/1999/02/22-rdf-syntax-ns#\">\r\n   <cc:Work>\r\n    <dc:type rdf:resource=\"http://purl.org/dc/dcmitype/StillImage\"/>\r\n    <dc:date>2021-08-19T12:15:33.614948</dc:date>\r\n    <dc:format>image/svg+xml</dc:format>\r\n    <dc:creator>\r\n     <cc:Agent>\r\n      <dc:title>Matplotlib v3.4.3, https://matplotlib.org/</dc:title>\r\n     </cc:Agent>\r\n    </dc:creator>\r\n   </cc:Work>\r\n  </rdf:RDF>\r\n </metadata>\r\n <defs>\r\n  <style type=\"text/css\">*{stroke-linecap:butt;stroke-linejoin:round;}</style>\r\n </defs>\r\n <g id=\"figure_1\">\r\n  <g id=\"patch_1\">\r\n   <path d=\"M 0 262.19625 \r\nL 382.603125 262.19625 \r\nL 382.603125 0 \r\nL 0 0 \r\nz\r\n\" style=\"fill:none;\"/>\r\n  </g>\r\n  <g id=\"axes_1\">\r\n   <g id=\"patch_2\">\r\n    <path d=\"M 40.603125 224.64 \r\nL 375.403125 224.64 \r\nL 375.403125 7.2 \r\nL 40.603125 7.2 \r\nz\r\n\" style=\"fill:#ffffff;\"/>\r\n   </g>\r\n   <g id=\"PathCollection_1\">\r\n    <defs>\r\n     <path d=\"M 0 2.236068 \r\nC 0.593012 2.236068 1.161816 2.000462 1.581139 1.581139 \r\nC 2.000462 1.161816 2.236068 0.593012 2.236068 0 \r\nC 2.236068 -0.593012 2.000462 -1.161816 1.581139 -1.581139 \r\nC 1.161816 -2.000462 0.593012 -2.236068 0 -2.236068 \r\nC -0.593012 -2.236068 -1.161816 -2.000462 -1.581139 -1.581139 \r\nC -2.000462 -1.161816 -2.236068 -0.593012 -2.236068 0 \r\nC -2.236068 0.593012 -2.000462 1.161816 -1.581139 1.581139 \r\nC -1.161816 2.000462 -0.593012 2.236068 0 2.236068 \r\nz\r\n\" id=\"m56a488ead9\" style=\"stroke:#0072b2;\"/>\r\n    </defs>\r\n    <g clip-path=\"url(#p55730ca3b2)\">\r\n     <use style=\"fill:#0072b2;stroke:#0072b2;\" x=\"239.262542\" xlink:href=\"#m56a488ead9\" y=\"139.691519\"/>\r\n     <use style=\"fill:#0072b2;stroke:#0072b2;\" x=\"250.693378\" xlink:href=\"#m56a488ead9\" y=\"127.972523\"/>\r\n     <use style=\"fill:#0072b2;stroke:#0072b2;\" x=\"253.936669\" xlink:href=\"#m56a488ead9\" y=\"134.475233\"/>\r\n     <use style=\"fill:#0072b2;stroke:#0072b2;\" x=\"236.672632\" xlink:href=\"#m56a488ead9\" y=\"131.655969\"/>\r\n     <use style=\"fill:#0072b2;stroke:#0072b2;\" x=\"230.041144\" xlink:href=\"#m56a488ead9\" y=\"130.26553\"/>\r\n     <use style=\"fill:#0072b2;stroke:#0072b2;\" x=\"248.968688\" xlink:href=\"#m56a488ead9\" y=\"145.394606\"/>\r\n     <use style=\"fill:#0072b2;stroke:#0072b2;\" x=\"221.155885\" xlink:href=\"#m56a488ead9\" y=\"149.352164\"/>\r\n     <use style=\"fill:#0072b2;stroke:#0072b2;\" x=\"216.240006\" xlink:href=\"#m56a488ead9\" y=\"141.751445\"/>\r\n     <use style=\"fill:#0072b2;stroke:#0072b2;\" x=\"230.749231\" xlink:href=\"#m56a488ead9\" y=\"140.843798\"/>\r\n     <use style=\"fill:#0072b2;stroke:#0072b2;\" x=\"220.815294\" xlink:href=\"#m56a488ead9\" y=\"148.989578\"/>\r\n     <use style=\"fill:#0072b2;stroke:#0072b2;\" x=\"213.034402\" xlink:href=\"#m56a488ead9\" y=\"144.347935\"/>\r\n     <use style=\"fill:#0072b2;stroke:#0072b2;\" x=\"211.948918\" xlink:href=\"#m56a488ead9\" y=\"147.567377\"/>\r\n     <use style=\"fill:#0072b2;stroke:#0072b2;\" x=\"229.042123\" xlink:href=\"#m56a488ead9\" y=\"145.148035\"/>\r\n     <use style=\"fill:#0072b2;stroke:#0072b2;\" x=\"221.719501\" xlink:href=\"#m56a488ead9\" y=\"142.615339\"/>\r\n     <use style=\"fill:#0072b2;stroke:#0072b2;\" x=\"216.630908\" xlink:href=\"#m56a488ead9\" y=\"150.132358\"/>\r\n     <use style=\"fill:#0072b2;stroke:#0072b2;\" x=\"211.652695\" xlink:href=\"#m56a488ead9\" y=\"144.825148\"/>\r\n     <use style=\"fill:#0072b2;stroke:#0072b2;\" x=\"236.935435\" xlink:href=\"#m56a488ead9\" y=\"151.595053\"/>\r\n     <use style=\"fill:#0072b2;stroke:#0072b2;\" x=\"261.99876\" xlink:href=\"#m56a488ead9\" y=\"160.369215\"/>\r\n     <use style=\"fill:#0072b2;stroke:#0072b2;\" x=\"273.506483\" xlink:href=\"#m56a488ead9\" y=\"166.30134\"/>\r\n     <use style=\"fill:#0072b2;stroke:#0072b2;\" x=\"277.932666\" xlink:href=\"#m56a488ead9\" y=\"168.626874\"/>\r\n     <use style=\"fill:#0072b2;stroke:#0072b2;\" x=\"286.38384\" xlink:href=\"#m56a488ead9\" y=\"167.891745\"/>\r\n     <use style=\"fill:#0072b2;stroke:#0072b2;\" x=\"303.469508\" xlink:href=\"#m56a488ead9\" y=\"173.083082\"/>\r\n     <use style=\"fill:#0072b2;stroke:#0072b2;\" x=\"292.743672\" xlink:href=\"#m56a488ead9\" y=\"168.078307\"/>\r\n     <use style=\"fill:#0072b2;stroke:#0072b2;\" x=\"306.220155\" xlink:href=\"#m56a488ead9\" y=\"166.388606\"/>\r\n     <use style=\"fill:#0072b2;stroke:#0072b2;\" x=\"291.849102\" xlink:href=\"#m56a488ead9\" y=\"171.057267\"/>\r\n     <use style=\"fill:#0072b2;stroke:#0072b2;\" x=\"284.539666\" xlink:href=\"#m56a488ead9\" y=\"165.083724\"/>\r\n     <use style=\"fill:#0072b2;stroke:#0072b2;\" x=\"294.936235\" xlink:href=\"#m56a488ead9\" y=\"157.281984\"/>\r\n     <use style=\"fill:#0072b2;stroke:#0072b2;\" x=\"278.561753\" xlink:href=\"#m56a488ead9\" y=\"157.945091\"/>\r\n     <use style=\"fill:#0072b2;stroke:#0072b2;\" x=\"276.956389\" xlink:href=\"#m56a488ead9\" y=\"159.389659\"/>\r\n     <use style=\"fill:#0072b2;stroke:#0072b2;\" x=\"267.079592\" xlink:href=\"#m56a488ead9\" y=\"171.308426\"/>\r\n     <use style=\"fill:#0072b2;stroke:#0072b2;\" x=\"264.149871\" xlink:href=\"#m56a488ead9\" y=\"174.046686\"/>\r\n     <use style=\"fill:#0072b2;stroke:#0072b2;\" x=\"232.074512\" xlink:href=\"#m56a488ead9\" y=\"176.005451\"/>\r\n     <use style=\"fill:#0072b2;stroke:#0072b2;\" x=\"211.77051\" xlink:href=\"#m56a488ead9\" y=\"174.356636\"/>\r\n     <use style=\"fill:#0072b2;stroke:#0072b2;\" x=\"203.749034\" xlink:href=\"#m56a488ead9\" y=\"175.488369\"/>\r\n     <use style=\"fill:#0072b2;stroke:#0072b2;\" x=\"214.378923\" xlink:href=\"#m56a488ead9\" y=\"173.848642\"/>\r\n     <use style=\"fill:#0072b2;stroke:#0072b2;\" x=\"212.388839\" xlink:href=\"#m56a488ead9\" y=\"163.5404\"/>\r\n     <use style=\"fill:#0072b2;stroke:#0072b2;\" x=\"212.421457\" xlink:href=\"#m56a488ead9\" y=\"167.101131\"/>\r\n     <use style=\"fill:#0072b2;stroke:#0072b2;\" x=\"220.309357\" xlink:href=\"#m56a488ead9\" y=\"170.400195\"/>\r\n     <use style=\"fill:#0072b2;stroke:#0072b2;\" x=\"210.228762\" xlink:href=\"#m56a488ead9\" y=\"179.197065\"/>\r\n     <use style=\"fill:#0072b2;stroke:#0072b2;\" x=\"213.479488\" xlink:href=\"#m56a488ead9\" y=\"179.255258\"/>\r\n     <use style=\"fill:#0072b2;stroke:#0072b2;\" x=\"204.248973\" xlink:href=\"#m56a488ead9\" y=\"172.691613\"/>\r\n     <use style=\"fill:#0072b2;stroke:#0072b2;\" x=\"184.447702\" xlink:href=\"#m56a488ead9\" y=\"184.457842\"/>\r\n     <use style=\"fill:#0072b2;stroke:#0072b2;\" x=\"179.967498\" xlink:href=\"#m56a488ead9\" y=\"188.932034\"/>\r\n     <use style=\"fill:#0072b2;stroke:#0072b2;\" x=\"186.544036\" xlink:href=\"#m56a488ead9\" y=\"188.690534\"/>\r\n     <use style=\"fill:#0072b2;stroke:#0072b2;\" x=\"190.424694\" xlink:href=\"#m56a488ead9\" y=\"182.97831\"/>\r\n     <use style=\"fill:#0072b2;stroke:#0072b2;\" x=\"190.289101\" xlink:href=\"#m56a488ead9\" y=\"180.405633\"/>\r\n     <use style=\"fill:#0072b2;stroke:#0072b2;\" x=\"217.708623\" xlink:href=\"#m56a488ead9\" y=\"178.218696\"/>\r\n     <use style=\"fill:#0072b2;stroke:#0072b2;\" x=\"222.441117\" xlink:href=\"#m56a488ead9\" y=\"179.725955\"/>\r\n     <use style=\"fill:#0072b2;stroke:#0072b2;\" x=\"233.658666\" xlink:href=\"#m56a488ead9\" y=\"176.488025\"/>\r\n     <use style=\"fill:#0072b2;stroke:#0072b2;\" x=\"259.31061\" xlink:href=\"#m56a488ead9\" y=\"169.672461\"/>\r\n     <use style=\"fill:#0072b2;stroke:#0072b2;\" x=\"244.47876\" xlink:href=\"#m56a488ead9\" y=\"181.155945\"/>\r\n     <use style=\"fill:#0072b2;stroke:#0072b2;\" x=\"232.572938\" xlink:href=\"#m56a488ead9\" y=\"176.260589\"/>\r\n     <use style=\"fill:#0072b2;stroke:#0072b2;\" x=\"252.558078\" xlink:href=\"#m56a488ead9\" y=\"176.9242\"/>\r\n     <use style=\"fill:#0072b2;stroke:#0072b2;\" x=\"243.411273\" xlink:href=\"#m56a488ead9\" y=\"180.485433\"/>\r\n     <use style=\"fill:#0072b2;stroke:#0072b2;\" x=\"243.751481\" xlink:href=\"#m56a488ead9\" y=\"196.901558\"/>\r\n     <use style=\"fill:#0072b2;stroke:#0072b2;\" x=\"256.00719\" xlink:href=\"#m56a488ead9\" y=\"206.176759\"/>\r\n     <use style=\"fill:#0072b2;stroke:#0072b2;\" x=\"266.215808\" xlink:href=\"#m56a488ead9\" y=\"194.766737\"/>\r\n     <use style=\"fill:#0072b2;stroke:#0072b2;\" x=\"286.329016\" xlink:href=\"#m56a488ead9\" y=\"199.393404\"/>\r\n     <use style=\"fill:#0072b2;stroke:#0072b2;\" x=\"303.470983\" xlink:href=\"#m56a488ead9\" y=\"206.682453\"/>\r\n     <use style=\"fill:#0072b2;stroke:#0072b2;\" x=\"315.727571\" xlink:href=\"#m56a488ead9\" y=\"209.749384\"/>\r\n     <use style=\"fill:#0072b2;stroke:#0072b2;\" x=\"306.871355\" xlink:href=\"#m56a488ead9\" y=\"214.756364\"/>\r\n     <use style=\"fill:#0072b2;stroke:#0072b2;\" x=\"315.981483\" xlink:href=\"#m56a488ead9\" y=\"213.920742\"/>\r\n     <use style=\"fill:#0072b2;stroke:#0072b2;\" x=\"319.583436\" xlink:href=\"#m56a488ead9\" y=\"203.727514\"/>\r\n     <use style=\"fill:#0072b2;stroke:#0072b2;\" x=\"304.382762\" xlink:href=\"#m56a488ead9\" y=\"207.66925\"/>\r\n     <use style=\"fill:#0072b2;stroke:#0072b2;\" x=\"320.626796\" xlink:href=\"#m56a488ead9\" y=\"206.632506\"/>\r\n     <use style=\"fill:#0072b2;stroke:#0072b2;\" x=\"329.878744\" xlink:href=\"#m56a488ead9\" y=\"214.341308\"/>\r\n     <use style=\"fill:#0072b2;stroke:#0072b2;\" x=\"330.400118\" xlink:href=\"#m56a488ead9\" y=\"204.126626\"/>\r\n     <use style=\"fill:#0072b2;stroke:#0072b2;\" x=\"327.728589\" xlink:href=\"#m56a488ead9\" y=\"202.856359\"/>\r\n     <use style=\"fill:#0072b2;stroke:#0072b2;\" x=\"313.994547\" xlink:href=\"#m56a488ead9\" y=\"210.125588\"/>\r\n     <use style=\"fill:#0072b2;stroke:#0072b2;\" x=\"316.281345\" xlink:href=\"#m56a488ead9\" y=\"204.049148\"/>\r\n     <use style=\"fill:#0072b2;stroke:#0072b2;\" x=\"321.650248\" xlink:href=\"#m56a488ead9\" y=\"195.985891\"/>\r\n     <use style=\"fill:#0072b2;stroke:#0072b2;\" x=\"312.124164\" xlink:href=\"#m56a488ead9\" y=\"194.900993\"/>\r\n     <use style=\"fill:#0072b2;stroke:#0072b2;\" x=\"325.444487\" xlink:href=\"#m56a488ead9\" y=\"205.916838\"/>\r\n     <use style=\"fill:#0072b2;stroke:#0072b2;\" x=\"312.869157\" xlink:href=\"#m56a488ead9\" y=\"193.921487\"/>\r\n     <use style=\"fill:#0072b2;stroke:#0072b2;\" x=\"288.535751\" xlink:href=\"#m56a488ead9\" y=\"191.837634\"/>\r\n     <use style=\"fill:#0072b2;stroke:#0072b2;\" x=\"300.452334\" xlink:href=\"#m56a488ead9\" y=\"183.972826\"/>\r\n     <use style=\"fill:#0072b2;stroke:#0072b2;\" x=\"295.829251\" xlink:href=\"#m56a488ead9\" y=\"187.674525\"/>\r\n     <use style=\"fill:#0072b2;stroke:#0072b2;\" x=\"294.384793\" xlink:href=\"#m56a488ead9\" y=\"190.353058\"/>\r\n     <use style=\"fill:#0072b2;stroke:#0072b2;\" x=\"284.785795\" xlink:href=\"#m56a488ead9\" y=\"189.610874\"/>\r\n     <use style=\"fill:#0072b2;stroke:#0072b2;\" x=\"266.379438\" xlink:href=\"#m56a488ead9\" y=\"182.129428\"/>\r\n     <use style=\"fill:#0072b2;stroke:#0072b2;\" x=\"280.76604\" xlink:href=\"#m56a488ead9\" y=\"181.168613\"/>\r\n     <use style=\"fill:#0072b2;stroke:#0072b2;\" x=\"272.870733\" xlink:href=\"#m56a488ead9\" y=\"189.613845\"/>\r\n     <use style=\"fill:#0072b2;stroke:#0072b2;\" x=\"291.907343\" xlink:href=\"#m56a488ead9\" y=\"187.853421\"/>\r\n     <use style=\"fill:#0072b2;stroke:#0072b2;\" x=\"301.160112\" xlink:href=\"#m56a488ead9\" y=\"176.903849\"/>\r\n     <use style=\"fill:#0072b2;stroke:#0072b2;\" x=\"297.552587\" xlink:href=\"#m56a488ead9\" y=\"176.461667\"/>\r\n     <use style=\"fill:#0072b2;stroke:#0072b2;\" x=\"285.106777\" xlink:href=\"#m56a488ead9\" y=\"175.592267\"/>\r\n     <use style=\"fill:#0072b2;stroke:#0072b2;\" x=\"276.711839\" xlink:href=\"#m56a488ead9\" y=\"184.075866\"/>\r\n     <use style=\"fill:#0072b2;stroke:#0072b2;\" x=\"262.814795\" xlink:href=\"#m56a488ead9\" y=\"193.50318\"/>\r\n     <use style=\"fill:#0072b2;stroke:#0072b2;\" x=\"286.735745\" xlink:href=\"#m56a488ead9\" y=\"197.788121\"/>\r\n     <use style=\"fill:#0072b2;stroke:#0072b2;\" x=\"288.620449\" xlink:href=\"#m56a488ead9\" y=\"199.982139\"/>\r\n     <use style=\"fill:#0072b2;stroke:#0072b2;\" x=\"301.803255\" xlink:href=\"#m56a488ead9\" y=\"199.282909\"/>\r\n     <use style=\"fill:#0072b2;stroke:#0072b2;\" x=\"287.277803\" xlink:href=\"#m56a488ead9\" y=\"198.167769\"/>\r\n     <use style=\"fill:#0072b2;stroke:#0072b2;\" x=\"289.352693\" xlink:href=\"#m56a488ead9\" y=\"187.403831\"/>\r\n     <use style=\"fill:#0072b2;stroke:#0072b2;\" x=\"302.852476\" xlink:href=\"#m56a488ead9\" y=\"187.009484\"/>\r\n     <use style=\"fill:#0072b2;stroke:#0072b2;\" x=\"299.01283\" xlink:href=\"#m56a488ead9\" y=\"179.85715\"/>\r\n     <use style=\"fill:#0072b2;stroke:#0072b2;\" x=\"310.830702\" xlink:href=\"#m56a488ead9\" y=\"180.121421\"/>\r\n     <use style=\"fill:#0072b2;stroke:#0072b2;\" x=\"298.400186\" xlink:href=\"#m56a488ead9\" y=\"170.385587\"/>\r\n     <use style=\"fill:#0072b2;stroke:#0072b2;\" x=\"282.773084\" xlink:href=\"#m56a488ead9\" y=\"182.953628\"/>\r\n     <use style=\"fill:#0072b2;stroke:#0072b2;\" x=\"287.121493\" xlink:href=\"#m56a488ead9\" y=\"186.976776\"/>\r\n     <use style=\"fill:#0072b2;stroke:#0072b2;\" x=\"282.775653\" xlink:href=\"#m56a488ead9\" y=\"180.371333\"/>\r\n     <use style=\"fill:#0072b2;stroke:#0072b2;\" x=\"290.134409\" xlink:href=\"#m56a488ead9\" y=\"181.524363\"/>\r\n     <use style=\"fill:#0072b2;stroke:#0072b2;\" x=\"267.46532\" xlink:href=\"#m56a488ead9\" y=\"175.264997\"/>\r\n     <use style=\"fill:#0072b2;stroke:#0072b2;\" x=\"275.628771\" xlink:href=\"#m56a488ead9\" y=\"172.677565\"/>\r\n     <use style=\"fill:#0072b2;stroke:#0072b2;\" x=\"305.408609\" xlink:href=\"#m56a488ead9\" y=\"166.321792\"/>\r\n     <use style=\"fill:#0072b2;stroke:#0072b2;\" x=\"305.126364\" xlink:href=\"#m56a488ead9\" y=\"162.202314\"/>\r\n     <use style=\"fill:#0072b2;stroke:#0072b2;\" x=\"305.517676\" xlink:href=\"#m56a488ead9\" y=\"157.675764\"/>\r\n     <use style=\"fill:#0072b2;stroke:#0072b2;\" x=\"307.57554\" xlink:href=\"#m56a488ead9\" y=\"147.647286\"/>\r\n     <use style=\"fill:#0072b2;stroke:#0072b2;\" x=\"286.234951\" xlink:href=\"#m56a488ead9\" y=\"141.018724\"/>\r\n     <use style=\"fill:#0072b2;stroke:#0072b2;\" x=\"291.119128\" xlink:href=\"#m56a488ead9\" y=\"134.34089\"/>\r\n     <use style=\"fill:#0072b2;stroke:#0072b2;\" x=\"272.719109\" xlink:href=\"#m56a488ead9\" y=\"134.203687\"/>\r\n     <use style=\"fill:#0072b2;stroke:#0072b2;\" x=\"267.817362\" xlink:href=\"#m56a488ead9\" y=\"138.1134\"/>\r\n     <use style=\"fill:#0072b2;stroke:#0072b2;\" x=\"282.062214\" xlink:href=\"#m56a488ead9\" y=\"142.545281\"/>\r\n     <use style=\"fill:#0072b2;stroke:#0072b2;\" x=\"273.6357\" xlink:href=\"#m56a488ead9\" y=\"137.499346\"/>\r\n     <use style=\"fill:#0072b2;stroke:#0072b2;\" x=\"279.380646\" xlink:href=\"#m56a488ead9\" y=\"153.884459\"/>\r\n     <use style=\"fill:#0072b2;stroke:#0072b2;\" x=\"290.987912\" xlink:href=\"#m56a488ead9\" y=\"162.667977\"/>\r\n     <use style=\"fill:#0072b2;stroke:#0072b2;\" x=\"294.182634\" xlink:href=\"#m56a488ead9\" y=\"169.140511\"/>\r\n     <use style=\"fill:#0072b2;stroke:#0072b2;\" x=\"278.469836\" xlink:href=\"#m56a488ead9\" y=\"170.804391\"/>\r\n     <use style=\"fill:#0072b2;stroke:#0072b2;\" x=\"274.65925\" xlink:href=\"#m56a488ead9\" y=\"188.486206\"/>\r\n     <use style=\"fill:#0072b2;stroke:#0072b2;\" x=\"297.116574\" xlink:href=\"#m56a488ead9\" y=\"180.028291\"/>\r\n     <use style=\"fill:#0072b2;stroke:#0072b2;\" x=\"273.906997\" xlink:href=\"#m56a488ead9\" y=\"175.995444\"/>\r\n     <use style=\"fill:#0072b2;stroke:#0072b2;\" x=\"270.746141\" xlink:href=\"#m56a488ead9\" y=\"162.660143\"/>\r\n     <use style=\"fill:#0072b2;stroke:#0072b2;\" x=\"264.418287\" xlink:href=\"#m56a488ead9\" y=\"155.522646\"/>\r\n     <use style=\"fill:#0072b2;stroke:#0072b2;\" x=\"265.802204\" xlink:href=\"#m56a488ead9\" y=\"148.599065\"/>\r\n     <use style=\"fill:#0072b2;stroke:#0072b2;\" x=\"274.377698\" xlink:href=\"#m56a488ead9\" y=\"133.475761\"/>\r\n     <use style=\"fill:#0072b2;stroke:#0072b2;\" x=\"292.815325\" xlink:href=\"#m56a488ead9\" y=\"137.312285\"/>\r\n     <use style=\"fill:#0072b2;stroke:#0072b2;\" x=\"289.718121\" xlink:href=\"#m56a488ead9\" y=\"147.414697\"/>\r\n     <use style=\"fill:#0072b2;stroke:#0072b2;\" x=\"299.028576\" xlink:href=\"#m56a488ead9\" y=\"148.976011\"/>\r\n     <use style=\"fill:#0072b2;stroke:#0072b2;\" x=\"304.756228\" xlink:href=\"#m56a488ead9\" y=\"154.519504\"/>\r\n     <use style=\"fill:#0072b2;stroke:#0072b2;\" x=\"310.192846\" xlink:href=\"#m56a488ead9\" y=\"156.245363\"/>\r\n     <use style=\"fill:#0072b2;stroke:#0072b2;\" x=\"303.729567\" xlink:href=\"#m56a488ead9\" y=\"163.302257\"/>\r\n     <use style=\"fill:#0072b2;stroke:#0072b2;\" x=\"292.299006\" xlink:href=\"#m56a488ead9\" y=\"159.486415\"/>\r\n     <use style=\"fill:#0072b2;stroke:#0072b2;\" x=\"279.691125\" xlink:href=\"#m56a488ead9\" y=\"156.039453\"/>\r\n     <use style=\"fill:#0072b2;stroke:#0072b2;\" x=\"271.021401\" xlink:href=\"#m56a488ead9\" y=\"156.220358\"/>\r\n     <use style=\"fill:#0072b2;stroke:#0072b2;\" x=\"274.708335\" xlink:href=\"#m56a488ead9\" y=\"154.126702\"/>\r\n     <use style=\"fill:#0072b2;stroke:#0072b2;\" x=\"283.429774\" xlink:href=\"#m56a488ead9\" y=\"155.081204\"/>\r\n     <use style=\"fill:#0072b2;stroke:#0072b2;\" x=\"287.137135\" xlink:href=\"#m56a488ead9\" y=\"150.027952\"/>\r\n     <use style=\"fill:#0072b2;stroke:#0072b2;\" x=\"280.845418\" xlink:href=\"#m56a488ead9\" y=\"149.560005\"/>\r\n     <use style=\"fill:#0072b2;stroke:#0072b2;\" x=\"301.544112\" xlink:href=\"#m56a488ead9\" y=\"151.343653\"/>\r\n     <use style=\"fill:#0072b2;stroke:#0072b2;\" x=\"318.952226\" xlink:href=\"#m56a488ead9\" y=\"145.097357\"/>\r\n     <use style=\"fill:#0072b2;stroke:#0072b2;\" x=\"314.894939\" xlink:href=\"#m56a488ead9\" y=\"136.625332\"/>\r\n     <use style=\"fill:#0072b2;stroke:#0072b2;\" x=\"305.457377\" xlink:href=\"#m56a488ead9\" y=\"127.638379\"/>\r\n     <use style=\"fill:#0072b2;stroke:#0072b2;\" x=\"306.949804\" xlink:href=\"#m56a488ead9\" y=\"134.29248\"/>\r\n     <use style=\"fill:#0072b2;stroke:#0072b2;\" x=\"321.474644\" xlink:href=\"#m56a488ead9\" y=\"137.883671\"/>\r\n     <use style=\"fill:#0072b2;stroke:#0072b2;\" x=\"325.288551\" xlink:href=\"#m56a488ead9\" y=\"149.316788\"/>\r\n     <use style=\"fill:#0072b2;stroke:#0072b2;\" x=\"331.6673\" xlink:href=\"#m56a488ead9\" y=\"150.919813\"/>\r\n     <use style=\"fill:#0072b2;stroke:#0072b2;\" x=\"329.236595\" xlink:href=\"#m56a488ead9\" y=\"148.12369\"/>\r\n     <use style=\"fill:#0072b2;stroke:#0072b2;\" x=\"334.466034\" xlink:href=\"#m56a488ead9\" y=\"149.016041\"/>\r\n     <use style=\"fill:#0072b2;stroke:#0072b2;\" x=\"352.168461\" xlink:href=\"#m56a488ead9\" y=\"136.041786\"/>\r\n     <use style=\"fill:#0072b2;stroke:#0072b2;\" x=\"349.421555\" xlink:href=\"#m56a488ead9\" y=\"138.76883\"/>\r\n     <use style=\"fill:#0072b2;stroke:#0072b2;\" x=\"351.064042\" xlink:href=\"#m56a488ead9\" y=\"146.083009\"/>\r\n     <use style=\"fill:#0072b2;stroke:#0072b2;\" x=\"353.973099\" xlink:href=\"#m56a488ead9\" y=\"142.262973\"/>\r\n     <use style=\"fill:#0072b2;stroke:#0072b2;\" x=\"357.224949\" xlink:href=\"#m56a488ead9\" y=\"141.2555\"/>\r\n     <use style=\"fill:#0072b2;stroke:#0072b2;\" x=\"341.042923\" xlink:href=\"#m56a488ead9\" y=\"137.562205\"/>\r\n     <use style=\"fill:#0072b2;stroke:#0072b2;\" x=\"319.531642\" xlink:href=\"#m56a488ead9\" y=\"135.520917\"/>\r\n     <use style=\"fill:#0072b2;stroke:#0072b2;\" x=\"307.845109\" xlink:href=\"#m56a488ead9\" y=\"133.882945\"/>\r\n     <use style=\"fill:#0072b2;stroke:#0072b2;\" x=\"309.76994\" xlink:href=\"#m56a488ead9\" y=\"148.143626\"/>\r\n     <use style=\"fill:#0072b2;stroke:#0072b2;\" x=\"316.117829\" xlink:href=\"#m56a488ead9\" y=\"153.022712\"/>\r\n     <use style=\"fill:#0072b2;stroke:#0072b2;\" x=\"310.03563\" xlink:href=\"#m56a488ead9\" y=\"156.989371\"/>\r\n     <use style=\"fill:#0072b2;stroke:#0072b2;\" x=\"325.820737\" xlink:href=\"#m56a488ead9\" y=\"159.327499\"/>\r\n     <use style=\"fill:#0072b2;stroke:#0072b2;\" x=\"324.17976\" xlink:href=\"#m56a488ead9\" y=\"162.340444\"/>\r\n     <use style=\"fill:#0072b2;stroke:#0072b2;\" x=\"324.412607\" xlink:href=\"#m56a488ead9\" y=\"159.56653\"/>\r\n     <use style=\"fill:#0072b2;stroke:#0072b2;\" x=\"322.189536\" xlink:href=\"#m56a488ead9\" y=\"155.52893\"/>\r\n     <use style=\"fill:#0072b2;stroke:#0072b2;\" x=\"323.725652\" xlink:href=\"#m56a488ead9\" y=\"163.132934\"/>\r\n     <use style=\"fill:#0072b2;stroke:#0072b2;\" x=\"331.799813\" xlink:href=\"#m56a488ead9\" y=\"158.517986\"/>\r\n     <use style=\"fill:#0072b2;stroke:#0072b2;\" x=\"339.429041\" xlink:href=\"#m56a488ead9\" y=\"154.581947\"/>\r\n     <use style=\"fill:#0072b2;stroke:#0072b2;\" x=\"329.131981\" xlink:href=\"#m56a488ead9\" y=\"151.452229\"/>\r\n     <use style=\"fill:#0072b2;stroke:#0072b2;\" x=\"346.595089\" xlink:href=\"#m56a488ead9\" y=\"160.979699\"/>\r\n     <use style=\"fill:#0072b2;stroke:#0072b2;\" x=\"334.044705\" xlink:href=\"#m56a488ead9\" y=\"158.019228\"/>\r\n     <use style=\"fill:#0072b2;stroke:#0072b2;\" x=\"334.952747\" xlink:href=\"#m56a488ead9\" y=\"157.464233\"/>\r\n     <use style=\"fill:#0072b2;stroke:#0072b2;\" x=\"331.807816\" xlink:href=\"#m56a488ead9\" y=\"151.007648\"/>\r\n     <use style=\"fill:#0072b2;stroke:#0072b2;\" x=\"319.785049\" xlink:href=\"#m56a488ead9\" y=\"139.017752\"/>\r\n     <use style=\"fill:#0072b2;stroke:#0072b2;\" x=\"318.924073\" xlink:href=\"#m56a488ead9\" y=\"128.34681\"/>\r\n     <use style=\"fill:#0072b2;stroke:#0072b2;\" x=\"310.433413\" xlink:href=\"#m56a488ead9\" y=\"127.589903\"/>\r\n     <use style=\"fill:#0072b2;stroke:#0072b2;\" x=\"311.269022\" xlink:href=\"#m56a488ead9\" y=\"127.6025\"/>\r\n     <use style=\"fill:#0072b2;stroke:#0072b2;\" x=\"315.888895\" xlink:href=\"#m56a488ead9\" y=\"123.356156\"/>\r\n     <use style=\"fill:#0072b2;stroke:#0072b2;\" x=\"332.759061\" xlink:href=\"#m56a488ead9\" y=\"130.84861\"/>\r\n     <use style=\"fill:#0072b2;stroke:#0072b2;\" x=\"336.282072\" xlink:href=\"#m56a488ead9\" y=\"140.596402\"/>\r\n     <use style=\"fill:#0072b2;stroke:#0072b2;\" x=\"329.276659\" xlink:href=\"#m56a488ead9\" y=\"143.771548\"/>\r\n     <use style=\"fill:#0072b2;stroke:#0072b2;\" x=\"324.788202\" xlink:href=\"#m56a488ead9\" y=\"135.569997\"/>\r\n     <use style=\"fill:#0072b2;stroke:#0072b2;\" x=\"326.392528\" xlink:href=\"#m56a488ead9\" y=\"137.794997\"/>\r\n     <use style=\"fill:#0072b2;stroke:#0072b2;\" x=\"327.463707\" xlink:href=\"#m56a488ead9\" y=\"127.69848\"/>\r\n     <use style=\"fill:#0072b2;stroke:#0072b2;\" x=\"344.19244\" xlink:href=\"#m56a488ead9\" y=\"146.433064\"/>\r\n     <use style=\"fill:#0072b2;stroke:#0072b2;\" x=\"360.184943\" xlink:href=\"#m56a488ead9\" y=\"157.098217\"/>\r\n     <use style=\"fill:#0072b2;stroke:#0072b2;\" x=\"356.071085\" xlink:href=\"#m56a488ead9\" y=\"157.929337\"/>\r\n     <use style=\"fill:#0072b2;stroke:#0072b2;\" x=\"349.782955\" xlink:href=\"#m56a488ead9\" y=\"151.961159\"/>\r\n     <use style=\"fill:#0072b2;stroke:#0072b2;\" x=\"320.475885\" xlink:href=\"#m56a488ead9\" y=\"152.428988\"/>\r\n     <use style=\"fill:#0072b2;stroke:#0072b2;\" x=\"314.184565\" xlink:href=\"#m56a488ead9\" y=\"153.071722\"/>\r\n     <use style=\"fill:#0072b2;stroke:#0072b2;\" x=\"302.974791\" xlink:href=\"#m56a488ead9\" y=\"153.889758\"/>\r\n     <use style=\"fill:#0072b2;stroke:#0072b2;\" x=\"298.908056\" xlink:href=\"#m56a488ead9\" y=\"165.73546\"/>\r\n     <use style=\"fill:#0072b2;stroke:#0072b2;\" x=\"303.396105\" xlink:href=\"#m56a488ead9\" y=\"157.953875\"/>\r\n     <use style=\"fill:#0072b2;stroke:#0072b2;\" x=\"305.426952\" xlink:href=\"#m56a488ead9\" y=\"162.541678\"/>\r\n     <use style=\"fill:#0072b2;stroke:#0072b2;\" x=\"305.083481\" xlink:href=\"#m56a488ead9\" y=\"155.220618\"/>\r\n     <use style=\"fill:#0072b2;stroke:#0072b2;\" x=\"307.370944\" xlink:href=\"#m56a488ead9\" y=\"155.694496\"/>\r\n     <use style=\"fill:#0072b2;stroke:#0072b2;\" x=\"305.925475\" xlink:href=\"#m56a488ead9\" y=\"148.517047\"/>\r\n     <use style=\"fill:#0072b2;stroke:#0072b2;\" x=\"308.18356\" xlink:href=\"#m56a488ead9\" y=\"146.210542\"/>\r\n     <use style=\"fill:#0072b2;stroke:#0072b2;\" x=\"271.151597\" xlink:href=\"#m56a488ead9\" y=\"146.927336\"/>\r\n     <use style=\"fill:#0072b2;stroke:#0072b2;\" x=\"268.065154\" xlink:href=\"#m56a488ead9\" y=\"145.406982\"/>\r\n     <use style=\"fill:#0072b2;stroke:#0072b2;\" x=\"266.794665\" xlink:href=\"#m56a488ead9\" y=\"155.304581\"/>\r\n     <use style=\"fill:#0072b2;stroke:#0072b2;\" x=\"262.883375\" xlink:href=\"#m56a488ead9\" y=\"155.264067\"/>\r\n     <use style=\"fill:#0072b2;stroke:#0072b2;\" x=\"260.385436\" xlink:href=\"#m56a488ead9\" y=\"143.733221\"/>\r\n     <use style=\"fill:#0072b2;stroke:#0072b2;\" x=\"268.446257\" xlink:href=\"#m56a488ead9\" y=\"134.94288\"/>\r\n     <use style=\"fill:#0072b2;stroke:#0072b2;\" x=\"261.591216\" xlink:href=\"#m56a488ead9\" y=\"141.561696\"/>\r\n     <use style=\"fill:#0072b2;stroke:#0072b2;\" x=\"286.814036\" xlink:href=\"#m56a488ead9\" y=\"138.163766\"/>\r\n     <use style=\"fill:#0072b2;stroke:#0072b2;\" x=\"294.702787\" xlink:href=\"#m56a488ead9\" y=\"136.497478\"/>\r\n     <use style=\"fill:#0072b2;stroke:#0072b2;\" x=\"294.630498\" xlink:href=\"#m56a488ead9\" y=\"131.006422\"/>\r\n     <use style=\"fill:#0072b2;stroke:#0072b2;\" x=\"292.261887\" xlink:href=\"#m56a488ead9\" y=\"130.373767\"/>\r\n     <use style=\"fill:#0072b2;stroke:#0072b2;\" x=\"291.270233\" xlink:href=\"#m56a488ead9\" y=\"131.942785\"/>\r\n     <use style=\"fill:#0072b2;stroke:#0072b2;\" x=\"280.77966\" xlink:href=\"#m56a488ead9\" y=\"123.001679\"/>\r\n     <use style=\"fill:#0072b2;stroke:#0072b2;\" x=\"279.688519\" xlink:href=\"#m56a488ead9\" y=\"121.547613\"/>\r\n     <use style=\"fill:#0072b2;stroke:#0072b2;\" x=\"282.882583\" xlink:href=\"#m56a488ead9\" y=\"113.111584\"/>\r\n     <use style=\"fill:#0072b2;stroke:#0072b2;\" x=\"289.524861\" xlink:href=\"#m56a488ead9\" y=\"106.564245\"/>\r\n     <use style=\"fill:#0072b2;stroke:#0072b2;\" x=\"296.168836\" xlink:href=\"#m56a488ead9\" y=\"108.74462\"/>\r\n     <use style=\"fill:#0072b2;stroke:#0072b2;\" x=\"293.018393\" xlink:href=\"#m56a488ead9\" y=\"109.86677\"/>\r\n     <use style=\"fill:#0072b2;stroke:#0072b2;\" x=\"276.788305\" xlink:href=\"#m56a488ead9\" y=\"96.899359\"/>\r\n     <use style=\"fill:#0072b2;stroke:#0072b2;\" x=\"269.119546\" xlink:href=\"#m56a488ead9\" y=\"95.612703\"/>\r\n     <use style=\"fill:#0072b2;stroke:#0072b2;\" x=\"287.59731\" xlink:href=\"#m56a488ead9\" y=\"100.710268\"/>\r\n     <use style=\"fill:#0072b2;stroke:#0072b2;\" x=\"297.867268\" xlink:href=\"#m56a488ead9\" y=\"108.773898\"/>\r\n     <use style=\"fill:#0072b2;stroke:#0072b2;\" x=\"302.103575\" xlink:href=\"#m56a488ead9\" y=\"102.228265\"/>\r\n     <use style=\"fill:#0072b2;stroke:#0072b2;\" x=\"293.378183\" xlink:href=\"#m56a488ead9\" y=\"101.151179\"/>\r\n     <use style=\"fill:#0072b2;stroke:#0072b2;\" x=\"293.419961\" xlink:href=\"#m56a488ead9\" y=\"106.473601\"/>\r\n     <use style=\"fill:#0072b2;stroke:#0072b2;\" x=\"279.028415\" xlink:href=\"#m56a488ead9\" y=\"101.940762\"/>\r\n     <use style=\"fill:#0072b2;stroke:#0072b2;\" x=\"272.702522\" xlink:href=\"#m56a488ead9\" y=\"100.867339\"/>\r\n     <use style=\"fill:#0072b2;stroke:#0072b2;\" x=\"269.892183\" xlink:href=\"#m56a488ead9\" y=\"112.024817\"/>\r\n     <use style=\"fill:#0072b2;stroke:#0072b2;\" x=\"265.747334\" xlink:href=\"#m56a488ead9\" y=\"108.069175\"/>\r\n     <use style=\"fill:#0072b2;stroke:#0072b2;\" x=\"276.711198\" xlink:href=\"#m56a488ead9\" y=\"99.110867\"/>\r\n     <use style=\"fill:#0072b2;stroke:#0072b2;\" x=\"260.45081\" xlink:href=\"#m56a488ead9\" y=\"81.910083\"/>\r\n     <use style=\"fill:#0072b2;stroke:#0072b2;\" x=\"250.531865\" xlink:href=\"#m56a488ead9\" y=\"81.675557\"/>\r\n     <use style=\"fill:#0072b2;stroke:#0072b2;\" x=\"234.776208\" xlink:href=\"#m56a488ead9\" y=\"80.112279\"/>\r\n     <use style=\"fill:#0072b2;stroke:#0072b2;\" x=\"220.594581\" xlink:href=\"#m56a488ead9\" y=\"69.316833\"/>\r\n     <use style=\"fill:#0072b2;stroke:#0072b2;\" x=\"222.016418\" xlink:href=\"#m56a488ead9\" y=\"68.183112\"/>\r\n     <use style=\"fill:#0072b2;stroke:#0072b2;\" x=\"203.673351\" xlink:href=\"#m56a488ead9\" y=\"66.332966\"/>\r\n     <use style=\"fill:#0072b2;stroke:#0072b2;\" x=\"212.313638\" xlink:href=\"#m56a488ead9\" y=\"70.570375\"/>\r\n     <use style=\"fill:#0072b2;stroke:#0072b2;\" x=\"209.484818\" xlink:href=\"#m56a488ead9\" y=\"79.939808\"/>\r\n     <use style=\"fill:#0072b2;stroke:#0072b2;\" x=\"210.273219\" xlink:href=\"#m56a488ead9\" y=\"73.807047\"/>\r\n     <use style=\"fill:#0072b2;stroke:#0072b2;\" x=\"213.970355\" xlink:href=\"#m56a488ead9\" y=\"82.364738\"/>\r\n     <use style=\"fill:#0072b2;stroke:#0072b2;\" x=\"208.994259\" xlink:href=\"#m56a488ead9\" y=\"74.700156\"/>\r\n     <use style=\"fill:#0072b2;stroke:#0072b2;\" x=\"220.827779\" xlink:href=\"#m56a488ead9\" y=\"79.996195\"/>\r\n     <use style=\"fill:#0072b2;stroke:#0072b2;\" x=\"218.600366\" xlink:href=\"#m56a488ead9\" y=\"78.213969\"/>\r\n     <use style=\"fill:#0072b2;stroke:#0072b2;\" x=\"225.40916\" xlink:href=\"#m56a488ead9\" y=\"80.71543\"/>\r\n     <use style=\"fill:#0072b2;stroke:#0072b2;\" x=\"223.127081\" xlink:href=\"#m56a488ead9\" y=\"72.822763\"/>\r\n     <use style=\"fill:#0072b2;stroke:#0072b2;\" x=\"226.460868\" xlink:href=\"#m56a488ead9\" y=\"70.801241\"/>\r\n     <use style=\"fill:#0072b2;stroke:#0072b2;\" x=\"229.666155\" xlink:href=\"#m56a488ead9\" y=\"57.637198\"/>\r\n     <use style=\"fill:#0072b2;stroke:#0072b2;\" x=\"232.531126\" xlink:href=\"#m56a488ead9\" y=\"64.918916\"/>\r\n     <use style=\"fill:#0072b2;stroke:#0072b2;\" x=\"221.364329\" xlink:href=\"#m56a488ead9\" y=\"62.137984\"/>\r\n     <use style=\"fill:#0072b2;stroke:#0072b2;\" x=\"226.360015\" xlink:href=\"#m56a488ead9\" y=\"61.819872\"/>\r\n     <use style=\"fill:#0072b2;stroke:#0072b2;\" x=\"222.704366\" xlink:href=\"#m56a488ead9\" y=\"59.938806\"/>\r\n     <use style=\"fill:#0072b2;stroke:#0072b2;\" x=\"229.930554\" xlink:href=\"#m56a488ead9\" y=\"49.215094\"/>\r\n     <use style=\"fill:#0072b2;stroke:#0072b2;\" x=\"205.260265\" xlink:href=\"#m56a488ead9\" y=\"45.282079\"/>\r\n     <use style=\"fill:#0072b2;stroke:#0072b2;\" x=\"188.468186\" xlink:href=\"#m56a488ead9\" y=\"52.992818\"/>\r\n     <use style=\"fill:#0072b2;stroke:#0072b2;\" x=\"192.633731\" xlink:href=\"#m56a488ead9\" y=\"49.407919\"/>\r\n     <use style=\"fill:#0072b2;stroke:#0072b2;\" x=\"213.985229\" xlink:href=\"#m56a488ead9\" y=\"52.200652\"/>\r\n     <use style=\"fill:#0072b2;stroke:#0072b2;\" x=\"223.556055\" xlink:href=\"#m56a488ead9\" y=\"55.381337\"/>\r\n     <use style=\"fill:#0072b2;stroke:#0072b2;\" x=\"215.734307\" xlink:href=\"#m56a488ead9\" y=\"48.353752\"/>\r\n     <use style=\"fill:#0072b2;stroke:#0072b2;\" x=\"196.341254\" xlink:href=\"#m56a488ead9\" y=\"52.401145\"/>\r\n     <use style=\"fill:#0072b2;stroke:#0072b2;\" x=\"204.853374\" xlink:href=\"#m56a488ead9\" y=\"54.952724\"/>\r\n     <use style=\"fill:#0072b2;stroke:#0072b2;\" x=\"203.929789\" xlink:href=\"#m56a488ead9\" y=\"54.734965\"/>\r\n     <use style=\"fill:#0072b2;stroke:#0072b2;\" x=\"210.700004\" xlink:href=\"#m56a488ead9\" y=\"48.377116\"/>\r\n     <use style=\"fill:#0072b2;stroke:#0072b2;\" x=\"212.021472\" xlink:href=\"#m56a488ead9\" y=\"44.469153\"/>\r\n     <use style=\"fill:#0072b2;stroke:#0072b2;\" x=\"212.361218\" xlink:href=\"#m56a488ead9\" y=\"46.044292\"/>\r\n     <use style=\"fill:#0072b2;stroke:#0072b2;\" x=\"246.270795\" xlink:href=\"#m56a488ead9\" y=\"47.873168\"/>\r\n     <use style=\"fill:#0072b2;stroke:#0072b2;\" x=\"246.200538\" xlink:href=\"#m56a488ead9\" y=\"55.668601\"/>\r\n     <use style=\"fill:#0072b2;stroke:#0072b2;\" x=\"244.375387\" xlink:href=\"#m56a488ead9\" y=\"60.774274\"/>\r\n     <use style=\"fill:#0072b2;stroke:#0072b2;\" x=\"242.983432\" xlink:href=\"#m56a488ead9\" y=\"65.171355\"/>\r\n     <use style=\"fill:#0072b2;stroke:#0072b2;\" x=\"236.295366\" xlink:href=\"#m56a488ead9\" y=\"66.174508\"/>\r\n     <use style=\"fill:#0072b2;stroke:#0072b2;\" x=\"247.643537\" xlink:href=\"#m56a488ead9\" y=\"52.824554\"/>\r\n     <use style=\"fill:#0072b2;stroke:#0072b2;\" x=\"243.589066\" xlink:href=\"#m56a488ead9\" y=\"57.363337\"/>\r\n     <use style=\"fill:#0072b2;stroke:#0072b2;\" x=\"250.877771\" xlink:href=\"#m56a488ead9\" y=\"59.351145\"/>\r\n     <use style=\"fill:#0072b2;stroke:#0072b2;\" x=\"254.139681\" xlink:href=\"#m56a488ead9\" y=\"73.142133\"/>\r\n     <use style=\"fill:#0072b2;stroke:#0072b2;\" x=\"268.110795\" xlink:href=\"#m56a488ead9\" y=\"69.106626\"/>\r\n     <use style=\"fill:#0072b2;stroke:#0072b2;\" x=\"272.926583\" xlink:href=\"#m56a488ead9\" y=\"79.706213\"/>\r\n     <use style=\"fill:#0072b2;stroke:#0072b2;\" x=\"259.019664\" xlink:href=\"#m56a488ead9\" y=\"85.797996\"/>\r\n     <use style=\"fill:#0072b2;stroke:#0072b2;\" x=\"243.816442\" xlink:href=\"#m56a488ead9\" y=\"78.794076\"/>\r\n     <use style=\"fill:#0072b2;stroke:#0072b2;\" x=\"259.958128\" xlink:href=\"#m56a488ead9\" y=\"92.938036\"/>\r\n     <use style=\"fill:#0072b2;stroke:#0072b2;\" x=\"252.981535\" xlink:href=\"#m56a488ead9\" y=\"92.293504\"/>\r\n     <use style=\"fill:#0072b2;stroke:#0072b2;\" x=\"237.845764\" xlink:href=\"#m56a488ead9\" y=\"86.911697\"/>\r\n     <use style=\"fill:#0072b2;stroke:#0072b2;\" x=\"230.171091\" xlink:href=\"#m56a488ead9\" y=\"76.661552\"/>\r\n     <use style=\"fill:#0072b2;stroke:#0072b2;\" x=\"244.665291\" xlink:href=\"#m56a488ead9\" y=\"82.844071\"/>\r\n     <use style=\"fill:#0072b2;stroke:#0072b2;\" x=\"228.38786\" xlink:href=\"#m56a488ead9\" y=\"87.037175\"/>\r\n     <use style=\"fill:#0072b2;stroke:#0072b2;\" x=\"218.456732\" xlink:href=\"#m56a488ead9\" y=\"74.912356\"/>\r\n     <use style=\"fill:#0072b2;stroke:#0072b2;\" x=\"210.814278\" xlink:href=\"#m56a488ead9\" y=\"75.080746\"/>\r\n     <use style=\"fill:#0072b2;stroke:#0072b2;\" x=\"196.474064\" xlink:href=\"#m56a488ead9\" y=\"80.028034\"/>\r\n     <use style=\"fill:#0072b2;stroke:#0072b2;\" x=\"182.90018\" xlink:href=\"#m56a488ead9\" y=\"84.849144\"/>\r\n     <use style=\"fill:#0072b2;stroke:#0072b2;\" x=\"165.500749\" xlink:href=\"#m56a488ead9\" y=\"91.384187\"/>\r\n     <use style=\"fill:#0072b2;stroke:#0072b2;\" x=\"160.21496\" xlink:href=\"#m56a488ead9\" y=\"94.338543\"/>\r\n     <use style=\"fill:#0072b2;stroke:#0072b2;\" x=\"156.147257\" xlink:href=\"#m56a488ead9\" y=\"87.0263\"/>\r\n     <use style=\"fill:#0072b2;stroke:#0072b2;\" x=\"148.324509\" xlink:href=\"#m56a488ead9\" y=\"81.061001\"/>\r\n     <use style=\"fill:#0072b2;stroke:#0072b2;\" x=\"129.371048\" xlink:href=\"#m56a488ead9\" y=\"88.951451\"/>\r\n     <use style=\"fill:#0072b2;stroke:#0072b2;\" x=\"143.735857\" xlink:href=\"#m56a488ead9\" y=\"87.509551\"/>\r\n     <use style=\"fill:#0072b2;stroke:#0072b2;\" x=\"128.502939\" xlink:href=\"#m56a488ead9\" y=\"90.211843\"/>\r\n     <use style=\"fill:#0072b2;stroke:#0072b2;\" x=\"131.689555\" xlink:href=\"#m56a488ead9\" y=\"84.954274\"/>\r\n     <use style=\"fill:#0072b2;stroke:#0072b2;\" x=\"119.371375\" xlink:href=\"#m56a488ead9\" y=\"86.004925\"/>\r\n     <use style=\"fill:#0072b2;stroke:#0072b2;\" x=\"127.031129\" xlink:href=\"#m56a488ead9\" y=\"83.508484\"/>\r\n     <use style=\"fill:#0072b2;stroke:#0072b2;\" x=\"137.986173\" xlink:href=\"#m56a488ead9\" y=\"84.574223\"/>\r\n     <use style=\"fill:#0072b2;stroke:#0072b2;\" x=\"127.927615\" xlink:href=\"#m56a488ead9\" y=\"99.270237\"/>\r\n     <use style=\"fill:#0072b2;stroke:#0072b2;\" x=\"105.879408\" xlink:href=\"#m56a488ead9\" y=\"98.954406\"/>\r\n     <use style=\"fill:#0072b2;stroke:#0072b2;\" x=\"113.854007\" xlink:href=\"#m56a488ead9\" y=\"107.499846\"/>\r\n     <use style=\"fill:#0072b2;stroke:#0072b2;\" x=\"135.353046\" xlink:href=\"#m56a488ead9\" y=\"102.479554\"/>\r\n     <use style=\"fill:#0072b2;stroke:#0072b2;\" x=\"140.11743\" xlink:href=\"#m56a488ead9\" y=\"107.047623\"/>\r\n     <use style=\"fill:#0072b2;stroke:#0072b2;\" x=\"141.957471\" xlink:href=\"#m56a488ead9\" y=\"111.112975\"/>\r\n     <use style=\"fill:#0072b2;stroke:#0072b2;\" x=\"151.352961\" xlink:href=\"#m56a488ead9\" y=\"111.172797\"/>\r\n     <use style=\"fill:#0072b2;stroke:#0072b2;\" x=\"160.121454\" xlink:href=\"#m56a488ead9\" y=\"107.29034\"/>\r\n     <use style=\"fill:#0072b2;stroke:#0072b2;\" x=\"150.620197\" xlink:href=\"#m56a488ead9\" y=\"108.430925\"/>\r\n     <use style=\"fill:#0072b2;stroke:#0072b2;\" x=\"143.065492\" xlink:href=\"#m56a488ead9\" y=\"97.396361\"/>\r\n     <use style=\"fill:#0072b2;stroke:#0072b2;\" x=\"150.069738\" xlink:href=\"#m56a488ead9\" y=\"86.317213\"/>\r\n     <use style=\"fill:#0072b2;stroke:#0072b2;\" x=\"148.419164\" xlink:href=\"#m56a488ead9\" y=\"74.790208\"/>\r\n     <use style=\"fill:#0072b2;stroke:#0072b2;\" x=\"163.509124\" xlink:href=\"#m56a488ead9\" y=\"76.364701\"/>\r\n     <use style=\"fill:#0072b2;stroke:#0072b2;\" x=\"155.436475\" xlink:href=\"#m56a488ead9\" y=\"86.322646\"/>\r\n     <use style=\"fill:#0072b2;stroke:#0072b2;\" x=\"164.039411\" xlink:href=\"#m56a488ead9\" y=\"78.12439\"/>\r\n     <use style=\"fill:#0072b2;stroke:#0072b2;\" x=\"167.966474\" xlink:href=\"#m56a488ead9\" y=\"80.922001\"/>\r\n     <use style=\"fill:#0072b2;stroke:#0072b2;\" x=\"166.51734\" xlink:href=\"#m56a488ead9\" y=\"80.665544\"/>\r\n     <use style=\"fill:#0072b2;stroke:#0072b2;\" x=\"179.99476\" xlink:href=\"#m56a488ead9\" y=\"76.443579\"/>\r\n     <use style=\"fill:#0072b2;stroke:#0072b2;\" x=\"187.789237\" xlink:href=\"#m56a488ead9\" y=\"87.224509\"/>\r\n     <use style=\"fill:#0072b2;stroke:#0072b2;\" x=\"176.271047\" xlink:href=\"#m56a488ead9\" y=\"76.277711\"/>\r\n     <use style=\"fill:#0072b2;stroke:#0072b2;\" x=\"183.60876\" xlink:href=\"#m56a488ead9\" y=\"70.398446\"/>\r\n     <use style=\"fill:#0072b2;stroke:#0072b2;\" x=\"199.367886\" xlink:href=\"#m56a488ead9\" y=\"68.031375\"/>\r\n     <use style=\"fill:#0072b2;stroke:#0072b2;\" x=\"197.872825\" xlink:href=\"#m56a488ead9\" y=\"62.044904\"/>\r\n     <use style=\"fill:#0072b2;stroke:#0072b2;\" x=\"195.022916\" xlink:href=\"#m56a488ead9\" y=\"58.30249\"/>\r\n     <use style=\"fill:#0072b2;stroke:#0072b2;\" x=\"187.347915\" xlink:href=\"#m56a488ead9\" y=\"57.517469\"/>\r\n     <use style=\"fill:#0072b2;stroke:#0072b2;\" x=\"187.191997\" xlink:href=\"#m56a488ead9\" y=\"59.585543\"/>\r\n     <use style=\"fill:#0072b2;stroke:#0072b2;\" x=\"195.056722\" xlink:href=\"#m56a488ead9\" y=\"64.552172\"/>\r\n     <use style=\"fill:#0072b2;stroke:#0072b2;\" x=\"185.685213\" xlink:href=\"#m56a488ead9\" y=\"62.622251\"/>\r\n     <use style=\"fill:#0072b2;stroke:#0072b2;\" x=\"170.254258\" xlink:href=\"#m56a488ead9\" y=\"60.195165\"/>\r\n     <use style=\"fill:#0072b2;stroke:#0072b2;\" x=\"165.94769\" xlink:href=\"#m56a488ead9\" y=\"52.916665\"/>\r\n     <use style=\"fill:#0072b2;stroke:#0072b2;\" x=\"150.134303\" xlink:href=\"#m56a488ead9\" y=\"51.56834\"/>\r\n     <use style=\"fill:#0072b2;stroke:#0072b2;\" x=\"156.131046\" xlink:href=\"#m56a488ead9\" y=\"57.301385\"/>\r\n     <use style=\"fill:#0072b2;stroke:#0072b2;\" x=\"151.240643\" xlink:href=\"#m56a488ead9\" y=\"67.892802\"/>\r\n     <use style=\"fill:#0072b2;stroke:#0072b2;\" x=\"131.121525\" xlink:href=\"#m56a488ead9\" y=\"68.74995\"/>\r\n     <use style=\"fill:#0072b2;stroke:#0072b2;\" x=\"127.126043\" xlink:href=\"#m56a488ead9\" y=\"68.934455\"/>\r\n     <use style=\"fill:#0072b2;stroke:#0072b2;\" x=\"124.918433\" xlink:href=\"#m56a488ead9\" y=\"69.593576\"/>\r\n     <use style=\"fill:#0072b2;stroke:#0072b2;\" x=\"130.066093\" xlink:href=\"#m56a488ead9\" y=\"79.87778\"/>\r\n     <use style=\"fill:#0072b2;stroke:#0072b2;\" x=\"128.400044\" xlink:href=\"#m56a488ead9\" y=\"72.657966\"/>\r\n     <use style=\"fill:#0072b2;stroke:#0072b2;\" x=\"149.818005\" xlink:href=\"#m56a488ead9\" y=\"65.450485\"/>\r\n     <use style=\"fill:#0072b2;stroke:#0072b2;\" x=\"143.873005\" xlink:href=\"#m56a488ead9\" y=\"70.982508\"/>\r\n     <use style=\"fill:#0072b2;stroke:#0072b2;\" x=\"143.157839\" xlink:href=\"#m56a488ead9\" y=\"65.566752\"/>\r\n     <use style=\"fill:#0072b2;stroke:#0072b2;\" x=\"141.978353\" xlink:href=\"#m56a488ead9\" y=\"59.164253\"/>\r\n     <use style=\"fill:#0072b2;stroke:#0072b2;\" x=\"138.739076\" xlink:href=\"#m56a488ead9\" y=\"58.905909\"/>\r\n     <use style=\"fill:#0072b2;stroke:#0072b2;\" x=\"140.371452\" xlink:href=\"#m56a488ead9\" y=\"65.279298\"/>\r\n     <use style=\"fill:#0072b2;stroke:#0072b2;\" x=\"146.574645\" xlink:href=\"#m56a488ead9\" y=\"54.438262\"/>\r\n     <use style=\"fill:#0072b2;stroke:#0072b2;\" x=\"161.933866\" xlink:href=\"#m56a488ead9\" y=\"51.87868\"/>\r\n     <use style=\"fill:#0072b2;stroke:#0072b2;\" x=\"143.948212\" xlink:href=\"#m56a488ead9\" y=\"53.565514\"/>\r\n     <use style=\"fill:#0072b2;stroke:#0072b2;\" x=\"138.09904\" xlink:href=\"#m56a488ead9\" y=\"48.372418\"/>\r\n     <use style=\"fill:#0072b2;stroke:#0072b2;\" x=\"132.967015\" xlink:href=\"#m56a488ead9\" y=\"37.47207\"/>\r\n     <use style=\"fill:#0072b2;stroke:#0072b2;\" x=\"143.715961\" xlink:href=\"#m56a488ead9\" y=\"40.812712\"/>\r\n     <use style=\"fill:#0072b2;stroke:#0072b2;\" x=\"139.628153\" xlink:href=\"#m56a488ead9\" y=\"36.166733\"/>\r\n     <use style=\"fill:#0072b2;stroke:#0072b2;\" x=\"117.907052\" xlink:href=\"#m56a488ead9\" y=\"23.109767\"/>\r\n     <use style=\"fill:#0072b2;stroke:#0072b2;\" x=\"118.912553\" xlink:href=\"#m56a488ead9\" y=\"30.612468\"/>\r\n     <use style=\"fill:#0072b2;stroke:#0072b2;\" x=\"118.526432\" xlink:href=\"#m56a488ead9\" y=\"34.30315\"/>\r\n     <use style=\"fill:#0072b2;stroke:#0072b2;\" x=\"120.586612\" xlink:href=\"#m56a488ead9\" y=\"38.320407\"/>\r\n     <use style=\"fill:#0072b2;stroke:#0072b2;\" x=\"108.665034\" xlink:href=\"#m56a488ead9\" y=\"39.384278\"/>\r\n     <use style=\"fill:#0072b2;stroke:#0072b2;\" x=\"128.367339\" xlink:href=\"#m56a488ead9\" y=\"40.795186\"/>\r\n     <use style=\"fill:#0072b2;stroke:#0072b2;\" x=\"124.655497\" xlink:href=\"#m56a488ead9\" y=\"38.774006\"/>\r\n     <use style=\"fill:#0072b2;stroke:#0072b2;\" x=\"122.497378\" xlink:href=\"#m56a488ead9\" y=\"44.286478\"/>\r\n     <use style=\"fill:#0072b2;stroke:#0072b2;\" x=\"112.182145\" xlink:href=\"#m56a488ead9\" y=\"48.470434\"/>\r\n     <use style=\"fill:#0072b2;stroke:#0072b2;\" x=\"101.511688\" xlink:href=\"#m56a488ead9\" y=\"46.445928\"/>\r\n     <use style=\"fill:#0072b2;stroke:#0072b2;\" x=\"87.497581\" xlink:href=\"#m56a488ead9\" y=\"45.405005\"/>\r\n     <use style=\"fill:#0072b2;stroke:#0072b2;\" x=\"82.989743\" xlink:href=\"#m56a488ead9\" y=\"39.53167\"/>\r\n     <use style=\"fill:#0072b2;stroke:#0072b2;\" x=\"72.014648\" xlink:href=\"#m56a488ead9\" y=\"36.78103\"/>\r\n     <use style=\"fill:#0072b2;stroke:#0072b2;\" x=\"95.584356\" xlink:href=\"#m56a488ead9\" y=\"31.594645\"/>\r\n     <use style=\"fill:#0072b2;stroke:#0072b2;\" x=\"73.939853\" xlink:href=\"#m56a488ead9\" y=\"39.274654\"/>\r\n     <use style=\"fill:#0072b2;stroke:#0072b2;\" x=\"61.007763\" xlink:href=\"#m56a488ead9\" y=\"41.851\"/>\r\n     <use style=\"fill:#0072b2;stroke:#0072b2;\" x=\"56.407047\" xlink:href=\"#m56a488ead9\" y=\"29.430904\"/>\r\n     <use style=\"fill:#0072b2;stroke:#0072b2;\" x=\"64.126106\" xlink:href=\"#m56a488ead9\" y=\"26.796356\"/>\r\n     <use style=\"fill:#0072b2;stroke:#0072b2;\" x=\"59.383931\" xlink:href=\"#m56a488ead9\" y=\"21.774286\"/>\r\n     <use style=\"fill:#0072b2;stroke:#0072b2;\" x=\"67.131323\" xlink:href=\"#m56a488ead9\" y=\"19.941659\"/>\r\n     <use style=\"fill:#0072b2;stroke:#0072b2;\" x=\"55.821307\" xlink:href=\"#m56a488ead9\" y=\"17.083636\"/>\r\n    </g>\r\n   </g>\r\n   <g id=\"matplotlib.axis_1\">\r\n    <g id=\"xtick_1\">\r\n     <g id=\"line2d_1\">\r\n      <defs>\r\n       <path d=\"M 0 0 \r\nL 0 3.5 \r\n\" id=\"med708262a2\" style=\"stroke:#000000;stroke-width:0.8;\"/>\r\n      </defs>\r\n      <g>\r\n       <use style=\"stroke:#000000;stroke-width:0.8;\" x=\"79.786328\" xlink:href=\"#med708262a2\" y=\"224.64\"/>\r\n      </g>\r\n     </g>\r\n     <g id=\"text_1\">\r\n      <!-- −15 -->\r\n      <g transform=\"translate(69.233984 239.238437)scale(0.1 -0.1)\">\r\n       <defs>\r\n        <path d=\"M 678 2272 \r\nL 4684 2272 \r\nL 4684 1741 \r\nL 678 1741 \r\nL 678 2272 \r\nz\r\n\" id=\"DejaVuSans-2212\" transform=\"scale(0.015625)\"/>\r\n        <path d=\"M 794 531 \r\nL 1825 531 \r\nL 1825 4091 \r\nL 703 3866 \r\nL 703 4441 \r\nL 1819 4666 \r\nL 2450 4666 \r\nL 2450 531 \r\nL 3481 531 \r\nL 3481 0 \r\nL 794 0 \r\nL 794 531 \r\nz\r\n\" id=\"DejaVuSans-31\" transform=\"scale(0.015625)\"/>\r\n        <path d=\"M 691 4666 \r\nL 3169 4666 \r\nL 3169 4134 \r\nL 1269 4134 \r\nL 1269 2991 \r\nQ 1406 3038 1543 3061 \r\nQ 1681 3084 1819 3084 \r\nQ 2600 3084 3056 2656 \r\nQ 3513 2228 3513 1497 \r\nQ 3513 744 3044 326 \r\nQ 2575 -91 1722 -91 \r\nQ 1428 -91 1123 -41 \r\nQ 819 9 494 109 \r\nL 494 744 \r\nQ 775 591 1075 516 \r\nQ 1375 441 1709 441 \r\nQ 2250 441 2565 725 \r\nQ 2881 1009 2881 1497 \r\nQ 2881 1984 2565 2268 \r\nQ 2250 2553 1709 2553 \r\nQ 1456 2553 1204 2497 \r\nQ 953 2441 691 2322 \r\nL 691 4666 \r\nz\r\n\" id=\"DejaVuSans-35\" transform=\"scale(0.015625)\"/>\r\n       </defs>\r\n       <use xlink:href=\"#DejaVuSans-2212\"/>\r\n       <use x=\"83.789062\" xlink:href=\"#DejaVuSans-31\"/>\r\n       <use x=\"147.412109\" xlink:href=\"#DejaVuSans-35\"/>\r\n      </g>\r\n     </g>\r\n    </g>\r\n    <g id=\"xtick_2\">\r\n     <g id=\"line2d_2\">\r\n      <g>\r\n       <use style=\"stroke:#000000;stroke-width:0.8;\" x=\"137.092631\" xlink:href=\"#med708262a2\" y=\"224.64\"/>\r\n      </g>\r\n     </g>\r\n     <g id=\"text_2\">\r\n      <!-- −10 -->\r\n      <g transform=\"translate(126.540287 239.238437)scale(0.1 -0.1)\">\r\n       <defs>\r\n        <path d=\"M 2034 4250 \r\nQ 1547 4250 1301 3770 \r\nQ 1056 3291 1056 2328 \r\nQ 1056 1369 1301 889 \r\nQ 1547 409 2034 409 \r\nQ 2525 409 2770 889 \r\nQ 3016 1369 3016 2328 \r\nQ 3016 3291 2770 3770 \r\nQ 2525 4250 2034 4250 \r\nz\r\nM 2034 4750 \r\nQ 2819 4750 3233 4129 \r\nQ 3647 3509 3647 2328 \r\nQ 3647 1150 3233 529 \r\nQ 2819 -91 2034 -91 \r\nQ 1250 -91 836 529 \r\nQ 422 1150 422 2328 \r\nQ 422 3509 836 4129 \r\nQ 1250 4750 2034 4750 \r\nz\r\n\" id=\"DejaVuSans-30\" transform=\"scale(0.015625)\"/>\r\n       </defs>\r\n       <use xlink:href=\"#DejaVuSans-2212\"/>\r\n       <use x=\"83.789062\" xlink:href=\"#DejaVuSans-31\"/>\r\n       <use x=\"147.412109\" xlink:href=\"#DejaVuSans-30\"/>\r\n      </g>\r\n     </g>\r\n    </g>\r\n    <g id=\"xtick_3\">\r\n     <g id=\"line2d_3\">\r\n      <g>\r\n       <use style=\"stroke:#000000;stroke-width:0.8;\" x=\"194.398934\" xlink:href=\"#med708262a2\" y=\"224.64\"/>\r\n      </g>\r\n     </g>\r\n     <g id=\"text_3\">\r\n      <!-- −5 -->\r\n      <g transform=\"translate(187.027841 239.238437)scale(0.1 -0.1)\">\r\n       <use xlink:href=\"#DejaVuSans-2212\"/>\r\n       <use x=\"83.789062\" xlink:href=\"#DejaVuSans-35\"/>\r\n      </g>\r\n     </g>\r\n    </g>\r\n    <g id=\"xtick_4\">\r\n     <g id=\"line2d_4\">\r\n      <g>\r\n       <use style=\"stroke:#000000;stroke-width:0.8;\" x=\"251.705237\" xlink:href=\"#med708262a2\" y=\"224.64\"/>\r\n      </g>\r\n     </g>\r\n     <g id=\"text_4\">\r\n      <!-- 0 -->\r\n      <g transform=\"translate(248.523987 239.238437)scale(0.1 -0.1)\">\r\n       <use xlink:href=\"#DejaVuSans-30\"/>\r\n      </g>\r\n     </g>\r\n    </g>\r\n    <g id=\"xtick_5\">\r\n     <g id=\"line2d_5\">\r\n      <g>\r\n       <use style=\"stroke:#000000;stroke-width:0.8;\" x=\"309.01154\" xlink:href=\"#med708262a2\" y=\"224.64\"/>\r\n      </g>\r\n     </g>\r\n     <g id=\"text_5\">\r\n      <!-- 5 -->\r\n      <g transform=\"translate(305.83029 239.238437)scale(0.1 -0.1)\">\r\n       <use xlink:href=\"#DejaVuSans-35\"/>\r\n      </g>\r\n     </g>\r\n    </g>\r\n    <g id=\"xtick_6\">\r\n     <g id=\"line2d_6\">\r\n      <g>\r\n       <use style=\"stroke:#000000;stroke-width:0.8;\" x=\"366.317844\" xlink:href=\"#med708262a2\" y=\"224.64\"/>\r\n      </g>\r\n     </g>\r\n     <g id=\"text_6\">\r\n      <!-- 10 -->\r\n      <g transform=\"translate(359.955344 239.238437)scale(0.1 -0.1)\">\r\n       <use xlink:href=\"#DejaVuSans-31\"/>\r\n       <use x=\"63.623047\" xlink:href=\"#DejaVuSans-30\"/>\r\n      </g>\r\n     </g>\r\n    </g>\r\n    <g id=\"text_7\">\r\n     <!-- A -->\r\n     <g transform=\"translate(204.582812 252.916562)scale(0.1 -0.1)\">\r\n      <defs>\r\n       <path d=\"M 2188 4044 \r\nL 1331 1722 \r\nL 3047 1722 \r\nL 2188 4044 \r\nz\r\nM 1831 4666 \r\nL 2547 4666 \r\nL 4325 0 \r\nL 3669 0 \r\nL 3244 1197 \r\nL 1141 1197 \r\nL 716 0 \r\nL 50 0 \r\nL 1831 4666 \r\nz\r\n\" id=\"DejaVuSans-41\" transform=\"scale(0.015625)\"/>\r\n      </defs>\r\n      <use xlink:href=\"#DejaVuSans-41\"/>\r\n     </g>\r\n    </g>\r\n   </g>\r\n   <g id=\"matplotlib.axis_2\">\r\n    <g id=\"ytick_1\">\r\n     <g id=\"line2d_7\">\r\n      <defs>\r\n       <path d=\"M 0 0 \r\nL -3.5 0 \r\n\" id=\"mfa5cffb83b\" style=\"stroke:#000000;stroke-width:0.8;\"/>\r\n      </defs>\r\n      <g>\r\n       <use style=\"stroke:#000000;stroke-width:0.8;\" x=\"40.603125\" xlink:href=\"#mfa5cffb83b\" y=\"207.284418\"/>\r\n      </g>\r\n     </g>\r\n     <g id=\"text_8\">\r\n      <!-- 10 -->\r\n      <g transform=\"translate(20.878125 211.083637)scale(0.1 -0.1)\">\r\n       <use xlink:href=\"#DejaVuSans-31\"/>\r\n       <use x=\"63.623047\" xlink:href=\"#DejaVuSans-30\"/>\r\n      </g>\r\n     </g>\r\n    </g>\r\n    <g id=\"ytick_2\">\r\n     <g id=\"line2d_8\">\r\n      <g>\r\n       <use style=\"stroke:#000000;stroke-width:0.8;\" x=\"40.603125\" xlink:href=\"#mfa5cffb83b\" y=\"173.687171\"/>\r\n      </g>\r\n     </g>\r\n     <g id=\"text_9\">\r\n      <!-- 15 -->\r\n      <g transform=\"translate(20.878125 177.486389)scale(0.1 -0.1)\">\r\n       <use xlink:href=\"#DejaVuSans-31\"/>\r\n       <use x=\"63.623047\" xlink:href=\"#DejaVuSans-35\"/>\r\n      </g>\r\n     </g>\r\n    </g>\r\n    <g id=\"ytick_3\">\r\n     <g id=\"line2d_9\">\r\n      <g>\r\n       <use style=\"stroke:#000000;stroke-width:0.8;\" x=\"40.603125\" xlink:href=\"#mfa5cffb83b\" y=\"140.089923\"/>\r\n      </g>\r\n     </g>\r\n     <g id=\"text_10\">\r\n      <!-- 20 -->\r\n      <g transform=\"translate(20.878125 143.889142)scale(0.1 -0.1)\">\r\n       <defs>\r\n        <path d=\"M 1228 531 \r\nL 3431 531 \r\nL 3431 0 \r\nL 469 0 \r\nL 469 531 \r\nQ 828 903 1448 1529 \r\nQ 2069 2156 2228 2338 \r\nQ 2531 2678 2651 2914 \r\nQ 2772 3150 2772 3378 \r\nQ 2772 3750 2511 3984 \r\nQ 2250 4219 1831 4219 \r\nQ 1534 4219 1204 4116 \r\nQ 875 4013 500 3803 \r\nL 500 4441 \r\nQ 881 4594 1212 4672 \r\nQ 1544 4750 1819 4750 \r\nQ 2544 4750 2975 4387 \r\nQ 3406 4025 3406 3419 \r\nQ 3406 3131 3298 2873 \r\nQ 3191 2616 2906 2266 \r\nQ 2828 2175 2409 1742 \r\nQ 1991 1309 1228 531 \r\nz\r\n\" id=\"DejaVuSans-32\" transform=\"scale(0.015625)\"/>\r\n       </defs>\r\n       <use xlink:href=\"#DejaVuSans-32\"/>\r\n       <use x=\"63.623047\" xlink:href=\"#DejaVuSans-30\"/>\r\n      </g>\r\n     </g>\r\n    </g>\r\n    <g id=\"ytick_4\">\r\n     <g id=\"line2d_10\">\r\n      <g>\r\n       <use style=\"stroke:#000000;stroke-width:0.8;\" x=\"40.603125\" xlink:href=\"#mfa5cffb83b\" y=\"106.492676\"/>\r\n      </g>\r\n     </g>\r\n     <g id=\"text_11\">\r\n      <!-- 25 -->\r\n      <g transform=\"translate(20.878125 110.291894)scale(0.1 -0.1)\">\r\n       <use xlink:href=\"#DejaVuSans-32\"/>\r\n       <use x=\"63.623047\" xlink:href=\"#DejaVuSans-35\"/>\r\n      </g>\r\n     </g>\r\n    </g>\r\n    <g id=\"ytick_5\">\r\n     <g id=\"line2d_11\">\r\n      <g>\r\n       <use style=\"stroke:#000000;stroke-width:0.8;\" x=\"40.603125\" xlink:href=\"#mfa5cffb83b\" y=\"72.895428\"/>\r\n      </g>\r\n     </g>\r\n     <g id=\"text_12\">\r\n      <!-- 30 -->\r\n      <g transform=\"translate(20.878125 76.694647)scale(0.1 -0.1)\">\r\n       <defs>\r\n        <path d=\"M 2597 2516 \r\nQ 3050 2419 3304 2112 \r\nQ 3559 1806 3559 1356 \r\nQ 3559 666 3084 287 \r\nQ 2609 -91 1734 -91 \r\nQ 1441 -91 1130 -33 \r\nQ 819 25 488 141 \r\nL 488 750 \r\nQ 750 597 1062 519 \r\nQ 1375 441 1716 441 \r\nQ 2309 441 2620 675 \r\nQ 2931 909 2931 1356 \r\nQ 2931 1769 2642 2001 \r\nQ 2353 2234 1838 2234 \r\nL 1294 2234 \r\nL 1294 2753 \r\nL 1863 2753 \r\nQ 2328 2753 2575 2939 \r\nQ 2822 3125 2822 3475 \r\nQ 2822 3834 2567 4026 \r\nQ 2313 4219 1838 4219 \r\nQ 1578 4219 1281 4162 \r\nQ 984 4106 628 3988 \r\nL 628 4550 \r\nQ 988 4650 1302 4700 \r\nQ 1616 4750 1894 4750 \r\nQ 2613 4750 3031 4423 \r\nQ 3450 4097 3450 3541 \r\nQ 3450 3153 3228 2886 \r\nQ 3006 2619 2597 2516 \r\nz\r\n\" id=\"DejaVuSans-33\" transform=\"scale(0.015625)\"/>\r\n       </defs>\r\n       <use xlink:href=\"#DejaVuSans-33\"/>\r\n       <use x=\"63.623047\" xlink:href=\"#DejaVuSans-30\"/>\r\n      </g>\r\n     </g>\r\n    </g>\r\n    <g id=\"ytick_6\">\r\n     <g id=\"line2d_12\">\r\n      <g>\r\n       <use style=\"stroke:#000000;stroke-width:0.8;\" x=\"40.603125\" xlink:href=\"#mfa5cffb83b\" y=\"39.29818\"/>\r\n      </g>\r\n     </g>\r\n     <g id=\"text_13\">\r\n      <!-- 35 -->\r\n      <g transform=\"translate(20.878125 43.097399)scale(0.1 -0.1)\">\r\n       <use xlink:href=\"#DejaVuSans-33\"/>\r\n       <use x=\"63.623047\" xlink:href=\"#DejaVuSans-35\"/>\r\n      </g>\r\n     </g>\r\n    </g>\r\n    <g id=\"text_14\">\r\n     <!-- B -->\r\n     <g transform=\"translate(14.798438 119.350469)rotate(-90)scale(0.1 -0.1)\">\r\n      <defs>\r\n       <path d=\"M 1259 2228 \r\nL 1259 519 \r\nL 2272 519 \r\nQ 2781 519 3026 730 \r\nQ 3272 941 3272 1375 \r\nQ 3272 1813 3026 2020 \r\nQ 2781 2228 2272 2228 \r\nL 1259 2228 \r\nz\r\nM 1259 4147 \r\nL 1259 2741 \r\nL 2194 2741 \r\nQ 2656 2741 2882 2914 \r\nQ 3109 3088 3109 3444 \r\nQ 3109 3797 2882 3972 \r\nQ 2656 4147 2194 4147 \r\nL 1259 4147 \r\nz\r\nM 628 4666 \r\nL 2241 4666 \r\nQ 2963 4666 3353 4366 \r\nQ 3744 4066 3744 3513 \r\nQ 3744 3084 3544 2831 \r\nQ 3344 2578 2956 2516 \r\nQ 3422 2416 3680 2098 \r\nQ 3938 1781 3938 1306 \r\nQ 3938 681 3513 340 \r\nQ 3088 0 2303 0 \r\nL 628 0 \r\nL 628 4666 \r\nz\r\n\" id=\"DejaVuSans-42\" transform=\"scale(0.015625)\"/>\r\n      </defs>\r\n      <use xlink:href=\"#DejaVuSans-42\"/>\r\n     </g>\r\n    </g>\r\n   </g>\r\n   <g id=\"patch_3\">\r\n    <path d=\"M 40.603125 224.64 \r\nL 40.603125 7.2 \r\n\" style=\"fill:none;stroke:#000000;stroke-linecap:square;stroke-linejoin:miter;stroke-width:0.8;\"/>\r\n   </g>\r\n   <g id=\"patch_4\">\r\n    <path d=\"M 375.403125 224.64 \r\nL 375.403125 7.2 \r\n\" style=\"fill:none;stroke:#000000;stroke-linecap:square;stroke-linejoin:miter;stroke-width:0.8;\"/>\r\n   </g>\r\n   <g id=\"patch_5\">\r\n    <path d=\"M 40.603125 224.64 \r\nL 375.403125 224.64 \r\n\" style=\"fill:none;stroke:#000000;stroke-linecap:square;stroke-linejoin:miter;stroke-width:0.8;\"/>\r\n   </g>\r\n   <g id=\"patch_6\">\r\n    <path d=\"M 40.603125 7.2 \r\nL 375.403125 7.2 \r\n\" style=\"fill:none;stroke:#000000;stroke-linecap:square;stroke-linejoin:miter;stroke-width:0.8;\"/>\r\n   </g>\r\n  </g>\r\n </g>\r\n <defs>\r\n  <clipPath id=\"p55730ca3b2\">\r\n   <rect height=\"217.44\" width=\"334.8\" x=\"40.603125\" y=\"7.2\"/>\r\n  </clipPath>\r\n </defs>\r\n</svg>\r\n",
      "image/png": "[encoded data removed]"
     },
     "metadata": {
      "needs_background": "light"
     }
    }
   ],
   "metadata": {}
  },
  {
   "cell_type": "code",
   "execution_count": 155,
   "source": [
    "# alternative syntaxis df.plot.scatter instead of kind = 'scatter'\r\n",
    "ax = df.plot.scatter('B', 'C', c=np.arange(len(df)), s=10, colormap='magma') # set color corresponding to index\r\n",
    "# Note it return s axis object \r\n",
    "ax.set_aspect('equal') # to compare absolute ranges "
   ],
   "outputs": [
    {
     "output_type": "display_data",
     "data": {
      "text/plain": [
       "<Figure size 432x288 with 2 Axes>"
      ],
      "image/svg+xml": "<?xml version=\"1.0\" encoding=\"utf-8\" standalone=\"no\"?>\r\n<!DOCTYPE svg PUBLIC \"-//W3C//DTD SVG 1.1//EN\"\r\n  \"http://www.w3.org/Graphics/SVG/1.1/DTD/svg11.dtd\">\r\n<svg height=\"237.718906pt\" version=\"1.1\" viewBox=\"0 0 230.359454 237.718906\" width=\"230.359454pt\" xmlns=\"http://www.w3.org/2000/svg\" xmlns:xlink=\"http://www.w3.org/1999/xlink\">\r\n <metadata>\r\n  <rdf:RDF xmlns:cc=\"http://creativecommons.org/ns#\" xmlns:dc=\"http://purl.org/dc/elements/1.1/\" xmlns:rdf=\"http://www.w3.org/1999/02/22-rdf-syntax-ns#\">\r\n   <cc:Work>\r\n    <dc:type rdf:resource=\"http://purl.org/dc/dcmitype/StillImage\"/>\r\n    <dc:date>2021-08-19T12:27:28.611166</dc:date>\r\n    <dc:format>image/svg+xml</dc:format>\r\n    <dc:creator>\r\n     <cc:Agent>\r\n      <dc:title>Matplotlib v3.4.3, https://matplotlib.org/</dc:title>\r\n     </cc:Agent>\r\n    </dc:creator>\r\n   </cc:Work>\r\n  </rdf:RDF>\r\n </metadata>\r\n <defs>\r\n  <style type=\"text/css\">*{stroke-linecap:butt;stroke-linejoin:round;}</style>\r\n </defs>\r\n <g id=\"figure_1\">\r\n  <g id=\"patch_1\">\r\n   <path d=\"M 0 237.718906 \r\nL 230.359454 237.718906 \r\nL 230.359454 0 \r\nL 0 0 \r\nz\r\n\" style=\"fill:none;\"/>\r\n  </g>\r\n  <g id=\"axes_1\">\r\n   <g id=\"patch_2\">\r\n    <path d=\"M 48.982813 224.64 \r\nL 169.459954 224.64 \r\nL 169.459954 7.2 \r\nL 48.982813 7.2 \r\nz\r\n\" style=\"fill:#ffffff;\"/>\r\n   </g>\r\n   <g id=\"PathCollection_1\">\r\n    <defs>\r\n     <path d=\"M 0 1.581139 \r\nC 0.419323 1.581139 0.821528 1.41454 1.118034 1.118034 \r\nC 1.41454 0.821528 1.581139 0.419323 1.581139 -0 \r\nC 1.581139 -0.419323 1.41454 -0.821528 1.118034 -1.118034 \r\nC 0.821528 -1.41454 0.419323 -1.581139 0 -1.581139 \r\nC -0.419323 -1.581139 -0.821528 -1.41454 -1.118034 -1.118034 \r\nC -1.41454 -0.821528 -1.581139 -0.419323 -1.581139 0 \r\nC -1.581139 0.419323 -1.41454 0.821528 -1.118034 1.118034 \r\nC -0.821528 1.41454 -0.419323 1.581139 0 1.581139 \r\nz\r\n\" id=\"C0_0_ab7145b3e4\"/>\r\n    </defs>\r\n    <g clip-path=\"url(#pa3c4bbbd6b)\">\r\n     <use style=\"fill:#000004;stroke:#000004;\" x=\"96.05028\" xlink:href=\"#C0_0_ab7145b3e4\" y=\"37.710939\"/>\r\n    </g>\r\n    <g clip-path=\"url(#pa3c4bbbd6b)\">\r\n     <use style=\"fill:#000004;stroke:#000004;\" x=\"102.543433\" xlink:href=\"#C0_0_ab7145b3e4\" y=\"24.41377\"/>\r\n    </g>\r\n    <g clip-path=\"url(#pa3c4bbbd6b)\">\r\n     <use style=\"fill:#010005;stroke:#010005;\" x=\"98.940472\" xlink:href=\"#C0_0_ab7145b3e4\" y=\"25.888678\"/>\r\n    </g>\r\n    <g clip-path=\"url(#pa3c4bbbd6b)\">\r\n     <use style=\"fill:#010106;stroke:#010106;\" x=\"100.502543\" xlink:href=\"#C0_0_ab7145b3e4\" y=\"26.03135\"/>\r\n    </g>\r\n    <g clip-path=\"url(#pa3c4bbbd6b)\">\r\n     <use style=\"fill:#010106;stroke:#010106;\" x=\"101.272945\" xlink:href=\"#C0_0_ab7145b3e4\" y=\"35.059138\"/>\r\n    </g>\r\n    <g clip-path=\"url(#pa3c4bbbd6b)\">\r\n     <use style=\"fill:#010108;stroke:#010108;\" x=\"92.890367\" xlink:href=\"#C0_0_ab7145b3e4\" y=\"30.940452\"/>\r\n    </g>\r\n    <g clip-path=\"url(#pa3c4bbbd6b)\">\r\n     <use style=\"fill:#020109;stroke:#020109;\" x=\"90.6976\" xlink:href=\"#C0_0_ab7145b3e4\" y=\"32.996517\"/>\r\n    </g>\r\n    <g clip-path=\"url(#pa3c4bbbd6b)\">\r\n     <use style=\"fill:#020109;stroke:#020109;\" x=\"94.908935\" xlink:href=\"#C0_0_ab7145b3e4\" y=\"33.222857\"/>\r\n    </g>\r\n    <g clip-path=\"url(#pa3c4bbbd6b)\">\r\n     <use style=\"fill:#02020b;stroke:#02020b;\" x=\"95.411836\" xlink:href=\"#C0_0_ab7145b3e4\" y=\"35.188778\"/>\r\n    </g>\r\n    <g clip-path=\"url(#pa3c4bbbd6b)\">\r\n     <use style=\"fill:#02020d;stroke:#02020d;\" x=\"90.898498\" xlink:href=\"#C0_0_ab7145b3e4\" y=\"35.705102\"/>\r\n    </g>\r\n    <g clip-path=\"url(#pa3c4bbbd6b)\">\r\n     <use style=\"fill:#03030f;stroke:#03030f;\" x=\"93.470296\" xlink:href=\"#C0_0_ab7145b3e4\" y=\"36.763368\"/>\r\n    </g>\r\n    <g clip-path=\"url(#pa3c4bbbd6b)\">\r\n     <use style=\"fill:#03030f;stroke:#03030f;\" x=\"91.686498\" xlink:href=\"#C0_0_ab7145b3e4\" y=\"36.923615\"/>\r\n    </g>\r\n    <g clip-path=\"url(#pa3c4bbbd6b)\">\r\n     <use style=\"fill:#030312;stroke:#030312;\" x=\"93.026985\" xlink:href=\"#C0_0_ab7145b3e4\" y=\"37.120197\"/>\r\n    </g>\r\n    <g clip-path=\"url(#pa3c4bbbd6b)\">\r\n     <use style=\"fill:#040414;stroke:#040414;\" x=\"94.430277\" xlink:href=\"#C0_0_ab7145b3e4\" y=\"37.694311\"/>\r\n    </g>\r\n    <g clip-path=\"url(#pa3c4bbbd6b)\">\r\n     <use style=\"fill:#040414;stroke:#040414;\" x=\"90.265317\" xlink:href=\"#C0_0_ab7145b3e4\" y=\"38.319327\"/>\r\n    </g>\r\n    <g clip-path=\"url(#pa3c4bbbd6b)\">\r\n     <use style=\"fill:#050416;stroke:#050416;\" x=\"93.205887\" xlink:href=\"#C0_0_ab7145b3e4\" y=\"33.447647\"/>\r\n    </g>\r\n    <g clip-path=\"url(#pa3c4bbbd6b)\">\r\n     <use style=\"fill:#060518;stroke:#060518;\" x=\"89.454881\" xlink:href=\"#C0_0_ab7145b3e4\" y=\"30.166087\"/>\r\n    </g>\r\n    <g clip-path=\"url(#pa3c4bbbd6b)\">\r\n     <use style=\"fill:#060518;stroke:#060518;\" x=\"84.593374\" xlink:href=\"#C0_0_ab7145b3e4\" y=\"26.862095\"/>\r\n    </g>\r\n    <g clip-path=\"url(#pa3c4bbbd6b)\">\r\n     <use style=\"fill:#06051a;stroke:#06051a;\" x=\"81.306557\" xlink:href=\"#C0_0_ab7145b3e4\" y=\"29.589039\"/>\r\n    </g>\r\n    <g clip-path=\"url(#pa3c4bbbd6b)\">\r\n     <use style=\"fill:#07061c;stroke:#07061c;\" x=\"80.018047\" xlink:href=\"#C0_0_ab7145b3e4\" y=\"24.909831\"/>\r\n    </g>\r\n    <g clip-path=\"url(#pa3c4bbbd6b)\">\r\n     <use style=\"fill:#08071e;stroke:#08071e;\" x=\"80.42536\" xlink:href=\"#C0_0_ab7145b3e4\" y=\"20.696662\"/>\r\n    </g>\r\n    <g clip-path=\"url(#pa3c4bbbd6b)\">\r\n     <use style=\"fill:#08071e;stroke:#08071e;\" x=\"77.548992\" xlink:href=\"#C0_0_ab7145b3e4\" y=\"22.757014\"/>\r\n    </g>\r\n    <g clip-path=\"url(#pa3c4bbbd6b)\">\r\n     <use style=\"fill:#090720;stroke:#090720;\" x=\"80.321992\" xlink:href=\"#C0_0_ab7145b3e4\" y=\"17.083636\"/>\r\n    </g>\r\n    <g clip-path=\"url(#pa3c4bbbd6b)\">\r\n     <use style=\"fill:#0a0822;stroke:#0a0822;\" x=\"81.258206\" xlink:href=\"#C0_0_ab7145b3e4\" y=\"19.627321\"/>\r\n    </g>\r\n    <g clip-path=\"url(#pa3c4bbbd6b)\">\r\n     <use style=\"fill:#0a0822;stroke:#0a0822;\" x=\"78.671437\" xlink:href=\"#C0_0_ab7145b3e4\" y=\"26.485298\"/>\r\n    </g>\r\n    <g clip-path=\"url(#pa3c4bbbd6b)\">\r\n     <use style=\"fill:#0b0924;stroke:#0b0924;\" x=\"81.981202\" xlink:href=\"#C0_0_ab7145b3e4\" y=\"22.384262\"/>\r\n    </g>\r\n    <g clip-path=\"url(#pa3c4bbbd6b)\">\r\n     <use style=\"fill:#0c0926;stroke:#0c0926;\" x=\"86.303918\" xlink:href=\"#C0_0_ab7145b3e4\" y=\"22.829236\"/>\r\n    </g>\r\n    <g clip-path=\"url(#pa3c4bbbd6b)\">\r\n     <use style=\"fill:#0c0926;stroke:#0c0926;\" x=\"85.93651\" xlink:href=\"#C0_0_ab7145b3e4\" y=\"19.192108\"/>\r\n    </g>\r\n    <g clip-path=\"url(#pa3c4bbbd6b)\">\r\n     <use style=\"fill:#0d0a29;stroke:#0d0a29;\" x=\"85.136117\" xlink:href=\"#C0_0_ab7145b3e4\" y=\"22.00004\"/>\r\n    </g>\r\n    <g clip-path=\"url(#pa3c4bbbd6b)\">\r\n     <use style=\"fill:#0e0b2b;stroke:#0e0b2b;\" x=\"78.532277\" xlink:href=\"#C0_0_ab7145b3e4\" y=\"26.697674\"/>\r\n    </g>\r\n    <g clip-path=\"url(#pa3c4bbbd6b)\">\r\n     <use style=\"fill:#100b2d;stroke:#100b2d;\" x=\"77.015087\" xlink:href=\"#C0_0_ab7145b3e4\" y=\"22.111353\"/>\r\n    </g>\r\n    <g clip-path=\"url(#pa3c4bbbd6b)\">\r\n     <use style=\"fill:#100b2d;stroke:#100b2d;\" x=\"75.929793\" xlink:href=\"#C0_0_ab7145b3e4\" y=\"27.350685\"/>\r\n    </g>\r\n    <g clip-path=\"url(#pa3c4bbbd6b)\">\r\n     <use style=\"fill:#110c2f;stroke:#110c2f;\" x=\"76.843353\" xlink:href=\"#C0_0_ab7145b3e4\" y=\"33.16248\"/>\r\n    </g>\r\n    <g clip-path=\"url(#pa3c4bbbd6b)\">\r\n     <use style=\"fill:#120d31;stroke:#120d31;\" x=\"76.216293\" xlink:href=\"#C0_0_ab7145b3e4\" y=\"40.331537\"/>\r\n    </g>\r\n    <g clip-path=\"url(#pa3c4bbbd6b)\">\r\n     <use style=\"fill:#120d31;stroke:#120d31;\" x=\"77.124818\" xlink:href=\"#C0_0_ab7145b3e4\" y=\"50.735498\"/>\r\n    </g>\r\n    <g clip-path=\"url(#pa3c4bbbd6b)\">\r\n     <use style=\"fill:#130d34;stroke:#130d34;\" x=\"82.836313\" xlink:href=\"#C0_0_ab7145b3e4\" y=\"54.604136\"/>\r\n    </g>\r\n    <g clip-path=\"url(#pa3c4bbbd6b)\">\r\n     <use style=\"fill:#140e36;stroke:#140e36;\" x=\"80.863416\" xlink:href=\"#C0_0_ab7145b3e4\" y=\"62.680951\"/>\r\n    </g>\r\n    <g clip-path=\"url(#pa3c4bbbd6b)\">\r\n     <use style=\"fill:#150e38;stroke:#150e38;\" x=\"79.035502\" xlink:href=\"#C0_0_ab7145b3e4\" y=\"62.813512\"/>\r\n    </g>\r\n    <g clip-path=\"url(#pa3c4bbbd6b)\">\r\n     <use style=\"fill:#150e38;stroke:#150e38;\" x=\"74.161413\" xlink:href=\"#C0_0_ab7145b3e4\" y=\"71.139807\"/>\r\n    </g>\r\n    <g clip-path=\"url(#pa3c4bbbd6b)\">\r\n     <use style=\"fill:#160f3b;stroke:#160f3b;\" x=\"74.12917\" xlink:href=\"#C0_0_ab7145b3e4\" y=\"75.213842\"/>\r\n    </g>\r\n    <g clip-path=\"url(#pa3c4bbbd6b)\">\r\n     <use style=\"fill:#180f3d;stroke:#180f3d;\" x=\"77.765894\" xlink:href=\"#C0_0_ab7145b3e4\" y=\"66.531457\"/>\r\n    </g>\r\n    <g clip-path=\"url(#pa3c4bbbd6b)\">\r\n     <use style=\"fill:#180f3d;stroke:#180f3d;\" x=\"71.246571\" xlink:href=\"#C0_0_ab7145b3e4\" y=\"65.246542\"/>\r\n    </g>\r\n    <g clip-path=\"url(#pa3c4bbbd6b)\">\r\n     <use style=\"fill:#19103f;stroke:#19103f;\" x=\"68.767552\" xlink:href=\"#C0_0_ab7145b3e4\" y=\"65.049944\"/>\r\n    </g>\r\n    <g clip-path=\"url(#pa3c4bbbd6b)\">\r\n     <use style=\"fill:#1a1042;stroke:#1a1042;\" x=\"68.90136\" xlink:href=\"#C0_0_ab7145b3e4\" y=\"71.084086\"/>\r\n    </g>\r\n    <g clip-path=\"url(#pa3c4bbbd6b)\">\r\n     <use style=\"fill:#1a1042;stroke:#1a1042;\" x=\"72.066336\" xlink:href=\"#C0_0_ab7145b3e4\" y=\"71.998458\"/>\r\n    </g>\r\n    <g clip-path=\"url(#pa3c4bbbd6b)\">\r\n     <use style=\"fill:#1c1044;stroke:#1c1044;\" x=\"73.491781\" xlink:href=\"#C0_0_ab7145b3e4\" y=\"71.819347\"/>\r\n    </g>\r\n    <g clip-path=\"url(#pa3c4bbbd6b)\">\r\n     <use style=\"fill:#1d1147;stroke:#1d1147;\" x=\"74.703499\" xlink:href=\"#C0_0_ab7145b3e4\" y=\"77.795516\"/>\r\n    </g>\r\n    <g clip-path=\"url(#pa3c4bbbd6b)\">\r\n     <use style=\"fill:#1e1149;stroke:#1e1149;\" x=\"73.868371\" xlink:href=\"#C0_0_ab7145b3e4\" y=\"77.325739\"/>\r\n    </g>\r\n    <g clip-path=\"url(#pa3c4bbbd6b)\">\r\n     <use style=\"fill:#1e1149;stroke:#1e1149;\" x=\"75.662413\" xlink:href=\"#C0_0_ab7145b3e4\" y=\"72.890721\"/>\r\n    </g>\r\n    <g clip-path=\"url(#pa3c4bbbd6b)\">\r\n     <use style=\"fill:#20114b;stroke:#20114b;\" x=\"79.438717\" xlink:href=\"#C0_0_ab7145b3e4\" y=\"74.187303\"/>\r\n    </g>\r\n    <g clip-path=\"url(#pa3c4bbbd6b)\">\r\n     <use style=\"fill:#21114e;stroke:#21114e;\" x=\"73.076055\" xlink:href=\"#C0_0_ab7145b3e4\" y=\"74.921624\"/>\r\n    </g>\r\n    <g clip-path=\"url(#pa3c4bbbd6b)\">\r\n     <use style=\"fill:#21114e;stroke:#21114e;\" x=\"75.788429\" xlink:href=\"#C0_0_ab7145b3e4\" y=\"82.524452\"/>\r\n    </g>\r\n    <g clip-path=\"url(#pa3c4bbbd6b)\">\r\n     <use style=\"fill:#221150;stroke:#221150;\" x=\"75.420741\" xlink:href=\"#C0_0_ab7145b3e4\" y=\"87.73387\"/>\r\n    </g>\r\n    <g clip-path=\"url(#pa3c4bbbd6b)\">\r\n     <use style=\"fill:#241253;stroke:#241253;\" x=\"73.447566\" xlink:href=\"#C0_0_ab7145b3e4\" y=\"83.796018\"/>\r\n    </g>\r\n    <g clip-path=\"url(#pa3c4bbbd6b)\">\r\n     <use style=\"fill:#241253;stroke:#241253;\" x=\"64.351872\" xlink:href=\"#C0_0_ab7145b3e4\" y=\"86.259005\"/>\r\n    </g>\r\n    <g clip-path=\"url(#pa3c4bbbd6b)\">\r\n     <use style=\"fill:#251255;stroke:#251255;\" x=\"59.212754\" xlink:href=\"#C0_0_ab7145b3e4\" y=\"89.720368\"/>\r\n    </g>\r\n    <g clip-path=\"url(#pa3c4bbbd6b)\">\r\n     <use style=\"fill:#271258;stroke:#271258;\" x=\"65.534713\" xlink:href=\"#C0_0_ab7145b3e4\" y=\"92.29889\"/>\r\n    </g>\r\n    <g clip-path=\"url(#pa3c4bbbd6b)\">\r\n     <use style=\"fill:#29115a;stroke:#29115a;\" x=\"62.971212\" xlink:href=\"#C0_0_ab7145b3e4\" y=\"92.512839\"/>\r\n    </g>\r\n    <g clip-path=\"url(#pa3c4bbbd6b)\">\r\n     <use style=\"fill:#29115a;stroke:#29115a;\" x=\"58.932564\" xlink:href=\"#C0_0_ab7145b3e4\" y=\"96.82568\"/>\r\n    </g>\r\n    <g clip-path=\"url(#pa3c4bbbd6b)\">\r\n     <use style=\"fill:#2a115c;stroke:#2a115c;\" x=\"57.233267\" xlink:href=\"#C0_0_ab7145b3e4\" y=\"96.354652\"/>\r\n    </g>\r\n    <g clip-path=\"url(#pa3c4bbbd6b)\">\r\n     <use style=\"fill:#2c115f;stroke:#2c115f;\" x=\"54.459046\" xlink:href=\"#C0_0_ab7145b3e4\" y=\"101.418029\"/>\r\n    </g>\r\n    <g clip-path=\"url(#pa3c4bbbd6b)\">\r\n     <use style=\"fill:#2c115f;stroke:#2c115f;\" x=\"54.92204\" xlink:href=\"#C0_0_ab7145b3e4\" y=\"98.536388\"/>\r\n    </g>\r\n    <g clip-path=\"url(#pa3c4bbbd6b)\">\r\n     <use style=\"fill:#2d1161;stroke:#2d1161;\" x=\"60.569809\" xlink:href=\"#C0_0_ab7145b3e4\" y=\"102.47186\"/>\r\n    </g>\r\n    <g clip-path=\"url(#pa3c4bbbd6b)\">\r\n     <use style=\"fill:#2f1163;stroke:#2f1163;\" x=\"58.385808\" xlink:href=\"#C0_0_ab7145b3e4\" y=\"97.556435\"/>\r\n    </g>\r\n    <g clip-path=\"url(#pa3c4bbbd6b)\">\r\n     <use style=\"fill:#311165;stroke:#311165;\" x=\"58.960238\" xlink:href=\"#C0_0_ab7145b3e4\" y=\"97.593787\"/>\r\n    </g>\r\n    <g clip-path=\"url(#pa3c4bbbd6b)\">\r\n     <use style=\"fill:#311165;stroke:#311165;\" x=\"54.689016\" xlink:href=\"#C0_0_ab7145b3e4\" y=\"100.742164\"/>\r\n    </g>\r\n    <g clip-path=\"url(#pa3c4bbbd6b)\">\r\n     <use style=\"fill:#331067;stroke:#331067;\" x=\"60.348673\" xlink:href=\"#C0_0_ab7145b3e4\" y=\"97.34875\"/>\r\n    </g>\r\n    <g clip-path=\"url(#pa3c4bbbd6b)\">\r\n     <use style=\"fill:#341069;stroke:#341069;\" x=\"61.052491\" xlink:href=\"#C0_0_ab7145b3e4\" y=\"102.466071\"/>\r\n    </g>\r\n    <g clip-path=\"url(#pa3c4bbbd6b)\">\r\n     <use style=\"fill:#341069;stroke:#341069;\" x=\"57.024824\" xlink:href=\"#C0_0_ab7145b3e4\" y=\"104.502824\"/>\r\n    </g>\r\n    <g clip-path=\"url(#pa3c4bbbd6b)\">\r\n     <use style=\"fill:#36106b;stroke:#36106b;\" x=\"60.391601\" xlink:href=\"#C0_0_ab7145b3e4\" y=\"104.503105\"/>\r\n    </g>\r\n    <g clip-path=\"url(#pa3c4bbbd6b)\">\r\n     <use style=\"fill:#38106c;stroke:#38106c;\" x=\"64.859216\" xlink:href=\"#C0_0_ab7145b3e4\" y=\"104.954215\"/>\r\n    </g>\r\n    <g clip-path=\"url(#pa3c4bbbd6b)\">\r\n     <use style=\"fill:#38106c;stroke:#38106c;\" x=\"65.460326\" xlink:href=\"#C0_0_ab7145b3e4\" y=\"112.43228\"/>\r\n    </g>\r\n    <g clip-path=\"url(#pa3c4bbbd6b)\">\r\n     <use style=\"fill:#390f6e;stroke:#390f6e;\" x=\"59.356768\" xlink:href=\"#C0_0_ab7145b3e4\" y=\"115.859894\"/>\r\n    </g>\r\n    <g clip-path=\"url(#pa3c4bbbd6b)\">\r\n     <use style=\"fill:#3b0f70;stroke:#3b0f70;\" x=\"66.003042\" xlink:href=\"#C0_0_ab7145b3e4\" y=\"115.233549\"/>\r\n    </g>\r\n    <g clip-path=\"url(#pa3c4bbbd6b)\">\r\n     <use style=\"fill:#3d0f71;stroke:#3d0f71;\" x=\"67.157644\" xlink:href=\"#C0_0_ab7145b3e4\" y=\"120.147572\"/>\r\n    </g>\r\n    <g clip-path=\"url(#pa3c4bbbd6b)\">\r\n     <use style=\"fill:#3d0f71;stroke:#3d0f71;\" x=\"71.515304\" xlink:href=\"#C0_0_ab7145b3e4\" y=\"115.432591\"/>\r\n    </g>\r\n    <g clip-path=\"url(#pa3c4bbbd6b)\">\r\n     <use style=\"fill:#3f0f72;stroke:#3f0f72;\" x=\"69.464301\" xlink:href=\"#C0_0_ab7145b3e4\" y=\"113.589008\"/>\r\n    </g>\r\n    <g clip-path=\"url(#pa3c4bbbd6b)\">\r\n     <use style=\"fill:#400f74;stroke:#400f74;\" x=\"67.980204\" xlink:href=\"#C0_0_ab7145b3e4\" y=\"115.503551\"/>\r\n    </g>\r\n    <g clip-path=\"url(#pa3c4bbbd6b)\">\r\n     <use style=\"fill:#400f74;stroke:#400f74;\" x=\"68.391426\" xlink:href=\"#C0_0_ab7145b3e4\" y=\"116.323711\"/>\r\n    </g>\r\n    <g clip-path=\"url(#pa3c4bbbd6b)\">\r\n     <use style=\"fill:#420f75;stroke:#420f75;\" x=\"72.536677\" xlink:href=\"#C0_0_ab7145b3e4\" y=\"109.393014\"/>\r\n    </g>\r\n    <g clip-path=\"url(#pa3c4bbbd6b)\">\r\n     <use style=\"fill:#440f76;stroke:#440f76;\" x=\"73.069036\" xlink:href=\"#C0_0_ab7145b3e4\" y=\"105.908282\"/>\r\n    </g>\r\n    <g clip-path=\"url(#pa3c4bbbd6b)\">\r\n     <use style=\"fill:#440f76;stroke:#440f76;\" x=\"68.38978\" xlink:href=\"#C0_0_ab7145b3e4\" y=\"104.492707\"/>\r\n    </g>\r\n    <g clip-path=\"url(#pa3c4bbbd6b)\">\r\n     <use style=\"fill:#451077;stroke:#451077;\" x=\"69.365179\" xlink:href=\"#C0_0_ab7145b3e4\" y=\"109.762754\"/>\r\n    </g>\r\n    <g clip-path=\"url(#pa3c4bbbd6b)\">\r\n     <use style=\"fill:#471078;stroke:#471078;\" x=\"75.432017\" xlink:href=\"#C0_0_ab7145b3e4\" y=\"103.695629\"/>\r\n    </g>\r\n    <g clip-path=\"url(#pa3c4bbbd6b)\">\r\n     <use style=\"fill:#491078;stroke:#491078;\" x=\"75.677017\" xlink:href=\"#C0_0_ab7145b3e4\" y=\"99.777487\"/>\r\n    </g>\r\n    <g clip-path=\"url(#pa3c4bbbd6b)\">\r\n     <use style=\"fill:#491078;stroke:#491078;\" x=\"76.158726\" xlink:href=\"#C0_0_ab7145b3e4\" y=\"100.330008\"/>\r\n    </g>\r\n    <g clip-path=\"url(#pa3c4bbbd6b)\">\r\n     <use style=\"fill:#4a1079;stroke:#4a1079;\" x=\"71.458212\" xlink:href=\"#C0_0_ab7145b3e4\" y=\"102.376562\"/>\r\n    </g>\r\n    <g clip-path=\"url(#pa3c4bbbd6b)\">\r\n     <use style=\"fill:#4c117a;stroke:#4c117a;\" x=\"66.234813\" xlink:href=\"#C0_0_ab7145b3e4\" y=\"103.076137\"/>\r\n    </g>\r\n    <g clip-path=\"url(#pa3c4bbbd6b)\">\r\n     <use style=\"fill:#4c117a;stroke:#4c117a;\" x=\"63.860653\" xlink:href=\"#C0_0_ab7145b3e4\" y=\"107.551008\"/>\r\n    </g>\r\n    <g clip-path=\"url(#pa3c4bbbd6b)\">\r\n     <use style=\"fill:#4e117b;stroke:#4e117b;\" x=\"62.645012\" xlink:href=\"#C0_0_ab7145b3e4\" y=\"109.303767\"/>\r\n    </g>\r\n    <g clip-path=\"url(#pa3c4bbbd6b)\">\r\n     <use style=\"fill:#4f127b;stroke:#4f127b;\" x=\"63.032435\" xlink:href=\"#C0_0_ab7145b3e4\" y=\"106.462481\"/>\r\n    </g>\r\n    <g clip-path=\"url(#pa3c4bbbd6b)\">\r\n     <use style=\"fill:#51127c;stroke:#51127c;\" x=\"63.650301\" xlink:href=\"#C0_0_ab7145b3e4\" y=\"113.192347\"/>\r\n    </g>\r\n    <g clip-path=\"url(#pa3c4bbbd6b)\">\r\n     <use style=\"fill:#51127c;stroke:#51127c;\" x=\"69.614284\" xlink:href=\"#C0_0_ab7145b3e4\" y=\"114.361661\"/>\r\n    </g>\r\n    <g clip-path=\"url(#pa3c4bbbd6b)\">\r\n     <use style=\"fill:#52137c;stroke:#52137c;\" x=\"69.83278\" xlink:href=\"#C0_0_ab7145b3e4\" y=\"113.938142\"/>\r\n    </g>\r\n    <g clip-path=\"url(#pa3c4bbbd6b)\">\r\n     <use style=\"fill:#54137d;stroke:#54137d;\" x=\"73.79568\" xlink:href=\"#C0_0_ab7145b3e4\" y=\"113.552553\"/>\r\n    </g>\r\n    <g clip-path=\"url(#pa3c4bbbd6b)\">\r\n     <use style=\"fill:#54137d;stroke:#54137d;\" x=\"73.649254\" xlink:href=\"#C0_0_ab7145b3e4\" y=\"117.941795\"/>\r\n    </g>\r\n    <g clip-path=\"url(#pa3c4bbbd6b)\">\r\n     <use style=\"fill:#56147d;stroke:#56147d;\" x=\"79.043596\" xlink:href=\"#C0_0_ab7145b3e4\" y=\"122.343009\"/>\r\n    </g>\r\n    <g clip-path=\"url(#pa3c4bbbd6b)\">\r\n     <use style=\"fill:#57157e;stroke:#57157e;\" x=\"72.080012\" xlink:href=\"#C0_0_ab7145b3e4\" y=\"118.287992\"/>\r\n    </g>\r\n    <g clip-path=\"url(#pa3c4bbbd6b)\">\r\n     <use style=\"fill:#57157e;stroke:#57157e;\" x=\"69.850903\" xlink:href=\"#C0_0_ab7145b3e4\" y=\"122.846975\"/>\r\n    </g>\r\n    <g clip-path=\"url(#pa3c4bbbd6b)\">\r\n     <use style=\"fill:#59157e;stroke:#59157e;\" x=\"73.510786\" xlink:href=\"#C0_0_ab7145b3e4\" y=\"119.091717\"/>\r\n    </g>\r\n    <g clip-path=\"url(#pa3c4bbbd6b)\">\r\n     <use style=\"fill:#5a167e;stroke:#5a167e;\" x=\"72.871925\" xlink:href=\"#C0_0_ab7145b3e4\" y=\"120.887587\"/>\r\n    </g>\r\n    <g clip-path=\"url(#pa3c4bbbd6b)\">\r\n     <use style=\"fill:#5c167f;stroke:#5c167f;\" x=\"76.340057\" xlink:href=\"#C0_0_ab7145b3e4\" y=\"116.867451\"/>\r\n    </g>\r\n    <g clip-path=\"url(#pa3c4bbbd6b)\">\r\n     <use style=\"fill:#5c167f;stroke:#5c167f;\" x=\"77.773677\" xlink:href=\"#C0_0_ab7145b3e4\" y=\"118.435148\"/>\r\n    </g>\r\n    <g clip-path=\"url(#pa3c4bbbd6b)\">\r\n     <use style=\"fill:#5d177f;stroke:#5d177f;\" x=\"81.295225\" xlink:href=\"#C0_0_ab7145b3e4\" y=\"122.777979\"/>\r\n    </g>\r\n    <g clip-path=\"url(#pa3c4bbbd6b)\">\r\n     <use style=\"fill:#5f187f;stroke:#5f187f;\" x=\"83.577707\" xlink:href=\"#C0_0_ab7145b3e4\" y=\"119.588982\"/>\r\n    </g>\r\n    <g clip-path=\"url(#pa3c4bbbd6b)\">\r\n     <use style=\"fill:#5f187f;stroke:#5f187f;\" x=\"86.085736\" xlink:href=\"#C0_0_ab7145b3e4\" y=\"119.653731\"/>\r\n    </g>\r\n    <g clip-path=\"url(#pa3c4bbbd6b)\">\r\n     <use style=\"fill:#601880;stroke:#601880;\" x=\"91.642223\" xlink:href=\"#C0_0_ab7145b3e4\" y=\"114.260607\"/>\r\n    </g>\r\n    <g clip-path=\"url(#pa3c4bbbd6b)\">\r\n     <use style=\"fill:#621980;stroke:#621980;\" x=\"95.314915\" xlink:href=\"#C0_0_ab7145b3e4\" y=\"110.938901\"/>\r\n    </g>\r\n    <g clip-path=\"url(#pa3c4bbbd6b)\">\r\n     <use style=\"fill:#621980;stroke:#621980;\" x=\"99.014908\" xlink:href=\"#C0_0_ab7145b3e4\" y=\"111.793068\"/>\r\n    </g>\r\n    <g clip-path=\"url(#pa3c4bbbd6b)\">\r\n     <use style=\"fill:#641a80;stroke:#641a80;\" x=\"99.090928\" xlink:href=\"#C0_0_ab7145b3e4\" y=\"113.467203\"/>\r\n    </g>\r\n    <g clip-path=\"url(#pa3c4bbbd6b)\">\r\n     <use style=\"fill:#651a80;stroke:#651a80;\" x=\"96.92467\" xlink:href=\"#C0_0_ab7145b3e4\" y=\"113.380187\"/>\r\n    </g>\r\n    <g clip-path=\"url(#pa3c4bbbd6b)\">\r\n     <use style=\"fill:#671b80;stroke:#671b80;\" x=\"94.469095\" xlink:href=\"#C0_0_ab7145b3e4\" y=\"112.672025\"/>\r\n    </g>\r\n    <g clip-path=\"url(#pa3c4bbbd6b)\">\r\n     <use style=\"fill:#671b80;stroke:#671b80;\" x=\"97.264899\" xlink:href=\"#C0_0_ab7145b3e4\" y=\"115.95482\"/>\r\n    </g>\r\n    <g clip-path=\"url(#pa3c4bbbd6b)\">\r\n     <use style=\"fill:#681c81;stroke:#681c81;\" x=\"88.186388\" xlink:href=\"#C0_0_ab7145b3e4\" y=\"112.820236\"/>\r\n    </g>\r\n    <g clip-path=\"url(#pa3c4bbbd6b)\">\r\n     <use style=\"fill:#6a1c81;stroke:#6a1c81;\" x=\"83.319697\" xlink:href=\"#C0_0_ab7145b3e4\" y=\"114.29964\"/>\r\n    </g>\r\n    <g clip-path=\"url(#pa3c4bbbd6b)\">\r\n     <use style=\"fill:#6a1c81;stroke:#6a1c81;\" x=\"79.733455\" xlink:href=\"#C0_0_ab7145b3e4\" y=\"115.874594\"/>\r\n    </g>\r\n    <g clip-path=\"url(#pa3c4bbbd6b)\">\r\n     <use style=\"fill:#6b1d81;stroke:#6b1d81;\" x=\"78.811548\" xlink:href=\"#C0_0_ab7145b3e4\" y=\"117.887604\"/>\r\n    </g>\r\n    <g clip-path=\"url(#pa3c4bbbd6b)\">\r\n     <use style=\"fill:#6d1d81;stroke:#6d1d81;\" x=\"69.014572\" xlink:href=\"#C0_0_ab7145b3e4\" y=\"117.027515\"/>\r\n    </g>\r\n    <g clip-path=\"url(#pa3c4bbbd6b)\">\r\n     <use style=\"fill:#6d1d81;stroke:#6d1d81;\" x=\"73.700855\" xlink:href=\"#C0_0_ab7145b3e4\" y=\"119.604062\"/>\r\n    </g>\r\n    <g clip-path=\"url(#pa3c4bbbd6b)\">\r\n     <use style=\"fill:#6e1e81;stroke:#6e1e81;\" x=\"75.935338\" xlink:href=\"#C0_0_ab7145b3e4\" y=\"119.101561\"/>\r\n    </g>\r\n    <g clip-path=\"url(#pa3c4bbbd6b)\">\r\n     <use style=\"fill:#701f81;stroke:#701f81;\" x=\"83.324038\" xlink:href=\"#C0_0_ab7145b3e4\" y=\"108.801359\"/>\r\n    </g>\r\n    <g clip-path=\"url(#pa3c4bbbd6b)\">\r\n     <use style=\"fill:#721f81;stroke:#721f81;\" x=\"87.278716\" xlink:href=\"#C0_0_ab7145b3e4\" y=\"109.000949\"/>\r\n    </g>\r\n    <g clip-path=\"url(#pa3c4bbbd6b)\">\r\n     <use style=\"fill:#721f81;stroke:#721f81;\" x=\"91.11487\" xlink:href=\"#C0_0_ab7145b3e4\" y=\"110.616771\"/>\r\n    </g>\r\n    <g clip-path=\"url(#pa3c4bbbd6b)\">\r\n     <use style=\"fill:#732081;stroke:#732081;\" x=\"99.49425\" xlink:href=\"#C0_0_ab7145b3e4\" y=\"116.825662\"/>\r\n    </g>\r\n    <g clip-path=\"url(#pa3c4bbbd6b)\">\r\n     <use style=\"fill:#752181;stroke:#752181;\" x=\"97.368544\" xlink:href=\"#C0_0_ab7145b3e4\" y=\"116.638683\"/>\r\n    </g>\r\n    <g clip-path=\"url(#pa3c4bbbd6b)\">\r\n     <use style=\"fill:#752181;stroke:#752181;\" x=\"91.771093\" xlink:href=\"#C0_0_ab7145b3e4\" y=\"120.768406\"/>\r\n    </g>\r\n    <g clip-path=\"url(#pa3c4bbbd6b)\">\r\n     <use style=\"fill:#762181;stroke:#762181;\" x=\"90.906015\" xlink:href=\"#C0_0_ab7145b3e4\" y=\"122.166628\"/>\r\n    </g>\r\n    <g clip-path=\"url(#pa3c4bbbd6b)\">\r\n     <use style=\"fill:#782281;stroke:#782281;\" x=\"87.834528\" xlink:href=\"#C0_0_ab7145b3e4\" y=\"121.602185\"/>\r\n    </g>\r\n    <g clip-path=\"url(#pa3c4bbbd6b)\">\r\n     <use style=\"fill:#792282;stroke:#792282;\" x=\"86.87828\" xlink:href=\"#C0_0_ab7145b3e4\" y=\"128.046746\"/>\r\n    </g>\r\n    <g clip-path=\"url(#pa3c4bbbd6b)\">\r\n     <use style=\"fill:#792282;stroke:#792282;\" x=\"82.968261\" xlink:href=\"#C0_0_ab7145b3e4\" y=\"127.460504\"/>\r\n    </g>\r\n    <g clip-path=\"url(#pa3c4bbbd6b)\">\r\n     <use style=\"fill:#7b2382;stroke:#7b2382;\" x=\"85.082508\" xlink:href=\"#C0_0_ab7145b3e4\" y=\"126.326779\"/>\r\n    </g>\r\n    <g clip-path=\"url(#pa3c4bbbd6b)\">\r\n     <use style=\"fill:#7c2382;stroke:#7c2382;\" x=\"86.992369\" xlink:href=\"#C0_0_ab7145b3e4\" y=\"131.155947\"/>\r\n    </g>\r\n    <g clip-path=\"url(#pa3c4bbbd6b)\">\r\n     <use style=\"fill:#7c2382;stroke:#7c2382;\" x=\"86.892134\" xlink:href=\"#C0_0_ab7145b3e4\" y=\"132.616534\"/>\r\n    </g>\r\n    <g clip-path=\"url(#pa3c4bbbd6b)\">\r\n     <use style=\"fill:#7e2482;stroke:#7e2482;\" x=\"88.052168\" xlink:href=\"#C0_0_ab7145b3e4\" y=\"139.432197\"/>\r\n    </g>\r\n    <g clip-path=\"url(#pa3c4bbbd6b)\">\r\n     <use style=\"fill:#802582;stroke:#802582;\" x=\"87.523306\" xlink:href=\"#C0_0_ab7145b3e4\" y=\"133.566528\"/>\r\n    </g>\r\n    <g clip-path=\"url(#pa3c4bbbd6b)\">\r\n     <use style=\"fill:#802582;stroke:#802582;\" x=\"90.323165\" xlink:href=\"#C0_0_ab7145b3e4\" y=\"132.335824\"/>\r\n    </g>\r\n    <g clip-path=\"url(#pa3c4bbbd6b)\">\r\n     <use style=\"fill:#812581;stroke:#812581;\" x=\"90.582441\" xlink:href=\"#C0_0_ab7145b3e4\" y=\"133.004441\"/>\r\n    </g>\r\n    <g clip-path=\"url(#pa3c4bbbd6b)\">\r\n     <use style=\"fill:#832681;stroke:#832681;\" x=\"89.594174\" xlink:href=\"#C0_0_ab7145b3e4\" y=\"133.612921\"/>\r\n    </g>\r\n    <g clip-path=\"url(#pa3c4bbbd6b)\">\r\n     <use style=\"fill:#842681;stroke:#842681;\" x=\"93.055064\" xlink:href=\"#C0_0_ab7145b3e4\" y=\"129.4005\"/>\r\n    </g>\r\n    <g clip-path=\"url(#pa3c4bbbd6b)\">\r\n     <use style=\"fill:#842681;stroke:#842681;\" x=\"97.749165\" xlink:href=\"#C0_0_ab7145b3e4\" y=\"129.751083\"/>\r\n    </g>\r\n    <g clip-path=\"url(#pa3c4bbbd6b)\">\r\n     <use style=\"fill:#862781;stroke:#862781;\" x=\"102.728573\" xlink:href=\"#C0_0_ab7145b3e4\" y=\"128.519435\"/>\r\n    </g>\r\n    <g clip-path=\"url(#pa3c4bbbd6b)\">\r\n     <use style=\"fill:#882781;stroke:#882781;\" x=\"99.04173\" xlink:href=\"#C0_0_ab7145b3e4\" y=\"122.865501\"/>\r\n    </g>\r\n    <g clip-path=\"url(#pa3c4bbbd6b)\">\r\n     <use style=\"fill:#882781;stroke:#882781;\" x=\"97.051956\" xlink:href=\"#C0_0_ab7145b3e4\" y=\"124.154299\"/>\r\n    </g>\r\n    <g clip-path=\"url(#pa3c4bbbd6b)\">\r\n     <use style=\"fill:#892881;stroke:#892881;\" x=\"90.717201\" xlink:href=\"#C0_0_ab7145b3e4\" y=\"128.222235\"/>\r\n    </g>\r\n    <g clip-path=\"url(#pa3c4bbbd6b)\">\r\n     <use style=\"fill:#8b2981;stroke:#8b2981;\" x=\"89.829011\" xlink:href=\"#C0_0_ab7145b3e4\" y=\"131.291892\"/>\r\n    </g>\r\n    <g clip-path=\"url(#pa3c4bbbd6b)\">\r\n     <use style=\"fill:#8b2981;stroke:#8b2981;\" x=\"91.378261\" xlink:href=\"#C0_0_ab7145b3e4\" y=\"125.972905\"/>\r\n    </g>\r\n    <g clip-path=\"url(#pa3c4bbbd6b)\">\r\n     <use style=\"fill:#8c2981;stroke:#8c2981;\" x=\"90.883835\" xlink:href=\"#C0_0_ab7145b3e4\" y=\"125.632512\"/>\r\n    </g>\r\n    <g clip-path=\"url(#pa3c4bbbd6b)\">\r\n     <use style=\"fill:#8e2a81;stroke:#8e2a81;\" x=\"98.07249\" xlink:href=\"#C0_0_ab7145b3e4\" y=\"127.502717\"/>\r\n    </g>\r\n    <g clip-path=\"url(#pa3c4bbbd6b)\">\r\n     <use style=\"fill:#902a81;stroke:#902a81;\" x=\"96.561515\" xlink:href=\"#C0_0_ab7145b3e4\" y=\"123.87779\"/>\r\n    </g>\r\n    <g clip-path=\"url(#pa3c4bbbd6b)\">\r\n     <use style=\"fill:#902a81;stroke:#902a81;\" x=\"92.508943\" xlink:href=\"#C0_0_ab7145b3e4\" y=\"120.162344\"/>\r\n    </g>\r\n    <g clip-path=\"url(#pa3c4bbbd6b)\">\r\n     <use style=\"fill:#912b81;stroke:#912b81;\" x=\"94.625513\" xlink:href=\"#C0_0_ab7145b3e4\" y=\"121.933205\"/>\r\n    </g>\r\n    <g clip-path=\"url(#pa3c4bbbd6b)\">\r\n     <use style=\"fill:#932b80;stroke:#932b80;\" x=\"95.183724\" xlink:href=\"#C0_0_ab7145b3e4\" y=\"125.551775\"/>\r\n    </g>\r\n    <g clip-path=\"url(#pa3c4bbbd6b)\">\r\n     <use style=\"fill:#932b80;stroke:#932b80;\" x=\"97.230071\" xlink:href=\"#C0_0_ab7145b3e4\" y=\"131.398932\"/>\r\n    </g>\r\n    <g clip-path=\"url(#pa3c4bbbd6b)\">\r\n     <use style=\"fill:#942c80;stroke:#942c80;\" x=\"98.361089\" xlink:href=\"#C0_0_ab7145b3e4\" y=\"138.077671\"/>\r\n    </g>\r\n    <g clip-path=\"url(#pa3c4bbbd6b)\">\r\n     <use style=\"fill:#962c80;stroke:#962c80;\" x=\"99.268641\" xlink:href=\"#C0_0_ab7145b3e4\" y=\"139.064229\"/>\r\n    </g>\r\n    <g clip-path=\"url(#pa3c4bbbd6b)\">\r\n     <use style=\"fill:#982d80;stroke:#982d80;\" x=\"91.367215\" xlink:href=\"#C0_0_ab7145b3e4\" y=\"142.389642\"/>\r\n    </g>\r\n    <g clip-path=\"url(#pa3c4bbbd6b)\">\r\n     <use style=\"fill:#982d80;stroke:#982d80;\" x=\"88.663856\" xlink:href=\"#C0_0_ab7145b3e4\" y=\"135.470448\"/>\r\n    </g>\r\n    <g clip-path=\"url(#pa3c4bbbd6b)\">\r\n     <use style=\"fill:#992d80;stroke:#992d80;\" x=\"86.466047\" xlink:href=\"#C0_0_ab7145b3e4\" y=\"135.252509\"/>\r\n    </g>\r\n    <g clip-path=\"url(#pa3c4bbbd6b)\">\r\n     <use style=\"fill:#9b2e7f;stroke:#9b2e7f;\" x=\"85.170558\" xlink:href=\"#C0_0_ab7145b3e4\" y=\"142.48323\"/>\r\n    </g>\r\n    <g clip-path=\"url(#pa3c4bbbd6b)\">\r\n     <use style=\"fill:#9b2e7f;stroke:#9b2e7f;\" x=\"83.501173\" xlink:href=\"#C0_0_ab7145b3e4\" y=\"137.201229\"/>\r\n    </g>\r\n    <g clip-path=\"url(#pa3c4bbbd6b)\">\r\n     <use style=\"fill:#9c2e7f;stroke:#9c2e7f;\" x=\"85.038118\" xlink:href=\"#C0_0_ab7145b3e4\" y=\"136.599174\"/>\r\n    </g>\r\n    <g clip-path=\"url(#pa3c4bbbd6b)\">\r\n     <use style=\"fill:#9e2f7f;stroke:#9e2f7f;\" x=\"87.275234\" xlink:href=\"#C0_0_ab7145b3e4\" y=\"133.9745\"/>\r\n    </g>\r\n    <g clip-path=\"url(#pa3c4bbbd6b)\">\r\n     <use style=\"fill:#9e2f7f;stroke:#9e2f7f;\" x=\"83.062078\" xlink:href=\"#C0_0_ab7145b3e4\" y=\"131.43525\"/>\r\n    </g>\r\n    <g clip-path=\"url(#pa3c4bbbd6b)\">\r\n     <use style=\"fill:#a02f7f;stroke:#a02f7f;\" x=\"85.619086\" xlink:href=\"#C0_0_ab7145b3e4\" y=\"130.331155\"/>\r\n    </g>\r\n    <g clip-path=\"url(#pa3c4bbbd6b)\">\r\n     <use style=\"fill:#a1307e;stroke:#a1307e;\" x=\"87.79993\" xlink:href=\"#C0_0_ab7145b3e4\" y=\"128.382724\"/>\r\n    </g>\r\n    <g clip-path=\"url(#pa3c4bbbd6b)\">\r\n     <use style=\"fill:#a3307e;stroke:#a3307e;\" x=\"89.534015\" xlink:href=\"#C0_0_ab7145b3e4\" y=\"127.493806\"/>\r\n    </g>\r\n    <g clip-path=\"url(#pa3c4bbbd6b)\">\r\n     <use style=\"fill:#a3307e;stroke:#a3307e;\" x=\"84.255123\" xlink:href=\"#C0_0_ab7145b3e4\" y=\"131.612936\"/>\r\n    </g>\r\n    <g clip-path=\"url(#pa3c4bbbd6b)\">\r\n     <use style=\"fill:#a5317e;stroke:#a5317e;\" x=\"85.895433\" xlink:href=\"#C0_0_ab7145b3e4\" y=\"130.247574\"/>\r\n    </g>\r\n    <g clip-path=\"url(#pa3c4bbbd6b)\">\r\n     <use style=\"fill:#a6317d;stroke:#a6317d;\" x=\"86.20294\" xlink:href=\"#C0_0_ab7145b3e4\" y=\"126.435522\"/>\r\n    </g>\r\n    <g clip-path=\"url(#pa3c4bbbd6b)\">\r\n     <use style=\"fill:#a6317d;stroke:#a6317d;\" x=\"89.780345\" xlink:href=\"#C0_0_ab7145b3e4\" y=\"127.217573\"/>\r\n    </g>\r\n    <g clip-path=\"url(#pa3c4bbbd6b)\">\r\n     <use style=\"fill:#a8327d;stroke:#a8327d;\" x=\"96.423595\" xlink:href=\"#C0_0_ab7145b3e4\" y=\"125.165047\"/>\r\n    </g>\r\n    <g clip-path=\"url(#pa3c4bbbd6b)\">\r\n     <use style=\"fill:#aa337d;stroke:#aa337d;\" x=\"102.336052\" xlink:href=\"#C0_0_ab7145b3e4\" y=\"123.602895\"/>\r\n    </g>\r\n    <g clip-path=\"url(#pa3c4bbbd6b)\">\r\n     <use style=\"fill:#aa337d;stroke:#aa337d;\" x=\"102.755431\" xlink:href=\"#C0_0_ab7145b3e4\" y=\"116.843131\"/>\r\n    </g>\r\n    <g clip-path=\"url(#pa3c4bbbd6b)\">\r\n     <use style=\"fill:#ab337c;stroke:#ab337c;\" x=\"102.748452\" xlink:href=\"#C0_0_ab7145b3e4\" y=\"117.784133\"/>\r\n    </g>\r\n    <g clip-path=\"url(#pa3c4bbbd6b)\">\r\n     <use style=\"fill:#ad347c;stroke:#ad347c;\" x=\"105.101227\" xlink:href=\"#C0_0_ab7145b3e4\" y=\"118.871279\"/>\r\n    </g>\r\n    <g clip-path=\"url(#pa3c4bbbd6b)\">\r\n     <use style=\"fill:#ae347b;stroke:#ae347b;\" x=\"100.949877\" xlink:href=\"#C0_0_ab7145b3e4\" y=\"119.306622\"/>\r\n    </g>\r\n    <g clip-path=\"url(#pa3c4bbbd6b)\">\r\n     <use style=\"fill:#ae347b;stroke:#ae347b;\" x=\"95.548911\" xlink:href=\"#C0_0_ab7145b3e4\" y=\"119.687829\"/>\r\n    </g>\r\n    <g clip-path=\"url(#pa3c4bbbd6b)\">\r\n     <use style=\"fill:#b0357b;stroke:#b0357b;\" x=\"93.789656\" xlink:href=\"#C0_0_ab7145b3e4\" y=\"128.148899\"/>\r\n    </g>\r\n    <g clip-path=\"url(#pa3c4bbbd6b)\">\r\n     <use style=\"fill:#b2357b;stroke:#b2357b;\" x=\"98.333895\" xlink:href=\"#C0_0_ab7145b3e4\" y=\"130.541368\"/>\r\n    </g>\r\n    <g clip-path=\"url(#pa3c4bbbd6b)\">\r\n     <use style=\"fill:#b2357b;stroke:#b2357b;\" x=\"97.101088\" xlink:href=\"#C0_0_ab7145b3e4\" y=\"129.424881\"/>\r\n    </g>\r\n    <g clip-path=\"url(#pa3c4bbbd6b)\">\r\n     <use style=\"fill:#b3367a;stroke:#b3367a;\" x=\"102.695272\" xlink:href=\"#C0_0_ab7145b3e4\" y=\"129.45562\"/>\r\n    </g>\r\n    <g clip-path=\"url(#pa3c4bbbd6b)\">\r\n     <use style=\"fill:#b5367a;stroke:#b5367a;\" x=\"92.314988\" xlink:href=\"#C0_0_ab7145b3e4\" y=\"132.4316\"/>\r\n    </g>\r\n    <g clip-path=\"url(#pa3c4bbbd6b)\">\r\n     <use style=\"fill:#b73779;stroke:#b73779;\" x=\"86.405738\" xlink:href=\"#C0_0_ab7145b3e4\" y=\"134.906607\"/>\r\n    </g>\r\n    <g clip-path=\"url(#pa3c4bbbd6b)\">\r\n     <use style=\"fill:#b73779;stroke:#b73779;\" x=\"85.945239\" xlink:href=\"#C0_0_ab7145b3e4\" y=\"136.230573\"/>\r\n    </g>\r\n    <g clip-path=\"url(#pa3c4bbbd6b)\">\r\n     <use style=\"fill:#b83779;stroke:#b83779;\" x=\"89.252032\" xlink:href=\"#C0_0_ab7145b3e4\" y=\"139.214865\"/>\r\n    </g>\r\n    <g clip-path=\"url(#pa3c4bbbd6b)\">\r\n     <use style=\"fill:#ba3878;stroke:#ba3878;\" x=\"88.992821\" xlink:href=\"#C0_0_ab7145b3e4\" y=\"141.124978\"/>\r\n    </g>\r\n    <g clip-path=\"url(#pa3c4bbbd6b)\">\r\n     <use style=\"fill:#ba3878;stroke:#ba3878;\" x=\"88.636701\" xlink:href=\"#C0_0_ab7145b3e4\" y=\"143.133155\"/>\r\n    </g>\r\n    <g clip-path=\"url(#pa3c4bbbd6b)\">\r\n     <use style=\"fill:#bc3978;stroke:#bc3978;\" x=\"88.183452\" xlink:href=\"#C0_0_ab7145b3e4\" y=\"139.799644\"/>\r\n    </g>\r\n    <g clip-path=\"url(#pa3c4bbbd6b)\">\r\n     <use style=\"fill:#bd3977;stroke:#bd3977;\" x=\"81.620095\" xlink:href=\"#C0_0_ab7145b3e4\" y=\"136.015568\"/>\r\n    </g>\r\n    <g clip-path=\"url(#pa3c4bbbd6b)\">\r\n     <use style=\"fill:#bd3977;stroke:#bd3977;\" x=\"85.931643\" xlink:href=\"#C0_0_ab7145b3e4\" y=\"132.539784\"/>\r\n    </g>\r\n    <g clip-path=\"url(#pa3c4bbbd6b)\">\r\n     <use style=\"fill:#bf3a77;stroke:#bf3a77;\" x=\"83.389676\" xlink:href=\"#C0_0_ab7145b3e4\" y=\"130.951151\"/>\r\n    </g>\r\n    <g clip-path=\"url(#pa3c4bbbd6b)\">\r\n     <use style=\"fill:#c03a76;stroke:#c03a76;\" x=\"87.446061\" xlink:href=\"#C0_0_ab7145b3e4\" y=\"133.588272\"/>\r\n    </g>\r\n    <g clip-path=\"url(#pa3c4bbbd6b)\">\r\n     <use style=\"fill:#c23b75;stroke:#c23b75;\" x=\"87.183499\" xlink:href=\"#C0_0_ab7145b3e4\" y=\"130.014774\"/>\r\n    </g>\r\n    <g clip-path=\"url(#pa3c4bbbd6b)\">\r\n     <use style=\"fill:#c23b75;stroke:#c23b75;\" x=\"91.160314\" xlink:href=\"#C0_0_ab7145b3e4\" y=\"131.184745\"/>\r\n    </g>\r\n    <g clip-path=\"url(#pa3c4bbbd6b)\">\r\n     <use style=\"fill:#c43c75;stroke:#c43c75;\" x=\"92.43828\" xlink:href=\"#C0_0_ab7145b3e4\" y=\"131.098921\"/>\r\n    </g>\r\n    <g clip-path=\"url(#pa3c4bbbd6b)\">\r\n     <use style=\"fill:#c53c74;stroke:#c53c74;\" x=\"92.041126\" xlink:href=\"#C0_0_ab7145b3e4\" y=\"126.116658\"/>\r\n    </g>\r\n    <g clip-path=\"url(#pa3c4bbbd6b)\">\r\n     <use style=\"fill:#c53c74;stroke:#c53c74;\" x=\"92.883509\" xlink:href=\"#C0_0_ab7145b3e4\" y=\"125.803949\"/>\r\n    </g>\r\n    <g clip-path=\"url(#pa3c4bbbd6b)\">\r\n     <use style=\"fill:#c73d73;stroke:#c73d73;\" x=\"87.39954\" xlink:href=\"#C0_0_ab7145b3e4\" y=\"124.883298\"/>\r\n    </g>\r\n    <g clip-path=\"url(#pa3c4bbbd6b)\">\r\n     <use style=\"fill:#c83e73;stroke:#c83e73;\" x=\"87.421987\" xlink:href=\"#C0_0_ab7145b3e4\" y=\"130.143147\"/>\r\n    </g>\r\n    <g clip-path=\"url(#pa3c4bbbd6b)\">\r\n     <use style=\"fill:#c83e73;stroke:#c83e73;\" x=\"93.810892\" xlink:href=\"#C0_0_ab7145b3e4\" y=\"128.329987\"/>\r\n    </g>\r\n    <g clip-path=\"url(#pa3c4bbbd6b)\">\r\n     <use style=\"fill:#ca3e72;stroke:#ca3e72;\" x=\"98.681362\" xlink:href=\"#C0_0_ab7145b3e4\" y=\"131.978601\"/>\r\n    </g>\r\n    <g clip-path=\"url(#pa3c4bbbd6b)\">\r\n     <use style=\"fill:#cc3f71;stroke:#cc3f71;\" x=\"95.01407\" xlink:href=\"#C0_0_ab7145b3e4\" y=\"128.211099\"/>\r\n    </g>\r\n    <g clip-path=\"url(#pa3c4bbbd6b)\">\r\n     <use style=\"fill:#cd4071;stroke:#cd4071;\" x=\"96.896764\" xlink:href=\"#C0_0_ab7145b3e4\" y=\"128.898371\"/>\r\n    </g>\r\n    <g clip-path=\"url(#pa3c4bbbd6b)\">\r\n     <use style=\"fill:#cd4071;stroke:#cd4071;\" x=\"97.820005\" xlink:href=\"#C0_0_ab7145b3e4\" y=\"137.22374\"/>\r\n    </g>\r\n    <g clip-path=\"url(#pa3c4bbbd6b)\">\r\n     <use style=\"fill:#cf4070;stroke:#cf4070;\" x=\"100.862438\" xlink:href=\"#C0_0_ab7145b3e4\" y=\"138.556667\"/>\r\n    </g>\r\n    <g clip-path=\"url(#pa3c4bbbd6b)\">\r\n     <use style=\"fill:#d0416f;stroke:#d0416f;\" x=\"101.212974\" xlink:href=\"#C0_0_ab7145b3e4\" y=\"139.405651\"/>\r\n    </g>\r\n    <g clip-path=\"url(#pa3c4bbbd6b)\">\r\n     <use style=\"fill:#d0416f;stroke:#d0416f;\" x=\"100.343627\" xlink:href=\"#C0_0_ab7145b3e4\" y=\"137.598202\"/>\r\n    </g>\r\n    <g clip-path=\"url(#pa3c4bbbd6b)\">\r\n     <use style=\"fill:#d2426f;stroke:#d2426f;\" x=\"105.297633\" xlink:href=\"#C0_0_ab7145b3e4\" y=\"135.101851\"/>\r\n    </g>\r\n    <g clip-path=\"url(#pa3c4bbbd6b)\">\r\n     <use style=\"fill:#d3436e;stroke:#d3436e;\" x=\"106.103288\" xlink:href=\"#C0_0_ab7145b3e4\" y=\"136.322133\"/>\r\n    </g>\r\n    <g clip-path=\"url(#pa3c4bbbd6b)\">\r\n     <use style=\"fill:#d3436e;stroke:#d3436e;\" x=\"110.777445\" xlink:href=\"#C0_0_ab7145b3e4\" y=\"132.551174\"/>\r\n    </g>\r\n    <g clip-path=\"url(#pa3c4bbbd6b)\">\r\n     <use style=\"fill:#d5446d;stroke:#d5446d;\" x=\"114.405134\" xlink:href=\"#C0_0_ab7145b3e4\" y=\"144.342281\"/>\r\n    </g>\r\n    <g clip-path=\"url(#pa3c4bbbd6b)\">\r\n     <use style=\"fill:#d6456c;stroke:#d6456c;\" x=\"113.197051\" xlink:href=\"#C0_0_ab7145b3e4\" y=\"147.000498\"/>\r\n    </g>\r\n    <g clip-path=\"url(#pa3c4bbbd6b)\">\r\n     <use style=\"fill:#d8456c;stroke:#d8456c;\" x=\"112.575301\" xlink:href=\"#C0_0_ab7145b3e4\" y=\"151.141886\"/>\r\n    </g>\r\n    <g clip-path=\"url(#pa3c4bbbd6b)\">\r\n     <use style=\"fill:#d8456c;stroke:#d8456c;\" x=\"119.760164\" xlink:href=\"#C0_0_ab7145b3e4\" y=\"155.811274\"/>\r\n    </g>\r\n    <g clip-path=\"url(#pa3c4bbbd6b)\">\r\n     <use style=\"fill:#d9466b;stroke:#d9466b;\" x=\"120.473063\" xlink:href=\"#C0_0_ab7145b3e4\" y=\"152.238239\"/>\r\n    </g>\r\n    <g clip-path=\"url(#pa3c4bbbd6b)\">\r\n     <use style=\"fill:#db476a;stroke:#db476a;\" x=\"117.648651\" xlink:href=\"#C0_0_ab7145b3e4\" y=\"149.151196\"/>\r\n    </g>\r\n    <g clip-path=\"url(#pa3c4bbbd6b)\">\r\n     <use style=\"fill:#db476a;stroke:#db476a;\" x=\"113.180829\" xlink:href=\"#C0_0_ab7145b3e4\" y=\"152.039427\"/>\r\n    </g>\r\n    <g clip-path=\"url(#pa3c4bbbd6b)\">\r\n     <use style=\"fill:#dc4869;stroke:#dc4869;\" x=\"116.807573\" xlink:href=\"#C0_0_ab7145b3e4\" y=\"147.653461\"/>\r\n    </g>\r\n    <g clip-path=\"url(#pa3c4bbbd6b)\">\r\n     <use style=\"fill:#de4968;stroke:#de4968;\" x=\"117.404355\" xlink:href=\"#C0_0_ab7145b3e4\" y=\"147.275695\"/>\r\n    </g>\r\n    <g clip-path=\"url(#pa3c4bbbd6b)\">\r\n     <use style=\"fill:#df4a68;stroke:#df4a68;\" x=\"114.455357\" xlink:href=\"#C0_0_ab7145b3e4\" y=\"148.845646\"/>\r\n    </g>\r\n    <g clip-path=\"url(#pa3c4bbbd6b)\">\r\n     <use style=\"fill:#df4a68;stroke:#df4a68;\" x=\"116.96687\" xlink:href=\"#C0_0_ab7145b3e4\" y=\"151.425433\"/>\r\n    </g>\r\n    <g clip-path=\"url(#pa3c4bbbd6b)\">\r\n     <use style=\"fill:#e04c67;stroke:#e04c67;\" x=\"117.561622\" xlink:href=\"#C0_0_ab7145b3e4\" y=\"154.322977\"/>\r\n    </g>\r\n    <g clip-path=\"url(#pa3c4bbbd6b)\">\r\n     <use style=\"fill:#e24d66;stroke:#e24d66;\" x=\"111.37959\" xlink:href=\"#C0_0_ab7145b3e4\" y=\"152.562813\"/>\r\n    </g>\r\n    <g clip-path=\"url(#pa3c4bbbd6b)\">\r\n     <use style=\"fill:#e24d66;stroke:#e24d66;\" x=\"113.571296\" xlink:href=\"#C0_0_ab7145b3e4\" y=\"150.142253\"/>\r\n    </g>\r\n    <g clip-path=\"url(#pa3c4bbbd6b)\">\r\n     <use style=\"fill:#e34e65;stroke:#e34e65;\" x=\"118.534832\" xlink:href=\"#C0_0_ab7145b3e4\" y=\"149.254301\"/>\r\n    </g>\r\n    <g clip-path=\"url(#pa3c4bbbd6b)\">\r\n     <use style=\"fill:#e44f64;stroke:#e44f64;\" x=\"128.065284\" xlink:href=\"#C0_0_ab7145b3e4\" y=\"156.887365\"/>\r\n    </g>\r\n    <g clip-path=\"url(#pa3c4bbbd6b)\">\r\n     <use style=\"fill:#e44f64;stroke:#e44f64;\" x=\"128.195228\" xlink:href=\"#C0_0_ab7145b3e4\" y=\"155.784007\"/>\r\n    </g>\r\n    <g clip-path=\"url(#pa3c4bbbd6b)\">\r\n     <use style=\"fill:#e55064;stroke:#e55064;\" x=\"129.061394\" xlink:href=\"#C0_0_ab7145b3e4\" y=\"153.679007\"/>\r\n    </g>\r\n    <g clip-path=\"url(#pa3c4bbbd6b)\">\r\n     <use style=\"fill:#e75263;stroke:#e75263;\" x=\"135.042835\" xlink:href=\"#C0_0_ab7145b3e4\" y=\"156.170493\"/>\r\n    </g>\r\n    <g clip-path=\"url(#pa3c4bbbd6b)\">\r\n     <use style=\"fill:#e85362;stroke:#e85362;\" x=\"135.670996\" xlink:href=\"#C0_0_ab7145b3e4\" y=\"156.009469\"/>\r\n    </g>\r\n    <g clip-path=\"url(#pa3c4bbbd6b)\">\r\n     <use style=\"fill:#e85362;stroke:#e85362;\" x=\"136.696108\" xlink:href=\"#C0_0_ab7145b3e4\" y=\"162.948804\"/>\r\n    </g>\r\n    <g clip-path=\"url(#pa3c4bbbd6b)\">\r\n     <use style=\"fill:#e95462;stroke:#e95462;\" x=\"134.348284\" xlink:href=\"#C0_0_ab7145b3e4\" y=\"167.528041\"/>\r\n    </g>\r\n    <g clip-path=\"url(#pa3c4bbbd6b)\">\r\n     <use style=\"fill:#ea5661;stroke:#ea5661;\" x=\"129.156955\" xlink:href=\"#C0_0_ab7145b3e4\" y=\"168.735186\"/>\r\n    </g>\r\n    <g clip-path=\"url(#pa3c4bbbd6b)\">\r\n     <use style=\"fill:#ea5661;stroke:#ea5661;\" x=\"132.554938\" xlink:href=\"#C0_0_ab7145b3e4\" y=\"169.888405\"/>\r\n    </g>\r\n    <g clip-path=\"url(#pa3c4bbbd6b)\">\r\n     <use style=\"fill:#eb5760;stroke:#eb5760;\" x=\"127.813372\" xlink:href=\"#C0_0_ab7145b3e4\" y=\"168.579085\"/>\r\n    </g>\r\n    <g clip-path=\"url(#pa3c4bbbd6b)\">\r\n     <use style=\"fill:#ec5860;stroke:#ec5860;\" x=\"132.060093\" xlink:href=\"#C0_0_ab7145b3e4\" y=\"172.998068\"/>\r\n    </g>\r\n    <g clip-path=\"url(#pa3c4bbbd6b)\">\r\n     <use style=\"fill:#ec5860;stroke:#ec5860;\" x=\"129.125713\" xlink:href=\"#C0_0_ab7145b3e4\" y=\"174.268395\"/>\r\n    </g>\r\n    <g clip-path=\"url(#pa3c4bbbd6b)\">\r\n     <use style=\"fill:#ed5a5f;stroke:#ed5a5f;\" x=\"130.113192\" xlink:href=\"#C0_0_ab7145b3e4\" y=\"176.09187\"/>\r\n    </g>\r\n    <g clip-path=\"url(#pa3c4bbbd6b)\">\r\n     <use style=\"fill:#ee5b5e;stroke:#ee5b5e;\" x=\"128.727206\" xlink:href=\"#C0_0_ab7145b3e4\" y=\"174.12606\"/>\r\n    </g>\r\n    <g clip-path=\"url(#pa3c4bbbd6b)\">\r\n     <use style=\"fill:#ef5d5e;stroke:#ef5d5e;\" x=\"133.100302\" xlink:href=\"#C0_0_ab7145b3e4\" y=\"168.835446\"/>\r\n    </g>\r\n    <g clip-path=\"url(#pa3c4bbbd6b)\">\r\n     <use style=\"fill:#ef5d5e;stroke:#ef5d5e;\" x=\"134.220368\" xlink:href=\"#C0_0_ab7145b3e4\" y=\"162.428373\"/>\r\n    </g>\r\n    <g clip-path=\"url(#pa3c4bbbd6b)\">\r\n     <use style=\"fill:#f05f5e;stroke:#f05f5e;\" x=\"141.514179\" xlink:href=\"#C0_0_ab7145b3e4\" y=\"168.267755\"/>\r\n    </g>\r\n    <g clip-path=\"url(#pa3c4bbbd6b)\">\r\n     <use style=\"fill:#f1605d;stroke:#f1605d;\" x=\"137.479592\" xlink:href=\"#C0_0_ab7145b3e4\" y=\"168.446514\"/>\r\n    </g>\r\n    <g clip-path=\"url(#pa3c4bbbd6b)\">\r\n     <use style=\"fill:#f1605d;stroke:#f1605d;\" x=\"139.020425\" xlink:href=\"#C0_0_ab7145b3e4\" y=\"172.588517\"/>\r\n    </g>\r\n    <g clip-path=\"url(#pa3c4bbbd6b)\">\r\n     <use style=\"fill:#f2625d;stroke:#f2625d;\" x=\"139.196681\" xlink:href=\"#C0_0_ab7145b3e4\" y=\"172.829565\"/>\r\n    </g>\r\n    <g clip-path=\"url(#pa3c4bbbd6b)\">\r\n     <use style=\"fill:#f2645c;stroke:#f2645c;\" x=\"140.238925\" xlink:href=\"#C0_0_ab7145b3e4\" y=\"171.255015\"/>\r\n    </g>\r\n    <g clip-path=\"url(#pa3c4bbbd6b)\">\r\n     <use style=\"fill:#f3655c;stroke:#f3655c;\" x=\"146.18062\" xlink:href=\"#C0_0_ab7145b3e4\" y=\"170.951621\"/>\r\n    </g>\r\n    <g clip-path=\"url(#pa3c4bbbd6b)\">\r\n     <use style=\"fill:#f3655c;stroke:#f3655c;\" x=\"148.359789\" xlink:href=\"#C0_0_ab7145b3e4\" y=\"171.134094\"/>\r\n    </g>\r\n    <g clip-path=\"url(#pa3c4bbbd6b)\">\r\n     <use style=\"fill:#f4675c;stroke:#f4675c;\" x=\"144.087494\" xlink:href=\"#C0_0_ab7145b3e4\" y=\"165.612664\"/>\r\n    </g>\r\n    <g clip-path=\"url(#pa3c4bbbd6b)\">\r\n     <use style=\"fill:#f4695c;stroke:#f4695c;\" x=\"146.073781\" xlink:href=\"#C0_0_ab7145b3e4\" y=\"162.928384\"/>\r\n    </g>\r\n    <g clip-path=\"url(#pa3c4bbbd6b)\">\r\n     <use style=\"fill:#f4695c;stroke:#f4695c;\" x=\"144.52641\" xlink:href=\"#C0_0_ab7145b3e4\" y=\"163.943491\"/>\r\n    </g>\r\n    <g clip-path=\"url(#pa3c4bbbd6b)\">\r\n     <use style=\"fill:#f56b5c;stroke:#f56b5c;\" x=\"142.764085\" xlink:href=\"#C0_0_ab7145b3e4\" y=\"163.853351\"/>\r\n    </g>\r\n    <g clip-path=\"url(#pa3c4bbbd6b)\">\r\n     <use style=\"fill:#f66c5c;stroke:#f66c5c;\" x=\"146.657865\" xlink:href=\"#C0_0_ab7145b3e4\" y=\"160.610954\"/>\r\n    </g>\r\n    <g clip-path=\"url(#pa3c4bbbd6b)\">\r\n     <use style=\"fill:#f66c5c;stroke:#f66c5c;\" x=\"144.415323\" xlink:href=\"#C0_0_ab7145b3e4\" y=\"158.340673\"/>\r\n    </g>\r\n    <g clip-path=\"url(#pa3c4bbbd6b)\">\r\n     <use style=\"fill:#f66e5c;stroke:#f66e5c;\" x=\"143.001567\" xlink:href=\"#C0_0_ab7145b3e4\" y=\"159.923253\"/>\r\n    </g>\r\n    <g clip-path=\"url(#pa3c4bbbd6b)\">\r\n     <use style=\"fill:#f7705c;stroke:#f7705c;\" x=\"143.122221\" xlink:href=\"#C0_0_ab7145b3e4\" y=\"166.532572\"/>\r\n    </g>\r\n    <g clip-path=\"url(#pa3c4bbbd6b)\">\r\n     <use style=\"fill:#f7725c;stroke:#f7725c;\" x=\"146.644919\" xlink:href=\"#C0_0_ab7145b3e4\" y=\"170.943111\"/>\r\n    </g>\r\n    <g clip-path=\"url(#pa3c4bbbd6b)\">\r\n     <use style=\"fill:#f7725c;stroke:#f7725c;\" x=\"148.810207\" xlink:href=\"#C0_0_ab7145b3e4\" y=\"170.399623\"/>\r\n    </g>\r\n    <g clip-path=\"url(#pa3c4bbbd6b)\">\r\n     <use style=\"fill:#f8745c;stroke:#f8745c;\" x=\"147.937469\" xlink:href=\"#C0_0_ab7145b3e4\" y=\"177.050953\"/>\r\n    </g>\r\n    <g clip-path=\"url(#pa3c4bbbd6b)\">\r\n     <use style=\"fill:#f8765c;stroke:#f8765c;\" x=\"146.924142\" xlink:href=\"#C0_0_ab7145b3e4\" y=\"177.618325\"/>\r\n    </g>\r\n    <g clip-path=\"url(#pa3c4bbbd6b)\">\r\n     <use style=\"fill:#f8765c;stroke:#f8765c;\" x=\"142.604921\" xlink:href=\"#C0_0_ab7145b3e4\" y=\"179.306986\"/>\r\n    </g>\r\n    <g clip-path=\"url(#pa3c4bbbd6b)\">\r\n     <use style=\"fill:#f9785d;stroke:#f9785d;\" x=\"139.776016\" xlink:href=\"#C0_0_ab7145b3e4\" y=\"175.586717\"/>\r\n    </g>\r\n    <g clip-path=\"url(#pa3c4bbbd6b)\">\r\n     <use style=\"fill:#f9795d;stroke:#f9795d;\" x=\"137.339723\" xlink:href=\"#C0_0_ab7145b3e4\" y=\"180.493861\"/>\r\n    </g>\r\n    <g clip-path=\"url(#pa3c4bbbd6b)\">\r\n     <use style=\"fill:#f9795d;stroke:#f9795d;\" x=\"136.783905\" xlink:href=\"#C0_0_ab7145b3e4\" y=\"187.685934\"/>\r\n    </g>\r\n    <g clip-path=\"url(#pa3c4bbbd6b)\">\r\n     <use style=\"fill:#f97b5d;stroke:#f97b5d;\" x=\"144.180724\" xlink:href=\"#C0_0_ab7145b3e4\" y=\"189.248278\"/>\r\n    </g>\r\n    <g clip-path=\"url(#pa3c4bbbd6b)\">\r\n     <use style=\"fill:#fa7d5e;stroke:#fa7d5e;\" x=\"141.665917\" xlink:href=\"#C0_0_ab7145b3e4\" y=\"186.885023\"/>\r\n    </g>\r\n    <g clip-path=\"url(#pa3c4bbbd6b)\">\r\n     <use style=\"fill:#fa7f5e;stroke:#fa7f5e;\" x=\"140.564531\" xlink:href=\"#C0_0_ab7145b3e4\" y=\"182.901662\"/>\r\n    </g>\r\n    <g clip-path=\"url(#pa3c4bbbd6b)\">\r\n     <use style=\"fill:#fa7f5e;stroke:#fa7f5e;\" x=\"132.923348\" xlink:href=\"#C0_0_ab7145b3e4\" y=\"186.287132\"/>\r\n    </g>\r\n    <g clip-path=\"url(#pa3c4bbbd6b)\">\r\n     <use style=\"fill:#fa815f;stroke:#fa815f;\" x=\"135.159304\" xlink:href=\"#C0_0_ab7145b3e4\" y=\"184.536317\"/>\r\n    </g>\r\n    <g clip-path=\"url(#pa3c4bbbd6b)\">\r\n     <use style=\"fill:#fb835f;stroke:#fb835f;\" x=\"129.286383\" xlink:href=\"#C0_0_ab7145b3e4\" y=\"188.674228\"/>\r\n    </g>\r\n    <g clip-path=\"url(#pa3c4bbbd6b)\">\r\n     <use style=\"fill:#fb835f;stroke:#fb835f;\" x=\"125.911105\" xlink:href=\"#C0_0_ab7145b3e4\" y=\"191.46215\"/>\r\n    </g>\r\n    <g clip-path=\"url(#pa3c4bbbd6b)\">\r\n     <use style=\"fill:#fb8560;stroke:#fb8560;\" x=\"129.791772\" xlink:href=\"#C0_0_ab7145b3e4\" y=\"189.348967\"/>\r\n    </g>\r\n    <g clip-path=\"url(#pa3c4bbbd6b)\">\r\n     <use style=\"fill:#fb8761;stroke:#fb8761;\" x=\"121.955017\" xlink:href=\"#C0_0_ab7145b3e4\" y=\"186.675256\"/>\r\n    </g>\r\n    <g clip-path=\"url(#pa3c4bbbd6b)\">\r\n     <use style=\"fill:#fc8961;stroke:#fc8961;\" x=\"122.312134\" xlink:href=\"#C0_0_ab7145b3e4\" y=\"190.396001\"/>\r\n    </g>\r\n    <g clip-path=\"url(#pa3c4bbbd6b)\">\r\n     <use style=\"fill:#fc8961;stroke:#fc8961;\" x=\"125.294035\" xlink:href=\"#C0_0_ab7145b3e4\" y=\"188.627931\"/>\r\n    </g>\r\n    <g clip-path=\"url(#pa3c4bbbd6b)\">\r\n     <use style=\"fill:#fc8a62;stroke:#fc8a62;\" x=\"130.973341\" xlink:href=\"#C0_0_ab7145b3e4\" y=\"195.584449\"/>\r\n    </g>\r\n    <g clip-path=\"url(#pa3c4bbbd6b)\">\r\n     <use style=\"fill:#fc8c63;stroke:#fc8c63;\" x=\"127.547788\" xlink:href=\"#C0_0_ab7145b3e4\" y=\"196.338959\"/>\r\n    </g>\r\n    <g clip-path=\"url(#pa3c4bbbd6b)\">\r\n     <use style=\"fill:#fc8c63;stroke:#fc8c63;\" x=\"125.224512\" xlink:href=\"#C0_0_ab7145b3e4\" y=\"200.561821\"/>\r\n    </g>\r\n    <g clip-path=\"url(#pa3c4bbbd6b)\">\r\n     <use style=\"fill:#fc8e64;stroke:#fc8e64;\" x=\"131.942519\" xlink:href=\"#C0_0_ab7145b3e4\" y=\"203.568927\"/>\r\n    </g>\r\n    <g clip-path=\"url(#pa3c4bbbd6b)\">\r\n     <use style=\"fill:#fc9065;stroke:#fc9065;\" x=\"131.849219\" xlink:href=\"#C0_0_ab7145b3e4\" y=\"208.319827\"/>\r\n    </g>\r\n    <g clip-path=\"url(#pa3c4bbbd6b)\">\r\n     <use style=\"fill:#fc9065;stroke:#fc9065;\" x=\"129.108071\" xlink:href=\"#C0_0_ab7145b3e4\" y=\"206.258648\"/>\r\n    </g>\r\n    <g clip-path=\"url(#pa3c4bbbd6b)\">\r\n     <use style=\"fill:#fd9266;stroke:#fd9266;\" x=\"126.436835\" xlink:href=\"#C0_0_ab7145b3e4\" y=\"204.196545\"/>\r\n    </g>\r\n    <g clip-path=\"url(#pa3c4bbbd6b)\">\r\n     <use style=\"fill:#fd9467;stroke:#fd9467;\" x=\"122.815959\" xlink:href=\"#C0_0_ab7145b3e4\" y=\"206.769919\"/>\r\n    </g>\r\n    <g clip-path=\"url(#pa3c4bbbd6b)\">\r\n     <use style=\"fill:#fd9668;stroke:#fd9668;\" x=\"121.179037\" xlink:href=\"#C0_0_ab7145b3e4\" y=\"205.371608\"/>\r\n    </g>\r\n    <g clip-path=\"url(#pa3c4bbbd6b)\">\r\n     <use style=\"fill:#fd9668;stroke:#fd9668;\" x=\"125.230537\" xlink:href=\"#C0_0_ab7145b3e4\" y=\"204.398877\"/>\r\n    </g>\r\n    <g clip-path=\"url(#pa3c4bbbd6b)\">\r\n     <use style=\"fill:#fd9869;stroke:#fd9869;\" x=\"128.535735\" xlink:href=\"#C0_0_ab7145b3e4\" y=\"204.877109\"/>\r\n    </g>\r\n    <g clip-path=\"url(#pa3c4bbbd6b)\">\r\n     <use style=\"fill:#fd9a6a;stroke:#fd9a6a;\" x=\"124.163867\" xlink:href=\"#C0_0_ab7145b3e4\" y=\"196.842133\"/>\r\n    </g>\r\n    <g clip-path=\"url(#pa3c4bbbd6b)\">\r\n     <use style=\"fill:#fd9a6a;stroke:#fd9a6a;\" x=\"124.962782\" xlink:href=\"#C0_0_ab7145b3e4\" y=\"199.972766\"/>\r\n    </g>\r\n    <g clip-path=\"url(#pa3c4bbbd6b)\">\r\n     <use style=\"fill:#fd9b6b;stroke:#fd9b6b;\" x=\"123.465521\" xlink:href=\"#C0_0_ab7145b3e4\" y=\"199.919508\"/>\r\n    </g>\r\n    <g clip-path=\"url(#pa3c4bbbd6b)\">\r\n     <use style=\"fill:#fe9d6c;stroke:#fe9d6c;\" x=\"126.378586\" xlink:href=\"#C0_0_ab7145b3e4\" y=\"201.343154\"/>\r\n    </g>\r\n    <g clip-path=\"url(#pa3c4bbbd6b)\">\r\n     <use style=\"fill:#fe9d6c;stroke:#fe9d6c;\" x=\"125.796451\" xlink:href=\"#C0_0_ab7145b3e4\" y=\"202.727309\"/>\r\n    </g>\r\n    <g clip-path=\"url(#pa3c4bbbd6b)\">\r\n     <use style=\"fill:#fe9f6d;stroke:#fe9f6d;\" x=\"127.179656\" xlink:href=\"#C0_0_ab7145b3e4\" y=\"202.133811\"/>\r\n    </g>\r\n    <g clip-path=\"url(#pa3c4bbbd6b)\">\r\n     <use style=\"fill:#fea16e;stroke:#fea16e;\" x=\"126.589161\" xlink:href=\"#C0_0_ab7145b3e4\" y=\"203.229861\"/>\r\n    </g>\r\n    <g clip-path=\"url(#pa3c4bbbd6b)\">\r\n     <use style=\"fill:#fea36f;stroke:#fea36f;\" x=\"118.44653\" xlink:href=\"#C0_0_ab7145b3e4\" y=\"206.433273\"/>\r\n    </g>\r\n    <g clip-path=\"url(#pa3c4bbbd6b)\">\r\n     <use style=\"fill:#fea36f;stroke:#fea36f;\" x=\"118.621522\" xlink:href=\"#C0_0_ab7145b3e4\" y=\"205.970768\"/>\r\n    </g>\r\n    <g clip-path=\"url(#pa3c4bbbd6b)\">\r\n     <use style=\"fill:#fea571;stroke:#fea571;\" x=\"113.886745\" xlink:href=\"#C0_0_ab7145b3e4\" y=\"201.568887\"/>\r\n    </g>\r\n    <g clip-path=\"url(#pa3c4bbbd6b)\">\r\n     <use style=\"fill:#fea772;stroke:#fea772;\" x=\"116.668341\" xlink:href=\"#C0_0_ab7145b3e4\" y=\"198.058921\"/>\r\n    </g>\r\n    <g clip-path=\"url(#pa3c4bbbd6b)\">\r\n     <use style=\"fill:#fea772;stroke:#fea772;\" x=\"114.137308\" xlink:href=\"#C0_0_ab7145b3e4\" y=\"197.302976\"/>\r\n    </g>\r\n    <g clip-path=\"url(#pa3c4bbbd6b)\">\r\n     <use style=\"fill:#fea973;stroke:#fea973;\" x=\"111.884815\" xlink:href=\"#C0_0_ab7145b3e4\" y=\"200.040895\"/>\r\n    </g>\r\n    <g clip-path=\"url(#pa3c4bbbd6b)\">\r\n     <use style=\"fill:#feaa74;stroke:#feaa74;\" x=\"111.851669\" xlink:href=\"#C0_0_ab7145b3e4\" y=\"199.346808\"/>\r\n    </g>\r\n    <g clip-path=\"url(#pa3c4bbbd6b)\">\r\n     <use style=\"fill:#feaa74;stroke:#feaa74;\" x=\"114.002825\" xlink:href=\"#C0_0_ab7145b3e4\" y=\"195.308628\"/>\r\n    </g>\r\n    <g clip-path=\"url(#pa3c4bbbd6b)\">\r\n     <use style=\"fill:#feac76;stroke:#feac76;\" x=\"113.370861\" xlink:href=\"#C0_0_ab7145b3e4\" y=\"190.87377\"/>\r\n    </g>\r\n    <g clip-path=\"url(#pa3c4bbbd6b)\">\r\n     <use style=\"fill:#feae77;stroke:#feae77;\" x=\"119.48479\" xlink:href=\"#C0_0_ab7145b3e4\" y=\"189.534637\"/>\r\n    </g>\r\n    <g clip-path=\"url(#pa3c4bbbd6b)\">\r\n     <use style=\"fill:#feb078;stroke:#feb078;\" x=\"125.623422\" xlink:href=\"#C0_0_ab7145b3e4\" y=\"190.891157\"/>\r\n    </g>\r\n    <g clip-path=\"url(#pa3c4bbbd6b)\">\r\n     <use style=\"fill:#feb078;stroke:#feb078;\" x=\"132.010198\" xlink:href=\"#C0_0_ab7145b3e4\" y=\"191.646016\"/>\r\n    </g>\r\n    <g clip-path=\"url(#pa3c4bbbd6b)\">\r\n     <use style=\"fill:#feb27a;stroke:#feb27a;\" x=\"131.137817\" xlink:href=\"#C0_0_ab7145b3e4\" y=\"188.77165\"/>\r\n    </g>\r\n    <g clip-path=\"url(#pa3c4bbbd6b)\">\r\n     <use style=\"fill:#feb47b;stroke:#feb47b;\" x=\"125.620411\" xlink:href=\"#C0_0_ab7145b3e4\" y=\"186.216348\"/>\r\n    </g>\r\n    <g clip-path=\"url(#pa3c4bbbd6b)\">\r\n     <use style=\"fill:#feb47b;stroke:#feb47b;\" x=\"130.162825\" xlink:href=\"#C0_0_ab7145b3e4\" y=\"192.760353\"/>\r\n    </g>\r\n    <g clip-path=\"url(#pa3c4bbbd6b)\">\r\n     <use style=\"fill:#feb67c;stroke:#feb67c;\" x=\"128.612751\" xlink:href=\"#C0_0_ab7145b3e4\" y=\"190.308286\"/>\r\n    </g>\r\n    <g clip-path=\"url(#pa3c4bbbd6b)\">\r\n     <use style=\"fill:#feb77e;stroke:#feb77e;\" x=\"128.754846\" xlink:href=\"#C0_0_ab7145b3e4\" y=\"187.660124\"/>\r\n    </g>\r\n    <g clip-path=\"url(#pa3c4bbbd6b)\">\r\n     <use style=\"fill:#feb97f;stroke:#feb97f;\" x=\"131.094113\" xlink:href=\"#C0_0_ab7145b3e4\" y=\"190.963182\"/>\r\n    </g>\r\n    <g clip-path=\"url(#pa3c4bbbd6b)\">\r\n     <use style=\"fill:#feb97f;stroke:#feb97f;\" x=\"125.120716\" xlink:href=\"#C0_0_ab7145b3e4\" y=\"193.811246\"/>\r\n    </g>\r\n    <g clip-path=\"url(#pa3c4bbbd6b)\">\r\n     <use style=\"fill:#febb81;stroke:#febb81;\" x=\"131.186016\" xlink:href=\"#C0_0_ab7145b3e4\" y=\"196.630206\"/>\r\n    </g>\r\n    <g clip-path=\"url(#pa3c4bbbd6b)\">\r\n     <use style=\"fill:#febd82;stroke:#febd82;\" x=\"134.443545\" xlink:href=\"#C0_0_ab7145b3e4\" y=\"199.162858\"/>\r\n    </g>\r\n    <g clip-path=\"url(#pa3c4bbbd6b)\">\r\n     <use style=\"fill:#febd82;stroke:#febd82;\" x=\"135.75507\" xlink:href=\"#C0_0_ab7145b3e4\" y=\"204.437488\"/>\r\n    </g>\r\n    <g clip-path=\"url(#pa3c4bbbd6b)\">\r\n     <use style=\"fill:#febf84;stroke:#febf84;\" x=\"139.071998\" xlink:href=\"#C0_0_ab7145b3e4\" y=\"203.271831\"/>\r\n    </g>\r\n    <g clip-path=\"url(#pa3c4bbbd6b)\">\r\n     <use style=\"fill:#fec185;stroke:#fec185;\" x=\"141.14556\" xlink:href=\"#C0_0_ab7145b3e4\" y=\"206.197104\"/>\r\n    </g>\r\n    <g clip-path=\"url(#pa3c4bbbd6b)\">\r\n     <use style=\"fill:#fec185;stroke:#fec185;\" x=\"141.580517\" xlink:href=\"#C0_0_ab7145b3e4\" y=\"206.459147\"/>\r\n    </g>\r\n    <g clip-path=\"url(#pa3c4bbbd6b)\">\r\n     <use style=\"fill:#fec287;stroke:#fec287;\" x=\"140.434658\" xlink:href=\"#C0_0_ab7145b3e4\" y=\"208.31162\"/>\r\n    </g>\r\n    <g clip-path=\"url(#pa3c4bbbd6b)\">\r\n     <use style=\"fill:#fec488;stroke:#fec488;\" x=\"137.682794\" xlink:href=\"#C0_0_ab7145b3e4\" y=\"207.361582\"/>\r\n    </g>\r\n    <g clip-path=\"url(#pa3c4bbbd6b)\">\r\n     <use style=\"fill:#fec68a;stroke:#fec68a;\" x=\"138.752107\" xlink:href=\"#C0_0_ab7145b3e4\" y=\"211.12416\"/>\r\n    </g>\r\n    <g clip-path=\"url(#pa3c4bbbd6b)\">\r\n     <use style=\"fill:#fec68a;stroke:#fec68a;\" x=\"140.096884\" xlink:href=\"#C0_0_ab7145b3e4\" y=\"210.211025\"/>\r\n    </g>\r\n    <g clip-path=\"url(#pa3c4bbbd6b)\">\r\n     <use style=\"fill:#fec88c;stroke:#fec88c;\" x=\"144.129688\" xlink:href=\"#C0_0_ab7145b3e4\" y=\"208.75985\"/>\r\n    </g>\r\n    <g clip-path=\"url(#pa3c4bbbd6b)\">\r\n     <use style=\"fill:#feca8d;stroke:#feca8d;\" x=\"144.876755\" xlink:href=\"#C0_0_ab7145b3e4\" y=\"205.678674\"/>\r\n    </g>\r\n    <g clip-path=\"url(#pa3c4bbbd6b)\">\r\n     <use style=\"fill:#feca8d;stroke:#feca8d;\" x=\"141.700243\" xlink:href=\"#C0_0_ab7145b3e4\" y=\"198.35257\"/>\r\n    </g>\r\n    <g clip-path=\"url(#pa3c4bbbd6b)\">\r\n     <use style=\"fill:#fecc8f;stroke:#fecc8f;\" x=\"135.831849\" xlink:href=\"#C0_0_ab7145b3e4\" y=\"206.141571\"/>\r\n    </g>\r\n    <g clip-path=\"url(#pa3c4bbbd6b)\">\r\n     <use style=\"fill:#fecd90;stroke:#fecd90;\" x=\"135.356928\" xlink:href=\"#C0_0_ab7145b3e4\" y=\"204.949024\"/>\r\n    </g>\r\n    <g clip-path=\"url(#pa3c4bbbd6b)\">\r\n     <use style=\"fill:#fecd90;stroke:#fecd90;\" x=\"135.254699\" xlink:href=\"#C0_0_ab7145b3e4\" y=\"207.589273\"/>\r\n    </g>\r\n    <g clip-path=\"url(#pa3c4bbbd6b)\">\r\n     <use style=\"fill:#fecf92;stroke:#fecf92;\" x=\"134.889499\" xlink:href=\"#C0_0_ab7145b3e4\" y=\"214.756364\"/>\r\n    </g>\r\n    <g clip-path=\"url(#pa3c4bbbd6b)\">\r\n     <use style=\"fill:#fed194;stroke:#fed194;\" x=\"129.191323\" xlink:href=\"#C0_0_ab7145b3e4\" y=\"211.62293\"/>\r\n    </g>\r\n    <g clip-path=\"url(#pa3c4bbbd6b)\">\r\n     <use style=\"fill:#fed395;stroke:#fed395;\" x=\"133.191611\" xlink:href=\"#C0_0_ab7145b3e4\" y=\"206.663083\"/>\r\n    </g>\r\n    <g clip-path=\"url(#pa3c4bbbd6b)\">\r\n     <use style=\"fill:#fed395;stroke:#fed395;\" x=\"137.185065\" xlink:href=\"#C0_0_ab7145b3e4\" y=\"208.121133\"/>\r\n    </g>\r\n    <g clip-path=\"url(#pa3c4bbbd6b)\">\r\n     <use style=\"fill:#fed597;stroke:#fed597;\" x=\"134.119933\" xlink:href=\"#C0_0_ab7145b3e4\" y=\"207.335881\"/>\r\n    </g>\r\n    <g clip-path=\"url(#pa3c4bbbd6b)\">\r\n     <use style=\"fill:#fed799;stroke:#fed799;\" x=\"137.120645\" xlink:href=\"#C0_0_ab7145b3e4\" y=\"207.574442\"/>\r\n    </g>\r\n    <g clip-path=\"url(#pa3c4bbbd6b)\">\r\n     <use style=\"fill:#fed799;stroke:#fed799;\" x=\"140.668082\" xlink:href=\"#C0_0_ab7145b3e4\" y=\"205.957902\"/>\r\n    </g>\r\n    <g clip-path=\"url(#pa3c4bbbd6b)\">\r\n     <use style=\"fill:#fed89a;stroke:#fed89a;\" x=\"140.811223\" xlink:href=\"#C0_0_ab7145b3e4\" y=\"202.679623\"/>\r\n    </g>\r\n    <g clip-path=\"url(#pa3c4bbbd6b)\">\r\n     <use style=\"fill:#fdda9c;stroke:#fdda9c;\" x=\"137.279915\" xlink:href=\"#C0_0_ab7145b3e4\" y=\"201.395404\"/>\r\n    </g>\r\n    <g clip-path=\"url(#pa3c4bbbd6b)\">\r\n     <use style=\"fill:#fddc9e;stroke:#fddc9e;\" x=\"143.286615\" xlink:href=\"#C0_0_ab7145b3e4\" y=\"200.108085\"/>\r\n    </g>\r\n    <g clip-path=\"url(#pa3c4bbbd6b)\">\r\n     <use style=\"fill:#fddc9e;stroke:#fddc9e;\" x=\"144.704805\" xlink:href=\"#C0_0_ab7145b3e4\" y=\"195.418023\"/>\r\n    </g>\r\n    <g clip-path=\"url(#pa3c4bbbd6b)\">\r\n     <use style=\"fill:#fddea0;stroke:#fddea0;\" x=\"143.77018\" xlink:href=\"#C0_0_ab7145b3e4\" y=\"196.031068\"/>\r\n    </g>\r\n    <g clip-path=\"url(#pa3c4bbbd6b)\">\r\n     <use style=\"fill:#fde0a1;stroke:#fde0a1;\" x=\"146.647522\" xlink:href=\"#C0_0_ab7145b3e4\" y=\"192.594452\"/>\r\n    </g>\r\n    <g clip-path=\"url(#pa3c4bbbd6b)\">\r\n     <use style=\"fill:#fde0a1;stroke:#fde0a1;\" x=\"152.687086\" xlink:href=\"#C0_0_ab7145b3e4\" y=\"195.654801\"/>\r\n    </g>\r\n    <g clip-path=\"url(#pa3c4bbbd6b)\">\r\n     <use style=\"fill:#fde2a3;stroke:#fde2a3;\" x=\"150.836134\" xlink:href=\"#C0_0_ab7145b3e4\" y=\"189.671543\"/>\r\n    </g>\r\n    <g clip-path=\"url(#pa3c4bbbd6b)\">\r\n     <use style=\"fill:#fde3a5;stroke:#fde3a5;\" x=\"153.410335\" xlink:href=\"#C0_0_ab7145b3e4\" y=\"186.924582\"/>\r\n    </g>\r\n    <g clip-path=\"url(#pa3c4bbbd6b)\">\r\n     <use style=\"fill:#fde3a5;stroke:#fde3a5;\" x=\"160.644818\" xlink:href=\"#C0_0_ab7145b3e4\" y=\"188.427799\"/>\r\n    </g>\r\n    <g clip-path=\"url(#pa3c4bbbd6b)\">\r\n     <use style=\"fill:#fde5a7;stroke:#fde5a7;\" x=\"156.487791\" xlink:href=\"#C0_0_ab7145b3e4\" y=\"196.300368\"/>\r\n    </g>\r\n    <g clip-path=\"url(#pa3c4bbbd6b)\">\r\n     <use style=\"fill:#fde7a9;stroke:#fde7a9;\" x=\"154.442892\" xlink:href=\"#C0_0_ab7145b3e4\" y=\"196.301525\"/>\r\n    </g>\r\n    <g clip-path=\"url(#pa3c4bbbd6b)\">\r\n     <use style=\"fill:#fde9aa;stroke:#fde9aa;\" x=\"152.217048\" xlink:href=\"#C0_0_ab7145b3e4\" y=\"200.701461\"/>\r\n    </g>\r\n    <g clip-path=\"url(#pa3c4bbbd6b)\">\r\n     <use style=\"fill:#fde9aa;stroke:#fde9aa;\" x=\"151.627588\" xlink:href=\"#C0_0_ab7145b3e4\" y=\"199.585906\"/>\r\n    </g>\r\n    <g clip-path=\"url(#pa3c4bbbd6b)\">\r\n     <use style=\"fill:#fdebac;stroke:#fdebac;\" x=\"150.845845\" xlink:href=\"#C0_0_ab7145b3e4\" y=\"194.183132\"/>\r\n    </g>\r\n    <g clip-path=\"url(#pa3c4bbbd6b)\">\r\n     <use style=\"fill:#fcecae;stroke:#fcecae;\" x=\"151.965721\" xlink:href=\"#C0_0_ab7145b3e4\" y=\"193.587221\"/>\r\n    </g>\r\n    <g clip-path=\"url(#pa3c4bbbd6b)\">\r\n     <use style=\"fill:#fcecae;stroke:#fcecae;\" x=\"148.911422\" xlink:href=\"#C0_0_ab7145b3e4\" y=\"194.249971\"/>\r\n    </g>\r\n    <g clip-path=\"url(#pa3c4bbbd6b)\">\r\n     <use style=\"fill:#fceeb0;stroke:#fceeb0;\" x=\"146.593215\" xlink:href=\"#C0_0_ab7145b3e4\" y=\"192.975923\"/>\r\n    </g>\r\n    <g clip-path=\"url(#pa3c4bbbd6b)\">\r\n     <use style=\"fill:#fcf0b2;stroke:#fcf0b2;\" x=\"147.714934\" xlink:href=\"#C0_0_ab7145b3e4\" y=\"191.912433\"/>\r\n    </g>\r\n    <g clip-path=\"url(#pa3c4bbbd6b)\">\r\n     <use style=\"fill:#fcf0b2;stroke:#fcf0b2;\" x=\"148.291679\" xlink:href=\"#C0_0_ab7145b3e4\" y=\"200.709495\"/>\r\n    </g>\r\n    <g clip-path=\"url(#pa3c4bbbd6b)\">\r\n     <use style=\"fill:#fcf2b4;stroke:#fcf2b4;\" x=\"151.545922\" xlink:href=\"#C0_0_ab7145b3e4\" y=\"199.812475\"/>\r\n    </g>\r\n    <g clip-path=\"url(#pa3c4bbbd6b)\">\r\n     <use style=\"fill:#fcf4b6;stroke:#fcf4b6;\" x=\"153.069971\" xlink:href=\"#C0_0_ab7145b3e4\" y=\"197.503151\"/>\r\n    </g>\r\n    <g clip-path=\"url(#pa3c4bbbd6b)\">\r\n     <use style=\"fill:#fcf6b8;stroke:#fcf6b8;\" x=\"155.943595\" xlink:href=\"#C0_0_ab7145b3e4\" y=\"198.468693\"/>\r\n    </g>\r\n    <g clip-path=\"url(#pa3c4bbbd6b)\">\r\n     <use style=\"fill:#fcf6b8;stroke:#fcf6b8;\" x=\"151.688327\" xlink:href=\"#C0_0_ab7145b3e4\" y=\"194.825468\"/>\r\n    </g>\r\n    <g clip-path=\"url(#pa3c4bbbd6b)\">\r\n     <use style=\"fill:#fcf7b9;stroke:#fcf7b9;\" x=\"150.260849\" xlink:href=\"#C0_0_ab7145b3e4\" y=\"195.300807\"/>\r\n    </g>\r\n    <g clip-path=\"url(#pa3c4bbbd6b)\">\r\n     <use style=\"fill:#fcf9bb;stroke:#fcf9bb;\" x=\"157.142461\" xlink:href=\"#C0_0_ab7145b3e4\" y=\"192.445232\"/>\r\n    </g>\r\n    <g clip-path=\"url(#pa3c4bbbd6b)\">\r\n     <use style=\"fill:#fcf9bb;stroke:#fcf9bb;\" x=\"158.602187\" xlink:href=\"#C0_0_ab7145b3e4\" y=\"183.982347\"/>\r\n    </g>\r\n    <g clip-path=\"url(#pa3c4bbbd6b)\">\r\n     <use style=\"fill:#fcfbbd;stroke:#fcfbbd;\" x=\"161.384769\" xlink:href=\"#C0_0_ab7145b3e4\" y=\"184.341217\"/>\r\n    </g>\r\n    <g clip-path=\"url(#pa3c4bbbd6b)\">\r\n     <use style=\"fill:#fcfdbf;stroke:#fcfdbf;\" x=\"162.400174\" xlink:href=\"#C0_0_ab7145b3e4\" y=\"191.571872\"/>\r\n    </g>\r\n    <g clip-path=\"url(#pa3c4bbbd6b)\">\r\n     <use style=\"fill:#fcfdbf;stroke:#fcfdbf;\" x=\"163.983721\" xlink:href=\"#C0_0_ab7145b3e4\" y=\"192.82502\"/>\r\n    </g>\r\n   </g>\r\n   <g id=\"matplotlib.axis_1\">\r\n    <g id=\"xtick_1\">\r\n     <g id=\"line2d_1\">\r\n      <defs>\r\n       <path d=\"M 0 0 \r\nL 0 3.5 \r\n\" id=\"mc0bdd7d8c1\" style=\"stroke:#000000;stroke-width:0.8;\"/>\r\n      </defs>\r\n      <g>\r\n       <use style=\"stroke:#000000;stroke-width:0.8;\" x=\"58.599033\" xlink:href=\"#mc0bdd7d8c1\" y=\"224.64\"/>\r\n      </g>\r\n     </g>\r\n    </g>\r\n    <g id=\"xtick_2\">\r\n     <g id=\"line2d_2\">\r\n      <g>\r\n       <use style=\"stroke:#000000;stroke-width:0.8;\" x=\"95.829536\" xlink:href=\"#mc0bdd7d8c1\" y=\"224.64\"/>\r\n      </g>\r\n     </g>\r\n    </g>\r\n    <g id=\"xtick_3\">\r\n     <g id=\"line2d_3\">\r\n      <g>\r\n       <use style=\"stroke:#000000;stroke-width:0.8;\" x=\"133.06004\" xlink:href=\"#mc0bdd7d8c1\" y=\"224.64\"/>\r\n      </g>\r\n     </g>\r\n    </g>\r\n   </g>\r\n   <g id=\"matplotlib.axis_2\">\r\n    <g id=\"ytick_1\">\r\n     <g id=\"line2d_4\">\r\n      <defs>\r\n       <path d=\"M 0 0 \r\nL -3.5 0 \r\n\" id=\"m0ed05ce817\" style=\"stroke:#000000;stroke-width:0.8;\"/>\r\n      </defs>\r\n      <g>\r\n       <use style=\"stroke:#000000;stroke-width:0.8;\" x=\"48.982813\" xlink:href=\"#m0ed05ce817\" y=\"223.00379\"/>\r\n      </g>\r\n     </g>\r\n     <g id=\"text_1\">\r\n      <!-- −70 -->\r\n      <g transform=\"translate(20.878125 226.803009)scale(0.1 -0.1)\">\r\n       <defs>\r\n        <path d=\"M 678 2272 \r\nL 4684 2272 \r\nL 4684 1741 \r\nL 678 1741 \r\nL 678 2272 \r\nz\r\n\" id=\"DejaVuSans-2212\" transform=\"scale(0.015625)\"/>\r\n        <path d=\"M 525 4666 \r\nL 3525 4666 \r\nL 3525 4397 \r\nL 1831 0 \r\nL 1172 0 \r\nL 2766 4134 \r\nL 525 4134 \r\nL 525 4666 \r\nz\r\n\" id=\"DejaVuSans-37\" transform=\"scale(0.015625)\"/>\r\n        <path d=\"M 2034 4250 \r\nQ 1547 4250 1301 3770 \r\nQ 1056 3291 1056 2328 \r\nQ 1056 1369 1301 889 \r\nQ 1547 409 2034 409 \r\nQ 2525 409 2770 889 \r\nQ 3016 1369 3016 2328 \r\nQ 3016 3291 2770 3770 \r\nQ 2525 4250 2034 4250 \r\nz\r\nM 2034 4750 \r\nQ 2819 4750 3233 4129 \r\nQ 3647 3509 3647 2328 \r\nQ 3647 1150 3233 529 \r\nQ 2819 -91 2034 -91 \r\nQ 1250 -91 836 529 \r\nQ 422 1150 422 2328 \r\nQ 422 3509 836 4129 \r\nQ 1250 4750 2034 4750 \r\nz\r\n\" id=\"DejaVuSans-30\" transform=\"scale(0.015625)\"/>\r\n       </defs>\r\n       <use xlink:href=\"#DejaVuSans-2212\"/>\r\n       <use x=\"83.789062\" xlink:href=\"#DejaVuSans-37\"/>\r\n       <use x=\"147.412109\" xlink:href=\"#DejaVuSans-30\"/>\r\n      </g>\r\n     </g>\r\n    </g>\r\n    <g id=\"ytick_2\">\r\n     <g id=\"line2d_5\">\r\n      <g>\r\n       <use style=\"stroke:#000000;stroke-width:0.8;\" x=\"48.982813\" xlink:href=\"#m0ed05ce817\" y=\"185.773287\"/>\r\n      </g>\r\n     </g>\r\n     <g id=\"text_2\">\r\n      <!-- −60 -->\r\n      <g transform=\"translate(20.878125 189.572505)scale(0.1 -0.1)\">\r\n       <defs>\r\n        <path d=\"M 2113 2584 \r\nQ 1688 2584 1439 2293 \r\nQ 1191 2003 1191 1497 \r\nQ 1191 994 1439 701 \r\nQ 1688 409 2113 409 \r\nQ 2538 409 2786 701 \r\nQ 3034 994 3034 1497 \r\nQ 3034 2003 2786 2293 \r\nQ 2538 2584 2113 2584 \r\nz\r\nM 3366 4563 \r\nL 3366 3988 \r\nQ 3128 4100 2886 4159 \r\nQ 2644 4219 2406 4219 \r\nQ 1781 4219 1451 3797 \r\nQ 1122 3375 1075 2522 \r\nQ 1259 2794 1537 2939 \r\nQ 1816 3084 2150 3084 \r\nQ 2853 3084 3261 2657 \r\nQ 3669 2231 3669 1497 \r\nQ 3669 778 3244 343 \r\nQ 2819 -91 2113 -91 \r\nQ 1303 -91 875 529 \r\nQ 447 1150 447 2328 \r\nQ 447 3434 972 4092 \r\nQ 1497 4750 2381 4750 \r\nQ 2619 4750 2861 4703 \r\nQ 3103 4656 3366 4563 \r\nz\r\n\" id=\"DejaVuSans-36\" transform=\"scale(0.015625)\"/>\r\n       </defs>\r\n       <use xlink:href=\"#DejaVuSans-2212\"/>\r\n       <use x=\"83.789062\" xlink:href=\"#DejaVuSans-36\"/>\r\n       <use x=\"147.412109\" xlink:href=\"#DejaVuSans-30\"/>\r\n      </g>\r\n     </g>\r\n    </g>\r\n    <g id=\"ytick_3\">\r\n     <g id=\"line2d_6\">\r\n      <g>\r\n       <use style=\"stroke:#000000;stroke-width:0.8;\" x=\"48.982813\" xlink:href=\"#m0ed05ce817\" y=\"148.542783\"/>\r\n      </g>\r\n     </g>\r\n     <g id=\"text_3\">\r\n      <!-- −50 -->\r\n      <g transform=\"translate(20.878125 152.342002)scale(0.1 -0.1)\">\r\n       <defs>\r\n        <path d=\"M 691 4666 \r\nL 3169 4666 \r\nL 3169 4134 \r\nL 1269 4134 \r\nL 1269 2991 \r\nQ 1406 3038 1543 3061 \r\nQ 1681 3084 1819 3084 \r\nQ 2600 3084 3056 2656 \r\nQ 3513 2228 3513 1497 \r\nQ 3513 744 3044 326 \r\nQ 2575 -91 1722 -91 \r\nQ 1428 -91 1123 -41 \r\nQ 819 9 494 109 \r\nL 494 744 \r\nQ 775 591 1075 516 \r\nQ 1375 441 1709 441 \r\nQ 2250 441 2565 725 \r\nQ 2881 1009 2881 1497 \r\nQ 2881 1984 2565 2268 \r\nQ 2250 2553 1709 2553 \r\nQ 1456 2553 1204 2497 \r\nQ 953 2441 691 2322 \r\nL 691 4666 \r\nz\r\n\" id=\"DejaVuSans-35\" transform=\"scale(0.015625)\"/>\r\n       </defs>\r\n       <use xlink:href=\"#DejaVuSans-2212\"/>\r\n       <use x=\"83.789062\" xlink:href=\"#DejaVuSans-35\"/>\r\n       <use x=\"147.412109\" xlink:href=\"#DejaVuSans-30\"/>\r\n      </g>\r\n     </g>\r\n    </g>\r\n    <g id=\"ytick_4\">\r\n     <g id=\"line2d_7\">\r\n      <g>\r\n       <use style=\"stroke:#000000;stroke-width:0.8;\" x=\"48.982813\" xlink:href=\"#m0ed05ce817\" y=\"111.312279\"/>\r\n      </g>\r\n     </g>\r\n     <g id=\"text_4\">\r\n      <!-- −40 -->\r\n      <g transform=\"translate(20.878125 115.111498)scale(0.1 -0.1)\">\r\n       <defs>\r\n        <path d=\"M 2419 4116 \r\nL 825 1625 \r\nL 2419 1625 \r\nL 2419 4116 \r\nz\r\nM 2253 4666 \r\nL 3047 4666 \r\nL 3047 1625 \r\nL 3713 1625 \r\nL 3713 1100 \r\nL 3047 1100 \r\nL 3047 0 \r\nL 2419 0 \r\nL 2419 1100 \r\nL 313 1100 \r\nL 313 1709 \r\nL 2253 4666 \r\nz\r\n\" id=\"DejaVuSans-34\" transform=\"scale(0.015625)\"/>\r\n       </defs>\r\n       <use xlink:href=\"#DejaVuSans-2212\"/>\r\n       <use x=\"83.789062\" xlink:href=\"#DejaVuSans-34\"/>\r\n       <use x=\"147.412109\" xlink:href=\"#DejaVuSans-30\"/>\r\n      </g>\r\n     </g>\r\n    </g>\r\n    <g id=\"ytick_5\">\r\n     <g id=\"line2d_8\">\r\n      <g>\r\n       <use style=\"stroke:#000000;stroke-width:0.8;\" x=\"48.982813\" xlink:href=\"#m0ed05ce817\" y=\"74.081776\"/>\r\n      </g>\r\n     </g>\r\n     <g id=\"text_5\">\r\n      <!-- −30 -->\r\n      <g transform=\"translate(20.878125 77.880994)scale(0.1 -0.1)\">\r\n       <defs>\r\n        <path d=\"M 2597 2516 \r\nQ 3050 2419 3304 2112 \r\nQ 3559 1806 3559 1356 \r\nQ 3559 666 3084 287 \r\nQ 2609 -91 1734 -91 \r\nQ 1441 -91 1130 -33 \r\nQ 819 25 488 141 \r\nL 488 750 \r\nQ 750 597 1062 519 \r\nQ 1375 441 1716 441 \r\nQ 2309 441 2620 675 \r\nQ 2931 909 2931 1356 \r\nQ 2931 1769 2642 2001 \r\nQ 2353 2234 1838 2234 \r\nL 1294 2234 \r\nL 1294 2753 \r\nL 1863 2753 \r\nQ 2328 2753 2575 2939 \r\nQ 2822 3125 2822 3475 \r\nQ 2822 3834 2567 4026 \r\nQ 2313 4219 1838 4219 \r\nQ 1578 4219 1281 4162 \r\nQ 984 4106 628 3988 \r\nL 628 4550 \r\nQ 988 4650 1302 4700 \r\nQ 1616 4750 1894 4750 \r\nQ 2613 4750 3031 4423 \r\nQ 3450 4097 3450 3541 \r\nQ 3450 3153 3228 2886 \r\nQ 3006 2619 2597 2516 \r\nz\r\n\" id=\"DejaVuSans-33\" transform=\"scale(0.015625)\"/>\r\n       </defs>\r\n       <use xlink:href=\"#DejaVuSans-2212\"/>\r\n       <use x=\"83.789062\" xlink:href=\"#DejaVuSans-33\"/>\r\n       <use x=\"147.412109\" xlink:href=\"#DejaVuSans-30\"/>\r\n      </g>\r\n     </g>\r\n    </g>\r\n    <g id=\"ytick_6\">\r\n     <g id=\"line2d_9\">\r\n      <g>\r\n       <use style=\"stroke:#000000;stroke-width:0.8;\" x=\"48.982813\" xlink:href=\"#m0ed05ce817\" y=\"36.851272\"/>\r\n      </g>\r\n     </g>\r\n     <g id=\"text_6\">\r\n      <!-- −20 -->\r\n      <g transform=\"translate(20.878125 40.650491)scale(0.1 -0.1)\">\r\n       <defs>\r\n        <path d=\"M 1228 531 \r\nL 3431 531 \r\nL 3431 0 \r\nL 469 0 \r\nL 469 531 \r\nQ 828 903 1448 1529 \r\nQ 2069 2156 2228 2338 \r\nQ 2531 2678 2651 2914 \r\nQ 2772 3150 2772 3378 \r\nQ 2772 3750 2511 3984 \r\nQ 2250 4219 1831 4219 \r\nQ 1534 4219 1204 4116 \r\nQ 875 4013 500 3803 \r\nL 500 4441 \r\nQ 881 4594 1212 4672 \r\nQ 1544 4750 1819 4750 \r\nQ 2544 4750 2975 4387 \r\nQ 3406 4025 3406 3419 \r\nQ 3406 3131 3298 2873 \r\nQ 3191 2616 2906 2266 \r\nQ 2828 2175 2409 1742 \r\nQ 1991 1309 1228 531 \r\nz\r\n\" id=\"DejaVuSans-32\" transform=\"scale(0.015625)\"/>\r\n       </defs>\r\n       <use xlink:href=\"#DejaVuSans-2212\"/>\r\n       <use x=\"83.789062\" xlink:href=\"#DejaVuSans-32\"/>\r\n       <use x=\"147.412109\" xlink:href=\"#DejaVuSans-30\"/>\r\n      </g>\r\n     </g>\r\n    </g>\r\n    <g id=\"text_7\">\r\n     <!-- C -->\r\n     <g transform=\"translate(14.798438 119.411406)rotate(-90)scale(0.1 -0.1)\">\r\n      <defs>\r\n       <path d=\"M 4122 4306 \r\nL 4122 3641 \r\nQ 3803 3938 3442 4084 \r\nQ 3081 4231 2675 4231 \r\nQ 1875 4231 1450 3742 \r\nQ 1025 3253 1025 2328 \r\nQ 1025 1406 1450 917 \r\nQ 1875 428 2675 428 \r\nQ 3081 428 3442 575 \r\nQ 3803 722 4122 1019 \r\nL 4122 359 \r\nQ 3791 134 3420 21 \r\nQ 3050 -91 2638 -91 \r\nQ 1578 -91 968 557 \r\nQ 359 1206 359 2328 \r\nQ 359 3453 968 4101 \r\nQ 1578 4750 2638 4750 \r\nQ 3056 4750 3426 4639 \r\nQ 3797 4528 4122 4306 \r\nz\r\n\" id=\"DejaVuSans-43\" transform=\"scale(0.015625)\"/>\r\n      </defs>\r\n      <use xlink:href=\"#DejaVuSans-43\"/>\r\n     </g>\r\n    </g>\r\n   </g>\r\n   <g id=\"patch_3\">\r\n    <path d=\"M 48.982813 224.64 \r\nL 48.982813 7.2 \r\n\" style=\"fill:none;stroke:#000000;stroke-linecap:square;stroke-linejoin:miter;stroke-width:0.8;\"/>\r\n   </g>\r\n   <g id=\"patch_4\">\r\n    <path d=\"M 169.459954 224.64 \r\nL 169.459954 7.2 \r\n\" style=\"fill:none;stroke:#000000;stroke-linecap:square;stroke-linejoin:miter;stroke-width:0.8;\"/>\r\n   </g>\r\n   <g id=\"patch_5\">\r\n    <path d=\"M 48.982813 224.64 \r\nL 169.459954 224.64 \r\n\" style=\"fill:none;stroke:#000000;stroke-linecap:square;stroke-linejoin:miter;stroke-width:0.8;\"/>\r\n   </g>\r\n   <g id=\"patch_6\">\r\n    <path d=\"M 48.982813 7.2 \r\nL 169.459954 7.2 \r\n\" style=\"fill:none;stroke:#000000;stroke-linecap:square;stroke-linejoin:miter;stroke-width:0.8;\"/>\r\n   </g>\r\n  </g>\r\n  <g id=\"axes_2\">\r\n   <g id=\"patch_7\">\r\n    <path d=\"M 186.199954 224.64 \r\nL 197.071954 224.64 \r\nL 197.071954 7.2 \r\nL 186.199954 7.2 \r\nz\r\n\" style=\"fill:#ffffff;\"/>\r\n   </g>\r\n   <g id=\"patch_8\">\r\n    <path clip-path=\"url(#pc3baafaba0)\" d=\"M 186.199954 224.64 \r\nL 186.199954 223.790625 \r\nL 186.199954 8.049375 \r\nL 186.199954 7.2 \r\nL 197.071954 7.2 \r\nL 197.071954 8.049375 \r\nL 197.071954 223.790625 \r\nL 197.071954 224.64 \r\nL 197.071954 224.64 \r\nz\r\n\" style=\"fill:#ffffff;stroke:#ffffff;stroke-linejoin:miter;stroke-width:0.01;\"/>\r\n   </g>\r\n   <image height=\"218\" id=\"imageb745347b7e\" transform=\"scale(1 -1)translate(0 -218)\" width=\"11\" x=\"186\" xlink:href=\"data:image/png;base64,\r\niVBORw0KGgoAAAANSUhEUgAAAAsAAADaCAYAAABwzrisAAABbElEQVR4nNXaQQ4DIQxD0QTo/W9cegXewlI668j6sQOF6XTVufX4nK5+ra1TDcVdW5QXFBcUtykDMymvPoKRatCKYxjkRncslGCDn5AyhgLW5dzYRW5I3MJsDdJWIMpbZmMJxrqpQSKMXbC6KZRkg1QMv4P7khugTMXohjRoWy41+P7YSWbJSQbdkFDea9U6UW5zA5SDblCDMet2jjkWCk4dFG+oTjLbbKSUbfhjGOjG890xOfz/OBtSrWsQQsmtbhx+YY5h4CABs8UtCQ5Z3bm4c6HgPNNel7IuFwoq59zIbV8jMHZ/BQOUbfitwSFxj0iwl7ixIG5q0IZfmIMYm9wAZQrFGqR7yk4plzUIyogBxev9RSAq55iDynAFUuaUcolywzEXlYlZrtKEgW7In4kxjGAxvbKY4kYMA95nJTGmuCF/6A9hJuUpDf6jGzOYqVj2unvk+40hbtCnL9ZgivkSc242cnHbSWaCGz8hui8dS9GGAwAAAABJRU5ErkJggg==\" y=\"-6\"/>\r\n   <g id=\"matplotlib.axis_3\"/>\r\n   <g id=\"matplotlib.axis_4\">\r\n    <g id=\"ytick_7\">\r\n     <g id=\"line2d_10\">\r\n      <defs>\r\n       <path d=\"M 0 0 \r\nL 3.5 0 \r\n\" id=\"m99c2baa6e2\" style=\"stroke:#000000;stroke-width:0.8;\"/>\r\n      </defs>\r\n      <g>\r\n       <use style=\"stroke:#000000;stroke-width:0.8;\" x=\"197.071954\" xlink:href=\"#m99c2baa6e2\" y=\"224.64\"/>\r\n      </g>\r\n     </g>\r\n     <g id=\"text_8\">\r\n      <!-- 0 -->\r\n      <g transform=\"translate(204.071954 228.439219)scale(0.1 -0.1)\">\r\n       <use xlink:href=\"#DejaVuSans-30\"/>\r\n      </g>\r\n     </g>\r\n    </g>\r\n    <g id=\"ytick_8\">\r\n     <g id=\"line2d_11\">\r\n      <g>\r\n       <use style=\"stroke:#000000;stroke-width:0.8;\" x=\"197.071954\" xlink:href=\"#m99c2baa6e2\" y=\"194.771868\"/>\r\n      </g>\r\n     </g>\r\n     <g id=\"text_9\">\r\n      <!-- 50 -->\r\n      <g transform=\"translate(204.071954 198.571087)scale(0.1 -0.1)\">\r\n       <use xlink:href=\"#DejaVuSans-35\"/>\r\n       <use x=\"63.623047\" xlink:href=\"#DejaVuSans-30\"/>\r\n      </g>\r\n     </g>\r\n    </g>\r\n    <g id=\"ytick_9\">\r\n     <g id=\"line2d_12\">\r\n      <g>\r\n       <use style=\"stroke:#000000;stroke-width:0.8;\" x=\"197.071954\" xlink:href=\"#m99c2baa6e2\" y=\"164.903736\"/>\r\n      </g>\r\n     </g>\r\n     <g id=\"text_10\">\r\n      <!-- 100 -->\r\n      <g transform=\"translate(204.071954 168.702955)scale(0.1 -0.1)\">\r\n       <defs>\r\n        <path d=\"M 794 531 \r\nL 1825 531 \r\nL 1825 4091 \r\nL 703 3866 \r\nL 703 4441 \r\nL 1819 4666 \r\nL 2450 4666 \r\nL 2450 531 \r\nL 3481 531 \r\nL 3481 0 \r\nL 794 0 \r\nL 794 531 \r\nz\r\n\" id=\"DejaVuSans-31\" transform=\"scale(0.015625)\"/>\r\n       </defs>\r\n       <use xlink:href=\"#DejaVuSans-31\"/>\r\n       <use x=\"63.623047\" xlink:href=\"#DejaVuSans-30\"/>\r\n       <use x=\"127.246094\" xlink:href=\"#DejaVuSans-30\"/>\r\n      </g>\r\n     </g>\r\n    </g>\r\n    <g id=\"ytick_10\">\r\n     <g id=\"line2d_13\">\r\n      <g>\r\n       <use style=\"stroke:#000000;stroke-width:0.8;\" x=\"197.071954\" xlink:href=\"#m99c2baa6e2\" y=\"135.035604\"/>\r\n      </g>\r\n     </g>\r\n     <g id=\"text_11\">\r\n      <!-- 150 -->\r\n      <g transform=\"translate(204.071954 138.834823)scale(0.1 -0.1)\">\r\n       <use xlink:href=\"#DejaVuSans-31\"/>\r\n       <use x=\"63.623047\" xlink:href=\"#DejaVuSans-35\"/>\r\n       <use x=\"127.246094\" xlink:href=\"#DejaVuSans-30\"/>\r\n      </g>\r\n     </g>\r\n    </g>\r\n    <g id=\"ytick_11\">\r\n     <g id=\"line2d_14\">\r\n      <g>\r\n       <use style=\"stroke:#000000;stroke-width:0.8;\" x=\"197.071954\" xlink:href=\"#m99c2baa6e2\" y=\"105.167473\"/>\r\n      </g>\r\n     </g>\r\n     <g id=\"text_12\">\r\n      <!-- 200 -->\r\n      <g transform=\"translate(204.071954 108.966691)scale(0.1 -0.1)\">\r\n       <use xlink:href=\"#DejaVuSans-32\"/>\r\n       <use x=\"63.623047\" xlink:href=\"#DejaVuSans-30\"/>\r\n       <use x=\"127.246094\" xlink:href=\"#DejaVuSans-30\"/>\r\n      </g>\r\n     </g>\r\n    </g>\r\n    <g id=\"ytick_12\">\r\n     <g id=\"line2d_15\">\r\n      <g>\r\n       <use style=\"stroke:#000000;stroke-width:0.8;\" x=\"197.071954\" xlink:href=\"#m99c2baa6e2\" y=\"75.299341\"/>\r\n      </g>\r\n     </g>\r\n     <g id=\"text_13\">\r\n      <!-- 250 -->\r\n      <g transform=\"translate(204.071954 79.098559)scale(0.1 -0.1)\">\r\n       <use xlink:href=\"#DejaVuSans-32\"/>\r\n       <use x=\"63.623047\" xlink:href=\"#DejaVuSans-35\"/>\r\n       <use x=\"127.246094\" xlink:href=\"#DejaVuSans-30\"/>\r\n      </g>\r\n     </g>\r\n    </g>\r\n    <g id=\"ytick_13\">\r\n     <g id=\"line2d_16\">\r\n      <g>\r\n       <use style=\"stroke:#000000;stroke-width:0.8;\" x=\"197.071954\" xlink:href=\"#m99c2baa6e2\" y=\"45.431209\"/>\r\n      </g>\r\n     </g>\r\n     <g id=\"text_14\">\r\n      <!-- 300 -->\r\n      <g transform=\"translate(204.071954 49.230428)scale(0.1 -0.1)\">\r\n       <use xlink:href=\"#DejaVuSans-33\"/>\r\n       <use x=\"63.623047\" xlink:href=\"#DejaVuSans-30\"/>\r\n       <use x=\"127.246094\" xlink:href=\"#DejaVuSans-30\"/>\r\n      </g>\r\n     </g>\r\n    </g>\r\n    <g id=\"ytick_14\">\r\n     <g id=\"line2d_17\">\r\n      <g>\r\n       <use style=\"stroke:#000000;stroke-width:0.8;\" x=\"197.071954\" xlink:href=\"#m99c2baa6e2\" y=\"15.563077\"/>\r\n      </g>\r\n     </g>\r\n     <g id=\"text_15\">\r\n      <!-- 350 -->\r\n      <g transform=\"translate(204.071954 19.362296)scale(0.1 -0.1)\">\r\n       <use xlink:href=\"#DejaVuSans-33\"/>\r\n       <use x=\"63.623047\" xlink:href=\"#DejaVuSans-35\"/>\r\n       <use x=\"127.246094\" xlink:href=\"#DejaVuSans-30\"/>\r\n      </g>\r\n     </g>\r\n    </g>\r\n   </g>\r\n   <g id=\"LineCollection_1\"/>\r\n   <g id=\"patch_9\">\r\n    <path d=\"M 186.199954 224.64 \r\nL 186.199954 223.790625 \r\nL 186.199954 8.049375 \r\nL 186.199954 7.2 \r\nL 197.071954 7.2 \r\nL 197.071954 8.049375 \r\nL 197.071954 223.790625 \r\nL 197.071954 224.64 \r\nz\r\n\" style=\"fill:none;stroke:#000000;stroke-linecap:square;stroke-linejoin:miter;stroke-width:0.8;\"/>\r\n   </g>\r\n  </g>\r\n </g>\r\n <defs>\r\n  <clipPath id=\"pa3c4bbbd6b\">\r\n   <rect height=\"217.44\" width=\"120.477142\" x=\"48.982813\" y=\"7.2\"/>\r\n  </clipPath>\r\n  <clipPath id=\"pc3baafaba0\">\r\n   <rect height=\"217.44\" width=\"10.872\" x=\"186.199954\" y=\"7.2\"/>\r\n  </clipPath>\r\n </defs>\r\n</svg>\r\n",
      "image/png": "[encoded data removed]"
     },
     "metadata": {
      "needs_background": "light"
     }
    }
   ],
   "metadata": {}
  },
  {
   "cell_type": "markdown",
   "source": [
    "<font color = green >\n",
    "\n",
    "### pandas histogram\n",
    "</font>"
   ],
   "metadata": {}
  },
  {
   "cell_type": "code",
   "execution_count": 381,
   "source": [
    "df[\"A\"].plot.hist(alpha=0.7, bins=100);"
   ],
   "outputs": [
    {
     "output_type": "display_data",
     "data": {
      "text/plain": [
       "<Figure size 432x288 with 1 Axes>"
      ],
      "image/png": "[encoded data removed]"
     },
     "metadata": {
      "needs_background": "light"
     }
    }
   ],
   "metadata": {}
  },
  {
   "cell_type": "markdown",
   "source": [
    "<font color = green >\n",
    "\n",
    "### kernel density estimate\n",
    "</font>"
   ],
   "metadata": {}
  },
  {
   "cell_type": "code",
   "execution_count": 373,
   "source": [
    "df.plot.kde() # kernel density estimate:  estimates the probability density function of a random variable\r\n"
   ],
   "outputs": [
    {
     "output_type": "execute_result",
     "data": {
      "text/plain": [
       "<matplotlib.axes._subplots.AxesSubplot at 0x1192b8410>"
      ]
     },
     "metadata": {},
     "execution_count": 373
    },
    {
     "output_type": "display_data",
     "data": {
      "text/plain": [
       "<Figure size 432x288 with 1 Axes>"
      ],
      "image/png": "[encoded data removed]"
     },
     "metadata": {
      "needs_background": "light"
     }
    }
   ],
   "metadata": {}
  },
  {
   "cell_type": "markdown",
   "source": [
    "#### Converting to Datetime"
   ],
   "metadata": {}
  },
  {
   "cell_type": "code",
   "execution_count": 407,
   "source": [
    "d1 = ['2 June 2013', 'Aug 29, 2014', '2015-06-26', '7/12/16']\n",
    "df = pd.DataFrame(np.random.randint(10, 100, (4,2)), index=d1, columns=list('ab'))\n",
    "df"
   ],
   "outputs": [
    {
     "output_type": "execute_result",
     "data": {
      "text/plain": [
       "               a   b\n",
       "2 June 2013   34  86\n",
       "Aug 29, 2014  37  80\n",
       "2015-06-26    65  77\n",
       "7/12/16       14  54"
      ],
      "text/html": [
       "<div>\n",
       "<style scoped>\n",
       "    .dataframe tbody tr th:only-of-type {\n",
       "        vertical-align: middle;\n",
       "    }\n",
       "\n",
       "    .dataframe tbody tr th {\n",
       "        vertical-align: top;\n",
       "    }\n",
       "\n",
       "    .dataframe thead th {\n",
       "        text-align: right;\n",
       "    }\n",
       "</style>\n",
       "<table border=\"1\" class=\"dataframe\">\n",
       "  <thead>\n",
       "    <tr style=\"text-align: right;\">\n",
       "      <th></th>\n",
       "      <th>a</th>\n",
       "      <th>b</th>\n",
       "    </tr>\n",
       "  </thead>\n",
       "  <tbody>\n",
       "    <tr>\n",
       "      <th>2 June 2013</th>\n",
       "      <td>34</td>\n",
       "      <td>86</td>\n",
       "    </tr>\n",
       "    <tr>\n",
       "      <th>Aug 29, 2014</th>\n",
       "      <td>37</td>\n",
       "      <td>80</td>\n",
       "    </tr>\n",
       "    <tr>\n",
       "      <th>2015-06-26</th>\n",
       "      <td>65</td>\n",
       "      <td>77</td>\n",
       "    </tr>\n",
       "    <tr>\n",
       "      <th>7/12/16</th>\n",
       "      <td>14</td>\n",
       "      <td>54</td>\n",
       "    </tr>\n",
       "  </tbody>\n",
       "</table>\n",
       "</div>"
      ]
     },
     "metadata": {},
     "execution_count": 407
    }
   ],
   "metadata": {}
  },
  {
   "cell_type": "code",
   "execution_count": 408,
   "source": [
    "df.index = pd.to_datetime(df.index)\n",
    "df"
   ],
   "outputs": [
    {
     "output_type": "execute_result",
     "data": {
      "text/plain": [
       "             a   b\n",
       "2013-06-02  34  86\n",
       "2014-08-29  37  80\n",
       "2015-06-26  65  77\n",
       "2016-07-12  14  54"
      ],
      "text/html": [
       "<div>\n",
       "<style scoped>\n",
       "    .dataframe tbody tr th:only-of-type {\n",
       "        vertical-align: middle;\n",
       "    }\n",
       "\n",
       "    .dataframe tbody tr th {\n",
       "        vertical-align: top;\n",
       "    }\n",
       "\n",
       "    .dataframe thead th {\n",
       "        text-align: right;\n",
       "    }\n",
       "</style>\n",
       "<table border=\"1\" class=\"dataframe\">\n",
       "  <thead>\n",
       "    <tr style=\"text-align: right;\">\n",
       "      <th></th>\n",
       "      <th>a</th>\n",
       "      <th>b</th>\n",
       "    </tr>\n",
       "  </thead>\n",
       "  <tbody>\n",
       "    <tr>\n",
       "      <th>2013-06-02</th>\n",
       "      <td>34</td>\n",
       "      <td>86</td>\n",
       "    </tr>\n",
       "    <tr>\n",
       "      <th>2014-08-29</th>\n",
       "      <td>37</td>\n",
       "      <td>80</td>\n",
       "    </tr>\n",
       "    <tr>\n",
       "      <th>2015-06-26</th>\n",
       "      <td>65</td>\n",
       "      <td>77</td>\n",
       "    </tr>\n",
       "    <tr>\n",
       "      <th>2016-07-12</th>\n",
       "      <td>14</td>\n",
       "      <td>54</td>\n",
       "    </tr>\n",
       "  </tbody>\n",
       "</table>\n",
       "</div>"
      ]
     },
     "metadata": {},
     "execution_count": 408
    }
   ],
   "metadata": {}
  },
  {
   "cell_type": "code",
   "execution_count": 409,
   "source": [
    "pd.to_datetime('4.7.12', dayfirst=True)"
   ],
   "outputs": [
    {
     "output_type": "execute_result",
     "data": {
      "text/plain": [
       "Timestamp('2012-07-04 00:00:00')"
      ]
     },
     "metadata": {},
     "execution_count": 409
    }
   ],
   "metadata": {}
  },
  {
   "cell_type": "markdown",
   "source": [
    "#### Timedeltas"
   ],
   "metadata": {}
  },
  {
   "cell_type": "code",
   "execution_count": 410,
   "source": [
    "pd.Timestamp('9/3/2016')-pd.Timestamp('9/1/2016')"
   ],
   "outputs": [
    {
     "output_type": "execute_result",
     "data": {
      "text/plain": [
       "Timedelta('2 days 00:00:00')"
      ]
     },
     "metadata": {},
     "execution_count": 410
    }
   ],
   "metadata": {}
  },
  {
   "cell_type": "code",
   "execution_count": 412,
   "source": [
    "pd.Timestamp('9/2/2016 8:10AM') + pd.Timedelta('12D 3H')"
   ],
   "outputs": [
    {
     "output_type": "execute_result",
     "data": {
      "text/plain": [
       "Timestamp('2016-09-14 11:10:00')"
      ]
     },
     "metadata": {},
     "execution_count": 412
    }
   ],
   "metadata": {}
  },
  {
   "cell_type": "markdown",
   "source": [
    "#### Working with Dates in a Dataframe"
   ],
   "metadata": {}
  },
  {
   "cell_type": "code",
   "execution_count": 422,
   "source": [
    "dates = pd.date_range('10-01-2016', periods=9, freq='2W-SUN')\n",
    "dates"
   ],
   "outputs": [
    {
     "output_type": "execute_result",
     "data": {
      "text/plain": [
       "DatetimeIndex(['2016-10-02', '2016-10-16', '2016-10-30', '2016-11-13',\n",
       "               '2016-11-27', '2016-12-11', '2016-12-25', '2017-01-08',\n",
       "               '2017-01-22'],\n",
       "              dtype='datetime64[ns]', freq='2W-SUN')"
      ]
     },
     "metadata": {},
     "execution_count": 422
    }
   ],
   "metadata": {}
  },
  {
   "cell_type": "code",
   "execution_count": 423,
   "source": [
    "df = pd.DataFrame({'Count 1': 100 + np.random.randint(-5, 10, 9).cumsum(),\n",
    "                  'Count 2': 120 + np.random.randint(-5, 10, 9)}, index=dates)\n",
    "df"
   ],
   "outputs": [
    {
     "output_type": "execute_result",
     "data": {
      "text/plain": [
       "            Count 1  Count 2\n",
       "2016-10-02      105      116\n",
       "2016-10-16      113      125\n",
       "2016-10-30      116      121\n",
       "2016-11-13      116      124\n",
       "2016-11-27      114      115\n",
       "2016-12-11      113      128\n",
       "2016-12-25      118      115\n",
       "2017-01-08      122      120\n",
       "2017-01-22      126      118"
      ],
      "text/html": [
       "<div>\n",
       "<style scoped>\n",
       "    .dataframe tbody tr th:only-of-type {\n",
       "        vertical-align: middle;\n",
       "    }\n",
       "\n",
       "    .dataframe tbody tr th {\n",
       "        vertical-align: top;\n",
       "    }\n",
       "\n",
       "    .dataframe thead th {\n",
       "        text-align: right;\n",
       "    }\n",
       "</style>\n",
       "<table border=\"1\" class=\"dataframe\">\n",
       "  <thead>\n",
       "    <tr style=\"text-align: right;\">\n",
       "      <th></th>\n",
       "      <th>Count 1</th>\n",
       "      <th>Count 2</th>\n",
       "    </tr>\n",
       "  </thead>\n",
       "  <tbody>\n",
       "    <tr>\n",
       "      <th>2016-10-02</th>\n",
       "      <td>105</td>\n",
       "      <td>116</td>\n",
       "    </tr>\n",
       "    <tr>\n",
       "      <th>2016-10-16</th>\n",
       "      <td>113</td>\n",
       "      <td>125</td>\n",
       "    </tr>\n",
       "    <tr>\n",
       "      <th>2016-10-30</th>\n",
       "      <td>116</td>\n",
       "      <td>121</td>\n",
       "    </tr>\n",
       "    <tr>\n",
       "      <th>2016-11-13</th>\n",
       "      <td>116</td>\n",
       "      <td>124</td>\n",
       "    </tr>\n",
       "    <tr>\n",
       "      <th>2016-11-27</th>\n",
       "      <td>114</td>\n",
       "      <td>115</td>\n",
       "    </tr>\n",
       "    <tr>\n",
       "      <th>2016-12-11</th>\n",
       "      <td>113</td>\n",
       "      <td>128</td>\n",
       "    </tr>\n",
       "    <tr>\n",
       "      <th>2016-12-25</th>\n",
       "      <td>118</td>\n",
       "      <td>115</td>\n",
       "    </tr>\n",
       "    <tr>\n",
       "      <th>2017-01-08</th>\n",
       "      <td>122</td>\n",
       "      <td>120</td>\n",
       "    </tr>\n",
       "    <tr>\n",
       "      <th>2017-01-22</th>\n",
       "      <td>126</td>\n",
       "      <td>118</td>\n",
       "    </tr>\n",
       "  </tbody>\n",
       "</table>\n",
       "</div>"
      ]
     },
     "metadata": {},
     "execution_count": 423
    }
   ],
   "metadata": {}
  },
  {
   "cell_type": "code",
   "execution_count": 448,
   "source": [
    "dates = pd.date_range('10-01-2016', periods=9, freq='3D')\n",
    "pd.DataFrame({'day': dates.weekday, 'day_name': dates.day_name()}, index=dates) \n",
    "\n"
   ],
   "outputs": [
    {
     "output_type": "execute_result",
     "data": {
      "text/plain": [
       "            day   day_name\n",
       "2016-10-01    5   Saturday\n",
       "2016-10-04    1    Tuesday\n",
       "2016-10-07    4     Friday\n",
       "2016-10-10    0     Monday\n",
       "2016-10-13    3   Thursday\n",
       "2016-10-16    6     Sunday\n",
       "2016-10-19    2  Wednesday\n",
       "2016-10-22    5   Saturday\n",
       "2016-10-25    1    Tuesday"
      ],
      "text/html": [
       "<div>\n",
       "<style scoped>\n",
       "    .dataframe tbody tr th:only-of-type {\n",
       "        vertical-align: middle;\n",
       "    }\n",
       "\n",
       "    .dataframe tbody tr th {\n",
       "        vertical-align: top;\n",
       "    }\n",
       "\n",
       "    .dataframe thead th {\n",
       "        text-align: right;\n",
       "    }\n",
       "</style>\n",
       "<table border=\"1\" class=\"dataframe\">\n",
       "  <thead>\n",
       "    <tr style=\"text-align: right;\">\n",
       "      <th></th>\n",
       "      <th>day</th>\n",
       "      <th>day_name</th>\n",
       "    </tr>\n",
       "  </thead>\n",
       "  <tbody>\n",
       "    <tr>\n",
       "      <th>2016-10-01</th>\n",
       "      <td>5</td>\n",
       "      <td>Saturday</td>\n",
       "    </tr>\n",
       "    <tr>\n",
       "      <th>2016-10-04</th>\n",
       "      <td>1</td>\n",
       "      <td>Tuesday</td>\n",
       "    </tr>\n",
       "    <tr>\n",
       "      <th>2016-10-07</th>\n",
       "      <td>4</td>\n",
       "      <td>Friday</td>\n",
       "    </tr>\n",
       "    <tr>\n",
       "      <th>2016-10-10</th>\n",
       "      <td>0</td>\n",
       "      <td>Monday</td>\n",
       "    </tr>\n",
       "    <tr>\n",
       "      <th>2016-10-13</th>\n",
       "      <td>3</td>\n",
       "      <td>Thursday</td>\n",
       "    </tr>\n",
       "    <tr>\n",
       "      <th>2016-10-16</th>\n",
       "      <td>6</td>\n",
       "      <td>Sunday</td>\n",
       "    </tr>\n",
       "    <tr>\n",
       "      <th>2016-10-19</th>\n",
       "      <td>2</td>\n",
       "      <td>Wednesday</td>\n",
       "    </tr>\n",
       "    <tr>\n",
       "      <th>2016-10-22</th>\n",
       "      <td>5</td>\n",
       "      <td>Saturday</td>\n",
       "    </tr>\n",
       "    <tr>\n",
       "      <th>2016-10-25</th>\n",
       "      <td>1</td>\n",
       "      <td>Tuesday</td>\n",
       "    </tr>\n",
       "  </tbody>\n",
       "</table>\n",
       "</div>"
      ]
     },
     "metadata": {},
     "execution_count": 448
    }
   ],
   "metadata": {}
  },
  {
   "cell_type": "markdown",
   "source": [
    "---\n",
    "\n",
    "# Home task: pandas \n",
    "\n",
    "lesson_3_hometask_pandas \n"
   ],
   "metadata": {}
  },
  {
   "cell_type": "markdown",
   "source": [
    "---\n",
    "\n",
    "# Learm more \n",
    "- [Pandas Tutorial: DataFrames in Python](https://www.datacamp.com/community/tutorials/pandas-tutorial-dataframe-python) - with examples and interactive mode \n",
    "- [Pandas Cheat Sheet](https://pandas.pydata.org/Pandas_Cheat_Sheet.pdf)\n",
    "- [Presentation “pandas: Powerful data analysis tools for Python”](https://www.slideshare.net/wesm/pandas-powerful-data-analysis-tools-for-python) \n",
    "- [Introduction to Data Science in Python](https://www.coursera.org/learn/python-data-analysis)\n",
    "- [Merge, join, and concatenate](https://pandas.pydata.org/pandas-docs/stable/merging.html)\n",
    "- [Documentation “pandas: powerful Python data analysis toolkit”](https://pandas.pydata.org/pandas-docs/version/0.22/index.html)  \n"
   ],
   "metadata": {}
  },
  {
   "cell_type": "markdown",
   "source": [
    "---\n",
    "\n",
    "Next: lesson_4_visualization"
   ],
   "metadata": {}
  },
  {
   "cell_type": "code",
   "execution_count": null,
   "source": [],
   "outputs": [],
   "metadata": {}
  }
 ],
 "metadata": {
  "kernelspec": {
   "name": "python3",
   "display_name": "Python 3.9.0 64-bit ('venv': venv)"
  },
  "language_info": {
   "codemirror_mode": {
    "name": "ipython",
    "version": 3
   },
   "file_extension": ".py",
   "mimetype": "text/x-python",
   "name": "python",
   "nbconvert_exporter": "python",
   "pygments_lexer": "ipython3",
   "version": "3.9.0"
  },
  "interpreter": {
   "hash": "8e2a7fb434ed4dfcf926eef4e2e850bbdaed7e075bee24074b76d2223a200d95"
  }
 },
 "nbformat": 4,
 "nbformat_minor": 1
}