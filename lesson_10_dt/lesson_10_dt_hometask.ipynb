{
 "cells": [
  {
   "cell_type": "markdown",
   "source": [
    "<font color = green >\n",
    "\n",
    "# Decision Trees\n",
    "</font>"
   ],
   "metadata": {}
  },
  {
   "cell_type": "code",
   "execution_count": null,
   "source": [
    "import matplotlib.pyplot as plt\r\n",
    "import numpy as np"
   ],
   "outputs": [],
   "metadata": {}
  },
  {
   "cell_type": "code",
   "execution_count": null,
   "source": [
    "%matplotlib inline"
   ],
   "outputs": [],
   "metadata": {}
  },
  {
   "cell_type": "markdown",
   "source": [
    "<font color = green >\n",
    "\n",
    "## Iris dataset \n",
    "</font>"
   ],
   "metadata": {}
  },
  {
   "cell_type": "code",
   "execution_count": null,
   "source": [
    "from sklearn.datasets import load_iris\r\n",
    "from sklearn.tree import DecisionTreeClassifier\r\n",
    "from sklearn import tree\r\n",
    "import graphviz\r\n",
    "from sklearn.model_selection import train_test_split\r\n",
    "# Note: In case of RuntimeError \"Make sure the Graphviz executables are on your system's path” after installing Graphviz \r\n",
    "# helps on mac:  brew install graphviz\r\n",
    "# helps on windows:  import os\r\n",
    "# os.environ[\"PATH\"] += os.pathsep + r'C:\\Program Files (x86)\\Graphviz2.38\\bin'"
   ],
   "outputs": [],
   "metadata": {}
  },
  {
   "cell_type": "code",
   "execution_count": null,
   "source": [
    "iris = load_iris()\r\n",
    "X, y, features, labels = iris.data, iris.target, iris.feature_names, iris.target_names\r\n",
    "\r\n",
    "print(\"X.shape= \", X.shape)\r\n",
    "print(\"y.shape= \", y.shape)\r\n",
    "X_train, X_test, y_train, y_test = train_test_split(X, y, random_state=3)\r\n",
    "print(\"X_train.shape= \", X_train.shape)\r\n",
    "print(\"X_test.shape= \", X_test.shape)\r\n",
    "print(\"y_train.shape= \", y_train.shape)\r\n",
    "print(\"y_test.shape= \", y_test.shape)\r\n",
    "print(\"features:\", features)\r\n",
    "dict_names = {i: v for i, v in enumerate(labels)}\r\n",
    "print(\"target names :\", dict_names)"
   ],
   "outputs": [],
   "metadata": {}
  },
  {
   "cell_type": "markdown",
   "source": [
    "<font color = green >\n",
    "\n",
    "## Learning the model\n",
    "</font>"
   ],
   "metadata": {}
  },
  {
   "cell_type": "code",
   "execution_count": null,
   "source": [
    "max_depth = 3\r\n",
    "clf = DecisionTreeClassifier(\r\n",
    "    criterion=  'entropy',\r\n",
    "    random_state=20,        \r\n",
    "    max_depth=max_depth,    \r\n",
    "#     max_leaf_nodes=4,\r\n",
    ").fit(X_train, y_train)\r\n",
    "print(\"train accuracy= {:.3%}\".format(clf.score (X_train, y_train)))\r\n",
    "print(\"test accuracy= {:.3%}\".format(clf.score (X_test, y_test)))"
   ],
   "outputs": [],
   "metadata": {}
  },
  {
   "cell_type": "markdown",
   "source": [
    "<font color = green >\n",
    "\n",
    "## Vizualize the decision tree  graph \n",
    "</font>"
   ],
   "metadata": {}
  },
  {
   "cell_type": "code",
   "execution_count": null,
   "source": [
    "# fn=  os.path.join(path , 'restricted_depth.gv')\r\n",
    "graph_viz = tree.export_graphviz(clf, out_file=None,feature_names=features, class_names=labels, filled = True)\r\n",
    "graph = graphviz.Source(graph_viz)\r\n",
    "graph.view(cleanup =True) # cleanup (bool) – Delete the source file after rendering."
   ],
   "outputs": [],
   "metadata": {}
  },
  {
   "cell_type": "markdown",
   "source": [
    "#### Should appear the followingf image in separate window \n",
    "\n",
    "<img src = \"decision_tree_graph.jpg\" height=500 width= 500 align=\"left\">\n",
    "\n",
    "<div style=\"clear:left;\"></div>\n",
    "<br><br><br><br><br><br><br><br>\n"
   ],
   "metadata": {}
  },
  {
   "cell_type": "markdown",
   "source": [
    "<font color = green >\n",
    "\n",
    "## Feature importance\n",
    "</font>"
   ],
   "metadata": {}
  },
  {
   "cell_type": "code",
   "execution_count": null,
   "source": [],
   "outputs": [],
   "metadata": {}
  },
  {
   "cell_type": "code",
   "execution_count": null,
   "source": [
    "def plot_feature_importances(clf, features):\r\n",
    "    plt.figure(figsize=(6, 6), dpi=80)\r\n",
    "    c_features = len(features)\r\n",
    "    plt.barh(range(c_features), clf.feature_importances_)\r\n",
    "    plt.xlabel(\"Feature importance\")\r\n",
    "    plt.ylabel(\"Feature name\")\r\n",
    "    plt.yticks(np.arange(c_features), features)"
   ],
   "outputs": [],
   "metadata": {}
  },
  {
   "cell_type": "code",
   "execution_count": null,
   "source": [
    "plot_feature_importances(clf, features)"
   ],
   "outputs": [],
   "metadata": {}
  },
  {
   "cell_type": "markdown",
   "source": [
    "<font color = green >\n",
    "\n",
    "## Auxiliary drawing functions \n",
    "</font>"
   ],
   "metadata": {}
  },
  {
   "cell_type": "code",
   "execution_count": null,
   "source": [
    "def plot_decision_boundary(clf, X_train, y_train, X_test=None, y_test= None, title=None, precision=0.05,plot_symbol_size = 50, ax= None,  is_extended=True, title_size= None):\r\n",
    "\r\n",
    "    '''    \r\n",
    "    Draws the binary decision boundary for X that is nor required additional features and transformation (like polynomial)\r\n",
    "    '''\r\n",
    "    # Create color maps - required by pcolormesh\r\n",
    "    from matplotlib.colors import  ListedColormap\r\n",
    "    colors_for_points = np.array(['grey', 'orange']) # neg/pos\r\n",
    "    colors_for_areas = np.array(['grey', 'orange']) # neg/pos  # alpha is applied later \r\n",
    "    cmap_light = ListedColormap(colors_for_areas)\r\n",
    " \r\n",
    "   \r\n",
    "    mesh_step_size = precision #.01  # step size in the mesh\r\n",
    "    if X_test is None or y_test is None:\r\n",
    "        show_test= False\r\n",
    "        X= X_train\r\n",
    "    else:\r\n",
    "        show_test= True\r\n",
    "        X= np.concatenate([X_train,X_test], axis=0)\r\n",
    "    x1_min, x1_max = X[:, 0].min() - .1, X[:, 0].max() + 0.1\r\n",
    "    x2_min, x2_max = X[:, 1].min() - .1, X[:, 1].max() + 0.1\r\n",
    "    # Create grids of pairs\r\n",
    "    xx1, xx2 = np.meshgrid(np.arange(x1_min, x1_max, mesh_step_size),\r\n",
    "                         np.arange(x2_min, x2_max, mesh_step_size))\r\n",
    "    # Flatten all samples \r\n",
    "    target_samples_grid= (np.c_[xx1.ravel(), xx2.ravel()])\r\n",
    "\r\n",
    "    print ('Call prediction for all grid values (precision of drawing = {},\\n you may configure to speed up e.g. precision=0.05)'.format(precision))\r\n",
    "    Z = clf.predict(target_samples_grid)\r\n",
    "\r\n",
    "    # Reshape the result to original meshgrid shape \r\n",
    "    Z = Z.reshape(xx1.shape)\r\n",
    "    \r\n",
    "    if ax:\r\n",
    "        plt.sca(ax)\r\n",
    "    \r\n",
    "    # Plot all meshgrid prediction      \r\n",
    "    plt.pcolormesh(xx1, xx2,Z, cmap = cmap_light, alpha=0.2)\r\n",
    "\r\n",
    "    # Plot train set\r\n",
    "    plt.scatter(X_train[:, 0], X_train[:, 1], s=plot_symbol_size, \r\n",
    "                c=colors_for_points[y_train.ravel()], edgecolor = 'black',alpha=0.6)\r\n",
    "    # Plot test set\r\n",
    "    if show_test:\r\n",
    "        plt.scatter(X_test[:, 0], X_test[:, 1], marker='^', s=plot_symbol_size, \r\n",
    "                c=colors_for_points[y_test.ravel()],edgecolor = 'black',alpha=0.6)\r\n",
    "    if  is_extended:\r\n",
    "        # Create legend  \r\n",
    "        import matplotlib.patches as mpatches # use to assign lavels for colored points \r\n",
    "        patch0 = mpatches.Patch(color=colors_for_points[0], label='negative')\r\n",
    "        patch1 = mpatches.Patch(color=colors_for_points[1], label='positive')\r\n",
    "        plt.legend(handles=[patch0, patch1])\r\n",
    "    \r\n",
    "    fontdict={'fontsize': title_size} if title_size else None\r\n",
    "    \r\n",
    "    plt.title(title, fontdict)\r\n",
    "    if is_extended:\r\n",
    "        plt.xlabel('feature 1')\r\n",
    "        plt.ylabel('feature 2')\r\n",
    "    else:\r\n",
    "        plt.tick_params(\r\n",
    "        top =False,\r\n",
    "        bottom= False,\r\n",
    "        left  = False,\r\n",
    "        labelleft = False, \r\n",
    "        labelbottom = False\r\n",
    "        )\r\n",
    "\r\n",
    "        \r\n",
    "    \r\n",
    "def plot_data_logistic_regression(X,y,legend_loc= None, title= None):\r\n",
    "    '''\r\n",
    "    :param X: 2 dimensional ndarray\r\n",
    "    :param y:  1 dimensional ndarray. Use y.ravel() if necessary\r\n",
    "    :return:\r\n",
    "    '''\r\n",
    "\r\n",
    "    positive_indices = (y == 1)\r\n",
    "    negative_indices = (y == 0)\r\n",
    "#     import matplotlib as mpl\r\n",
    "    colors_for_points = ['grey', 'orange'] # neg/pos\r\n",
    "\r\n",
    "    plt.scatter(X[negative_indices][:,0], X[negative_indices][:,1], s=40, c=colors_for_points [0], edgecolor = 'black', label='negative', alpha = 0.7)\r\n",
    "    plt.scatter(X[positive_indices][:,0], X[positive_indices][:,1], s=40, c=colors_for_points [1], edgecolor = 'black',label='positive', alpha = 0.7)\r\n",
    "    plt.title(title)\r\n",
    "    plt.legend(loc= legend_loc)\r\n",
    "\r\n",
    "    \r\n",
    "def plot_multi_class_logistic_regression(X,y,dict_names=None, colors= None,  title =None):\r\n",
    "    '''\r\n",
    "    Draw the multi class samples of 2 features\r\n",
    "    :param X: X 2 ndarray (m,2),\r\n",
    "    :param y: vector (m,)\r\n",
    "    :param dict_names: dict of values of y and names\r\n",
    "    :return: None\r\n",
    "    '''\r\n",
    "    if not colors:\r\n",
    "        colors_for_points = ['green','grey', 'orange', 'brown']\r\n",
    "    else:\r\n",
    "         colors_for_points = colors\r\n",
    "\r\n",
    "    y_unique = list(set(y))\r\n",
    "\r\n",
    "    for i in range (len(y_unique)):\r\n",
    "        ind = y == y_unique[i] # vector\r\n",
    "\r\n",
    "        if dict_names:\r\n",
    "            plt.scatter(X[ind,0], X[ind,1], c=colors_for_points[i], s=40, label=dict_names[y_unique[i]],edgecolor='black', alpha=.7)\r\n",
    "        else:\r\n",
    "            plt.scatter(X[ind, 0], X[ind, 1], s=40, c=colors_for_points [i], edgecolor = 'black', alpha = 0.7)\r\n",
    "    if title:\r\n",
    "        plt.title(title)\r\n",
    "\r\n",
    "    if dict_names:\r\n",
    "        plt.legend(frameon=True)\r\n",
    "        \r\n"
   ],
   "outputs": [],
   "metadata": {}
  },
  {
   "cell_type": "markdown",
   "source": [
    "<font color = green >\n",
    "\n",
    "## Synthetic dataset\n",
    "</font>"
   ],
   "metadata": {}
  },
  {
   "cell_type": "code",
   "execution_count": null,
   "source": [
    "from sklearn.datasets import make_blobs"
   ],
   "outputs": [],
   "metadata": {}
  },
  {
   "cell_type": "code",
   "execution_count": null,
   "source": [
    "X_mk8, y_mk8 = make_blobs(n_samples = 200, n_features = 2, centers = 8, # centers impacts for y\r\n",
    "                       cluster_std = 1.3, random_state = 4)\r\n",
    "X_train = X_mk8\r\n",
    "y_train = y_mk8 % 2 # make it binary since make_blobs  with centers = 8 creates y in [0..7]\r\n",
    "plt.figure()\r\n",
    "plot_data_logistic_regression(X_mk8,y_train)\r\n"
   ],
   "outputs": [],
   "metadata": {}
  },
  {
   "cell_type": "code",
   "execution_count": null,
   "source": [
    "plt.figure(figsize= (10,3))\r\n",
    "max_depths= [3,5,10]    \r\n",
    "\r\n",
    "for i, max_depth in enumerate(max_depths):\r\n",
    "    ax = plt.subplot(1,len(max_depths),i+1)\r\n",
    "    clf = DecisionTreeClassifier(\r\n",
    "        criterion=  'entropy',\r\n",
    "        random_state=20,        \r\n",
    "        max_depth=max_depth,    \r\n",
    "    #     max_leaf_nodes=4,\r\n",
    "    ).fit(X_train, y_train)\r\n",
    "    accuracy = clf.score (X_train, y_train)\r\n",
    "#     print(\"train accuracy= {:.3%}\".format(accuracy))\r\n",
    "    plot_decision_boundary(\r\n",
    "        clf,\r\n",
    "        X_train,\r\n",
    "        y_train,\r\n",
    "        precision= 0.05,\r\n",
    "        ax=ax,\r\n",
    "        title = 'max_depth={}. accuracy = {:.3%}'.format(max_depth, accuracy),\r\n",
    "        is_extended= False,\r\n",
    "        title_size= 11,)\r\n",
    "    \r\n",
    "plt.tight_layout (w_pad=-2)\r\n",
    "\r\n",
    "\r\n",
    "# max_depth=5    \r\n",
    "# clf = DecisionTreeClassifier(\r\n",
    "#     criterion=  'entropy',\r\n",
    "#     random_state=20,        \r\n",
    "#     max_depth=max_depth,    \r\n",
    "# #     max_leaf_nodes=4,\r\n",
    "# ).fit(X_train, y_train)\r\n",
    "# accuracy = clf.score (X_train, y_train)\r\n",
    "# print(\"train accuracy= {:.3%}\".format(accuracy))\r\n",
    "# plt.figure()\r\n",
    "\r\n",
    "# plot_decision_boundary(clf, X_train, y_train, precision= 0.05, title = 'max_depth={}. accuracy = {:.3%}'.format(max_depth, accuracy))\r\n"
   ],
   "outputs": [],
   "metadata": {}
  },
  {
   "cell_type": "code",
   "execution_count": null,
   "source": [
    "graph_viz = tree.export_graphviz(clf, out_file=None,filled = True)\r\n",
    "graph = graphviz.Source(graph_viz)\r\n",
    "graph.view(cleanup =True) # cleanup (bool) – Delete the source file after rendering."
   ],
   "outputs": [],
   "metadata": {}
  },
  {
   "cell_type": "markdown",
   "source": [
    "#### Should appear the followingf image in separate window \n",
    "\n",
    "<img src = \"decision_tree_graph2.jpg\" height=500 width= 500 align=\"left\">\n",
    "\n",
    "<div style=\"clear:left;\"></div>\n",
    "<br><br><br><br><br><br><br><br>\n"
   ],
   "metadata": {}
  },
  {
   "cell_type": "code",
   "execution_count": null,
   "source": [],
   "outputs": [],
   "metadata": {}
  },
  {
   "cell_type": "markdown",
   "source": [
    "<font color = green >\n",
    "\n",
    "## Tennis dataset\n",
    "\n",
    "</font>"
   ],
   "metadata": {}
  },
  {
   "cell_type": "code",
   "execution_count": null,
   "source": [
    "import os\r\n",
    "import pandas as pd\r\n",
    "\r\n",
    "cwd = os.getcwd()  # current working directory\r\n",
    "path = os.path.join(cwd, \"data\")\r\n",
    "fn = os.path.join(path, \"tennis.csv\")\r\n",
    "# fn = \"tennis.csv\"\r\n",
    "df = pd.read_csv(fn)\r\n",
    "del df[\"temp\"]\r\n",
    "print(df.head())\r\n",
    "\r\n",
    "X_train = df.iloc[:, :3].values\r\n",
    "y_train = df.iloc[:, 3].values\r\n",
    "print(\"\\nX_train.shape= \", X_train.shape)\r\n",
    "print(\"y_train.shape= \", y_train.shape)"
   ],
   "outputs": [],
   "metadata": {}
  },
  {
   "cell_type": "code",
   "execution_count": null,
   "source": [
    "from sklearn.preprocessing  import LabelEncoder"
   ],
   "outputs": [],
   "metadata": {}
  },
  {
   "cell_type": "code",
   "execution_count": null,
   "source": [
    "X_train_cat = X_train.copy()\r\n",
    "le = LabelEncoder()\r\n",
    "for i in range(X_train.shape[1]):\r\n",
    "    X_train_cat[:,i]= le.fit_transform(X_train[:,i])\r\n",
    "    le_dict = dict(zip(le.classes_, le.transform(le.classes_)))\r\n",
    "    print ('{}: {}'.format(list(df)[i], le_dict))\r\n",
    "y_train_cat= le.fit_transform(y_train)\r\n",
    "le_dict = dict(zip(le.classes_, le.transform(le.classes_)))\r\n",
    "print ('y: ', le_dict)\r\n",
    "print ('X_train_cat.shape= ',X_train_cat.shape)\r\n",
    "print ('y_train_cat.shape= ',y_train_cat.shape)\r\n",
    "X_train_cat"
   ],
   "outputs": [],
   "metadata": {}
  },
  {
   "cell_type": "code",
   "execution_count": null,
   "source": [
    "max_depth = None\r\n",
    "clf = DecisionTreeClassifier(\r\n",
    "    criterion=  'entropy',\r\n",
    "    random_state=20,        \r\n",
    "    max_depth=max_depth,    \r\n",
    "#     max_leaf_nodes=4,\r\n",
    ").fit(X_train_cat, y_train_cat)\r\n",
    "features = list(df)[:3]\r\n",
    "labels = ['No','Yes']\r\n",
    "graph_viz = tree.export_graphviz(clf, out_file=None,feature_names=features, class_names=labels, filled = True)\r\n",
    "graph = graphviz.Source(graph_viz)\r\n",
    "graph.view(cleanup =True) # cleanup (bool) – Delete the source file after rendering."
   ],
   "outputs": [],
   "metadata": {}
  },
  {
   "cell_type": "markdown",
   "source": [
    "#### Should appear the followingf image in separate window \n",
    "\n",
    "<img src = \"decision_tree_graph3.jpg\" height=500 width= 500 align=\"left\">\n",
    "\n",
    "<div style=\"clear:left;\"></div>\n",
    "<br><br><br><br><br><br><br><br>\n"
   ],
   "metadata": {}
  },
  {
   "cell_type": "markdown",
   "source": [
    "<font color = green>\n",
    "\n",
    "#  Random Forests\n",
    "\n",
    "</font>\n",
    "\n"
   ],
   "metadata": {}
  },
  {
   "cell_type": "code",
   "execution_count": null,
   "source": [],
   "outputs": [],
   "metadata": {}
  },
  {
   "cell_type": "code",
   "execution_count": null,
   "source": [
    "from sklearn.ensemble import RandomForestClassifier"
   ],
   "outputs": [],
   "metadata": {}
  },
  {
   "cell_type": "markdown",
   "source": [
    "<font color = green>\n",
    "\n",
    "## Iris dataset\n",
    "\n",
    "</font>\n",
    "\n"
   ],
   "metadata": {}
  },
  {
   "cell_type": "code",
   "execution_count": null,
   "source": [
    "iris = load_iris()\r\n",
    "X, y, features, labels = iris.data, iris.target,iris.feature_names ,iris.target_names\r\n",
    "\r\n",
    "print ('X.shape= ', X.shape)\r\n",
    "print ('y.shape= ', y.shape)\r\n",
    "X_train, X_test, y_train, y_test = train_test_split(X,y, random_state = 3)\r\n",
    "print ('X_train.shape= ',X_train.shape)\r\n",
    "print ('X_test.shape= ',X_test.shape)\r\n",
    "print ('y_train.shape= ',y_train.shape)\r\n",
    "print ('y_test.shape= ',y_test.shape)\r\n",
    "print ('features:', features)\r\n",
    "dict_names = {i:v for i,v in enumerate(labels)}\r\n",
    "print ('target names :', dict_names)"
   ],
   "outputs": [],
   "metadata": {}
  },
  {
   "cell_type": "code",
   "execution_count": null,
   "source": [
    "clf = RandomForestClassifier().fit (X_train, y_train)\r\n",
    "clf.score (X_train, y_train)\r\n",
    "n_estimators_list= [5,10,20]\r\n",
    "max_features_list= list(np.arange(1, X_train.shape[1]+1))\r\n",
    "\r\n",
    "for i in range (len(n_estimators_list)): \r\n",
    "    for j in range (len(max_features_list)):\r\n",
    "        index = len(max_features_list)*i+j           \r\n",
    "        clf = RandomForestClassifier(\r\n",
    "            random_state=10,\r\n",
    "            n_estimators= n_estimators_list[i],\r\n",
    "            max_features=max_features_list[j],        \r\n",
    "        ).fit(X_train, y_train)\r\n",
    "        accuracy_train = clf.score (X_train, y_train)\r\n",
    "        accuracy_test = clf.score (X_test, y_test)\r\n",
    "        print ('n_estimators= {}, max_features = {}, accuracy_train = {:.3%}, accuracy_test = {:.3%}'.format (\r\n",
    "            n_estimators_list[i],max_features_list[j], accuracy_train, accuracy_test))\r\n",
    "\r\n",
    "print ('Comparing  to desicion tree clf')\r\n",
    "max_depth = 3\r\n",
    "clf = DecisionTreeClassifier(\r\n",
    "    criterion=  'entropy',\r\n",
    "    random_state=20,        \r\n",
    "    max_depth=max_depth,    \r\n",
    "#     max_leaf_nodes=4,\r\n",
    ").fit(X_train, y_train)\r\n",
    "print(\"train accuracy= {:.3%}\".format(clf.score (X_train, y_train)))\r\n",
    "print(\"test accuracy= {:.3%}\".format(clf.score (X_test, y_test)))\r\n",
    "        "
   ],
   "outputs": [],
   "metadata": {}
  },
  {
   "cell_type": "code",
   "execution_count": null,
   "source": [
    "# Conclusion: this dataset is not good to demonstrate the power of random forest "
   ],
   "outputs": [],
   "metadata": {}
  },
  {
   "cell_type": "markdown",
   "source": [
    "<font color = green>\n",
    "\n",
    "## Mushrooms dataset\n",
    "\n",
    "</font>\n",
    "\n"
   ],
   "metadata": {}
  },
  {
   "cell_type": "code",
   "execution_count": null,
   "source": [
    "import os\r\n",
    "import pandas as pd\r\n",
    "cwd= os.getcwd() # current working directory\r\n",
    "path = os.path.join(cwd,'data')\r\n",
    "fn = os.path.join(path , 'mushrooms.csv')\r\n",
    "# fn= 'mushrooms.csv'\r\n",
    "# https://www.kaggle.com/ymotonskillupai/mushroomscsv\r\n",
    "df = pd.read_csv(fn)\r\n",
    "\r\n",
    "print (list(df))\r\n",
    "X = df.iloc[:, 1:].values\r\n",
    "y = df.iloc[:, 1].values\r\n",
    "X_train, X_test, y_train, y_test = train_test_split(X, y, random_state = 0)\r\n",
    "print ('\\nX_train.shape= ',X_train.shape)\r\n",
    "print ('y_train.shape= ',y_train.shape)\r\n",
    "df.head()"
   ],
   "outputs": [],
   "metadata": {}
  },
  {
   "cell_type": "code",
   "execution_count": null,
   "source": [
    "X_train_cat = X_train.copy()\r\n",
    "X_test_cat = X_test.copy()\r\n",
    "le = LabelEncoder()\r\n",
    "for i in range(X_train.shape[1]):\r\n",
    "    X_train_cat[:,i]= le.fit_transform(X_train[:,i])\r\n",
    "    le_dict = dict(zip(le.classes_, le.transform(le.classes_)))\r\n",
    "    print (X_test[:,i])\r\n",
    "    X_test_cat[:,i] = le.transform(X_test[:,i])\r\n",
    "y_train_cat= le.fit_transform(y_train)\r\n",
    "le_dict = dict(zip(le.classes_, le.transform(le.classes_)))\r\n",
    "print ('y: ', le_dict)\r\n",
    "y_test_cat= le.transform(y_test)\r\n",
    "print ('X_train_cat.shape= ',X_train_cat.shape)\r\n",
    "print ('y_train_cat.shape= ',y_train_cat.shape)\r\n",
    "X_train_cat"
   ],
   "outputs": [],
   "metadata": {}
  },
  {
   "cell_type": "code",
   "execution_count": null,
   "source": [
    "max_features_list = [20,12, 10,8,6,4,3,2,1]    \r\n",
    "for i, max_features in enumerate(max_features_list):\r\n",
    "    clf = RandomForestClassifier(\r\n",
    "        random_state=0,        \r\n",
    "        max_features= max_features,    \r\n",
    "    ).fit(X_train_cat, y_train_cat)\r\n",
    "    accuracy_train = clf.score(X_train_cat, y_train_cat)\r\n",
    "    accuracy_test = clf.score(X_test_cat, y_test_cat)\r\n",
    "    print ('max_features = {}:\\n\\t accuracy_train = {:.3%}\\n\\t accuracy_test = {:.3%}'.format (\r\n",
    "        max_features_list[i], accuracy_train, accuracy_test))"
   ],
   "outputs": [],
   "metadata": {}
  },
  {
   "cell_type": "code",
   "execution_count": null,
   "source": [
    "print ('Comparing  to desicion tree clf')\r\n",
    "max_depth = None\r\n",
    "clf = DecisionTreeClassifier(\r\n",
    "    criterion=  'entropy',\r\n",
    "    random_state=0,        \r\n",
    "    max_depth=max_depth,    \r\n",
    ").fit(X_train_cat, y_train_cat)\r\n",
    "print(\"train accuracy= {:.3%}\".format(clf.score (X_train_cat, y_train_cat)))\r\n",
    "print(\"test accuracy= {:.3%}\".format(clf.score (X_test_cat, y_test_cat)))        "
   ],
   "outputs": [],
   "metadata": {}
  },
  {
   "cell_type": "code",
   "execution_count": null,
   "source": [
    "# Conclusion: this dataset is also  not good to demonstrate the power of random forest :)"
   ],
   "outputs": [],
   "metadata": {}
  },
  {
   "cell_type": "markdown",
   "source": [
    "<font color = green >\n",
    "\n",
    "# Gradient boosting decision tree\n",
    "</font>"
   ],
   "metadata": {}
  },
  {
   "cell_type": "code",
   "execution_count": null,
   "source": [
    "from sklearn.ensemble import GradientBoostingClassifier"
   ],
   "outputs": [],
   "metadata": {}
  },
  {
   "cell_type": "markdown",
   "source": [
    "<font color = green>\n",
    "\n",
    "## Fruits dataset 2D\n",
    "\n",
    "</font>\n",
    "\n"
   ],
   "metadata": {}
  },
  {
   "cell_type": "code",
   "execution_count": null,
   "source": [],
   "outputs": [],
   "metadata": {}
  },
  {
   "cell_type": "code",
   "execution_count": null,
   "source": [
    "import os\r\n",
    "cwd= os.getcwd() \r\n",
    "path = os.path.join(cwd,'data')\r\n",
    "fn=  os.path.join(path , 'fruit_data_with_colors.txt')\r\n",
    "df_fruits = pd.read_table(fn)\r\n",
    "df_fruits.head(10)\r\n"
   ],
   "outputs": [],
   "metadata": {}
  },
  {
   "cell_type": "code",
   "execution_count": null,
   "source": [
    "def plot_decision_boundary_universal(clf, X_train, y_train, X_test=None, y_test= None, title=None, precision=0.1,plot_symbol_size = 50, ax= None,  is_extended=True, labels= None, features =None):\r\n",
    "    '''\r\n",
    "    expected to be universal for binary and multiclass classification but not tested for binary \r\n",
    "    '''\r\n",
    "    # Create color maps - required by pcolormesh\r\n",
    "    from matplotlib.colors import  ListedColormap\r\n",
    "    colors_for_areas= colors_for_points =  np.array(['green','grey', 'orange', 'brown'])\r\n",
    "    cmap_light = ListedColormap(colors_for_areas)\r\n",
    "\r\n",
    "    mesh_step_size = precision #.01  # step size in the mesh\r\n",
    "    if X_test is None or y_test is None:\r\n",
    "        show_test= False\r\n",
    "        X= X_train\r\n",
    "    else:\r\n",
    "        show_test= True\r\n",
    "        X= np.concatenate([X_train,X_test], axis=0)\r\n",
    "    x1_min, x1_max = X[:, 0].min() - .1, X[:, 0].max() + 0.1\r\n",
    "    x2_min, x2_max = X[:, 1].min() - .1, X[:, 1].max() + 0.1\r\n",
    "    # Create grids of pairs\r\n",
    "    xx1, xx2 = np.meshgrid(np.arange(x1_min, x1_max, mesh_step_size),\r\n",
    "                         np.arange(x2_min, x2_max, mesh_step_size))\r\n",
    "    # Flatten all samples\r\n",
    "    target_samples_grid= (np.c_[xx1.ravel(), xx2.ravel()])\r\n",
    "    if precision<0.05:\r\n",
    "        print ('Calling to predict for all grid values (precision of drawing = {},\\n you may configure to speed up e.g. precision=0.05)'.format(precision))\r\n",
    "    Z = clf.predict(target_samples_grid)\r\n",
    "\r\n",
    "    # Reshape the result to original meshgrid shape\r\n",
    "    Z = Z.reshape(xx1.shape)\r\n",
    "\r\n",
    "    if ax:\r\n",
    "        plt.sca(ax)\r\n",
    "\r\n",
    "    # Plot all meshgrid prediction\r\n",
    "    plt.pcolormesh(xx1, xx2,Z, cmap = cmap_light, alpha=0.2)\r\n",
    "\r\n",
    "    # Plot train set\r\n",
    "    plt.scatter(X_train[:, 0], X_train[:, 1], s=plot_symbol_size,\r\n",
    "                c=colors_for_points[y_train.ravel()], edgecolor = 'black',alpha=0.6)\r\n",
    "    # Plot test set\r\n",
    "    if show_test:\r\n",
    "        plt.scatter(X_test[:, 0], X_test[:, 1], marker='^', s=plot_symbol_size,\r\n",
    "                c=colors_for_points[y_test.ravel()],edgecolor = 'black',alpha=0.6)\r\n",
    "    if  is_extended:\r\n",
    "        \r\n",
    "        # Create legend\r\n",
    "        if labels is None:\r\n",
    "            labels= ['negative','positive'] # assume this is for binary or for muticlass with labels \r\n",
    "        import matplotlib.patches as mpatches # use to assign lavels for colored points\r\n",
    "        patches= [mpatches.Patch(color=colors_for_points[i], label=labels[i]) for i in range (len(labels))]\r\n",
    "        plt.legend(handles=patches)\r\n",
    "        if features is None:\r\n",
    "            plt.xlabel('feature 1')\r\n",
    "            plt.ylabel('feature 2')\r\n",
    "        else: \r\n",
    "            plt.xlabel(features[0])\r\n",
    "            plt.ylabel(features[1])\r\n",
    "\r\n",
    "    else:\r\n",
    "        plt.tick_params(\r\n",
    "        top =False,\r\n",
    "        bottom= False,\r\n",
    "        left  = False,\r\n",
    "        labelleft = False,\r\n",
    "        labelbottom = False\r\n",
    "        )\r\n",
    "    plt.title(title)\r\n"
   ],
   "outputs": [],
   "metadata": {}
  },
  {
   "cell_type": "code",
   "execution_count": null,
   "source": [
    "features = ['width', 'height']\r\n",
    "X = df_fruits[features].values\r\n",
    "y = df_fruits['fruit_label'].values -1  # shift due to labels of fruits are from 1 \r\n",
    "\r\n",
    "df_fruits.head(20)\r\n",
    "# labels =  df_fruits['fruit_name'].unique()\r\n",
    "fruits_dict = dict(zip(np.unique(y), df_fruits['fruit_name'].unique()))\r\n",
    "\r\n",
    "X_train, X_test, y_train, y_test = train_test_split(X,y, random_state = 3)\r\n",
    "print ('X_train.shape= ',X_train.shape)\r\n",
    "print ('X_test.shape= ',X_test.shape)\r\n",
    "print ('y_train.shape= ',y_train.shape)\r\n",
    "print ('y_test.shape= ',y_test.shape)\r\n",
    "\r\n",
    "print ('target names :', fruits_dict)\r\n",
    "\r\n",
    "plt.figure()\r\n",
    "plot_multi_class_logistic_regression (X,y,dict_names=fruits_dict)\r\n"
   ],
   "outputs": [],
   "metadata": {}
  },
  {
   "cell_type": "code",
   "execution_count": null,
   "source": [
    "plt.figure ()\r\n",
    "labels =list(fruits_dict.values())\r\n",
    "\r\n",
    "print(len(features), len(labels))\r\n",
    "\r\n",
    "clf = GradientBoostingClassifier(learning_rate=0.01,max_depth=3).fit(X_train, y_train)\r\n",
    "print(\"train accuracy= {:.3%}\".format(clf.score (X_train, y_train)))\r\n",
    "print(\"test accuracy= {:.3%}\".format(clf.score (X_test, y_test)))\r\n",
    "plot_decision_boundary_universal(clf, X_train, y_train, X_test, y_test, title='GradientBoostingClassifier', precision=0.05, labels= labels, features = features)\r\n"
   ],
   "outputs": [],
   "metadata": {
    "scrolled": true
   }
  },
  {
   "cell_type": "markdown",
   "source": [
    "---"
   ],
   "metadata": {}
  },
  {
   "cell_type": "markdown",
   "source": [
    "<font color = green>\n",
    "\n",
    "##  XGBoost\n",
    "</font>\n",
    "\n"
   ],
   "metadata": {}
  },
  {
   "cell_type": "code",
   "execution_count": null,
   "source": [
    "from xgboost import XGBClassifier\r\n",
    "\r\n",
    "clf_xgboost = XGBClassifier(use_label_encoder=False, eval_metric= 'logloss')\r\n",
    "clf_xgboost.fit(X_train, y_train)\r\n",
    "print('\\nAccuracy of Logistic regression classifier on training set: {:.2f}'\r\n",
    "     .format(clf_xgboost.score(X_train, y_train)))\r\n",
    "print('Accuracy of Logistic regression classifier on test set: {:.2f}'\r\n",
    "     .format(clf_xgboost.score(X_test, y_test)))\r\n",
    "\r\n"
   ],
   "outputs": [],
   "metadata": {
    "scrolled": true
   }
  },
  {
   "cell_type": "code",
   "execution_count": null,
   "source": [
    "help(XGBClassifier)"
   ],
   "outputs": [],
   "metadata": {}
  },
  {
   "cell_type": "code",
   "execution_count": null,
   "source": [
    "from sklearn.datasets import make_blobs\r\n",
    "\r\n",
    "X_mk8, y_mk8 = make_blobs(\r\n",
    "    n_samples=2000,\r\n",
    "    n_features=2,\r\n",
    "    centers=16,  # centers impacts for y\r\n",
    "    cluster_std=1.3,\r\n",
    "    random_state=4,\r\n",
    ")\r\n",
    "X = X_mk8\r\n",
    "y = y_mk8 % 2  # make it binary since make_blobs  with centers = 8 creates y in [0..7]\r\n",
    "\r\n",
    "X_train, X_test, y_train, y_test = train_test_split(X, y, random_state=0)\r\n",
    "plt.figure()\r\n",
    "plot_data_logistic_regression(X_train, y_train)"
   ],
   "outputs": [],
   "metadata": {}
  },
  {
   "cell_type": "code",
   "execution_count": null,
   "source": [
    "print ('\\n','='*20, '\\nDecisionTreeClassifier')\r\n",
    "clf = DecisionTreeClassifier(\r\n",
    "    criterion=  'entropy',\r\n",
    "    random_state=0,        \r\n",
    "    max_depth=max_depth,    \r\n",
    ").fit(X_train, y_train)\r\n",
    "print(\"train accuracy= {:.3%}\".format(clf.score (X_train, y_train)))\r\n",
    "print(\"test accuracy= {:.3%}\".format(clf.score (X_test, y_test)))\r\n",
    "\r\n",
    "print ('\\n','='*20, '\\nRandomForestClassifier')\r\n",
    "clf = RandomForestClassifier(\r\n",
    "    random_state=10,\r\n",
    "    n_estimators=10,\r\n",
    "    max_features=2,\r\n",
    ").fit(X_train, y_train)\r\n",
    "print(\"train accuracy= {:.3%}\".format(clf.score (X_train, y_train)))\r\n",
    "print(\"test accuracy= {:.3%}\".format(clf.score (X_test, y_test)))\r\n",
    "\r\n",
    "print ('\\n','='*20, '\\nGradientBoostingClassifier')\r\n",
    "clf = GradientBoostingClassifier(\r\n",
    "    learning_rate=0.01,\r\n",
    "    max_depth=3\r\n",
    ").fit(X_train, y_train)\r\n",
    "print(\"train accuracy= {:.3%}\".format(clf.score (X_train, y_train)))\r\n",
    "print(\"test accuracy= {:.3%}\".format(clf.score (X_test, y_test)))\r\n",
    "\r\n",
    "print ('\\n','='*20, '\\nXGBClassifier')\r\n",
    "clf = XGBClassifier(use_label_encoder=False, eval_metric= 'logloss')\r\n",
    "clf.fit(X_train, y_train)\r\n",
    "print(\"train accuracy= {:.3%}\".format(clf.score (X_train, y_train)))\r\n",
    "print(\"test accuracy= {:.3%}\".format(clf.score (X_test, y_test)))\r\n"
   ],
   "outputs": [],
   "metadata": {}
  },
  {
   "cell_type": "markdown",
   "source": [
    "<font color = green >\n",
    "    \n",
    "# Home Task \n",
    "\n",
    "</font>\n",
    "\n"
   ],
   "metadata": {}
  },
  {
   "cell_type": "markdown",
   "source": [
    "<font color = green>\n",
    "\n",
    "##  Brest cancer  dataset\n",
    "</font>\n",
    "\n"
   ],
   "metadata": {}
  },
  {
   "cell_type": "code",
   "execution_count": null,
   "source": [
    "from sklearn.datasets import load_breast_cancer\r\n",
    "\r\n",
    "cancer = load_breast_cancer()\r\n",
    "X, y, labels, features = (\r\n",
    "    cancer.data,\r\n",
    "    cancer.target,\r\n",
    "    cancer.target_names,\r\n",
    "    cancer.feature_names,\r\n",
    ")\r\n",
    "print(\"labels:\", labels)\r\n",
    "print(\"features:\", features)\r\n",
    "\r\n",
    "X_train, X_test, y_train, y_test = train_test_split(X, y, random_state=0)"
   ],
   "outputs": [],
   "metadata": {}
  },
  {
   "cell_type": "markdown",
   "source": [
    "<font color = green>\n",
    "\n",
    "##  DecisionTree \n",
    "\n",
    "</font>\n",
    "\n"
   ],
   "metadata": {}
  },
  {
   "cell_type": "code",
   "execution_count": null,
   "source": [
    "# YOUR_CODE.  create the classifier and train it\r\n",
    "# START_CODE\r\n",
    "\r\n",
    "DTC = DecisionTreeClassifier(\r\n",
    "    criterion=\"entropy\",\r\n",
    "    random_state=0,\r\n",
    "    max_depth=8\r\n",
    ").fit(X_train, y_train)\r\n",
    "# END_CODE\r\n",
    "\r\n",
    "print(f\"train accuracy= {DTC.score(X_train, y_train)}\")\r\n",
    "print(f\"test accuracy= {DTC.score(X_test, y_test)}\")\r\n",
    "\r\n",
    "# help(DecisionTreeClassifier)\r\n",
    "graph_viz = tree.export_graphviz(\r\n",
    "    DTC, out_file=None, feature_names=features, class_names=labels, filled=True\r\n",
    ")\r\n",
    "graph = graphviz.Source(graph_viz)\r\n",
    "graph.view(cleanup=True)  # cleanup (bool) – Delete the source file after rendering."
   ],
   "outputs": [],
   "metadata": {}
  },
  {
   "cell_type": "markdown",
   "source": [
    "<font color = green>\n",
    "\n",
    "##  RandomForest\n",
    "\n",
    "</font>\n",
    "\n"
   ],
   "metadata": {}
  },
  {
   "cell_type": "code",
   "execution_count": 63,
   "source": [
    "# YOUR_CODE.  create the classifier and train it \r\n",
    "# START_CODE \r\n",
    "RFC = RandomForestClassifier(\r\n",
    "    random_state=10,\r\n",
    "    # n_estimators=10, # defaul value - 100 is enough\r\n",
    "    max_features=30\r\n",
    ").fit(X_train, y_train)\r\n",
    "# END_CODE \r\n",
    "\r\n",
    "print(f\"train accuracy= {RFC.score(X_train, y_train)}\")\r\n",
    "print(f\"test accuracy= {RFC.score(X_test, y_test)}\")\r\n",
    "# help(RandomForestClassifier)"
   ],
   "outputs": [
    {
     "output_type": "stream",
     "name": "stdout",
     "text": [
      "train accuracy= 1.0\n",
      "test accuracy= 0.972027972027972\n"
     ]
    }
   ],
   "metadata": {}
  },
  {
   "cell_type": "markdown",
   "source": [
    "<font color = green>\n",
    "\n",
    "##  Gradient Boosting Decision Trees (GBDT)\n",
    "\n",
    "</font>\n",
    "\n"
   ],
   "metadata": {}
  },
  {
   "cell_type": "code",
   "execution_count": 64,
   "source": [
    "# YOUR_CODE.  create the classifier and train it \r\n",
    "# START_CODE \r\n",
    "GBC = GradientBoostingClassifier(\r\n",
    "    learning_rate=0.1,\r\n",
    "    max_depth=2\r\n",
    ").fit(X_train, y_train)\r\n",
    "# END_CODE \r\n",
    "\r\n",
    "print(f\"train accuracy= {GBC.score (X_train, y_train)}\")\r\n",
    "print(f\"test accuracy= {GBC.score(X_test, y_test)}\")\r\n",
    "plot_data_logistic_regression(X_train, y_train)"
   ],
   "outputs": [
    {
     "output_type": "stream",
     "name": "stdout",
     "text": [
      "train accuracy= 1.0\n",
      "test accuracy= 0.972027972027972\n"
     ]
    },
    {
     "output_type": "display_data",
     "data": {
      "text/plain": [
       "<Figure size 432x288 with 1 Axes>"
      ],
      "image/svg+xml": "<?xml version=\"1.0\" encoding=\"utf-8\" standalone=\"no\"?>\r\n<!DOCTYPE svg PUBLIC \"-//W3C//DTD SVG 1.1//EN\"\r\n  \"http://www.w3.org/Graphics/SVG/1.1/DTD/svg11.dtd\">\r\n<svg height=\"252.194311pt\" version=\"1.1\" viewBox=\"0 0 368.925 252.194311\" width=\"368.925pt\" xmlns=\"http://www.w3.org/2000/svg\" xmlns:xlink=\"http://www.w3.org/1999/xlink\">\r\n <metadata>\r\n  <rdf:RDF xmlns:cc=\"http://creativecommons.org/ns#\" xmlns:dc=\"http://purl.org/dc/elements/1.1/\" xmlns:rdf=\"http://www.w3.org/1999/02/22-rdf-syntax-ns#\">\r\n   <cc:Work>\r\n    <dc:type rdf:resource=\"http://purl.org/dc/dcmitype/StillImage\"/>\r\n    <dc:date>2021-08-27T13:10:06.705675</dc:date>\r\n    <dc:format>image/svg+xml</dc:format>\r\n    <dc:creator>\r\n     <cc:Agent>\r\n      <dc:title>Matplotlib v3.4.3, https://matplotlib.org/</dc:title>\r\n     </cc:Agent>\r\n    </dc:creator>\r\n   </cc:Work>\r\n  </rdf:RDF>\r\n </metadata>\r\n <defs>\r\n  <style type=\"text/css\">*{stroke-linecap:butt;stroke-linejoin:round;}</style>\r\n </defs>\r\n <g id=\"figure_1\">\r\n  <g id=\"patch_1\">\r\n   <path d=\"M -0 252.194311 \r\nL 368.925 252.194311 \r\nL 368.925 0 \r\nL -0 0 \r\nz\r\n\" style=\"fill:none;\"/>\r\n  </g>\r\n  <g id=\"axes_1\">\r\n   <g id=\"patch_2\">\r\n    <path d=\"M 26.925 228.316186 \r\nL 361.725 228.316186 \r\nL 361.725 10.876186 \r\nL 26.925 10.876186 \r\nz\r\n\" style=\"fill:#ffffff;\"/>\r\n   </g>\r\n   <g id=\"PathCollection_1\">\r\n    <defs>\r\n     <path d=\"M 0 3.162278 \r\nC 0.838646 3.162278 1.643056 2.82908 2.236068 2.236068 \r\nC 2.82908 1.643056 3.162278 0.838646 3.162278 0 \r\nC 3.162278 -0.838646 2.82908 -1.643056 2.236068 -2.236068 \r\nC 1.643056 -2.82908 0.838646 -3.162278 0 -3.162278 \r\nC -0.838646 -3.162278 -1.643056 -2.82908 -2.236068 -2.236068 \r\nC -2.82908 -1.643056 -3.162278 -0.838646 -3.162278 0 \r\nC -3.162278 0.838646 -2.82908 1.643056 -2.236068 2.236068 \r\nC -1.643056 2.82908 -0.838646 3.162278 0 3.162278 \r\nz\r\n\" id=\"m6cc0054821\" style=\"stroke:#000000;stroke-opacity:0.7;\"/>\r\n    </defs>\r\n    <g clip-path=\"url(#p4cd9407393)\">\r\n     <use style=\"fill:#808080;fill-opacity:0.7;stroke:#000000;stroke-opacity:0.7;\" x=\"231.55477\" xlink:href=\"#m6cc0054821\" y=\"66.363987\"/>\r\n     <use style=\"fill:#808080;fill-opacity:0.7;stroke:#000000;stroke-opacity:0.7;\" x=\"182.001507\" xlink:href=\"#m6cc0054821\" y=\"132.391599\"/>\r\n     <use style=\"fill:#808080;fill-opacity:0.7;stroke:#000000;stroke-opacity:0.7;\" x=\"154.487921\" xlink:href=\"#m6cc0054821\" y=\"101.715416\"/>\r\n     <use style=\"fill:#808080;fill-opacity:0.7;stroke:#000000;stroke-opacity:0.7;\" x=\"137.63405\" xlink:href=\"#m6cc0054821\" y=\"95.563776\"/>\r\n     <use style=\"fill:#808080;fill-opacity:0.7;stroke:#000000;stroke-opacity:0.7;\" x=\"164.715484\" xlink:href=\"#m6cc0054821\" y=\"134.278102\"/>\r\n     <use style=\"fill:#808080;fill-opacity:0.7;stroke:#000000;stroke-opacity:0.7;\" x=\"225.072512\" xlink:href=\"#m6cc0054821\" y=\"120.252361\"/>\r\n     <use style=\"fill:#808080;fill-opacity:0.7;stroke:#000000;stroke-opacity:0.7;\" x=\"190.356417\" xlink:href=\"#m6cc0054821\" y=\"89.576178\"/>\r\n     <use style=\"fill:#808080;fill-opacity:0.7;stroke:#000000;stroke-opacity:0.7;\" x=\"187.187313\" xlink:href=\"#m6cc0054821\" y=\"141.578049\"/>\r\n     <use style=\"fill:#808080;fill-opacity:0.7;stroke:#000000;stroke-opacity:0.7;\" x=\"139.074551\" xlink:href=\"#m6cc0054821\" y=\"127.224221\"/>\r\n     <use style=\"fill:#808080;fill-opacity:0.7;stroke:#000000;stroke-opacity:0.7;\" x=\"200.728031\" xlink:href=\"#m6cc0054821\" y=\"128.618593\"/>\r\n     <use style=\"fill:#808080;fill-opacity:0.7;stroke:#000000;stroke-opacity:0.7;\" x=\"205.337637\" xlink:href=\"#m6cc0054821\" y=\"145.679143\"/>\r\n     <use style=\"fill:#808080;fill-opacity:0.7;stroke:#000000;stroke-opacity:0.7;\" x=\"159.097527\" xlink:href=\"#m6cc0054821\" y=\"117.463617\"/>\r\n     <use style=\"fill:#808080;fill-opacity:0.7;stroke:#000000;stroke-opacity:0.7;\" x=\"209.947243\" xlink:href=\"#m6cc0054821\" y=\"92.118857\"/>\r\n     <use style=\"fill:#808080;fill-opacity:0.7;stroke:#000000;stroke-opacity:0.7;\" x=\"137.63405\" xlink:href=\"#m6cc0054821\" y=\"93.185141\"/>\r\n     <use style=\"fill:#808080;fill-opacity:0.7;stroke:#000000;stroke-opacity:0.7;\" x=\"218.302153\" xlink:href=\"#m6cc0054821\" y=\"145.761165\"/>\r\n     <use style=\"fill:#808080;fill-opacity:0.7;stroke:#000000;stroke-opacity:0.7;\" x=\"204.473336\" xlink:href=\"#m6cc0054821\" y=\"134.19608\"/>\r\n     <use style=\"fill:#808080;fill-opacity:0.7;stroke:#000000;stroke-opacity:0.7;\" x=\"128.846988\" xlink:href=\"#m6cc0054821\" y=\"119.104055\"/>\r\n     <use style=\"fill:#808080;fill-opacity:0.7;stroke:#000000;stroke-opacity:0.7;\" x=\"225.792763\" xlink:href=\"#m6cc0054821\" y=\"135.50843\"/>\r\n     <use style=\"fill:#808080;fill-opacity:0.7;stroke:#000000;stroke-opacity:0.7;\" x=\"277.074629\" xlink:href=\"#m6cc0054821\" y=\"79.323444\"/>\r\n     <use style=\"fill:#808080;fill-opacity:0.7;stroke:#000000;stroke-opacity:0.7;\" x=\"157.512975\" xlink:href=\"#m6cc0054821\" y=\"91.38066\"/>\r\n     <use style=\"fill:#808080;fill-opacity:0.7;stroke:#000000;stroke-opacity:0.7;\" x=\"191.508819\" xlink:href=\"#m6cc0054821\" y=\"108.933342\"/>\r\n     <use style=\"fill:#808080;fill-opacity:0.7;stroke:#000000;stroke-opacity:0.7;\" x=\"280.243733\" xlink:href=\"#m6cc0054821\" y=\"99.008694\"/>\r\n     <use style=\"fill:#808080;fill-opacity:0.7;stroke:#000000;stroke-opacity:0.7;\" x=\"221.039107\" xlink:href=\"#m6cc0054821\" y=\"148.960018\"/>\r\n     <use style=\"fill:#808080;fill-opacity:0.7;stroke:#000000;stroke-opacity:0.7;\" x=\"238.181079\" xlink:href=\"#m6cc0054821\" y=\"123.861324\"/>\r\n     <use style=\"fill:#808080;fill-opacity:0.7;stroke:#000000;stroke-opacity:0.7;\" x=\"274.193625\" xlink:href=\"#m6cc0054821\" y=\"135.426408\"/>\r\n     <use style=\"fill:#808080;fill-opacity:0.7;stroke:#000000;stroke-opacity:0.7;\" x=\"242.934735\" xlink:href=\"#m6cc0054821\" y=\"92.2829\"/>\r\n     <use style=\"fill:#808080;fill-opacity:0.7;stroke:#000000;stroke-opacity:0.7;\" x=\"190.644518\" xlink:href=\"#m6cc0054821\" y=\"116.561376\"/>\r\n     <use style=\"fill:#808080;fill-opacity:0.7;stroke:#000000;stroke-opacity:0.7;\" x=\"126.398135\" xlink:href=\"#m6cc0054821\" y=\"114.920939\"/>\r\n     <use style=\"fill:#808080;fill-opacity:0.7;stroke:#000000;stroke-opacity:0.7;\" x=\"135.041146\" xlink:href=\"#m6cc0054821\" y=\"137.066846\"/>\r\n     <use style=\"fill:#808080;fill-opacity:0.7;stroke:#000000;stroke-opacity:0.7;\" x=\"173.934696\" xlink:href=\"#m6cc0054821\" y=\"151.420675\"/>\r\n     <use style=\"fill:#808080;fill-opacity:0.7;stroke:#000000;stroke-opacity:0.7;\" x=\"226.945164\" xlink:href=\"#m6cc0054821\" y=\"116.397333\"/>\r\n     <use style=\"fill:#808080;fill-opacity:0.7;stroke:#000000;stroke-opacity:0.7;\" x=\"222.911759\" xlink:href=\"#m6cc0054821\" y=\"31.750754\"/>\r\n     <use style=\"fill:#808080;fill-opacity:0.7;stroke:#000000;stroke-opacity:0.7;\" x=\"151.606918\" xlink:href=\"#m6cc0054821\" y=\"121.482689\"/>\r\n     <use style=\"fill:#808080;fill-opacity:0.7;stroke:#000000;stroke-opacity:0.7;\" x=\"183.297958\" xlink:href=\"#m6cc0054821\" y=\"143.874662\"/>\r\n     <use style=\"fill:#808080;fill-opacity:0.7;stroke:#000000;stroke-opacity:0.7;\" x=\"233.859573\" xlink:href=\"#m6cc0054821\" y=\"180.45642\"/>\r\n     <use style=\"fill:#808080;fill-opacity:0.7;stroke:#000000;stroke-opacity:0.7;\" x=\"245.383588\" xlink:href=\"#m6cc0054821\" y=\"80.143662\"/>\r\n     <use style=\"fill:#808080;fill-opacity:0.7;stroke:#000000;stroke-opacity:0.7;\" x=\"101.189353\" xlink:href=\"#m6cc0054821\" y=\"143.628596\"/>\r\n     <use style=\"fill:#808080;fill-opacity:0.7;stroke:#000000;stroke-opacity:0.7;\" x=\"175.663299\" xlink:href=\"#m6cc0054821\" y=\"138.051109\"/>\r\n     <use style=\"fill:#808080;fill-opacity:0.7;stroke:#000000;stroke-opacity:0.7;\" x=\"120.924228\" xlink:href=\"#m6cc0054821\" y=\"169.301444\"/>\r\n     <use style=\"fill:#808080;fill-opacity:0.7;stroke:#000000;stroke-opacity:0.7;\" x=\"173.646596\" xlink:href=\"#m6cc0054821\" y=\"150.026303\"/>\r\n     <use style=\"fill:#808080;fill-opacity:0.7;stroke:#000000;stroke-opacity:0.7;\" x=\"175.807349\" xlink:href=\"#m6cc0054821\" y=\"118.611923\"/>\r\n     <use style=\"fill:#808080;fill-opacity:0.7;stroke:#000000;stroke-opacity:0.7;\" x=\"125.533834\" xlink:href=\"#m6cc0054821\" y=\"113.772633\"/>\r\n     <use style=\"fill:#808080;fill-opacity:0.7;stroke:#000000;stroke-opacity:0.7;\" x=\"290.903447\" xlink:href=\"#m6cc0054821\" y=\"132.391599\"/>\r\n     <use style=\"fill:#808080;fill-opacity:0.7;stroke:#000000;stroke-opacity:0.7;\" x=\"162.554732\" xlink:href=\"#m6cc0054821\" y=\"181.112595\"/>\r\n     <use style=\"fill:#808080;fill-opacity:0.7;stroke:#000000;stroke-opacity:0.7;\" x=\"228.097566\" xlink:href=\"#m6cc0054821\" y=\"131.899468\"/>\r\n     <use style=\"fill:#808080;fill-opacity:0.7;stroke:#000000;stroke-opacity:0.7;\" x=\"221.615308\" xlink:href=\"#m6cc0054821\" y=\"143.710618\"/>\r\n     <use style=\"fill:#808080;fill-opacity:0.7;stroke:#000000;stroke-opacity:0.7;\" x=\"276.786529\" xlink:href=\"#m6cc0054821\" y=\"117.299573\"/>\r\n     <use style=\"fill:#808080;fill-opacity:0.7;stroke:#000000;stroke-opacity:0.7;\" x=\"130.43154\" xlink:href=\"#m6cc0054821\" y=\"170.449751\"/>\r\n     <use style=\"fill:#808080;fill-opacity:0.7;stroke:#000000;stroke-opacity:0.7;\" x=\"252.874198\" xlink:href=\"#m6cc0054821\" y=\"115.331048\"/>\r\n     <use style=\"fill:#808080;fill-opacity:0.7;stroke:#000000;stroke-opacity:0.7;\" x=\"217.870003\" xlink:href=\"#m6cc0054821\" y=\"113.608589\"/>\r\n     <use style=\"fill:#808080;fill-opacity:0.7;stroke:#000000;stroke-opacity:0.7;\" x=\"135.761397\" xlink:href=\"#m6cc0054821\" y=\"127.306243\"/>\r\n     <use style=\"fill:#808080;fill-opacity:0.7;stroke:#000000;stroke-opacity:0.7;\" x=\"168.460789\" xlink:href=\"#m6cc0054821\" y=\"140.429743\"/>\r\n     <use style=\"fill:#808080;fill-opacity:0.7;stroke:#000000;stroke-opacity:0.7;\" x=\"190.788568\" xlink:href=\"#m6cc0054821\" y=\"157.982425\"/>\r\n     <use style=\"fill:#808080;fill-opacity:0.7;stroke:#000000;stroke-opacity:0.7;\" x=\"140.659103\" xlink:href=\"#m6cc0054821\" y=\"97.204213\"/>\r\n     <use style=\"fill:#808080;fill-opacity:0.7;stroke:#000000;stroke-opacity:0.7;\" x=\"225.216562\" xlink:href=\"#m6cc0054821\" y=\"123.779302\"/>\r\n     <use style=\"fill:#808080;fill-opacity:0.7;stroke:#000000;stroke-opacity:0.7;\" x=\"111.560966\" xlink:href=\"#m6cc0054821\" y=\"162.083519\"/>\r\n     <use style=\"fill:#808080;fill-opacity:0.7;stroke:#000000;stroke-opacity:0.7;\" x=\"212.684196\" xlink:href=\"#m6cc0054821\" y=\"117.873726\"/>\r\n     <use style=\"fill:#808080;fill-opacity:0.7;stroke:#000000;stroke-opacity:0.7;\" x=\"193.237421\" xlink:href=\"#m6cc0054821\" y=\"95.645797\"/>\r\n     <use style=\"fill:#808080;fill-opacity:0.7;stroke:#000000;stroke-opacity:0.7;\" x=\"236.020326\" xlink:href=\"#m6cc0054821\" y=\"119.432142\"/>\r\n     <use style=\"fill:#808080;fill-opacity:0.7;stroke:#000000;stroke-opacity:0.7;\" x=\"201.304231\" xlink:href=\"#m6cc0054821\" y=\"159.868928\"/>\r\n     <use style=\"fill:#808080;fill-opacity:0.7;stroke:#000000;stroke-opacity:0.7;\" x=\"221.759358\" xlink:href=\"#m6cc0054821\" y=\"139.527502\"/>\r\n     <use style=\"fill:#808080;fill-opacity:0.7;stroke:#000000;stroke-opacity:0.7;\" x=\"142.675806\" xlink:href=\"#m6cc0054821\" y=\"158.228491\"/>\r\n     <use style=\"fill:#808080;fill-opacity:0.7;stroke:#000000;stroke-opacity:0.7;\" x=\"219.166454\" xlink:href=\"#m6cc0054821\" y=\"80.963881\"/>\r\n     <use style=\"fill:#808080;fill-opacity:0.7;stroke:#000000;stroke-opacity:0.7;\" x=\"131.295841\" xlink:href=\"#m6cc0054821\" y=\"119.186077\"/>\r\n     <use style=\"fill:#808080;fill-opacity:0.7;stroke:#000000;stroke-opacity:0.7;\" x=\"149.734265\" xlink:href=\"#m6cc0054821\" y=\"132.227555\"/>\r\n     <use style=\"fill:#808080;fill-opacity:0.7;stroke:#000000;stroke-opacity:0.7;\" x=\"226.801114\" xlink:href=\"#m6cc0054821\" y=\"121.236624\"/>\r\n     <use style=\"fill:#808080;fill-opacity:0.7;stroke:#000000;stroke-opacity:0.7;\" x=\"230.97857\" xlink:href=\"#m6cc0054821\" y=\"102.371591\"/>\r\n     <use style=\"fill:#808080;fill-opacity:0.7;stroke:#000000;stroke-opacity:0.7;\" x=\"110.984765\" xlink:href=\"#m6cc0054821\" y=\"149.288106\"/>\r\n     <use style=\"fill:#808080;fill-opacity:0.7;stroke:#000000;stroke-opacity:0.7;\" x=\"140.371003\" xlink:href=\"#m6cc0054821\" y=\"168.563247\"/>\r\n     <use style=\"fill:#808080;fill-opacity:0.7;stroke:#000000;stroke-opacity:0.7;\" x=\"182.721758\" xlink:href=\"#m6cc0054821\" y=\"120.990558\"/>\r\n     <use style=\"fill:#808080;fill-opacity:0.7;stroke:#000000;stroke-opacity:0.7;\" x=\"194.677923\" xlink:href=\"#m6cc0054821\" y=\"174.632866\"/>\r\n     <use style=\"fill:#808080;fill-opacity:0.7;stroke:#000000;stroke-opacity:0.7;\" x=\"187.619464\" xlink:href=\"#m6cc0054821\" y=\"75.386393\"/>\r\n     <use style=\"fill:#808080;fill-opacity:0.7;stroke:#000000;stroke-opacity:0.7;\" x=\"209.659142\" xlink:href=\"#m6cc0054821\" y=\"131.98149\"/>\r\n     <use style=\"fill:#808080;fill-opacity:0.7;stroke:#000000;stroke-opacity:0.7;\" x=\"196.262475\" xlink:href=\"#m6cc0054821\" y=\"127.962418\"/>\r\n     <use style=\"fill:#808080;fill-opacity:0.7;stroke:#000000;stroke-opacity:0.7;\" x=\"156.936774\" xlink:href=\"#m6cc0054821\" y=\"153.963353\"/>\r\n     <use style=\"fill:#808080;fill-opacity:0.7;stroke:#000000;stroke-opacity:0.7;\" x=\"346.506818\" xlink:href=\"#m6cc0054821\" y=\"146.581384\"/>\r\n     <use style=\"fill:#808080;fill-opacity:0.7;stroke:#000000;stroke-opacity:0.7;\" x=\"245.527638\" xlink:href=\"#m6cc0054821\" y=\"129.766899\"/>\r\n     <use style=\"fill:#808080;fill-opacity:0.7;stroke:#000000;stroke-opacity:0.7;\" x=\"141.235304\" xlink:href=\"#m6cc0054821\" y=\"159.212753\"/>\r\n     <use style=\"fill:#808080;fill-opacity:0.7;stroke:#000000;stroke-opacity:0.7;\" x=\"145.98896\" xlink:href=\"#m6cc0054821\" y=\"102.781701\"/>\r\n     <use style=\"fill:#808080;fill-opacity:0.7;stroke:#000000;stroke-opacity:0.7;\" x=\"165.291685\" xlink:href=\"#m6cc0054821\" y=\"22.810369\"/>\r\n     <use style=\"fill:#808080;fill-opacity:0.7;stroke:#000000;stroke-opacity:0.7;\" x=\"181.425306\" xlink:href=\"#m6cc0054821\" y=\"122.713017\"/>\r\n     <use style=\"fill:#808080;fill-opacity:0.7;stroke:#000000;stroke-opacity:0.7;\" x=\"222.911759\" xlink:href=\"#m6cc0054821\" y=\"143.054443\"/>\r\n     <use style=\"fill:#808080;fill-opacity:0.7;stroke:#000000;stroke-opacity:0.7;\" x=\"168.460789\" xlink:href=\"#m6cc0054821\" y=\"131.98149\"/>\r\n     <use style=\"fill:#808080;fill-opacity:0.7;stroke:#000000;stroke-opacity:0.7;\" x=\"226.657064\" xlink:href=\"#m6cc0054821\" y=\"92.036835\"/>\r\n     <use style=\"fill:#808080;fill-opacity:0.7;stroke:#000000;stroke-opacity:0.7;\" x=\"236.452477\" xlink:href=\"#m6cc0054821\" y=\"128.536571\"/>\r\n     <use style=\"fill:#808080;fill-opacity:0.7;stroke:#000000;stroke-opacity:0.7;\" x=\"135.185196\" xlink:href=\"#m6cc0054821\" y=\"121.07258\"/>\r\n     <use style=\"fill:#808080;fill-opacity:0.7;stroke:#000000;stroke-opacity:0.7;\" x=\"199.86373\" xlink:href=\"#m6cc0054821\" y=\"97.286235\"/>\r\n     <use style=\"fill:#808080;fill-opacity:0.7;stroke:#000000;stroke-opacity:0.7;\" x=\"169.901291\" xlink:href=\"#m6cc0054821\" y=\"101.633395\"/>\r\n     <use style=\"fill:#808080;fill-opacity:0.7;stroke:#000000;stroke-opacity:0.7;\" x=\"210.379393\" xlink:href=\"#m6cc0054821\" y=\"157.654338\"/>\r\n     <use style=\"fill:#808080;fill-opacity:0.7;stroke:#000000;stroke-opacity:0.7;\" x=\"207.93054\" xlink:href=\"#m6cc0054821\" y=\"154.373462\"/>\r\n     <use style=\"fill:#808080;fill-opacity:0.7;stroke:#000000;stroke-opacity:0.7;\" x=\"218.014053\" xlink:href=\"#m6cc0054821\" y=\"167.332919\"/>\r\n     <use style=\"fill:#808080;fill-opacity:0.7;stroke:#000000;stroke-opacity:0.7;\" x=\"216.717601\" xlink:href=\"#m6cc0054821\" y=\"82.440275\"/>\r\n     <use style=\"fill:#808080;fill-opacity:0.7;stroke:#000000;stroke-opacity:0.7;\" x=\"155.784373\" xlink:href=\"#m6cc0054821\" y=\"161.345322\"/>\r\n     <use style=\"fill:#808080;fill-opacity:0.7;stroke:#000000;stroke-opacity:0.7;\" x=\"188.483765\" xlink:href=\"#m6cc0054821\" y=\"163.559913\"/>\r\n     <use style=\"fill:#808080;fill-opacity:0.7;stroke:#000000;stroke-opacity:0.7;\" x=\"153.047419\" xlink:href=\"#m6cc0054821\" y=\"132.965752\"/>\r\n     <use style=\"fill:#808080;fill-opacity:0.7;stroke:#000000;stroke-opacity:0.7;\" x=\"142.963906\" xlink:href=\"#m6cc0054821\" y=\"137.148868\"/>\r\n     <use style=\"fill:#808080;fill-opacity:0.7;stroke:#000000;stroke-opacity:0.7;\" x=\"236.596527\" xlink:href=\"#m6cc0054821\" y=\"122.056842\"/>\r\n     <use style=\"fill:#808080;fill-opacity:0.7;stroke:#000000;stroke-opacity:0.7;\" x=\"234.147674\" xlink:href=\"#m6cc0054821\" y=\"76.12459\"/>\r\n     <use style=\"fill:#808080;fill-opacity:0.7;stroke:#000000;stroke-opacity:0.7;\" x=\"312.222874\" xlink:href=\"#m6cc0054821\" y=\"154.865594\"/>\r\n     <use style=\"fill:#808080;fill-opacity:0.7;stroke:#000000;stroke-opacity:0.7;\" x=\"204.041185\" xlink:href=\"#m6cc0054821\" y=\"143.300509\"/>\r\n     <use style=\"fill:#808080;fill-opacity:0.7;stroke:#000000;stroke-opacity:0.7;\" x=\"234.579824\" xlink:href=\"#m6cc0054821\" y=\"121.646733\"/>\r\n     <use style=\"fill:#808080;fill-opacity:0.7;stroke:#000000;stroke-opacity:0.7;\" x=\"175.951399\" xlink:href=\"#m6cc0054821\" y=\"128.208483\"/>\r\n     <use style=\"fill:#808080;fill-opacity:0.7;stroke:#000000;stroke-opacity:0.7;\" x=\"106.087059\" xlink:href=\"#m6cc0054821\" y=\"130.915205\"/>\r\n     <use style=\"fill:#808080;fill-opacity:0.7;stroke:#000000;stroke-opacity:0.7;\" x=\"197.270826\" xlink:href=\"#m6cc0054821\" y=\"68.168468\"/>\r\n     <use style=\"fill:#808080;fill-opacity:0.7;stroke:#000000;stroke-opacity:0.7;\" x=\"217.581902\" xlink:href=\"#m6cc0054821\" y=\"79.897597\"/>\r\n     <use style=\"fill:#808080;fill-opacity:0.7;stroke:#000000;stroke-opacity:0.7;\" x=\"201.592332\" xlink:href=\"#m6cc0054821\" y=\"165.61046\"/>\r\n     <use style=\"fill:#808080;fill-opacity:0.7;stroke:#000000;stroke-opacity:0.7;\" x=\"161.690431\" xlink:href=\"#m6cc0054821\" y=\"114.264764\"/>\r\n     <use style=\"fill:#808080;fill-opacity:0.7;stroke:#000000;stroke-opacity:0.7;\" x=\"237.604878\" xlink:href=\"#m6cc0054821\" y=\"126.978155\"/>\r\n     <use style=\"fill:#808080;fill-opacity:0.7;stroke:#000000;stroke-opacity:0.7;\" x=\"167.740538\" xlink:href=\"#m6cc0054821\" y=\"131.489358\"/>\r\n     <use style=\"fill:#808080;fill-opacity:0.7;stroke:#000000;stroke-opacity:0.7;\" x=\"186.755163\" xlink:href=\"#m6cc0054821\" y=\"101.387329\"/>\r\n     <use style=\"fill:#808080;fill-opacity:0.7;stroke:#000000;stroke-opacity:0.7;\" x=\"167.164338\" xlink:href=\"#m6cc0054821\" y=\"107.785035\"/>\r\n     <use style=\"fill:#808080;fill-opacity:0.7;stroke:#000000;stroke-opacity:0.7;\" x=\"168.89294\" xlink:href=\"#m6cc0054821\" y=\"151.338653\"/>\r\n     <use style=\"fill:#808080;fill-opacity:0.7;stroke:#000000;stroke-opacity:0.7;\" x=\"150.166416\" xlink:href=\"#m6cc0054821\" y=\"122.056842\"/>\r\n     <use style=\"fill:#808080;fill-opacity:0.7;stroke:#000000;stroke-opacity:0.7;\" x=\"146.853261\" xlink:href=\"#m6cc0054821\" y=\"119.924273\"/>\r\n     <use style=\"fill:#808080;fill-opacity:0.7;stroke:#000000;stroke-opacity:0.7;\" x=\"119.339676\" xlink:href=\"#m6cc0054821\" y=\"77.765028\"/>\r\n     <use style=\"fill:#808080;fill-opacity:0.7;stroke:#000000;stroke-opacity:0.7;\" x=\"99.3167\" xlink:href=\"#m6cc0054821\" y=\"122.959083\"/>\r\n     <use style=\"fill:#808080;fill-opacity:0.7;stroke:#000000;stroke-opacity:0.7;\" x=\"296.377354\" xlink:href=\"#m6cc0054821\" y=\"120.908536\"/>\r\n     <use style=\"fill:#808080;fill-opacity:0.7;stroke:#000000;stroke-opacity:0.7;\" x=\"223.77606\" xlink:href=\"#m6cc0054821\" y=\"93.021097\"/>\r\n     <use style=\"fill:#808080;fill-opacity:0.7;stroke:#000000;stroke-opacity:0.7;\" x=\"146.853261\" xlink:href=\"#m6cc0054821\" y=\"116.397333\"/>\r\n     <use style=\"fill:#808080;fill-opacity:0.7;stroke:#000000;stroke-opacity:0.7;\" x=\"246.391939\" xlink:href=\"#m6cc0054821\" y=\"109.097385\"/>\r\n     <use style=\"fill:#808080;fill-opacity:0.7;stroke:#000000;stroke-opacity:0.7;\" x=\"164.283334\" xlink:href=\"#m6cc0054821\" y=\"101.633395\"/>\r\n     <use style=\"fill:#808080;fill-opacity:0.7;stroke:#000000;stroke-opacity:0.7;\" x=\"132.880393\" xlink:href=\"#m6cc0054821\" y=\"131.735424\"/>\r\n     <use style=\"fill:#808080;fill-opacity:0.7;stroke:#000000;stroke-opacity:0.7;\" x=\"177.1038\" xlink:href=\"#m6cc0054821\" y=\"107.046839\"/>\r\n     <use style=\"fill:#808080;fill-opacity:0.7;stroke:#000000;stroke-opacity:0.7;\" x=\"200.728031\" xlink:href=\"#m6cc0054821\" y=\"212.937084\"/>\r\n     <use style=\"fill:#808080;fill-opacity:0.7;stroke:#000000;stroke-opacity:0.7;\" x=\"194.245772\" xlink:href=\"#m6cc0054821\" y=\"139.609524\"/>\r\n     <use style=\"fill:#808080;fill-opacity:0.7;stroke:#000000;stroke-opacity:0.7;\" x=\"254.3147\" xlink:href=\"#m6cc0054821\" y=\"156.588053\"/>\r\n     <use style=\"fill:#808080;fill-opacity:0.7;stroke:#000000;stroke-opacity:0.7;\" x=\"336.567355\" xlink:href=\"#m6cc0054821\" y=\"82.604319\"/>\r\n     <use style=\"fill:#808080;fill-opacity:0.7;stroke:#000000;stroke-opacity:0.7;\" x=\"258.636205\" xlink:href=\"#m6cc0054821\" y=\"118.44788\"/>\r\n     <use style=\"fill:#808080;fill-opacity:0.7;stroke:#000000;stroke-opacity:0.7;\" x=\"223.19986\" xlink:href=\"#m6cc0054821\" y=\"62.098849\"/>\r\n     <use style=\"fill:#808080;fill-opacity:0.7;stroke:#000000;stroke-opacity:0.7;\" x=\"158.521326\" xlink:href=\"#m6cc0054821\" y=\"135.426408\"/>\r\n     <use style=\"fill:#808080;fill-opacity:0.7;stroke:#000000;stroke-opacity:0.7;\" x=\"202.024482\" xlink:href=\"#m6cc0054821\" y=\"118.940011\"/>\r\n     <use style=\"fill:#808080;fill-opacity:0.7;stroke:#000000;stroke-opacity:0.7;\" x=\"233.427423\" xlink:href=\"#m6cc0054821\" y=\"109.179407\"/>\r\n     <use style=\"fill:#808080;fill-opacity:0.7;stroke:#000000;stroke-opacity:0.7;\" x=\"238.90133\" xlink:href=\"#m6cc0054821\" y=\"155.767834\"/>\r\n     <use style=\"fill:#808080;fill-opacity:0.7;stroke:#000000;stroke-opacity:0.7;\" x=\"186.611113\" xlink:href=\"#m6cc0054821\" y=\"131.899468\"/>\r\n     <use style=\"fill:#808080;fill-opacity:0.7;stroke:#000000;stroke-opacity:0.7;\" x=\"333.686352\" xlink:href=\"#m6cc0054821\" y=\"118.693945\"/>\r\n     <use style=\"fill:#808080;fill-opacity:0.7;stroke:#000000;stroke-opacity:0.7;\" x=\"164.283334\" xlink:href=\"#m6cc0054821\" y=\"138.297174\"/>\r\n     <use style=\"fill:#808080;fill-opacity:0.7;stroke:#000000;stroke-opacity:0.7;\" x=\"131.295841\" xlink:href=\"#m6cc0054821\" y=\"145.022968\"/>\r\n     <use style=\"fill:#808080;fill-opacity:0.7;stroke:#000000;stroke-opacity:0.7;\" x=\"140.515053\" xlink:href=\"#m6cc0054821\" y=\"103.273832\"/>\r\n     <use style=\"fill:#808080;fill-opacity:0.7;stroke:#000000;stroke-opacity:0.7;\" x=\"162.986882\" xlink:href=\"#m6cc0054821\" y=\"111.393998\"/>\r\n     <use style=\"fill:#808080;fill-opacity:0.7;stroke:#000000;stroke-opacity:0.7;\" x=\"304.876315\" xlink:href=\"#m6cc0054821\" y=\"93.759294\"/>\r\n     <use style=\"fill:#808080;fill-opacity:0.7;stroke:#000000;stroke-opacity:0.7;\" x=\"156.216523\" xlink:href=\"#m6cc0054821\" y=\"113.280501\"/>\r\n     <use style=\"fill:#808080;fill-opacity:0.7;stroke:#000000;stroke-opacity:0.7;\" x=\"200.15183\" xlink:href=\"#m6cc0054821\" y=\"133.950015\"/>\r\n     <use style=\"fill:#808080;fill-opacity:0.7;stroke:#000000;stroke-opacity:0.7;\" x=\"153.47957\" xlink:href=\"#m6cc0054821\" y=\"120.990558\"/>\r\n     <use style=\"fill:#808080;fill-opacity:0.7;stroke:#000000;stroke-opacity:0.7;\" x=\"231.986921\" xlink:href=\"#m6cc0054821\" y=\"136.82078\"/>\r\n     <use style=\"fill:#808080;fill-opacity:0.7;stroke:#000000;stroke-opacity:0.7;\" x=\"162.266631\" xlink:href=\"#m6cc0054821\" y=\"156.424009\"/>\r\n     <use style=\"fill:#808080;fill-opacity:0.7;stroke:#000000;stroke-opacity:0.7;\" x=\"216.285451\" xlink:href=\"#m6cc0054821\" y=\"94.579513\"/>\r\n     <use style=\"fill:#808080;fill-opacity:0.7;stroke:#000000;stroke-opacity:0.7;\" x=\"187.331364\" xlink:href=\"#m6cc0054821\" y=\"125.829849\"/>\r\n     <use style=\"fill:#808080;fill-opacity:0.7;stroke:#000000;stroke-opacity:0.7;\" x=\"204.041185\" xlink:href=\"#m6cc0054821\" y=\"144.694881\"/>\r\n     <use style=\"fill:#808080;fill-opacity:0.7;stroke:#000000;stroke-opacity:0.7;\" x=\"147.141362\" xlink:href=\"#m6cc0054821\" y=\"113.116458\"/>\r\n     <use style=\"fill:#808080;fill-opacity:0.7;stroke:#000000;stroke-opacity:0.7;\" x=\"161.978531\" xlink:href=\"#m6cc0054821\" y=\"90.806507\"/>\r\n     <use style=\"fill:#808080;fill-opacity:0.7;stroke:#000000;stroke-opacity:0.7;\" x=\"221.039107\" xlink:href=\"#m6cc0054821\" y=\"105.324379\"/>\r\n     <use style=\"fill:#808080;fill-opacity:0.7;stroke:#000000;stroke-opacity:0.7;\" x=\"240.197781\" xlink:href=\"#m6cc0054821\" y=\"42.823708\"/>\r\n     <use style=\"fill:#808080;fill-opacity:0.7;stroke:#000000;stroke-opacity:0.7;\" x=\"178.688352\" xlink:href=\"#m6cc0054821\" y=\"133.129796\"/>\r\n     <use style=\"fill:#808080;fill-opacity:0.7;stroke:#000000;stroke-opacity:0.7;\" x=\"149.302115\" xlink:href=\"#m6cc0054821\" y=\"135.91854\"/>\r\n     <use style=\"fill:#808080;fill-opacity:0.7;stroke:#000000;stroke-opacity:0.7;\" x=\"189.348066\" xlink:href=\"#m6cc0054821\" y=\"96.958147\"/>\r\n     <use style=\"fill:#808080;fill-opacity:0.7;stroke:#000000;stroke-opacity:0.7;\" x=\"215.5652\" xlink:href=\"#m6cc0054821\" y=\"96.383994\"/>\r\n     <use style=\"fill:#808080;fill-opacity:0.7;stroke:#000000;stroke-opacity:0.7;\" x=\"214.412798\" xlink:href=\"#m6cc0054821\" y=\"123.28717\"/>\r\n     <use style=\"fill:#808080;fill-opacity:0.7;stroke:#000000;stroke-opacity:0.7;\" x=\"212.540146\" xlink:href=\"#m6cc0054821\" y=\"134.19608\"/>\r\n     <use style=\"fill:#808080;fill-opacity:0.7;stroke:#000000;stroke-opacity:0.7;\" x=\"121.068278\" xlink:href=\"#m6cc0054821\" y=\"100.895198\"/>\r\n    </g>\r\n   </g>\r\n   <g id=\"PathCollection_2\">\r\n    <defs>\r\n     <path d=\"M 0 3.162278 \r\nC 0.838646 3.162278 1.643056 2.82908 2.236068 2.236068 \r\nC 2.82908 1.643056 3.162278 0.838646 3.162278 0 \r\nC 3.162278 -0.838646 2.82908 -1.643056 2.236068 -2.236068 \r\nC 1.643056 -2.82908 0.838646 -3.162278 0 -3.162278 \r\nC -0.838646 -3.162278 -1.643056 -2.82908 -2.236068 -2.236068 \r\nC -2.82908 -1.643056 -3.162278 -0.838646 -3.162278 0 \r\nC -3.162278 0.838646 -2.82908 1.643056 -2.236068 2.236068 \r\nC -1.643056 2.82908 -0.838646 3.162278 0 3.162278 \r\nz\r\n\" id=\"md38d5c2950\" style=\"stroke:#000000;stroke-opacity:0.7;\"/>\r\n    </defs>\r\n    <g clip-path=\"url(#p4cd9407393)\">\r\n     <use style=\"fill:#ffa500;fill-opacity:0.7;stroke:#000000;stroke-opacity:0.7;\" x=\"112.281217\" xlink:href=\"#md38d5c2950\" y=\"154.865594\"/>\r\n     <use style=\"fill:#ffa500;fill-opacity:0.7;stroke:#000000;stroke-opacity:0.7;\" x=\"103.206055\" xlink:href=\"#md38d5c2950\" y=\"135.180343\"/>\r\n     <use style=\"fill:#ffa500;fill-opacity:0.7;stroke:#000000;stroke-opacity:0.7;\" x=\"137.345949\" xlink:href=\"#md38d5c2950\" y=\"151.748762\"/>\r\n     <use style=\"fill:#ffa500;fill-opacity:0.7;stroke:#000000;stroke-opacity:0.7;\" x=\"115.306271\" xlink:href=\"#md38d5c2950\" y=\"143.054443\"/>\r\n     <use style=\"fill:#ffa500;fill-opacity:0.7;stroke:#000000;stroke-opacity:0.7;\" x=\"141.379354\" xlink:href=\"#md38d5c2950\" y=\"165.118329\"/>\r\n     <use style=\"fill:#ffa500;fill-opacity:0.7;stroke:#000000;stroke-opacity:0.7;\" x=\"122.50878\" xlink:href=\"#md38d5c2950\" y=\"141.660071\"/>\r\n     <use style=\"fill:#ffa500;fill-opacity:0.7;stroke:#000000;stroke-opacity:0.7;\" x=\"146.997312\" xlink:href=\"#md38d5c2950\" y=\"136.902802\"/>\r\n     <use style=\"fill:#ffa500;fill-opacity:0.7;stroke:#000000;stroke-opacity:0.7;\" x=\"71.64466\" xlink:href=\"#md38d5c2950\" y=\"155.931878\"/>\r\n     <use style=\"fill:#ffa500;fill-opacity:0.7;stroke:#000000;stroke-opacity:0.7;\" x=\"135.473297\" xlink:href=\"#md38d5c2950\" y=\"144.284771\"/>\r\n     <use style=\"fill:#ffa500;fill-opacity:0.7;stroke:#000000;stroke-opacity:0.7;\" x=\"83.84571\" xlink:href=\"#md38d5c2950\" y=\"156.424009\"/>\r\n     <use style=\"fill:#ffa500;fill-opacity:0.7;stroke:#000000;stroke-opacity:0.7;\" x=\"143.828208\" xlink:href=\"#md38d5c2950\" y=\"167.004832\"/>\r\n     <use style=\"fill:#ffa500;fill-opacity:0.7;stroke:#000000;stroke-opacity:0.7;\" x=\"124.813583\" xlink:href=\"#md38d5c2950\" y=\"153.143134\"/>\r\n     <use style=\"fill:#ffa500;fill-opacity:0.7;stroke:#000000;stroke-opacity:0.7;\" x=\"118.763475\" xlink:href=\"#md38d5c2950\" y=\"142.070181\"/>\r\n     <use style=\"fill:#ffa500;fill-opacity:0.7;stroke:#000000;stroke-opacity:0.7;\" x=\"99.604801\" xlink:href=\"#md38d5c2950\" y=\"156.998163\"/>\r\n     <use style=\"fill:#ffa500;fill-opacity:0.7;stroke:#000000;stroke-opacity:0.7;\" x=\"106.231109\" xlink:href=\"#md38d5c2950\" y=\"171.844123\"/>\r\n     <use style=\"fill:#ffa500;fill-opacity:0.7;stroke:#000000;stroke-opacity:0.7;\" x=\"139.074551\" xlink:href=\"#md38d5c2950\" y=\"144.858925\"/>\r\n     <use style=\"fill:#ffa500;fill-opacity:0.7;stroke:#000000;stroke-opacity:0.7;\" x=\"133.168494\" xlink:href=\"#md38d5c2950\" y=\"121.154602\"/>\r\n     <use style=\"fill:#ffa500;fill-opacity:0.7;stroke:#000000;stroke-opacity:0.7;\" x=\"76.023785\" xlink:href=\"#md38d5c2950\" y=\"118.119792\"/>\r\n     <use style=\"fill:#ffa500;fill-opacity:0.7;stroke:#000000;stroke-opacity:0.7;\" x=\"107.09541\" xlink:href=\"#md38d5c2950\" y=\"178.405873\"/>\r\n     <use style=\"fill:#ffa500;fill-opacity:0.7;stroke:#000000;stroke-opacity:0.7;\" x=\"92.690392\" xlink:href=\"#md38d5c2950\" y=\"145.433078\"/>\r\n     <use style=\"fill:#ffa500;fill-opacity:0.7;stroke:#000000;stroke-opacity:0.7;\" x=\"118.043224\" xlink:href=\"#md38d5c2950\" y=\"150.928544\"/>\r\n     <use style=\"fill:#ffa500;fill-opacity:0.7;stroke:#000000;stroke-opacity:0.7;\" x=\"42.143182\" xlink:href=\"#md38d5c2950\" y=\"187.920411\"/>\r\n     <use style=\"fill:#ffa500;fill-opacity:0.7;stroke:#000000;stroke-opacity:0.7;\" x=\"82.563664\" xlink:href=\"#md38d5c2950\" y=\"134.524168\"/>\r\n     <use style=\"fill:#ffa500;fill-opacity:0.7;stroke:#000000;stroke-opacity:0.7;\" x=\"129.99939\" xlink:href=\"#md38d5c2950\" y=\"169.219422\"/>\r\n     <use style=\"fill:#ffa500;fill-opacity:0.7;stroke:#000000;stroke-opacity:0.7;\" x=\"102.197704\" xlink:href=\"#md38d5c2950\" y=\"190.791177\"/>\r\n     <use style=\"fill:#ffa500;fill-opacity:0.7;stroke:#000000;stroke-opacity:0.7;\" x=\"109.688314\" xlink:href=\"#md38d5c2950\" y=\"133.867993\"/>\r\n     <use style=\"fill:#ffa500;fill-opacity:0.7;stroke:#000000;stroke-opacity:0.7;\" x=\"135.905447\" xlink:href=\"#md38d5c2950\" y=\"115.167004\"/>\r\n     <use style=\"fill:#ffa500;fill-opacity:0.7;stroke:#000000;stroke-opacity:0.7;\" x=\"128.702938\" xlink:href=\"#md38d5c2950\" y=\"181.35866\"/>\r\n     <use style=\"fill:#ffa500;fill-opacity:0.7;stroke:#000000;stroke-opacity:0.7;\" x=\"92.978492\" xlink:href=\"#md38d5c2950\" y=\"108.687276\"/>\r\n     <use style=\"fill:#ffa500;fill-opacity:0.7;stroke:#000000;stroke-opacity:0.7;\" x=\"154.199821\" xlink:href=\"#md38d5c2950\" y=\"177.175545\"/>\r\n     <use style=\"fill:#ffa500;fill-opacity:0.7;stroke:#000000;stroke-opacity:0.7;\" x=\"122.22068\" xlink:href=\"#md38d5c2950\" y=\"164.216088\"/>\r\n     <use style=\"fill:#ffa500;fill-opacity:0.7;stroke:#000000;stroke-opacity:0.7;\" x=\"96.435697\" xlink:href=\"#md38d5c2950\" y=\"175.289041\"/>\r\n     <use style=\"fill:#ffa500;fill-opacity:0.7;stroke:#000000;stroke-opacity:0.7;\" x=\"88.080786\" xlink:href=\"#md38d5c2950\" y=\"176.027238\"/>\r\n     <use style=\"fill:#ffa500;fill-opacity:0.7;stroke:#000000;stroke-opacity:0.7;\" x=\"98.308349\" xlink:href=\"#md38d5c2950\" y=\"169.957619\"/>\r\n     <use style=\"fill:#ffa500;fill-opacity:0.7;stroke:#000000;stroke-opacity:0.7;\" x=\"89.233187\" xlink:href=\"#md38d5c2950\" y=\"165.364394\"/>\r\n     <use style=\"fill:#ffa500;fill-opacity:0.7;stroke:#000000;stroke-opacity:0.7;\" x=\"131.727992\" xlink:href=\"#md38d5c2950\" y=\"155.111659\"/>\r\n     <use style=\"fill:#ffa500;fill-opacity:0.7;stroke:#000000;stroke-opacity:0.7;\" x=\"138.0662\" xlink:href=\"#md38d5c2950\" y=\"170.121663\"/>\r\n     <use style=\"fill:#ffa500;fill-opacity:0.7;stroke:#000000;stroke-opacity:0.7;\" x=\"126.974336\" xlink:href=\"#md38d5c2950\" y=\"137.805043\"/>\r\n     <use style=\"fill:#ffa500;fill-opacity:0.7;stroke:#000000;stroke-opacity:0.7;\" x=\"89.377238\" xlink:href=\"#md38d5c2950\" y=\"197.845058\"/>\r\n     <use style=\"fill:#ffa500;fill-opacity:0.7;stroke:#000000;stroke-opacity:0.7;\" x=\"104.790607\" xlink:href=\"#md38d5c2950\" y=\"181.932814\"/>\r\n     <use style=\"fill:#ffa500;fill-opacity:0.7;stroke:#000000;stroke-opacity:0.7;\" x=\"117.467024\" xlink:href=\"#md38d5c2950\" y=\"150.272369\"/>\r\n     <use style=\"fill:#ffa500;fill-opacity:0.7;stroke:#000000;stroke-opacity:0.7;\" x=\"80.964707\" xlink:href=\"#md38d5c2950\" y=\"190.299045\"/>\r\n     <use style=\"fill:#ffa500;fill-opacity:0.7;stroke:#000000;stroke-opacity:0.7;\" x=\"134.176845\" xlink:href=\"#md38d5c2950\" y=\"163.641935\"/>\r\n     <use style=\"fill:#ffa500;fill-opacity:0.7;stroke:#000000;stroke-opacity:0.7;\" x=\"131.007741\" xlink:href=\"#md38d5c2950\" y=\"172.254232\"/>\r\n     <use style=\"fill:#ffa500;fill-opacity:0.7;stroke:#000000;stroke-opacity:0.7;\" x=\"117.034873\" xlink:href=\"#md38d5c2950\" y=\"182.588989\"/>\r\n     <use style=\"fill:#ffa500;fill-opacity:0.7;stroke:#000000;stroke-opacity:0.7;\" x=\"65.724197\" xlink:href=\"#md38d5c2950\" y=\"201.371999\"/>\r\n     <use style=\"fill:#ffa500;fill-opacity:0.7;stroke:#000000;stroke-opacity:0.7;\" x=\"103.638206\" xlink:href=\"#md38d5c2950\" y=\"176.847457\"/>\r\n     <use style=\"fill:#ffa500;fill-opacity:0.7;stroke:#000000;stroke-opacity:0.7;\" x=\"99.460751\" xlink:href=\"#md38d5c2950\" y=\"153.553244\"/>\r\n     <use style=\"fill:#ffa500;fill-opacity:0.7;stroke:#000000;stroke-opacity:0.7;\" x=\"150.886667\" xlink:href=\"#md38d5c2950\" y=\"183.409207\"/>\r\n     <use style=\"fill:#ffa500;fill-opacity:0.7;stroke:#000000;stroke-opacity:0.7;\" x=\"138.354301\" xlink:href=\"#md38d5c2950\" y=\"173.812648\"/>\r\n     <use style=\"fill:#ffa500;fill-opacity:0.7;stroke:#000000;stroke-opacity:0.7;\" x=\"107.527561\" xlink:href=\"#md38d5c2950\" y=\"144.284771\"/>\r\n     <use style=\"fill:#ffa500;fill-opacity:0.7;stroke:#000000;stroke-opacity:0.7;\" x=\"123.373081\" xlink:href=\"#md38d5c2950\" y=\"157.408272\"/>\r\n     <use style=\"fill:#ffa500;fill-opacity:0.7;stroke:#000000;stroke-opacity:0.7;\" x=\"139.650752\" xlink:href=\"#md38d5c2950\" y=\"103.109788\"/>\r\n     <use style=\"fill:#ffa500;fill-opacity:0.7;stroke:#000000;stroke-opacity:0.7;\" x=\"115.306271\" xlink:href=\"#md38d5c2950\" y=\"193.57992\"/>\r\n     <use style=\"fill:#ffa500;fill-opacity:0.7;stroke:#000000;stroke-opacity:0.7;\" x=\"112.857418\" xlink:href=\"#md38d5c2950\" y=\"124.435477\"/>\r\n     <use style=\"fill:#ffa500;fill-opacity:0.7;stroke:#000000;stroke-opacity:0.7;\" x=\"102.917955\" xlink:href=\"#md38d5c2950\" y=\"57.177536\"/>\r\n     <use style=\"fill:#ffa500;fill-opacity:0.7;stroke:#000000;stroke-opacity:0.7;\" x=\"176.383549\" xlink:href=\"#md38d5c2950\" y=\"169.301444\"/>\r\n     <use style=\"fill:#ffa500;fill-opacity:0.7;stroke:#000000;stroke-opacity:0.7;\" x=\"126.830286\" xlink:href=\"#md38d5c2950\" y=\"188.822651\"/>\r\n     <use style=\"fill:#ffa500;fill-opacity:0.7;stroke:#000000;stroke-opacity:0.7;\" x=\"138.0662\" xlink:href=\"#md38d5c2950\" y=\"164.052044\"/>\r\n     <use style=\"fill:#ffa500;fill-opacity:0.7;stroke:#000000;stroke-opacity:0.7;\" x=\"97.444048\" xlink:href=\"#md38d5c2950\" y=\"99.500826\"/>\r\n     <use style=\"fill:#ffa500;fill-opacity:0.7;stroke:#000000;stroke-opacity:0.7;\" x=\"113.577669\" xlink:href=\"#md38d5c2950\" y=\"148.467887\"/>\r\n     <use style=\"fill:#ffa500;fill-opacity:0.7;stroke:#000000;stroke-opacity:0.7;\" x=\"118.907526\" xlink:href=\"#md38d5c2950\" y=\"162.57565\"/>\r\n     <use style=\"fill:#ffa500;fill-opacity:0.7;stroke:#000000;stroke-opacity:0.7;\" x=\"101.189353\" xlink:href=\"#md38d5c2950\" y=\"177.42161\"/>\r\n     <use style=\"fill:#ffa500;fill-opacity:0.7;stroke:#000000;stroke-opacity:0.7;\" x=\"132.736343\" xlink:href=\"#md38d5c2950\" y=\"177.011501\"/>\r\n     <use style=\"fill:#ffa500;fill-opacity:0.7;stroke:#000000;stroke-opacity:0.7;\" x=\"118.331325\" xlink:href=\"#md38d5c2950\" y=\"151.092587\"/>\r\n     <use style=\"fill:#ffa500;fill-opacity:0.7;stroke:#000000;stroke-opacity:0.7;\" x=\"92.546342\" xlink:href=\"#md38d5c2950\" y=\"135.180343\"/>\r\n     <use style=\"fill:#ffa500;fill-opacity:0.7;stroke:#000000;stroke-opacity:0.7;\" x=\"86.064083\" xlink:href=\"#md38d5c2950\" y=\"123.533236\"/>\r\n     <use style=\"fill:#ffa500;fill-opacity:0.7;stroke:#000000;stroke-opacity:0.7;\" x=\"117.755124\" xlink:href=\"#md38d5c2950\" y=\"137.640999\"/>\r\n     <use style=\"fill:#ffa500;fill-opacity:0.7;stroke:#000000;stroke-opacity:0.7;\" x=\"122.796881\" xlink:href=\"#md38d5c2950\" y=\"147.155537\"/>\r\n     <use style=\"fill:#ffa500;fill-opacity:0.7;stroke:#000000;stroke-opacity:0.7;\" x=\"168.172689\" xlink:href=\"#md38d5c2950\" y=\"205.555115\"/>\r\n     <use style=\"fill:#ffa500;fill-opacity:0.7;stroke:#000000;stroke-opacity:0.7;\" x=\"138.21025\" xlink:href=\"#md38d5c2950\" y=\"190.135001\"/>\r\n     <use style=\"fill:#ffa500;fill-opacity:0.7;stroke:#000000;stroke-opacity:0.7;\" x=\"105.943009\" xlink:href=\"#md38d5c2950\" y=\"209.328121\"/>\r\n     <use style=\"fill:#ffa500;fill-opacity:0.7;stroke:#000000;stroke-opacity:0.7;\" x=\"133.744695\" xlink:href=\"#md38d5c2950\" y=\"167.989094\"/>\r\n     <use style=\"fill:#ffa500;fill-opacity:0.7;stroke:#000000;stroke-opacity:0.7;\" x=\"131.295841\" xlink:href=\"#md38d5c2950\" y=\"148.631931\"/>\r\n     <use style=\"fill:#ffa500;fill-opacity:0.7;stroke:#000000;stroke-opacity:0.7;\" x=\"127.118386\" xlink:href=\"#md38d5c2950\" y=\"60.868521\"/>\r\n     <use style=\"fill:#ffa500;fill-opacity:0.7;stroke:#000000;stroke-opacity:0.7;\" x=\"81.065542\" xlink:href=\"#md38d5c2950\" y=\"139.445481\"/>\r\n     <use style=\"fill:#ffa500;fill-opacity:0.7;stroke:#000000;stroke-opacity:0.7;\" x=\"110.840715\" xlink:href=\"#md38d5c2950\" y=\"132.555643\"/>\r\n     <use style=\"fill:#ffa500;fill-opacity:0.7;stroke:#000000;stroke-opacity:0.7;\" x=\"77.320237\" xlink:href=\"#md38d5c2950\" y=\"69.398796\"/>\r\n     <use style=\"fill:#ffa500;fill-opacity:0.7;stroke:#000000;stroke-opacity:0.7;\" x=\"146.421111\" xlink:href=\"#md38d5c2950\" y=\"69.644862\"/>\r\n     <use style=\"fill:#ffa500;fill-opacity:0.7;stroke:#000000;stroke-opacity:0.7;\" x=\"127.262436\" xlink:href=\"#md38d5c2950\" y=\"169.301444\"/>\r\n     <use style=\"fill:#ffa500;fill-opacity:0.7;stroke:#000000;stroke-opacity:0.7;\" x=\"121.500429\" xlink:href=\"#md38d5c2950\" y=\"159.868928\"/>\r\n     <use style=\"fill:#ffa500;fill-opacity:0.7;stroke:#000000;stroke-opacity:0.7;\" x=\"127.550537\" xlink:href=\"#md38d5c2950\" y=\"164.134066\"/>\r\n     <use style=\"fill:#ffa500;fill-opacity:0.7;stroke:#000000;stroke-opacity:0.7;\" x=\"125.533834\" xlink:href=\"#md38d5c2950\" y=\"122.466952\"/>\r\n     <use style=\"fill:#ffa500;fill-opacity:0.7;stroke:#000000;stroke-opacity:0.7;\" x=\"70.506663\" xlink:href=\"#md38d5c2950\" y=\"168.809313\"/>\r\n     <use style=\"fill:#ffa500;fill-opacity:0.7;stroke:#000000;stroke-opacity:0.7;\" x=\"141.811505\" xlink:href=\"#md38d5c2950\" y=\"161.755431\"/>\r\n     <use style=\"fill:#ffa500;fill-opacity:0.7;stroke:#000000;stroke-opacity:0.7;\" x=\"101.909604\" xlink:href=\"#md38d5c2950\" y=\"161.755431\"/>\r\n     <use style=\"fill:#ffa500;fill-opacity:0.7;stroke:#000000;stroke-opacity:0.7;\" x=\"109.256163\" xlink:href=\"#md38d5c2950\" y=\"147.72969\"/>\r\n     <use style=\"fill:#ffa500;fill-opacity:0.7;stroke:#000000;stroke-opacity:0.7;\" x=\"127.982687\" xlink:href=\"#md38d5c2950\" y=\"165.446416\"/>\r\n     <use style=\"fill:#ffa500;fill-opacity:0.7;stroke:#000000;stroke-opacity:0.7;\" x=\"73.718982\" xlink:href=\"#md38d5c2950\" y=\"184.39347\"/>\r\n     <use style=\"fill:#ffa500;fill-opacity:0.7;stroke:#000000;stroke-opacity:0.7;\" x=\"125.389784\" xlink:href=\"#md38d5c2950\" y=\"188.412542\"/>\r\n     <use style=\"fill:#ffa500;fill-opacity:0.7;stroke:#000000;stroke-opacity:0.7;\" x=\"89.809388\" xlink:href=\"#md38d5c2950\" y=\"71.613387\"/>\r\n     <use style=\"fill:#ffa500;fill-opacity:0.7;stroke:#000000;stroke-opacity:0.7;\" x=\"141.811505\" xlink:href=\"#md38d5c2950\" y=\"140.265699\"/>\r\n     <use style=\"fill:#ffa500;fill-opacity:0.7;stroke:#000000;stroke-opacity:0.7;\" x=\"110.264514\" xlink:href=\"#md38d5c2950\" y=\"171.351991\"/>\r\n     <use style=\"fill:#ffa500;fill-opacity:0.7;stroke:#000000;stroke-opacity:0.7;\" x=\"135.329247\" xlink:href=\"#md38d5c2950\" y=\"147.975756\"/>\r\n     <use style=\"fill:#ffa500;fill-opacity:0.7;stroke:#000000;stroke-opacity:0.7;\" x=\"144.116308\" xlink:href=\"#md38d5c2950\" y=\"157.162206\"/>\r\n     <use style=\"fill:#ffa500;fill-opacity:0.7;stroke:#000000;stroke-opacity:0.7;\" x=\"100.613152\" xlink:href=\"#md38d5c2950\" y=\"175.617129\"/>\r\n     <use style=\"fill:#ffa500;fill-opacity:0.7;stroke:#000000;stroke-opacity:0.7;\" x=\"113.001468\" xlink:href=\"#md38d5c2950\" y=\"177.913742\"/>\r\n     <use style=\"fill:#ffa500;fill-opacity:0.7;stroke:#000000;stroke-opacity:0.7;\" x=\"128.846988\" xlink:href=\"#md38d5c2950\" y=\"127.63433\"/>\r\n     <use style=\"fill:#ffa500;fill-opacity:0.7;stroke:#000000;stroke-opacity:0.7;\" x=\"75.476395\" xlink:href=\"#md38d5c2950\" y=\"184.065382\"/>\r\n     <use style=\"fill:#ffa500;fill-opacity:0.7;stroke:#000000;stroke-opacity:0.7;\" x=\"80.849467\" xlink:href=\"#md38d5c2950\" y=\"149.616193\"/>\r\n     <use style=\"fill:#ffa500;fill-opacity:0.7;stroke:#000000;stroke-opacity:0.7;\" x=\"136.913799\" xlink:href=\"#md38d5c2950\" y=\"184.065382\"/>\r\n     <use style=\"fill:#ffa500;fill-opacity:0.7;stroke:#000000;stroke-opacity:0.7;\" x=\"138.642401\" xlink:href=\"#md38d5c2950\" y=\"164.134066\"/>\r\n     <use style=\"fill:#ffa500;fill-opacity:0.7;stroke:#000000;stroke-opacity:0.7;\" x=\"105.366808\" xlink:href=\"#md38d5c2950\" y=\"143.136465\"/>\r\n     <use style=\"fill:#ffa500;fill-opacity:0.7;stroke:#000000;stroke-opacity:0.7;\" x=\"120.492078\" xlink:href=\"#md38d5c2950\" y=\"174.714888\"/>\r\n     <use style=\"fill:#ffa500;fill-opacity:0.7;stroke:#000000;stroke-opacity:0.7;\" x=\"100.901252\" xlink:href=\"#md38d5c2950\" y=\"175.371063\"/>\r\n     <use style=\"fill:#ffa500;fill-opacity:0.7;stroke:#000000;stroke-opacity:0.7;\" x=\"67.279939\" xlink:href=\"#md38d5c2950\" y=\"168.23516\"/>\r\n     <use style=\"fill:#ffa500;fill-opacity:0.7;stroke:#000000;stroke-opacity:0.7;\" x=\"152.039068\" xlink:href=\"#md38d5c2950\" y=\"169.383466\"/>\r\n     <use style=\"fill:#ffa500;fill-opacity:0.7;stroke:#000000;stroke-opacity:0.7;\" x=\"111.560966\" xlink:href=\"#md38d5c2950\" y=\"156.506031\"/>\r\n     <use style=\"fill:#ffa500;fill-opacity:0.7;stroke:#000000;stroke-opacity:0.7;\" x=\"84.249051\" xlink:href=\"#md38d5c2950\" y=\"149.944281\"/>\r\n     <use style=\"fill:#ffa500;fill-opacity:0.7;stroke:#000000;stroke-opacity:0.7;\" x=\"198.711328\" xlink:href=\"#md38d5c2950\" y=\"189.560848\"/>\r\n     <use style=\"fill:#ffa500;fill-opacity:0.7;stroke:#000000;stroke-opacity:0.7;\" x=\"52.370745\" xlink:href=\"#md38d5c2950\" y=\"89.412135\"/>\r\n     <use style=\"fill:#ffa500;fill-opacity:0.7;stroke:#000000;stroke-opacity:0.7;\" x=\"117.611074\" xlink:href=\"#md38d5c2950\" y=\"133.703949\"/>\r\n     <use style=\"fill:#ffa500;fill-opacity:0.7;stroke:#000000;stroke-opacity:0.7;\" x=\"92.546342\" xlink:href=\"#md38d5c2950\" y=\"175.20702\"/>\r\n     <use style=\"fill:#ffa500;fill-opacity:0.7;stroke:#000000;stroke-opacity:0.7;\" x=\"110.264514\" xlink:href=\"#md38d5c2950\" y=\"161.345322\"/>\r\n     <use style=\"fill:#ffa500;fill-opacity:0.7;stroke:#000000;stroke-opacity:0.7;\" x=\"125.389784\" xlink:href=\"#md38d5c2950\" y=\"143.546574\"/>\r\n     <use style=\"fill:#ffa500;fill-opacity:0.7;stroke:#000000;stroke-opacity:0.7;\" x=\"117.467024\" xlink:href=\"#md38d5c2950\" y=\"182.506967\"/>\r\n     <use style=\"fill:#ffa500;fill-opacity:0.7;stroke:#000000;stroke-opacity:0.7;\" x=\"131.151791\" xlink:href=\"#md38d5c2950\" y=\"129.602855\"/>\r\n     <use style=\"fill:#ffa500;fill-opacity:0.7;stroke:#000000;stroke-opacity:0.7;\" x=\"114.44197\" xlink:href=\"#md38d5c2950\" y=\"66.528031\"/>\r\n     <use style=\"fill:#ffa500;fill-opacity:0.7;stroke:#000000;stroke-opacity:0.7;\" x=\"103.206055\" xlink:href=\"#md38d5c2950\" y=\"20.759822\"/>\r\n     <use style=\"fill:#ffa500;fill-opacity:0.7;stroke:#000000;stroke-opacity:0.7;\" x=\"167.884589\" xlink:href=\"#md38d5c2950\" y=\"183.819317\"/>\r\n     <use style=\"fill:#ffa500;fill-opacity:0.7;stroke:#000000;stroke-opacity:0.7;\" x=\"119.627776\" xlink:href=\"#md38d5c2950\" y=\"119.268098\"/>\r\n     <use style=\"fill:#ffa500;fill-opacity:0.7;stroke:#000000;stroke-opacity:0.7;\" x=\"149.158064\" xlink:href=\"#md38d5c2950\" y=\"136.246627\"/>\r\n     <use style=\"fill:#ffa500;fill-opacity:0.7;stroke:#000000;stroke-opacity:0.7;\" x=\"65.436097\" xlink:href=\"#md38d5c2950\" y=\"125.993892\"/>\r\n     <use style=\"fill:#ffa500;fill-opacity:0.7;stroke:#000000;stroke-opacity:0.7;\" x=\"174.510897\" xlink:href=\"#md38d5c2950\" y=\"166.266635\"/>\r\n     <use style=\"fill:#ffa500;fill-opacity:0.7;stroke:#000000;stroke-opacity:0.7;\" x=\"137.7781\" xlink:href=\"#md38d5c2950\" y=\"107.53897\"/>\r\n     <use style=\"fill:#ffa500;fill-opacity:0.7;stroke:#000000;stroke-opacity:0.7;\" x=\"110.840715\" xlink:href=\"#md38d5c2950\" y=\"154.045375\"/>\r\n     <use style=\"fill:#ffa500;fill-opacity:0.7;stroke:#000000;stroke-opacity:0.7;\" x=\"81.915438\" xlink:href=\"#md38d5c2950\" y=\"141.249962\"/>\r\n     <use style=\"fill:#ffa500;fill-opacity:0.7;stroke:#000000;stroke-opacity:0.7;\" x=\"139.938853\" xlink:href=\"#md38d5c2950\" y=\"189.232761\"/>\r\n     <use style=\"fill:#ffa500;fill-opacity:0.7;stroke:#000000;stroke-opacity:0.7;\" x=\"121.068278\" xlink:href=\"#md38d5c2950\" y=\"192.841723\"/>\r\n     <use style=\"fill:#ffa500;fill-opacity:0.7;stroke:#000000;stroke-opacity:0.7;\" x=\"141.091254\" xlink:href=\"#md38d5c2950\" y=\"137.312912\"/>\r\n     <use style=\"fill:#ffa500;fill-opacity:0.7;stroke:#000000;stroke-opacity:0.7;\" x=\"114.29792\" xlink:href=\"#md38d5c2950\" y=\"93.923338\"/>\r\n     <use style=\"fill:#ffa500;fill-opacity:0.7;stroke:#000000;stroke-opacity:0.7;\" x=\"129.567239\" xlink:href=\"#md38d5c2950\" y=\"184.557514\"/>\r\n     <use style=\"fill:#ffa500;fill-opacity:0.7;stroke:#000000;stroke-opacity:0.7;\" x=\"150.022366\" xlink:href=\"#md38d5c2950\" y=\"93.103119\"/>\r\n     <use style=\"fill:#ffa500;fill-opacity:0.7;stroke:#000000;stroke-opacity:0.7;\" x=\"88.512936\" xlink:href=\"#md38d5c2950\" y=\"154.70155\"/>\r\n     <use style=\"fill:#ffa500;fill-opacity:0.7;stroke:#000000;stroke-opacity:0.7;\" x=\"149.014014\" xlink:href=\"#md38d5c2950\" y=\"76.698743\"/>\r\n     <use style=\"fill:#ffa500;fill-opacity:0.7;stroke:#000000;stroke-opacity:0.7;\" x=\"93.842793\" xlink:href=\"#md38d5c2950\" y=\"132.227555\"/>\r\n     <use style=\"fill:#ffa500;fill-opacity:0.7;stroke:#000000;stroke-opacity:0.7;\" x=\"125.533834\" xlink:href=\"#md38d5c2950\" y=\"56.685405\"/>\r\n     <use style=\"fill:#ffa500;fill-opacity:0.7;stroke:#000000;stroke-opacity:0.7;\" x=\"126.398135\" xlink:href=\"#md38d5c2950\" y=\"169.055379\"/>\r\n     <use style=\"fill:#ffa500;fill-opacity:0.7;stroke:#000000;stroke-opacity:0.7;\" x=\"92.690392\" xlink:href=\"#md38d5c2950\" y=\"139.85559\"/>\r\n     <use style=\"fill:#ffa500;fill-opacity:0.7;stroke:#000000;stroke-opacity:0.7;\" x=\"154.776022\" xlink:href=\"#md38d5c2950\" y=\"153.225156\"/>\r\n     <use style=\"fill:#ffa500;fill-opacity:0.7;stroke:#000000;stroke-opacity:0.7;\" x=\"93.842793\" xlink:href=\"#md38d5c2950\" y=\"147.811712\"/>\r\n     <use style=\"fill:#ffa500;fill-opacity:0.7;stroke:#000000;stroke-opacity:0.7;\" x=\"123.805232\" xlink:href=\"#md38d5c2950\" y=\"149.04204\"/>\r\n     <use style=\"fill:#ffa500;fill-opacity:0.7;stroke:#000000;stroke-opacity:0.7;\" x=\"118.763475\" xlink:href=\"#md38d5c2950\" y=\"167.661007\"/>\r\n     <use style=\"fill:#ffa500;fill-opacity:0.7;stroke:#000000;stroke-opacity:0.7;\" x=\"83.427965\" xlink:href=\"#md38d5c2950\" y=\"169.465488\"/>\r\n     <use style=\"fill:#ffa500;fill-opacity:0.7;stroke:#000000;stroke-opacity:0.7;\" x=\"121.212328\" xlink:href=\"#md38d5c2950\" y=\"145.5151\"/>\r\n     <use style=\"fill:#ffa500;fill-opacity:0.7;stroke:#000000;stroke-opacity:0.7;\" x=\"79.39456\" xlink:href=\"#md38d5c2950\" y=\"167.578985\"/>\r\n     <use style=\"fill:#ffa500;fill-opacity:0.7;stroke:#000000;stroke-opacity:0.7;\" x=\"104.502507\" xlink:href=\"#md38d5c2950\" y=\"141.906137\"/>\r\n     <use style=\"fill:#ffa500;fill-opacity:0.7;stroke:#000000;stroke-opacity:0.7;\" x=\"112.857418\" xlink:href=\"#md38d5c2950\" y=\"147.565647\"/>\r\n     <use style=\"fill:#ffa500;fill-opacity:0.7;stroke:#000000;stroke-opacity:0.7;\" x=\"123.517131\" xlink:href=\"#md38d5c2950\" y=\"127.798374\"/>\r\n     <use style=\"fill:#ffa500;fill-opacity:0.7;stroke:#000000;stroke-opacity:0.7;\" x=\"97.155948\" xlink:href=\"#md38d5c2950\" y=\"218.43255\"/>\r\n     <use style=\"fill:#ffa500;fill-opacity:0.7;stroke:#000000;stroke-opacity:0.7;\" x=\"137.345949\" xlink:href=\"#md38d5c2950\" y=\"118.940011\"/>\r\n     <use style=\"fill:#ffa500;fill-opacity:0.7;stroke:#000000;stroke-opacity:0.7;\" x=\"100.901252\" xlink:href=\"#md38d5c2950\" y=\"157.654338\"/>\r\n     <use style=\"fill:#ffa500;fill-opacity:0.7;stroke:#000000;stroke-opacity:0.7;\" x=\"134.320895\" xlink:href=\"#md38d5c2950\" y=\"46.104583\"/>\r\n     <use style=\"fill:#ffa500;fill-opacity:0.7;stroke:#000000;stroke-opacity:0.7;\" x=\"126.830286\" xlink:href=\"#md38d5c2950\" y=\"150.436412\"/>\r\n     <use style=\"fill:#ffa500;fill-opacity:0.7;stroke:#000000;stroke-opacity:0.7;\" x=\"128.270788\" xlink:href=\"#md38d5c2950\" y=\"148.057778\"/>\r\n     <use style=\"fill:#ffa500;fill-opacity:0.7;stroke:#000000;stroke-opacity:0.7;\" x=\"119.339676\" xlink:href=\"#md38d5c2950\" y=\"175.453085\"/>\r\n     <use style=\"fill:#ffa500;fill-opacity:0.7;stroke:#000000;stroke-opacity:0.7;\" x=\"114.87412\" xlink:href=\"#md38d5c2950\" y=\"151.010565\"/>\r\n     <use style=\"fill:#ffa500;fill-opacity:0.7;stroke:#000000;stroke-opacity:0.7;\" x=\"127.262436\" xlink:href=\"#md38d5c2950\" y=\"190.463089\"/>\r\n     <use style=\"fill:#ffa500;fill-opacity:0.7;stroke:#000000;stroke-opacity:0.7;\" x=\"144.836559\" xlink:href=\"#md38d5c2950\" y=\"192.431614\"/>\r\n     <use style=\"fill:#ffa500;fill-opacity:0.7;stroke:#000000;stroke-opacity:0.7;\" x=\"107.239461\" xlink:href=\"#md38d5c2950\" y=\"146.745428\"/>\r\n     <use style=\"fill:#ffa500;fill-opacity:0.7;stroke:#000000;stroke-opacity:0.7;\" x=\"123.373081\" xlink:href=\"#md38d5c2950\" y=\"101.469351\"/>\r\n     <use style=\"fill:#ffa500;fill-opacity:0.7;stroke:#000000;stroke-opacity:0.7;\" x=\"138.786451\" xlink:href=\"#md38d5c2950\" y=\"166.266635\"/>\r\n     <use style=\"fill:#ffa500;fill-opacity:0.7;stroke:#000000;stroke-opacity:0.7;\" x=\"126.686236\" xlink:href=\"#md38d5c2950\" y=\"122.795039\"/>\r\n     <use style=\"fill:#ffa500;fill-opacity:0.7;stroke:#000000;stroke-opacity:0.7;\" x=\"82.419614\" xlink:href=\"#md38d5c2950\" y=\"158.720622\"/>\r\n     <use style=\"fill:#ffa500;fill-opacity:0.7;stroke:#000000;stroke-opacity:0.7;\" x=\"139.506702\" xlink:href=\"#md38d5c2950\" y=\"151.174609\"/>\r\n     <use style=\"fill:#ffa500;fill-opacity:0.7;stroke:#000000;stroke-opacity:0.7;\" x=\"81.756983\" xlink:href=\"#md38d5c2950\" y=\"172.254232\"/>\r\n     <use style=\"fill:#ffa500;fill-opacity:0.7;stroke:#000000;stroke-opacity:0.7;\" x=\"128.558888\" xlink:href=\"#md38d5c2950\" y=\"139.363459\"/>\r\n     <use style=\"fill:#ffa500;fill-opacity:0.7;stroke:#000000;stroke-opacity:0.7;\" x=\"104.934658\" xlink:href=\"#md38d5c2950\" y=\"123.69728\"/>\r\n     <use style=\"fill:#ffa500;fill-opacity:0.7;stroke:#000000;stroke-opacity:0.7;\" x=\"80.835062\" xlink:href=\"#md38d5c2950\" y=\"146.41734\"/>\r\n     <use style=\"fill:#ffa500;fill-opacity:0.7;stroke:#000000;stroke-opacity:0.7;\" x=\"112.569317\" xlink:href=\"#md38d5c2950\" y=\"121.400667\"/>\r\n     <use style=\"fill:#ffa500;fill-opacity:0.7;stroke:#000000;stroke-opacity:0.7;\" x=\"104.070356\" xlink:href=\"#md38d5c2950\" y=\"188.248498\"/>\r\n     <use style=\"fill:#ffa500;fill-opacity:0.7;stroke:#000000;stroke-opacity:0.7;\" x=\"109.112113\" xlink:href=\"#md38d5c2950\" y=\"57.833711\"/>\r\n     <use style=\"fill:#ffa500;fill-opacity:0.7;stroke:#000000;stroke-opacity:0.7;\" x=\"151.606918\" xlink:href=\"#md38d5c2950\" y=\"186.033908\"/>\r\n     <use style=\"fill:#ffa500;fill-opacity:0.7;stroke:#000000;stroke-opacity:0.7;\" x=\"94.995195\" xlink:href=\"#md38d5c2950\" y=\"91.216616\"/>\r\n     <use style=\"fill:#ffa500;fill-opacity:0.7;stroke:#000000;stroke-opacity:0.7;\" x=\"105.222758\" xlink:href=\"#md38d5c2950\" y=\"153.963353\"/>\r\n     <use style=\"fill:#ffa500;fill-opacity:0.7;stroke:#000000;stroke-opacity:0.7;\" x=\"108.824013\" xlink:href=\"#md38d5c2950\" y=\"166.676744\"/>\r\n     <use style=\"fill:#ffa500;fill-opacity:0.7;stroke:#000000;stroke-opacity:0.7;\" x=\"121.212328\" xlink:href=\"#md38d5c2950\" y=\"156.095922\"/>\r\n     <use style=\"fill:#ffa500;fill-opacity:0.7;stroke:#000000;stroke-opacity:0.7;\" x=\"136.625698\" xlink:href=\"#md38d5c2950\" y=\"180.292376\"/>\r\n     <use style=\"fill:#ffa500;fill-opacity:0.7;stroke:#000000;stroke-opacity:0.7;\" x=\"98.7405\" xlink:href=\"#md38d5c2950\" y=\"196.778774\"/>\r\n     <use style=\"fill:#ffa500;fill-opacity:0.7;stroke:#000000;stroke-opacity:0.7;\" x=\"138.930501\" xlink:href=\"#md38d5c2950\" y=\"153.3892\"/>\r\n     <use style=\"fill:#ffa500;fill-opacity:0.7;stroke:#000000;stroke-opacity:0.7;\" x=\"95.859496\" xlink:href=\"#md38d5c2950\" y=\"130.833183\"/>\r\n     <use style=\"fill:#ffa500;fill-opacity:0.7;stroke:#000000;stroke-opacity:0.7;\" x=\"179.264553\" xlink:href=\"#md38d5c2950\" y=\"148.057778\"/>\r\n     <use style=\"fill:#ffa500;fill-opacity:0.7;stroke:#000000;stroke-opacity:0.7;\" x=\"91.970141\" xlink:href=\"#md38d5c2950\" y=\"171.269969\"/>\r\n     <use style=\"fill:#ffa500;fill-opacity:0.7;stroke:#000000;stroke-opacity:0.7;\" x=\"155.784373\" xlink:href=\"#md38d5c2950\" y=\"132.309577\"/>\r\n     <use style=\"fill:#ffa500;fill-opacity:0.7;stroke:#000000;stroke-opacity:0.7;\" x=\"141.091254\" xlink:href=\"#md38d5c2950\" y=\"156.916141\"/>\r\n     <use style=\"fill:#ffa500;fill-opacity:0.7;stroke:#000000;stroke-opacity:0.7;\" x=\"113.577669\" xlink:href=\"#md38d5c2950\" y=\"127.798374\"/>\r\n     <use style=\"fill:#ffa500;fill-opacity:0.7;stroke:#000000;stroke-opacity:0.7;\" x=\"160.393979\" xlink:href=\"#md38d5c2950\" y=\"189.724892\"/>\r\n     <use style=\"fill:#ffa500;fill-opacity:0.7;stroke:#000000;stroke-opacity:0.7;\" x=\"120.924228\" xlink:href=\"#md38d5c2950\" y=\"163.477891\"/>\r\n     <use style=\"fill:#ffa500;fill-opacity:0.7;stroke:#000000;stroke-opacity:0.7;\" x=\"87.936736\" xlink:href=\"#md38d5c2950\" y=\"137.394934\"/>\r\n     <use style=\"fill:#ffa500;fill-opacity:0.7;stroke:#000000;stroke-opacity:0.7;\" x=\"112.857418\" xlink:href=\"#md38d5c2950\" y=\"155.685812\"/>\r\n     <use style=\"fill:#ffa500;fill-opacity:0.7;stroke:#000000;stroke-opacity:0.7;\" x=\"124.813583\" xlink:href=\"#md38d5c2950\" y=\"185.049645\"/>\r\n     <use style=\"fill:#ffa500;fill-opacity:0.7;stroke:#000000;stroke-opacity:0.7;\" x=\"106.51921\" xlink:href=\"#md38d5c2950\" y=\"126.075914\"/>\r\n     <use style=\"fill:#ffa500;fill-opacity:0.7;stroke:#000000;stroke-opacity:0.7;\" x=\"71.226914\" xlink:href=\"#md38d5c2950\" y=\"179.964289\"/>\r\n     <use style=\"fill:#ffa500;fill-opacity:0.7;stroke:#000000;stroke-opacity:0.7;\" x=\"122.22068\" xlink:href=\"#md38d5c2950\" y=\"149.862259\"/>\r\n     <use style=\"fill:#ffa500;fill-opacity:0.7;stroke:#000000;stroke-opacity:0.7;\" x=\"146.133011\" xlink:href=\"#md38d5c2950\" y=\"129.684877\"/>\r\n     <use style=\"fill:#ffa500;fill-opacity:0.7;stroke:#000000;stroke-opacity:0.7;\" x=\"94.274944\" xlink:href=\"#md38d5c2950\" y=\"142.644334\"/>\r\n     <use style=\"fill:#ffa500;fill-opacity:0.7;stroke:#000000;stroke-opacity:0.7;\" x=\"129.567239\" xlink:href=\"#md38d5c2950\" y=\"139.691546\"/>\r\n     <use style=\"fill:#ffa500;fill-opacity:0.7;stroke:#000000;stroke-opacity:0.7;\" x=\"147.429462\" xlink:href=\"#md38d5c2950\" y=\"160.114994\"/>\r\n     <use style=\"fill:#ffa500;fill-opacity:0.7;stroke:#000000;stroke-opacity:0.7;\" x=\"100.613152\" xlink:href=\"#md38d5c2950\" y=\"160.032972\"/>\r\n     <use style=\"fill:#ffa500;fill-opacity:0.7;stroke:#000000;stroke-opacity:0.7;\" x=\"110.984765\" xlink:href=\"#md38d5c2950\" y=\"120.908536\"/>\r\n     <use style=\"fill:#ffa500;fill-opacity:0.7;stroke:#000000;stroke-opacity:0.7;\" x=\"161.54638\" xlink:href=\"#md38d5c2950\" y=\"192.185548\"/>\r\n     <use style=\"fill:#ffa500;fill-opacity:0.7;stroke:#000000;stroke-opacity:0.7;\" x=\"154.920072\" xlink:href=\"#md38d5c2950\" y=\"177.503632\"/>\r\n     <use style=\"fill:#ffa500;fill-opacity:0.7;stroke:#000000;stroke-opacity:0.7;\" x=\"107.815661\" xlink:href=\"#md38d5c2950\" y=\"179.636201\"/>\r\n     <use style=\"fill:#ffa500;fill-opacity:0.7;stroke:#000000;stroke-opacity:0.7;\" x=\"103.782256\" xlink:href=\"#md38d5c2950\" y=\"135.426408\"/>\r\n     <use style=\"fill:#ffa500;fill-opacity:0.7;stroke:#000000;stroke-opacity:0.7;\" x=\"150.454516\" xlink:href=\"#md38d5c2950\" y=\"208.753968\"/>\r\n     <use style=\"fill:#ffa500;fill-opacity:0.7;stroke:#000000;stroke-opacity:0.7;\" x=\"88.224836\" xlink:href=\"#md38d5c2950\" y=\"154.291441\"/>\r\n     <use style=\"fill:#ffa500;fill-opacity:0.7;stroke:#000000;stroke-opacity:0.7;\" x=\"102.341754\" xlink:href=\"#md38d5c2950\" y=\"122.466952\"/>\r\n     <use style=\"fill:#ffa500;fill-opacity:0.7;stroke:#000000;stroke-opacity:0.7;\" x=\"53.364691\" xlink:href=\"#md38d5c2950\" y=\"96.794104\"/>\r\n     <use style=\"fill:#ffa500;fill-opacity:0.7;stroke:#000000;stroke-opacity:0.7;\" x=\"135.473297\" xlink:href=\"#md38d5c2950\" y=\"66.692074\"/>\r\n     <use style=\"fill:#ffa500;fill-opacity:0.7;stroke:#000000;stroke-opacity:0.7;\" x=\"117.178923\" xlink:href=\"#md38d5c2950\" y=\"189.068717\"/>\r\n     <use style=\"fill:#ffa500;fill-opacity:0.7;stroke:#000000;stroke-opacity:0.7;\" x=\"110.264514\" xlink:href=\"#md38d5c2950\" y=\"157.080184\"/>\r\n     <use style=\"fill:#ffa500;fill-opacity:0.7;stroke:#000000;stroke-opacity:0.7;\" x=\"116.746773\" xlink:href=\"#md38d5c2950\" y=\"150.190347\"/>\r\n     <use style=\"fill:#ffa500;fill-opacity:0.7;stroke:#000000;stroke-opacity:0.7;\" x=\"115.882472\" xlink:href=\"#md38d5c2950\" y=\"152.733025\"/>\r\n     <use style=\"fill:#ffa500;fill-opacity:0.7;stroke:#000000;stroke-opacity:0.7;\" x=\"120.059927\" xlink:href=\"#md38d5c2950\" y=\"154.70155\"/>\r\n     <use style=\"fill:#ffa500;fill-opacity:0.7;stroke:#000000;stroke-opacity:0.7;\" x=\"99.17265\" xlink:href=\"#md38d5c2950\" y=\"145.597121\"/>\r\n     <use style=\"fill:#ffa500;fill-opacity:0.7;stroke:#000000;stroke-opacity:0.7;\" x=\"115.450321\" xlink:href=\"#md38d5c2950\" y=\"187.838389\"/>\r\n     <use style=\"fill:#ffa500;fill-opacity:0.7;stroke:#000000;stroke-opacity:0.7;\" x=\"108.679962\" xlink:href=\"#md38d5c2950\" y=\"192.759702\"/>\r\n     <use style=\"fill:#ffa500;fill-opacity:0.7;stroke:#000000;stroke-opacity:0.7;\" x=\"141.523405\" xlink:href=\"#md38d5c2950\" y=\"165.528438\"/>\r\n     <use style=\"fill:#ffa500;fill-opacity:0.7;stroke:#000000;stroke-opacity:0.7;\" x=\"113.721719\" xlink:href=\"#md38d5c2950\" y=\"175.371063\"/>\r\n     <use style=\"fill:#ffa500;fill-opacity:0.7;stroke:#000000;stroke-opacity:0.7;\" x=\"106.66326\" xlink:href=\"#md38d5c2950\" y=\"149.124062\"/>\r\n     <use style=\"fill:#ffa500;fill-opacity:0.7;stroke:#000000;stroke-opacity:0.7;\" x=\"124.525483\" xlink:href=\"#md38d5c2950\" y=\"198.255167\"/>\r\n     <use style=\"fill:#ffa500;fill-opacity:0.7;stroke:#000000;stroke-opacity:0.7;\" x=\"128.126737\" xlink:href=\"#md38d5c2950\" y=\"166.676744\"/>\r\n     <use style=\"fill:#ffa500;fill-opacity:0.7;stroke:#000000;stroke-opacity:0.7;\" x=\"128.991038\" xlink:href=\"#md38d5c2950\" y=\"115.82318\"/>\r\n     <use style=\"fill:#ffa500;fill-opacity:0.7;stroke:#000000;stroke-opacity:0.7;\" x=\"151.750968\" xlink:href=\"#md38d5c2950\" y=\"112.050173\"/>\r\n     <use style=\"fill:#ffa500;fill-opacity:0.7;stroke:#000000;stroke-opacity:0.7;\" x=\"119.339676\" xlink:href=\"#md38d5c2950\" y=\"115.82318\"/>\r\n     <use style=\"fill:#ffa500;fill-opacity:0.7;stroke:#000000;stroke-opacity:0.7;\" x=\"157.224875\" xlink:href=\"#md38d5c2950\" y=\"159.04871\"/>\r\n     <use style=\"fill:#ffa500;fill-opacity:0.7;stroke:#000000;stroke-opacity:0.7;\" x=\"125.677884\" xlink:href=\"#md38d5c2950\" y=\"162.821716\"/>\r\n     <use style=\"fill:#ffa500;fill-opacity:0.7;stroke:#000000;stroke-opacity:0.7;\" x=\"108.679962\" xlink:href=\"#md38d5c2950\" y=\"97.204213\"/>\r\n     <use style=\"fill:#ffa500;fill-opacity:0.7;stroke:#000000;stroke-opacity:0.7;\" x=\"115.162221\" xlink:href=\"#md38d5c2950\" y=\"178.077785\"/>\r\n     <use style=\"fill:#ffa500;fill-opacity:0.7;stroke:#000000;stroke-opacity:0.7;\" x=\"79.956355\" xlink:href=\"#md38d5c2950\" y=\"159.95095\"/>\r\n     <use style=\"fill:#ffa500;fill-opacity:0.7;stroke:#000000;stroke-opacity:0.7;\" x=\"125.965985\" xlink:href=\"#md38d5c2950\" y=\"154.865594\"/>\r\n     <use style=\"fill:#ffa500;fill-opacity:0.7;stroke:#000000;stroke-opacity:0.7;\" x=\"141.091254\" xlink:href=\"#md38d5c2950\" y=\"173.566582\"/>\r\n     <use style=\"fill:#ffa500;fill-opacity:0.7;stroke:#000000;stroke-opacity:0.7;\" x=\"142.387706\" xlink:href=\"#md38d5c2950\" y=\"190.05298\"/>\r\n     <use style=\"fill:#ffa500;fill-opacity:0.7;stroke:#000000;stroke-opacity:0.7;\" x=\"157.657025\" xlink:href=\"#md38d5c2950\" y=\"170.85986\"/>\r\n     <use style=\"fill:#ffa500;fill-opacity:0.7;stroke:#000000;stroke-opacity:0.7;\" x=\"149.590215\" xlink:href=\"#md38d5c2950\" y=\"173.566582\"/>\r\n     <use style=\"fill:#ffa500;fill-opacity:0.7;stroke:#000000;stroke-opacity:0.7;\" x=\"127.406486\" xlink:href=\"#md38d5c2950\" y=\"167.496963\"/>\r\n     <use style=\"fill:#ffa500;fill-opacity:0.7;stroke:#000000;stroke-opacity:0.7;\" x=\"117.322973\" xlink:href=\"#md38d5c2950\" y=\"173.320516\"/>\r\n     <use style=\"fill:#ffa500;fill-opacity:0.7;stroke:#000000;stroke-opacity:0.7;\" x=\"114.44197\" xlink:href=\"#md38d5c2950\" y=\"169.711554\"/>\r\n     <use style=\"fill:#ffa500;fill-opacity:0.7;stroke:#000000;stroke-opacity:0.7;\" x=\"100.901252\" xlink:href=\"#md38d5c2950\" y=\"176.437348\"/>\r\n     <use style=\"fill:#ffa500;fill-opacity:0.7;stroke:#000000;stroke-opacity:0.7;\" x=\"157.080825\" xlink:href=\"#md38d5c2950\" y=\"141.414006\"/>\r\n     <use style=\"fill:#ffa500;fill-opacity:0.7;stroke:#000000;stroke-opacity:0.7;\" x=\"140.082903\" xlink:href=\"#md38d5c2950\" y=\"168.563247\"/>\r\n     <use style=\"fill:#ffa500;fill-opacity:0.7;stroke:#000000;stroke-opacity:0.7;\" x=\"103.926306\" xlink:href=\"#md38d5c2950\" y=\"170.941882\"/>\r\n     <use style=\"fill:#ffa500;fill-opacity:0.7;stroke:#000000;stroke-opacity:0.7;\" x=\"81.915438\" xlink:href=\"#md38d5c2950\" y=\"169.54751\"/>\r\n     <use style=\"fill:#ffa500;fill-opacity:0.7;stroke:#000000;stroke-opacity:0.7;\" x=\"109.832364\" xlink:href=\"#md38d5c2950\" y=\"165.446416\"/>\r\n     <use style=\"fill:#ffa500;fill-opacity:0.7;stroke:#000000;stroke-opacity:0.7;\" x=\"159.097527\" xlink:href=\"#md38d5c2950\" y=\"163.641935\"/>\r\n     <use style=\"fill:#ffa500;fill-opacity:0.7;stroke:#000000;stroke-opacity:0.7;\" x=\"105.943009\" xlink:href=\"#md38d5c2950\" y=\"175.699151\"/>\r\n     <use style=\"fill:#ffa500;fill-opacity:0.7;stroke:#000000;stroke-opacity:0.7;\" x=\"82.102703\" xlink:href=\"#md38d5c2950\" y=\"66.774096\"/>\r\n     <use style=\"fill:#ffa500;fill-opacity:0.7;stroke:#000000;stroke-opacity:0.7;\" x=\"110.696665\" xlink:href=\"#md38d5c2950\" y=\"177.585654\"/>\r\n     <use style=\"fill:#ffa500;fill-opacity:0.7;stroke:#000000;stroke-opacity:0.7;\" x=\"59.976595\" xlink:href=\"#md38d5c2950\" y=\"128.290505\"/>\r\n     <use style=\"fill:#ffa500;fill-opacity:0.7;stroke:#000000;stroke-opacity:0.7;\" x=\"131.872042\" xlink:href=\"#md38d5c2950\" y=\"67.922402\"/>\r\n     <use style=\"fill:#ffa500;fill-opacity:0.7;stroke:#000000;stroke-opacity:0.7;\" x=\"141.379354\" xlink:href=\"#md38d5c2950\" y=\"128.290505\"/>\r\n     <use style=\"fill:#ffa500;fill-opacity:0.7;stroke:#000000;stroke-opacity:0.7;\" x=\"103.782256\" xlink:href=\"#md38d5c2950\" y=\"134.360124\"/>\r\n     <use style=\"fill:#ffa500;fill-opacity:0.7;stroke:#000000;stroke-opacity:0.7;\" x=\"138.354301\" xlink:href=\"#md38d5c2950\" y=\"141.16794\"/>\r\n     <use style=\"fill:#ffa500;fill-opacity:0.7;stroke:#000000;stroke-opacity:0.7;\" x=\"156.936774\" xlink:href=\"#md38d5c2950\" y=\"144.120728\"/>\r\n     <use style=\"fill:#ffa500;fill-opacity:0.7;stroke:#000000;stroke-opacity:0.7;\" x=\"150.886667\" xlink:href=\"#md38d5c2950\" y=\"139.445481\"/>\r\n     <use style=\"fill:#ffa500;fill-opacity:0.7;stroke:#000000;stroke-opacity:0.7;\" x=\"120.203977\" xlink:href=\"#md38d5c2950\" y=\"153.061112\"/>\r\n     <use style=\"fill:#ffa500;fill-opacity:0.7;stroke:#000000;stroke-opacity:0.7;\" x=\"113.433618\" xlink:href=\"#md38d5c2950\" y=\"121.482689\"/>\r\n     <use style=\"fill:#ffa500;fill-opacity:0.7;stroke:#000000;stroke-opacity:0.7;\" x=\"109.976414\" xlink:href=\"#md38d5c2950\" y=\"97.614322\"/>\r\n     <use style=\"fill:#ffa500;fill-opacity:0.7;stroke:#000000;stroke-opacity:0.7;\" x=\"95.139245\" xlink:href=\"#md38d5c2950\" y=\"173.812648\"/>\r\n     <use style=\"fill:#ffa500;fill-opacity:0.7;stroke:#000000;stroke-opacity:0.7;\" x=\"101.909604\" xlink:href=\"#md38d5c2950\" y=\"114.018698\"/>\r\n     <use style=\"fill:#ffa500;fill-opacity:0.7;stroke:#000000;stroke-opacity:0.7;\" x=\"152.471219\" xlink:href=\"#md38d5c2950\" y=\"159.868928\"/>\r\n     <use style=\"fill:#ffa500;fill-opacity:0.7;stroke:#000000;stroke-opacity:0.7;\" x=\"65.421692\" xlink:href=\"#md38d5c2950\" y=\"145.5151\"/>\r\n     <use style=\"fill:#ffa500;fill-opacity:0.7;stroke:#000000;stroke-opacity:0.7;\" x=\"136.193548\" xlink:href=\"#md38d5c2950\" y=\"143.136465\"/>\r\n     <use style=\"fill:#ffa500;fill-opacity:0.7;stroke:#000000;stroke-opacity:0.7;\" x=\"156.504624\" xlink:href=\"#md38d5c2950\" y=\"175.617129\"/>\r\n     <use style=\"fill:#ffa500;fill-opacity:0.7;stroke:#000000;stroke-opacity:0.7;\" x=\"77.507502\" xlink:href=\"#md38d5c2950\" y=\"147.811712\"/>\r\n     <use style=\"fill:#ffa500;fill-opacity:0.7;stroke:#000000;stroke-opacity:0.7;\" x=\"81.598528\" xlink:href=\"#md38d5c2950\" y=\"148.631931\"/>\r\n     <use style=\"fill:#ffa500;fill-opacity:0.7;stroke:#000000;stroke-opacity:0.7;\" x=\"107.383511\" xlink:href=\"#md38d5c2950\" y=\"101.797438\"/>\r\n    </g>\r\n   </g>\r\n   <g id=\"matplotlib.axis_1\">\r\n    <g id=\"xtick_1\">\r\n     <g id=\"line2d_1\">\r\n      <defs>\r\n       <path d=\"M 0 0 \r\nL 0 3.5 \r\n\" id=\"m4f5866c0a0\" style=\"stroke:#000000;stroke-width:0.8;\"/>\r\n      </defs>\r\n      <g>\r\n       <use style=\"stroke:#000000;stroke-width:0.8;\" x=\"85.631933\" xlink:href=\"#m4f5866c0a0\" y=\"228.316186\"/>\r\n      </g>\r\n     </g>\r\n     <g id=\"text_1\">\r\n      <!-- 10 -->\r\n      <g transform=\"translate(79.269433 242.914623)scale(0.1 -0.1)\">\r\n       <defs>\r\n        <path d=\"M 794 531 \r\nL 1825 531 \r\nL 1825 4091 \r\nL 703 3866 \r\nL 703 4441 \r\nL 1819 4666 \r\nL 2450 4666 \r\nL 2450 531 \r\nL 3481 531 \r\nL 3481 0 \r\nL 794 0 \r\nL 794 531 \r\nz\r\n\" id=\"DejaVuSans-31\" transform=\"scale(0.015625)\"/>\r\n        <path d=\"M 2034 4250 \r\nQ 1547 4250 1301 3770 \r\nQ 1056 3291 1056 2328 \r\nQ 1056 1369 1301 889 \r\nQ 1547 409 2034 409 \r\nQ 2525 409 2770 889 \r\nQ 3016 1369 3016 2328 \r\nQ 3016 3291 2770 3770 \r\nQ 2525 4250 2034 4250 \r\nz\r\nM 2034 4750 \r\nQ 2819 4750 3233 4129 \r\nQ 3647 3509 3647 2328 \r\nQ 3647 1150 3233 529 \r\nQ 2819 -91 2034 -91 \r\nQ 1250 -91 836 529 \r\nQ 422 1150 422 2328 \r\nQ 422 3509 836 4129 \r\nQ 1250 4750 2034 4750 \r\nz\r\n\" id=\"DejaVuSans-30\" transform=\"scale(0.015625)\"/>\r\n       </defs>\r\n       <use xlink:href=\"#DejaVuSans-31\"/>\r\n       <use x=\"63.623047\" xlink:href=\"#DejaVuSans-30\"/>\r\n      </g>\r\n     </g>\r\n    </g>\r\n    <g id=\"xtick_2\">\r\n     <g id=\"line2d_2\">\r\n      <g>\r\n       <use style=\"stroke:#000000;stroke-width:0.8;\" x=\"157.657025\" xlink:href=\"#m4f5866c0a0\" y=\"228.316186\"/>\r\n      </g>\r\n     </g>\r\n     <g id=\"text_2\">\r\n      <!-- 15 -->\r\n      <g transform=\"translate(151.294525 242.914623)scale(0.1 -0.1)\">\r\n       <defs>\r\n        <path d=\"M 691 4666 \r\nL 3169 4666 \r\nL 3169 4134 \r\nL 1269 4134 \r\nL 1269 2991 \r\nQ 1406 3038 1543 3061 \r\nQ 1681 3084 1819 3084 \r\nQ 2600 3084 3056 2656 \r\nQ 3513 2228 3513 1497 \r\nQ 3513 744 3044 326 \r\nQ 2575 -91 1722 -91 \r\nQ 1428 -91 1123 -41 \r\nQ 819 9 494 109 \r\nL 494 744 \r\nQ 775 591 1075 516 \r\nQ 1375 441 1709 441 \r\nQ 2250 441 2565 725 \r\nQ 2881 1009 2881 1497 \r\nQ 2881 1984 2565 2268 \r\nQ 2250 2553 1709 2553 \r\nQ 1456 2553 1204 2497 \r\nQ 953 2441 691 2322 \r\nL 691 4666 \r\nz\r\n\" id=\"DejaVuSans-35\" transform=\"scale(0.015625)\"/>\r\n       </defs>\r\n       <use xlink:href=\"#DejaVuSans-31\"/>\r\n       <use x=\"63.623047\" xlink:href=\"#DejaVuSans-35\"/>\r\n      </g>\r\n     </g>\r\n    </g>\r\n    <g id=\"xtick_3\">\r\n     <g id=\"line2d_3\">\r\n      <g>\r\n       <use style=\"stroke:#000000;stroke-width:0.8;\" x=\"229.682118\" xlink:href=\"#m4f5866c0a0\" y=\"228.316186\"/>\r\n      </g>\r\n     </g>\r\n     <g id=\"text_3\">\r\n      <!-- 20 -->\r\n      <g transform=\"translate(223.319618 242.914623)scale(0.1 -0.1)\">\r\n       <defs>\r\n        <path d=\"M 1228 531 \r\nL 3431 531 \r\nL 3431 0 \r\nL 469 0 \r\nL 469 531 \r\nQ 828 903 1448 1529 \r\nQ 2069 2156 2228 2338 \r\nQ 2531 2678 2651 2914 \r\nQ 2772 3150 2772 3378 \r\nQ 2772 3750 2511 3984 \r\nQ 2250 4219 1831 4219 \r\nQ 1534 4219 1204 4116 \r\nQ 875 4013 500 3803 \r\nL 500 4441 \r\nQ 881 4594 1212 4672 \r\nQ 1544 4750 1819 4750 \r\nQ 2544 4750 2975 4387 \r\nQ 3406 4025 3406 3419 \r\nQ 3406 3131 3298 2873 \r\nQ 3191 2616 2906 2266 \r\nQ 2828 2175 2409 1742 \r\nQ 1991 1309 1228 531 \r\nz\r\n\" id=\"DejaVuSans-32\" transform=\"scale(0.015625)\"/>\r\n       </defs>\r\n       <use xlink:href=\"#DejaVuSans-32\"/>\r\n       <use x=\"63.623047\" xlink:href=\"#DejaVuSans-30\"/>\r\n      </g>\r\n     </g>\r\n    </g>\r\n    <g id=\"xtick_4\">\r\n     <g id=\"line2d_4\">\r\n      <g>\r\n       <use style=\"stroke:#000000;stroke-width:0.8;\" x=\"301.707211\" xlink:href=\"#m4f5866c0a0\" y=\"228.316186\"/>\r\n      </g>\r\n     </g>\r\n     <g id=\"text_4\">\r\n      <!-- 25 -->\r\n      <g transform=\"translate(295.344711 242.914623)scale(0.1 -0.1)\">\r\n       <use xlink:href=\"#DejaVuSans-32\"/>\r\n       <use x=\"63.623047\" xlink:href=\"#DejaVuSans-35\"/>\r\n      </g>\r\n     </g>\r\n    </g>\r\n   </g>\r\n   <g id=\"matplotlib.axis_2\">\r\n    <g id=\"ytick_1\">\r\n     <g id=\"line2d_5\">\r\n      <defs>\r\n       <path d=\"M 0 0 \r\nL -3.5 0 \r\n\" id=\"me2097d981f\" style=\"stroke:#000000;stroke-width:0.8;\"/>\r\n      </defs>\r\n      <g>\r\n       <use style=\"stroke:#000000;stroke-width:0.8;\" x=\"26.925\" xlink:href=\"#me2097d981f\" y=\"216.053915\"/>\r\n      </g>\r\n     </g>\r\n     <g id=\"text_5\">\r\n      <!-- 10 -->\r\n      <g transform=\"translate(7.2 219.853134)scale(0.1 -0.1)\">\r\n       <use xlink:href=\"#DejaVuSans-31\"/>\r\n       <use x=\"63.623047\" xlink:href=\"#DejaVuSans-30\"/>\r\n      </g>\r\n     </g>\r\n    </g>\r\n    <g id=\"ytick_2\">\r\n     <g id=\"line2d_6\">\r\n      <g>\r\n       <use style=\"stroke:#000000;stroke-width:0.8;\" x=\"26.925\" xlink:href=\"#me2097d981f\" y=\"175.042976\"/>\r\n      </g>\r\n     </g>\r\n     <g id=\"text_6\">\r\n      <!-- 15 -->\r\n      <g transform=\"translate(7.2 178.842195)scale(0.1 -0.1)\">\r\n       <use xlink:href=\"#DejaVuSans-31\"/>\r\n       <use x=\"63.623047\" xlink:href=\"#DejaVuSans-35\"/>\r\n      </g>\r\n     </g>\r\n    </g>\r\n    <g id=\"ytick_3\">\r\n     <g id=\"line2d_7\">\r\n      <g>\r\n       <use style=\"stroke:#000000;stroke-width:0.8;\" x=\"26.925\" xlink:href=\"#me2097d981f\" y=\"134.032037\"/>\r\n      </g>\r\n     </g>\r\n     <g id=\"text_7\">\r\n      <!-- 20 -->\r\n      <g transform=\"translate(7.2 137.831255)scale(0.1 -0.1)\">\r\n       <use xlink:href=\"#DejaVuSans-32\"/>\r\n       <use x=\"63.623047\" xlink:href=\"#DejaVuSans-30\"/>\r\n      </g>\r\n     </g>\r\n    </g>\r\n    <g id=\"ytick_4\">\r\n     <g id=\"line2d_8\">\r\n      <g>\r\n       <use style=\"stroke:#000000;stroke-width:0.8;\" x=\"26.925\" xlink:href=\"#me2097d981f\" y=\"93.021097\"/>\r\n      </g>\r\n     </g>\r\n     <g id=\"text_8\">\r\n      <!-- 25 -->\r\n      <g transform=\"translate(7.2 96.820316)scale(0.1 -0.1)\">\r\n       <use xlink:href=\"#DejaVuSans-32\"/>\r\n       <use x=\"63.623047\" xlink:href=\"#DejaVuSans-35\"/>\r\n      </g>\r\n     </g>\r\n    </g>\r\n    <g id=\"ytick_5\">\r\n     <g id=\"line2d_9\">\r\n      <g>\r\n       <use style=\"stroke:#000000;stroke-width:0.8;\" x=\"26.925\" xlink:href=\"#me2097d981f\" y=\"52.010158\"/>\r\n      </g>\r\n     </g>\r\n     <g id=\"text_9\">\r\n      <!-- 30 -->\r\n      <g transform=\"translate(7.2 55.809377)scale(0.1 -0.1)\">\r\n       <defs>\r\n        <path d=\"M 2597 2516 \r\nQ 3050 2419 3304 2112 \r\nQ 3559 1806 3559 1356 \r\nQ 3559 666 3084 287 \r\nQ 2609 -91 1734 -91 \r\nQ 1441 -91 1130 -33 \r\nQ 819 25 488 141 \r\nL 488 750 \r\nQ 750 597 1062 519 \r\nQ 1375 441 1716 441 \r\nQ 2309 441 2620 675 \r\nQ 2931 909 2931 1356 \r\nQ 2931 1769 2642 2001 \r\nQ 2353 2234 1838 2234 \r\nL 1294 2234 \r\nL 1294 2753 \r\nL 1863 2753 \r\nQ 2328 2753 2575 2939 \r\nQ 2822 3125 2822 3475 \r\nQ 2822 3834 2567 4026 \r\nQ 2313 4219 1838 4219 \r\nQ 1578 4219 1281 4162 \r\nQ 984 4106 628 3988 \r\nL 628 4550 \r\nQ 988 4650 1302 4700 \r\nQ 1616 4750 1894 4750 \r\nQ 2613 4750 3031 4423 \r\nQ 3450 4097 3450 3541 \r\nQ 3450 3153 3228 2886 \r\nQ 3006 2619 2597 2516 \r\nz\r\n\" id=\"DejaVuSans-33\" transform=\"scale(0.015625)\"/>\r\n       </defs>\r\n       <use xlink:href=\"#DejaVuSans-33\"/>\r\n       <use x=\"63.623047\" xlink:href=\"#DejaVuSans-30\"/>\r\n      </g>\r\n     </g>\r\n    </g>\r\n    <g id=\"ytick_6\">\r\n     <g id=\"line2d_10\">\r\n      <g>\r\n       <use style=\"stroke:#000000;stroke-width:0.8;\" x=\"26.925\" xlink:href=\"#me2097d981f\" y=\"10.999219\"/>\r\n      </g>\r\n     </g>\r\n     <g id=\"text_10\">\r\n      <!-- 35 -->\r\n      <g transform=\"translate(7.2 14.798438)scale(0.1 -0.1)\">\r\n       <use xlink:href=\"#DejaVuSans-33\"/>\r\n       <use x=\"63.623047\" xlink:href=\"#DejaVuSans-35\"/>\r\n      </g>\r\n     </g>\r\n    </g>\r\n   </g>\r\n   <g id=\"patch_3\">\r\n    <path d=\"M 26.925 228.316186 \r\nL 26.925 10.876186 \r\n\" style=\"fill:none;stroke:#000000;stroke-linecap:square;stroke-linejoin:miter;stroke-width:0.8;\"/>\r\n   </g>\r\n   <g id=\"patch_4\">\r\n    <path d=\"M 361.725 228.316186 \r\nL 361.725 10.876186 \r\n\" style=\"fill:none;stroke:#000000;stroke-linecap:square;stroke-linejoin:miter;stroke-width:0.8;\"/>\r\n   </g>\r\n   <g id=\"patch_5\">\r\n    <path d=\"M 26.925 228.316186 \r\nL 361.725 228.316186 \r\n\" style=\"fill:none;stroke:#000000;stroke-linecap:square;stroke-linejoin:miter;stroke-width:0.8;\"/>\r\n   </g>\r\n   <g id=\"patch_6\">\r\n    <path d=\"M 26.925 10.876186 \r\nL 361.725 10.876186 \r\n\" style=\"fill:none;stroke:#000000;stroke-linecap:square;stroke-linejoin:miter;stroke-width:0.8;\"/>\r\n   </g>\r\n   <g id=\"legend_1\">\r\n    <g id=\"patch_7\">\r\n     <path d=\"M 278.9875 48.232436 \r\nL 354.725 48.232436 \r\nQ 356.725 48.232436 356.725 46.232436 \r\nL 356.725 17.876186 \r\nQ 356.725 15.876186 354.725 15.876186 \r\nL 278.9875 15.876186 \r\nQ 276.9875 15.876186 276.9875 17.876186 \r\nL 276.9875 46.232436 \r\nQ 276.9875 48.232436 278.9875 48.232436 \r\nz\r\n\" style=\"fill:#ffffff;opacity:0.8;stroke:#cccccc;stroke-linejoin:miter;\"/>\r\n    </g>\r\n    <g id=\"PathCollection_3\">\r\n     <g>\r\n      <use style=\"fill:#808080;fill-opacity:0.7;stroke:#000000;stroke-opacity:0.7;\" x=\"290.9875\" xlink:href=\"#m6cc0054821\" y=\"24.849623\"/>\r\n     </g>\r\n    </g>\r\n    <g id=\"text_11\">\r\n     <!-- negative -->\r\n     <g transform=\"translate(308.9875 27.474623)scale(0.1 -0.1)\">\r\n      <defs>\r\n       <path d=\"M 3513 2113 \r\nL 3513 0 \r\nL 2938 0 \r\nL 2938 2094 \r\nQ 2938 2591 2744 2837 \r\nQ 2550 3084 2163 3084 \r\nQ 1697 3084 1428 2787 \r\nQ 1159 2491 1159 1978 \r\nL 1159 0 \r\nL 581 0 \r\nL 581 3500 \r\nL 1159 3500 \r\nL 1159 2956 \r\nQ 1366 3272 1645 3428 \r\nQ 1925 3584 2291 3584 \r\nQ 2894 3584 3203 3211 \r\nQ 3513 2838 3513 2113 \r\nz\r\n\" id=\"DejaVuSans-6e\" transform=\"scale(0.015625)\"/>\r\n       <path d=\"M 3597 1894 \r\nL 3597 1613 \r\nL 953 1613 \r\nQ 991 1019 1311 708 \r\nQ 1631 397 2203 397 \r\nQ 2534 397 2845 478 \r\nQ 3156 559 3463 722 \r\nL 3463 178 \r\nQ 3153 47 2828 -22 \r\nQ 2503 -91 2169 -91 \r\nQ 1331 -91 842 396 \r\nQ 353 884 353 1716 \r\nQ 353 2575 817 3079 \r\nQ 1281 3584 2069 3584 \r\nQ 2775 3584 3186 3129 \r\nQ 3597 2675 3597 1894 \r\nz\r\nM 3022 2063 \r\nQ 3016 2534 2758 2815 \r\nQ 2500 3097 2075 3097 \r\nQ 1594 3097 1305 2825 \r\nQ 1016 2553 972 2059 \r\nL 3022 2063 \r\nz\r\n\" id=\"DejaVuSans-65\" transform=\"scale(0.015625)\"/>\r\n       <path d=\"M 2906 1791 \r\nQ 2906 2416 2648 2759 \r\nQ 2391 3103 1925 3103 \r\nQ 1463 3103 1205 2759 \r\nQ 947 2416 947 1791 \r\nQ 947 1169 1205 825 \r\nQ 1463 481 1925 481 \r\nQ 2391 481 2648 825 \r\nQ 2906 1169 2906 1791 \r\nz\r\nM 3481 434 \r\nQ 3481 -459 3084 -895 \r\nQ 2688 -1331 1869 -1331 \r\nQ 1566 -1331 1297 -1286 \r\nQ 1028 -1241 775 -1147 \r\nL 775 -588 \r\nQ 1028 -725 1275 -790 \r\nQ 1522 -856 1778 -856 \r\nQ 2344 -856 2625 -561 \r\nQ 2906 -266 2906 331 \r\nL 2906 616 \r\nQ 2728 306 2450 153 \r\nQ 2172 0 1784 0 \r\nQ 1141 0 747 490 \r\nQ 353 981 353 1791 \r\nQ 353 2603 747 3093 \r\nQ 1141 3584 1784 3584 \r\nQ 2172 3584 2450 3431 \r\nQ 2728 3278 2906 2969 \r\nL 2906 3500 \r\nL 3481 3500 \r\nL 3481 434 \r\nz\r\n\" id=\"DejaVuSans-67\" transform=\"scale(0.015625)\"/>\r\n       <path d=\"M 2194 1759 \r\nQ 1497 1759 1228 1600 \r\nQ 959 1441 959 1056 \r\nQ 959 750 1161 570 \r\nQ 1363 391 1709 391 \r\nQ 2188 391 2477 730 \r\nQ 2766 1069 2766 1631 \r\nL 2766 1759 \r\nL 2194 1759 \r\nz\r\nM 3341 1997 \r\nL 3341 0 \r\nL 2766 0 \r\nL 2766 531 \r\nQ 2569 213 2275 61 \r\nQ 1981 -91 1556 -91 \r\nQ 1019 -91 701 211 \r\nQ 384 513 384 1019 \r\nQ 384 1609 779 1909 \r\nQ 1175 2209 1959 2209 \r\nL 2766 2209 \r\nL 2766 2266 \r\nQ 2766 2663 2505 2880 \r\nQ 2244 3097 1772 3097 \r\nQ 1472 3097 1187 3025 \r\nQ 903 2953 641 2809 \r\nL 641 3341 \r\nQ 956 3463 1253 3523 \r\nQ 1550 3584 1831 3584 \r\nQ 2591 3584 2966 3190 \r\nQ 3341 2797 3341 1997 \r\nz\r\n\" id=\"DejaVuSans-61\" transform=\"scale(0.015625)\"/>\r\n       <path d=\"M 1172 4494 \r\nL 1172 3500 \r\nL 2356 3500 \r\nL 2356 3053 \r\nL 1172 3053 \r\nL 1172 1153 \r\nQ 1172 725 1289 603 \r\nQ 1406 481 1766 481 \r\nL 2356 481 \r\nL 2356 0 \r\nL 1766 0 \r\nQ 1100 0 847 248 \r\nQ 594 497 594 1153 \r\nL 594 3053 \r\nL 172 3053 \r\nL 172 3500 \r\nL 594 3500 \r\nL 594 4494 \r\nL 1172 4494 \r\nz\r\n\" id=\"DejaVuSans-74\" transform=\"scale(0.015625)\"/>\r\n       <path d=\"M 603 3500 \r\nL 1178 3500 \r\nL 1178 0 \r\nL 603 0 \r\nL 603 3500 \r\nz\r\nM 603 4863 \r\nL 1178 4863 \r\nL 1178 4134 \r\nL 603 4134 \r\nL 603 4863 \r\nz\r\n\" id=\"DejaVuSans-69\" transform=\"scale(0.015625)\"/>\r\n       <path d=\"M 191 3500 \r\nL 800 3500 \r\nL 1894 563 \r\nL 2988 3500 \r\nL 3597 3500 \r\nL 2284 0 \r\nL 1503 0 \r\nL 191 3500 \r\nz\r\n\" id=\"DejaVuSans-76\" transform=\"scale(0.015625)\"/>\r\n      </defs>\r\n      <use xlink:href=\"#DejaVuSans-6e\"/>\r\n      <use x=\"63.378906\" xlink:href=\"#DejaVuSans-65\"/>\r\n      <use x=\"124.902344\" xlink:href=\"#DejaVuSans-67\"/>\r\n      <use x=\"188.378906\" xlink:href=\"#DejaVuSans-61\"/>\r\n      <use x=\"249.658203\" xlink:href=\"#DejaVuSans-74\"/>\r\n      <use x=\"288.867188\" xlink:href=\"#DejaVuSans-69\"/>\r\n      <use x=\"316.650391\" xlink:href=\"#DejaVuSans-76\"/>\r\n      <use x=\"375.830078\" xlink:href=\"#DejaVuSans-65\"/>\r\n     </g>\r\n    </g>\r\n    <g id=\"PathCollection_4\">\r\n     <g>\r\n      <use style=\"fill:#ffa500;fill-opacity:0.7;stroke:#000000;stroke-opacity:0.7;\" x=\"290.9875\" xlink:href=\"#md38d5c2950\" y=\"39.527748\"/>\r\n     </g>\r\n    </g>\r\n    <g id=\"text_12\">\r\n     <!-- positive -->\r\n     <g transform=\"translate(308.9875 42.152748)scale(0.1 -0.1)\">\r\n      <defs>\r\n       <path d=\"M 1159 525 \r\nL 1159 -1331 \r\nL 581 -1331 \r\nL 581 3500 \r\nL 1159 3500 \r\nL 1159 2969 \r\nQ 1341 3281 1617 3432 \r\nQ 1894 3584 2278 3584 \r\nQ 2916 3584 3314 3078 \r\nQ 3713 2572 3713 1747 \r\nQ 3713 922 3314 415 \r\nQ 2916 -91 2278 -91 \r\nQ 1894 -91 1617 61 \r\nQ 1341 213 1159 525 \r\nz\r\nM 3116 1747 \r\nQ 3116 2381 2855 2742 \r\nQ 2594 3103 2138 3103 \r\nQ 1681 3103 1420 2742 \r\nQ 1159 2381 1159 1747 \r\nQ 1159 1113 1420 752 \r\nQ 1681 391 2138 391 \r\nQ 2594 391 2855 752 \r\nQ 3116 1113 3116 1747 \r\nz\r\n\" id=\"DejaVuSans-70\" transform=\"scale(0.015625)\"/>\r\n       <path d=\"M 1959 3097 \r\nQ 1497 3097 1228 2736 \r\nQ 959 2375 959 1747 \r\nQ 959 1119 1226 758 \r\nQ 1494 397 1959 397 \r\nQ 2419 397 2687 759 \r\nQ 2956 1122 2956 1747 \r\nQ 2956 2369 2687 2733 \r\nQ 2419 3097 1959 3097 \r\nz\r\nM 1959 3584 \r\nQ 2709 3584 3137 3096 \r\nQ 3566 2609 3566 1747 \r\nQ 3566 888 3137 398 \r\nQ 2709 -91 1959 -91 \r\nQ 1206 -91 779 398 \r\nQ 353 888 353 1747 \r\nQ 353 2609 779 3096 \r\nQ 1206 3584 1959 3584 \r\nz\r\n\" id=\"DejaVuSans-6f\" transform=\"scale(0.015625)\"/>\r\n       <path d=\"M 2834 3397 \r\nL 2834 2853 \r\nQ 2591 2978 2328 3040 \r\nQ 2066 3103 1784 3103 \r\nQ 1356 3103 1142 2972 \r\nQ 928 2841 928 2578 \r\nQ 928 2378 1081 2264 \r\nQ 1234 2150 1697 2047 \r\nL 1894 2003 \r\nQ 2506 1872 2764 1633 \r\nQ 3022 1394 3022 966 \r\nQ 3022 478 2636 193 \r\nQ 2250 -91 1575 -91 \r\nQ 1294 -91 989 -36 \r\nQ 684 19 347 128 \r\nL 347 722 \r\nQ 666 556 975 473 \r\nQ 1284 391 1588 391 \r\nQ 1994 391 2212 530 \r\nQ 2431 669 2431 922 \r\nQ 2431 1156 2273 1281 \r\nQ 2116 1406 1581 1522 \r\nL 1381 1569 \r\nQ 847 1681 609 1914 \r\nQ 372 2147 372 2553 \r\nQ 372 3047 722 3315 \r\nQ 1072 3584 1716 3584 \r\nQ 2034 3584 2315 3537 \r\nQ 2597 3491 2834 3397 \r\nz\r\n\" id=\"DejaVuSans-73\" transform=\"scale(0.015625)\"/>\r\n      </defs>\r\n      <use xlink:href=\"#DejaVuSans-70\"/>\r\n      <use x=\"63.476562\" xlink:href=\"#DejaVuSans-6f\"/>\r\n      <use x=\"124.658203\" xlink:href=\"#DejaVuSans-73\"/>\r\n      <use x=\"176.757812\" xlink:href=\"#DejaVuSans-69\"/>\r\n      <use x=\"204.541016\" xlink:href=\"#DejaVuSans-74\"/>\r\n      <use x=\"243.75\" xlink:href=\"#DejaVuSans-69\"/>\r\n      <use x=\"271.533203\" xlink:href=\"#DejaVuSans-76\"/>\r\n      <use x=\"330.712891\" xlink:href=\"#DejaVuSans-65\"/>\r\n     </g>\r\n    </g>\r\n   </g>\r\n  </g>\r\n </g>\r\n <defs>\r\n  <clipPath id=\"p4cd9407393\">\r\n   <rect height=\"217.44\" width=\"334.8\" x=\"26.925\" y=\"10.876186\"/>\r\n  </clipPath>\r\n </defs>\r\n</svg>\r\n",
      "image/png": "[encoded data removed]"
     },
     "metadata": {
      "needs_background": "light"
     }
    }
   ],
   "metadata": {}
  },
  {
   "cell_type": "markdown",
   "source": [
    "<font color = green>\n",
    "\n",
    "##  XGBoost\n",
    "\n",
    "</font>\n",
    "\n"
   ],
   "metadata": {}
  },
  {
   "cell_type": "code",
   "execution_count": 66,
   "source": [
    "# YOUR_CODE.  create the classifier and train it\r\n",
    "# START_CODE\r\n",
    "XGDC = XGBClassifier(use_label_encoder=False, eval_metric=\"logloss\", n_estimators=100, max_depth=10).fit(\r\n",
    "    X_train, y_train\r\n",
    ")\r\n",
    "# END_CODE\r\n",
    "\r\n",
    "print(f\"train accuracy = {XGDC.score(X_train, y_train)}\")\r\n",
    "print(f\"test accuracy = {XGDC.score(X_test, y_test)}\")\r\n",
    "\r\n",
    "# help(XGBClassifier)"
   ],
   "outputs": [
    {
     "output_type": "stream",
     "name": "stdout",
     "text": [
      "train accuracy = 1.0\n",
      "test accuracy = 0.986013986013986\n"
     ]
    }
   ],
   "metadata": {}
  }
 ],
 "metadata": {
  "kernelspec": {
   "name": "python3",
   "display_name": "Python 3.9.0 64-bit ('venv': venv)"
  },
  "language_info": {
   "codemirror_mode": {
    "name": "ipython",
    "version": 3
   },
   "file_extension": ".py",
   "mimetype": "text/x-python",
   "name": "python",
   "nbconvert_exporter": "python",
   "pygments_lexer": "ipython3",
   "version": "3.9.0"
  },
  "interpreter": {
   "hash": "a644b8d01e314bf6d392f15769f54bb53aa3d0b315410269d6db476e15e0226c"
  }
 },
 "nbformat": 4,
 "nbformat_minor": 2
}