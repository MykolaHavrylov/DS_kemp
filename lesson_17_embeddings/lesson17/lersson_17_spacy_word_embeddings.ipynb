{
 "cells": [
  {
   "cell_type": "markdown",
   "source": [
    "# Spacy"
   ],
   "metadata": {}
  },
  {
   "cell_type": "markdown",
   "source": [
    "spaCy is a free, open-source library for advanced Natural Language Processing (NLP) in Python.\n",
    "\n",
    "If you’re working with a lot of text, you’ll eventually want to know more about it. For example, what’s it about? What do the words mean in context? Who is doing what to whom? What companies and products are mentioned? Which texts are similar to each other?\n",
    "\n",
    "spaCy is designed specifically for production use and helps you build applications that process and “understand” large volumes of text. It can be used to build information extraction or natural language understanding systems, or to pre-process text for deep learning."
   ],
   "metadata": {}
  },
  {
   "cell_type": "markdown",
   "source": [
    "### Features\n",
    "\n",
    "| NAME                              | DESCRIPTION                                                                                                        |\n",
    "|-----------------------------------|--------------------------------------------------------------------------------------------------------------------|\n",
    "| Tokenization                      | Segmenting text into words, punctuations marks etc.                                                                |\n",
    "| Part-of-speech (POS) Tagging      | Assigning word types to tokens, like verb or noun.                                                                 |\n",
    "| Dependency Parsing                | Assigning syntactic dependency labels, describing the relations between individual tokens, like subject or object. |\n",
    "| Lemmatization                     | Assigning the base forms of words. For example, the lemma of “was” is “be”, and the lemma of “rats” is “rat”.      |\n",
    "| Sentence Boundary Detection (SBD) | Finding and segmenting individual sentences.                                                                       |\n",
    "| Named Entity Recognition (NER)    | Labelling named “real-world” objects, like persons, companies or locations.                                        |\n",
    "| Entity Linking (EL)               | Disambiguating textual entities to unique identifiers in a knowledge base.                                         |\n",
    "| Similarity                        | Comparing words, text spans and documents and how similar they are to each other.                                  |\n",
    "| Text Classification               | Assigning categories or labels to a whole document, or parts of a document.                                        |\n",
    "| Rule-based Matching               | Finding sequences of tokens based on their texts and linguistic annotations, similar to regular expressions.       |\n",
    "| Training                          | Updating and improving a statistical model’s predictions.                                                          |\n",
    "| Serialization                     | Saving objects to files or byte strings.                                                                           |"
   ],
   "metadata": {}
  },
  {
   "cell_type": "code",
   "execution_count": 15,
   "source": [
    "import spacy"
   ],
   "outputs": [],
   "metadata": {}
  },
  {
   "cell_type": "markdown",
   "source": [
    "### Downloading models\n",
    "\n",
    "https://spacy.io/usage/models"
   ],
   "metadata": {}
  },
  {
   "cell_type": "code",
   "execution_count": null,
   "source": [
    "# !python -m spacy download en_core_web_lg\r\n",
    "# or you can use this solution from StackOverflow - https://stackoverflow.com/questions/55742788/ssl-certificate-verify-failed-error-while-downloading-python-m-spacy-download"
   ],
   "outputs": [],
   "metadata": {}
  },
  {
   "cell_type": "markdown",
   "source": [
    "### Creating nlp pipeline\n",
    "\n",
    "At the center of spaCy is the object containing the processing pipeline. We usually call this variable \"nlp\". You can use the nlp object like a function to analyze text.It contains all the different components in the pipeline.\n",
    "It also includes language-specific rules used for tokenizing the text into words and punctuation. spaCy supports a variety of languages that are available in spacy.lang"
   ],
   "metadata": {}
  },
  {
   "cell_type": "code",
   "execution_count": 17,
   "source": [
    "import en_core_web_sm as en_core\r\n",
    "nlp = en_core.load()"
   ],
   "outputs": [],
   "metadata": {}
  },
  {
   "cell_type": "code",
   "execution_count": 18,
   "source": [
    "nlp.pipe_names"
   ],
   "outputs": [
    {
     "output_type": "execute_result",
     "data": {
      "text/plain": [
       "['tok2vec', 'tagger', 'parser', 'attribute_ruler', 'lemmatizer', 'ner']"
      ]
     },
     "metadata": {},
     "execution_count": 18
    }
   ],
   "metadata": {}
  },
  {
   "cell_type": "markdown",
   "source": [
    "### The Doc object\n",
    "\n",
    "When you process a text with the nlp object, spaCy creates a Doc object – short for \"document\". The Doc lets you access information about the text in a structured way, and no information is lost.\n",
    "The Doc behaves like a normal Python sequence by the way and lets you iterate over its tokens, or get a token by its index. But more on that later!"
   ],
   "metadata": {}
  },
  {
   "cell_type": "code",
   "execution_count": 19,
   "source": [
    "# Created by processing a string of text with the nlp object\r\n",
    "doc = nlp(\"Apple is looking at buying U.K. startup for $1 billion\")\r\n",
    "\r\n",
    "# Iterate over tokens in a Doc\r\n",
    "for token in doc:\r\n",
    "    print(token.text)\r\n",
    "    \r\n",
    "print(type(doc))\r\n",
    "doc"
   ],
   "outputs": [
    {
     "output_type": "stream",
     "name": "stdout",
     "text": [
      "Apple\n",
      "is\n",
      "looking\n",
      "at\n",
      "buying\n",
      "U.K.\n",
      "startup\n",
      "for\n",
      "$\n",
      "1\n",
      "billion\n",
      "<class 'spacy.tokens.doc.Doc'>\n"
     ]
    },
    {
     "output_type": "execute_result",
     "data": {
      "text/plain": [
       "Apple is looking at buying U.K. startup for $1 billion"
      ]
     },
     "metadata": {},
     "execution_count": 19
    }
   ],
   "metadata": {}
  },
  {
   "cell_type": "markdown",
   "source": [
    "### The Token object\n",
    "\n",
    "Token objects represent the tokens in a document – for example, a word or a punctuation character.\n",
    "To get a token at a specific position, you can index into the doc.\n",
    "Token objects also provide various attributes that let you access more information about the tokens. For example, the .text attribute returns the verbatim token text.\n",
    "\n",
    "<img src=\"./img/spacy1.png\">"
   ],
   "metadata": {}
  },
  {
   "cell_type": "code",
   "execution_count": 20,
   "source": [
    "doc = nlp(\"Apple is looking at buying U.K. startup for $1 billion\")\r\n",
    "\r\n",
    "# Index into the Doc to get a single Token\r\n",
    "token = doc[2]\r\n",
    "\r\n",
    "# Get the token text via the .text attribute\r\n",
    "print(token.text)"
   ],
   "outputs": [
    {
     "output_type": "stream",
     "name": "stdout",
     "text": [
      "looking\n"
     ]
    }
   ],
   "metadata": {}
  },
  {
   "cell_type": "markdown",
   "source": [
    "### Tokenization\n",
    "Segment text into words, punctuations marks, etc.\n"
   ],
   "metadata": {}
  },
  {
   "cell_type": "code",
   "execution_count": 21,
   "source": [
    "tokens = nlp.tokenizer(\"\"\"\r\n",
    "Tokenization segments text into words, punctuations marks, etc. \r\n",
    "It is smarter than regex. \r\n",
    "It won't split the U.K. for example.\r\n",
    "\"\"\")\r\n",
    "list(tokens)"
   ],
   "outputs": [
    {
     "output_type": "execute_result",
     "data": {
      "text/plain": [
       "[,\n",
       " Tokenization,\n",
       " segments,\n",
       " text,\n",
       " into,\n",
       " words,\n",
       " ,,\n",
       " punctuations,\n",
       " marks,\n",
       " ,,\n",
       " etc,\n",
       " .,\n",
       " ,\n",
       " It,\n",
       " is,\n",
       " smarter,\n",
       " than,\n",
       " regex,\n",
       " .,\n",
       " ,\n",
       " It,\n",
       " wo,\n",
       " n't,\n",
       " split,\n",
       " the,\n",
       " U.K.,\n",
       " for,\n",
       " example,\n",
       " .,\n",
       " ]"
      ]
     },
     "metadata": {},
     "execution_count": 21
    }
   ],
   "metadata": {}
  },
  {
   "cell_type": "markdown",
   "source": [
    "### POS tagging\n",
    "\n",
    "\n",
    "For each token in the doc, we can print the text and the .pos_ attribute, the predicted part-of-speech tag.\n"
   ],
   "metadata": {}
  },
  {
   "cell_type": "code",
   "execution_count": 27,
   "source": [
    "doc = nlp(\"She ate the pizza. Billion is a number\")\r\n",
    "\r\n",
    "# Iterate over the tokens\r\n",
    "for token in doc:\r\n",
    "    # Print the text and the predicted part-of-speech tag\r\n",
    "    print(token.text, token.pos_)"
   ],
   "outputs": [
    {
     "output_type": "stream",
     "name": "stdout",
     "text": [
      "She PRON\n",
      "ate VERB\n",
      "the DET\n",
      "pizza NOUN\n",
      ". PUNCT\n",
      "Billion NUM\n",
      "is AUX\n",
      "a DET\n",
      "number NOUN\n"
     ]
    }
   ],
   "metadata": {}
  },
  {
   "cell_type": "markdown",
   "source": [
    "### Predicting Syntactic Dependencies\n",
    "In addition to the part-of-speech tags, we can also predict how the words are related. For example, whether a word is the subject of the sentence or an object.\n",
    "\n",
    "The .dep_ attribute returns the predicted dependency label.\n",
    "\n",
    "The .head attribute returns the syntactic head token. You can also think of it as the parent token this word is attached to.\n",
    "\n",
    "<img src=\"img/1.png\">"
   ],
   "metadata": {}
  },
  {
   "cell_type": "code",
   "execution_count": 28,
   "source": [
    "doc = nlp(\"She ate the pizza\")\r\n",
    "\r\n",
    "for token in doc:\r\n",
    "    print(token.text, token.pos_, token.dep_, token.head.text)"
   ],
   "outputs": [
    {
     "output_type": "stream",
     "name": "stdout",
     "text": [
      "She PRON nsubj ate\n",
      "ate VERB ROOT ate\n",
      "the DET det pizza\n",
      "pizza NOUN dobj ate\n"
     ]
    }
   ],
   "metadata": {}
  },
  {
   "cell_type": "markdown",
   "source": [
    "### Lemmatization"
   ],
   "metadata": {}
  },
  {
   "cell_type": "code",
   "execution_count": 29,
   "source": [
    "doc = nlp(\"Apple is looking at buying U.K. startup for 1 billion of dollars\")\r\n",
    "\r\n",
    "for token in doc:\r\n",
    "    print(token.text, token.lemma_)"
   ],
   "outputs": [
    {
     "output_type": "stream",
     "name": "stdout",
     "text": [
      "Apple Apple\n",
      "is be\n",
      "looking look\n",
      "at at\n",
      "buying buy\n",
      "U.K. U.K.\n",
      "startup startup\n",
      "for for\n",
      "1 1\n",
      "billion billion\n",
      "of of\n",
      "dollars dollar\n"
     ]
    }
   ],
   "metadata": {}
  },
  {
   "cell_type": "markdown",
   "source": [
    "### Named Entity Recognition"
   ],
   "metadata": {}
  },
  {
   "cell_type": "code",
   "execution_count": 30,
   "source": [
    "doc = nlp(\"Apple is looking at buying U.K. startup for $1 billion\")\r\n",
    "\r\n",
    "# Iterate over the predicted entities\r\n",
    "for ent in doc.ents:\r\n",
    "    # Print the entity text and its label\r\n",
    "    print(ent.text, ent.label_)"
   ],
   "outputs": [
    {
     "output_type": "stream",
     "name": "stdout",
     "text": [
      "Apple ORG\n",
      "U.K. GPE\n",
      "$1 billion MONEY\n"
     ]
    }
   ],
   "metadata": {}
  },
  {
   "cell_type": "markdown",
   "source": [
    "#### Hint: Spacy Explain\n",
    "To get definitions for the most common tags and labels, you can use the spacy.explain helper function.\n",
    "\n",
    "For example, \"GPE\" for geopolitical entity isn't exactly intuitive – but spacy.explain can tell you that it refers to countries, cities and states.\n",
    "\n",
    "The same works for part-of-speech tags and dependency labels."
   ],
   "metadata": {}
  },
  {
   "cell_type": "code",
   "execution_count": 31,
   "source": [
    "print(spacy.explain(\"GPE\"))\r\n",
    "print(spacy.explain(\"nsubj\"))\r\n",
    "print(spacy.explain(\"DET\"))"
   ],
   "outputs": [
    {
     "output_type": "stream",
     "name": "stdout",
     "text": [
      "Countries, cities, states\n",
      "nominal subject\n",
      "determiner\n"
     ]
    }
   ],
   "metadata": {}
  },
  {
   "cell_type": "markdown",
   "source": [
    "# Semantic Similarity"
   ],
   "metadata": {}
  },
  {
   "cell_type": "markdown",
   "source": [
    "spaCy can compare two objects and predict how similar they are – for example, documents, spans or single tokens.\n",
    "\n",
    "The Doc, Token and Span objects have a .similarity method that takes another object and returns a floating point number between 0 and 1, indicating how similar they are.\n",
    "\n",
    "One thing that's very important: In order to use similarity, you need a larger spaCy model that has word vectors included.\n",
    "\n",
    "By default, the similarity returned by spaCy is the cosine similarity between two vectors – but this can be adjusted if necessary."
   ],
   "metadata": {}
  },
  {
   "cell_type": "code",
   "execution_count": 32,
   "source": [
    "doc1 = nlp(\"I like fast food\")\r\n",
    "doc2 = nlp(\"I like burgers\")\r\n",
    "doc3 = nlp(\"Apple is looking at buying U.K. startup for $1 billion\")\r\n",
    "print(doc1.similarity(doc2))\r\n",
    "print(doc1.similarity(doc3))"
   ],
   "outputs": [
    {
     "output_type": "stream",
     "name": "stdout",
     "text": [
      "0.6477261876711615\n",
      "0.0675420808436206\n"
     ]
    },
    {
     "output_type": "stream",
     "name": "stderr",
     "text": [
      "C:\\Users\\HAVRYL~1.MYK\\AppData\\Local\\Temp/ipykernel_22452/146853182.py:4: UserWarning: [W007] The model you're using has no word vectors loaded, so the result of the Doc.similarity method will be based on the tagger, parser and NER, which may not give useful similarity judgements. This may happen if you're using one of the small models, e.g. `en_core_web_sm`, which don't ship with word vectors and only use context-sensitive tensors. You can always add your own word vectors, or use one of the larger models instead if available.\n",
      "  print(doc1.similarity(doc2))\n",
      "C:\\Users\\HAVRYL~1.MYK\\AppData\\Local\\Temp/ipykernel_22452/146853182.py:5: UserWarning: [W007] The model you're using has no word vectors loaded, so the result of the Doc.similarity method will be based on the tagger, parser and NER, which may not give useful similarity judgements. This may happen if you're using one of the small models, e.g. `en_core_web_sm`, which don't ship with word vectors and only use context-sensitive tensors. You can always add your own word vectors, or use one of the larger models instead if available.\n",
      "  print(doc1.similarity(doc3))\n"
     ]
    }
   ],
   "metadata": {}
  },
  {
   "cell_type": "markdown",
   "source": [
    "https://spacy.io/usage/spacy-101"
   ],
   "metadata": {}
  },
  {
   "cell_type": "markdown",
   "source": [
    "# Word Embeddings"
   ],
   "metadata": {}
  },
  {
   "cell_type": "markdown",
   "source": [
    "Similarity is determined using word vectors, multi-dimensional representations of meanings of words.\n"
   ],
   "metadata": {}
  },
  {
   "cell_type": "markdown",
   "source": [
    "## Word representation\n",
    "\n",
    "Recall onehot  representation\n",
    "\n",
    "$$boy \\qquad \\qquad \\, girl\\quad \\qquad \\quad apple\\qquad \\quad orange\\qquad \\qquad king\\qquad \\qquad queen\\qquad \\qquad\\\\ \\begin{bmatrix} 0 \\\\ \\vdots  \\\\ 0 \\\\ 1 \\\\ 0 \\\\ \\quad  \\\\ \\vdots  \\\\ \\quad  \\\\ \\quad  \\\\ \\quad  \\\\ 0 \\end{bmatrix}\\begin{matrix} \\quad  \\\\ \\leftarrow 1458 \\\\ \\quad  \\\\ \\quad  \\\\ \\quad  \\\\ \\quad  \\\\ \\quad  \\end{matrix}\\begin{bmatrix} 0 \\\\ \\vdots  \\\\ \\quad  \\\\ 0 \\\\ 1 \\\\ 0 \\\\ \\vdots  \\\\ \\quad  \\\\ \\quad  \\\\ \\quad  \\\\ 0 \\end{bmatrix}\\begin{matrix} \\quad  \\\\ \\quad  \\\\ \\leftarrow 3945 \\\\ \\quad  \\\\ \\quad  \\\\ \\quad  \\\\ \\quad  \\end{matrix}\\begin{bmatrix} 0 \\\\ \\vdots  \\\\ 1 \\\\ 0 \\\\ 1 \\\\ 0 \\\\ \\vdots  \\\\ \\quad  \\\\ \\quad  \\\\ \\quad  \\\\ 0 \\end{bmatrix}\\begin{matrix} \\leftarrow 472 \\\\ \\quad  \\\\ \\quad  \\\\ \\quad  \\\\ \\quad  \\\\ \\quad  \\\\ \\quad  \\end{matrix}\\begin{bmatrix} 0 \\\\ \\quad  \\\\ \\quad  \\\\ \\quad  \\\\ \\vdots  \\\\ \\quad  \\\\ \\quad  \\\\ 1 \\\\ 0 \\\\ \\vdots  \\\\ 0 \\end{bmatrix}\\begin{matrix} \\quad  \\\\ \\quad  \\\\ \\quad  \\\\ \\quad  \\\\ \\quad  \\\\ \\leftarrow 6117 \\\\ \\quad  \\end{matrix}\\begin{bmatrix} 0 \\\\ \\quad  \\\\ \\vdots  \\\\ \\quad  \\\\ 0 \\\\ 1 \\\\ 0 \\\\ \\quad  \\\\ \\vdots  \\\\ \\quad  \\\\ 0 \\end{bmatrix}\\begin{matrix} \\quad  \\\\ \\quad  \\\\ \\quad  \\\\ \\leftarrow 4924 \\\\ \\quad  \\\\ \\quad  \\\\ \\quad  \\end{matrix}\\begin{bmatrix} 0 \\\\  \\\\ \\quad  \\\\ \\quad  \\\\ \\vdots  \\\\ \\quad  \\\\ \\quad  \\\\ \\quad  \\\\ 0 \\\\ 1 \\\\ 0 \\end{bmatrix}\\begin{matrix} \\quad  \\\\ \\quad  \\\\ \\quad  \\\\ \\quad  \\\\ \\quad  \\\\ \\quad  \\\\ \\quad  \\\\ \\quad  \\\\ \\quad  \\\\ \\leftarrow 9714\\quad  \\\\ \\quad  \\end{matrix}\\\\ \\quad$$\n",
    "\n",
    "\n",
    "This representation does not provide any relation for similar words e.g. \n",
    "<br>`I like apple juice` and   `I like orange juice` \n"
   ],
   "metadata": {}
  },
  {
   "cell_type": "markdown",
   "source": [
    "The target is to get **vectorized reprezentation** even if vectors are not semantically defined. \n",
    "\n",
    "The target vectors are expected to be similar by cosine similairity for semantically similar words. \n",
    "\n",
    "<img src=\"img/2.png\" align = 'left' style=\"width:350;height:250px;\"> <br>\n",
    "<div style=\"clear:left;\"></div>\n",
    "\n",
    "If model is trained using such vectors then having in traing set $\\quad$ `I like apple` <u><b> juice </b></u>,  <br>  would make easier to predict $\\quad$ <u><b> juice </b></u> $\\quad$ for $\\quad$  `I like orange` <u><b> $\\text{_____}$ </b></u>\n",
    "\n",
    "\n"
   ],
   "metadata": {}
  },
  {
   "cell_type": "markdown",
   "source": [
    "### Spacy"
   ],
   "metadata": {}
  },
  {
   "cell_type": "code",
   "execution_count": 33,
   "source": [
    "doc = nlp(\"I have a banana\")\r\n",
    "# Access the vector via the token.vector attribute\r\n",
    "print(len(doc[3].vector))\r\n",
    "print(doc[3].vector)"
   ],
   "outputs": [
    {
     "output_type": "stream",
     "name": "stdout",
     "text": [
      "96\n",
      "[ 1.2868949  -0.37580478  0.35192424  0.02472803  1.0916173   0.12744403\n",
      " -0.45025137 -0.40566072 -0.07929271 -0.35997683  0.69486505 -0.14444898\n",
      " -0.5457469  -0.21199185 -0.00395466  0.26510966 -0.02309193  0.44272217\n",
      " -0.8433019  -0.53616315 -0.57344437 -0.92420965  1.0345857  -0.01909174\n",
      " -0.55735874 -0.10606457  0.44826138 -0.54513234  0.5885583   0.466133\n",
      " -0.29772    -0.01220599  0.7611908  -0.38411593  1.1384842   0.1040292\n",
      " -0.12090522  0.27323437 -0.43689585  1.3326058  -0.56427586  0.8734101\n",
      " -0.19427884 -0.02952802 -0.17645448  0.0265809   0.62768006  0.20312151\n",
      "  0.797052   -0.4257335   0.5180626   0.54523623 -0.768163   -0.19429046\n",
      " -0.63400364 -0.85872126 -0.17277437  0.06355798 -0.04992509 -0.2616524\n",
      "  0.6773962  -0.30816978 -0.8776865  -0.18645602 -0.7163658  -0.2237041\n",
      " -0.23959604 -0.55977637  0.47821307  0.18350148  0.49204203  0.22139877\n",
      "  0.19211121 -0.37441483 -0.12390439  0.2044624  -0.7130839   0.5278497\n",
      " -0.910792    0.5621485   0.5872704   1.0443746   0.74132264  0.3292628\n",
      " -0.51435983 -0.1861724   0.2681889   0.2849204  -0.46136189 -0.36187166\n",
      " -0.8890067   0.07060423  0.06094409 -0.39638528  0.13924068 -0.41029763]\n"
     ]
    }
   ],
   "metadata": {}
  },
  {
   "cell_type": "markdown",
   "source": [
    "### Word2Vec\n",
    "https://uk.wikipedia.org/wiki/Word2vec\n",
    "\n",
    "The idea behind Word2Vec is pretty simple. We are making and assumption that you can tell the meaning of a word by the company it keeps. This is analogous to the saying show me your friends, and I'll tell who you are. So if you have two words that have very similar neighbors (i.e. the usage context is about the same), then these words are probably quite similar in meaning or are at least highly related. For example, the words shocked,appalled and astonished are typically used in a similar context.\n",
    "\n",
    "In this tutorial, you will learn how to use the Gensim implementation of Word2Vec and actually get it to work! I have heard a lot of complaints about poor performance etc, but its really a combination of two things, (1) your input data and (2) your parameter settings. Note that the training algorithms in this package were ported from the original Word2Vec implementation by Google and extended with additional functionality."
   ],
   "metadata": {}
  },
  {
   "cell_type": "markdown",
   "source": [
    "#### Training word2vec model using gensim"
   ],
   "metadata": {}
  },
  {
   "cell_type": "code",
   "execution_count": 34,
   "source": [
    "import gzip\r\n",
    "import gensim"
   ],
   "outputs": [],
   "metadata": {}
  },
  {
   "cell_type": "markdown",
   "source": [
    "#### Loading data\n"
   ],
   "metadata": {}
  },
  {
   "cell_type": "code",
   "execution_count": 35,
   "source": [
    "input_file = \"./data/reviews_data.txt.gz\"\r\n",
    "\r\n",
    "with gzip.open(input_file, 'rb') as f:\r\n",
    "    for i,line in enumerate (f):\r\n",
    "        print(line)\r\n",
    "        break"
   ],
   "outputs": [
    {
     "output_type": "stream",
     "name": "stdout",
     "text": [
      "b\"Oct 12 2009 \\tNice trendy hotel location not too bad.\\tI stayed in this hotel for one night. As this is a fairly new place some of the taxi drivers did not know where it was and/or did not want to drive there. Once I have eventually arrived at the hotel, I was very pleasantly surprised with the decor of the lobby/ground floor area. It was very stylish and modern. I found the reception's staff geeting me with 'Aloha' a bit out of place, but I guess they are briefed to say that to keep up the coroporate image.As I have a Starwood Preferred Guest member, I was given a small gift upon-check in. It was only a couple of fridge magnets in a gift box, but nevertheless a nice gesture.My room was nice and roomy, there are tea and coffee facilities in each room and you get two complimentary bottles of water plus some toiletries by 'bliss'.The location is not great. It is at the last metro stop and you then need to take a taxi, but if you are not planning on going to see the historic sites in Beijing, then you will be ok.I chose to have some breakfast in the hotel, which was really tasty and there was a good selection of dishes. There are a couple of computers to use in the communal area, as well as a pool table. There is also a small swimming pool and a gym area.I would definitely stay in this hotel again, but only if I did not plan to travel to central Beijing, as it can take a long time. The location is ok if you plan to do a lot of shopping, as there is a big shopping centre just few minutes away from the hotel and there are plenty of eating options around, including restaurants that serve a dog meat!\\t\\r\\n\"\n"
     ]
    }
   ],
   "metadata": {}
  },
  {
   "cell_type": "code",
   "execution_count": 36,
   "source": [
    "def read_input(input_file):\r\n",
    "    \"\"\"This method reads the input file which is in gzip format\"\"\"\r\n",
    "    \r\n",
    "    print(\"reading file {0}...this may take a while\".format(input_file))\r\n",
    "    \r\n",
    "    with gzip.open(input_file, 'rb') as f:\r\n",
    "        for i, line in enumerate (f): \r\n",
    "            if (i%10000==0):\r\n",
    "                print(\"read {0} reviews\".format(i))\r\n",
    "            # do some pre-processing and return a list of words for each review text\r\n",
    "            yield gensim.utils.simple_preprocess(line)\r\n",
    "\r\n",
    "# read the tokenized reviews into a list\r\n",
    "# each review item becomes a serries of words\r\n",
    "# so this becomes a list of lists\r\n",
    "documents = list(read_input(input_file))\r\n",
    "print(\"Done reading data file\")"
   ],
   "outputs": [
    {
     "output_type": "stream",
     "name": "stdout",
     "text": [
      "reading file ./data/reviews_data.txt.gz...this may take a while\n",
      "read 0 reviews\n",
      "read 10000 reviews\n",
      "read 20000 reviews\n",
      "read 30000 reviews\n",
      "read 40000 reviews\n",
      "read 50000 reviews\n",
      "read 60000 reviews\n",
      "read 70000 reviews\n",
      "read 80000 reviews\n",
      "read 90000 reviews\n",
      "read 100000 reviews\n",
      "read 110000 reviews\n",
      "read 120000 reviews\n",
      "read 130000 reviews\n",
      "read 140000 reviews\n",
      "read 150000 reviews\n",
      "read 160000 reviews\n",
      "read 170000 reviews\n",
      "read 180000 reviews\n",
      "read 190000 reviews\n",
      "read 200000 reviews\n",
      "read 210000 reviews\n",
      "read 220000 reviews\n",
      "read 230000 reviews\n",
      "read 240000 reviews\n",
      "read 250000 reviews\n",
      "Done reading data file\n"
     ]
    }
   ],
   "metadata": {}
  },
  {
   "cell_type": "markdown",
   "source": [
    "Training the model is fairly straightforward. You just instantiate Word2Vec and pass the reviews that we read in the previous step (the documents). So, we are essentially passing on a list of lists. Where each list within the main list contains a set of tokens from a user review. Word2Vec uses all these tokens to internally create a vocabulary.\n",
    "\n",
    "After building the vocabulary, we just need to call train(...) to start training the Word2Vec model. Training on the OpinRank dataset takes about 10 minutes so please be patient while running your code on this dataset.\n",
    "\n",
    "<img src=\"img/7.png\">"
   ],
   "metadata": {}
  },
  {
   "cell_type": "code",
   "execution_count": 37,
   "source": [
    "model = gensim.models.Word2Vec(documents, vector_size=150, window=10, min_count=2, workers=24)\r\n",
    "model.train(documents,total_examples=len(documents),epochs=10)"
   ],
   "outputs": [
    {
     "output_type": "execute_result",
     "data": {
      "text/plain": [
       "(303498669, 415193590)"
      ]
     },
     "metadata": {},
     "execution_count": 37
    }
   ],
   "metadata": {}
  },
  {
   "cell_type": "code",
   "execution_count": 38,
   "source": [
    "import pickle\r\n",
    "\r\n",
    "# with open(\"./w2v.model\", \"wb\") as f:\r\n",
    "#     pickle.dump(model, f)\r\n",
    "    \r\n",
    "with open(\"./w2v.model\", \"rb\") as f:\r\n",
    "    model = pickle.load(f)"
   ],
   "outputs": [],
   "metadata": {}
  },
  {
   "cell_type": "code",
   "execution_count": 39,
   "source": [
    "word_v= model.wv.get_vector('hello')\r\n",
    "print(len(word_v))\r\n",
    "print(word_v)"
   ],
   "outputs": [
    {
     "output_type": "stream",
     "name": "stdout",
     "text": [
      "150\n",
      "[-1.3899217  -0.3737228  -2.666311    3.54252     3.2357097   0.20491503\n",
      " -2.1295466   0.54146177 -0.6249488   2.6508749   1.5873171  -5.1272163\n",
      " -3.084422    3.939809   -2.0652852   0.2448739  -0.43315598  0.3170544\n",
      " -2.1743352  -0.57942677 -3.5716836   0.786738   -0.0889107  -3.9856489\n",
      "  2.4038577   6.2939167  -1.6515285  -1.6507418  -0.8590235   4.383898\n",
      "  2.71958    -6.02498    -2.510434    0.84199876 -0.8735189  -2.5513418\n",
      "  2.097896    0.15211919  0.65232474 -2.0750084  -0.25561252  0.5879701\n",
      "  4.7977505  -0.40362814 -1.4729497   4.4881735   3.239752    1.4243891\n",
      " -4.498614    5.750339   -1.8617357  -0.34265506 -2.1606433   5.9471455\n",
      "  1.7514248  -0.6553776  -4.166816   -1.3523401   2.388277    1.7823781\n",
      " -4.9179635  -1.002605    1.7314526   0.05238996 -1.3864789  -4.0298486\n",
      " -2.1944242  -2.126804    1.9887234   0.33664438 -3.884635    0.5266325\n",
      "  1.7292053  -0.43828267 -4.6069155   1.3125004  -1.2170959  -3.6522167\n",
      " -0.3835142  -4.174236    1.0721489   0.41395473 -1.2947817   3.2164288\n",
      "  2.3248062  -1.181893   -1.2563884   3.9561133   1.1716213  -3.6321025\n",
      "  1.6425216  -1.2963842  -3.6846342   0.52681094  0.3774697   3.2039242\n",
      "  1.0571756   0.13866353  2.0685456  -1.8494731  -0.09421885  2.1209035\n",
      " -2.0908813   0.03564257  2.7787275   0.84269893  2.7161937  -0.57248014\n",
      " -2.401758   -2.2186987  -2.7042193   2.1737788  -1.4834505  -1.1735379\n",
      "  1.8907497  -0.41786826 -1.0460123  -1.8682743   0.77331704  0.47429055\n",
      " -0.38386586  4.678882   -5.0225863  -2.2982233  -1.4288104  -4.3230314\n",
      "  3.26564     2.4038477   0.01018189 -1.8920052   0.6933659   1.1951381\n",
      " -0.16951315 -2.5364497   0.7042575  -1.3957359   2.3054404   0.3186625\n",
      " -0.1493916   0.7062319  -2.6402528   4.332916   -3.0479782   2.2044754\n",
      "  4.3160925   0.31483918  1.1724918   2.461174   -4.0212154  -2.7949066 ]\n"
     ]
    }
   ],
   "metadata": {}
  },
  {
   "cell_type": "markdown",
   "source": [
    "#### Now, let's look at some output\n",
    "This first example shows a simple case of looking up words similar to the word dirty. All we need to do here is to call the most_similar function and provide the word dirty as the positive example. This returns the top 10 similar words."
   ],
   "metadata": {}
  },
  {
   "cell_type": "code",
   "execution_count": 40,
   "source": [
    "w1 = \"dirty\"\r\n",
    "model.wv.most_similar(positive=w1)"
   ],
   "outputs": [
    {
     "output_type": "execute_result",
     "data": {
      "text/plain": [
       "[('filthy', 0.8643262386322021),\n",
       " ('stained', 0.783256471157074),\n",
       " ('unclean', 0.7817822098731995),\n",
       " ('smelly', 0.7720529437065125),\n",
       " ('dusty', 0.7595260143280029),\n",
       " ('grubby', 0.7468538880348206),\n",
       " ('mouldy', 0.7240976095199585),\n",
       " ('soiled', 0.723734974861145),\n",
       " ('gross', 0.7211849689483643),\n",
       " ('dingy', 0.7200460433959961)]"
      ]
     },
     "metadata": {},
     "execution_count": 40
    }
   ],
   "metadata": {}
  },
  {
   "cell_type": "code",
   "execution_count": 41,
   "source": [
    "w1 = [\"polite\"]\r\n",
    "model.wv.most_similar(positive=w1,topn=6)"
   ],
   "outputs": [
    {
     "output_type": "execute_result",
     "data": {
      "text/plain": [
       "[('courteous', 0.9287809729576111),\n",
       " ('friendly', 0.8312320709228516),\n",
       " ('professional', 0.7926158308982849),\n",
       " ('cordial', 0.790034294128418),\n",
       " ('attentive', 0.7775870561599731),\n",
       " ('curteous', 0.7551116347312927)]"
      ]
     },
     "metadata": {},
     "execution_count": 41
    }
   ],
   "metadata": {}
  },
  {
   "cell_type": "code",
   "execution_count": 42,
   "source": [
    "w1 = [\"vehicle\"]\r\n",
    "model.wv.most_similar(positive=w1,topn=6)"
   ],
   "outputs": [
    {
     "output_type": "execute_result",
     "data": {
      "text/plain": [
       "[('car', 0.7947025895118713),\n",
       " ('vehicles', 0.6487293243408203),\n",
       " ('minivan', 0.6484553217887878),\n",
       " ('suv', 0.6222910284996033),\n",
       " ('cars', 0.5939807295799255),\n",
       " ('baggages', 0.5902112126350403)]"
      ]
     },
     "metadata": {},
     "execution_count": 42
    }
   ],
   "metadata": {}
  },
  {
   "cell_type": "markdown",
   "source": [
    "That's, nice. You can even specify several positive examples to get things that are related in the provided context and provide negative examples to say what should not be considered as related. In the example below we are asking for all items that relate to bed only:"
   ],
   "metadata": {}
  },
  {
   "cell_type": "markdown",
   "source": [
    "\n",
    "### Analogy reasoning\n",
    "\n",
    "$boy - girl =  \\begin{bmatrix} \\text{~ 0} \\\\ \\text{~ 2} \\\\ \\text{~ 0} \\\\ \\text{~ 0} \\\\  \\text{~ 0} \\\\ \\vdots \\\\ \\text{~ 0}  \\\\ \\end{bmatrix} \\qquad king - queen =  \\begin{bmatrix} \\text{~ 0} \\\\ \\text{~ 2} \\\\ \\text{~ 0} \\\\ \\text{~ 0} \\\\  \\text{~ 0} \\\\ \\vdots \\\\ \\text{~ 0}  \\\\ \\end{bmatrix}$\n",
    "\n",
    "We may say:  `boy` - `girl` = `king` - `queen`\n",
    "\n",
    "Furher, answer the questions like `boy` is to `girl` as `king` is to `WHO?`\n",
    "\n",
    "\n"
   ],
   "metadata": {}
  },
  {
   "cell_type": "code",
   "execution_count": null,
   "source": [
    "result = model.wv.most_similar(positive=['king', 'woman'], negative=['man'], topn=1)\r\n",
    "\r\n",
    "# king - man + woman = ?\r\n",
    "\r\n",
    "print(result)"
   ],
   "outputs": [],
   "metadata": {}
  },
  {
   "cell_type": "code",
   "execution_count": null,
   "source": [
    "result = model.wv.most_similar(positive=[\"doctor\", \"woman\"], negative=['man'], topn=1)\r\n",
    "\r\n",
    "# doctor - man + woman = ?\r\n",
    "\r\n",
    "print(result)"
   ],
   "outputs": [],
   "metadata": {}
  },
  {
   "cell_type": "code",
   "execution_count": null,
   "source": [
    "result = model.wv.most_similar(positive=[\"huge\", \"small\"], negative=['big'], topn=1)\r\n",
    "\r\n",
    "# huge - big + small = ?\r\n",
    "\r\n",
    "print(result)"
   ],
   "outputs": [],
   "metadata": {}
  },
  {
   "cell_type": "markdown",
   "source": [
    "#### Similarity between two words in the vocabulary"
   ],
   "metadata": {}
  },
  {
   "cell_type": "code",
   "execution_count": null,
   "source": [
    "print('similarity between two identical words')\r\n",
    "print(model.wv.similarity(w1=\"dirty\",w2=\"dirty\"))\r\n",
    "\r\n",
    "print('\\nsimilarity between two different words')\r\n",
    "print(model.wv.similarity(w1=\"dirty\",w2=\"smelly\"))\r\n",
    "print(model.wv.similarity(w1=\"bye\",w2=\"goodbye\"))\r\n",
    "print(model.wv.similarity(w1=\"car\",w2=\"vehicle\"))\r\n",
    "\r\n",
    "print('\\nsimilarity between two opposit words')\r\n",
    "print(model.wv.similarity(w1=\"dirty\",w2=\"clean\"))\r\n",
    "print(model.wv.similarity(w1=\"wet\",w2=\"dry\"))\r\n",
    "\r\n",
    "print('\\nsimilarity between two unrelated words')\r\n",
    "print(model.wv.similarity(w1=\"green\",w2=\"hotel\"))\r\n",
    "print(model.wv.similarity(w1=\"hello\",w2=\"the\"))\r\n"
   ],
   "outputs": [],
   "metadata": {}
  },
  {
   "cell_type": "markdown",
   "source": [
    "Under the hood, it computes the cosine similarity between the two specified words using word vectors of each. From the scores, it makes sense that dirty is highly similar to smelly but dirty is dissimilar to clean. If you do a similarity between two identical words, the score will be 1.0 as the range of the cosine similarity score will always be between [0.0-1.0]. You can read more about cosine similarity scoring here."
   ],
   "metadata": {}
  },
  {
   "cell_type": "markdown",
   "source": [
    "#### Find the odd one out\n",
    "You can even use Word2Vec to find odd items given a list of items."
   ],
   "metadata": {}
  },
  {
   "cell_type": "code",
   "execution_count": null,
   "source": [
    "# Which one is the odd one out in this list?\r\n",
    "model.wv.doesnt_match([\"cat\",\"dog\",\"france\"])"
   ],
   "outputs": [],
   "metadata": {}
  },
  {
   "cell_type": "code",
   "execution_count": null,
   "source": [
    "# Which one is the odd one out in this list?\r\n",
    "model.wv.doesnt_match([\"bed\",\"pillow\",\"sheet\",\"shower\"])"
   ],
   "outputs": [],
   "metadata": {}
  },
  {
   "cell_type": "markdown",
   "source": [
    "### USE - Universal Sentence Encoder"
   ],
   "metadata": {}
  },
  {
   "cell_type": "markdown",
   "source": [
    "The Universal Sentence Encoder encodes text into high dimensional vectors that can be used for text classification, semantic similarity, clustering and other natural language tasks.\n",
    "\n",
    "The model is trained and optimized for greater-than-word length text, such as sentences, phrases or short paragraphs. It is trained on a variety of data sources and a variety of tasks with the aim of dynamically accommodating a wide variety of natural language understanding tasks. The input is variable length English text and the output is a 512 dimensional vector. \n",
    "\n"
   ],
   "metadata": {}
  },
  {
   "cell_type": "code",
   "execution_count": 1,
   "source": [
    "import tensorflow as tf\r\n",
    "import tensorflow_hub as hub\r\n",
    "import matplotlib.pyplot as plt\r\n",
    "import numpy as np\r\n",
    "import os\r\n",
    "import pandas as pd\r\n",
    "import re\r\n",
    "import seaborn as sns"
   ],
   "outputs": [],
   "metadata": {}
  },
  {
   "cell_type": "code",
   "execution_count": 23,
   "source": [
    "# Import the Universal Sentence Encoder's TF Hub module\r\n",
    "# It may take a while\r\n",
    "\r\n",
    "# module_url = \"https://tfhub.dev/google/universal-sentence-encoder/4\" \r\n",
    "# embed = hub.Module(module_url)\r\n",
    "\r\n",
    "# or download the model and use it locally\r\n",
    "\r\n",
    "embed = tf.saved_model.load(\"./USE/\")"
   ],
   "outputs": [],
   "metadata": {}
  },
  {
   "cell_type": "code",
   "execution_count": 24,
   "source": [
    "# Compute a representation for each message, showing various lengths supported.\r\n",
    "word = \"Elephant\"\r\n",
    "sentence = \"I am a sentence for which I would like to get its embedding.\"\r\n",
    "paragraph = (\r\n",
    "    \"Universal Sentence Encoder embeddings also support short paragraphs. \"\r\n",
    "    \"There is no hard limit on how long the paragraph is. Roughly, the longer \"\r\n",
    "    \"the more 'diluted' the embedding will be.\")\r\n",
    "messages = [word, sentence, paragraph]\r\n",
    "\r\n",
    "\r\n",
    "message_embeddings = embed(messages)\r\n",
    "\r\n",
    "for i, message_embedding in enumerate(np.array(message_embeddings).tolist()):\r\n",
    "    print(\"Message: {}\".format(messages[i]))\r\n",
    "    print(\"Embedding size: {}\".format(len(message_embedding)))\r\n",
    "    message_embedding_snippet = \", \".join(\r\n",
    "        (str(x) for x in message_embedding[:3]))\r\n",
    "    print(\"Embedding: [{}, ...]\\n\".format(message_embedding_snippet))"
   ],
   "outputs": [
    {
     "output_type": "stream",
     "name": "stdout",
     "text": [
      "Message: Elephant\n",
      "Embedding size: 512\n",
      "Embedding: [0.008344484493136406, 0.0004808439698535949, 0.06595247983932495, ...]\n",
      "\n",
      "Message: I am a sentence for which I would like to get its embedding.\n",
      "Embedding size: 512\n",
      "Embedding: [0.050808604806661606, -0.016524290665984154, 0.015737805515527725, ...]\n",
      "\n",
      "Message: Universal Sentence Encoder embeddings also support short paragraphs. There is no hard limit on how long the paragraph is. Roughly, the longer the more 'diluted' the embedding will be.\n",
      "Embedding size: 512\n",
      "Embedding: [-0.028332684189081192, -0.055862173438072205, -0.012941447086632252, ...]\n",
      "\n"
     ]
    }
   ],
   "metadata": {}
  },
  {
   "cell_type": "code",
   "execution_count": 25,
   "source": [
    "str1 = \"I like my bike\"\r\n",
    "str2 = \"My motorcycle looks good\"\r\n",
    "str3 = \"Two more cells and we are done\"\r\n",
    "\r\n",
    "messages = [str1, str2, str3]\r\n",
    "emb1, emb2, emb3 = embed(messages)\r\n",
    "\r\n",
    "print(f\"The similarity between '{str1}' and '{str2}' = {np.inner(emb1, emb2)}\")\r\n",
    "print(f\"The similarity between '{str1}' and '{str3}' = {np.inner(emb1, emb3)}\")"
   ],
   "outputs": [
    {
     "output_type": "stream",
     "name": "stdout",
     "text": [
      "The similarity between 'I like my bike' and 'My motorcycle looks good' = 0.7165157794952393\n",
      "The similarity between 'I like my bike' and 'Two more cells and we are done' = 0.00046960078179836273\n"
     ]
    }
   ],
   "metadata": {}
  },
  {
   "cell_type": "code",
   "execution_count": 26,
   "source": [
    "def plot_similarity(labels, features, rotation):\r\n",
    "    corr = np.inner(features, features)\r\n",
    "    sns.set(font_scale=1.2)\r\n",
    "    g = sns.heatmap(\r\n",
    "      corr,\r\n",
    "      xticklabels=labels,\r\n",
    "      yticklabels=labels,\r\n",
    "      vmin=0,\r\n",
    "      vmax=1,\r\n",
    "      cmap=\"YlOrRd\")\r\n",
    "    g.set_xticklabels(labels, rotation=rotation)\r\n",
    "    g.set_title(\"Semantic Textual Similarity\")\r\n",
    "\r\n",
    "\r\n",
    "def run_and_plot(messages, encoding_tensor):\r\n",
    "    message_embeddings = encoding_tensor(messages)\r\n",
    "    plot_similarity(messages, message_embeddings, 90)"
   ],
   "outputs": [],
   "metadata": {}
  },
  {
   "cell_type": "code",
   "execution_count": 27,
   "source": [
    "messages = [\r\n",
    "    # Smartphones\r\n",
    "    \"I like my phone\",\r\n",
    "    \"My phone is not good.\",\r\n",
    "    \"Your cellphone looks great.\",\r\n",
    "\r\n",
    "    # Weather\r\n",
    "    \"Will it snow tomorrow?\",\r\n",
    "    \"Recently a lot of hurricanes have hit the US\",\r\n",
    "    \"Global warming is real\",\r\n",
    "\r\n",
    "    # Food and health\r\n",
    "    \"An apple a day, keeps the doctors away\",\r\n",
    "    \"Eating strawberries is healthy\",\r\n",
    "    \"Is paleo better than keto?\",\r\n",
    "\r\n",
    "    # Asking about age\r\n",
    "    \"How old are you?\",\r\n",
    "    \"what is your age?\",\r\n",
    "]\r\n",
    "\r\n",
    "run_and_plot(messages, embed)"
   ],
   "outputs": [
    {
     "output_type": "display_data",
     "data": {
      "text/plain": [
       "<Figure size 432x288 with 2 Axes>"
      ],
      "image/svg+xml": "<?xml version=\"1.0\" encoding=\"utf-8\" standalone=\"no\"?>\r\n<!DOCTYPE svg PUBLIC \"-//W3C//DTD SVG 1.1//EN\"\r\n  \"http://www.w3.org/Graphics/SVG/1.1/DTD/svg11.dtd\">\r\n<svg height=\"511.67525pt\" version=\"1.1\" viewBox=\"0 0 601.0525 511.67525\" width=\"601.0525pt\" xmlns=\"http://www.w3.org/2000/svg\" xmlns:xlink=\"http://www.w3.org/1999/xlink\">\r\n <metadata>\r\n  <rdf:RDF xmlns:cc=\"http://creativecommons.org/ns#\" xmlns:dc=\"http://purl.org/dc/elements/1.1/\" xmlns:rdf=\"http://www.w3.org/1999/02/22-rdf-syntax-ns#\">\r\n   <cc:Work>\r\n    <dc:type rdf:resource=\"http://purl.org/dc/dcmitype/StillImage\"/>\r\n    <dc:date>2021-09-02T17:10:24.562088</dc:date>\r\n    <dc:format>image/svg+xml</dc:format>\r\n    <dc:creator>\r\n     <cc:Agent>\r\n      <dc:title>Matplotlib v3.4.3, https://matplotlib.org/</dc:title>\r\n     </cc:Agent>\r\n    </dc:creator>\r\n   </cc:Work>\r\n  </rdf:RDF>\r\n </metadata>\r\n <defs>\r\n  <style type=\"text/css\">*{stroke-linecap:butt;stroke-linejoin:round;}</style>\r\n </defs>\r\n <g id=\"figure_1\">\r\n  <g id=\"patch_1\">\r\n   <path d=\"M 0 511.67525 \r\nL 601.0525 511.67525 \r\nL 601.0525 0 \r\nL 0 0 \r\nz\r\n\" style=\"fill:#ffffff;\"/>\r\n  </g>\r\n  <g id=\"axes_1\">\r\n   <g id=\"patch_2\">\r\n    <path d=\"M 270.5525 241.12275 \r\nL 538.3925 241.12275 \r\nL 538.3925 23.68275 \r\nL 270.5525 23.68275 \r\nz\r\n\" style=\"fill:#eaeaf2;\"/>\r\n   </g>\r\n   <g id=\"matplotlib.axis_1\">\r\n    <g id=\"xtick_1\">\r\n     <g id=\"text_1\">\r\n      <!-- I like my phone -->\r\n      <g style=\"fill:#262626;\" transform=\"translate(286.062108 339.394813)rotate(-90)scale(0.132 -0.132)\">\r\n       <defs>\r\n        <path d=\"M 597 0 \r\nL 597 4581 \r\nL 1203 4581 \r\nL 1203 0 \r\nL 597 0 \r\nz\r\n\" id=\"ArialMT-49\" transform=\"scale(0.015625)\"/>\r\n        <path id=\"ArialMT-20\" transform=\"scale(0.015625)\"/>\r\n        <path d=\"M 409 0 \r\nL 409 4581 \r\nL 972 4581 \r\nL 972 0 \r\nL 409 0 \r\nz\r\n\" id=\"ArialMT-6c\" transform=\"scale(0.015625)\"/>\r\n        <path d=\"M 425 3934 \r\nL 425 4581 \r\nL 988 4581 \r\nL 988 3934 \r\nL 425 3934 \r\nz\r\nM 425 0 \r\nL 425 3319 \r\nL 988 3319 \r\nL 988 0 \r\nL 425 0 \r\nz\r\n\" id=\"ArialMT-69\" transform=\"scale(0.015625)\"/>\r\n        <path d=\"M 425 0 \r\nL 425 4581 \r\nL 988 4581 \r\nL 988 1969 \r\nL 2319 3319 \r\nL 3047 3319 \r\nL 1778 2088 \r\nL 3175 0 \r\nL 2481 0 \r\nL 1384 1697 \r\nL 988 1316 \r\nL 988 0 \r\nL 425 0 \r\nz\r\n\" id=\"ArialMT-6b\" transform=\"scale(0.015625)\"/>\r\n        <path d=\"M 2694 1069 \r\nL 3275 997 \r\nQ 3138 488 2766 206 \r\nQ 2394 -75 1816 -75 \r\nQ 1088 -75 661 373 \r\nQ 234 822 234 1631 \r\nQ 234 2469 665 2931 \r\nQ 1097 3394 1784 3394 \r\nQ 2450 3394 2872 2941 \r\nQ 3294 2488 3294 1666 \r\nQ 3294 1616 3291 1516 \r\nL 816 1516 \r\nQ 847 969 1125 678 \r\nQ 1403 388 1819 388 \r\nQ 2128 388 2347 550 \r\nQ 2566 713 2694 1069 \r\nz\r\nM 847 1978 \r\nL 2700 1978 \r\nQ 2663 2397 2488 2606 \r\nQ 2219 2931 1791 2931 \r\nQ 1403 2931 1139 2672 \r\nQ 875 2413 847 1978 \r\nz\r\n\" id=\"ArialMT-65\" transform=\"scale(0.015625)\"/>\r\n        <path d=\"M 422 0 \r\nL 422 3319 \r\nL 925 3319 \r\nL 925 2853 \r\nQ 1081 3097 1340 3245 \r\nQ 1600 3394 1931 3394 \r\nQ 2300 3394 2536 3241 \r\nQ 2772 3088 2869 2813 \r\nQ 3263 3394 3894 3394 \r\nQ 4388 3394 4653 3120 \r\nQ 4919 2847 4919 2278 \r\nL 4919 0 \r\nL 4359 0 \r\nL 4359 2091 \r\nQ 4359 2428 4304 2576 \r\nQ 4250 2725 4106 2815 \r\nQ 3963 2906 3769 2906 \r\nQ 3419 2906 3187 2673 \r\nQ 2956 2441 2956 1928 \r\nL 2956 0 \r\nL 2394 0 \r\nL 2394 2156 \r\nQ 2394 2531 2256 2718 \r\nQ 2119 2906 1806 2906 \r\nQ 1569 2906 1367 2781 \r\nQ 1166 2656 1075 2415 \r\nQ 984 2175 984 1722 \r\nL 984 0 \r\nL 422 0 \r\nz\r\n\" id=\"ArialMT-6d\" transform=\"scale(0.015625)\"/>\r\n        <path d=\"M 397 -1278 \r\nL 334 -750 \r\nQ 519 -800 656 -800 \r\nQ 844 -800 956 -737 \r\nQ 1069 -675 1141 -563 \r\nQ 1194 -478 1313 -144 \r\nQ 1328 -97 1363 -6 \r\nL 103 3319 \r\nL 709 3319 \r\nL 1400 1397 \r\nQ 1534 1031 1641 628 \r\nQ 1738 1016 1872 1384 \r\nL 2581 3319 \r\nL 3144 3319 \r\nL 1881 -56 \r\nQ 1678 -603 1566 -809 \r\nQ 1416 -1088 1222 -1217 \r\nQ 1028 -1347 759 -1347 \r\nQ 597 -1347 397 -1278 \r\nz\r\n\" id=\"ArialMT-79\" transform=\"scale(0.015625)\"/>\r\n        <path d=\"M 422 -1272 \r\nL 422 3319 \r\nL 934 3319 \r\nL 934 2888 \r\nQ 1116 3141 1344 3267 \r\nQ 1572 3394 1897 3394 \r\nQ 2322 3394 2647 3175 \r\nQ 2972 2956 3137 2557 \r\nQ 3303 2159 3303 1684 \r\nQ 3303 1175 3120 767 \r\nQ 2938 359 2589 142 \r\nQ 2241 -75 1856 -75 \r\nQ 1575 -75 1351 44 \r\nQ 1128 163 984 344 \r\nL 984 -1272 \r\nL 422 -1272 \r\nz\r\nM 931 1641 \r\nQ 931 1000 1190 694 \r\nQ 1450 388 1819 388 \r\nQ 2194 388 2461 705 \r\nQ 2728 1022 2728 1688 \r\nQ 2728 2322 2467 2637 \r\nQ 2206 2953 1844 2953 \r\nQ 1484 2953 1207 2617 \r\nQ 931 2281 931 1641 \r\nz\r\n\" id=\"ArialMT-70\" transform=\"scale(0.015625)\"/>\r\n        <path d=\"M 422 0 \r\nL 422 4581 \r\nL 984 4581 \r\nL 984 2938 \r\nQ 1378 3394 1978 3394 \r\nQ 2347 3394 2619 3248 \r\nQ 2891 3103 3008 2847 \r\nQ 3125 2591 3125 2103 \r\nL 3125 0 \r\nL 2563 0 \r\nL 2563 2103 \r\nQ 2563 2525 2380 2717 \r\nQ 2197 2909 1863 2909 \r\nQ 1613 2909 1392 2779 \r\nQ 1172 2650 1078 2428 \r\nQ 984 2206 984 1816 \r\nL 984 0 \r\nL 422 0 \r\nz\r\n\" id=\"ArialMT-68\" transform=\"scale(0.015625)\"/>\r\n        <path d=\"M 213 1659 \r\nQ 213 2581 725 3025 \r\nQ 1153 3394 1769 3394 \r\nQ 2453 3394 2887 2945 \r\nQ 3322 2497 3322 1706 \r\nQ 3322 1066 3130 698 \r\nQ 2938 331 2570 128 \r\nQ 2203 -75 1769 -75 \r\nQ 1072 -75 642 372 \r\nQ 213 819 213 1659 \r\nz\r\nM 791 1659 \r\nQ 791 1022 1069 705 \r\nQ 1347 388 1769 388 \r\nQ 2188 388 2466 706 \r\nQ 2744 1025 2744 1678 \r\nQ 2744 2294 2464 2611 \r\nQ 2184 2928 1769 2928 \r\nQ 1347 2928 1069 2612 \r\nQ 791 2297 791 1659 \r\nz\r\n\" id=\"ArialMT-6f\" transform=\"scale(0.015625)\"/>\r\n        <path d=\"M 422 0 \r\nL 422 3319 \r\nL 928 3319 \r\nL 928 2847 \r\nQ 1294 3394 1984 3394 \r\nQ 2284 3394 2536 3286 \r\nQ 2788 3178 2913 3003 \r\nQ 3038 2828 3088 2588 \r\nQ 3119 2431 3119 2041 \r\nL 3119 0 \r\nL 2556 0 \r\nL 2556 2019 \r\nQ 2556 2363 2490 2533 \r\nQ 2425 2703 2258 2804 \r\nQ 2091 2906 1866 2906 \r\nQ 1506 2906 1245 2678 \r\nQ 984 2450 984 1813 \r\nL 984 0 \r\nL 422 0 \r\nz\r\n\" id=\"ArialMT-6e\" transform=\"scale(0.015625)\"/>\r\n       </defs>\r\n       <use xlink:href=\"#ArialMT-49\"/>\r\n       <use x=\"27.783203\" xlink:href=\"#ArialMT-20\"/>\r\n       <use x=\"55.566406\" xlink:href=\"#ArialMT-6c\"/>\r\n       <use x=\"77.783203\" xlink:href=\"#ArialMT-69\"/>\r\n       <use x=\"100\" xlink:href=\"#ArialMT-6b\"/>\r\n       <use x=\"150\" xlink:href=\"#ArialMT-65\"/>\r\n       <use x=\"205.615234\" xlink:href=\"#ArialMT-20\"/>\r\n       <use x=\"233.398438\" xlink:href=\"#ArialMT-6d\"/>\r\n       <use x=\"316.699219\" xlink:href=\"#ArialMT-79\"/>\r\n       <use x=\"366.699219\" xlink:href=\"#ArialMT-20\"/>\r\n       <use x=\"394.482422\" xlink:href=\"#ArialMT-70\"/>\r\n       <use x=\"450.097656\" xlink:href=\"#ArialMT-68\"/>\r\n       <use x=\"505.712891\" xlink:href=\"#ArialMT-6f\"/>\r\n       <use x=\"561.328125\" xlink:href=\"#ArialMT-6e\"/>\r\n       <use x=\"616.943359\" xlink:href=\"#ArialMT-65\"/>\r\n      </g>\r\n     </g>\r\n    </g>\r\n    <g id=\"xtick_2\">\r\n     <g id=\"text_2\">\r\n      <!-- My phone is not good. -->\r\n      <g style=\"fill:#262626;\" transform=\"translate(310.411199 380.498375)rotate(-90)scale(0.132 -0.132)\">\r\n       <defs>\r\n        <path d=\"M 475 0 \r\nL 475 4581 \r\nL 1388 4581 \r\nL 2472 1338 \r\nQ 2622 884 2691 659 \r\nQ 2769 909 2934 1394 \r\nL 4031 4581 \r\nL 4847 4581 \r\nL 4847 0 \r\nL 4263 0 \r\nL 4263 3834 \r\nL 2931 0 \r\nL 2384 0 \r\nL 1059 3900 \r\nL 1059 0 \r\nL 475 0 \r\nz\r\n\" id=\"ArialMT-4d\" transform=\"scale(0.015625)\"/>\r\n        <path d=\"M 197 991 \r\nL 753 1078 \r\nQ 800 744 1014 566 \r\nQ 1228 388 1613 388 \r\nQ 2000 388 2187 545 \r\nQ 2375 703 2375 916 \r\nQ 2375 1106 2209 1216 \r\nQ 2094 1291 1634 1406 \r\nQ 1016 1563 777 1677 \r\nQ 538 1791 414 1992 \r\nQ 291 2194 291 2438 \r\nQ 291 2659 392 2848 \r\nQ 494 3038 669 3163 \r\nQ 800 3259 1026 3326 \r\nQ 1253 3394 1513 3394 \r\nQ 1903 3394 2198 3281 \r\nQ 2494 3169 2634 2976 \r\nQ 2775 2784 2828 2463 \r\nL 2278 2388 \r\nQ 2241 2644 2061 2787 \r\nQ 1881 2931 1553 2931 \r\nQ 1166 2931 1000 2803 \r\nQ 834 2675 834 2503 \r\nQ 834 2394 903 2306 \r\nQ 972 2216 1119 2156 \r\nQ 1203 2125 1616 2013 \r\nQ 2213 1853 2448 1751 \r\nQ 2684 1650 2818 1456 \r\nQ 2953 1263 2953 975 \r\nQ 2953 694 2789 445 \r\nQ 2625 197 2315 61 \r\nQ 2006 -75 1616 -75 \r\nQ 969 -75 630 194 \r\nQ 291 463 197 991 \r\nz\r\n\" id=\"ArialMT-73\" transform=\"scale(0.015625)\"/>\r\n        <path d=\"M 1650 503 \r\nL 1731 6 \r\nQ 1494 -44 1306 -44 \r\nQ 1000 -44 831 53 \r\nQ 663 150 594 308 \r\nQ 525 466 525 972 \r\nL 525 2881 \r\nL 113 2881 \r\nL 113 3319 \r\nL 525 3319 \r\nL 525 4141 \r\nL 1084 4478 \r\nL 1084 3319 \r\nL 1650 3319 \r\nL 1650 2881 \r\nL 1084 2881 \r\nL 1084 941 \r\nQ 1084 700 1114 631 \r\nQ 1144 563 1211 522 \r\nQ 1278 481 1403 481 \r\nQ 1497 481 1650 503 \r\nz\r\n\" id=\"ArialMT-74\" transform=\"scale(0.015625)\"/>\r\n        <path d=\"M 319 -275 \r\nL 866 -356 \r\nQ 900 -609 1056 -725 \r\nQ 1266 -881 1628 -881 \r\nQ 2019 -881 2231 -725 \r\nQ 2444 -569 2519 -288 \r\nQ 2563 -116 2559 434 \r\nQ 2191 0 1641 0 \r\nQ 956 0 581 494 \r\nQ 206 988 206 1678 \r\nQ 206 2153 378 2554 \r\nQ 550 2956 876 3175 \r\nQ 1203 3394 1644 3394 \r\nQ 2231 3394 2613 2919 \r\nL 2613 3319 \r\nL 3131 3319 \r\nL 3131 450 \r\nQ 3131 -325 2973 -648 \r\nQ 2816 -972 2473 -1159 \r\nQ 2131 -1347 1631 -1347 \r\nQ 1038 -1347 672 -1080 \r\nQ 306 -813 319 -275 \r\nz\r\nM 784 1719 \r\nQ 784 1066 1043 766 \r\nQ 1303 466 1694 466 \r\nQ 2081 466 2343 764 \r\nQ 2606 1063 2606 1700 \r\nQ 2606 2309 2336 2618 \r\nQ 2066 2928 1684 2928 \r\nQ 1309 2928 1046 2623 \r\nQ 784 2319 784 1719 \r\nz\r\n\" id=\"ArialMT-67\" transform=\"scale(0.015625)\"/>\r\n        <path d=\"M 2575 0 \r\nL 2575 419 \r\nQ 2259 -75 1647 -75 \r\nQ 1250 -75 917 144 \r\nQ 584 363 401 755 \r\nQ 219 1147 219 1656 \r\nQ 219 2153 384 2558 \r\nQ 550 2963 881 3178 \r\nQ 1213 3394 1622 3394 \r\nQ 1922 3394 2156 3267 \r\nQ 2391 3141 2538 2938 \r\nL 2538 4581 \r\nL 3097 4581 \r\nL 3097 0 \r\nL 2575 0 \r\nz\r\nM 797 1656 \r\nQ 797 1019 1065 703 \r\nQ 1334 388 1700 388 \r\nQ 2069 388 2326 689 \r\nQ 2584 991 2584 1609 \r\nQ 2584 2291 2321 2609 \r\nQ 2059 2928 1675 2928 \r\nQ 1300 2928 1048 2622 \r\nQ 797 2316 797 1656 \r\nz\r\n\" id=\"ArialMT-64\" transform=\"scale(0.015625)\"/>\r\n        <path d=\"M 581 0 \r\nL 581 641 \r\nL 1222 641 \r\nL 1222 0 \r\nL 581 0 \r\nz\r\n\" id=\"ArialMT-2e\" transform=\"scale(0.015625)\"/>\r\n       </defs>\r\n       <use xlink:href=\"#ArialMT-4d\"/>\r\n       <use x=\"83.300781\" xlink:href=\"#ArialMT-79\"/>\r\n       <use x=\"133.300781\" xlink:href=\"#ArialMT-20\"/>\r\n       <use x=\"161.083984\" xlink:href=\"#ArialMT-70\"/>\r\n       <use x=\"216.699219\" xlink:href=\"#ArialMT-68\"/>\r\n       <use x=\"272.314453\" xlink:href=\"#ArialMT-6f\"/>\r\n       <use x=\"327.929688\" xlink:href=\"#ArialMT-6e\"/>\r\n       <use x=\"383.544922\" xlink:href=\"#ArialMT-65\"/>\r\n       <use x=\"439.160156\" xlink:href=\"#ArialMT-20\"/>\r\n       <use x=\"466.943359\" xlink:href=\"#ArialMT-69\"/>\r\n       <use x=\"489.160156\" xlink:href=\"#ArialMT-73\"/>\r\n       <use x=\"539.160156\" xlink:href=\"#ArialMT-20\"/>\r\n       <use x=\"566.943359\" xlink:href=\"#ArialMT-6e\"/>\r\n       <use x=\"622.558594\" xlink:href=\"#ArialMT-6f\"/>\r\n       <use x=\"678.173828\" xlink:href=\"#ArialMT-74\"/>\r\n       <use x=\"705.957031\" xlink:href=\"#ArialMT-20\"/>\r\n       <use x=\"733.740234\" xlink:href=\"#ArialMT-67\"/>\r\n       <use x=\"789.355469\" xlink:href=\"#ArialMT-6f\"/>\r\n       <use x=\"844.970703\" xlink:href=\"#ArialMT-6f\"/>\r\n       <use x=\"900.585938\" xlink:href=\"#ArialMT-64\"/>\r\n       <use x=\"956.201172\" xlink:href=\"#ArialMT-2e\"/>\r\n      </g>\r\n     </g>\r\n    </g>\r\n    <g id=\"xtick_3\">\r\n     <g id=\"text_3\">\r\n      <!-- Your cellphone looks great. -->\r\n      <g style=\"fill:#262626;\" transform=\"translate(334.76029 409.373375)rotate(-90)scale(0.132 -0.132)\">\r\n       <defs>\r\n        <path d=\"M 1784 0 \r\nL 1784 1941 \r\nL 19 4581 \r\nL 756 4581 \r\nL 1659 3200 \r\nQ 1909 2813 2125 2425 \r\nQ 2331 2784 2625 3234 \r\nL 3513 4581 \r\nL 4219 4581 \r\nL 2391 1941 \r\nL 2391 0 \r\nL 1784 0 \r\nz\r\n\" id=\"ArialMT-59\" transform=\"scale(0.015625)\"/>\r\n        <path d=\"M 2597 0 \r\nL 2597 488 \r\nQ 2209 -75 1544 -75 \r\nQ 1250 -75 995 37 \r\nQ 741 150 617 320 \r\nQ 494 491 444 738 \r\nQ 409 903 409 1263 \r\nL 409 3319 \r\nL 972 3319 \r\nL 972 1478 \r\nQ 972 1038 1006 884 \r\nQ 1059 663 1231 536 \r\nQ 1403 409 1656 409 \r\nQ 1909 409 2131 539 \r\nQ 2353 669 2445 892 \r\nQ 2538 1116 2538 1541 \r\nL 2538 3319 \r\nL 3100 3319 \r\nL 3100 0 \r\nL 2597 0 \r\nz\r\n\" id=\"ArialMT-75\" transform=\"scale(0.015625)\"/>\r\n        <path d=\"M 416 0 \r\nL 416 3319 \r\nL 922 3319 \r\nL 922 2816 \r\nQ 1116 3169 1280 3281 \r\nQ 1444 3394 1641 3394 \r\nQ 1925 3394 2219 3213 \r\nL 2025 2691 \r\nQ 1819 2813 1613 2813 \r\nQ 1428 2813 1281 2702 \r\nQ 1134 2591 1072 2394 \r\nQ 978 2094 978 1738 \r\nL 978 0 \r\nL 416 0 \r\nz\r\n\" id=\"ArialMT-72\" transform=\"scale(0.015625)\"/>\r\n        <path d=\"M 2588 1216 \r\nL 3141 1144 \r\nQ 3050 572 2676 248 \r\nQ 2303 -75 1759 -75 \r\nQ 1078 -75 664 370 \r\nQ 250 816 250 1647 \r\nQ 250 2184 428 2587 \r\nQ 606 2991 970 3192 \r\nQ 1334 3394 1763 3394 \r\nQ 2303 3394 2647 3120 \r\nQ 2991 2847 3088 2344 \r\nL 2541 2259 \r\nQ 2463 2594 2264 2762 \r\nQ 2066 2931 1784 2931 \r\nQ 1359 2931 1093 2626 \r\nQ 828 2322 828 1663 \r\nQ 828 994 1084 691 \r\nQ 1341 388 1753 388 \r\nQ 2084 388 2306 591 \r\nQ 2528 794 2588 1216 \r\nz\r\n\" id=\"ArialMT-63\" transform=\"scale(0.015625)\"/>\r\n        <path d=\"M 2588 409 \r\nQ 2275 144 1986 34 \r\nQ 1697 -75 1366 -75 \r\nQ 819 -75 525 192 \r\nQ 231 459 231 875 \r\nQ 231 1119 342 1320 \r\nQ 453 1522 633 1644 \r\nQ 813 1766 1038 1828 \r\nQ 1203 1872 1538 1913 \r\nQ 2219 1994 2541 2106 \r\nQ 2544 2222 2544 2253 \r\nQ 2544 2597 2384 2738 \r\nQ 2169 2928 1744 2928 \r\nQ 1347 2928 1158 2789 \r\nQ 969 2650 878 2297 \r\nL 328 2372 \r\nQ 403 2725 575 2942 \r\nQ 747 3159 1072 3276 \r\nQ 1397 3394 1825 3394 \r\nQ 2250 3394 2515 3294 \r\nQ 2781 3194 2906 3042 \r\nQ 3031 2891 3081 2659 \r\nQ 3109 2516 3109 2141 \r\nL 3109 1391 \r\nQ 3109 606 3145 398 \r\nQ 3181 191 3288 0 \r\nL 2700 0 \r\nQ 2613 175 2588 409 \r\nz\r\nM 2541 1666 \r\nQ 2234 1541 1622 1453 \r\nQ 1275 1403 1131 1340 \r\nQ 988 1278 909 1158 \r\nQ 831 1038 831 891 \r\nQ 831 666 1001 516 \r\nQ 1172 366 1500 366 \r\nQ 1825 366 2078 508 \r\nQ 2331 650 2450 897 \r\nQ 2541 1088 2541 1459 \r\nL 2541 1666 \r\nz\r\n\" id=\"ArialMT-61\" transform=\"scale(0.015625)\"/>\r\n       </defs>\r\n       <use xlink:href=\"#ArialMT-59\"/>\r\n       <use x=\"57.574219\" xlink:href=\"#ArialMT-6f\"/>\r\n       <use x=\"113.189453\" xlink:href=\"#ArialMT-75\"/>\r\n       <use x=\"168.804688\" xlink:href=\"#ArialMT-72\"/>\r\n       <use x=\"202.105469\" xlink:href=\"#ArialMT-20\"/>\r\n       <use x=\"229.888672\" xlink:href=\"#ArialMT-63\"/>\r\n       <use x=\"279.888672\" xlink:href=\"#ArialMT-65\"/>\r\n       <use x=\"335.503906\" xlink:href=\"#ArialMT-6c\"/>\r\n       <use x=\"357.720703\" xlink:href=\"#ArialMT-6c\"/>\r\n       <use x=\"379.9375\" xlink:href=\"#ArialMT-70\"/>\r\n       <use x=\"435.552734\" xlink:href=\"#ArialMT-68\"/>\r\n       <use x=\"491.167969\" xlink:href=\"#ArialMT-6f\"/>\r\n       <use x=\"546.783203\" xlink:href=\"#ArialMT-6e\"/>\r\n       <use x=\"602.398438\" xlink:href=\"#ArialMT-65\"/>\r\n       <use x=\"658.013672\" xlink:href=\"#ArialMT-20\"/>\r\n       <use x=\"685.796875\" xlink:href=\"#ArialMT-6c\"/>\r\n       <use x=\"708.013672\" xlink:href=\"#ArialMT-6f\"/>\r\n       <use x=\"763.628906\" xlink:href=\"#ArialMT-6f\"/>\r\n       <use x=\"819.244141\" xlink:href=\"#ArialMT-6b\"/>\r\n       <use x=\"869.244141\" xlink:href=\"#ArialMT-73\"/>\r\n       <use x=\"919.244141\" xlink:href=\"#ArialMT-20\"/>\r\n       <use x=\"947.027344\" xlink:href=\"#ArialMT-67\"/>\r\n       <use x=\"1002.642578\" xlink:href=\"#ArialMT-72\"/>\r\n       <use x=\"1035.943359\" xlink:href=\"#ArialMT-65\"/>\r\n       <use x=\"1091.558594\" xlink:href=\"#ArialMT-61\"/>\r\n       <use x=\"1147.173828\" xlink:href=\"#ArialMT-74\"/>\r\n       <use x=\"1174.957031\" xlink:href=\"#ArialMT-2e\"/>\r\n      </g>\r\n     </g>\r\n    </g>\r\n    <g id=\"xtick_4\">\r\n     <g id=\"text_4\">\r\n      <!-- Will it snow tomorrow? -->\r\n      <g style=\"fill:#262626;\" transform=\"translate(359.186724 382.643375)rotate(-90)scale(0.132 -0.132)\">\r\n       <defs>\r\n        <path d=\"M 1294 0 \r\nL 78 4581 \r\nL 700 4581 \r\nL 1397 1578 \r\nQ 1509 1106 1591 641 \r\nQ 1766 1375 1797 1488 \r\nL 2669 4581 \r\nL 3400 4581 \r\nL 4056 2263 \r\nQ 4303 1400 4413 641 \r\nQ 4500 1075 4641 1638 \r\nL 5359 4581 \r\nL 5969 4581 \r\nL 4713 0 \r\nL 4128 0 \r\nL 3163 3491 \r\nQ 3041 3928 3019 4028 \r\nQ 2947 3713 2884 3491 \r\nL 1913 0 \r\nL 1294 0 \r\nz\r\n\" id=\"ArialMT-57\" transform=\"scale(0.015625)\"/>\r\n        <path d=\"M 1034 0 \r\nL 19 3319 \r\nL 600 3319 \r\nL 1128 1403 \r\nL 1325 691 \r\nQ 1338 744 1497 1375 \r\nL 2025 3319 \r\nL 2603 3319 \r\nL 3100 1394 \r\nL 3266 759 \r\nL 3456 1400 \r\nL 4025 3319 \r\nL 4572 3319 \r\nL 3534 0 \r\nL 2950 0 \r\nL 2422 1988 \r\nL 2294 2553 \r\nL 1622 0 \r\nL 1034 0 \r\nz\r\n\" id=\"ArialMT-77\" transform=\"scale(0.015625)\"/>\r\n        <path d=\"M 1475 1128 \r\nQ 1472 1241 1472 1297 \r\nQ 1472 1628 1566 1869 \r\nQ 1634 2050 1788 2234 \r\nQ 1900 2369 2192 2626 \r\nQ 2484 2884 2571 3037 \r\nQ 2659 3191 2659 3372 \r\nQ 2659 3700 2403 3948 \r\nQ 2147 4197 1775 4197 \r\nQ 1416 4197 1175 3972 \r\nQ 934 3747 859 3269 \r\nL 281 3338 \r\nQ 359 3978 745 4318 \r\nQ 1131 4659 1766 4659 \r\nQ 2438 4659 2838 4293 \r\nQ 3238 3928 3238 3409 \r\nQ 3238 3109 3097 2856 \r\nQ 2956 2603 2547 2241 \r\nQ 2272 1997 2187 1881 \r\nQ 2103 1766 2062 1616 \r\nQ 2022 1466 2016 1128 \r\nL 1475 1128 \r\nz\r\nM 1441 0 \r\nL 1441 641 \r\nL 2081 641 \r\nL 2081 0 \r\nL 1441 0 \r\nz\r\n\" id=\"ArialMT-3f\" transform=\"scale(0.015625)\"/>\r\n       </defs>\r\n       <use xlink:href=\"#ArialMT-57\"/>\r\n       <use x=\"94.384766\" xlink:href=\"#ArialMT-69\"/>\r\n       <use x=\"116.601562\" xlink:href=\"#ArialMT-6c\"/>\r\n       <use x=\"138.818359\" xlink:href=\"#ArialMT-6c\"/>\r\n       <use x=\"161.035156\" xlink:href=\"#ArialMT-20\"/>\r\n       <use x=\"188.818359\" xlink:href=\"#ArialMT-69\"/>\r\n       <use x=\"211.035156\" xlink:href=\"#ArialMT-74\"/>\r\n       <use x=\"238.818359\" xlink:href=\"#ArialMT-20\"/>\r\n       <use x=\"266.601562\" xlink:href=\"#ArialMT-73\"/>\r\n       <use x=\"316.601562\" xlink:href=\"#ArialMT-6e\"/>\r\n       <use x=\"372.216797\" xlink:href=\"#ArialMT-6f\"/>\r\n       <use x=\"427.832031\" xlink:href=\"#ArialMT-77\"/>\r\n       <use x=\"500.048828\" xlink:href=\"#ArialMT-20\"/>\r\n       <use x=\"527.832031\" xlink:href=\"#ArialMT-74\"/>\r\n       <use x=\"555.615234\" xlink:href=\"#ArialMT-6f\"/>\r\n       <use x=\"611.230469\" xlink:href=\"#ArialMT-6d\"/>\r\n       <use x=\"694.53125\" xlink:href=\"#ArialMT-6f\"/>\r\n       <use x=\"750.146484\" xlink:href=\"#ArialMT-72\"/>\r\n       <use x=\"783.447266\" xlink:href=\"#ArialMT-72\"/>\r\n       <use x=\"816.748047\" xlink:href=\"#ArialMT-6f\"/>\r\n       <use x=\"872.363281\" xlink:href=\"#ArialMT-77\"/>\r\n       <use x=\"944.580078\" xlink:href=\"#ArialMT-3f\"/>\r\n      </g>\r\n     </g>\r\n    </g>\r\n    <g id=\"xtick_5\">\r\n     <g id=\"text_5\">\r\n      <!-- Recently a lot of hurricanes have hit the US -->\r\n      <g style=\"fill:#262626;\" transform=\"translate(383.538909 504.47525)rotate(-90)scale(0.132 -0.132)\">\r\n       <defs>\r\n        <path d=\"M 503 0 \r\nL 503 4581 \r\nL 2534 4581 \r\nQ 3147 4581 3465 4457 \r\nQ 3784 4334 3975 4021 \r\nQ 4166 3709 4166 3331 \r\nQ 4166 2844 3850 2509 \r\nQ 3534 2175 2875 2084 \r\nQ 3116 1969 3241 1856 \r\nQ 3506 1613 3744 1247 \r\nL 4541 0 \r\nL 3778 0 \r\nL 3172 953 \r\nQ 2906 1366 2734 1584 \r\nQ 2563 1803 2427 1890 \r\nQ 2291 1978 2150 2013 \r\nQ 2047 2034 1813 2034 \r\nL 1109 2034 \r\nL 1109 0 \r\nL 503 0 \r\nz\r\nM 1109 2559 \r\nL 2413 2559 \r\nQ 2828 2559 3062 2645 \r\nQ 3297 2731 3419 2920 \r\nQ 3541 3109 3541 3331 \r\nQ 3541 3656 3305 3865 \r\nQ 3069 4075 2559 4075 \r\nL 1109 4075 \r\nL 1109 2559 \r\nz\r\n\" id=\"ArialMT-52\" transform=\"scale(0.015625)\"/>\r\n        <path d=\"M 556 0 \r\nL 556 2881 \r\nL 59 2881 \r\nL 59 3319 \r\nL 556 3319 \r\nL 556 3672 \r\nQ 556 4006 616 4169 \r\nQ 697 4388 901 4523 \r\nQ 1106 4659 1475 4659 \r\nQ 1713 4659 2000 4603 \r\nL 1916 4113 \r\nQ 1741 4144 1584 4144 \r\nQ 1328 4144 1222 4034 \r\nQ 1116 3925 1116 3625 \r\nL 1116 3319 \r\nL 1763 3319 \r\nL 1763 2881 \r\nL 1116 2881 \r\nL 1116 0 \r\nL 556 0 \r\nz\r\n\" id=\"ArialMT-66\" transform=\"scale(0.015625)\"/>\r\n        <path d=\"M 1344 0 \r\nL 81 3319 \r\nL 675 3319 \r\nL 1388 1331 \r\nQ 1503 1009 1600 663 \r\nQ 1675 925 1809 1294 \r\nL 2547 3319 \r\nL 3125 3319 \r\nL 1869 0 \r\nL 1344 0 \r\nz\r\n\" id=\"ArialMT-76\" transform=\"scale(0.015625)\"/>\r\n        <path d=\"M 3500 4581 \r\nL 4106 4581 \r\nL 4106 1934 \r\nQ 4106 1244 3950 837 \r\nQ 3794 431 3386 176 \r\nQ 2978 -78 2316 -78 \r\nQ 1672 -78 1262 144 \r\nQ 853 366 678 786 \r\nQ 503 1206 503 1934 \r\nL 503 4581 \r\nL 1109 4581 \r\nL 1109 1938 \r\nQ 1109 1341 1220 1058 \r\nQ 1331 775 1601 622 \r\nQ 1872 469 2263 469 \r\nQ 2931 469 3215 772 \r\nQ 3500 1075 3500 1938 \r\nL 3500 4581 \r\nz\r\n\" id=\"ArialMT-55\" transform=\"scale(0.015625)\"/>\r\n        <path d=\"M 288 1472 \r\nL 859 1522 \r\nQ 900 1178 1048 958 \r\nQ 1197 738 1509 602 \r\nQ 1822 466 2213 466 \r\nQ 2559 466 2825 569 \r\nQ 3091 672 3220 851 \r\nQ 3350 1031 3350 1244 \r\nQ 3350 1459 3225 1620 \r\nQ 3100 1781 2813 1891 \r\nQ 2628 1963 1997 2114 \r\nQ 1366 2266 1113 2400 \r\nQ 784 2572 623 2826 \r\nQ 463 3081 463 3397 \r\nQ 463 3744 659 4045 \r\nQ 856 4347 1234 4503 \r\nQ 1613 4659 2075 4659 \r\nQ 2584 4659 2973 4495 \r\nQ 3363 4331 3572 4012 \r\nQ 3781 3694 3797 3291 \r\nL 3216 3247 \r\nQ 3169 3681 2898 3903 \r\nQ 2628 4125 2100 4125 \r\nQ 1550 4125 1298 3923 \r\nQ 1047 3722 1047 3438 \r\nQ 1047 3191 1225 3031 \r\nQ 1400 2872 2139 2705 \r\nQ 2878 2538 3153 2413 \r\nQ 3553 2228 3743 1945 \r\nQ 3934 1663 3934 1294 \r\nQ 3934 928 3725 604 \r\nQ 3516 281 3123 101 \r\nQ 2731 -78 2241 -78 \r\nQ 1619 -78 1198 103 \r\nQ 778 284 539 648 \r\nQ 300 1013 288 1472 \r\nz\r\n\" id=\"ArialMT-53\" transform=\"scale(0.015625)\"/>\r\n       </defs>\r\n       <use xlink:href=\"#ArialMT-52\"/>\r\n       <use x=\"72.216797\" xlink:href=\"#ArialMT-65\"/>\r\n       <use x=\"127.832031\" xlink:href=\"#ArialMT-63\"/>\r\n       <use x=\"177.832031\" xlink:href=\"#ArialMT-65\"/>\r\n       <use x=\"233.447266\" xlink:href=\"#ArialMT-6e\"/>\r\n       <use x=\"289.0625\" xlink:href=\"#ArialMT-74\"/>\r\n       <use x=\"316.845703\" xlink:href=\"#ArialMT-6c\"/>\r\n       <use x=\"339.0625\" xlink:href=\"#ArialMT-79\"/>\r\n       <use x=\"389.0625\" xlink:href=\"#ArialMT-20\"/>\r\n       <use x=\"416.845703\" xlink:href=\"#ArialMT-61\"/>\r\n       <use x=\"472.460938\" xlink:href=\"#ArialMT-20\"/>\r\n       <use x=\"500.244141\" xlink:href=\"#ArialMT-6c\"/>\r\n       <use x=\"522.460938\" xlink:href=\"#ArialMT-6f\"/>\r\n       <use x=\"578.076172\" xlink:href=\"#ArialMT-74\"/>\r\n       <use x=\"605.859375\" xlink:href=\"#ArialMT-20\"/>\r\n       <use x=\"633.642578\" xlink:href=\"#ArialMT-6f\"/>\r\n       <use x=\"689.257812\" xlink:href=\"#ArialMT-66\"/>\r\n       <use x=\"717.041016\" xlink:href=\"#ArialMT-20\"/>\r\n       <use x=\"744.824219\" xlink:href=\"#ArialMT-68\"/>\r\n       <use x=\"800.439453\" xlink:href=\"#ArialMT-75\"/>\r\n       <use x=\"856.054688\" xlink:href=\"#ArialMT-72\"/>\r\n       <use x=\"889.355469\" xlink:href=\"#ArialMT-72\"/>\r\n       <use x=\"922.65625\" xlink:href=\"#ArialMT-69\"/>\r\n       <use x=\"944.873047\" xlink:href=\"#ArialMT-63\"/>\r\n       <use x=\"994.873047\" xlink:href=\"#ArialMT-61\"/>\r\n       <use x=\"1050.488281\" xlink:href=\"#ArialMT-6e\"/>\r\n       <use x=\"1106.103516\" xlink:href=\"#ArialMT-65\"/>\r\n       <use x=\"1161.71875\" xlink:href=\"#ArialMT-73\"/>\r\n       <use x=\"1211.71875\" xlink:href=\"#ArialMT-20\"/>\r\n       <use x=\"1239.501953\" xlink:href=\"#ArialMT-68\"/>\r\n       <use x=\"1295.117188\" xlink:href=\"#ArialMT-61\"/>\r\n       <use x=\"1350.732422\" xlink:href=\"#ArialMT-76\"/>\r\n       <use x=\"1400.732422\" xlink:href=\"#ArialMT-65\"/>\r\n       <use x=\"1456.347656\" xlink:href=\"#ArialMT-20\"/>\r\n       <use x=\"1484.130859\" xlink:href=\"#ArialMT-68\"/>\r\n       <use x=\"1539.746094\" xlink:href=\"#ArialMT-69\"/>\r\n       <use x=\"1561.962891\" xlink:href=\"#ArialMT-74\"/>\r\n       <use x=\"1589.746094\" xlink:href=\"#ArialMT-20\"/>\r\n       <use x=\"1617.529297\" xlink:href=\"#ArialMT-74\"/>\r\n       <use x=\"1645.3125\" xlink:href=\"#ArialMT-68\"/>\r\n       <use x=\"1700.927734\" xlink:href=\"#ArialMT-65\"/>\r\n       <use x=\"1756.542969\" xlink:href=\"#ArialMT-20\"/>\r\n       <use x=\"1784.326172\" xlink:href=\"#ArialMT-55\"/>\r\n       <use x=\"1856.542969\" xlink:href=\"#ArialMT-53\"/>\r\n      </g>\r\n     </g>\r\n    </g>\r\n    <g id=\"xtick_6\">\r\n     <g id=\"text_6\">\r\n      <!-- Global warming is real -->\r\n      <g style=\"fill:#262626;\" transform=\"translate(407.888 381.197563)rotate(-90)scale(0.132 -0.132)\">\r\n       <defs>\r\n        <path d=\"M 2638 1797 \r\nL 2638 2334 \r\nL 4578 2338 \r\nL 4578 638 \r\nQ 4131 281 3656 101 \r\nQ 3181 -78 2681 -78 \r\nQ 2006 -78 1454 211 \r\nQ 903 500 622 1047 \r\nQ 341 1594 341 2269 \r\nQ 341 2938 620 3517 \r\nQ 900 4097 1425 4378 \r\nQ 1950 4659 2634 4659 \r\nQ 3131 4659 3532 4498 \r\nQ 3934 4338 4162 4050 \r\nQ 4391 3763 4509 3300 \r\nL 3963 3150 \r\nQ 3859 3500 3706 3700 \r\nQ 3553 3900 3268 4020 \r\nQ 2984 4141 2638 4141 \r\nQ 2222 4141 1919 4014 \r\nQ 1616 3888 1430 3681 \r\nQ 1244 3475 1141 3228 \r\nQ 966 2803 966 2306 \r\nQ 966 1694 1177 1281 \r\nQ 1388 869 1791 669 \r\nQ 2194 469 2647 469 \r\nQ 3041 469 3416 620 \r\nQ 3791 772 3984 944 \r\nL 3984 1797 \r\nL 2638 1797 \r\nz\r\n\" id=\"ArialMT-47\" transform=\"scale(0.015625)\"/>\r\n        <path d=\"M 941 0 \r\nL 419 0 \r\nL 419 4581 \r\nL 981 4581 \r\nL 981 2947 \r\nQ 1338 3394 1891 3394 \r\nQ 2197 3394 2470 3270 \r\nQ 2744 3147 2920 2923 \r\nQ 3097 2700 3197 2384 \r\nQ 3297 2069 3297 1709 \r\nQ 3297 856 2875 390 \r\nQ 2453 -75 1863 -75 \r\nQ 1275 -75 941 416 \r\nL 941 0 \r\nz\r\nM 934 1684 \r\nQ 934 1088 1097 822 \r\nQ 1363 388 1816 388 \r\nQ 2184 388 2453 708 \r\nQ 2722 1028 2722 1663 \r\nQ 2722 2313 2464 2622 \r\nQ 2206 2931 1841 2931 \r\nQ 1472 2931 1203 2611 \r\nQ 934 2291 934 1684 \r\nz\r\n\" id=\"ArialMT-62\" transform=\"scale(0.015625)\"/>\r\n       </defs>\r\n       <use xlink:href=\"#ArialMT-47\"/>\r\n       <use x=\"77.783203\" xlink:href=\"#ArialMT-6c\"/>\r\n       <use x=\"100\" xlink:href=\"#ArialMT-6f\"/>\r\n       <use x=\"155.615234\" xlink:href=\"#ArialMT-62\"/>\r\n       <use x=\"211.230469\" xlink:href=\"#ArialMT-61\"/>\r\n       <use x=\"266.845703\" xlink:href=\"#ArialMT-6c\"/>\r\n       <use x=\"289.0625\" xlink:href=\"#ArialMT-20\"/>\r\n       <use x=\"316.845703\" xlink:href=\"#ArialMT-77\"/>\r\n       <use x=\"389.0625\" xlink:href=\"#ArialMT-61\"/>\r\n       <use x=\"444.677734\" xlink:href=\"#ArialMT-72\"/>\r\n       <use x=\"477.978516\" xlink:href=\"#ArialMT-6d\"/>\r\n       <use x=\"561.279297\" xlink:href=\"#ArialMT-69\"/>\r\n       <use x=\"583.496094\" xlink:href=\"#ArialMT-6e\"/>\r\n       <use x=\"639.111328\" xlink:href=\"#ArialMT-67\"/>\r\n       <use x=\"694.726562\" xlink:href=\"#ArialMT-20\"/>\r\n       <use x=\"722.509766\" xlink:href=\"#ArialMT-69\"/>\r\n       <use x=\"744.726562\" xlink:href=\"#ArialMT-73\"/>\r\n       <use x=\"794.726562\" xlink:href=\"#ArialMT-20\"/>\r\n       <use x=\"822.509766\" xlink:href=\"#ArialMT-72\"/>\r\n       <use x=\"855.810547\" xlink:href=\"#ArialMT-65\"/>\r\n       <use x=\"911.425781\" xlink:href=\"#ArialMT-61\"/>\r\n       <use x=\"967.041016\" xlink:href=\"#ArialMT-6c\"/>\r\n      </g>\r\n     </g>\r\n    </g>\r\n    <g id=\"xtick_7\">\r\n     <g id=\"text_7\">\r\n      <!-- An apple a day, keeps the doctors away -->\r\n      <g style=\"fill:#262626;\" transform=\"translate(432.156653 483.714125)rotate(-90)scale(0.132 -0.132)\">\r\n       <defs>\r\n        <path d=\"M -9 0 \r\nL 1750 4581 \r\nL 2403 4581 \r\nL 4278 0 \r\nL 3588 0 \r\nL 3053 1388 \r\nL 1138 1388 \r\nL 634 0 \r\nL -9 0 \r\nz\r\nM 1313 1881 \r\nL 2866 1881 \r\nL 2388 3150 \r\nQ 2169 3728 2063 4100 \r\nQ 1975 3659 1816 3225 \r\nL 1313 1881 \r\nz\r\n\" id=\"ArialMT-41\" transform=\"scale(0.015625)\"/>\r\n        <path d=\"M 569 0 \r\nL 569 641 \r\nL 1209 641 \r\nL 1209 0 \r\nQ 1209 -353 1084 -570 \r\nQ 959 -788 688 -906 \r\nL 531 -666 \r\nQ 709 -588 793 -436 \r\nQ 878 -284 888 0 \r\nL 569 0 \r\nz\r\n\" id=\"ArialMT-2c\" transform=\"scale(0.015625)\"/>\r\n       </defs>\r\n       <use xlink:href=\"#ArialMT-41\"/>\r\n       <use x=\"66.699219\" xlink:href=\"#ArialMT-6e\"/>\r\n       <use x=\"122.314453\" xlink:href=\"#ArialMT-20\"/>\r\n       <use x=\"150.097656\" xlink:href=\"#ArialMT-61\"/>\r\n       <use x=\"205.712891\" xlink:href=\"#ArialMT-70\"/>\r\n       <use x=\"261.328125\" xlink:href=\"#ArialMT-70\"/>\r\n       <use x=\"316.943359\" xlink:href=\"#ArialMT-6c\"/>\r\n       <use x=\"339.160156\" xlink:href=\"#ArialMT-65\"/>\r\n       <use x=\"394.775391\" xlink:href=\"#ArialMT-20\"/>\r\n       <use x=\"422.558594\" xlink:href=\"#ArialMT-61\"/>\r\n       <use x=\"478.173828\" xlink:href=\"#ArialMT-20\"/>\r\n       <use x=\"505.957031\" xlink:href=\"#ArialMT-64\"/>\r\n       <use x=\"561.572266\" xlink:href=\"#ArialMT-61\"/>\r\n       <use x=\"617.1875\" xlink:href=\"#ArialMT-79\"/>\r\n       <use x=\"659.8125\" xlink:href=\"#ArialMT-2c\"/>\r\n       <use x=\"687.595703\" xlink:href=\"#ArialMT-20\"/>\r\n       <use x=\"715.378906\" xlink:href=\"#ArialMT-6b\"/>\r\n       <use x=\"765.378906\" xlink:href=\"#ArialMT-65\"/>\r\n       <use x=\"820.994141\" xlink:href=\"#ArialMT-65\"/>\r\n       <use x=\"876.609375\" xlink:href=\"#ArialMT-70\"/>\r\n       <use x=\"932.224609\" xlink:href=\"#ArialMT-73\"/>\r\n       <use x=\"982.224609\" xlink:href=\"#ArialMT-20\"/>\r\n       <use x=\"1010.007812\" xlink:href=\"#ArialMT-74\"/>\r\n       <use x=\"1037.791016\" xlink:href=\"#ArialMT-68\"/>\r\n       <use x=\"1093.40625\" xlink:href=\"#ArialMT-65\"/>\r\n       <use x=\"1149.021484\" xlink:href=\"#ArialMT-20\"/>\r\n       <use x=\"1176.804688\" xlink:href=\"#ArialMT-64\"/>\r\n       <use x=\"1232.419922\" xlink:href=\"#ArialMT-6f\"/>\r\n       <use x=\"1288.035156\" xlink:href=\"#ArialMT-63\"/>\r\n       <use x=\"1338.035156\" xlink:href=\"#ArialMT-74\"/>\r\n       <use x=\"1365.818359\" xlink:href=\"#ArialMT-6f\"/>\r\n       <use x=\"1421.433594\" xlink:href=\"#ArialMT-72\"/>\r\n       <use x=\"1454.734375\" xlink:href=\"#ArialMT-73\"/>\r\n       <use x=\"1504.734375\" xlink:href=\"#ArialMT-20\"/>\r\n       <use x=\"1532.517578\" xlink:href=\"#ArialMT-61\"/>\r\n       <use x=\"1588.132812\" xlink:href=\"#ArialMT-77\"/>\r\n       <use x=\"1660.349609\" xlink:href=\"#ArialMT-61\"/>\r\n       <use x=\"1715.964844\" xlink:href=\"#ArialMT-79\"/>\r\n      </g>\r\n     </g>\r\n    </g>\r\n    <g id=\"xtick_8\">\r\n     <g id=\"text_8\">\r\n      <!-- Eating strawberries is healthy -->\r\n      <g style=\"fill:#262626;\" transform=\"translate(456.505744 423.025062)rotate(-90)scale(0.132 -0.132)\">\r\n       <defs>\r\n        <path d=\"M 506 0 \r\nL 506 4581 \r\nL 3819 4581 \r\nL 3819 4041 \r\nL 1113 4041 \r\nL 1113 2638 \r\nL 3647 2638 \r\nL 3647 2100 \r\nL 1113 2100 \r\nL 1113 541 \r\nL 3925 541 \r\nL 3925 0 \r\nL 506 0 \r\nz\r\n\" id=\"ArialMT-45\" transform=\"scale(0.015625)\"/>\r\n       </defs>\r\n       <use xlink:href=\"#ArialMT-45\"/>\r\n       <use x=\"66.699219\" xlink:href=\"#ArialMT-61\"/>\r\n       <use x=\"122.314453\" xlink:href=\"#ArialMT-74\"/>\r\n       <use x=\"150.097656\" xlink:href=\"#ArialMT-69\"/>\r\n       <use x=\"172.314453\" xlink:href=\"#ArialMT-6e\"/>\r\n       <use x=\"227.929688\" xlink:href=\"#ArialMT-67\"/>\r\n       <use x=\"283.544922\" xlink:href=\"#ArialMT-20\"/>\r\n       <use x=\"311.328125\" xlink:href=\"#ArialMT-73\"/>\r\n       <use x=\"361.328125\" xlink:href=\"#ArialMT-74\"/>\r\n       <use x=\"389.111328\" xlink:href=\"#ArialMT-72\"/>\r\n       <use x=\"422.412109\" xlink:href=\"#ArialMT-61\"/>\r\n       <use x=\"478.027344\" xlink:href=\"#ArialMT-77\"/>\r\n       <use x=\"550.244141\" xlink:href=\"#ArialMT-62\"/>\r\n       <use x=\"605.859375\" xlink:href=\"#ArialMT-65\"/>\r\n       <use x=\"661.474609\" xlink:href=\"#ArialMT-72\"/>\r\n       <use x=\"694.775391\" xlink:href=\"#ArialMT-72\"/>\r\n       <use x=\"728.076172\" xlink:href=\"#ArialMT-69\"/>\r\n       <use x=\"750.292969\" xlink:href=\"#ArialMT-65\"/>\r\n       <use x=\"805.908203\" xlink:href=\"#ArialMT-73\"/>\r\n       <use x=\"855.908203\" xlink:href=\"#ArialMT-20\"/>\r\n       <use x=\"883.691406\" xlink:href=\"#ArialMT-69\"/>\r\n       <use x=\"905.908203\" xlink:href=\"#ArialMT-73\"/>\r\n       <use x=\"955.908203\" xlink:href=\"#ArialMT-20\"/>\r\n       <use x=\"983.691406\" xlink:href=\"#ArialMT-68\"/>\r\n       <use x=\"1039.306641\" xlink:href=\"#ArialMT-65\"/>\r\n       <use x=\"1094.921875\" xlink:href=\"#ArialMT-61\"/>\r\n       <use x=\"1150.537109\" xlink:href=\"#ArialMT-6c\"/>\r\n       <use x=\"1172.753906\" xlink:href=\"#ArialMT-74\"/>\r\n       <use x=\"1200.537109\" xlink:href=\"#ArialMT-68\"/>\r\n       <use x=\"1256.152344\" xlink:href=\"#ArialMT-79\"/>\r\n      </g>\r\n     </g>\r\n    </g>\r\n    <g id=\"xtick_9\">\r\n     <g id=\"text_9\">\r\n      <!-- Is paleo better than keto? -->\r\n      <g style=\"fill:#262626;\" transform=\"translate(481.012616 399.580625)rotate(-90)scale(0.132 -0.132)\">\r\n       <use xlink:href=\"#ArialMT-49\"/>\r\n       <use x=\"27.783203\" xlink:href=\"#ArialMT-73\"/>\r\n       <use x=\"77.783203\" xlink:href=\"#ArialMT-20\"/>\r\n       <use x=\"105.566406\" xlink:href=\"#ArialMT-70\"/>\r\n       <use x=\"161.181641\" xlink:href=\"#ArialMT-61\"/>\r\n       <use x=\"216.796875\" xlink:href=\"#ArialMT-6c\"/>\r\n       <use x=\"239.013672\" xlink:href=\"#ArialMT-65\"/>\r\n       <use x=\"294.628906\" xlink:href=\"#ArialMT-6f\"/>\r\n       <use x=\"350.244141\" xlink:href=\"#ArialMT-20\"/>\r\n       <use x=\"378.027344\" xlink:href=\"#ArialMT-62\"/>\r\n       <use x=\"433.642578\" xlink:href=\"#ArialMT-65\"/>\r\n       <use x=\"489.257812\" xlink:href=\"#ArialMT-74\"/>\r\n       <use x=\"517.041016\" xlink:href=\"#ArialMT-74\"/>\r\n       <use x=\"544.824219\" xlink:href=\"#ArialMT-65\"/>\r\n       <use x=\"600.439453\" xlink:href=\"#ArialMT-72\"/>\r\n       <use x=\"633.740234\" xlink:href=\"#ArialMT-20\"/>\r\n       <use x=\"661.523438\" xlink:href=\"#ArialMT-74\"/>\r\n       <use x=\"689.306641\" xlink:href=\"#ArialMT-68\"/>\r\n       <use x=\"744.921875\" xlink:href=\"#ArialMT-61\"/>\r\n       <use x=\"800.537109\" xlink:href=\"#ArialMT-6e\"/>\r\n       <use x=\"856.152344\" xlink:href=\"#ArialMT-20\"/>\r\n       <use x=\"883.935547\" xlink:href=\"#ArialMT-6b\"/>\r\n       <use x=\"933.935547\" xlink:href=\"#ArialMT-65\"/>\r\n       <use x=\"989.550781\" xlink:href=\"#ArialMT-74\"/>\r\n       <use x=\"1017.333984\" xlink:href=\"#ArialMT-6f\"/>\r\n       <use x=\"1072.949219\" xlink:href=\"#ArialMT-3f\"/>\r\n      </g>\r\n     </g>\r\n    </g>\r\n    <g id=\"xtick_10\">\r\n     <g id=\"text_10\">\r\n      <!-- How old are you? -->\r\n      <g style=\"fill:#262626;\" transform=\"translate(505.284364 353.341437)rotate(-90)scale(0.132 -0.132)\">\r\n       <defs>\r\n        <path d=\"M 513 0 \r\nL 513 4581 \r\nL 1119 4581 \r\nL 1119 2700 \r\nL 3500 2700 \r\nL 3500 4581 \r\nL 4106 4581 \r\nL 4106 0 \r\nL 3500 0 \r\nL 3500 2159 \r\nL 1119 2159 \r\nL 1119 0 \r\nL 513 0 \r\nz\r\n\" id=\"ArialMT-48\" transform=\"scale(0.015625)\"/>\r\n       </defs>\r\n       <use xlink:href=\"#ArialMT-48\"/>\r\n       <use x=\"72.216797\" xlink:href=\"#ArialMT-6f\"/>\r\n       <use x=\"127.832031\" xlink:href=\"#ArialMT-77\"/>\r\n       <use x=\"200.048828\" xlink:href=\"#ArialMT-20\"/>\r\n       <use x=\"227.832031\" xlink:href=\"#ArialMT-6f\"/>\r\n       <use x=\"283.447266\" xlink:href=\"#ArialMT-6c\"/>\r\n       <use x=\"305.664062\" xlink:href=\"#ArialMT-64\"/>\r\n       <use x=\"361.279297\" xlink:href=\"#ArialMT-20\"/>\r\n       <use x=\"389.0625\" xlink:href=\"#ArialMT-61\"/>\r\n       <use x=\"444.677734\" xlink:href=\"#ArialMT-72\"/>\r\n       <use x=\"477.978516\" xlink:href=\"#ArialMT-65\"/>\r\n       <use x=\"533.59375\" xlink:href=\"#ArialMT-20\"/>\r\n       <use x=\"561.376953\" xlink:href=\"#ArialMT-79\"/>\r\n       <use x=\"611.376953\" xlink:href=\"#ArialMT-6f\"/>\r\n       <use x=\"666.992188\" xlink:href=\"#ArialMT-75\"/>\r\n       <use x=\"722.607422\" xlink:href=\"#ArialMT-3f\"/>\r\n      </g>\r\n     </g>\r\n    </g>\r\n    <g id=\"xtick_11\">\r\n     <g id=\"text_11\">\r\n      <!-- what is your age? -->\r\n      <g style=\"fill:#262626;\" transform=\"translate(529.633455 354.075688)rotate(-90)scale(0.132 -0.132)\">\r\n       <use xlink:href=\"#ArialMT-77\"/>\r\n       <use x=\"72.216797\" xlink:href=\"#ArialMT-68\"/>\r\n       <use x=\"127.832031\" xlink:href=\"#ArialMT-61\"/>\r\n       <use x=\"183.447266\" xlink:href=\"#ArialMT-74\"/>\r\n       <use x=\"211.230469\" xlink:href=\"#ArialMT-20\"/>\r\n       <use x=\"239.013672\" xlink:href=\"#ArialMT-69\"/>\r\n       <use x=\"261.230469\" xlink:href=\"#ArialMT-73\"/>\r\n       <use x=\"311.230469\" xlink:href=\"#ArialMT-20\"/>\r\n       <use x=\"339.013672\" xlink:href=\"#ArialMT-79\"/>\r\n       <use x=\"389.013672\" xlink:href=\"#ArialMT-6f\"/>\r\n       <use x=\"444.628906\" xlink:href=\"#ArialMT-75\"/>\r\n       <use x=\"500.244141\" xlink:href=\"#ArialMT-72\"/>\r\n       <use x=\"533.544922\" xlink:href=\"#ArialMT-20\"/>\r\n       <use x=\"561.328125\" xlink:href=\"#ArialMT-61\"/>\r\n       <use x=\"616.943359\" xlink:href=\"#ArialMT-67\"/>\r\n       <use x=\"672.558594\" xlink:href=\"#ArialMT-65\"/>\r\n       <use x=\"728.173828\" xlink:href=\"#ArialMT-3f\"/>\r\n      </g>\r\n     </g>\r\n    </g>\r\n   </g>\r\n   <g id=\"matplotlib.axis_2\">\r\n    <g id=\"ytick_1\">\r\n     <g id=\"text_12\">\r\n      <!-- I like my phone -->\r\n      <g style=\"fill:#262626;\" transform=\"translate(172.280438 36.901449)scale(0.132 -0.132)\">\r\n       <use xlink:href=\"#ArialMT-49\"/>\r\n       <use x=\"27.783203\" xlink:href=\"#ArialMT-20\"/>\r\n       <use x=\"55.566406\" xlink:href=\"#ArialMT-6c\"/>\r\n       <use x=\"77.783203\" xlink:href=\"#ArialMT-69\"/>\r\n       <use x=\"100\" xlink:href=\"#ArialMT-6b\"/>\r\n       <use x=\"150\" xlink:href=\"#ArialMT-65\"/>\r\n       <use x=\"205.615234\" xlink:href=\"#ArialMT-20\"/>\r\n       <use x=\"233.398438\" xlink:href=\"#ArialMT-6d\"/>\r\n       <use x=\"316.699219\" xlink:href=\"#ArialMT-79\"/>\r\n       <use x=\"366.699219\" xlink:href=\"#ArialMT-20\"/>\r\n       <use x=\"394.482422\" xlink:href=\"#ArialMT-70\"/>\r\n       <use x=\"450.097656\" xlink:href=\"#ArialMT-68\"/>\r\n       <use x=\"505.712891\" xlink:href=\"#ArialMT-6f\"/>\r\n       <use x=\"561.328125\" xlink:href=\"#ArialMT-6e\"/>\r\n       <use x=\"616.943359\" xlink:href=\"#ArialMT-65\"/>\r\n      </g>\r\n     </g>\r\n    </g>\r\n    <g id=\"ytick_2\">\r\n     <g id=\"text_13\">\r\n      <!-- My phone is not good. -->\r\n      <g style=\"fill:#262626;\" transform=\"translate(131.176875 56.668722)scale(0.132 -0.132)\">\r\n       <use xlink:href=\"#ArialMT-4d\"/>\r\n       <use x=\"83.300781\" xlink:href=\"#ArialMT-79\"/>\r\n       <use x=\"133.300781\" xlink:href=\"#ArialMT-20\"/>\r\n       <use x=\"161.083984\" xlink:href=\"#ArialMT-70\"/>\r\n       <use x=\"216.699219\" xlink:href=\"#ArialMT-68\"/>\r\n       <use x=\"272.314453\" xlink:href=\"#ArialMT-6f\"/>\r\n       <use x=\"327.929688\" xlink:href=\"#ArialMT-6e\"/>\r\n       <use x=\"383.544922\" xlink:href=\"#ArialMT-65\"/>\r\n       <use x=\"439.160156\" xlink:href=\"#ArialMT-20\"/>\r\n       <use x=\"466.943359\" xlink:href=\"#ArialMT-69\"/>\r\n       <use x=\"489.160156\" xlink:href=\"#ArialMT-73\"/>\r\n       <use x=\"539.160156\" xlink:href=\"#ArialMT-20\"/>\r\n       <use x=\"566.943359\" xlink:href=\"#ArialMT-6e\"/>\r\n       <use x=\"622.558594\" xlink:href=\"#ArialMT-6f\"/>\r\n       <use x=\"678.173828\" xlink:href=\"#ArialMT-74\"/>\r\n       <use x=\"705.957031\" xlink:href=\"#ArialMT-20\"/>\r\n       <use x=\"733.740234\" xlink:href=\"#ArialMT-67\"/>\r\n       <use x=\"789.355469\" xlink:href=\"#ArialMT-6f\"/>\r\n       <use x=\"844.970703\" xlink:href=\"#ArialMT-6f\"/>\r\n       <use x=\"900.585938\" xlink:href=\"#ArialMT-64\"/>\r\n       <use x=\"956.201172\" xlink:href=\"#ArialMT-2e\"/>\r\n      </g>\r\n     </g>\r\n    </g>\r\n    <g id=\"ytick_3\">\r\n     <g id=\"text_14\">\r\n      <!-- Your cellphone looks great. -->\r\n      <g style=\"fill:#262626;\" transform=\"translate(102.301875 76.435994)scale(0.132 -0.132)\">\r\n       <use xlink:href=\"#ArialMT-59\"/>\r\n       <use x=\"57.574219\" xlink:href=\"#ArialMT-6f\"/>\r\n       <use x=\"113.189453\" xlink:href=\"#ArialMT-75\"/>\r\n       <use x=\"168.804688\" xlink:href=\"#ArialMT-72\"/>\r\n       <use x=\"202.105469\" xlink:href=\"#ArialMT-20\"/>\r\n       <use x=\"229.888672\" xlink:href=\"#ArialMT-63\"/>\r\n       <use x=\"279.888672\" xlink:href=\"#ArialMT-65\"/>\r\n       <use x=\"335.503906\" xlink:href=\"#ArialMT-6c\"/>\r\n       <use x=\"357.720703\" xlink:href=\"#ArialMT-6c\"/>\r\n       <use x=\"379.9375\" xlink:href=\"#ArialMT-70\"/>\r\n       <use x=\"435.552734\" xlink:href=\"#ArialMT-68\"/>\r\n       <use x=\"491.167969\" xlink:href=\"#ArialMT-6f\"/>\r\n       <use x=\"546.783203\" xlink:href=\"#ArialMT-6e\"/>\r\n       <use x=\"602.398438\" xlink:href=\"#ArialMT-65\"/>\r\n       <use x=\"658.013672\" xlink:href=\"#ArialMT-20\"/>\r\n       <use x=\"685.796875\" xlink:href=\"#ArialMT-6c\"/>\r\n       <use x=\"708.013672\" xlink:href=\"#ArialMT-6f\"/>\r\n       <use x=\"763.628906\" xlink:href=\"#ArialMT-6f\"/>\r\n       <use x=\"819.244141\" xlink:href=\"#ArialMT-6b\"/>\r\n       <use x=\"869.244141\" xlink:href=\"#ArialMT-73\"/>\r\n       <use x=\"919.244141\" xlink:href=\"#ArialMT-20\"/>\r\n       <use x=\"947.027344\" xlink:href=\"#ArialMT-67\"/>\r\n       <use x=\"1002.642578\" xlink:href=\"#ArialMT-72\"/>\r\n       <use x=\"1035.943359\" xlink:href=\"#ArialMT-65\"/>\r\n       <use x=\"1091.558594\" xlink:href=\"#ArialMT-61\"/>\r\n       <use x=\"1147.173828\" xlink:href=\"#ArialMT-74\"/>\r\n       <use x=\"1174.957031\" xlink:href=\"#ArialMT-2e\"/>\r\n      </g>\r\n     </g>\r\n    </g>\r\n    <g id=\"ytick_4\">\r\n     <g id=\"text_15\">\r\n      <!-- Will it snow tomorrow? -->\r\n      <g style=\"fill:#262626;\" transform=\"translate(129.031875 96.280611)scale(0.132 -0.132)\">\r\n       <use xlink:href=\"#ArialMT-57\"/>\r\n       <use x=\"94.384766\" xlink:href=\"#ArialMT-69\"/>\r\n       <use x=\"116.601562\" xlink:href=\"#ArialMT-6c\"/>\r\n       <use x=\"138.818359\" xlink:href=\"#ArialMT-6c\"/>\r\n       <use x=\"161.035156\" xlink:href=\"#ArialMT-20\"/>\r\n       <use x=\"188.818359\" xlink:href=\"#ArialMT-69\"/>\r\n       <use x=\"211.035156\" xlink:href=\"#ArialMT-74\"/>\r\n       <use x=\"238.818359\" xlink:href=\"#ArialMT-20\"/>\r\n       <use x=\"266.601562\" xlink:href=\"#ArialMT-73\"/>\r\n       <use x=\"316.601562\" xlink:href=\"#ArialMT-6e\"/>\r\n       <use x=\"372.216797\" xlink:href=\"#ArialMT-6f\"/>\r\n       <use x=\"427.832031\" xlink:href=\"#ArialMT-77\"/>\r\n       <use x=\"500.048828\" xlink:href=\"#ArialMT-20\"/>\r\n       <use x=\"527.832031\" xlink:href=\"#ArialMT-74\"/>\r\n       <use x=\"555.615234\" xlink:href=\"#ArialMT-6f\"/>\r\n       <use x=\"611.230469\" xlink:href=\"#ArialMT-6d\"/>\r\n       <use x=\"694.53125\" xlink:href=\"#ArialMT-6f\"/>\r\n       <use x=\"750.146484\" xlink:href=\"#ArialMT-72\"/>\r\n       <use x=\"783.447266\" xlink:href=\"#ArialMT-72\"/>\r\n       <use x=\"816.748047\" xlink:href=\"#ArialMT-6f\"/>\r\n       <use x=\"872.363281\" xlink:href=\"#ArialMT-77\"/>\r\n       <use x=\"944.580078\" xlink:href=\"#ArialMT-3f\"/>\r\n      </g>\r\n     </g>\r\n    </g>\r\n    <g id=\"ytick_5\">\r\n     <g id=\"text_16\">\r\n      <!-- Recently a lot of hurricanes have hit the US -->\r\n      <g style=\"fill:#262626;\" transform=\"translate(7.2 116.050977)scale(0.132 -0.132)\">\r\n       <use xlink:href=\"#ArialMT-52\"/>\r\n       <use x=\"72.216797\" xlink:href=\"#ArialMT-65\"/>\r\n       <use x=\"127.832031\" xlink:href=\"#ArialMT-63\"/>\r\n       <use x=\"177.832031\" xlink:href=\"#ArialMT-65\"/>\r\n       <use x=\"233.447266\" xlink:href=\"#ArialMT-6e\"/>\r\n       <use x=\"289.0625\" xlink:href=\"#ArialMT-74\"/>\r\n       <use x=\"316.845703\" xlink:href=\"#ArialMT-6c\"/>\r\n       <use x=\"339.0625\" xlink:href=\"#ArialMT-79\"/>\r\n       <use x=\"389.0625\" xlink:href=\"#ArialMT-20\"/>\r\n       <use x=\"416.845703\" xlink:href=\"#ArialMT-61\"/>\r\n       <use x=\"472.460938\" xlink:href=\"#ArialMT-20\"/>\r\n       <use x=\"500.244141\" xlink:href=\"#ArialMT-6c\"/>\r\n       <use x=\"522.460938\" xlink:href=\"#ArialMT-6f\"/>\r\n       <use x=\"578.076172\" xlink:href=\"#ArialMT-74\"/>\r\n       <use x=\"605.859375\" xlink:href=\"#ArialMT-20\"/>\r\n       <use x=\"633.642578\" xlink:href=\"#ArialMT-6f\"/>\r\n       <use x=\"689.257812\" xlink:href=\"#ArialMT-66\"/>\r\n       <use x=\"717.041016\" xlink:href=\"#ArialMT-20\"/>\r\n       <use x=\"744.824219\" xlink:href=\"#ArialMT-68\"/>\r\n       <use x=\"800.439453\" xlink:href=\"#ArialMT-75\"/>\r\n       <use x=\"856.054688\" xlink:href=\"#ArialMT-72\"/>\r\n       <use x=\"889.355469\" xlink:href=\"#ArialMT-72\"/>\r\n       <use x=\"922.65625\" xlink:href=\"#ArialMT-69\"/>\r\n       <use x=\"944.873047\" xlink:href=\"#ArialMT-63\"/>\r\n       <use x=\"994.873047\" xlink:href=\"#ArialMT-61\"/>\r\n       <use x=\"1050.488281\" xlink:href=\"#ArialMT-6e\"/>\r\n       <use x=\"1106.103516\" xlink:href=\"#ArialMT-65\"/>\r\n       <use x=\"1161.71875\" xlink:href=\"#ArialMT-73\"/>\r\n       <use x=\"1211.71875\" xlink:href=\"#ArialMT-20\"/>\r\n       <use x=\"1239.501953\" xlink:href=\"#ArialMT-68\"/>\r\n       <use x=\"1295.117188\" xlink:href=\"#ArialMT-61\"/>\r\n       <use x=\"1350.732422\" xlink:href=\"#ArialMT-76\"/>\r\n       <use x=\"1400.732422\" xlink:href=\"#ArialMT-65\"/>\r\n       <use x=\"1456.347656\" xlink:href=\"#ArialMT-20\"/>\r\n       <use x=\"1484.130859\" xlink:href=\"#ArialMT-68\"/>\r\n       <use x=\"1539.746094\" xlink:href=\"#ArialMT-69\"/>\r\n       <use x=\"1561.962891\" xlink:href=\"#ArialMT-74\"/>\r\n       <use x=\"1589.746094\" xlink:href=\"#ArialMT-20\"/>\r\n       <use x=\"1617.529297\" xlink:href=\"#ArialMT-74\"/>\r\n       <use x=\"1645.3125\" xlink:href=\"#ArialMT-68\"/>\r\n       <use x=\"1700.927734\" xlink:href=\"#ArialMT-65\"/>\r\n       <use x=\"1756.542969\" xlink:href=\"#ArialMT-20\"/>\r\n       <use x=\"1784.326172\" xlink:href=\"#ArialMT-55\"/>\r\n       <use x=\"1856.542969\" xlink:href=\"#ArialMT-53\"/>\r\n      </g>\r\n     </g>\r\n    </g>\r\n    <g id=\"ytick_6\">\r\n     <g id=\"text_17\">\r\n      <!-- Global warming is real -->\r\n      <g style=\"fill:#262626;\" transform=\"translate(130.477688 135.81825)scale(0.132 -0.132)\">\r\n       <use xlink:href=\"#ArialMT-47\"/>\r\n       <use x=\"77.783203\" xlink:href=\"#ArialMT-6c\"/>\r\n       <use x=\"100\" xlink:href=\"#ArialMT-6f\"/>\r\n       <use x=\"155.615234\" xlink:href=\"#ArialMT-62\"/>\r\n       <use x=\"211.230469\" xlink:href=\"#ArialMT-61\"/>\r\n       <use x=\"266.845703\" xlink:href=\"#ArialMT-6c\"/>\r\n       <use x=\"289.0625\" xlink:href=\"#ArialMT-20\"/>\r\n       <use x=\"316.845703\" xlink:href=\"#ArialMT-77\"/>\r\n       <use x=\"389.0625\" xlink:href=\"#ArialMT-61\"/>\r\n       <use x=\"444.677734\" xlink:href=\"#ArialMT-72\"/>\r\n       <use x=\"477.978516\" xlink:href=\"#ArialMT-6d\"/>\r\n       <use x=\"561.279297\" xlink:href=\"#ArialMT-69\"/>\r\n       <use x=\"583.496094\" xlink:href=\"#ArialMT-6e\"/>\r\n       <use x=\"639.111328\" xlink:href=\"#ArialMT-67\"/>\r\n       <use x=\"694.726562\" xlink:href=\"#ArialMT-20\"/>\r\n       <use x=\"722.509766\" xlink:href=\"#ArialMT-69\"/>\r\n       <use x=\"744.726562\" xlink:href=\"#ArialMT-73\"/>\r\n       <use x=\"794.726562\" xlink:href=\"#ArialMT-20\"/>\r\n       <use x=\"822.509766\" xlink:href=\"#ArialMT-72\"/>\r\n       <use x=\"855.810547\" xlink:href=\"#ArialMT-65\"/>\r\n       <use x=\"911.425781\" xlink:href=\"#ArialMT-61\"/>\r\n       <use x=\"967.041016\" xlink:href=\"#ArialMT-6c\"/>\r\n      </g>\r\n     </g>\r\n    </g>\r\n    <g id=\"ytick_7\">\r\n     <g id=\"text_18\">\r\n      <!-- An apple a day, keeps the doctors away -->\r\n      <g style=\"fill:#262626;\" transform=\"translate(27.961125 155.505085)scale(0.132 -0.132)\">\r\n       <use xlink:href=\"#ArialMT-41\"/>\r\n       <use x=\"66.699219\" xlink:href=\"#ArialMT-6e\"/>\r\n       <use x=\"122.314453\" xlink:href=\"#ArialMT-20\"/>\r\n       <use x=\"150.097656\" xlink:href=\"#ArialMT-61\"/>\r\n       <use x=\"205.712891\" xlink:href=\"#ArialMT-70\"/>\r\n       <use x=\"261.328125\" xlink:href=\"#ArialMT-70\"/>\r\n       <use x=\"316.943359\" xlink:href=\"#ArialMT-6c\"/>\r\n       <use x=\"339.160156\" xlink:href=\"#ArialMT-65\"/>\r\n       <use x=\"394.775391\" xlink:href=\"#ArialMT-20\"/>\r\n       <use x=\"422.558594\" xlink:href=\"#ArialMT-61\"/>\r\n       <use x=\"478.173828\" xlink:href=\"#ArialMT-20\"/>\r\n       <use x=\"505.957031\" xlink:href=\"#ArialMT-64\"/>\r\n       <use x=\"561.572266\" xlink:href=\"#ArialMT-61\"/>\r\n       <use x=\"617.1875\" xlink:href=\"#ArialMT-79\"/>\r\n       <use x=\"659.8125\" xlink:href=\"#ArialMT-2c\"/>\r\n       <use x=\"687.595703\" xlink:href=\"#ArialMT-20\"/>\r\n       <use x=\"715.378906\" xlink:href=\"#ArialMT-6b\"/>\r\n       <use x=\"765.378906\" xlink:href=\"#ArialMT-65\"/>\r\n       <use x=\"820.994141\" xlink:href=\"#ArialMT-65\"/>\r\n       <use x=\"876.609375\" xlink:href=\"#ArialMT-70\"/>\r\n       <use x=\"932.224609\" xlink:href=\"#ArialMT-73\"/>\r\n       <use x=\"982.224609\" xlink:href=\"#ArialMT-20\"/>\r\n       <use x=\"1010.007812\" xlink:href=\"#ArialMT-74\"/>\r\n       <use x=\"1037.791016\" xlink:href=\"#ArialMT-68\"/>\r\n       <use x=\"1093.40625\" xlink:href=\"#ArialMT-65\"/>\r\n       <use x=\"1149.021484\" xlink:href=\"#ArialMT-20\"/>\r\n       <use x=\"1176.804688\" xlink:href=\"#ArialMT-64\"/>\r\n       <use x=\"1232.419922\" xlink:href=\"#ArialMT-6f\"/>\r\n       <use x=\"1288.035156\" xlink:href=\"#ArialMT-63\"/>\r\n       <use x=\"1338.035156\" xlink:href=\"#ArialMT-74\"/>\r\n       <use x=\"1365.818359\" xlink:href=\"#ArialMT-6f\"/>\r\n       <use x=\"1421.433594\" xlink:href=\"#ArialMT-72\"/>\r\n       <use x=\"1454.734375\" xlink:href=\"#ArialMT-73\"/>\r\n       <use x=\"1504.734375\" xlink:href=\"#ArialMT-20\"/>\r\n       <use x=\"1532.517578\" xlink:href=\"#ArialMT-61\"/>\r\n       <use x=\"1588.132812\" xlink:href=\"#ArialMT-77\"/>\r\n       <use x=\"1660.349609\" xlink:href=\"#ArialMT-61\"/>\r\n       <use x=\"1715.964844\" xlink:href=\"#ArialMT-79\"/>\r\n      </g>\r\n     </g>\r\n    </g>\r\n    <g id=\"ytick_8\">\r\n     <g id=\"text_19\">\r\n      <!-- Eating strawberries is healthy -->\r\n      <g style=\"fill:#262626;\" transform=\"translate(88.650187 175.272358)scale(0.132 -0.132)\">\r\n       <use xlink:href=\"#ArialMT-45\"/>\r\n       <use x=\"66.699219\" xlink:href=\"#ArialMT-61\"/>\r\n       <use x=\"122.314453\" xlink:href=\"#ArialMT-74\"/>\r\n       <use x=\"150.097656\" xlink:href=\"#ArialMT-69\"/>\r\n       <use x=\"172.314453\" xlink:href=\"#ArialMT-6e\"/>\r\n       <use x=\"227.929688\" xlink:href=\"#ArialMT-67\"/>\r\n       <use x=\"283.544922\" xlink:href=\"#ArialMT-20\"/>\r\n       <use x=\"311.328125\" xlink:href=\"#ArialMT-73\"/>\r\n       <use x=\"361.328125\" xlink:href=\"#ArialMT-74\"/>\r\n       <use x=\"389.111328\" xlink:href=\"#ArialMT-72\"/>\r\n       <use x=\"422.412109\" xlink:href=\"#ArialMT-61\"/>\r\n       <use x=\"478.027344\" xlink:href=\"#ArialMT-77\"/>\r\n       <use x=\"550.244141\" xlink:href=\"#ArialMT-62\"/>\r\n       <use x=\"605.859375\" xlink:href=\"#ArialMT-65\"/>\r\n       <use x=\"661.474609\" xlink:href=\"#ArialMT-72\"/>\r\n       <use x=\"694.775391\" xlink:href=\"#ArialMT-72\"/>\r\n       <use x=\"728.076172\" xlink:href=\"#ArialMT-69\"/>\r\n       <use x=\"750.292969\" xlink:href=\"#ArialMT-65\"/>\r\n       <use x=\"805.908203\" xlink:href=\"#ArialMT-73\"/>\r\n       <use x=\"855.908203\" xlink:href=\"#ArialMT-20\"/>\r\n       <use x=\"883.691406\" xlink:href=\"#ArialMT-69\"/>\r\n       <use x=\"905.908203\" xlink:href=\"#ArialMT-73\"/>\r\n       <use x=\"955.908203\" xlink:href=\"#ArialMT-20\"/>\r\n       <use x=\"983.691406\" xlink:href=\"#ArialMT-68\"/>\r\n       <use x=\"1039.306641\" xlink:href=\"#ArialMT-65\"/>\r\n       <use x=\"1094.921875\" xlink:href=\"#ArialMT-61\"/>\r\n       <use x=\"1150.537109\" xlink:href=\"#ArialMT-6c\"/>\r\n       <use x=\"1172.753906\" xlink:href=\"#ArialMT-74\"/>\r\n       <use x=\"1200.537109\" xlink:href=\"#ArialMT-68\"/>\r\n       <use x=\"1256.152344\" xlink:href=\"#ArialMT-79\"/>\r\n      </g>\r\n     </g>\r\n    </g>\r\n    <g id=\"ytick_9\">\r\n     <g id=\"text_20\">\r\n      <!-- Is paleo better than keto? -->\r\n      <g style=\"fill:#262626;\" transform=\"translate(112.094625 195.197412)scale(0.132 -0.132)\">\r\n       <use xlink:href=\"#ArialMT-49\"/>\r\n       <use x=\"27.783203\" xlink:href=\"#ArialMT-73\"/>\r\n       <use x=\"77.783203\" xlink:href=\"#ArialMT-20\"/>\r\n       <use x=\"105.566406\" xlink:href=\"#ArialMT-70\"/>\r\n       <use x=\"161.181641\" xlink:href=\"#ArialMT-61\"/>\r\n       <use x=\"216.796875\" xlink:href=\"#ArialMT-6c\"/>\r\n       <use x=\"239.013672\" xlink:href=\"#ArialMT-65\"/>\r\n       <use x=\"294.628906\" xlink:href=\"#ArialMT-6f\"/>\r\n       <use x=\"350.244141\" xlink:href=\"#ArialMT-20\"/>\r\n       <use x=\"378.027344\" xlink:href=\"#ArialMT-62\"/>\r\n       <use x=\"433.642578\" xlink:href=\"#ArialMT-65\"/>\r\n       <use x=\"489.257812\" xlink:href=\"#ArialMT-74\"/>\r\n       <use x=\"517.041016\" xlink:href=\"#ArialMT-74\"/>\r\n       <use x=\"544.824219\" xlink:href=\"#ArialMT-65\"/>\r\n       <use x=\"600.439453\" xlink:href=\"#ArialMT-72\"/>\r\n       <use x=\"633.740234\" xlink:href=\"#ArialMT-20\"/>\r\n       <use x=\"661.523438\" xlink:href=\"#ArialMT-74\"/>\r\n       <use x=\"689.306641\" xlink:href=\"#ArialMT-68\"/>\r\n       <use x=\"744.921875\" xlink:href=\"#ArialMT-61\"/>\r\n       <use x=\"800.537109\" xlink:href=\"#ArialMT-6e\"/>\r\n       <use x=\"856.152344\" xlink:href=\"#ArialMT-20\"/>\r\n       <use x=\"883.935547\" xlink:href=\"#ArialMT-6b\"/>\r\n       <use x=\"933.935547\" xlink:href=\"#ArialMT-65\"/>\r\n       <use x=\"989.550781\" xlink:href=\"#ArialMT-74\"/>\r\n       <use x=\"1017.333984\" xlink:href=\"#ArialMT-6f\"/>\r\n       <use x=\"1072.949219\" xlink:href=\"#ArialMT-3f\"/>\r\n      </g>\r\n     </g>\r\n    </g>\r\n    <g id=\"ytick_10\">\r\n     <g id=\"text_21\">\r\n      <!-- How old are you? -->\r\n      <g style=\"fill:#262626;\" transform=\"translate(158.333813 214.887341)scale(0.132 -0.132)\">\r\n       <use xlink:href=\"#ArialMT-48\"/>\r\n       <use x=\"72.216797\" xlink:href=\"#ArialMT-6f\"/>\r\n       <use x=\"127.832031\" xlink:href=\"#ArialMT-77\"/>\r\n       <use x=\"200.048828\" xlink:href=\"#ArialMT-20\"/>\r\n       <use x=\"227.832031\" xlink:href=\"#ArialMT-6f\"/>\r\n       <use x=\"283.447266\" xlink:href=\"#ArialMT-6c\"/>\r\n       <use x=\"305.664062\" xlink:href=\"#ArialMT-64\"/>\r\n       <use x=\"361.279297\" xlink:href=\"#ArialMT-20\"/>\r\n       <use x=\"389.0625\" xlink:href=\"#ArialMT-61\"/>\r\n       <use x=\"444.677734\" xlink:href=\"#ArialMT-72\"/>\r\n       <use x=\"477.978516\" xlink:href=\"#ArialMT-65\"/>\r\n       <use x=\"533.59375\" xlink:href=\"#ArialMT-20\"/>\r\n       <use x=\"561.376953\" xlink:href=\"#ArialMT-79\"/>\r\n       <use x=\"611.376953\" xlink:href=\"#ArialMT-6f\"/>\r\n       <use x=\"666.992188\" xlink:href=\"#ArialMT-75\"/>\r\n       <use x=\"722.607422\" xlink:href=\"#ArialMT-3f\"/>\r\n      </g>\r\n     </g>\r\n    </g>\r\n    <g id=\"ytick_11\">\r\n     <g id=\"text_22\">\r\n      <!-- what is your age? -->\r\n      <g style=\"fill:#262626;\" transform=\"translate(157.599562 234.654614)scale(0.132 -0.132)\">\r\n       <use xlink:href=\"#ArialMT-77\"/>\r\n       <use x=\"72.216797\" xlink:href=\"#ArialMT-68\"/>\r\n       <use x=\"127.832031\" xlink:href=\"#ArialMT-61\"/>\r\n       <use x=\"183.447266\" xlink:href=\"#ArialMT-74\"/>\r\n       <use x=\"211.230469\" xlink:href=\"#ArialMT-20\"/>\r\n       <use x=\"239.013672\" xlink:href=\"#ArialMT-69\"/>\r\n       <use x=\"261.230469\" xlink:href=\"#ArialMT-73\"/>\r\n       <use x=\"311.230469\" xlink:href=\"#ArialMT-20\"/>\r\n       <use x=\"339.013672\" xlink:href=\"#ArialMT-79\"/>\r\n       <use x=\"389.013672\" xlink:href=\"#ArialMT-6f\"/>\r\n       <use x=\"444.628906\" xlink:href=\"#ArialMT-75\"/>\r\n       <use x=\"500.244141\" xlink:href=\"#ArialMT-72\"/>\r\n       <use x=\"533.544922\" xlink:href=\"#ArialMT-20\"/>\r\n       <use x=\"561.328125\" xlink:href=\"#ArialMT-61\"/>\r\n       <use x=\"616.943359\" xlink:href=\"#ArialMT-67\"/>\r\n       <use x=\"672.558594\" xlink:href=\"#ArialMT-65\"/>\r\n       <use x=\"728.173828\" xlink:href=\"#ArialMT-3f\"/>\r\n      </g>\r\n     </g>\r\n    </g>\r\n   </g>\r\n   <g id=\"QuadMesh_1\">\r\n    <path clip-path=\"url(#pafca3b875f)\" d=\"M 270.5525 23.68275 \r\nL 294.901591 23.68275 \r\nL 294.901591 43.450023 \r\nL 270.5525 43.450023 \r\nL 270.5525 23.68275 \r\n\" style=\"fill:#800026;\"/>\r\n    <path clip-path=\"url(#pafca3b875f)\" d=\"M 294.901591 23.68275 \r\nL 319.250682 23.68275 \r\nL 319.250682 43.450023 \r\nL 294.901591 43.450023 \r\nL 294.901591 23.68275 \r\n\" style=\"fill:#f43e26;\"/>\r\n    <path clip-path=\"url(#pafca3b875f)\" d=\"M 319.250682 23.68275 \r\nL 343.599773 23.68275 \r\nL 343.599773 43.450023 \r\nL 319.250682 43.450023 \r\nL 319.250682 23.68275 \r\n\" style=\"fill:#fd8239;\"/>\r\n    <path clip-path=\"url(#pafca3b875f)\" d=\"M 343.599773 23.68275 \r\nL 367.948864 23.68275 \r\nL 367.948864 43.450023 \r\nL 343.599773 43.450023 \r\nL 343.599773 23.68275 \r\n\" style=\"fill:#fff2ac;\"/>\r\n    <path clip-path=\"url(#pafca3b875f)\" d=\"M 367.948864 23.68275 \r\nL 392.297955 23.68275 \r\nL 392.297955 43.450023 \r\nL 367.948864 43.450023 \r\nL 367.948864 23.68275 \r\n\" style=\"fill:#ffeda1;\"/>\r\n    <path clip-path=\"url(#pafca3b875f)\" d=\"M 392.297955 23.68275 \r\nL 416.647045 23.68275 \r\nL 416.647045 43.450023 \r\nL 392.297955 43.450023 \r\nL 392.297955 23.68275 \r\n\" style=\"fill:#fff4b0;\"/>\r\n    <path clip-path=\"url(#pafca3b875f)\" d=\"M 416.647045 23.68275 \r\nL 440.996136 23.68275 \r\nL 440.996136 43.450023 \r\nL 416.647045 43.450023 \r\nL 416.647045 23.68275 \r\n\" style=\"fill:#fee187;\"/>\r\n    <path clip-path=\"url(#pafca3b875f)\" d=\"M 440.996136 23.68275 \r\nL 465.345227 23.68275 \r\nL 465.345227 43.450023 \r\nL 440.996136 43.450023 \r\nL 440.996136 23.68275 \r\n\" style=\"fill:#ffeb9c;\"/>\r\n    <path clip-path=\"url(#pafca3b875f)\" d=\"M 465.345227 23.68275 \r\nL 489.694318 23.68275 \r\nL 489.694318 43.450023 \r\nL 465.345227 43.450023 \r\nL 465.345227 23.68275 \r\n\" style=\"fill:#ffec9d;\"/>\r\n    <path clip-path=\"url(#pafca3b875f)\" d=\"M 489.694318 23.68275 \r\nL 514.043409 23.68275 \r\nL 514.043409 43.450023 \r\nL 489.694318 43.450023 \r\nL 489.694318 23.68275 \r\n\" style=\"fill:#fff5b5;\"/>\r\n    <path clip-path=\"url(#pafca3b875f)\" d=\"M 514.043409 23.68275 \r\nL 538.3925 23.68275 \r\nL 538.3925 43.450023 \r\nL 514.043409 43.450023 \r\nL 514.043409 23.68275 \r\n\" style=\"fill:#ffeda0;\"/>\r\n    <path clip-path=\"url(#pafca3b875f)\" d=\"M 270.5525 43.450023 \r\nL 294.901591 43.450023 \r\nL 294.901591 63.217295 \r\nL 270.5525 63.217295 \r\nL 270.5525 43.450023 \r\n\" style=\"fill:#f43e26;\"/>\r\n    <path clip-path=\"url(#pafca3b875f)\" d=\"M 294.901591 43.450023 \r\nL 319.250682 43.450023 \r\nL 319.250682 63.217295 \r\nL 294.901591 63.217295 \r\nL 294.901591 43.450023 \r\n\" style=\"fill:#800026;\"/>\r\n    <path clip-path=\"url(#pafca3b875f)\" d=\"M 319.250682 43.450023 \r\nL 343.599773 43.450023 \r\nL 343.599773 63.217295 \r\nL 319.250682 63.217295 \r\nL 319.250682 43.450023 \r\n\" style=\"fill:#fd8439;\"/>\r\n    <path clip-path=\"url(#pafca3b875f)\" d=\"M 343.599773 43.450023 \r\nL 367.948864 43.450023 \r\nL 367.948864 63.217295 \r\nL 343.599773 63.217295 \r\nL 343.599773 43.450023 \r\n\" style=\"fill:#fff3ae;\"/>\r\n    <path clip-path=\"url(#pafca3b875f)\" d=\"M 367.948864 43.450023 \r\nL 392.297955 43.450023 \r\nL 392.297955 63.217295 \r\nL 367.948864 63.217295 \r\nL 367.948864 43.450023 \r\n\" style=\"fill:#fedf83;\"/>\r\n    <path clip-path=\"url(#pafca3b875f)\" d=\"M 392.297955 43.450023 \r\nL 416.647045 43.450023 \r\nL 416.647045 63.217295 \r\nL 392.297955 63.217295 \r\nL 392.297955 43.450023 \r\n\" style=\"fill:#fff3af;\"/>\r\n    <path clip-path=\"url(#pafca3b875f)\" d=\"M 416.647045 43.450023 \r\nL 440.996136 43.450023 \r\nL 440.996136 63.217295 \r\nL 416.647045 63.217295 \r\nL 416.647045 43.450023 \r\n\" style=\"fill:#fedf83;\"/>\r\n    <path clip-path=\"url(#pafca3b875f)\" d=\"M 440.996136 43.450023 \r\nL 465.345227 43.450023 \r\nL 465.345227 63.217295 \r\nL 440.996136 63.217295 \r\nL 440.996136 43.450023 \r\n\" style=\"fill:#ffe58f;\"/>\r\n    <path clip-path=\"url(#pafca3b875f)\" d=\"M 465.345227 43.450023 \r\nL 489.694318 43.450023 \r\nL 489.694318 63.217295 \r\nL 465.345227 63.217295 \r\nL 465.345227 43.450023 \r\n\" style=\"fill:#fee38b;\"/>\r\n    <path clip-path=\"url(#pafca3b875f)\" d=\"M 489.694318 43.450023 \r\nL 514.043409 43.450023 \r\nL 514.043409 63.217295 \r\nL 489.694318 63.217295 \r\nL 489.694318 43.450023 \r\n\" style=\"fill:#fff5b5;\"/>\r\n    <path clip-path=\"url(#pafca3b875f)\" d=\"M 514.043409 43.450023 \r\nL 538.3925 43.450023 \r\nL 538.3925 63.217295 \r\nL 514.043409 63.217295 \r\nL 514.043409 43.450023 \r\n\" style=\"fill:#ffefa4;\"/>\r\n    <path clip-path=\"url(#pafca3b875f)\" d=\"M 270.5525 63.217295 \r\nL 294.901591 63.217295 \r\nL 294.901591 82.984568 \r\nL 270.5525 82.984568 \r\nL 270.5525 63.217295 \r\n\" style=\"fill:#fd8239;\"/>\r\n    <path clip-path=\"url(#pafca3b875f)\" d=\"M 294.901591 63.217295 \r\nL 319.250682 63.217295 \r\nL 319.250682 82.984568 \r\nL 294.901591 82.984568 \r\nL 294.901591 63.217295 \r\n\" style=\"fill:#fd8439;\"/>\r\n    <path clip-path=\"url(#pafca3b875f)\" d=\"M 319.250682 63.217295 \r\nL 343.599773 63.217295 \r\nL 343.599773 82.984568 \r\nL 319.250682 82.984568 \r\nL 319.250682 63.217295 \r\n\" style=\"fill:#800026;\"/>\r\n    <path clip-path=\"url(#pafca3b875f)\" d=\"M 343.599773 63.217295 \r\nL 367.948864 63.217295 \r\nL 367.948864 82.984568 \r\nL 343.599773 82.984568 \r\nL 343.599773 63.217295 \r\n\" style=\"fill:#fffac1;\"/>\r\n    <path clip-path=\"url(#pafca3b875f)\" d=\"M 367.948864 63.217295 \r\nL 392.297955 63.217295 \r\nL 392.297955 82.984568 \r\nL 367.948864 82.984568 \r\nL 367.948864 63.217295 \r\n\" style=\"fill:#ffefa4;\"/>\r\n    <path clip-path=\"url(#pafca3b875f)\" d=\"M 392.297955 63.217295 \r\nL 416.647045 63.217295 \r\nL 416.647045 82.984568 \r\nL 392.297955 82.984568 \r\nL 392.297955 63.217295 \r\n\" style=\"fill:#fff2ac;\"/>\r\n    <path clip-path=\"url(#pafca3b875f)\" d=\"M 416.647045 63.217295 \r\nL 440.996136 63.217295 \r\nL 440.996136 82.984568 \r\nL 416.647045 82.984568 \r\nL 416.647045 63.217295 \r\n\" style=\"fill:#ffeda0;\"/>\r\n    <path clip-path=\"url(#pafca3b875f)\" d=\"M 440.996136 63.217295 \r\nL 465.345227 63.217295 \r\nL 465.345227 82.984568 \r\nL 440.996136 82.984568 \r\nL 440.996136 63.217295 \r\n\" style=\"fill:#ffea9b;\"/>\r\n    <path clip-path=\"url(#pafca3b875f)\" d=\"M 465.345227 63.217295 \r\nL 489.694318 63.217295 \r\nL 489.694318 82.984568 \r\nL 465.345227 82.984568 \r\nL 465.345227 63.217295 \r\n\" style=\"fill:#ffeb9c;\"/>\r\n    <path clip-path=\"url(#pafca3b875f)\" d=\"M 489.694318 63.217295 \r\nL 514.043409 63.217295 \r\nL 514.043409 82.984568 \r\nL 489.694318 82.984568 \r\nL 489.694318 63.217295 \r\n\" style=\"fill:#ffe895;\"/>\r\n    <path clip-path=\"url(#pafca3b875f)\" d=\"M 514.043409 63.217295 \r\nL 538.3925 63.217295 \r\nL 538.3925 82.984568 \r\nL 514.043409 82.984568 \r\nL 514.043409 63.217295 \r\n\" style=\"fill:#fede82;\"/>\r\n    <path clip-path=\"url(#pafca3b875f)\" d=\"M 270.5525 82.984568 \r\nL 294.901591 82.984568 \r\nL 294.901591 102.751841 \r\nL 270.5525 102.751841 \r\nL 270.5525 82.984568 \r\n\" style=\"fill:#fff2ac;\"/>\r\n    <path clip-path=\"url(#pafca3b875f)\" d=\"M 294.901591 82.984568 \r\nL 319.250682 82.984568 \r\nL 319.250682 102.751841 \r\nL 294.901591 102.751841 \r\nL 294.901591 82.984568 \r\n\" style=\"fill:#fff3ae;\"/>\r\n    <path clip-path=\"url(#pafca3b875f)\" d=\"M 319.250682 82.984568 \r\nL 343.599773 82.984568 \r\nL 343.599773 102.751841 \r\nL 319.250682 102.751841 \r\nL 319.250682 82.984568 \r\n\" style=\"fill:#fffac1;\"/>\r\n    <path clip-path=\"url(#pafca3b875f)\" d=\"M 343.599773 82.984568 \r\nL 367.948864 82.984568 \r\nL 367.948864 102.751841 \r\nL 343.599773 102.751841 \r\nL 343.599773 82.984568 \r\n\" style=\"fill:#800026;\"/>\r\n    <path clip-path=\"url(#pafca3b875f)\" d=\"M 367.948864 82.984568 \r\nL 392.297955 82.984568 \r\nL 392.297955 102.751841 \r\nL 367.948864 102.751841 \r\nL 367.948864 82.984568 \r\n\" style=\"fill:#ffe48c;\"/>\r\n    <path clip-path=\"url(#pafca3b875f)\" d=\"M 392.297955 82.984568 \r\nL 416.647045 82.984568 \r\nL 416.647045 102.751841 \r\nL 392.297955 102.751841 \r\nL 392.297955 82.984568 \r\n\" style=\"fill:#fed06c;\"/>\r\n    <path clip-path=\"url(#pafca3b875f)\" d=\"M 416.647045 82.984568 \r\nL 440.996136 82.984568 \r\nL 440.996136 102.751841 \r\nL 416.647045 102.751841 \r\nL 416.647045 82.984568 \r\n\" style=\"fill:#fff5b3;\"/>\r\n    <path clip-path=\"url(#pafca3b875f)\" d=\"M 440.996136 82.984568 \r\nL 465.345227 82.984568 \r\nL 465.345227 102.751841 \r\nL 440.996136 102.751841 \r\nL 440.996136 82.984568 \r\n\" style=\"fill:#fff6b6;\"/>\r\n    <path clip-path=\"url(#pafca3b875f)\" d=\"M 465.345227 82.984568 \r\nL 489.694318 82.984568 \r\nL 489.694318 102.751841 \r\nL 465.345227 102.751841 \r\nL 465.345227 82.984568 \r\n\" style=\"fill:#fff2ac;\"/>\r\n    <path clip-path=\"url(#pafca3b875f)\" d=\"M 489.694318 82.984568 \r\nL 514.043409 82.984568 \r\nL 514.043409 102.751841 \r\nL 489.694318 102.751841 \r\nL 489.694318 82.984568 \r\n\" style=\"fill:#fff4b0;\"/>\r\n    <path clip-path=\"url(#pafca3b875f)\" d=\"M 514.043409 82.984568 \r\nL 538.3925 82.984568 \r\nL 538.3925 102.751841 \r\nL 514.043409 102.751841 \r\nL 514.043409 82.984568 \r\n\" style=\"fill:#fffac1;\"/>\r\n    <path clip-path=\"url(#pafca3b875f)\" d=\"M 270.5525 102.751841 \r\nL 294.901591 102.751841 \r\nL 294.901591 122.519114 \r\nL 270.5525 122.519114 \r\nL 270.5525 102.751841 \r\n\" style=\"fill:#ffeda1;\"/>\r\n    <path clip-path=\"url(#pafca3b875f)\" d=\"M 294.901591 102.751841 \r\nL 319.250682 102.751841 \r\nL 319.250682 122.519114 \r\nL 294.901591 122.519114 \r\nL 294.901591 102.751841 \r\n\" style=\"fill:#fedf83;\"/>\r\n    <path clip-path=\"url(#pafca3b875f)\" d=\"M 319.250682 102.751841 \r\nL 343.599773 102.751841 \r\nL 343.599773 122.519114 \r\nL 319.250682 122.519114 \r\nL 319.250682 102.751841 \r\n\" style=\"fill:#ffefa4;\"/>\r\n    <path clip-path=\"url(#pafca3b875f)\" d=\"M 343.599773 102.751841 \r\nL 367.948864 102.751841 \r\nL 367.948864 122.519114 \r\nL 343.599773 122.519114 \r\nL 343.599773 102.751841 \r\n\" style=\"fill:#ffe48c;\"/>\r\n    <path clip-path=\"url(#pafca3b875f)\" d=\"M 367.948864 102.751841 \r\nL 392.297955 102.751841 \r\nL 392.297955 122.519114 \r\nL 367.948864 122.519114 \r\nL 367.948864 102.751841 \r\n\" style=\"fill:#800026;\"/>\r\n    <path clip-path=\"url(#pafca3b875f)\" d=\"M 392.297955 102.751841 \r\nL 416.647045 102.751841 \r\nL 416.647045 122.519114 \r\nL 392.297955 122.519114 \r\nL 392.297955 102.751841 \r\n\" style=\"fill:#fed06c;\"/>\r\n    <path clip-path=\"url(#pafca3b875f)\" d=\"M 416.647045 102.751841 \r\nL 440.996136 102.751841 \r\nL 440.996136 122.519114 \r\nL 416.647045 122.519114 \r\nL 416.647045 102.751841 \r\n\" style=\"fill:#fffac1;\"/>\r\n    <path clip-path=\"url(#pafca3b875f)\" d=\"M 440.996136 102.751841 \r\nL 465.345227 102.751841 \r\nL 465.345227 122.519114 \r\nL 440.996136 122.519114 \r\nL 440.996136 102.751841 \r\n\" style=\"fill:#fff9be;\"/>\r\n    <path clip-path=\"url(#pafca3b875f)\" d=\"M 465.345227 102.751841 \r\nL 489.694318 102.751841 \r\nL 489.694318 122.519114 \r\nL 465.345227 122.519114 \r\nL 465.345227 102.751841 \r\n\" style=\"fill:#ffeea3;\"/>\r\n    <path clip-path=\"url(#pafca3b875f)\" d=\"M 489.694318 102.751841 \r\nL 514.043409 102.751841 \r\nL 514.043409 122.519114 \r\nL 489.694318 122.519114 \r\nL 489.694318 102.751841 \r\n\" style=\"fill:#ffffcc;\"/>\r\n    <path clip-path=\"url(#pafca3b875f)\" d=\"M 514.043409 102.751841 \r\nL 538.3925 102.751841 \r\nL 538.3925 122.519114 \r\nL 514.043409 122.519114 \r\nL 514.043409 102.751841 \r\n\" style=\"fill:#fffcc5;\"/>\r\n    <path clip-path=\"url(#pafca3b875f)\" d=\"M 270.5525 122.519114 \r\nL 294.901591 122.519114 \r\nL 294.901591 142.286386 \r\nL 270.5525 142.286386 \r\nL 270.5525 122.519114 \r\n\" style=\"fill:#fff4b0;\"/>\r\n    <path clip-path=\"url(#pafca3b875f)\" d=\"M 294.901591 122.519114 \r\nL 319.250682 122.519114 \r\nL 319.250682 142.286386 \r\nL 294.901591 142.286386 \r\nL 294.901591 122.519114 \r\n\" style=\"fill:#fff3af;\"/>\r\n    <path clip-path=\"url(#pafca3b875f)\" d=\"M 319.250682 122.519114 \r\nL 343.599773 122.519114 \r\nL 343.599773 142.286386 \r\nL 319.250682 142.286386 \r\nL 319.250682 122.519114 \r\n\" style=\"fill:#fff2ac;\"/>\r\n    <path clip-path=\"url(#pafca3b875f)\" d=\"M 343.599773 122.519114 \r\nL 367.948864 122.519114 \r\nL 367.948864 142.286386 \r\nL 343.599773 142.286386 \r\nL 343.599773 122.519114 \r\n\" style=\"fill:#fed06c;\"/>\r\n    <path clip-path=\"url(#pafca3b875f)\" d=\"M 367.948864 122.519114 \r\nL 392.297955 122.519114 \r\nL 392.297955 142.286386 \r\nL 367.948864 142.286386 \r\nL 367.948864 122.519114 \r\n\" style=\"fill:#fed06c;\"/>\r\n    <path clip-path=\"url(#pafca3b875f)\" d=\"M 392.297955 122.519114 \r\nL 416.647045 122.519114 \r\nL 416.647045 142.286386 \r\nL 392.297955 142.286386 \r\nL 392.297955 122.519114 \r\n\" style=\"fill:#800026;\"/>\r\n    <path clip-path=\"url(#pafca3b875f)\" d=\"M 416.647045 122.519114 \r\nL 440.996136 122.519114 \r\nL 440.996136 142.286386 \r\nL 416.647045 142.286386 \r\nL 416.647045 122.519114 \r\n\" style=\"fill:#fff9be;\"/>\r\n    <path clip-path=\"url(#pafca3b875f)\" d=\"M 440.996136 122.519114 \r\nL 465.345227 122.519114 \r\nL 465.345227 142.286386 \r\nL 440.996136 142.286386 \r\nL 440.996136 122.519114 \r\n\" style=\"fill:#ffeb9c;\"/>\r\n    <path clip-path=\"url(#pafca3b875f)\" d=\"M 465.345227 122.519114 \r\nL 489.694318 122.519114 \r\nL 489.694318 142.286386 \r\nL 465.345227 142.286386 \r\nL 465.345227 122.519114 \r\n\" style=\"fill:#fff6b6;\"/>\r\n    <path clip-path=\"url(#pafca3b875f)\" d=\"M 489.694318 122.519114 \r\nL 514.043409 122.519114 \r\nL 514.043409 142.286386 \r\nL 489.694318 142.286386 \r\nL 489.694318 122.519114 \r\n\" style=\"fill:#fff5b3;\"/>\r\n    <path clip-path=\"url(#pafca3b875f)\" d=\"M 514.043409 122.519114 \r\nL 538.3925 122.519114 \r\nL 538.3925 142.286386 \r\nL 514.043409 142.286386 \r\nL 514.043409 122.519114 \r\n\" style=\"fill:#ffec9f;\"/>\r\n    <path clip-path=\"url(#pafca3b875f)\" d=\"M 270.5525 142.286386 \r\nL 294.901591 142.286386 \r\nL 294.901591 162.053659 \r\nL 270.5525 162.053659 \r\nL 270.5525 142.286386 \r\n\" style=\"fill:#fee187;\"/>\r\n    <path clip-path=\"url(#pafca3b875f)\" d=\"M 294.901591 142.286386 \r\nL 319.250682 142.286386 \r\nL 319.250682 162.053659 \r\nL 294.901591 162.053659 \r\nL 294.901591 142.286386 \r\n\" style=\"fill:#fedf83;\"/>\r\n    <path clip-path=\"url(#pafca3b875f)\" d=\"M 319.250682 142.286386 \r\nL 343.599773 142.286386 \r\nL 343.599773 162.053659 \r\nL 319.250682 162.053659 \r\nL 319.250682 142.286386 \r\n\" style=\"fill:#ffeda0;\"/>\r\n    <path clip-path=\"url(#pafca3b875f)\" d=\"M 343.599773 142.286386 \r\nL 367.948864 142.286386 \r\nL 367.948864 162.053659 \r\nL 343.599773 162.053659 \r\nL 343.599773 142.286386 \r\n\" style=\"fill:#fff5b3;\"/>\r\n    <path clip-path=\"url(#pafca3b875f)\" d=\"M 367.948864 142.286386 \r\nL 392.297955 142.286386 \r\nL 392.297955 162.053659 \r\nL 367.948864 162.053659 \r\nL 367.948864 142.286386 \r\n\" style=\"fill:#fffac1;\"/>\r\n    <path clip-path=\"url(#pafca3b875f)\" d=\"M 392.297955 142.286386 \r\nL 416.647045 142.286386 \r\nL 416.647045 162.053659 \r\nL 392.297955 162.053659 \r\nL 392.297955 142.286386 \r\n\" style=\"fill:#fff9be;\"/>\r\n    <path clip-path=\"url(#pafca3b875f)\" d=\"M 416.647045 142.286386 \r\nL 440.996136 142.286386 \r\nL 440.996136 162.053659 \r\nL 416.647045 162.053659 \r\nL 416.647045 142.286386 \r\n\" style=\"fill:#800026;\"/>\r\n    <path clip-path=\"url(#pafca3b875f)\" d=\"M 440.996136 142.286386 \r\nL 465.345227 142.286386 \r\nL 465.345227 162.053659 \r\nL 440.996136 162.053659 \r\nL 440.996136 142.286386 \r\n\" style=\"fill:#fec05b;\"/>\r\n    <path clip-path=\"url(#pafca3b875f)\" d=\"M 465.345227 142.286386 \r\nL 489.694318 142.286386 \r\nL 489.694318 162.053659 \r\nL 465.345227 162.053659 \r\nL 465.345227 142.286386 \r\n\" style=\"fill:#ffeb9c;\"/>\r\n    <path clip-path=\"url(#pafca3b875f)\" d=\"M 489.694318 142.286386 \r\nL 514.043409 142.286386 \r\nL 514.043409 162.053659 \r\nL 489.694318 162.053659 \r\nL 489.694318 142.286386 \r\n\" style=\"fill:#ffffcc;\"/>\r\n    <path clip-path=\"url(#pafca3b875f)\" d=\"M 514.043409 142.286386 \r\nL 538.3925 142.286386 \r\nL 538.3925 162.053659 \r\nL 514.043409 162.053659 \r\nL 514.043409 142.286386 \r\n\" style=\"fill:#fff3ae;\"/>\r\n    <path clip-path=\"url(#pafca3b875f)\" d=\"M 270.5525 162.053659 \r\nL 294.901591 162.053659 \r\nL 294.901591 181.820932 \r\nL 270.5525 181.820932 \r\nL 270.5525 162.053659 \r\n\" style=\"fill:#ffeb9c;\"/>\r\n    <path clip-path=\"url(#pafca3b875f)\" d=\"M 294.901591 162.053659 \r\nL 319.250682 162.053659 \r\nL 319.250682 181.820932 \r\nL 294.901591 181.820932 \r\nL 294.901591 162.053659 \r\n\" style=\"fill:#ffe58f;\"/>\r\n    <path clip-path=\"url(#pafca3b875f)\" d=\"M 319.250682 162.053659 \r\nL 343.599773 162.053659 \r\nL 343.599773 181.820932 \r\nL 319.250682 181.820932 \r\nL 319.250682 162.053659 \r\n\" style=\"fill:#ffea9b;\"/>\r\n    <path clip-path=\"url(#pafca3b875f)\" d=\"M 343.599773 162.053659 \r\nL 367.948864 162.053659 \r\nL 367.948864 181.820932 \r\nL 343.599773 181.820932 \r\nL 343.599773 162.053659 \r\n\" style=\"fill:#fff6b6;\"/>\r\n    <path clip-path=\"url(#pafca3b875f)\" d=\"M 367.948864 162.053659 \r\nL 392.297955 162.053659 \r\nL 392.297955 181.820932 \r\nL 367.948864 181.820932 \r\nL 367.948864 162.053659 \r\n\" style=\"fill:#fff9be;\"/>\r\n    <path clip-path=\"url(#pafca3b875f)\" d=\"M 392.297955 162.053659 \r\nL 416.647045 162.053659 \r\nL 416.647045 181.820932 \r\nL 392.297955 181.820932 \r\nL 392.297955 162.053659 \r\n\" style=\"fill:#ffeb9c;\"/>\r\n    <path clip-path=\"url(#pafca3b875f)\" d=\"M 416.647045 162.053659 \r\nL 440.996136 162.053659 \r\nL 440.996136 181.820932 \r\nL 416.647045 181.820932 \r\nL 416.647045 162.053659 \r\n\" style=\"fill:#fec05b;\"/>\r\n    <path clip-path=\"url(#pafca3b875f)\" d=\"M 440.996136 162.053659 \r\nL 465.345227 162.053659 \r\nL 465.345227 181.820932 \r\nL 440.996136 181.820932 \r\nL 440.996136 162.053659 \r\n\" style=\"fill:#800026;\"/>\r\n    <path clip-path=\"url(#pafca3b875f)\" d=\"M 465.345227 162.053659 \r\nL 489.694318 162.053659 \r\nL 489.694318 181.820932 \r\nL 465.345227 181.820932 \r\nL 465.345227 162.053659 \r\n\" style=\"fill:#fece6a;\"/>\r\n    <path clip-path=\"url(#pafca3b875f)\" d=\"M 489.694318 162.053659 \r\nL 514.043409 162.053659 \r\nL 514.043409 181.820932 \r\nL 489.694318 181.820932 \r\nL 489.694318 162.053659 \r\n\" style=\"fill:#fffac0;\"/>\r\n    <path clip-path=\"url(#pafca3b875f)\" d=\"M 514.043409 162.053659 \r\nL 538.3925 162.053659 \r\nL 538.3925 181.820932 \r\nL 514.043409 181.820932 \r\nL 514.043409 162.053659 \r\n\" style=\"fill:#fffac1;\"/>\r\n    <path clip-path=\"url(#pafca3b875f)\" d=\"M 270.5525 181.820932 \r\nL 294.901591 181.820932 \r\nL 294.901591 201.588205 \r\nL 270.5525 201.588205 \r\nL 270.5525 181.820932 \r\n\" style=\"fill:#ffec9d;\"/>\r\n    <path clip-path=\"url(#pafca3b875f)\" d=\"M 294.901591 181.820932 \r\nL 319.250682 181.820932 \r\nL 319.250682 201.588205 \r\nL 294.901591 201.588205 \r\nL 294.901591 181.820932 \r\n\" style=\"fill:#fee38b;\"/>\r\n    <path clip-path=\"url(#pafca3b875f)\" d=\"M 319.250682 181.820932 \r\nL 343.599773 181.820932 \r\nL 343.599773 201.588205 \r\nL 319.250682 201.588205 \r\nL 319.250682 181.820932 \r\n\" style=\"fill:#ffeb9c;\"/>\r\n    <path clip-path=\"url(#pafca3b875f)\" d=\"M 343.599773 181.820932 \r\nL 367.948864 181.820932 \r\nL 367.948864 201.588205 \r\nL 343.599773 201.588205 \r\nL 343.599773 181.820932 \r\n\" style=\"fill:#fff2ac;\"/>\r\n    <path clip-path=\"url(#pafca3b875f)\" d=\"M 367.948864 181.820932 \r\nL 392.297955 181.820932 \r\nL 392.297955 201.588205 \r\nL 367.948864 201.588205 \r\nL 367.948864 181.820932 \r\n\" style=\"fill:#ffeea3;\"/>\r\n    <path clip-path=\"url(#pafca3b875f)\" d=\"M 392.297955 181.820932 \r\nL 416.647045 181.820932 \r\nL 416.647045 201.588205 \r\nL 392.297955 201.588205 \r\nL 392.297955 181.820932 \r\n\" style=\"fill:#fff6b6;\"/>\r\n    <path clip-path=\"url(#pafca3b875f)\" d=\"M 416.647045 181.820932 \r\nL 440.996136 181.820932 \r\nL 440.996136 201.588205 \r\nL 416.647045 201.588205 \r\nL 416.647045 181.820932 \r\n\" style=\"fill:#ffeb9c;\"/>\r\n    <path clip-path=\"url(#pafca3b875f)\" d=\"M 440.996136 181.820932 \r\nL 465.345227 181.820932 \r\nL 465.345227 201.588205 \r\nL 440.996136 201.588205 \r\nL 440.996136 181.820932 \r\n\" style=\"fill:#fece6a;\"/>\r\n    <path clip-path=\"url(#pafca3b875f)\" d=\"M 465.345227 181.820932 \r\nL 489.694318 181.820932 \r\nL 489.694318 201.588205 \r\nL 465.345227 201.588205 \r\nL 465.345227 181.820932 \r\n\" style=\"fill:#800026;\"/>\r\n    <path clip-path=\"url(#pafca3b875f)\" d=\"M 489.694318 181.820932 \r\nL 514.043409 181.820932 \r\nL 514.043409 201.588205 \r\nL 489.694318 201.588205 \r\nL 489.694318 181.820932 \r\n\" style=\"fill:#ffffcc;\"/>\r\n    <path clip-path=\"url(#pafca3b875f)\" d=\"M 514.043409 181.820932 \r\nL 538.3925 181.820932 \r\nL 538.3925 201.588205 \r\nL 514.043409 201.588205 \r\nL 514.043409 181.820932 \r\n\" style=\"fill:#fff9bd;\"/>\r\n    <path clip-path=\"url(#pafca3b875f)\" d=\"M 270.5525 201.588205 \r\nL 294.901591 201.588205 \r\nL 294.901591 221.355477 \r\nL 270.5525 221.355477 \r\nL 270.5525 201.588205 \r\n\" style=\"fill:#fff5b5;\"/>\r\n    <path clip-path=\"url(#pafca3b875f)\" d=\"M 294.901591 201.588205 \r\nL 319.250682 201.588205 \r\nL 319.250682 221.355477 \r\nL 294.901591 221.355477 \r\nL 294.901591 201.588205 \r\n\" style=\"fill:#fff5b5;\"/>\r\n    <path clip-path=\"url(#pafca3b875f)\" d=\"M 319.250682 201.588205 \r\nL 343.599773 201.588205 \r\nL 343.599773 221.355477 \r\nL 319.250682 221.355477 \r\nL 319.250682 201.588205 \r\n\" style=\"fill:#ffe895;\"/>\r\n    <path clip-path=\"url(#pafca3b875f)\" d=\"M 343.599773 201.588205 \r\nL 367.948864 201.588205 \r\nL 367.948864 221.355477 \r\nL 343.599773 221.355477 \r\nL 343.599773 201.588205 \r\n\" style=\"fill:#fff4b0;\"/>\r\n    <path clip-path=\"url(#pafca3b875f)\" d=\"M 367.948864 201.588205 \r\nL 392.297955 201.588205 \r\nL 392.297955 221.355477 \r\nL 367.948864 221.355477 \r\nL 367.948864 201.588205 \r\n\" style=\"fill:#ffffcc;\"/>\r\n    <path clip-path=\"url(#pafca3b875f)\" d=\"M 392.297955 201.588205 \r\nL 416.647045 201.588205 \r\nL 416.647045 221.355477 \r\nL 392.297955 221.355477 \r\nL 392.297955 201.588205 \r\n\" style=\"fill:#fff5b3;\"/>\r\n    <path clip-path=\"url(#pafca3b875f)\" d=\"M 416.647045 201.588205 \r\nL 440.996136 201.588205 \r\nL 440.996136 221.355477 \r\nL 416.647045 221.355477 \r\nL 416.647045 201.588205 \r\n\" style=\"fill:#ffffcc;\"/>\r\n    <path clip-path=\"url(#pafca3b875f)\" d=\"M 440.996136 201.588205 \r\nL 465.345227 201.588205 \r\nL 465.345227 221.355477 \r\nL 440.996136 221.355477 \r\nL 440.996136 201.588205 \r\n\" style=\"fill:#fffac0;\"/>\r\n    <path clip-path=\"url(#pafca3b875f)\" d=\"M 465.345227 201.588205 \r\nL 489.694318 201.588205 \r\nL 489.694318 221.355477 \r\nL 465.345227 221.355477 \r\nL 465.345227 201.588205 \r\n\" style=\"fill:#ffffcc;\"/>\r\n    <path clip-path=\"url(#pafca3b875f)\" d=\"M 489.694318 201.588205 \r\nL 514.043409 201.588205 \r\nL 514.043409 221.355477 \r\nL 489.694318 221.355477 \r\nL 489.694318 201.588205 \r\n\" style=\"fill:#800026;\"/>\r\n    <path clip-path=\"url(#pafca3b875f)\" d=\"M 514.043409 201.588205 \r\nL 538.3925 201.588205 \r\nL 538.3925 221.355477 \r\nL 514.043409 221.355477 \r\nL 514.043409 201.588205 \r\n\" style=\"fill:#d30f20;\"/>\r\n    <path clip-path=\"url(#pafca3b875f)\" d=\"M 270.5525 221.355477 \r\nL 294.901591 221.355477 \r\nL 294.901591 241.12275 \r\nL 270.5525 241.12275 \r\nL 270.5525 221.355477 \r\n\" style=\"fill:#ffeda0;\"/>\r\n    <path clip-path=\"url(#pafca3b875f)\" d=\"M 294.901591 221.355477 \r\nL 319.250682 221.355477 \r\nL 319.250682 241.12275 \r\nL 294.901591 241.12275 \r\nL 294.901591 221.355477 \r\n\" style=\"fill:#ffefa4;\"/>\r\n    <path clip-path=\"url(#pafca3b875f)\" d=\"M 319.250682 221.355477 \r\nL 343.599773 221.355477 \r\nL 343.599773 241.12275 \r\nL 319.250682 241.12275 \r\nL 319.250682 221.355477 \r\n\" style=\"fill:#fede82;\"/>\r\n    <path clip-path=\"url(#pafca3b875f)\" d=\"M 343.599773 221.355477 \r\nL 367.948864 221.355477 \r\nL 367.948864 241.12275 \r\nL 343.599773 241.12275 \r\nL 343.599773 221.355477 \r\n\" style=\"fill:#fffac1;\"/>\r\n    <path clip-path=\"url(#pafca3b875f)\" d=\"M 367.948864 221.355477 \r\nL 392.297955 221.355477 \r\nL 392.297955 241.12275 \r\nL 367.948864 241.12275 \r\nL 367.948864 221.355477 \r\n\" style=\"fill:#fffcc5;\"/>\r\n    <path clip-path=\"url(#pafca3b875f)\" d=\"M 392.297955 221.355477 \r\nL 416.647045 221.355477 \r\nL 416.647045 241.12275 \r\nL 392.297955 241.12275 \r\nL 392.297955 221.355477 \r\n\" style=\"fill:#ffec9f;\"/>\r\n    <path clip-path=\"url(#pafca3b875f)\" d=\"M 416.647045 221.355477 \r\nL 440.996136 221.355477 \r\nL 440.996136 241.12275 \r\nL 416.647045 241.12275 \r\nL 416.647045 221.355477 \r\n\" style=\"fill:#fff3ae;\"/>\r\n    <path clip-path=\"url(#pafca3b875f)\" d=\"M 440.996136 221.355477 \r\nL 465.345227 221.355477 \r\nL 465.345227 241.12275 \r\nL 440.996136 241.12275 \r\nL 440.996136 221.355477 \r\n\" style=\"fill:#fffac1;\"/>\r\n    <path clip-path=\"url(#pafca3b875f)\" d=\"M 465.345227 221.355477 \r\nL 489.694318 221.355477 \r\nL 489.694318 241.12275 \r\nL 465.345227 241.12275 \r\nL 465.345227 221.355477 \r\n\" style=\"fill:#fff9bd;\"/>\r\n    <path clip-path=\"url(#pafca3b875f)\" d=\"M 489.694318 221.355477 \r\nL 514.043409 221.355477 \r\nL 514.043409 241.12275 \r\nL 489.694318 241.12275 \r\nL 489.694318 221.355477 \r\n\" style=\"fill:#d30f20;\"/>\r\n    <path clip-path=\"url(#pafca3b875f)\" d=\"M 514.043409 221.355477 \r\nL 538.3925 221.355477 \r\nL 538.3925 241.12275 \r\nL 514.043409 241.12275 \r\nL 514.043409 221.355477 \r\n\" style=\"fill:#800026;\"/>\r\n   </g>\r\n   <g id=\"text_23\">\r\n    <!-- Semantic Textual Similarity -->\r\n    <g style=\"fill:#262626;\" transform=\"translate(318.577625 17.68275)scale(0.144 -0.144)\">\r\n     <defs>\r\n      <path d=\"M 1659 0 \r\nL 1659 4041 \r\nL 150 4041 \r\nL 150 4581 \r\nL 3781 4581 \r\nL 3781 4041 \r\nL 2266 4041 \r\nL 2266 0 \r\nL 1659 0 \r\nz\r\n\" id=\"ArialMT-54\" transform=\"scale(0.015625)\"/>\r\n      <path d=\"M 47 0 \r\nL 1259 1725 \r\nL 138 3319 \r\nL 841 3319 \r\nL 1350 2541 \r\nQ 1494 2319 1581 2169 \r\nQ 1719 2375 1834 2534 \r\nL 2394 3319 \r\nL 3066 3319 \r\nL 1919 1756 \r\nL 3153 0 \r\nL 2463 0 \r\nL 1781 1031 \r\nL 1600 1309 \r\nL 728 0 \r\nL 47 0 \r\nz\r\n\" id=\"ArialMT-78\" transform=\"scale(0.015625)\"/>\r\n     </defs>\r\n     <use xlink:href=\"#ArialMT-53\"/>\r\n     <use x=\"66.699219\" xlink:href=\"#ArialMT-65\"/>\r\n     <use x=\"122.314453\" xlink:href=\"#ArialMT-6d\"/>\r\n     <use x=\"205.615234\" xlink:href=\"#ArialMT-61\"/>\r\n     <use x=\"261.230469\" xlink:href=\"#ArialMT-6e\"/>\r\n     <use x=\"316.845703\" xlink:href=\"#ArialMT-74\"/>\r\n     <use x=\"344.628906\" xlink:href=\"#ArialMT-69\"/>\r\n     <use x=\"366.845703\" xlink:href=\"#ArialMT-63\"/>\r\n     <use x=\"416.845703\" xlink:href=\"#ArialMT-20\"/>\r\n     <use x=\"442.878906\" xlink:href=\"#ArialMT-54\"/>\r\n     <use x=\"492.837891\" xlink:href=\"#ArialMT-65\"/>\r\n     <use x=\"548.453125\" xlink:href=\"#ArialMT-78\"/>\r\n     <use x=\"598.453125\" xlink:href=\"#ArialMT-74\"/>\r\n     <use x=\"626.236328\" xlink:href=\"#ArialMT-75\"/>\r\n     <use x=\"681.851562\" xlink:href=\"#ArialMT-61\"/>\r\n     <use x=\"737.466797\" xlink:href=\"#ArialMT-6c\"/>\r\n     <use x=\"759.683594\" xlink:href=\"#ArialMT-20\"/>\r\n     <use x=\"787.466797\" xlink:href=\"#ArialMT-53\"/>\r\n     <use x=\"854.166016\" xlink:href=\"#ArialMT-69\"/>\r\n     <use x=\"876.382812\" xlink:href=\"#ArialMT-6d\"/>\r\n     <use x=\"959.683594\" xlink:href=\"#ArialMT-69\"/>\r\n     <use x=\"981.900391\" xlink:href=\"#ArialMT-6c\"/>\r\n     <use x=\"1004.117188\" xlink:href=\"#ArialMT-61\"/>\r\n     <use x=\"1059.732422\" xlink:href=\"#ArialMT-72\"/>\r\n     <use x=\"1093.033203\" xlink:href=\"#ArialMT-69\"/>\r\n     <use x=\"1115.25\" xlink:href=\"#ArialMT-74\"/>\r\n     <use x=\"1143.033203\" xlink:href=\"#ArialMT-79\"/>\r\n    </g>\r\n   </g>\r\n  </g>\r\n  <g id=\"axes_2\">\r\n   <g id=\"patch_3\">\r\n    <path d=\"M 555.1325 241.12275 \r\nL 566.0045 241.12275 \r\nL 566.0045 23.68275 \r\nL 555.1325 23.68275 \r\nz\r\n\" style=\"fill:#eaeaf2;\"/>\r\n   </g>\r\n   <g id=\"patch_4\">\r\n    <path clip-path=\"url(#pfe9ce43788)\" d=\"M 555.1325 241.12275 \r\nL 555.1325 240.273375 \r\nL 555.1325 24.532125 \r\nL 555.1325 23.68275 \r\nL 566.0045 23.68275 \r\nL 566.0045 24.532125 \r\nL 566.0045 240.273375 \r\nL 566.0045 241.12275 \r\nL 566.0045 241.12275 \r\nz\r\n\" style=\"fill:#eaeaf2;stroke:#eaeaf2;stroke-linejoin:miter;stroke-width:0.01;\"/>\r\n   </g>\r\n   <g id=\"matplotlib.axis_3\"/>\r\n   <g id=\"matplotlib.axis_4\">\r\n    <g id=\"ytick_12\">\r\n     <g id=\"line2d_1\">\r\n      <defs>\r\n       <path d=\"M 0 0 \r\nL 6 0 \r\n\" id=\"m8f45f64e98\" style=\"stroke:#262626;stroke-width:1.25;\"/>\r\n      </defs>\r\n      <g>\r\n       <use style=\"fill:#262626;stroke:#262626;stroke-width:1.25;\" x=\"566.0045\" xlink:href=\"#m8f45f64e98\" y=\"241.12275\"/>\r\n      </g>\r\n     </g>\r\n     <g id=\"text_24\">\r\n      <!-- 0.0 -->\r\n      <g style=\"fill:#262626;\" transform=\"translate(575.5045 245.846906)scale(0.132 -0.132)\">\r\n       <defs>\r\n        <path d=\"M 266 2259 \r\nQ 266 3072 433 3567 \r\nQ 600 4063 929 4331 \r\nQ 1259 4600 1759 4600 \r\nQ 2128 4600 2406 4451 \r\nQ 2684 4303 2865 4023 \r\nQ 3047 3744 3150 3342 \r\nQ 3253 2941 3253 2259 \r\nQ 3253 1453 3087 958 \r\nQ 2922 463 2592 192 \r\nQ 2263 -78 1759 -78 \r\nQ 1097 -78 719 397 \r\nQ 266 969 266 2259 \r\nz\r\nM 844 2259 \r\nQ 844 1131 1108 757 \r\nQ 1372 384 1759 384 \r\nQ 2147 384 2411 759 \r\nQ 2675 1134 2675 2259 \r\nQ 2675 3391 2411 3762 \r\nQ 2147 4134 1753 4134 \r\nQ 1366 4134 1134 3806 \r\nQ 844 3388 844 2259 \r\nz\r\n\" id=\"ArialMT-30\" transform=\"scale(0.015625)\"/>\r\n       </defs>\r\n       <use xlink:href=\"#ArialMT-30\"/>\r\n       <use x=\"55.615234\" xlink:href=\"#ArialMT-2e\"/>\r\n       <use x=\"83.398438\" xlink:href=\"#ArialMT-30\"/>\r\n      </g>\r\n     </g>\r\n    </g>\r\n    <g id=\"ytick_13\">\r\n     <g id=\"line2d_2\">\r\n      <g>\r\n       <use style=\"fill:#262626;stroke:#262626;stroke-width:1.25;\" x=\"566.0045\" xlink:href=\"#m8f45f64e98\" y=\"197.63475\"/>\r\n      </g>\r\n     </g>\r\n     <g id=\"text_25\">\r\n      <!-- 0.2 -->\r\n      <g style=\"fill:#262626;\" transform=\"translate(575.5045 202.358906)scale(0.132 -0.132)\">\r\n       <defs>\r\n        <path d=\"M 3222 541 \r\nL 3222 0 \r\nL 194 0 \r\nQ 188 203 259 391 \r\nQ 375 700 629 1000 \r\nQ 884 1300 1366 1694 \r\nQ 2113 2306 2375 2664 \r\nQ 2638 3022 2638 3341 \r\nQ 2638 3675 2398 3904 \r\nQ 2159 4134 1775 4134 \r\nQ 1369 4134 1125 3890 \r\nQ 881 3647 878 3216 \r\nL 300 3275 \r\nQ 359 3922 746 4261 \r\nQ 1134 4600 1788 4600 \r\nQ 2447 4600 2831 4234 \r\nQ 3216 3869 3216 3328 \r\nQ 3216 3053 3103 2787 \r\nQ 2991 2522 2730 2228 \r\nQ 2469 1934 1863 1422 \r\nQ 1356 997 1212 845 \r\nQ 1069 694 975 541 \r\nL 3222 541 \r\nz\r\n\" id=\"ArialMT-32\" transform=\"scale(0.015625)\"/>\r\n       </defs>\r\n       <use xlink:href=\"#ArialMT-30\"/>\r\n       <use x=\"55.615234\" xlink:href=\"#ArialMT-2e\"/>\r\n       <use x=\"83.398438\" xlink:href=\"#ArialMT-32\"/>\r\n      </g>\r\n     </g>\r\n    </g>\r\n    <g id=\"ytick_14\">\r\n     <g id=\"line2d_3\">\r\n      <g>\r\n       <use style=\"fill:#262626;stroke:#262626;stroke-width:1.25;\" x=\"566.0045\" xlink:href=\"#m8f45f64e98\" y=\"154.14675\"/>\r\n      </g>\r\n     </g>\r\n     <g id=\"text_26\">\r\n      <!-- 0.4 -->\r\n      <g style=\"fill:#262626;\" transform=\"translate(575.5045 158.870906)scale(0.132 -0.132)\">\r\n       <defs>\r\n        <path d=\"M 2069 0 \r\nL 2069 1097 \r\nL 81 1097 \r\nL 81 1613 \r\nL 2172 4581 \r\nL 2631 4581 \r\nL 2631 1613 \r\nL 3250 1613 \r\nL 3250 1097 \r\nL 2631 1097 \r\nL 2631 0 \r\nL 2069 0 \r\nz\r\nM 2069 1613 \r\nL 2069 3678 \r\nL 634 1613 \r\nL 2069 1613 \r\nz\r\n\" id=\"ArialMT-34\" transform=\"scale(0.015625)\"/>\r\n       </defs>\r\n       <use xlink:href=\"#ArialMT-30\"/>\r\n       <use x=\"55.615234\" xlink:href=\"#ArialMT-2e\"/>\r\n       <use x=\"83.398438\" xlink:href=\"#ArialMT-34\"/>\r\n      </g>\r\n     </g>\r\n    </g>\r\n    <g id=\"ytick_15\">\r\n     <g id=\"line2d_4\">\r\n      <g>\r\n       <use style=\"fill:#262626;stroke:#262626;stroke-width:1.25;\" x=\"566.0045\" xlink:href=\"#m8f45f64e98\" y=\"110.65875\"/>\r\n      </g>\r\n     </g>\r\n     <g id=\"text_27\">\r\n      <!-- 0.6 -->\r\n      <g style=\"fill:#262626;\" transform=\"translate(575.5045 115.382906)scale(0.132 -0.132)\">\r\n       <defs>\r\n        <path d=\"M 3184 3459 \r\nL 2625 3416 \r\nQ 2550 3747 2413 3897 \r\nQ 2184 4138 1850 4138 \r\nQ 1581 4138 1378 3988 \r\nQ 1113 3794 959 3422 \r\nQ 806 3050 800 2363 \r\nQ 1003 2672 1297 2822 \r\nQ 1591 2972 1913 2972 \r\nQ 2475 2972 2870 2558 \r\nQ 3266 2144 3266 1488 \r\nQ 3266 1056 3080 686 \r\nQ 2894 316 2569 119 \r\nQ 2244 -78 1831 -78 \r\nQ 1128 -78 684 439 \r\nQ 241 956 241 2144 \r\nQ 241 3472 731 4075 \r\nQ 1159 4600 1884 4600 \r\nQ 2425 4600 2770 4297 \r\nQ 3116 3994 3184 3459 \r\nz\r\nM 888 1484 \r\nQ 888 1194 1011 928 \r\nQ 1134 663 1356 523 \r\nQ 1578 384 1822 384 \r\nQ 2178 384 2434 671 \r\nQ 2691 959 2691 1453 \r\nQ 2691 1928 2437 2201 \r\nQ 2184 2475 1800 2475 \r\nQ 1419 2475 1153 2201 \r\nQ 888 1928 888 1484 \r\nz\r\n\" id=\"ArialMT-36\" transform=\"scale(0.015625)\"/>\r\n       </defs>\r\n       <use xlink:href=\"#ArialMT-30\"/>\r\n       <use x=\"55.615234\" xlink:href=\"#ArialMT-2e\"/>\r\n       <use x=\"83.398438\" xlink:href=\"#ArialMT-36\"/>\r\n      </g>\r\n     </g>\r\n    </g>\r\n    <g id=\"ytick_16\">\r\n     <g id=\"line2d_5\">\r\n      <g>\r\n       <use style=\"fill:#262626;stroke:#262626;stroke-width:1.25;\" x=\"566.0045\" xlink:href=\"#m8f45f64e98\" y=\"67.17075\"/>\r\n      </g>\r\n     </g>\r\n     <g id=\"text_28\">\r\n      <!-- 0.8 -->\r\n      <g style=\"fill:#262626;\" transform=\"translate(575.5045 71.894906)scale(0.132 -0.132)\">\r\n       <defs>\r\n        <path d=\"M 1131 2484 \r\nQ 781 2613 612 2850 \r\nQ 444 3088 444 3419 \r\nQ 444 3919 803 4259 \r\nQ 1163 4600 1759 4600 \r\nQ 2359 4600 2725 4251 \r\nQ 3091 3903 3091 3403 \r\nQ 3091 3084 2923 2848 \r\nQ 2756 2613 2416 2484 \r\nQ 2838 2347 3058 2040 \r\nQ 3278 1734 3278 1309 \r\nQ 3278 722 2862 322 \r\nQ 2447 -78 1769 -78 \r\nQ 1091 -78 675 323 \r\nQ 259 725 259 1325 \r\nQ 259 1772 486 2073 \r\nQ 713 2375 1131 2484 \r\nz\r\nM 1019 3438 \r\nQ 1019 3113 1228 2906 \r\nQ 1438 2700 1772 2700 \r\nQ 2097 2700 2305 2904 \r\nQ 2513 3109 2513 3406 \r\nQ 2513 3716 2298 3927 \r\nQ 2084 4138 1766 4138 \r\nQ 1444 4138 1231 3931 \r\nQ 1019 3725 1019 3438 \r\nz\r\nM 838 1322 \r\nQ 838 1081 952 856 \r\nQ 1066 631 1291 507 \r\nQ 1516 384 1775 384 \r\nQ 2178 384 2440 643 \r\nQ 2703 903 2703 1303 \r\nQ 2703 1709 2433 1975 \r\nQ 2163 2241 1756 2241 \r\nQ 1359 2241 1098 1978 \r\nQ 838 1716 838 1322 \r\nz\r\n\" id=\"ArialMT-38\" transform=\"scale(0.015625)\"/>\r\n       </defs>\r\n       <use xlink:href=\"#ArialMT-30\"/>\r\n       <use x=\"55.615234\" xlink:href=\"#ArialMT-2e\"/>\r\n       <use x=\"83.398438\" xlink:href=\"#ArialMT-38\"/>\r\n      </g>\r\n     </g>\r\n    </g>\r\n    <g id=\"ytick_17\">\r\n     <g id=\"line2d_6\">\r\n      <g>\r\n       <use style=\"fill:#262626;stroke:#262626;stroke-width:1.25;\" x=\"566.0045\" xlink:href=\"#m8f45f64e98\" y=\"23.68275\"/>\r\n      </g>\r\n     </g>\r\n     <g id=\"text_29\">\r\n      <!-- 1.0 -->\r\n      <g style=\"fill:#262626;\" transform=\"translate(575.5045 28.406906)scale(0.132 -0.132)\">\r\n       <defs>\r\n        <path d=\"M 2384 0 \r\nL 1822 0 \r\nL 1822 3584 \r\nQ 1619 3391 1289 3197 \r\nQ 959 3003 697 2906 \r\nL 697 3450 \r\nQ 1169 3672 1522 3987 \r\nQ 1875 4303 2022 4600 \r\nL 2384 4600 \r\nL 2384 0 \r\nz\r\n\" id=\"ArialMT-31\" transform=\"scale(0.015625)\"/>\r\n       </defs>\r\n       <use xlink:href=\"#ArialMT-31\"/>\r\n       <use x=\"55.615234\" xlink:href=\"#ArialMT-2e\"/>\r\n       <use x=\"83.398438\" xlink:href=\"#ArialMT-30\"/>\r\n      </g>\r\n     </g>\r\n    </g>\r\n   </g>\r\n   <image height=\"217\" id=\"imagebf4a7cbd71\" transform=\"scale(1 -1)translate(0 -217)\" width=\"11\" x=\"555\" xlink:href=\"data:image/png;base64,\r\niVBORw0KGgoAAAANSUhEUgAAAAsAAADZCAYAAAD2WsoCAAABJElEQVR4nN2YwQ3EQAwCN9L139i1lLWvBc9jJHx5IwQYO1Germ+f4fM5p6bY8zk9JlaZ+1rMB8kgBj1mJsMbysJuiEPx0vC6oY1blKGdgpA+ozRqY/mtcXdKRTMu/8Y+i2lkGCwiA4E9g5VxN27G5fe2G+WMLv/GcSODTHOIwYxxi90YY90JejII88qcCTMxCLBqN+bLHdS6hQbFw0hkpDAT8BuiWWNmBiM0g4+CnDS8i7QxjZBNIQYbVZSMmzGzdwoA19XS0N6DiBkZREVC/76QZrF1qPwpfQ7phhcdAgMZ1Q9gRprRkWHMlmaUBtSMwMTgnBjKuKV143gTJGDRIJGRsoMRa8WY51gInv/aU2V44DdDhgdGO/j3aWw0yK4oAWek8QNTnX0W+RXU0AAAAABJRU5ErkJggg==\" y=\"-23\"/>\r\n   <g id=\"LineCollection_1\"/>\r\n   <g id=\"patch_5\">\r\n    <path d=\"M 555.1325 241.12275 \r\nL 555.1325 240.273375 \r\nL 555.1325 24.532125 \r\nL 555.1325 23.68275 \r\nL 566.0045 23.68275 \r\nL 566.0045 24.532125 \r\nL 566.0045 240.273375 \r\nL 566.0045 241.12275 \r\nz\r\n\" style=\"fill:none;\"/>\r\n   </g>\r\n  </g>\r\n </g>\r\n <defs>\r\n  <clipPath id=\"pafca3b875f\">\r\n   <rect height=\"217.44\" width=\"267.84\" x=\"270.5525\" y=\"23.68275\"/>\r\n  </clipPath>\r\n  <clipPath id=\"pfe9ce43788\">\r\n   <rect height=\"217.44\" width=\"10.872\" x=\"555.1325\" y=\"23.68275\"/>\r\n  </clipPath>\r\n </defs>\r\n</svg>\r\n",
      "image/png": "[encoded data removed]"
     },
     "metadata": {}
    }
   ],
   "metadata": {}
  },
  {
   "cell_type": "markdown",
   "source": [
    "# Home task"
   ],
   "metadata": {}
  },
  {
   "cell_type": "markdown",
   "source": [
    "1. Using a Spacy, create a keywords extractor that should do the following things:\r\n",
    " - Take some text (article like) as an input.\r\n",
    " - Remove all stop words from the text.\r\n",
    " - Extract all the Nouns from text and sort them by count and return in descending order with amount of occurrences. \r\n",
    " - Extract all the Verbs from text and sort them by count and return in descending order with amount of occurrences.  \r\n",
    " - Extract all the Numbers from text and sort them by count and return in descending order with amount of occurrences. \r\n",
    " - Extract all the Named Entities from the text, group them into 4 groups (Location, Person, Organization, Misc.) and return groups in descending order with amount of occurrences. \r\n",
    "\r\n",
    "\r\n",
    "2. Using multilingual USE, align strings in English and Russian texts:\r\n",
    " - Download multilingual USE model - https://tfhub.dev/google/universal-sentence-encoder-multilingual/3\r\n",
    " - Read \"./data/corpora/en.txt\" and \"./data/corpora/ru.txt\" files\r\n",
    " - Align English strings with their Russian analogues using mUSE\r\n",
    " \r\n",
    " \r\n",
    "3. Using the USE, create a Duplicate Phrase Finder that will do the following:\r\n",
    " - Take some large text as an input.\r\n",
    " - Separates text to SENTENCES (phrases). \r\n",
    " - Finds semantically similar strings (cosine similarity >=0.80)"
   ],
   "metadata": {}
  },
  {
   "cell_type": "code",
   "execution_count": 35,
   "source": [
    "from nltk.corpus import stopwords\r\n",
    "import spacy\r\n",
    "import en_core_web_sm as en_core\r\n",
    "from nltk.tokenize import word_tokenize"
   ],
   "outputs": [],
   "metadata": {}
  },
  {
   "cell_type": "code",
   "execution_count": null,
   "source": [
    "# define nlp\r\n",
    "nlp = en_core.load()"
   ],
   "outputs": [],
   "metadata": {}
  },
  {
   "cell_type": "markdown",
   "source": [
    "### Take some text (article like) as an input."
   ],
   "metadata": {}
  },
  {
   "cell_type": "code",
   "execution_count": 28,
   "source": [
    "# Read \"./data/corpora/en.txt\" and \"./data/corpora/ru.txt\" files\r\n",
    "\r\n",
    "en = []\r\n",
    "ru = []\r\n",
    "with open(\"./data/corpora/en.txt\", \"r\", encoding=\"utf-8\") as f:\r\n",
    "    for line in f.readlines()[:50]:\r\n",
    "        en.append(line.strip())\r\n",
    "        \r\n",
    "with open(\"./data/corpora/ru.txt\", \"r\", encoding=\"utf-8\") as f:\r\n",
    "    for line in f.readlines()[:50]:\r\n",
    "        ru.append(line.strip()) "
   ],
   "outputs": [],
   "metadata": {}
  },
  {
   "cell_type": "code",
   "execution_count": 37,
   "source": [
    "en[0], ru[0]"
   ],
   "outputs": [
    {
     "output_type": "execute_result",
     "data": {
      "text/plain": [
       "('How do you explain this progression?',\n",
       " 'Курение связано с 85% случаев рака легких. Оно наносит колоссальный вред здоровью людей.')"
      ]
     },
     "metadata": {},
     "execution_count": 37
    }
   ],
   "metadata": {}
  },
  {
   "cell_type": "markdown",
   "source": [
    "### Remove all stop words from the text."
   ],
   "metadata": {}
  },
  {
   "cell_type": "code",
   "execution_count": 70,
   "source": [
    "def remove_stopwords(texts: list[str], stopwords_type: str) -> list[str]:\r\n",
    "    \"\"\"Remove stop words from texts\r\n",
    "\r\n",
    "    Args:\r\n",
    "        texts (list[str]): list of texts\r\n",
    "        stopwords_type (str): stop words language\r\n",
    "\r\n",
    "    Returns:\r\n",
    "        list[str]: texts with deleted stopwords\r\n",
    "    \"\"\"\r\n",
    "    filtered_texts = []\r\n",
    "\r\n",
    "    for text in texts:\r\n",
    "        tokenized_text = word_tokenize(text)\r\n",
    "\r\n",
    "        stop_words = set(stopwords.words(stopwords_type)) \r\n",
    "\r\n",
    "        filtered_words = [word for word in tokenized_text if word not in stop_words]\r\n",
    "\r\n",
    "        filtered_texts.append(\" \".join(filtered_words))\r\n",
    "    \r\n",
    "    return filtered_texts"
   ],
   "outputs": [],
   "metadata": {}
  },
  {
   "cell_type": "code",
   "execution_count": 71,
   "source": [
    "en_filtered, ru_filtered = remove_stopwords(en, \"english\"), remove_stopwords(ru, \"russian\")"
   ],
   "outputs": [],
   "metadata": {}
  },
  {
   "cell_type": "markdown",
   "source": [
    "### Extract all the Nouns from text and sort them by count and return in descending order with amount of occurrences."
   ],
   "metadata": {}
  },
  {
   "cell_type": "code",
   "execution_count": 83,
   "source": [
    "from typing import Tuple"
   ],
   "outputs": [],
   "metadata": {}
  },
  {
   "cell_type": "code",
   "execution_count": 82,
   "source": [
    "def extract_data(texts: list[str]) -> list[Tuple]:\r\n",
    "    \"\"\"[summary]\r\n",
    "\r\n",
    "    Args:\r\n",
    "        texts (list[str]): [description]\r\n",
    "\r\n",
    "    Returns:\r\n",
    "        list[Tuple]: [description]\r\n",
    "    \"\"\"\r\n",
    "\r\n",
    "    \r\n",
    "\r\n",
    "doc = nlp(en_filtered[0])\r\n",
    "\r\n",
    "for token in doc:\r\n",
    "    print(token.text, token.pos_)"
   ],
   "outputs": [
    {
     "output_type": "stream",
     "name": "stdout",
     "text": [
      "How ADV\n",
      "explain VERB\n",
      "progression NOUN\n",
      "? PUNCT\n"
     ]
    }
   ],
   "metadata": {}
  }
 ],
 "metadata": {
  "kernelspec": {
   "name": "python3",
   "display_name": "Python 3.9.0 64-bit ('venv': venv)"
  },
  "language_info": {
   "codemirror_mode": {
    "name": "ipython",
    "version": 3
   },
   "file_extension": ".py",
   "mimetype": "text/x-python",
   "name": "python",
   "nbconvert_exporter": "python",
   "pygments_lexer": "ipython3",
   "version": "3.9.0"
  },
  "interpreter": {
   "hash": "472c026ac2569fdbd4a7bd0058fc52d81c15d27b6366e23ecde7104f403cf5a1"
  }
 },
 "nbformat": 4,
 "nbformat_minor": 5
}