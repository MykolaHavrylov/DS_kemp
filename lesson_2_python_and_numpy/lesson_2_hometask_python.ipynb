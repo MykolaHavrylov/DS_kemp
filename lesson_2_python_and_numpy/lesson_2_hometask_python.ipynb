{
 "cells": [
  {
   "cell_type": "markdown",
   "metadata": {},
   "source": [
    "# Home task \n",
    "\n",
    "## Task about sum and product "
   ]
  },
  {
   "cell_type": "markdown",
   "metadata": {},
   "source": [
    "```\n",
    "There are two whole numbers:\n",
    "1 < a,b <100\n",
    "\n",
    "One scientist(\"Sum\") get provided with sum of numbers,\n",
    "another  (\"Prod\") get provided with product of numbers. \n",
    "Both scientists know that numbers 1 < a,b <100.\n",
    "\n",
    "Determine the numbers being based on the following dialog: \n",
    "    Prod: I don't know the numbers;\n",
    "    Sum: I know it;\n",
    "    Prod: then I know the numbers; \n",
    "    Sum: then I know the numbers too.\n",
    "```\n",
    "\n",
    "## Solution\n",
    "Default quadratic equation is `ax^2 + bx + c = 0`\n",
    "\n",
    "I our case:\n",
    "- equation `b^2 + (-Sum) * b + Prod = 0`\n",
    "- `a` is `1`\n",
    "- `b` is `-Sum`\n",
    "- `c` is `Prod`."
   ]
  },
  {
   "cell_type": "code",
   "execution_count": 1,
   "metadata": {},
   "outputs": [],
   "source": [
    "import math\n",
    "from random import randint\n",
    "from typing import Tuple\n",
    "import numpy as np\n",
    "\n",
    "MIN_NUM = 2\n",
    "MAX_NUM = 99"
   ]
  },
  {
   "cell_type": "markdown",
   "metadata": {},
   "source": [
    "## Following the dialog"
   ]
  },
  {
   "cell_type": "code",
   "execution_count": 41,
   "metadata": {},
   "outputs": [],
   "source": [
    "cases = range(MIN_NUM**2, MAX_NUM**2 + 1)"
   ]
  },
  {
   "cell_type": "code",
   "execution_count": 43,
   "metadata": {},
   "outputs": [],
   "source": [
    "def find_possible_results_for_prod(prod: int) -> list[set]:\n",
    "    \"\"\"Find possible pairs of numbers which will give us the same result by product as input num\n",
    "\n",
    "    Args:\n",
    "        prod (int): input number\n",
    "\n",
    "    Returns:\n",
    "        list[set]: possible pairs of numbers\n",
    "    \"\"\"\n",
    "    results = []\n",
    "    for num1 in range(MIN_NUM, prod):\n",
    "        for num2 in range(MIN_NUM, prod):\n",
    "            if num1 * num2 > prod:\n",
    "                break\n",
    "            if num1 * num2 == prod:\n",
    "                result = set((num1, num2))\n",
    "                if result not in results:\n",
    "                    results.append(result)\n",
    "    \n",
    "    return results"
   ]
  },
  {
   "cell_type": "code",
   "execution_count": 44,
   "metadata": {},
   "outputs": [],
   "source": [
    "def find_possible_results_for_sum(data_nums: dict) -> list[set]:\n",
    "\n",
    "    sum_results = dict()\n",
    "\n",
    "    for key in data_nums.keys():\n",
    "        \n",
    "        poss_cases = []\n",
    "\n",
    "        for num in range(MIN_NUM, key):\n",
    "            num1, num2 = num, key-num\n",
    "            if (num1 * num2) in data_nums.keys() and {num1, num2} not in poss_cases:\n",
    "                poss_cases.append({num1, num2})\n",
    "        \n",
    "        sum_results[key] = poss_cases\n",
    "    \n",
    "    return sum_results"
   ]
  },
  {
   "cell_type": "code",
   "execution_count": 91,
   "metadata": {},
   "outputs": [],
   "source": [
    "def show_results(data_nums: dict, start: int = 0, end: int = 5):\n",
    "\n",
    "    show = 0\n",
    "\n",
    "    for key, value in data_nums.items():\n",
    "\n",
    "        if show in range(start, end):\n",
    "            print(f\"{key} - {value}\")\n",
    "        \n",
    "        show += 1\n",
    "            \n",
    "        if show == end:\n",
    "            break\n",
    "    "
   ]
  },
  {
   "cell_type": "markdown",
   "metadata": {},
   "source": [
    "### 1. Prod: I don't know the numbers;"
   ]
  },
  {
   "cell_type": "code",
   "execution_count": 59,
   "metadata": {},
   "outputs": [
    {
     "name": "stdout",
     "output_type": "stream",
     "text": [
      "6012\n"
     ]
    }
   ],
   "source": [
    "prod_1 = dict()\n",
    "\n",
    "for i, case in enumerate(cases):\n",
    "    results = find_possible_results(case)\n",
    "    if len(results) > 1:\n",
    "        prod_1[case] = results\n",
    "\n",
    "print(len(prod_1))"
   ]
  },
  {
   "cell_type": "code",
   "execution_count": 88,
   "metadata": {},
   "outputs": [
    {
     "name": "stdout",
     "output_type": "stream",
     "text": [
      "12 - [{2, 6}, {3, 4}]\n",
      "16 - [{8, 2}, {4}]\n",
      "18 - [{9, 2}, {3, 6}]\n",
      "20 - [{2, 10}, {4, 5}]\n",
      "24 - [{2, 12}, {8, 3}, {4, 6}]\n"
     ]
    }
   ],
   "source": [
    "show_results(prod_1)"
   ]
  },
  {
   "cell_type": "markdown",
   "metadata": {},
   "source": [
    "### 2. Sum: I know it;"
   ]
  },
  {
   "cell_type": "code",
   "execution_count": 45,
   "metadata": {},
   "outputs": [
    {
     "name": "stdout",
     "output_type": "stream",
     "text": [
      "6012\n"
     ]
    }
   ],
   "source": [
    "sum_1 = find_possible_results_for_sum(prod_1)"
   ]
  },
  {
   "cell_type": "code",
   "execution_count": 89,
   "metadata": {},
   "outputs": [
    {
     "name": "stdout",
     "output_type": "stream",
     "text": [
      "12 - [{2, 10}, {8, 4}, {6}]\n",
      "16 - [{2, 14}, {4, 12}, {10, 6}, {9, 7}, {8}]\n",
      "18 - [{16, 2}, {3, 15}, {4, 14}, {12, 6}, {8, 10}, {9}]\n",
      "20 - [{2, 18}, {16, 4}, {5, 15}, {6, 14}, {8, 12}, {9, 11}, {10}]\n",
      "24 - [{2, 22}, {3, 21}, {4, 20}, {18, 6}, {8, 16}, {9, 15}, {10, 14}, {12}]\n"
     ]
    }
   ],
   "source": [
    "show_results(sum_1)"
   ]
  },
  {
   "cell_type": "markdown",
   "metadata": {},
   "source": [
    "### 3. Prod: then I know the numbers;"
   ]
  },
  {
   "cell_type": "code",
   "execution_count": 78,
   "metadata": {},
   "outputs": [],
   "source": [
    "new_cases = [i for i in cases if i not in prod_1.keys()]"
   ]
  },
  {
   "cell_type": "code",
   "execution_count": 79,
   "metadata": {},
   "outputs": [
    {
     "name": "stdout",
     "output_type": "stream",
     "text": [
      "2580\n"
     ]
    }
   ],
   "source": [
    "prod_2 = dict()\n",
    "\n",
    "for i, case in enumerate(new_cases):\n",
    "    results = find_possible_results(case)\n",
    "    if len(results) == 1:\n",
    "        prod_2[case] = results\n",
    "\n",
    "print(len(prod_2))"
   ]
  },
  {
   "cell_type": "code",
   "execution_count": 92,
   "metadata": {},
   "outputs": [
    {
     "name": "stdout",
     "output_type": "stream",
     "text": [
      "26 - [{2, 13}]\n",
      "27 - [{9, 3}]\n",
      "33 - [{11, 3}]\n",
      "34 - [{17, 2}]\n",
      "35 - [{5, 7}]\n",
      "38 - [{2, 19}]\n",
      "39 - [{3, 13}]\n",
      "46 - [{2, 23}]\n",
      "49 - [{7}]\n",
      "51 - [{17, 3}]\n"
     ]
    }
   ],
   "source": [
    "show_results(prod_2, start=10, end=20)"
   ]
  },
  {
   "cell_type": "markdown",
   "metadata": {},
   "source": [
    "### 4. Sum: then I know the numbers too."
   ]
  },
  {
   "cell_type": "code",
   "execution_count": 39,
   "metadata": {},
   "outputs": [
    {
     "name": "stdout",
     "output_type": "stream",
     "text": [
      "2580\n"
     ]
    }
   ],
   "source": [
    "sum_2 = find_possible_results_for_sum(prod_2)"
   ]
  },
  {
   "cell_type": "code",
   "execution_count": 93,
   "metadata": {},
   "outputs": [
    {
     "name": "stdout",
     "output_type": "stream",
     "text": [
      "4 - [{2}]\n",
      "6 - [{2, 4}, {3}]\n",
      "8 - [{3, 5}]\n",
      "9 - [{2, 7}, {8, 1}]\n",
      "10 - [{3, 7}, {5}, {9, 1}]\n"
     ]
    }
   ],
   "source": [
    "show_results(sum_2)"
   ]
  },
  {
   "cell_type": "markdown",
   "metadata": {},
   "source": [
    "## By solving equation"
   ]
  },
  {
   "cell_type": "code",
   "execution_count": 2,
   "metadata": {},
   "outputs": [],
   "source": [
    "def solve_equation(b: int, c: int, a: int = 1) -> Tuple[float]:\n",
    "    \"\"\"Find dicriminant\n",
    "\n",
    "    Args:\n",
    "        b (int): coefficient b for equation\n",
    "        c (int): coefficient c for equation\n",
    "        a (int, optional): coefficient a for equation. Defaults to 1.\n",
    "\n",
    "    Raises:\n",
    "        Exception: If discriminant < 0\n",
    "\n",
    "    Returns:\n",
    "        Tuple[float]: solution of the equation\n",
    "    \"\"\"\n",
    "\n",
    "    # calculating discriminant\n",
    "    discriminant = b ** 2 - (4 * a * c)\n",
    "\n",
    "    if discriminant > 0:\n",
    "        # calculating x1 and x2 numbers which is solution of equation\n",
    "        x1, x2 = (-b - math.sqrt(discriminant)) / (2 * a), (\n",
    "            -b + math.sqrt(discriminant)\n",
    "        ) / (2 * a)\n",
    "    elif discriminant == 0:\n",
    "        x1 = x2 = -b / 2 * a\n",
    "    else:\n",
    "        raise Exception(\n",
    "            f\"Equation don't have solution. The discriminant is {discriminant} < 0\"\n",
    "        )\n",
    "    return round(x1, 2), round(x2, 2)"
   ]
  },
  {
   "cell_type": "code",
   "execution_count": 3,
   "metadata": {},
   "outputs": [
    {
     "name": "stdout",
     "output_type": "stream",
     "text": [
      "Solution for x^2 + 2x + 1 equation is (-1.0, -1.0)\n",
      "Input numbers: sum = 111, prod = 225.\n",
      "Solution is (2.07, 108.93)\n"
     ]
    }
   ],
   "source": [
    "input_sum = randint(MIN_NUM * 2, MAX_NUM * 2 + 1)\n",
    "input_prod = randint(MIN_NUM ** 2, MAX_NUM ** 2 + 1)\n",
    "\n",
    "# test function for D = 0\n",
    "test_solution = solve_equation(2, 1)\n",
    "\n",
    "print(f\"Solution for x^2 + 2x + 1 equation is {test_solution}\")\n",
    "\n",
    "# find solution\n",
    "solution = solve_equation(-input_sum, input_prod)\n",
    "\n",
    "print(f\"Input numbers: sum = {input_sum}, prod = {input_prod}.\\nSolution is {solution}\")"
   ]
  }
 ],
 "metadata": {
  "interpreter": {
   "hash": "3db8efa666cb8a96b7ce6ded4fbc1cca6ce4d9125d0af5a3a7517411ce1d0385"
  },
  "kernelspec": {
   "display_name": "Python 3.9.0 64-bit ('venv': venv)",
   "name": "python3"
  },
  "language_info": {
   "codemirror_mode": {
    "name": "ipython",
    "version": 3
   },
   "file_extension": ".py",
   "mimetype": "text/x-python",
   "name": "python",
   "nbconvert_exporter": "python",
   "pygments_lexer": "ipython3",
   "version": "3.9.0"
  }
 },
 "nbformat": 4,
 "nbformat_minor": 4
}
