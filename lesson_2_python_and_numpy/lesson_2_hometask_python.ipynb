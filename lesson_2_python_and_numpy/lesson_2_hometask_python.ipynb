{
 "cells": [
  {
   "cell_type": "markdown",
   "source": [
    "# Home task \n",
    "\n",
    "## Task about sum and product "
   ],
   "metadata": {}
  },
  {
   "cell_type": "markdown",
   "source": [
    "```\r\n",
    "There are two whole numbers:\r\n",
    "1 < a,b <100\r\n",
    "\r\n",
    "One scientist(\"Sum\") get provided with sum of numbers,\r\n",
    "another  (\"Prod\") get provided with product of numbers. \r\n",
    "Both scientists know that numbers 1 < a,b <100.\r\n",
    "\r\n",
    "Determine the numbers being based on the following dialog: \r\n",
    "    Prod: I don't know the numbers;\r\n",
    "    Sum: I know it;\r\n",
    "    Prod: then I know the numbers; \r\n",
    "    Sum: then I know the numbers too.\r\n",
    "```\r\n",
    "\r\n",
    "## Solution\r\n",
    "Default quadratic equation is `ax^2 + bx + c = 0`\r\n",
    "\r\n",
    "I our case:\r\n",
    "- equation `b^2 + (-Sum) * b + Prod = 0`\r\n",
    "- `a` is `1`\r\n",
    "- `b` is `-Sum`\r\n",
    "- `c` is `Prod`."
   ],
   "metadata": {}
  },
  {
   "cell_type": "markdown",
   "source": [],
   "metadata": {}
  },
  {
   "cell_type": "code",
   "execution_count": 18,
   "source": [
    "import math\r\n",
    "from random import randint\r\n",
    "from typing import Tuple\r\n",
    "\r\n",
    "MIN_NUM = 2\r\n",
    "MAX_NUM = 99"
   ],
   "outputs": [],
   "metadata": {}
  },
  {
   "cell_type": "code",
   "execution_count": 23,
   "source": [
    "def solve_equation(b: int, c: int, a: int = 1) -> Tuple[float]:\r\n",
    "    \"\"\"Find dicriminant\r\n",
    "\r\n",
    "    Args:\r\n",
    "        b (int): coefficient b for equation\r\n",
    "        c (int): coefficient c for equation\r\n",
    "        a (int, optional): coefficient a for equation. Defaults to 1.\r\n",
    "\r\n",
    "    Raises:\r\n",
    "        Exception: If discriminant < 0\r\n",
    "\r\n",
    "    Returns:\r\n",
    "        Tuple[float]: solution of the equation\r\n",
    "    \"\"\"\r\n",
    "\r\n",
    "    # calculating discriminant\r\n",
    "    discriminant = b ** 2 - (4 * a * c)\r\n",
    "\r\n",
    "    if discriminant > 0:\r\n",
    "        # calculating x1 and x2 numbers which is solution of equation\r\n",
    "        x1, x2 = (-b - math.sqrt(discriminant)) / (2 * a), (\r\n",
    "            -b + math.sqrt(discriminant)\r\n",
    "        ) / (2 * a)\r\n",
    "    elif discriminant == 0:\r\n",
    "        x1 = x2 = -b / 2 * a\r\n",
    "    else:\r\n",
    "        raise Exception(\r\n",
    "            f\"Equation don't have solution. The discriminant is {discriminant} < 0\"\r\n",
    "        )\r\n",
    "    return round(x1, 2), round(x2, 2)"
   ],
   "outputs": [],
   "metadata": {}
  },
  {
   "cell_type": "code",
   "execution_count": 24,
   "source": [
    "input_sum = randint(MIN_NUM * 2, MAX_NUM * 2 + 1)\r\n",
    "input_prod = randint(MIN_NUM ** 2, MAX_NUM ** 2 + 1)\r\n",
    "\r\n",
    "# test function for D = 0\r\n",
    "test_solution = solve_equation(2, 1)\r\n",
    "\r\n",
    "print(f\"Solution for x^2 + 2x + 1 equation is {test_solution}\")\r\n",
    "\r\n",
    "# find solution\r\n",
    "solution = solve_equation(-input_sum, input_prod)\r\n",
    "\r\n",
    "print(f\"Input numbers: sum = {input_sum}, prod = {input_prod}.\\nSolution is {solution}\")"
   ],
   "outputs": [
    {
     "output_type": "stream",
     "name": "stdout",
     "text": [
      "Solution for x^2 + 2x + 1 equation is (-1.0, -1.0)\n"
     ]
    },
    {
     "output_type": "error",
     "ename": "Exception",
     "evalue": "Equation don't have solution. The discriminant is -10319 < 0",
     "traceback": [
      "\u001b[1;31m---------------------------------------------------------------------------\u001b[0m",
      "\u001b[1;31mException\u001b[0m                                 Traceback (most recent call last)",
      "\u001b[1;32mC:\\Users\\HAVRYL~1.MYK\\AppData\\Local\\Temp/ipykernel_16920/1734714117.py\u001b[0m in \u001b[0;36m<module>\u001b[1;34m\u001b[0m\n\u001b[0;32m      8\u001b[0m \u001b[1;33m\u001b[0m\u001b[0m\n\u001b[0;32m      9\u001b[0m \u001b[1;31m# find solution\u001b[0m\u001b[1;33m\u001b[0m\u001b[1;33m\u001b[0m\u001b[1;33m\u001b[0m\u001b[0m\n\u001b[1;32m---> 10\u001b[1;33m \u001b[0msolution\u001b[0m \u001b[1;33m=\u001b[0m \u001b[0msolve_equation\u001b[0m\u001b[1;33m(\u001b[0m\u001b[1;33m-\u001b[0m\u001b[0minput_sum\u001b[0m\u001b[1;33m,\u001b[0m \u001b[0minput_prod\u001b[0m\u001b[1;33m)\u001b[0m\u001b[1;33m\u001b[0m\u001b[1;33m\u001b[0m\u001b[0m\n\u001b[0m\u001b[0;32m     11\u001b[0m \u001b[1;33m\u001b[0m\u001b[0m\n\u001b[0;32m     12\u001b[0m \u001b[0mprint\u001b[0m\u001b[1;33m(\u001b[0m\u001b[1;34mf\"Input numbers: sum = {input_sum}, prod = {input_prod}.\\nSolution is {solution}\"\u001b[0m\u001b[1;33m)\u001b[0m\u001b[1;33m\u001b[0m\u001b[1;33m\u001b[0m\u001b[0m\n",
      "\u001b[1;32mC:\\Users\\HAVRYL~1.MYK\\AppData\\Local\\Temp/ipykernel_16920/3054732291.py\u001b[0m in \u001b[0;36msolve_equation\u001b[1;34m(b, c, a)\u001b[0m\n\u001b[0;32m     25\u001b[0m         \u001b[0mx1\u001b[0m \u001b[1;33m=\u001b[0m \u001b[0mx2\u001b[0m \u001b[1;33m=\u001b[0m \u001b[1;33m-\u001b[0m\u001b[0mb\u001b[0m \u001b[1;33m/\u001b[0m \u001b[1;36m2\u001b[0m \u001b[1;33m*\u001b[0m \u001b[0ma\u001b[0m\u001b[1;33m\u001b[0m\u001b[1;33m\u001b[0m\u001b[0m\n\u001b[0;32m     26\u001b[0m     \u001b[1;32melse\u001b[0m\u001b[1;33m:\u001b[0m\u001b[1;33m\u001b[0m\u001b[1;33m\u001b[0m\u001b[0m\n\u001b[1;32m---> 27\u001b[1;33m         raise Exception(\n\u001b[0m\u001b[0;32m     28\u001b[0m             \u001b[1;34mf\"Equation don't have solution. The discriminant is {discriminant} < 0\"\u001b[0m\u001b[1;33m\u001b[0m\u001b[1;33m\u001b[0m\u001b[0m\n\u001b[0;32m     29\u001b[0m         )\n",
      "\u001b[1;31mException\u001b[0m: Equation don't have solution. The discriminant is -10319 < 0"
     ]
    }
   ],
   "metadata": {}
  }
 ],
 "metadata": {
  "kernelspec": {
   "name": "python3",
   "display_name": "Python 3.9.0 64-bit ('venv': venv)"
  },
  "language_info": {
   "codemirror_mode": {
    "name": "ipython",
    "version": 3
   },
   "file_extension": ".py",
   "mimetype": "text/x-python",
   "name": "python",
   "nbconvert_exporter": "python",
   "pygments_lexer": "ipython3",
   "version": "3.9.0"
  },
  "interpreter": {
   "hash": "8a3aacbb565c63557a204b85df79933b171f06386c9feb813a67dd540eb4da05"
  }
 },
 "nbformat": 4,
 "nbformat_minor": 4
}