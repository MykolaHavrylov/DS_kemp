{
 "cells": [
  {
   "cell_type": "markdown",
   "metadata": {},
   "source": [
    "# Home task \n",
    "\n",
    "## Task about sum and product "
   ]
  },
  {
   "cell_type": "markdown",
   "metadata": {},
   "source": [
    "```\n",
    "There are two whole numbers:\n",
    "1 < a,b <100\n",
    "\n",
    "One scientist(\"Sum\") get provided with sum of numbers,\n",
    "another  (\"Prod\") get provided with product of numbers. \n",
    "Both scientists know that numbers 1 < a,b <100.\n",
    "\n",
    "Determine the numbers being based on the following dialog: \n",
    "    Prod: I don't know the numbers;\n",
    "    Sum: I know it;\n",
    "    Prod: then I know the numbers; \n",
    "    Sum: then I know the numbers too.\n",
    "```\n",
    "\n",
    "## Solution\n",
    "Default quadratic equation is `ax^2 + bx + c = 0`\n",
    "\n",
    "I our case:\n",
    "- equation `b^2 + (-Sum) * b + Prod = 0`\n",
    "- `a` is `1`\n",
    "- `b` is `-Sum`\n",
    "- `c` is `Prod`."
   ]
  },
  {
   "cell_type": "code",
   "execution_count": 1,
   "metadata": {},
   "outputs": [],
   "source": [
    "import math\n",
    "from random import randint\n",
    "from typing import Tuple\n",
    "import numpy as np\n",
    "\n",
    "MIN_NUM = 2\n",
    "MAX_NUM = 99"
   ]
  },
  {
   "cell_type": "markdown",
   "metadata": {},
   "source": [
    "## Following the dialog"
   ]
  },
  {
   "cell_type": "code",
   "execution_count": 2,
   "metadata": {},
   "outputs": [],
   "source": [
    "cases = range(MIN_NUM**2, MAX_NUM**2 + 1)"
   ]
  },
  {
   "cell_type": "code",
   "execution_count": 3,
   "metadata": {},
   "outputs": [],
   "source": [
    "def find_possible_results_for_prod(prod: int) -> list[set]:\n",
    "    \"\"\"Find possible pairs of numbers which will give us the same result by product as input num\n",
    "\n",
    "    Args:\n",
    "        prod (int): input number\n",
    "\n",
    "    Returns:\n",
    "        list[set]: possible pairs of numbers\n",
    "    \"\"\"\n",
    "    results = []\n",
    "    for num1 in range(MIN_NUM, prod):\n",
    "        for num2 in range(MIN_NUM, prod):\n",
    "            if num1 * num2 > prod:\n",
    "                break\n",
    "            if num1 * num2 == prod:\n",
    "                result = set((num1, num2))\n",
    "                if result not in results:\n",
    "                    results.append(result)\n",
    "    \n",
    "    return results"
   ]
  },
  {
   "cell_type": "code",
   "execution_count": 4,
   "metadata": {},
   "outputs": [],
   "source": [
    "def find_possible_results_for_sum(sum_cases: list, prods: list) -> list[int]:\n",
    "\n",
    "    results = []\n",
    "    for somma in sum_cases:\n",
    "\n",
    "        result = True\n",
    "\n",
    "        for num1 in range(MIN_NUM, somma):\n",
    "            if somma - num1 < MIN_NUM:\n",
    "                break\n",
    "\n",
    "            num2 = somma - num1\n",
    "\n",
    "            if (num2 * num1) not in prods:\n",
    "                result = False\n",
    "\n",
    "        if result:\n",
    "            results.append(somma)\n",
    "\n",
    "    return results\n",
    "\n"
   ]
  },
  {
   "cell_type": "markdown",
   "metadata": {},
   "source": [
    "### 1. Prod: I don't know the numbers;"
   ]
  },
  {
   "cell_type": "code",
   "execution_count": 5,
   "metadata": {},
   "outputs": [
    {
     "name": "stdout",
     "output_type": "stream",
     "text": [
      "6012\n"
     ]
    }
   ],
   "source": [
    "prod_1 = []\n",
    "\n",
    "for i, case in enumerate(cases):\n",
    "    results = find_possible_results_for_prod(case)\n",
    "    if len(results) > 1:\n",
    "        prod_1.append(case)\n",
    "\n",
    "print(len(prod_1))"
   ]
  },
  {
   "cell_type": "code",
   "execution_count": 6,
   "metadata": {},
   "outputs": [
    {
     "data": {
      "text/plain": [
       "[12, 16, 18, 20, 24, 28, 30, 32, 36, 40]"
      ]
     },
     "execution_count": 6,
     "metadata": {},
     "output_type": "execute_result"
    }
   ],
   "source": [
    "prod_1[:10]"
   ]
  },
  {
   "cell_type": "markdown",
   "metadata": {},
   "source": [
    "### 2. Sum: I know it;"
   ]
  },
  {
   "cell_type": "code",
   "execution_count": 7,
   "metadata": {},
   "outputs": [],
   "source": [
    "cases_for_sum = [num for num in range(MIN_NUM * 2, MAX_NUM * 2 + 1)]"
   ]
  },
  {
   "cell_type": "code",
   "execution_count": 8,
   "metadata": {},
   "outputs": [
    {
     "name": "stdout",
     "output_type": "stream",
     "text": [
      "54\n"
     ]
    },
    {
     "data": {
      "text/plain": [
       "[11, 17, 23, 27, 29, 35, 37, 41, 47, 51]"
      ]
     },
     "execution_count": 8,
     "metadata": {},
     "output_type": "execute_result"
    }
   ],
   "source": [
    "sum_1 = find_possible_results_for_sum(cases_for_sum, prod_1)\n",
    "\n",
    "print(len(sum_1))\n",
    "\n",
    "sum_1[:10]"
   ]
  },
  {
   "cell_type": "markdown",
   "metadata": {},
   "source": [
    "### 3. Prod: then I know the numbers;"
   ]
  },
  {
   "cell_type": "code",
   "execution_count": 9,
   "metadata": {},
   "outputs": [],
   "source": [
    "# sum_t = sum_1[:11]\n",
    "\n",
    "for somma in sum_1:\n",
    "\n",
    "    result = True\n",
    "\n",
    "    for num in range(MIN_NUM, somma):\n",
    "        if somma - num < MIN_NUM:\n",
    "            break\n",
    "\n",
    "        if num * (somma - num) not in prod_1:\n",
    "            print(num * (somma - num))\n",
    "    \n",
    "    # if result:\n",
    "    #     print(f\"{somma}\")"
   ]
  },
  {
   "cell_type": "markdown",
   "metadata": {},
   "source": [
    "### 4. Sum: then I know the numbers too."
   ]
  },
  {
   "cell_type": "code",
   "execution_count": null,
   "metadata": {},
   "outputs": [],
   "source": []
  },
  {
   "cell_type": "markdown",
   "metadata": {},
   "source": [
    "## By solving equation"
   ]
  },
  {
   "cell_type": "code",
   "execution_count": 2,
   "metadata": {},
   "outputs": [],
   "source": [
    "def solve_equation(b: int, c: int, a: int = 1) -> Tuple[float]:\n",
    "    \"\"\"Find dicriminant\n",
    "\n",
    "    Args:\n",
    "        b (int): coefficient b for equation\n",
    "        c (int): coefficient c for equation\n",
    "        a (int, optional): coefficient a for equation. Defaults to 1.\n",
    "\n",
    "    Raises:\n",
    "        Exception: If discriminant < 0\n",
    "\n",
    "    Returns:\n",
    "        Tuple[float]: solution of the equation\n",
    "    \"\"\"\n",
    "\n",
    "    # calculating discriminant\n",
    "    discriminant = b ** 2 - (4 * a * c)\n",
    "\n",
    "    if discriminant > 0:\n",
    "        # calculating x1 and x2 numbers which is solution of equation\n",
    "        x1, x2 = (-b - math.sqrt(discriminant)) / (2 * a), (\n",
    "            -b + math.sqrt(discriminant)\n",
    "        ) / (2 * a)\n",
    "    elif discriminant == 0:\n",
    "        x1 = x2 = -b / 2 * a\n",
    "    else:\n",
    "        raise Exception(\n",
    "            f\"Equation don't have solution. The discriminant is {discriminant} < 0\"\n",
    "        )\n",
    "    return round(x1, 2), round(x2, 2)"
   ]
  },
  {
   "cell_type": "code",
   "execution_count": 3,
   "metadata": {},
   "outputs": [
    {
     "name": "stdout",
     "output_type": "stream",
     "text": [
      "Solution for x^2 + 2x + 1 equation is (-1.0, -1.0)\n",
      "Input numbers: sum = 111, prod = 225.\n",
      "Solution is (2.07, 108.93)\n"
     ]
    }
   ],
   "source": [
    "input_sum = randint(MIN_NUM * 2, MAX_NUM * 2 + 1)\n",
    "input_prod = randint(MIN_NUM ** 2, MAX_NUM ** 2 + 1)\n",
    "\n",
    "# test function for D = 0\n",
    "test_solution = solve_equation(2, 1)\n",
    "\n",
    "print(f\"Solution for x^2 + 2x + 1 equation is {test_solution}\")\n",
    "\n",
    "# find solution\n",
    "solution = solve_equation(-input_sum, input_prod)\n",
    "\n",
    "print(f\"Input numbers: sum = {input_sum}, prod = {input_prod}.\\nSolution is {solution}\")"
   ]
  }
 ],
 "metadata": {
  "interpreter": {
   "hash": "3db8efa666cb8a96b7ce6ded4fbc1cca6ce4d9125d0af5a3a7517411ce1d0385"
  },
  "kernelspec": {
   "display_name": "Python 3.9.0 64-bit ('venv': venv)",
   "name": "python3"
  },
  "language_info": {
   "codemirror_mode": {
    "name": "ipython",
    "version": 3
   },
   "file_extension": ".py",
   "mimetype": "text/x-python",
   "name": "python",
   "nbconvert_exporter": "python",
   "pygments_lexer": "ipython3",
   "version": "3.9.0"
  }
 },
 "nbformat": 4,
 "nbformat_minor": 4
}
