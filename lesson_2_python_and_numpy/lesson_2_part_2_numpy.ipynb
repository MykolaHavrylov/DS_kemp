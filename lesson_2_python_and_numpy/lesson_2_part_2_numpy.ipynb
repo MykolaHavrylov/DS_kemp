{
 "cells": [
  {
   "cell_type": "markdown",
   "source": [
    "<font color = green >\n",
    "\n",
    "# Numpy\n",
    "</font>"
   ],
   "metadata": {}
  },
  {
   "cell_type": "code",
   "execution_count": 1,
   "source": [
    "import numpy as np "
   ],
   "outputs": [],
   "metadata": {}
  },
  {
   "cell_type": "markdown",
   "source": [
    "<font color = green >\n",
    "\n",
    "## array\n",
    "</font>"
   ],
   "metadata": {}
  },
  {
   "cell_type": "code",
   "execution_count": 2,
   "source": [
    "x = np.array([1,2,3,4])\r\n",
    "print (type(x))\r\n",
    "x"
   ],
   "outputs": [
    {
     "output_type": "stream",
     "name": "stdout",
     "text": [
      "<class 'numpy.ndarray'>\n"
     ]
    },
    {
     "output_type": "execute_result",
     "data": {
      "text/plain": [
       "array([1, 2, 3, 4])"
      ]
     },
     "metadata": {},
     "execution_count": 2
    }
   ],
   "metadata": {}
  },
  {
   "cell_type": "code",
   "execution_count": 3,
   "source": [
    "y = np.array([[7, 8, 9], [10, 11, 12]])\r\n",
    "y"
   ],
   "outputs": [
    {
     "output_type": "execute_result",
     "data": {
      "text/plain": [
       "array([[ 7,  8,  9],\n",
       "       [10, 11, 12]])"
      ]
     },
     "metadata": {},
     "execution_count": 3
    }
   ],
   "metadata": {}
  },
  {
   "cell_type": "markdown",
   "source": [
    "<font color = green >\n",
    "\n",
    "### Shape\n",
    "</font>"
   ],
   "metadata": {}
  },
  {
   "cell_type": "code",
   "execution_count": 51,
   "source": [
    "y.shape"
   ],
   "outputs": [
    {
     "output_type": "execute_result",
     "data": {
      "text/plain": [
       "(2, 2)"
      ]
     },
     "metadata": {},
     "execution_count": 51
    }
   ],
   "metadata": {}
  },
  {
   "cell_type": "markdown",
   "source": [
    "<font color = green >\n",
    "\n",
    "### arange\n",
    "</font>"
   ],
   "metadata": {}
  },
  {
   "cell_type": "code",
   "execution_count": 52,
   "source": [
    "?range"
   ],
   "outputs": [
    {
     "output_type": "stream",
     "name": "stdout",
     "text": [
      "\u001b[1;31mInit signature:\u001b[0m \u001b[0mrange\u001b[0m\u001b[1;33m(\u001b[0m\u001b[0mself\u001b[0m\u001b[1;33m,\u001b[0m \u001b[1;33m/\u001b[0m\u001b[1;33m,\u001b[0m \u001b[1;33m*\u001b[0m\u001b[0margs\u001b[0m\u001b[1;33m,\u001b[0m \u001b[1;33m**\u001b[0m\u001b[0mkwargs\u001b[0m\u001b[1;33m)\u001b[0m\u001b[1;33m\u001b[0m\u001b[1;33m\u001b[0m\u001b[0m\n",
      "\u001b[1;31mDocstring:\u001b[0m     \n",
      "range(stop) -> range object\n",
      "range(start, stop[, step]) -> range object\n",
      "\n",
      "Return an object that produces a sequence of integers from start (inclusive)\n",
      "to stop (exclusive) by step.  range(i, j) produces i, i+1, i+2, ..., j-1.\n",
      "start defaults to 0, and stop is omitted!  range(4) produces 0, 1, 2, 3.\n",
      "These are exactly the valid indices for a list of 4 elements.\n",
      "When step is given, it specifies the increment (or decrement).\n",
      "\u001b[1;31mType:\u001b[0m           type\n",
      "\u001b[1;31mSubclasses:\u001b[0m     \n"
     ]
    }
   ],
   "metadata": {}
  },
  {
   "cell_type": "code",
   "execution_count": 53,
   "source": [
    "print (np.array(range(2,10,3)))\r\n",
    "np.arange(2,10,3)"
   ],
   "outputs": [
    {
     "output_type": "stream",
     "name": "stdout",
     "text": [
      "[2 5 8]\n"
     ]
    },
    {
     "output_type": "execute_result",
     "data": {
      "text/plain": [
       "array([2, 5, 8])"
      ]
     },
     "metadata": {},
     "execution_count": 53
    }
   ],
   "metadata": {}
  },
  {
   "cell_type": "markdown",
   "source": [
    "<font color = green >\n",
    "\n",
    "### linspace\n",
    "</font>"
   ],
   "metadata": {}
  },
  {
   "cell_type": "code",
   "execution_count": 7,
   "source": [
    "np.linspace(1,10,5)\r\n"
   ],
   "outputs": [
    {
     "output_type": "execute_result",
     "data": {
      "text/plain": [
       "array([ 1.  ,  3.25,  5.5 ,  7.75, 10.  ])"
      ]
     },
     "metadata": {},
     "execution_count": 7
    }
   ],
   "metadata": {}
  },
  {
   "cell_type": "markdown",
   "source": [
    "<font color = green >\n",
    "\n",
    "### logspace\n",
    "</font>"
   ],
   "metadata": {}
  },
  {
   "cell_type": "code",
   "execution_count": 8,
   "source": [
    "np.logspace(-1, 3, 5)"
   ],
   "outputs": [
    {
     "output_type": "execute_result",
     "data": {
      "text/plain": [
       "array([1.e-01, 1.e+00, 1.e+01, 1.e+02, 1.e+03])"
      ]
     },
     "metadata": {},
     "execution_count": 8
    }
   ],
   "metadata": {}
  },
  {
   "cell_type": "markdown",
   "source": [
    "<font color = green >\n",
    "\n",
    "### Reshape\n",
    "</font>"
   ],
   "metadata": {}
  },
  {
   "cell_type": "code",
   "execution_count": 9,
   "source": [
    "a= np.arange (0,20)\r\n",
    "a"
   ],
   "outputs": [
    {
     "output_type": "execute_result",
     "data": {
      "text/plain": [
       "array([ 0,  1,  2,  3,  4,  5,  6,  7,  8,  9, 10, 11, 12, 13, 14, 15, 16,\n",
       "       17, 18, 19])"
      ]
     },
     "metadata": {},
     "execution_count": 9
    }
   ],
   "metadata": {}
  },
  {
   "cell_type": "code",
   "execution_count": 10,
   "source": [
    "b = a.reshape(4,5) # Note it is not inplace operation\r\n",
    "b"
   ],
   "outputs": [
    {
     "output_type": "execute_result",
     "data": {
      "text/plain": [
       "array([[ 0,  1,  2,  3,  4],\n",
       "       [ 5,  6,  7,  8,  9],\n",
       "       [10, 11, 12, 13, 14],\n",
       "       [15, 16, 17, 18, 19]])"
      ]
     },
     "metadata": {},
     "execution_count": 10
    }
   ],
   "metadata": {}
  },
  {
   "cell_type": "code",
   "execution_count": 11,
   "source": [
    "a.reshape(5,-1)"
   ],
   "outputs": [
    {
     "output_type": "execute_result",
     "data": {
      "text/plain": [
       "array([[ 0,  1,  2,  3],\n",
       "       [ 4,  5,  6,  7],\n",
       "       [ 8,  9, 10, 11],\n",
       "       [12, 13, 14, 15],\n",
       "       [16, 17, 18, 19]])"
      ]
     },
     "metadata": {},
     "execution_count": 11
    }
   ],
   "metadata": {}
  },
  {
   "cell_type": "code",
   "execution_count": 12,
   "source": [
    "a.resize(2,10) # Note: This is inplace operation\r\n",
    "a\r\n",
    "# Note: negative dimensions not allowed"
   ],
   "outputs": [
    {
     "output_type": "execute_result",
     "data": {
      "text/plain": [
       "array([[ 0,  1,  2,  3,  4,  5,  6,  7,  8,  9],\n",
       "       [10, 11, 12, 13, 14, 15, 16, 17, 18, 19]])"
      ]
     },
     "metadata": {},
     "execution_count": 12
    }
   ],
   "metadata": {}
  },
  {
   "cell_type": "markdown",
   "source": [
    "<font color = green >\n",
    "\n",
    "### zeros/ones/eye\n",
    "</font>"
   ],
   "metadata": {}
  },
  {
   "cell_type": "code",
   "execution_count": 13,
   "source": [
    "a= np.zeros(3)\r\n",
    "print (a.dtype)\r\n",
    "a"
   ],
   "outputs": [
    {
     "output_type": "stream",
     "name": "stdout",
     "text": [
      "float64\n"
     ]
    },
    {
     "output_type": "execute_result",
     "data": {
      "text/plain": [
       "array([0., 0., 0.])"
      ]
     },
     "metadata": {},
     "execution_count": 13
    }
   ],
   "metadata": {}
  },
  {
   "cell_type": "code",
   "execution_count": 14,
   "source": [
    "np.zeros([2,2,3]).astype(int) # dtype float by default"
   ],
   "outputs": [
    {
     "output_type": "execute_result",
     "data": {
      "text/plain": [
       "array([[[0, 0, 0],\n",
       "        [0, 0, 0]],\n",
       "\n",
       "       [[0, 0, 0],\n",
       "        [0, 0, 0]]])"
      ]
     },
     "metadata": {},
     "execution_count": 14
    }
   ],
   "metadata": {}
  },
  {
   "cell_type": "code",
   "execution_count": 15,
   "source": [
    "print (np.ones(4, int)) # pass type into creation function\r\n",
    "np.eye(3)"
   ],
   "outputs": [
    {
     "output_type": "stream",
     "name": "stdout",
     "text": [
      "[1 1 1 1]\n"
     ]
    },
    {
     "output_type": "execute_result",
     "data": {
      "text/plain": [
       "array([[1., 0., 0.],\n",
       "       [0., 1., 0.],\n",
       "       [0., 0., 1.]])"
      ]
     },
     "metadata": {},
     "execution_count": 15
    }
   ],
   "metadata": {}
  },
  {
   "cell_type": "markdown",
   "source": [
    "<font color = green >\n",
    "\n",
    "### diag\n",
    "</font>"
   ],
   "metadata": {}
  },
  {
   "cell_type": "code",
   "execution_count": 16,
   "source": [
    "a= np.arange (0,9)\r\n",
    "a.resize(3,3)\r\n",
    "diag= np.diag(a)\r\n",
    "a\r\n"
   ],
   "outputs": [
    {
     "output_type": "execute_result",
     "data": {
      "text/plain": [
       "array([[0, 1, 2],\n",
       "       [3, 4, 5],\n",
       "       [6, 7, 8]])"
      ]
     },
     "metadata": {},
     "execution_count": 16
    }
   ],
   "metadata": {}
  },
  {
   "cell_type": "code",
   "execution_count": 17,
   "source": [
    "diag"
   ],
   "outputs": [
    {
     "output_type": "execute_result",
     "data": {
      "text/plain": [
       "array([0, 4, 8])"
      ]
     },
     "metadata": {},
     "execution_count": 17
    }
   ],
   "metadata": {}
  },
  {
   "cell_type": "code",
   "execution_count": null,
   "source": [],
   "outputs": [],
   "metadata": {}
  },
  {
   "cell_type": "code",
   "execution_count": 18,
   "source": [
    "print (np.repeat([1,2,3],3))\r\n",
    "print (np.array([1,2,3]*3))"
   ],
   "outputs": [
    {
     "output_type": "stream",
     "name": "stdout",
     "text": [
      "[1 1 1 2 2 2 3 3 3]\n",
      "[1 2 3 1 2 3 1 2 3]\n"
     ]
    }
   ],
   "metadata": {}
  },
  {
   "cell_type": "markdown",
   "source": [
    "***\n",
    "<font color = green >\n",
    "\n",
    "## broadcast operations\n",
    "</font>"
   ],
   "metadata": {}
  },
  {
   "cell_type": "code",
   "execution_count": 19,
   "source": [
    "x= np.eye(3)\r\n",
    "y = np.ones(3)\r\n",
    "x+y"
   ],
   "outputs": [
    {
     "output_type": "execute_result",
     "data": {
      "text/plain": [
       "array([[2., 1., 1.],\n",
       "       [1., 2., 1.],\n",
       "       [1., 1., 2.]])"
      ]
     },
     "metadata": {},
     "execution_count": 19
    }
   ],
   "metadata": {}
  },
  {
   "cell_type": "code",
   "execution_count": 20,
   "source": [
    "a= np.array([1,2,3])\r\n",
    "print (a+1)\r\n",
    "print (a*3)\r\n",
    "print (a**2)\r\n"
   ],
   "outputs": [
    {
     "output_type": "stream",
     "name": "stdout",
     "text": [
      "[2 3 4]\n",
      "[3 6 9]\n",
      "[1 4 9]\n"
     ]
    }
   ],
   "metadata": {}
  },
  {
   "cell_type": "markdown",
   "source": [
    "<font color = green >\n",
    "\n",
    "### combine arrays\n",
    "</font>"
   ],
   "metadata": {}
  },
  {
   "cell_type": "code",
   "execution_count": 21,
   "source": [
    "np.append([[1, 2, 3], [4, 5, 6]], [7, 8])\r\n",
    "# Note: without axis value it makes both flattened before append"
   ],
   "outputs": [
    {
     "output_type": "execute_result",
     "data": {
      "text/plain": [
       "array([1, 2, 3, 4, 5, 6, 7, 8])"
      ]
     },
     "metadata": {},
     "execution_count": 21
    }
   ],
   "metadata": {}
  },
  {
   "cell_type": "code",
   "execution_count": 22,
   "source": [
    "# setting axis\r\n",
    "np.append([[1, 2, 3], [4, 5, 6]], [[7], [8]], axis= 1)\r\n"
   ],
   "outputs": [
    {
     "output_type": "execute_result",
     "data": {
      "text/plain": [
       "array([[1, 2, 3, 7],\n",
       "       [4, 5, 6, 8]])"
      ]
     },
     "metadata": {},
     "execution_count": 22
    }
   ],
   "metadata": {}
  },
  {
   "cell_type": "code",
   "execution_count": 23,
   "source": [
    "x= np.array ([[1,2], [3,4]])\r\n",
    "y= np.array ([[5,6], [7,8]])"
   ],
   "outputs": [],
   "metadata": {}
  },
  {
   "cell_type": "code",
   "execution_count": 24,
   "source": [
    "np.concatenate((x,y)) # Note  double brackets"
   ],
   "outputs": [
    {
     "output_type": "execute_result",
     "data": {
      "text/plain": [
       "array([[1, 2],\n",
       "       [3, 4],\n",
       "       [5, 6],\n",
       "       [7, 8]])"
      ]
     },
     "metadata": {},
     "execution_count": 24
    }
   ],
   "metadata": {}
  },
  {
   "cell_type": "code",
   "execution_count": 25,
   "source": [
    "np.concatenate((x,y), axis= 1) "
   ],
   "outputs": [
    {
     "output_type": "execute_result",
     "data": {
      "text/plain": [
       "array([[1, 2, 5, 6],\n",
       "       [3, 4, 7, 8]])"
      ]
     },
     "metadata": {},
     "execution_count": 25
    }
   ],
   "metadata": {}
  },
  {
   "cell_type": "code",
   "execution_count": 26,
   "source": [
    "np.hstack((x,y))"
   ],
   "outputs": [
    {
     "output_type": "execute_result",
     "data": {
      "text/plain": [
       "array([[1, 2, 5, 6],\n",
       "       [3, 4, 7, 8]])"
      ]
     },
     "metadata": {},
     "execution_count": 26
    }
   ],
   "metadata": {}
  },
  {
   "cell_type": "code",
   "execution_count": 27,
   "source": [
    "np.c_[x,y] # alternative for axis 1 \r\n",
    "# the same as np.hstack((x,y)) "
   ],
   "outputs": [
    {
     "output_type": "execute_result",
     "data": {
      "text/plain": [
       "array([[1, 2, 5, 6],\n",
       "       [3, 4, 7, 8]])"
      ]
     },
     "metadata": {},
     "execution_count": 27
    }
   ],
   "metadata": {}
  },
  {
   "cell_type": "code",
   "execution_count": 28,
   "source": [
    "np.r_[x,y] # alternative for axis 0\r\n",
    "# the same as  np.vstack((x,y))"
   ],
   "outputs": [
    {
     "output_type": "execute_result",
     "data": {
      "text/plain": [
       "array([[1, 2],\n",
       "       [3, 4],\n",
       "       [5, 6],\n",
       "       [7, 8]])"
      ]
     },
     "metadata": {},
     "execution_count": 28
    }
   ],
   "metadata": {}
  },
  {
   "cell_type": "markdown",
   "source": [
    "<font color = green >\n",
    "\n",
    "### Multiply arrays\n",
    "</font>"
   ],
   "metadata": {}
  },
  {
   "cell_type": "markdown",
   "source": [
    "<font color = green >\n",
    "\n",
    "### Element-wise\n",
    "</font>"
   ],
   "metadata": {}
  },
  {
   "cell_type": "code",
   "execution_count": 29,
   "source": [
    "x= np.array ([[1,2], [3,4]])\r\n",
    "y= np.array ([[5,6], [7,8]])\r\n",
    "\r\n",
    "x*y \r\n",
    "# the same as np.multiply(x, y)"
   ],
   "outputs": [
    {
     "output_type": "execute_result",
     "data": {
      "text/plain": [
       "array([[ 5, 12],\n",
       "       [21, 32]])"
      ]
     },
     "metadata": {},
     "execution_count": 29
    }
   ],
   "metadata": {}
  },
  {
   "cell_type": "markdown",
   "source": [
    "<font color = green >\n",
    "\n",
    "### Matrix multiplication\n",
    "</font>"
   ],
   "metadata": {}
  },
  {
   "cell_type": "code",
   "execution_count": 30,
   "source": [
    "print (x,'\\n\\n' , y, '\\n', '='*20)\r\n",
    "x @ y \r\n",
    "# the same as np.matmul(x,y)\r\n",
    "# Note about number of rows and columns"
   ],
   "outputs": [
    {
     "output_type": "stream",
     "name": "stdout",
     "text": [
      "[[1 2]\n",
      " [3 4]] \n",
      "\n",
      " [[5 6]\n",
      " [7 8]] \n",
      " ====================\n"
     ]
    },
    {
     "output_type": "execute_result",
     "data": {
      "text/plain": [
       "array([[19, 22],\n",
       "       [43, 50]])"
      ]
     },
     "metadata": {},
     "execution_count": 30
    }
   ],
   "metadata": {}
  },
  {
   "cell_type": "markdown",
   "source": [
    "<font color = green >\n",
    "\n",
    "\n",
    "### dot\n",
    "</font>"
   ],
   "metadata": {}
  },
  {
   "cell_type": "code",
   "execution_count": 31,
   "source": [
    "np.dot ([1,2,3], [2,4,5]) # inner product - case of 1d arrays (vectors)\r\n",
    "# the same as np.sum(np.array([1,2,3]) @ np.array([2,4,5]).T)"
   ],
   "outputs": [
    {
     "output_type": "execute_result",
     "data": {
      "text/plain": [
       "25"
      ]
     },
     "metadata": {},
     "execution_count": 31
    }
   ],
   "metadata": {}
  },
  {
   "cell_type": "code",
   "execution_count": 32,
   "source": [
    "np.dot (x,y) # matmul - case of 2d arrays (matrices)\r\n",
    "# x@y  is prefered "
   ],
   "outputs": [
    {
     "output_type": "execute_result",
     "data": {
      "text/plain": [
       "array([[19, 22],\n",
       "       [43, 50]])"
      ]
     },
     "metadata": {},
     "execution_count": 32
    }
   ],
   "metadata": {}
  },
  {
   "cell_type": "code",
   "execution_count": 33,
   "source": [
    "np.dot ([1,2,3], 5) # broadcast multiplication - case one of arguments is scalar\r\n",
    "# x*y  is prefered "
   ],
   "outputs": [
    {
     "output_type": "execute_result",
     "data": {
      "text/plain": [
       "array([ 5, 10, 15])"
      ]
     },
     "metadata": {},
     "execution_count": 33
    }
   ],
   "metadata": {}
  },
  {
   "cell_type": "markdown",
   "source": [
    "***\n",
    "<font color = green >\n",
    "\n",
    "## slicing arrays\n",
    "</font>"
   ],
   "metadata": {}
  },
  {
   "cell_type": "markdown",
   "source": [
    "\n",
    "<font color = green >\n",
    "\n",
    "### slicing 1D arrays\n",
    "</font>"
   ],
   "metadata": {}
  },
  {
   "cell_type": "code",
   "execution_count": 34,
   "source": [
    "a = np.array([1,2,3,4,5,6]) \r\n",
    "print (a)\r\n",
    "print (a[::-1], 'all items in the array, reversed:')\r\n",
    "# default values print (a[-1:-7:-1])\r\n",
    "\r\n",
    "print (a[1::-1], 'the first two items, reversed:')\r\n",
    "print (a[:-3:-1],'the last two items, reversed:') \r\n",
    "print (a[-3::-1],'everything except the last two items, reversed:' )"
   ],
   "outputs": [
    {
     "output_type": "stream",
     "name": "stdout",
     "text": [
      "[1 2 3 4 5 6]\n",
      "[6 5 4 3 2 1] all items in the array, reversed:\n",
      "[2 1] the first two items, reversed:\n",
      "[6 5] the last two items, reversed:\n",
      "[4 3 2 1] everything except the last two items, reversed:\n"
     ]
    }
   ],
   "metadata": {}
  },
  {
   "cell_type": "markdown",
   "source": [
    "\n",
    "<font color = green >\n",
    "\n",
    "### slicing ndarrays\n",
    "</font>"
   ],
   "metadata": {}
  },
  {
   "cell_type": "code",
   "execution_count": 35,
   "source": [
    "a= np.arange(20).reshape(5,-1)\r\n",
    "print (a,'\\n', '='*15)\r\n",
    "a [:,1:3]        "
   ],
   "outputs": [
    {
     "output_type": "stream",
     "name": "stdout",
     "text": [
      "[[ 0  1  2  3]\n",
      " [ 4  5  6  7]\n",
      " [ 8  9 10 11]\n",
      " [12 13 14 15]\n",
      " [16 17 18 19]] \n",
      " ===============\n"
     ]
    },
    {
     "output_type": "execute_result",
     "data": {
      "text/plain": [
       "array([[ 1,  2],\n",
       "       [ 5,  6],\n",
       "       [ 9, 10],\n",
       "       [13, 14],\n",
       "       [17, 18]])"
      ]
     },
     "metadata": {},
     "execution_count": 35
    }
   ],
   "metadata": {}
  },
  {
   "cell_type": "code",
   "execution_count": 36,
   "source": [
    "a [3,1:3]   = -1\r\n",
    "a"
   ],
   "outputs": [
    {
     "output_type": "execute_result",
     "data": {
      "text/plain": [
       "array([[ 0,  1,  2,  3],\n",
       "       [ 4,  5,  6,  7],\n",
       "       [ 8,  9, 10, 11],\n",
       "       [12, -1, -1, 15],\n",
       "       [16, 17, 18, 19]])"
      ]
     },
     "metadata": {},
     "execution_count": 36
    }
   ],
   "metadata": {}
  },
  {
   "cell_type": "markdown",
   "source": [
    "<font color = green >\n",
    "\n",
    "### Quering arrays\n",
    "</font>"
   ],
   "metadata": {}
  },
  {
   "cell_type": "code",
   "execution_count": 37,
   "source": [
    "a>10"
   ],
   "outputs": [
    {
     "output_type": "execute_result",
     "data": {
      "text/plain": [
       "array([[False, False, False, False],\n",
       "       [False, False, False, False],\n",
       "       [False, False, False,  True],\n",
       "       [ True, False, False,  True],\n",
       "       [ True,  True,  True,  True]])"
      ]
     },
     "metadata": {},
     "execution_count": 37
    }
   ],
   "metadata": {}
  },
  {
   "cell_type": "code",
   "execution_count": 38,
   "source": [
    "print (a>9)\r\n",
    "a[a>9] # Note: Returns flattened if bolean mask provided as index"
   ],
   "outputs": [
    {
     "output_type": "stream",
     "name": "stdout",
     "text": [
      "[[False False False False]\n",
      " [False False False False]\n",
      " [False False  True  True]\n",
      " [ True False False  True]\n",
      " [ True  True  True  True]]\n"
     ]
    },
    {
     "output_type": "execute_result",
     "data": {
      "text/plain": [
       "array([10, 11, 12, 15, 16, 17, 18, 19])"
      ]
     },
     "metadata": {},
     "execution_count": 38
    }
   ],
   "metadata": {}
  },
  {
   "cell_type": "markdown",
   "source": [
    "<font color = green >\n",
    "\n",
    "### argmin/argmax\n",
    "</font>"
   ],
   "metadata": {}
  },
  {
   "cell_type": "code",
   "execution_count": 39,
   "source": [
    "a = np.array([\r\n",
    "    [2,1,4], \r\n",
    "    [-1,8,2],\r\n",
    "    [6,0,1]])\r\n",
    "print (a.argmin()) # Note returns the index of first el in flattened array in case axis is not provided \r\n",
    "print (a.argmin(axis= 0), 'axis= 0 means vertically  - for every column')\r\n",
    "print (a.argmax(axis= 1), 'axis= 1 means horizontally  - for every row')"
   ],
   "outputs": [
    {
     "output_type": "stream",
     "name": "stdout",
     "text": [
      "3\n",
      "[1 2 2] axis= 0 means vertically  - for every column\n",
      "[2 1 0] axis= 1 means horizontally  - for every row\n"
     ]
    }
   ],
   "metadata": {}
  },
  {
   "cell_type": "markdown",
   "source": [
    "<font color = green >\n",
    "\n",
    "### Where\n",
    "</font>"
   ],
   "metadata": {}
  },
  {
   "cell_type": "code",
   "execution_count": 40,
   "source": [
    "x = np.array([[1,7],[8,3], [1,3]])\r\n",
    "np.where(x < 5, x, -1)  # broadcast condition"
   ],
   "outputs": [
    {
     "output_type": "execute_result",
     "data": {
      "text/plain": [
       "array([[ 1, -1],\n",
       "       [-1,  3],\n",
       "       [ 1,  3]])"
      ]
     },
     "metadata": {},
     "execution_count": 40
    }
   ],
   "metadata": {}
  },
  {
   "cell_type": "code",
   "execution_count": 41,
   "source": [
    "# element-wise condition\r\n",
    "np.where([[True, False], [True, True]],[[1, 2], [3, 4]], [[5, 6], [7, 8]]) \r\n",
    "# [[1, 2], [3, 4]] is used for True located elements  \r\n",
    "#  [[5, 6], [7, 8]] is used for False  located elements  "
   ],
   "outputs": [
    {
     "output_type": "execute_result",
     "data": {
      "text/plain": [
       "array([[1, 6],\n",
       "       [3, 4]])"
      ]
     },
     "metadata": {},
     "execution_count": 41
    }
   ],
   "metadata": {}
  },
  {
   "cell_type": "code",
   "execution_count": 42,
   "source": [
    "print (f'x=\\n{x}\\n')\r\n",
    "\r\n",
    "print ('x[x > 2]=', x[x > 2])\r\n",
    "x [np.where( x > 2)] # actually gives the same result as  x[x > 3] \r\n",
    "\r\n",
    "print ('\\nNote:  x>2  is boolean mask :  [[False,  True], [ True, True], [False, False]]\\n'\\\r\n",
    "       'but np.where( x > 3) returns tuple: (array([0, 1, 1, 2]), array([1, 0, 1, 1]))\\n'\\\r\n",
    "       'which contains indices of  element True')\r\n"
   ],
   "outputs": [
    {
     "output_type": "stream",
     "name": "stdout",
     "text": [
      "x=\n",
      "[[1 7]\n",
      " [8 3]\n",
      " [1 3]]\n",
      "\n",
      "x[x > 2]= [7 8 3 3]\n",
      "\n",
      "Note:  x>2  is boolean mask :  [[False,  True], [ True, True], [False, False]]\n",
      "but np.where( x > 3) returns tuple: (array([0, 1, 1, 2]), array([1, 0, 1, 1]))\n",
      "which contains indices of  element True\n"
     ]
    }
   ],
   "metadata": {}
  },
  {
   "cell_type": "markdown",
   "source": [
    "<font color = green >\n",
    "\n",
    "### Unique\n",
    "</font>"
   ],
   "metadata": {}
  },
  {
   "cell_type": "code",
   "execution_count": 43,
   "source": [
    "print (f'x=\\n{x}\\n')\r\n",
    "np.unique(x)"
   ],
   "outputs": [
    {
     "output_type": "stream",
     "name": "stdout",
     "text": [
      "x=\n",
      "[[1 7]\n",
      " [8 3]\n",
      " [1 3]]\n",
      "\n"
     ]
    },
    {
     "output_type": "execute_result",
     "data": {
      "text/plain": [
       "array([1, 3, 7, 8])"
      ]
     },
     "metadata": {},
     "execution_count": 43
    }
   ],
   "metadata": {}
  },
  {
   "cell_type": "markdown",
   "source": [
    "***\n",
    "<font color = green >\n",
    "\n",
    "## linalg\n",
    "</font>"
   ],
   "metadata": {}
  },
  {
   "cell_type": "markdown",
   "source": [
    "\n",
    "<font color = green >\n",
    "\n",
    "### Solve\n",
    "</font>"
   ],
   "metadata": {}
  },
  {
   "cell_type": "code",
   "execution_count": 44,
   "source": [
    "a=np.array([[1,2,3],[0,1,2], [2,0,0]])\r\n",
    "b = [1,1,0]\r\n",
    "np.linalg.solve (a,b)"
   ],
   "outputs": [
    {
     "output_type": "execute_result",
     "data": {
      "text/plain": [
       "array([ 0., -1.,  1.])"
      ]
     },
     "metadata": {},
     "execution_count": 44
    }
   ],
   "metadata": {}
  },
  {
   "cell_type": "markdown",
   "source": [
    "### Determinant"
   ],
   "metadata": {}
  },
  {
   "cell_type": "code",
   "execution_count": 45,
   "source": [
    "a_sing=np.array([[1,2,3],[0,1,2], [1,3,5]])\r\n",
    "np.linalg.det(a_sing)"
   ],
   "outputs": [
    {
     "output_type": "execute_result",
     "data": {
      "text/plain": [
       "0.0"
      ]
     },
     "metadata": {},
     "execution_count": 45
    }
   ],
   "metadata": {}
  },
  {
   "cell_type": "markdown",
   "source": [
    "\n",
    "<font color = green >\n",
    "\n",
    "### Inverse matrix\n",
    "</font>"
   ],
   "metadata": {}
  },
  {
   "cell_type": "code",
   "execution_count": 46,
   "source": [
    "print ('a=\\n',a,'\\n','='*10)\r\n",
    "print ('inv(a):\\n',np.linalg.inv (a)) \r\n",
    "print ('='*10,'\\nto compare with pseudo-inv(a):\\n', np.linalg.pinv (a)) # pseudo-inverse of a matrix is defined as: “the matrix that ‘solves’ [the least-squares problem] \r\n",
    "print ('pinv returns the inverse of your matrix when it is available and the pseudo inverse when it isn\\'t.')\r\n",
    "print ('='*10,'\\n',np.linalg.pinv (a) @ a)\r\n",
    "\r\n",
    "print ('='*10,'\\na_singular=\\n',a_sing,'\\n')\r\n",
    "try: \r\n",
    "    np.linalg.inv (a_sing)\r\n",
    "except Exception as e:\r\n",
    "    print ('Exception:',e)\r\n",
    "print ('='*10,'\\npseudo-inv(a_singular):\\n', np.linalg.pinv (a_sing))\r\n",
    "np.linalg.pinv (a_sing) @ a_sing\r\n"
   ],
   "outputs": [
    {
     "output_type": "stream",
     "name": "stdout",
     "text": [
      "a=\n",
      " [[1 2 3]\n",
      " [0 1 2]\n",
      " [2 0 0]] \n",
      " ==========\n",
      "inv(a):\n",
      " [[ 0.   0.   0.5]\n",
      " [ 2.  -3.  -1. ]\n",
      " [-1.   2.   0.5]]\n",
      "========== \n",
      "to compare with pseudo-inv(a):\n",
      " [[-1.97483507e-16  3.50721573e-16  5.00000000e-01]\n",
      " [ 2.00000000e+00 -3.00000000e+00 -1.00000000e+00]\n",
      " [-1.00000000e+00  2.00000000e+00  5.00000000e-01]]\n",
      "pinv returns the inverse of your matrix when it is available and the pseudo inverse when it isn't.\n",
      "========== \n",
      " [[ 1.00000000e+00 -4.42454405e-17  1.08992626e-16]\n",
      " [-4.44089210e-16  1.00000000e+00 -8.88178420e-16]\n",
      " [ 0.00000000e+00  4.44089210e-16  1.00000000e+00]]\n",
      "========== \n",
      "a_singular=\n",
      " [[1 2 3]\n",
      " [0 1 2]\n",
      " [1 3 5]] \n",
      "\n",
      "Exception: Singular matrix\n",
      "========== \n",
      "pseudo-inv(a_singular):\n",
      " [[ 1.00000000e+00 -1.16666667e+00 -1.66666667e-01]\n",
      " [ 3.33333333e-01 -3.33333333e-01  1.46436677e-16]\n",
      " [-3.33333333e-01  5.00000000e-01  1.66666667e-01]]\n"
     ]
    },
    {
     "output_type": "execute_result",
     "data": {
      "text/plain": [
       "array([[ 0.83333333,  0.33333333, -0.16666667],\n",
       "       [ 0.33333333,  0.33333333,  0.33333333],\n",
       "       [-0.16666667,  0.33333333,  0.83333333]])"
      ]
     },
     "metadata": {},
     "execution_count": 46
    }
   ],
   "metadata": {}
  },
  {
   "cell_type": "markdown",
   "source": [
    "\n",
    "<font color = green >\n",
    "\n",
    "### Norm\n",
    "</font>"
   ],
   "metadata": {}
  },
  {
   "cell_type": "code",
   "execution_count": 47,
   "source": [
    "a = np.array ([3,4])\r\n",
    "np.linalg.norm(a)"
   ],
   "outputs": [
    {
     "output_type": "execute_result",
     "data": {
      "text/plain": [
       "5.0"
      ]
     },
     "metadata": {},
     "execution_count": 47
    }
   ],
   "metadata": {}
  },
  {
   "cell_type": "markdown",
   "source": [
    "***\n",
    "<font color = green >\n",
    "\n",
    "## Other functions\n",
    "</font>"
   ],
   "metadata": {}
  },
  {
   "cell_type": "code",
   "execution_count": 48,
   "source": [
    "a = [1]*10 + list(range(10,15))\r\n",
    "print ('a=', a)\r\n",
    "print ('np.mean(a)=', np.mean(a))\r\n",
    "print ('np.std(a)=', np.std(a))\r\n",
    "print ('np.median(a)=', np.median(a))\r\n",
    "print ('np.sum(a)=', np.sum(a))\r\n",
    "print ('np.min(a)=', np.min(a))"
   ],
   "outputs": [
    {
     "output_type": "stream",
     "name": "stdout",
     "text": [
      "a= [1, 1, 1, 1, 1, 1, 1, 1, 1, 1, 10, 11, 12, 13, 14]\n",
      "np.mean(a)= 4.666666666666667\n",
      "np.std(a)= 5.2493385826745405\n",
      "np.median(a)= 1.0\n",
      "np.sum(a)= 70\n",
      "np.min(a)= 1\n"
     ]
    }
   ],
   "metadata": {}
  },
  {
   "cell_type": "code",
   "execution_count": 49,
   "source": [
    "a= np.arange(10)\r\n",
    "print (a)\r\n",
    "np.random.shuffle(a)\r\n",
    "print (a)"
   ],
   "outputs": [
    {
     "output_type": "stream",
     "name": "stdout",
     "text": [
      "[0 1 2 3 4 5 6 7 8 9]\n",
      "[7 3 2 5 0 4 9 8 1 6]\n"
     ]
    }
   ],
   "metadata": {}
  },
  {
   "cell_type": "code",
   "execution_count": 50,
   "source": [
    "from scipy import stats # To get all characteristic at once \r\n",
    "stats.describe(a)"
   ],
   "outputs": [
    {
     "output_type": "error",
     "ename": "ModuleNotFoundError",
     "evalue": "No module named 'scipy'",
     "traceback": [
      "\u001b[1;31m---------------------------------------------------------------------------\u001b[0m",
      "\u001b[1;31mModuleNotFoundError\u001b[0m                       Traceback (most recent call last)",
      "\u001b[1;32mC:\\Users\\HAVRYL~1.MYK\\AppData\\Local\\Temp/ipykernel_4404/2885193899.py\u001b[0m in \u001b[0;36m<module>\u001b[1;34m\u001b[0m\n\u001b[1;32m----> 1\u001b[1;33m \u001b[1;32mfrom\u001b[0m \u001b[0mscipy\u001b[0m \u001b[1;32mimport\u001b[0m \u001b[0mstats\u001b[0m \u001b[1;31m# To get all characteristic at once\u001b[0m\u001b[1;33m\u001b[0m\u001b[1;33m\u001b[0m\u001b[0m\n\u001b[0m\u001b[0;32m      2\u001b[0m \u001b[0mstats\u001b[0m\u001b[1;33m.\u001b[0m\u001b[0mdescribe\u001b[0m\u001b[1;33m(\u001b[0m\u001b[0ma\u001b[0m\u001b[1;33m)\u001b[0m\u001b[1;33m\u001b[0m\u001b[1;33m\u001b[0m\u001b[0m\n",
      "\u001b[1;31mModuleNotFoundError\u001b[0m: No module named 'scipy'"
     ]
    }
   ],
   "metadata": {}
  },
  {
   "cell_type": "markdown",
   "source": [
    "\n",
    "<font color = green >\n",
    "\n",
    "### Cumulative sum\n",
    "</font>"
   ],
   "metadata": {}
  },
  {
   "cell_type": "code",
   "execution_count": null,
   "source": [
    "a= np.array([[1,2,3], [4,5,6]])\r\n",
    "print (a)\r\n",
    "print  (np.cumsum(a)) # element wise by default \r\n",
    "print (np.cumsum(a,0)) # axis =0\r\n",
    "np.cumsum(a,1) # axis =1"
   ],
   "outputs": [
    {
     "output_type": "stream",
     "name": "stdout",
     "text": [
      "[[1 2 3]\n",
      " [4 5 6]]\n",
      "[ 1  3  6 10 15 21]\n",
      "[[1 2 3]\n",
      " [5 7 9]]\n"
     ]
    },
    {
     "output_type": "execute_result",
     "data": {
      "text/plain": [
       "array([[ 1,  3,  6],\n",
       "       [ 4,  9, 15]])"
      ]
     },
     "metadata": {},
     "execution_count": 101
    }
   ],
   "metadata": {}
  },
  {
   "cell_type": "markdown",
   "source": [
    "***\n",
    "<font color = green >\n",
    "\n",
    "## apply operations\n",
    "</font>"
   ],
   "metadata": {}
  },
  {
   "cell_type": "markdown",
   "source": [
    "<font color = green >\n",
    "\n",
    "### apply_along_axis \n",
    "</font>"
   ],
   "metadata": {}
  },
  {
   "cell_type": "code",
   "execution_count": null,
   "source": [
    "print (a)\r\n",
    "print ('\\n',np.apply_along_axis(np.sum,0,a)) # axis 0 , \r\n",
    "np.apply_along_axis(np.sum,1,a) # axis 1 "
   ],
   "outputs": [
    {
     "output_type": "stream",
     "name": "stdout",
     "text": [
      "[[1 2 3]\n",
      " [4 5 6]]\n",
      "\n",
      " [5 7 9]\n"
     ]
    },
    {
     "output_type": "execute_result",
     "data": {
      "text/plain": [
       "array([ 6, 15])"
      ]
     },
     "metadata": {},
     "execution_count": 104
    }
   ],
   "metadata": {}
  },
  {
   "cell_type": "markdown",
   "source": [
    "<font color = green >\n",
    "\n",
    "### vectorize\n",
    "</font>"
   ],
   "metadata": {}
  },
  {
   "cell_type": "code",
   "execution_count": null,
   "source": [
    "def func(x):\r\n",
    "    return x+1 if x%2 ==0 else -1"
   ],
   "outputs": [],
   "metadata": {}
  },
  {
   "cell_type": "code",
   "execution_count": null,
   "source": [
    "v_func = np.vectorize (func)\r\n",
    "print(v_func)\r\n",
    "v_func(a)"
   ],
   "outputs": [
    {
     "output_type": "execute_result",
     "data": {
      "text/plain": [
       "array([[-1,  3, -1],\n",
       "       [ 5, -1,  7]])"
      ]
     },
     "metadata": {},
     "execution_count": 106
    }
   ],
   "metadata": {}
  },
  {
   "cell_type": "markdown",
   "source": [
    "***\n",
    "<font color = green >\n",
    "\n",
    "## Random\n",
    "</font>"
   ],
   "metadata": {}
  },
  {
   "cell_type": "code",
   "execution_count": null,
   "source": [
    "import numpy as np\r\n",
    "a = np.random.randint(0,10, size= (3, 4)) # (low, high=None, size=None)\r\n",
    "a"
   ],
   "outputs": [
    {
     "output_type": "execute_result",
     "data": {
      "text/plain": [
       "array([[1, 4, 4, 1],\n",
       "       [9, 7, 9, 6],\n",
       "       [4, 7, 4, 9]])"
      ]
     },
     "metadata": {},
     "execution_count": 107
    }
   ],
   "metadata": {}
  },
  {
   "cell_type": "code",
   "execution_count": null,
   "source": [
    "np.random.randint(2, size = 10) # Note: is None (the default), then results are from [0, low)."
   ],
   "outputs": [
    {
     "output_type": "execute_result",
     "data": {
      "text/plain": [
       "array([0, 1, 0, 1, 0, 1, 0, 0, 0, 0])"
      ]
     },
     "metadata": {},
     "execution_count": 108
    }
   ],
   "metadata": {}
  },
  {
   "cell_type": "code",
   "execution_count": null,
   "source": [
    "np.random.randn(3,4) # normal distribution"
   ],
   "outputs": [
    {
     "output_type": "execute_result",
     "data": {
      "text/plain": [
       "array([[-0.9819667 , -0.84246593,  1.47018818, -1.57193339],\n",
       "       [ 0.66163001, -0.35027822, -1.06920965,  1.22018312],\n",
       "       [-1.24689962,  2.41314916, -0.38469438,  1.29889856]])"
      ]
     },
     "metadata": {},
     "execution_count": 109
    }
   ],
   "metadata": {}
  },
  {
   "cell_type": "code",
   "execution_count": null,
   "source": [
    "np.random.normal(loc=3, scale=4, size=(2,4)) # similar to randn but accepts more params "
   ],
   "outputs": [
    {
     "output_type": "execute_result",
     "data": {
      "text/plain": [
       "array([[ 5.78812433, -5.5764627 ,  5.54738382,  7.1681561 ],\n",
       "       [ 4.42813056,  1.11410942, -4.92056708,  0.46443009]])"
      ]
     },
     "metadata": {},
     "execution_count": 110
    }
   ],
   "metadata": {}
  },
  {
   "cell_type": "markdown",
   "source": [
    "\n",
    "<font color = green >\n",
    "\n",
    "### Sampling\n",
    "</font>"
   ],
   "metadata": {}
  },
  {
   "cell_type": "code",
   "execution_count": null,
   "source": [
    "pvals= [.5, .5] # (n, pvals, size=None)\n",
    "np.random.multinomial(1000, pvals, 3)  # n flips in each of \"size' samples "
   ],
   "outputs": [
    {
     "output_type": "execute_result",
     "data": {
      "text/plain": [
       "array([[495, 505],\n",
       "       [485, 515],\n",
       "       [502, 498]])"
      ]
     },
     "metadata": {},
     "execution_count": 123
    }
   ],
   "metadata": {}
  },
  {
   "cell_type": "code",
   "execution_count": null,
   "source": [
    "pvals= [.1, .3, .6] # (n, pvals, size=None)\n",
    "np.random.multinomial(1000, pvals, 5)"
   ],
   "outputs": [
    {
     "output_type": "execute_result",
     "data": {
      "text/plain": [
       "array([[ 99, 319, 582],\n",
       "       [ 96, 294, 610],\n",
       "       [103, 307, 590],\n",
       "       [ 93, 282, 625],\n",
       "       [ 94, 288, 618]])"
      ]
     },
     "metadata": {},
     "execution_count": 124
    }
   ],
   "metadata": {}
  },
  {
   "cell_type": "code",
   "execution_count": null,
   "source": [
    "np.random.multinomial(10, pvals, 1)"
   ],
   "outputs": [
    {
     "output_type": "execute_result",
     "data": {
      "text/plain": [
       "array([[1, 1, 8]])"
      ]
     },
     "metadata": {},
     "execution_count": 137
    }
   ],
   "metadata": {}
  },
  {
   "cell_type": "code",
   "execution_count": null,
   "source": [
    "pvals= [.1, .3, .6] # (n, pvals, size=None)\n",
    "np.sum(np.random.multinomial(1, pvals, 1000), axis= 0) # the same as  np.random.multinomial(1000, pvals, 1)"
   ],
   "outputs": [
    {
     "output_type": "execute_result",
     "data": {
      "text/plain": [
       "array([120, 291, 589])"
      ]
     },
     "metadata": {},
     "execution_count": 133
    }
   ],
   "metadata": {}
  },
  {
   "cell_type": "code",
   "execution_count": null,
   "source": [
    "a = np.random.randint(0,10, size= (3, 4)) # (low, high=None, size=None)\n",
    "print (a)\n",
    "np.random.shuffle(a) # Note: inplace operation\n",
    "a"
   ],
   "outputs": [
    {
     "output_type": "stream",
     "name": "stdout",
     "text": [
      "[[7 7 6 4]\n",
      " [5 8 0 2]\n",
      " [6 7 5 6]]\n"
     ]
    },
    {
     "output_type": "execute_result",
     "data": {
      "text/plain": [
       "array([[7, 7, 6, 4],\n",
       "       [6, 7, 5, 6],\n",
       "       [5, 8, 0, 2]])"
      ]
     },
     "metadata": {},
     "execution_count": 140
    }
   ],
   "metadata": {}
  },
  {
   "cell_type": "code",
   "execution_count": null,
   "source": [
    "b = np.random.permutation(a)  # Alternative not-inplace  operation for shuffle \n",
    "b"
   ],
   "outputs": [
    {
     "output_type": "execute_result",
     "data": {
      "text/plain": [
       "array([[5, 8, 0, 2],\n",
       "       [6, 7, 5, 6],\n",
       "       [7, 7, 6, 4]])"
      ]
     },
     "metadata": {},
     "execution_count": 141
    }
   ],
   "metadata": {}
  },
  {
   "cell_type": "code",
   "execution_count": null,
   "source": [
    "np.random.permutation(7) # for integer np.random.shuffle(np.arange(n))"
   ],
   "outputs": [
    {
     "output_type": "execute_result",
     "data": {
      "text/plain": [
       "array([4, 0, 2, 3, 6, 1, 5])"
      ]
     },
     "metadata": {},
     "execution_count": 144
    }
   ],
   "metadata": {}
  },
  {
   "cell_type": "code",
   "execution_count": null,
   "source": [
    "np.random.seed(1) # to get the same sequence of random values \n",
    "\n",
    "print (np.random.permutation(5))\n",
    "print (np.random.permutation(5))\n",
    "np.random.seed(1) # \n",
    "print (np.random.permutation(5))\n",
    "print (np.random.permutation(5))"
   ],
   "outputs": [
    {
     "output_type": "stream",
     "name": "stdout",
     "text": [
      "[2 1 4 0 3]\n",
      "[0 2 4 3 1]\n",
      "[2 1 4 0 3]\n",
      "[0 2 4 3 1]\n"
     ]
    }
   ],
   "metadata": {}
  },
  {
   "cell_type": "markdown",
   "source": [
    "<font color = green >\n",
    "\n",
    "### Learn more\n",
    "</font>\n",
    "\n",
    "NumPy Reference\n",
    "<br>https://docs.scipy.org/doc/numpy-1.13.0/reference/\n",
    "<br>Numpy cheat sheet\n",
    "<br>https://s3.amazonaws.com/assets.datacamp.com/blog_assets/Numpy_Python_Cheat_Sheet.pdf\n",
    "\n",
    "\n",
    "\n",
    "\n"
   ],
   "metadata": {}
  },
  {
   "cell_type": "markdown",
   "source": [
    "# Home task \n",
    "\n",
    "## Task about sum and product "
   ],
   "metadata": {}
  },
  {
   "cell_type": "markdown",
   "source": [
    "```\n",
    "There are two whole numbers:\n",
    "1 < a,b <100\n",
    "\n",
    "One scientist(\"Sum\") get provided with sum of numbers,\n",
    "another  (\"Prod\") get provided with product of numbers. \n",
    "Both scientists know that numbers 1 < a,b <100.\n",
    "\n",
    "Determine the numbers being based on the following dialog: \n",
    "    Prod: I don't know the numbers;\n",
    "    Sum: I know it;\n",
    "    Prod: then I know the numbers; \n",
    "    Sum: then I know the numbers too.\n",
    "```"
   ],
   "metadata": {}
  },
  {
   "cell_type": "markdown",
   "source": [
    "Next: lesson_3_part_pandas.ipynb"
   ],
   "metadata": {}
  }
 ],
 "metadata": {
  "kernelspec": {
   "name": "python3",
   "display_name": "Python 3.9.0 64-bit ('venv': venv)"
  },
  "language_info": {
   "codemirror_mode": {
    "name": "ipython",
    "version": 3
   },
   "file_extension": ".py",
   "mimetype": "text/x-python",
   "name": "python",
   "nbconvert_exporter": "python",
   "pygments_lexer": "ipython3",
   "version": "3.9.0"
  },
  "interpreter": {
   "hash": "8e2a7fb434ed4dfcf926eef4e2e850bbdaed7e075bee24074b76d2223a200d95"
  }
 },
 "nbformat": 4,
 "nbformat_minor": 2
}